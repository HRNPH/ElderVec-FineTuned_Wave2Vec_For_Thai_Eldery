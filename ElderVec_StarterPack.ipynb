{
  "cells": [
    {
      "cell_type": "markdown",
      "metadata": {
        "id": "view-in-github",
        "colab_type": "text"
      },
      "source": [
        "<a href=\"https://colab.research.google.com/github/HRNPH/ElderVec-FineTuned_Wave2Vec_For_Thai_Eldery/blob/main/ElderVec_StarterPack.ipynb\" target=\"_parent\"><img src=\"https://colab.research.google.com/assets/colab-badge.svg\" alt=\"Open In Colab\"/></a>"
      ]
    },
    {
      "cell_type": "markdown",
      "metadata": {
        "id": "rEH5r3weig4Z"
      },
      "source": [
        "# Get-Started\n",
        "Load-Datasets"
      ]
    },
    {
      "cell_type": "code",
      "execution_count": 1,
      "metadata": {
        "colab": {
          "base_uri": "https://localhost:8080/"
        },
        "id": "skDEXxjQ5YSP",
        "outputId": "281d46c4-f217-4d5f-f6fa-224786966edc"
      },
      "outputs": [
        {
          "output_type": "stream",
          "name": "stdout",
          "text": [
            "Reading package lists... Done\n",
            "Building dependency tree       \n",
            "Reading state information... Done\n",
            "wget is already the newest version (1.19.4-1ubuntu2.2).\n",
            "The following package was automatically installed and is no longer required:\n",
            "  libnvidia-common-460\n",
            "Use 'apt autoremove' to remove it.\n",
            "0 upgraded, 0 newly installed, 0 to remove and 56 not upgraded.\n"
          ]
        }
      ],
      "source": [
        "!apt-get install wget"
      ]
    },
    {
      "cell_type": "code",
      "execution_count": 2,
      "metadata": {
        "colab": {
          "base_uri": "https://localhost:8080/"
        },
        "id": "Xdjpz7OA4AK7",
        "outputId": "3e467fc9-8a6e-4ff1-cbeb-fe0a0ca3558e"
      },
      "outputs": [
        {
          "output_type": "stream",
          "name": "stdout",
          "text": [
            "Downloading Dataset....\n",
            "1/3...\n",
            "Dataset.zip.001     100%[===================>]   1.88G  6.25MB/s    in 4m 6s   \n",
            "2/3...\n",
            "Dataset.zip.002     100%[===================>]   1.88G  14.6MB/s    in 1m 57s  \n",
            "3/3...\n",
            "Dataset.zip.003     100%[===================>] 997.05M  7.78MB/s    in 94s     \n",
            "Merging...\n",
            "Extracting...\n",
            "\n",
            "7-Zip [64] 16.02 : Copyright (c) 1999-2016 Igor Pavlov : 2016-05-21\n",
            "p7zip Version 16.02 (locale=en_US.UTF-8,Utf16=on,HugeFiles=on,64 bits,4 CPUs Intel(R) Xeon(R) CPU @ 2.20GHz (406F0),ASM,AES-NI)\n",
            "\n",
            "Scanning the drive for archives:\n",
            "  0M Scan\b\b\b\b\b\b\b\b\b         \b\b\b\b\b\b\b\b\b1 file, 5072015199 bytes (4838 MiB)\n",
            "\n",
            "Extracting archive: Dataset.zip\n",
            " 10% 4096 Open\b\b\b\b\b\b\b\b\b\b\b\b\b\b              \b\b\b\b\b\b\b\b\b\b\b\b\b\b--\n",
            "Path = Dataset.zip\n",
            "Type = zip\n",
            "Physical Size = 5072015199\n",
            "64-bit = +\n",
            "\n",
            "  0%\b\b\b\b    \b\b\b\b  0% 798 - Dataset/Healthcare/Record/._record_healthcare_7000018_2431.wav\b\b\b\b\b\b\b\b\b\b\b\b\b\b\b\b\b\b\b\b\b\b\b\b\b\b\b\b\b\b\b\b\b\b\b\b\b\b\b\b\b\b\b\b\b\b\b\b\b\b\b\b\b\b\b\b\b\b\b\b\b\b\b\b\b\b\b\b\b\b\b\b\b                                                                         \b\b\b\b\b\b\b\b\b\b\b\b\b\b\b\b\b\b\b\b\b\b\b\b\b\b\b\b\b\b\b\b\b\b\b\b\b\b\b\b\b\b\b\b\b\b\b\b\b\b\b\b\b\b\b\b\b\b\b\b\b\b\b\b\b\b\b\b\b\b\b\b\b  0% 1203 - Dataset/Healthcare/Record/._record_healthcare_7000019_974.wav\b\b\b\b\b\b\b\b\b\b\b\b\b\b\b\b\b\b\b\b\b\b\b\b\b\b\b\b\b\b\b\b\b\b\b\b\b\b\b\b\b\b\b\b\b\b\b\b\b\b\b\b\b\b\b\b\b\b\b\b\b\b\b\b\b\b\b\b\b\b\b\b\b                                                                         \b\b\b\b\b\b\b\b\b\b\b\b\b\b\b\b\b\b\b\b\b\b\b\b\b\b\b\b\b\b\b\b\b\b\b\b\b\b\b\b\b\b\b\b\b\b\b\b\b\b\b\b\b\b\b\b\b\b\b\b\b\b\b\b\b\b\b\b\b\b\b\b\b  0% 1519 - Dataset/Healthcare/Record/._record_healthcare_7000021_1084.wav\b\b\b\b\b\b\b\b\b\b\b\b\b\b\b\b\b\b\b\b\b\b\b\b\b\b\b\b\b\b\b\b\b\b\b\b\b\b\b\b\b\b\b\b\b\b\b\b\b\b\b\b\b\b\b\b\b\b\b\b\b\b\b\b\b\b\b\b\b\b\b\b\b\b                                                                          \b\b\b\b\b\b\b\b\b\b\b\b\b\b\b\b\b\b\b\b\b\b\b\b\b\b\b\b\b\b\b\b\b\b\b\b\b\b\b\b\b\b\b\b\b\b\b\b\b\b\b\b\b\b\b\b\b\b\b\b\b\b\b\b\b\b\b\b\b\b\b\b\b\b  0% 1787 - Dataset/Healthcare/Record/._record_healthcare_7000021_846.wav\b\b\b\b\b\b\b\b\b\b\b\b\b\b\b\b\b\b\b\b\b\b\b\b\b\b\b\b\b\b\b\b\b\b\b\b\b\b\b\b\b\b\b\b\b\b\b\b\b\b\b\b\b\b\b\b\b\b\b\b\b\b\b\b\b\b\b\b\b\b\b\b\b                                                                         \b\b\b\b\b\b\b\b\b\b\b\b\b\b\b\b\b\b\b\b\b\b\b\b\b\b\b\b\b\b\b\b\b\b\b\b\b\b\b\b\b\b\b\b\b\b\b\b\b\b\b\b\b\b\b\b\b\b\b\b\b\b\b\b\b\b\b\b\b\b\b\b\b  0% 2030 - Dataset/Healthcare/Record/._record_healthcare_7000022_53.wav\b\b\b\b\b\b\b\b\b\b\b\b\b\b\b\b\b\b\b\b\b\b\b\b\b\b\b\b\b\b\b\b\b\b\b\b\b\b\b\b\b\b\b\b\b\b\b\b\b\b\b\b\b\b\b\b\b\b\b\b\b\b\b\b\b\b\b\b\b\b\b\b                                                                        \b\b\b\b\b\b\b\b\b\b\b\b\b\b\b\b\b\b\b\b\b\b\b\b\b\b\b\b\b\b\b\b\b\b\b\b\b\b\b\b\b\b\b\b\b\b\b\b\b\b\b\b\b\b\b\b\b\b\b\b\b\b\b\b\b\b\b\b\b\b\b\b  0% 2249 - Dataset/Healthcare/Record/._record_healthcare_7000023_2036.wav\b\b\b\b\b\b\b\b\b\b\b\b\b\b\b\b\b\b\b\b\b\b\b\b\b\b\b\b\b\b\b\b\b\b\b\b\b\b\b\b\b\b\b\b\b\b\b\b\b\b\b\b\b\b\b\b\b\b\b\b\b\b\b\b\b\b\b\b\b\b\b\b\b\b                                                                          \b\b\b\b\b\b\b\b\b\b\b\b\b\b\b\b\b\b\b\b\b\b\b\b\b\b\b\b\b\b\b\b\b\b\b\b\b\b\b\b\b\b\b\b\b\b\b\b\b\b\b\b\b\b\b\b\b\b\b\b\b\b\b\b\b\b\b\b\b\b\b\b\b\b  0% 2446 - Dataset/Healthcare/Record/._record_healthcare_7000025_1289.wav\b\b\b\b\b\b\b\b\b\b\b\b\b\b\b\b\b\b\b\b\b\b\b\b\b\b\b\b\b\b\b\b\b\b\b\b\b\b\b\b\b\b\b\b\b\b\b\b\b\b\b\b\b\b\b\b\b\b\b\b\b\b\b\b\b\b\b\b\b\b\b\b\b\b                                                                          \b\b\b\b\b\b\b\b\b\b\b\b\b\b\b\b\b\b\b\b\b\b\b\b\b\b\b\b\b\b\b\b\b\b\b\b\b\b\b\b\b\b\b\b\b\b\b\b\b\b\b\b\b\b\b\b\b\b\b\b\b\b\b\b\b\b\b\b\b\b\b\b\b\b  0% 2634 - Dataset/Healthcare/Record/._record_healthcare_7000025_478.wav\b\b\b\b\b\b\b\b\b\b\b\b\b\b\b\b\b\b\b\b\b\b\b\b\b\b\b\b\b\b\b\b\b\b\b\b\b\b\b\b\b\b\b\b\b\b\b\b\b\b\b\b\b\b\b\b\b\b\b\b\b\b\b\b\b\b\b\b\b\b\b\b\b                                                                         \b\b\b\b\b\b\b\b\b\b\b\b\b\b\b\b\b\b\b\b\b\b\b\b\b\b\b\b\b\b\b\b\b\b\b\b\b\b\b\b\b\b\b\b\b\b\b\b\b\b\b\b\b\b\b\b\b\b\b\b\b\b\b\b\b\b\b\b\b\b\b\b\b  0% 2811 - Dataset/Healthcare/Record/._record_healthcare_7000026_1816.wav\b\b\b\b\b\b\b\b\b\b\b\b\b\b\b\b\b\b\b\b\b\b\b\b\b\b\b\b\b\b\b\b\b\b\b\b\b\b\b\b\b\b\b\b\b\b\b\b\b\b\b\b\b\b\b\b\b\b\b\b\b\b\b\b\b\b\b\b\b\b\b\b\b\b                                                                          \b\b\b\b\b\b\b\b\b\b\b\b\b\b\b\b\b\b\b\b\b\b\b\b\b\b\b\b\b\b\b\b\b\b\b\b\b\b\b\b\b\b\b\b\b\b\b\b\b\b\b\b\b\b\b\b\b\b\b\b\b\b\b\b\b\b\b\b\b\b\b\b\b\b  0% 2977 - Dataset/Healthcare/Record/._record_healthcare_7000026_775.wav\b\b\b\b\b\b\b\b\b\b\b\b\b\b\b\b\b\b\b\b\b\b\b\b\b\b\b\b\b\b\b\b\b\b\b\b\b\b\b\b\b\b\b\b\b\b\b\b\b\b\b\b\b\b\b\b\b\b\b\b\b\b\b\b\b\b\b\b\b\b\b\b\b                                                                         \b\b\b\b\b\b\b\b\b\b\b\b\b\b\b\b\b\b\b\b\b\b\b\b\b\b\b\b\b\b\b\b\b\b\b\b\b\b\b\b\b\b\b\b\b\b\b\b\b\b\b\b\b\b\b\b\b\b\b\b\b\b\b\b\b\b\b\b\b\b\b\b\b  0% 3135 - Dataset/Healthcare/Record/._record_healthcare_7000027_1939.wav\b\b\b\b\b\b\b\b\b\b\b\b\b\b\b\b\b\b\b\b\b\b\b\b\b\b\b\b\b\b\b\b\b\b\b\b\b\b\b\b\b\b\b\b\b\b\b\b\b\b\b\b\b\b\b\b\b\b\b\b\b\b\b\b\b\b\b\b\b\b\b\b\b\b                                                                          \b\b\b\b\b\b\b\b\b\b\b\b\b\b\b\b\b\b\b\b\b\b\b\b\b\b\b\b\b\b\b\b\b\b\b\b\b\b\b\b\b\b\b\b\b\b\b\b\b\b\b\b\b\b\b\b\b\b\b\b\b\b\b\b\b\b\b\b\b\b\b\b\b\b  0% 3284 - Dataset/Healthcare/Record/._record_healthcare_7000027_868.wav\b\b\b\b\b\b\b\b\b\b\b\b\b\b\b\b\b\b\b\b\b\b\b\b\b\b\b\b\b\b\b\b\b\b\b\b\b\b\b\b\b\b\b\b\b\b\b\b\b\b\b\b\b\b\b\b\b\b\b\b\b\b\b\b\b\b\b\b\b\b\b\b\b                                                                         \b\b\b\b\b\b\b\b\b\b\b\b\b\b\b\b\b\b\b\b\b\b\b\b\b\b\b\b\b\b\b\b\b\b\b\b\b\b\b\b\b\b\b\b\b\b\b\b\b\b\b\b\b\b\b\b\b\b\b\b\b\b\b\b\b\b\b\b\b\b\b\b\b  0% 3429 - Dataset/Healthcare/Record/._record_healthcare_7000028_1911.wav\b\b\b\b\b\b\b\b\b\b\b\b\b\b\b\b\b\b\b\b\b\b\b\b\b\b\b\b\b\b\b\b\b\b\b\b\b\b\b\b\b\b\b\b\b\b\b\b\b\b\b\b\b\b\b\b\b\b\b\b\b\b\b\b\b\b\b\b\b\b\b\b\b\b                                                                          \b\b\b\b\b\b\b\b\b\b\b\b\b\b\b\b\b\b\b\b\b\b\b\b\b\b\b\b\b\b\b\b\b\b\b\b\b\b\b\b\b\b\b\b\b\b\b\b\b\b\b\b\b\b\b\b\b\b\b\b\b\b\b\b\b\b\b\b\b\b\b\b\b\b  0% 3566 - Dataset/Healthcare/Record/._record_healthcare_7000028_666.wav\b\b\b\b\b\b\b\b\b\b\b\b\b\b\b\b\b\b\b\b\b\b\b\b\b\b\b\b\b\b\b\b\b\b\b\b\b\b\b\b\b\b\b\b\b\b\b\b\b\b\b\b\b\b\b\b\b\b\b\b\b\b\b\b\b\b\b\b\b\b\b\b\b                                                                         \b\b\b\b\b\b\b\b\b\b\b\b\b\b\b\b\b\b\b\b\b\b\b\b\b\b\b\b\b\b\b\b\b\b\b\b\b\b\b\b\b\b\b\b\b\b\b\b\b\b\b\b\b\b\b\b\b\b\b\b\b\b\b\b\b\b\b\b\b\b\b\b\b  0% 3701 - Dataset/Healthcare/Record/._record_healthcare_7000029_1658.wav\b\b\b\b\b\b\b\b\b\b\b\b\b\b\b\b\b\b\b\b\b\b\b\b\b\b\b\b\b\b\b\b\b\b\b\b\b\b\b\b\b\b\b\b\b\b\b\b\b\b\b\b\b\b\b\b\b\b\b\b\b\b\b\b\b\b\b\b\b\b\b\b\b\b                                                                          \b\b\b\b\b\b\b\b\b\b\b\b\b\b\b\b\b\b\b\b\b\b\b\b\b\b\b\b\b\b\b\b\b\b\b\b\b\b\b\b\b\b\b\b\b\b\b\b\b\b\b\b\b\b\b\b\b\b\b\b\b\b\b\b\b\b\b\b\b\b\b\b\b\b  0% 3832 - Dataset/Healthcare/Record/._record_healthcare_7000029_442.wav\b\b\b\b\b\b\b\b\b\b\b\b\b\b\b\b\b\b\b\b\b\b\b\b\b\b\b\b\b\b\b\b\b\b\b\b\b\b\b\b\b\b\b\b\b\b\b\b\b\b\b\b\b\b\b\b\b\b\b\b\b\b\b\b\b\b\b\b\b\b\b\b\b                                                                         \b\b\b\b\b\b\b\b\b\b\b\b\b\b\b\b\b\b\b\b\b\b\b\b\b\b\b\b\b\b\b\b\b\b\b\b\b\b\b\b\b\b\b\b\b\b\b\b\b\b\b\b\b\b\b\b\b\b\b\b\b\b\b\b\b\b\b\b\b\b\b\b\b  0% 3959 - Dataset/Healthcare/Record/._record_healthcare_7000031_140.wav\b\b\b\b\b\b\b\b\b\b\b\b\b\b\b\b\b\b\b\b\b\b\b\b\b\b\b\b\b\b\b\b\b\b\b\b\b\b\b\b\b\b\b\b\b\b\b\b\b\b\b\b\b\b\b\b\b\b\b\b\b\b\b\b\b\b\b\b\b\b\b\b\b                                                                         \b\b\b\b\b\b\b\b\b\b\b\b\b\b\b\b\b\b\b\b\b\b\b\b\b\b\b\b\b\b\b\b\b\b\b\b\b\b\b\b\b\b\b\b\b\b\b\b\b\b\b\b\b\b\b\b\b\b\b\b\b\b\b\b\b\b\b\b\b\b\b\b\b  0% 4079 - Dataset/Healthcare/Record/._record_healthcare_7000031_2293.wav\b\b\b\b\b\b\b\b\b\b\b\b\b\b\b\b\b\b\b\b\b\b\b\b\b\b\b\b\b\b\b\b\b\b\b\b\b\b\b\b\b\b\b\b\b\b\b\b\b\b\b\b\b\b\b\b\b\b\b\b\b\b\b\b\b\b\b\b\b\b\b\b\b\b                                                                          \b\b\b\b\b\b\b\b\b\b\b\b\b\b\b\b\b\b\b\b\b\b\b\b\b\b\b\b\b\b\b\b\b\b\b\b\b\b\b\b\b\b\b\b\b\b\b\b\b\b\b\b\b\b\b\b\b\b\b\b\b\b\b\b\b\b\b\b\b\b\b\b\b\b  0% 4194 - Dataset/Healthcare/Record/._record_healthcare_7000031_893.wav\b\b\b\b\b\b\b\b\b\b\b\b\b\b\b\b\b\b\b\b\b\b\b\b\b\b\b\b\b\b\b\b\b\b\b\b\b\b\b\b\b\b\b\b\b\b\b\b\b\b\b\b\b\b\b\b\b\b\b\b\b\b\b\b\b\b\b\b\b\b\b\b\b                                                                         \b\b\b\b\b\b\b\b\b\b\b\b\b\b\b\b\b\b\b\b\b\b\b\b\b\b\b\b\b\b\b\b\b\b\b\b\b\b\b\b\b\b\b\b\b\b\b\b\b\b\b\b\b\b\b\b\b\b\b\b\b\b\b\b\b\b\b\b\b\b\b\b\b  0% 4307 - Dataset/Healthcare/Record/._record_healthcare_7000032_1768.wav\b\b\b\b\b\b\b\b\b\b\b\b\b\b\b\b\b\b\b\b\b\b\b\b\b\b\b\b\b\b\b\b\b\b\b\b\b\b\b\b\b\b\b\b\b\b\b\b\b\b\b\b\b\b\b\b\b\b\b\b\b\b\b\b\b\b\b\b\b\b\b\b\b\b                                                                          \b\b\b\b\b\b\b\b\b\b\b\b\b\b\b\b\b\b\b\b\b\b\b\b\b\b\b\b\b\b\b\b\b\b\b\b\b\b\b\b\b\b\b\b\b\b\b\b\b\b\b\b\b\b\b\b\b\b\b\b\b\b\b\b\b\b\b\b\b\b\b\b\b\b  0% 4422 - Dataset/Healthcare/Record/._record_healthcare_7000032_368.wav\b\b\b\b\b\b\b\b\b\b\b\b\b\b\b\b\b\b\b\b\b\b\b\b\b\b\b\b\b\b\b\b\b\b\b\b\b\b\b\b\b\b\b\b\b\b\b\b\b\b\b\b\b\b\b\b\b\b\b\b\b\b\b\b\b\b\b\b\b\b\b\b\b                                                                         \b\b\b\b\b\b\b\b\b\b\b\b\b\b\b\b\b\b\b\b\b\b\b\b\b\b\b\b\b\b\b\b\b\b\b\b\b\b\b\b\b\b\b\b\b\b\b\b\b\b\b\b\b\b\b\b\b\b\b\b\b\b\b\b\b\b\b\b\b\b\b\b\b  0% 4532 - Dataset/Healthcare/Record/._record_healthcare_7000033_1189.wav\b\b\b\b\b\b\b\b\b\b\b\b\b\b\b\b\b\b\b\b\b\b\b\b\b\b\b\b\b\b\b\b\b\b\b\b\b\b\b\b\b\b\b\b\b\b\b\b\b\b\b\b\b\b\b\b\b\b\b\b\b\b\b\b\b\b\b\b\b\b\b\b\b\b                                                                          \b\b\b\b\b\b\b\b\b\b\b\b\b\b\b\b\b\b\b\b\b\b\b\b\b\b\b\b\b\b\b\b\b\b\b\b\b\b\b\b\b\b\b\b\b\b\b\b\b\b\b\b\b\b\b\b\b\b\b\b\b\b\b\b\b\b\b\b\b\b\b\b\b\b  0% 4640 - Dataset/Healthcare/Record/._record_healthcare_7000033_1941.wav\b\b\b\b\b\b\b\b\b\b\b\b\b\b\b\b\b\b\b\b\b\b\b\b\b\b\b\b\b\b\b\b\b\b\b\b\b\b\b\b\b\b\b\b\b\b\b\b\b\b\b\b\b\b\b\b\b\b\b\b\b\b\b\b\b\b\b\b\b\b\b\b\b\b                                                                          \b\b\b\b\b\b\b\b\b\b\b\b\b\b\b\b\b\b\b\b\b\b\b\b\b\b\b\b\b\b\b\b\b\b\b\b\b\b\b\b\b\b\b\b\b\b\b\b\b\b\b\b\b\b\b\b\b\b\b\b\b\b\b\b\b\b\b\b\b\b\b\b\b\b  0% 4745 - Dataset/Healthcare/Record/._record_healthcare_7000033_560.wav\b\b\b\b\b\b\b\b\b\b\b\b\b\b\b\b\b\b\b\b\b\b\b\b\b\b\b\b\b\b\b\b\b\b\b\b\b\b\b\b\b\b\b\b\b\b\b\b\b\b\b\b\b\b\b\b\b\b\b\b\b\b\b\b\b\b\b\b\b\b\b\b\b                                                                         \b\b\b\b\b\b\b\b\b\b\b\b\b\b\b\b\b\b\b\b\b\b\b\b\b\b\b\b\b\b\b\b\b\b\b\b\b\b\b\b\b\b\b\b\b\b\b\b\b\b\b\b\b\b\b\b\b\b\b\b\b\b\b\b\b\b\b\b\b\b\b\b\b  0% 4849 - Dataset/Healthcare/Record/._record_healthcare_7000034_1378.wav\b\b\b\b\b\b\b\b\b\b\b\b\b\b\b\b\b\b\b\b\b\b\b\b\b\b\b\b\b\b\b\b\b\b\b\b\b\b\b\b\b\b\b\b\b\b\b\b\b\b\b\b\b\b\b\b\b\b\b\b\b\b\b\b\b\b\b\b\b\b\b\b\b\b                                                                          \b\b\b\b\b\b\b\b\b\b\b\b\b\b\b\b\b\b\b\b\b\b\b\b\b\b\b\b\b\b\b\b\b\b\b\b\b\b\b\b\b\b\b\b\b\b\b\b\b\b\b\b\b\b\b\b\b\b\b\b\b\b\b\b\b\b\b\b\b\b\b\b\b\b  0% 4950 - Dataset/Healthcare/Record/._record_healthcare_7000034_2079.wav\b\b\b\b\b\b\b\b\b\b\b\b\b\b\b\b\b\b\b\b\b\b\b\b\b\b\b\b\b\b\b\b\b\b\b\b\b\b\b\b\b\b\b\b\b\b\b\b\b\b\b\b\b\b\b\b\b\b\b\b\b\b\b\b\b\b\b\b\b\b\b\b\b\b                                                                          \b\b\b\b\b\b\b\b\b\b\b\b\b\b\b\b\b\b\b\b\b\b\b\b\b\b\b\b\b\b\b\b\b\b\b\b\b\b\b\b\b\b\b\b\b\b\b\b\b\b\b\b\b\b\b\b\b\b\b\b\b\b\b\b\b\b\b\b\b\b\b\b\b\b  0% 5050 - Dataset/Healthcare/Record/._record_healthcare_7000034_555.wav\b\b\b\b\b\b\b\b\b\b\b\b\b\b\b\b\b\b\b\b\b\b\b\b\b\b\b\b\b\b\b\b\b\b\b\b\b\b\b\b\b\b\b\b\b\b\b\b\b\b\b\b\b\b\b\b\b\b\b\b\b\b\b\b\b\b\b\b\b\b\b\b\b                                                                         \b\b\b\b\b\b\b\b\b\b\b\b\b\b\b\b\b\b\b\b\b\b\b\b\b\b\b\b\b\b\b\b\b\b\b\b\b\b\b\b\b\b\b\b\b\b\b\b\b\b\b\b\b\b\b\b\b\b\b\b\b\b\b\b\b\b\b\b\b\b\b\b\b  0% 5146 - Dataset/Healthcare/Record/._record_healthcare_7000035_1237.wav\b\b\b\b\b\b\b\b\b\b\b\b\b\b\b\b\b\b\b\b\b\b\b\b\b\b\b\b\b\b\b\b\b\b\b\b\b\b\b\b\b\b\b\b\b\b\b\b\b\b\b\b\b\b\b\b\b\b\b\b\b\b\b\b\b\b\b\b\b\b\b\b\b\b                                                                          \b\b\b\b\b\b\b\b\b\b\b\b\b\b\b\b\b\b\b\b\b\b\b\b\b\b\b\b\b\b\b\b\b\b\b\b\b\b\b\b\b\b\b\b\b\b\b\b\b\b\b\b\b\b\b\b\b\b\b\b\b\b\b\b\b\b\b\b\b\b\b\b\b\b  0% 5242 - Dataset/Healthcare/Record/._record_healthcare_7000035_2011.wav\b\b\b\b\b\b\b\b\b\b\b\b\b\b\b\b\b\b\b\b\b\b\b\b\b\b\b\b\b\b\b\b\b\b\b\b\b\b\b\b\b\b\b\b\b\b\b\b\b\b\b\b\b\b\b\b\b\b\b\b\b\b\b\b\b\b\b\b\b\b\b\b\b\b                                                                          \b\b\b\b\b\b\b\b\b\b\b\b\b\b\b\b\b\b\b\b\b\b\b\b\b\b\b\b\b\b\b\b\b\b\b\b\b\b\b\b\b\b\b\b\b\b\b\b\b\b\b\b\b\b\b\b\b\b\b\b\b\b\b\b\b\b\b\b\b\b\b\b\b\b  0% 5336 - Dataset/Healthcare/Record/._record_healthcare_7000035_41.wav\b\b\b\b\b\b\b\b\b\b\b\b\b\b\b\b\b\b\b\b\b\b\b\b\b\b\b\b\b\b\b\b\b\b\b\b\b\b\b\b\b\b\b\b\b\b\b\b\b\b\b\b\b\b\b\b\b\b\b\b\b\b\b\b\b\b\b\b\b\b\b\b                                                                        \b\b\b\b\b\b\b\b\b\b\b\b\b\b\b\b\b\b\b\b\b\b\b\b\b\b\b\b\b\b\b\b\b\b\b\b\b\b\b\b\b\b\b\b\b\b\b\b\b\b\b\b\b\b\b\b\b\b\b\b\b\b\b\b\b\b\b\b\b\b\b\b  0% 5430 - Dataset/Healthcare/Record/._record_healthcare_7000036_1172.wav\b\b\b\b\b\b\b\b\b\b\b\b\b\b\b\b\b\b\b\b\b\b\b\b\b\b\b\b\b\b\b\b\b\b\b\b\b\b\b\b\b\b\b\b\b\b\b\b\b\b\b\b\b\b\b\b\b\b\b\b\b\b\b\b\b\b\b\b\b\b\b\b\b\b                                                                          \b\b\b\b\b\b\b\b\b\b\b\b\b\b\b\b\b\b\b\b\b\b\b\b\b\b\b\b\b\b\b\b\b\b\b\b\b\b\b\b\b\b\b\b\b\b\b\b\b\b\b\b\b\b\b\b\b\b\b\b\b\b\b\b\b\b\b\b\b\b\b\b\b\b  0% 5521 - Dataset/Healthcare/Record/._record_healthcare_7000036_1867.wav\b\b\b\b\b\b\b\b\b\b\b\b\b\b\b\b\b\b\b\b\b\b\b\b\b\b\b\b\b\b\b\b\b\b\b\b\b\b\b\b\b\b\b\b\b\b\b\b\b\b\b\b\b\b\b\b\b\b\b\b\b\b\b\b\b\b\b\b\b\b\b\b\b\b                                                                          \b\b\b\b\b\b\b\b\b\b\b\b\b\b\b\b\b\b\b\b\b\b\b\b\b\b\b\b\b\b\b\b\b\b\b\b\b\b\b\b\b\b\b\b\b\b\b\b\b\b\b\b\b\b\b\b\b\b\b\b\b\b\b\b\b\b\b\b\b\b\b\b\b\b  0% 5611 - Dataset/Healthcare/Record/._record_healthcare_7000036_2453.wav\b\b\b\b\b\b\b\b\b\b\b\b\b\b\b\b\b\b\b\b\b\b\b\b\b\b\b\b\b\b\b\b\b\b\b\b\b\b\b\b\b\b\b\b\b\b\b\b\b\b\b\b\b\b\b\b\b\b\b\b\b\b\b\b\b\b\b\b\b\b\b\b\b\b                                                                          \b\b\b\b\b\b\b\b\b\b\b\b\b\b\b\b\b\b\b\b\b\b\b\b\b\b\b\b\b\b\b\b\b\b\b\b\b\b\b\b\b\b\b\b\b\b\b\b\b\b\b\b\b\b\b\b\b\b\b\b\b\b\b\b\b\b\b\b\b\b\b\b\b\b  0% 5699 - Dataset/Healthcare/Record/._record_healthcare_7000036_960.wav\b\b\b\b\b\b\b\b\b\b\b\b\b\b\b\b\b\b\b\b\b\b\b\b\b\b\b\b\b\b\b\b\b\b\b\b\b\b\b\b\b\b\b\b\b\b\b\b\b\b\b\b\b\b\b\b\b\b\b\b\b\b\b\b\b\b\b\b\b\b\b\b\b                                                                         \b\b\b\b\b\b\b\b\b\b\b\b\b\b\b\b\b\b\b\b\b\b\b\b\b\b\b\b\b\b\b\b\b\b\b\b\b\b\b\b\b\b\b\b\b\b\b\b\b\b\b\b\b\b\b\b\b\b\b\b\b\b\b\b\b\b\b\b\b\b\b\b\b  0% 5787 - Dataset/Healthcare/Record/._record_healthcare_7000037_1570.wav\b\b\b\b\b\b\b\b\b\b\b\b\b\b\b\b\b\b\b\b\b\b\b\b\b\b\b\b\b\b\b\b\b\b\b\b\b\b\b\b\b\b\b\b\b\b\b\b\b\b\b\b\b\b\b\b\b\b\b\b\b\b\b\b\b\b\b\b\b\b\b\b\b\b                                                                          \b\b\b\b\b\b\b\b\b\b\b\b\b\b\b\b\b\b\b\b\b\b\b\b\b\b\b\b\b\b\b\b\b\b\b\b\b\b\b\b\b\b\b\b\b\b\b\b\b\b\b\b\b\b\b\b\b\b\b\b\b\b\b\b\b\b\b\b\b\b\b\b\b\b  0% 5872 - Dataset/Healthcare/Record/._record_healthcare_7000037_2283.wav\b\b\b\b\b\b\b\b\b\b\b\b\b\b\b\b\b\b\b\b\b\b\b\b\b\b\b\b\b\b\b\b\b\b\b\b\b\b\b\b\b\b\b\b\b\b\b\b\b\b\b\b\b\b\b\b\b\b\b\b\b\b\b\b\b\b\b\b\b\b\b\b\b\b                                                                          \b\b\b\b\b\b\b\b\b\b\b\b\b\b\b\b\b\b\b\b\b\b\b\b\b\b\b\b\b\b\b\b\b\b\b\b\b\b\b\b\b\b\b\b\b\b\b\b\b\b\b\b\b\b\b\b\b\b\b\b\b\b\b\b\b\b\b\b\b\b\b\b\b\b  0% 5957 - Dataset/Healthcare/Record/._record_healthcare_7000037_68.wav\b\b\b\b\b\b\b\b\b\b\b\b\b\b\b\b\b\b\b\b\b\b\b\b\b\b\b\b\b\b\b\b\b\b\b\b\b\b\b\b\b\b\b\b\b\b\b\b\b\b\b\b\b\b\b\b\b\b\b\b\b\b\b\b\b\b\b\b\b\b\b\b                                                                        \b\b\b\b\b\b\b\b\b\b\b\b\b\b\b\b\b\b\b\b\b\b\b\b\b\b\b\b\b\b\b\b\b\b\b\b\b\b\b\b\b\b\b\b\b\b\b\b\b\b\b\b\b\b\b\b\b\b\b\b\b\b\b\b\b\b\b\b\b\b\b\b  0% 6030 - Dataset/Healthcare/Record/._record_healthcare_7000038_119.wav\b\b\b\b\b\b\b\b\b\b\b\b\b\b\b\b\b\b\b\b\b\b\b\b\b\b\b\b\b\b\b\b\b\b\b\b\b\b\b\b\b\b\b\b\b\b\b\b\b\b\b\b\b\b\b\b\b\b\b\b\b\b\b\b\b\b\b\b\b\b\b\b\b                                                                         \b\b\b\b\b\b\b\b\b\b\b\b\b\b\b\b\b\b\b\b\b\b\b\b\b\b\b\b\b\b\b\b\b\b\b\b\b\b\b\b\b\b\b\b\b\b\b\b\b\b\b\b\b\b\b\b\b\b\b\b\b\b\b\b\b\b\b\b\b\b\b\b\b  0% 6111 - Dataset/Healthcare/Record/._record_healthcare_7000038_1845.wav\b\b\b\b\b\b\b\b\b\b\b\b\b\b\b\b\b\b\b\b\b\b\b\b\b\b\b\b\b\b\b\b\b\b\b\b\b\b\b\b\b\b\b\b\b\b\b\b\b\b\b\b\b\b\b\b\b\b\b\b\b\b\b\b\b\b\b\b\b\b\b\b\b\b                                                                          \b\b\b\b\b\b\b\b\b\b\b\b\b\b\b\b\b\b\b\b\b\b\b\b\b\b\b\b\b\b\b\b\b\b\b\b\b\b\b\b\b\b\b\b\b\b\b\b\b\b\b\b\b\b\b\b\b\b\b\b\b\b\b\b\b\b\b\b\b\b\b\b\b\b  0% 6192 - Dataset/Healthcare/Record/._record_healthcare_7000038_2467.wav\b\b\b\b\b\b\b\b\b\b\b\b\b\b\b\b\b\b\b\b\b\b\b\b\b\b\b\b\b\b\b\b\b\b\b\b\b\b\b\b\b\b\b\b\b\b\b\b\b\b\b\b\b\b\b\b\b\b\b\b\b\b\b\b\b\b\b\b\b\b\b\b\b\b                                                                          \b\b\b\b\b\b\b\b\b\b\b\b\b\b\b\b\b\b\b\b\b\b\b\b\b\b\b\b\b\b\b\b\b\b\b\b\b\b\b\b\b\b\b\b\b\b\b\b\b\b\b\b\b\b\b\b\b\b\b\b\b\b\b\b\b\b\b\b\b\b\b\b\b\b  0% 6272 - Dataset/Healthcare/Record/._record_healthcare_7000038_797.wav\b\b\b\b\b\b\b\b\b\b\b\b\b\b\b\b\b\b\b\b\b\b\b\b\b\b\b\b\b\b\b\b\b\b\b\b\b\b\b\b\b\b\b\b\b\b\b\b\b\b\b\b\b\b\b\b\b\b\b\b\b\b\b\b\b\b\b\b\b\b\b\b\b                                                                         \b\b\b\b\b\b\b\b\b\b\b\b\b\b\b\b\b\b\b\b\b\b\b\b\b\b\b\b\b\b\b\b\b\b\b\b\b\b\b\b\b\b\b\b\b\b\b\b\b\b\b\b\b\b\b\b\b\b\b\b\b\b\b\b\b\b\b\b\b\b\b\b\b  0% 6348 - Dataset/Healthcare/Record/._record_healthcare_7000039_1324.wav\b\b\b\b\b\b\b\b\b\b\b\b\b\b\b\b\b\b\b\b\b\b\b\b\b\b\b\b\b\b\b\b\b\b\b\b\b\b\b\b\b\b\b\b\b\b\b\b\b\b\b\b\b\b\b\b\b\b\b\b\b\b\b\b\b\b\b\b\b\b\b\b\b\b                                                                          \b\b\b\b\b\b\b\b\b\b\b\b\b\b\b\b\b\b\b\b\b\b\b\b\b\b\b\b\b\b\b\b\b\b\b\b\b\b\b\b\b\b\b\b\b\b\b\b\b\b\b\b\b\b\b\b\b\b\b\b\b\b\b\b\b\b\b\b\b\b\b\b\b\b  0% 6422 - Dataset/Healthcare/Record/._record_healthcare_7000039_1873.wav\b\b\b\b\b\b\b\b\b\b\b\b\b\b\b\b\b\b\b\b\b\b\b\b\b\b\b\b\b\b\b\b\b\b\b\b\b\b\b\b\b\b\b\b\b\b\b\b\b\b\b\b\b\b\b\b\b\b\b\b\b\b\b\b\b\b\b\b\b\b\b\b\b\b                                                                          \b\b\b\b\b\b\b\b\b\b\b\b\b\b\b\b\b\b\b\b\b\b\b\b\b\b\b\b\b\b\b\b\b\b\b\b\b\b\b\b\b\b\b\b\b\b\b\b\b\b\b\b\b\b\b\b\b\b\b\b\b\b\b\b\b\b\b\b\b\b\b\b\b\b  0% 6499 - Dataset/Healthcare/Record/._record_healthcare_7000039_2404.wav\b\b\b\b\b\b\b\b\b\b\b\b\b\b\b\b\b\b\b\b\b\b\b\b\b\b\b\b\b\b\b\b\b\b\b\b\b\b\b\b\b\b\b\b\b\b\b\b\b\b\b\b\b\b\b\b\b\b\b\b\b\b\b\b\b\b\b\b\b\b\b\b\b\b                                                                          \b\b\b\b\b\b\b\b\b\b\b\b\b\b\b\b\b\b\b\b\b\b\b\b\b\b\b\b\b\b\b\b\b\b\b\b\b\b\b\b\b\b\b\b\b\b\b\b\b\b\b\b\b\b\b\b\b\b\b\b\b\b\b\b\b\b\b\b\b\b\b\b\b\b  0% 6576 - Dataset/Healthcare/Record/._record_healthcare_7000039_764.wav\b\b\b\b\b\b\b\b\b\b\b\b\b\b\b\b\b\b\b\b\b\b\b\b\b\b\b\b\b\b\b\b\b\b\b\b\b\b\b\b\b\b\b\b\b\b\b\b\b\b\b\b\b\b\b\b\b\b\b\b\b\b\b\b\b\b\b\b\b\b\b\b\b                                                                         \b\b\b\b\b\b\b\b\b\b\b\b\b\b\b\b\b\b\b\b\b\b\b\b\b\b\b\b\b\b\b\b\b\b\b\b\b\b\b\b\b\b\b\b\b\b\b\b\b\b\b\b\b\b\b\b\b\b\b\b\b\b\b\b\b\b\b\b\b\b\b\b\b  0% 6653 - Dataset/Healthcare/Record/._record_healthcare_7000040_1318.wav\b\b\b\b\b\b\b\b\b\b\b\b\b\b\b\b\b\b\b\b\b\b\b\b\b\b\b\b\b\b\b\b\b\b\b\b\b\b\b\b\b\b\b\b\b\b\b\b\b\b\b\b\b\b\b\b\b\b\b\b\b\b\b\b\b\b\b\b\b\b\b\b\b\b                                                                          \b\b\b\b\b\b\b\b\b\b\b\b\b\b\b\b\b\b\b\b\b\b\b\b\b\b\b\b\b\b\b\b\b\b\b\b\b\b\b\b\b\b\b\b\b\b\b\b\b\b\b\b\b\b\b\b\b\b\b\b\b\b\b\b\b\b\b\b\b\b\b\b\b\b  0% 6730 - Dataset/Healthcare/Record/._record_healthcare_7000040_1981.wav\b\b\b\b\b\b\b\b\b\b\b\b\b\b\b\b\b\b\b\b\b\b\b\b\b\b\b\b\b\b\b\b\b\b\b\b\b\b\b\b\b\b\b\b\b\b\b\b\b\b\b\b\b\b\b\b\b\b\b\b\b\b\b\b\b\b\b\b\b\b\b\b\b\b                                                                          \b\b\b\b\b\b\b\b\b\b\b\b\b\b\b\b\b\b\b\b\b\b\b\b\b\b\b\b\b\b\b\b\b\b\b\b\b\b\b\b\b\b\b\b\b\b\b\b\b\b\b\b\b\b\b\b\b\b\b\b\b\b\b\b\b\b\b\b\b\b\b\b\b\b  0% 6805 - Dataset/Healthcare/Record/._record_healthcare_7000040_2493.wav\b\b\b\b\b\b\b\b\b\b\b\b\b\b\b\b\b\b\b\b\b\b\b\b\b\b\b\b\b\b\b\b\b\b\b\b\b\b\b\b\b\b\b\b\b\b\b\b\b\b\b\b\b\b\b\b\b\b\b\b\b\b\b\b\b\b\b\b\b\b\b\b\b\b                                                                          \b\b\b\b\b\b\b\b\b\b\b\b\b\b\b\b\b\b\b\b\b\b\b\b\b\b\b\b\b\b\b\b\b\b\b\b\b\b\b\b\b\b\b\b\b\b\b\b\b\b\b\b\b\b\b\b\b\b\b\b\b\b\b\b\b\b\b\b\b\b\b\b\b\b  0% 6880 - Dataset/Healthcare/Record/._record_healthcare_7000040_786.wav\b\b\b\b\b\b\b\b\b\b\b\b\b\b\b\b\b\b\b\b\b\b\b\b\b\b\b\b\b\b\b\b\b\b\b\b\b\b\b\b\b\b\b\b\b\b\b\b\b\b\b\b\b\b\b\b\b\b\b\b\b\b\b\b\b\b\b\b\b\b\b\b\b                                                                         \b\b\b\b\b\b\b\b\b\b\b\b\b\b\b\b\b\b\b\b\b\b\b\b\b\b\b\b\b\b\b\b\b\b\b\b\b\b\b\b\b\b\b\b\b\b\b\b\b\b\b\b\b\b\b\b\b\b\b\b\b\b\b\b\b\b\b\b\b\b\b\b\b  0% 6953 - Dataset/Healthcare/Record/._record_healthcare_7000041_1332.wav\b\b\b\b\b\b\b\b\b\b\b\b\b\b\b\b\b\b\b\b\b\b\b\b\b\b\b\b\b\b\b\b\b\b\b\b\b\b\b\b\b\b\b\b\b\b\b\b\b\b\b\b\b\b\b\b\b\b\b\b\b\b\b\b\b\b\b\b\b\b\b\b\b\b                                                                          \b\b\b\b\b\b\b\b\b\b\b\b\b\b\b\b\b\b\b\b\b\b\b\b\b\b\b\b\b\b\b\b\b\b\b\b\b\b\b\b\b\b\b\b\b\b\b\b\b\b\b\b\b\b\b\b\b\b\b\b\b\b\b\b\b\b\b\b\b\b\b\b\b\b  0% 7026 - Dataset/Healthcare/Record/._record_healthcare_7000041_182.wav\b\b\b\b\b\b\b\b\b\b\b\b\b\b\b\b\b\b\b\b\b\b\b\b\b\b\b\b\b\b\b\b\b\b\b\b\b\b\b\b\b\b\b\b\b\b\b\b\b\b\b\b\b\b\b\b\b\b\b\b\b\b\b\b\b\b\b\b\b\b\b\b\b                                                                         \b\b\b\b\b\b\b\b\b\b\b\b\b\b\b\b\b\b\b\b\b\b\b\b\b\b\b\b\b\b\b\b\b\b\b\b\b\b\b\b\b\b\b\b\b\b\b\b\b\b\b\b\b\b\b\b\b\b\b\b\b\b\b\b\b\b\b\b\b\b\b\b\b  0% 7099 - Dataset/Healthcare/Record/._record_healthcare_7000041_2484.wav\b\b\b\b\b\b\b\b\b\b\b\b\b\b\b\b\b\b\b\b\b\b\b\b\b\b\b\b\b\b\b\b\b\b\b\b\b\b\b\b\b\b\b\b\b\b\b\b\b\b\b\b\b\b\b\b\b\b\b\b\b\b\b\b\b\b\b\b\b\b\b\b\b\b                                                                          \b\b\b\b\b\b\b\b\b\b\b\b\b\b\b\b\b\b\b\b\b\b\b\b\b\b\b\b\b\b\b\b\b\b\b\b\b\b\b\b\b\b\b\b\b\b\b\b\b\b\b\b\b\b\b\b\b\b\b\b\b\b\b\b\b\b\b\b\b\b\b\b\b\b  0% 7172 - Dataset/Healthcare/Record/._record_healthcare_7000041_725.wav\b\b\b\b\b\b\b\b\b\b\b\b\b\b\b\b\b\b\b\b\b\b\b\b\b\b\b\b\b\b\b\b\b\b\b\b\b\b\b\b\b\b\b\b\b\b\b\b\b\b\b\b\b\b\b\b\b\b\b\b\b\b\b\b\b\b\b\b\b\b\b\b\b                                                                         \b\b\b\b\b\b\b\b\b\b\b\b\b\b\b\b\b\b\b\b\b\b\b\b\b\b\b\b\b\b\b\b\b\b\b\b\b\b\b\b\b\b\b\b\b\b\b\b\b\b\b\b\b\b\b\b\b\b\b\b\b\b\b\b\b\b\b\b\b\b\b\b\b  0% 7242 - Dataset/Healthcare/Record/._record_healthcare_7000042_1312.wav\b\b\b\b\b\b\b\b\b\b\b\b\b\b\b\b\b\b\b\b\b\b\b\b\b\b\b\b\b\b\b\b\b\b\b\b\b\b\b\b\b\b\b\b\b\b\b\b\b\b\b\b\b\b\b\b\b\b\b\b\b\b\b\b\b\b\b\b\b\b\b\b\b\b                                                                          \b\b\b\b\b\b\b\b\b\b\b\b\b\b\b\b\b\b\b\b\b\b\b\b\b\b\b\b\b\b\b\b\b\b\b\b\b\b\b\b\b\b\b\b\b\b\b\b\b\b\b\b\b\b\b\b\b\b\b\b\b\b\b\b\b\b\b\b\b\b\b\b\b\b  0% 7305 - Dataset/Healthcare/Record/._record_healthcare_7000042_1763.wav\b\b\b\b\b\b\b\b\b\b\b\b\b\b\b\b\b\b\b\b\b\b\b\b\b\b\b\b\b\b\b\b\b\b\b\b\b\b\b\b\b\b\b\b\b\b\b\b\b\b\b\b\b\b\b\b\b\b\b\b\b\b\b\b\b\b\b\b\b\b\b\b\b\b                                                                          \b\b\b\b\b\b\b\b\b\b\b\b\b\b\b\b\b\b\b\b\b\b\b\b\b\b\b\b\b\b\b\b\b\b\b\b\b\b\b\b\b\b\b\b\b\b\b\b\b\b\b\b\b\b\b\b\b\b\b\b\b\b\b\b\b\b\b\b\b\b\b\b\b\b  0% 7375 - Dataset/Healthcare/Record/._record_healthcare_7000042_2228.wav\b\b\b\b\b\b\b\b\b\b\b\b\b\b\b\b\b\b\b\b\b\b\b\b\b\b\b\b\b\b\b\b\b\b\b\b\b\b\b\b\b\b\b\b\b\b\b\b\b\b\b\b\b\b\b\b\b\b\b\b\b\b\b\b\b\b\b\b\b\b\b\b\b\b                                                                          \b\b\b\b\b\b\b\b\b\b\b\b\b\b\b\b\b\b\b\b\b\b\b\b\b\b\b\b\b\b\b\b\b\b\b\b\b\b\b\b\b\b\b\b\b\b\b\b\b\b\b\b\b\b\b\b\b\b\b\b\b\b\b\b\b\b\b\b\b\b\b\b\b\b  0% 7444 - Dataset/Healthcare/Record/._record_healthcare_7000042_511.wav\b\b\b\b\b\b\b\b\b\b\b\b\b\b\b\b\b\b\b\b\b\b\b\b\b\b\b\b\b\b\b\b\b\b\b\b\b\b\b\b\b\b\b\b\b\b\b\b\b\b\b\b\b\b\b\b\b\b\b\b\b\b\b\b\b\b\b\b\b\b\b\b\b                                                                         \b\b\b\b\b\b\b\b\b\b\b\b\b\b\b\b\b\b\b\b\b\b\b\b\b\b\b\b\b\b\b\b\b\b\b\b\b\b\b\b\b\b\b\b\b\b\b\b\b\b\b\b\b\b\b\b\b\b\b\b\b\b\b\b\b\b\b\b\b\b\b\b\b  0% 7513 - Dataset/Healthcare/Record/._record_healthcare_7000043_1043.wav\b\b\b\b\b\b\b\b\b\b\b\b\b\b\b\b\b\b\b\b\b\b\b\b\b\b\b\b\b\b\b\b\b\b\b\b\b\b\b\b\b\b\b\b\b\b\b\b\b\b\b\b\b\b\b\b\b\b\b\b\b\b\b\b\b\b\b\b\b\b\b\b\b\b                                                                          \b\b\b\b\b\b\b\b\b\b\b\b\b\b\b\b\b\b\b\b\b\b\b\b\b\b\b\b\b\b\b\b\b\b\b\b\b\b\b\b\b\b\b\b\b\b\b\b\b\b\b\b\b\b\b\b\b\b\b\b\b\b\b\b\b\b\b\b\b\b\b\b\b\b  0% 7581 - Dataset/Healthcare/Record/._record_healthcare_7000043_1499.wav\b\b\b\b\b\b\b\b\b\b\b\b\b\b\b\b\b\b\b\b\b\b\b\b\b\b\b\b\b\b\b\b\b\b\b\b\b\b\b\b\b\b\b\b\b\b\b\b\b\b\b\b\b\b\b\b\b\b\b\b\b\b\b\b\b\b\b\b\b\b\b\b\b\b                                                                          \b\b\b\b\b\b\b\b\b\b\b\b\b\b\b\b\b\b\b\b\b\b\b\b\b\b\b\b\b\b\b\b\b\b\b\b\b\b\b\b\b\b\b\b\b\b\b\b\b\b\b\b\b\b\b\b\b\b\b\b\b\b\b\b\b\b\b\b\b\b\b\b\b\b  0% 7649 - Dataset/Healthcare/Record/._record_healthcare_7000043_2048.wav\b\b\b\b\b\b\b\b\b\b\b\b\b\b\b\b\b\b\b\b\b\b\b\b\b\b\b\b\b\b\b\b\b\b\b\b\b\b\b\b\b\b\b\b\b\b\b\b\b\b\b\b\b\b\b\b\b\b\b\b\b\b\b\b\b\b\b\b\b\b\b\b\b\b                                                                          \b\b\b\b\b\b\b\b\b\b\b\b\b\b\b\b\b\b\b\b\b\b\b\b\b\b\b\b\b\b\b\b\b\b\b\b\b\b\b\b\b\b\b\b\b\b\b\b\b\b\b\b\b\b\b\b\b\b\b\b\b\b\b\b\b\b\b\b\b\b\b\b\b\b  0% 7716 - Dataset/Healthcare/Record/._record_healthcare_7000043_290.wav\b\b\b\b\b\b\b\b\b\b\b\b\b\b\b\b\b\b\b\b\b\b\b\b\b\b\b\b\b\b\b\b\b\b\b\b\b\b\b\b\b\b\b\b\b\b\b\b\b\b\b\b\b\b\b\b\b\b\b\b\b\b\b\b\b\b\b\b\b\b\b\b\b                                                                         \b\b\b\b\b\b\b\b\b\b\b\b\b\b\b\b\b\b\b\b\b\b\b\b\b\b\b\b\b\b\b\b\b\b\b\b\b\b\b\b\b\b\b\b\b\b\b\b\b\b\b\b\b\b\b\b\b\b\b\b\b\b\b\b\b\b\b\b\b\b\b\b\b  0% 7783 - Dataset/Healthcare/Record/._record_healthcare_7000043_866.wav\b\b\b\b\b\b\b\b\b\b\b\b\b\b\b\b\b\b\b\b\b\b\b\b\b\b\b\b\b\b\b\b\b\b\b\b\b\b\b\b\b\b\b\b\b\b\b\b\b\b\b\b\b\b\b\b\b\b\b\b\b\b\b\b\b\b\b\b\b\b\b\b\b                                                                         \b\b\b\b\b\b\b\b\b\b\b\b\b\b\b\b\b\b\b\b\b\b\b\b\b\b\b\b\b\b\b\b\b\b\b\b\b\b\b\b\b\b\b\b\b\b\b\b\b\b\b\b\b\b\b\b\b\b\b\b\b\b\b\b\b\b\b\b\b\b\b\b\b  0% 7849 - Dataset/Healthcare/Record/._record_healthcare_7000044_1353.wav\b\b\b\b\b\b\b\b\b\b\b\b\b\b\b\b\b\b\b\b\b\b\b\b\b\b\b\b\b\b\b\b\b\b\b\b\b\b\b\b\b\b\b\b\b\b\b\b\b\b\b\b\b\b\b\b\b\b\b\b\b\b\b\b\b\b\b\b\b\b\b\b\b\b                                                                          \b\b\b\b\b\b\b\b\b\b\b\b\b\b\b\b\b\b\b\b\b\b\b\b\b\b\b\b\b\b\b\b\b\b\b\b\b\b\b\b\b\b\b\b\b\b\b\b\b\b\b\b\b\b\b\b\b\b\b\b\b\b\b\b\b\b\b\b\b\b\b\b\b\b  0% 7915 - Dataset/Healthcare/Record/._record_healthcare_7000044_1760.wav\b\b\b\b\b\b\b\b\b\b\b\b\b\b\b\b\b\b\b\b\b\b\b\b\b\b\b\b\b\b\b\b\b\b\b\b\b\b\b\b\b\b\b\b\b\b\b\b\b\b\b\b\b\b\b\b\b\b\b\b\b\b\b\b\b\b\b\b\b\b\b\b\b\b                                                                          \b\b\b\b\b\b\b\b\b\b\b\b\b\b\b\b\b\b\b\b\b\b\b\b\b\b\b\b\b\b\b\b\b\b\b\b\b\b\b\b\b\b\b\b\b\b\b\b\b\b\b\b\b\b\b\b\b\b\b\b\b\b\b\b\b\b\b\b\b\b\b\b\b\b  0% 7980 - Dataset/Healthcare/Record/._record_healthcare_7000044_2209.wav\b\b\b\b\b\b\b\b\b\b\b\b\b\b\b\b\b\b\b\b\b\b\b\b\b\b\b\b\b\b\b\b\b\b\b\b\b\b\b\b\b\b\b\b\b\b\b\b\b\b\b\b\b\b\b\b\b\b\b\b\b\b\b\b\b\b\b\b\b\b\b\b\b\b                                                                          \b\b\b\b\b\b\b\b\b\b\b\b\b\b\b\b\b\b\b\b\b\b\b\b\b\b\b\b\b\b\b\b\b\b\b\b\b\b\b\b\b\b\b\b\b\b\b\b\b\b\b\b\b\b\b\b\b\b\b\b\b\b\b\b\b\b\b\b\b\b\b\b\b\b  0% 8044 - Dataset/Healthcare/Record/._record_healthcare_7000044_5.wav\b\b\b\b\b\b\b\b\b\b\b\b\b\b\b\b\b\b\b\b\b\b\b\b\b\b\b\b\b\b\b\b\b\b\b\b\b\b\b\b\b\b\b\b\b\b\b\b\b\b\b\b\b\b\b\b\b\b\b\b\b\b\b\b\b\b\b\b\b\b\b                                                                       \b\b\b\b\b\b\b\b\b\b\b\b\b\b\b\b\b\b\b\b\b\b\b\b\b\b\b\b\b\b\b\b\b\b\b\b\b\b\b\b\b\b\b\b\b\b\b\b\b\b\b\b\b\b\b\b\b\b\b\b\b\b\b\b\b\b\b\b\b\b\b  0% 8109 - Dataset/Healthcare/Record/._record_healthcare_7000050_1024.wav\b\b\b\b\b\b\b\b\b\b\b\b\b\b\b\b\b\b\b\b\b\b\b\b\b\b\b\b\b\b\b\b\b\b\b\b\b\b\b\b\b\b\b\b\b\b\b\b\b\b\b\b\b\b\b\b\b\b\b\b\b\b\b\b\b\b\b\b\b\b\b\b\b\b                                                                          \b\b\b\b\b\b\b\b\b\b\b\b\b\b\b\b\b\b\b\b\b\b\b\b\b\b\b\b\b\b\b\b\b\b\b\b\b\b\b\b\b\b\b\b\b\b\b\b\b\b\b\b\b\b\b\b\b\b\b\b\b\b\b\b\b\b\b\b\b\b\b\b\b\b  0% 8172 - Dataset/Healthcare/Record/._record_healthcare_7000050_1523.wav\b\b\b\b\b\b\b\b\b\b\b\b\b\b\b\b\b\b\b\b\b\b\b\b\b\b\b\b\b\b\b\b\b\b\b\b\b\b\b\b\b\b\b\b\b\b\b\b\b\b\b\b\b\b\b\b\b\b\b\b\b\b\b\b\b\b\b\b\b\b\b\b\b\b                                                                          \b\b\b\b\b\b\b\b\b\b\b\b\b\b\b\b\b\b\b\b\b\b\b\b\b\b\b\b\b\b\b\b\b\b\b\b\b\b\b\b\b\b\b\b\b\b\b\b\b\b\b\b\b\b\b\b\b\b\b\b\b\b\b\b\b\b\b\b\b\b\b\b\b\b  0% 8234 - Dataset/Healthcare/Record/._record_healthcare_7000050_2001.wav\b\b\b\b\b\b\b\b\b\b\b\b\b\b\b\b\b\b\b\b\b\b\b\b\b\b\b\b\b\b\b\b\b\b\b\b\b\b\b\b\b\b\b\b\b\b\b\b\b\b\b\b\b\b\b\b\b\b\b\b\b\b\b\b\b\b\b\b\b\b\b\b\b\b                                                                          \b\b\b\b\b\b\b\b\b\b\b\b\b\b\b\b\b\b\b\b\b\b\b\b\b\b\b\b\b\b\b\b\b\b\b\b\b\b\b\b\b\b\b\b\b\b\b\b\b\b\b\b\b\b\b\b\b\b\b\b\b\b\b\b\b\b\b\b\b\b\b\b\b\b  0% 8297 - Dataset/Healthcare/Record/._record_healthcare_7000050_2438.wav\b\b\b\b\b\b\b\b\b\b\b\b\b\b\b\b\b\b\b\b\b\b\b\b\b\b\b\b\b\b\b\b\b\b\b\b\b\b\b\b\b\b\b\b\b\b\b\b\b\b\b\b\b\b\b\b\b\b\b\b\b\b\b\b\b\b\b\b\b\b\b\b\b\b                                                                          \b\b\b\b\b\b\b\b\b\b\b\b\b\b\b\b\b\b\b\b\b\b\b\b\b\b\b\b\b\b\b\b\b\b\b\b\b\b\b\b\b\b\b\b\b\b\b\b\b\b\b\b\b\b\b\b\b\b\b\b\b\b\b\b\b\b\b\b\b\b\b\b\b\b  0% 8360 - Dataset/Healthcare/Record/._record_healthcare_7000050_636.wav\b\b\b\b\b\b\b\b\b\b\b\b\b\b\b\b\b\b\b\b\b\b\b\b\b\b\b\b\b\b\b\b\b\b\b\b\b\b\b\b\b\b\b\b\b\b\b\b\b\b\b\b\b\b\b\b\b\b\b\b\b\b\b\b\b\b\b\b\b\b\b\b\b                                                                         \b\b\b\b\b\b\b\b\b\b\b\b\b\b\b\b\b\b\b\b\b\b\b\b\b\b\b\b\b\b\b\b\b\b\b\b\b\b\b\b\b\b\b\b\b\b\b\b\b\b\b\b\b\b\b\b\b\b\b\b\b\b\b\b\b\b\b\b\b\b\b\b\b  0% 8422 - Dataset/Healthcare/Record/._record_healthcare_7000051_1113.wav\b\b\b\b\b\b\b\b\b\b\b\b\b\b\b\b\b\b\b\b\b\b\b\b\b\b\b\b\b\b\b\b\b\b\b\b\b\b\b\b\b\b\b\b\b\b\b\b\b\b\b\b\b\b\b\b\b\b\b\b\b\b\b\b\b\b\b\b\b\b\b\b\b\b                                                                          \b\b\b\b\b\b\b\b\b\b\b\b\b\b\b\b\b\b\b\b\b\b\b\b\b\b\b\b\b\b\b\b\b\b\b\b\b\b\b\b\b\b\b\b\b\b\b\b\b\b\b\b\b\b\b\b\b\b\b\b\b\b\b\b\b\b\b\b\b\b\b\b\b\b  0% 8483 - Dataset/Healthcare/Record/._record_healthcare_7000051_1582.wav\b\b\b\b\b\b\b\b\b\b\b\b\b\b\b\b\b\b\b\b\b\b\b\b\b\b\b\b\b\b\b\b\b\b\b\b\b\b\b\b\b\b\b\b\b\b\b\b\b\b\b\b\b\b\b\b\b\b\b\b\b\b\b\b\b\b\b\b\b\b\b\b\b\b                                                                          \b\b\b\b\b\b\b\b\b\b\b\b\b\b\b\b\b\b\b\b\b\b\b\b\b\b\b\b\b\b\b\b\b\b\b\b\b\b\b\b\b\b\b\b\b\b\b\b\b\b\b\b\b\b\b\b\b\b\b\b\b\b\b\b\b\b\b\b\b\b\b\b\b\b  0% 8544 - Dataset/Healthcare/Record/._record_healthcare_7000051_2110.wav\b\b\b\b\b\b\b\b\b\b\b\b\b\b\b\b\b\b\b\b\b\b\b\b\b\b\b\b\b\b\b\b\b\b\b\b\b\b\b\b\b\b\b\b\b\b\b\b\b\b\b\b\b\b\b\b\b\b\b\b\b\b\b\b\b\b\b\b\b\b\b\b\b\b                                                                          \b\b\b\b\b\b\b\b\b\b\b\b\b\b\b\b\b\b\b\b\b\b\b\b\b\b\b\b\b\b\b\b\b\b\b\b\b\b\b\b\b\b\b\b\b\b\b\b\b\b\b\b\b\b\b\b\b\b\b\b\b\b\b\b\b\b\b\b\b\b\b\b\b\b  0% 8604 - Dataset/Healthcare/Record/._record_healthcare_7000051_330.wav\b\b\b\b\b\b\b\b\b\b\b\b\b\b\b\b\b\b\b\b\b\b\b\b\b\b\b\b\b\b\b\b\b\b\b\b\b\b\b\b\b\b\b\b\b\b\b\b\b\b\b\b\b\b\b\b\b\b\b\b\b\b\b\b\b\b\b\b\b\b\b\b\b                                                                         \b\b\b\b\b\b\b\b\b\b\b\b\b\b\b\b\b\b\b\b\b\b\b\b\b\b\b\b\b\b\b\b\b\b\b\b\b\b\b\b\b\b\b\b\b\b\b\b\b\b\b\b\b\b\b\b\b\b\b\b\b\b\b\b\b\b\b\b\b\b\b\b\b  0% 8664 - Dataset/Healthcare/Record/._record_healthcare_7000051_752.wav\b\b\b\b\b\b\b\b\b\b\b\b\b\b\b\b\b\b\b\b\b\b\b\b\b\b\b\b\b\b\b\b\b\b\b\b\b\b\b\b\b\b\b\b\b\b\b\b\b\b\b\b\b\b\b\b\b\b\b\b\b\b\b\b\b\b\b\b\b\b\b\b\b                                                                         \b\b\b\b\b\b\b\b\b\b\b\b\b\b\b\b\b\b\b\b\b\b\b\b\b\b\b\b\b\b\b\b\b\b\b\b\b\b\b\b\b\b\b\b\b\b\b\b\b\b\b\b\b\b\b\b\b\b\b\b\b\b\b\b\b\b\b\b\b\b\b\b\b  0% 8724 - Dataset/Healthcare/Record/._record_healthcare_7000052_1114.wav\b\b\b\b\b\b\b\b\b\b\b\b\b\b\b\b\b\b\b\b\b\b\b\b\b\b\b\b\b\b\b\b\b\b\b\b\b\b\b\b\b\b\b\b\b\b\b\b\b\b\b\b\b\b\b\b\b\b\b\b\b\b\b\b\b\b\b\b\b\b\b\b\b\b                                                                          \b\b\b\b\b\b\b\b\b\b\b\b\b\b\b\b\b\b\b\b\b\b\b\b\b\b\b\b\b\b\b\b\b\b\b\b\b\b\b\b\b\b\b\b\b\b\b\b\b\b\b\b\b\b\b\b\b\b\b\b\b\b\b\b\b\b\b\b\b\b\b\b\b\b  0% 8783 - Dataset/Healthcare/Record/._record_healthcare_7000052_1552.wav\b\b\b\b\b\b\b\b\b\b\b\b\b\b\b\b\b\b\b\b\b\b\b\b\b\b\b\b\b\b\b\b\b\b\b\b\b\b\b\b\b\b\b\b\b\b\b\b\b\b\b\b\b\b\b\b\b\b\b\b\b\b\b\b\b\b\b\b\b\b\b\b\b\b                                                                          \b\b\b\b\b\b\b\b\b\b\b\b\b\b\b\b\b\b\b\b\b\b\b\b\b\b\b\b\b\b\b\b\b\b\b\b\b\b\b\b\b\b\b\b\b\b\b\b\b\b\b\b\b\b\b\b\b\b\b\b\b\b\b\b\b\b\b\b\b\b\b\b\b\b  0% 8842 - Dataset/Healthcare/Record/._record_healthcare_7000052_2044.wav\b\b\b\b\b\b\b\b\b\b\b\b\b\b\b\b\b\b\b\b\b\b\b\b\b\b\b\b\b\b\b\b\b\b\b\b\b\b\b\b\b\b\b\b\b\b\b\b\b\b\b\b\b\b\b\b\b\b\b\b\b\b\b\b\b\b\b\b\b\b\b\b\b\b                                                                          \b\b\b\b\b\b\b\b\b\b\b\b\b\b\b\b\b\b\b\b\b\b\b\b\b\b\b\b\b\b\b\b\b\b\b\b\b\b\b\b\b\b\b\b\b\b\b\b\b\b\b\b\b\b\b\b\b\b\b\b\b\b\b\b\b\b\b\b\b\b\b\b\b\b  0% 8900 - Dataset/Healthcare/Record/._record_healthcare_7000052_2478.wav\b\b\b\b\b\b\b\b\b\b\b\b\b\b\b\b\b\b\b\b\b\b\b\b\b\b\b\b\b\b\b\b\b\b\b\b\b\b\b\b\b\b\b\b\b\b\b\b\b\b\b\b\b\b\b\b\b\b\b\b\b\b\b\b\b\b\b\b\b\b\b\b\b\b                                                                          \b\b\b\b\b\b\b\b\b\b\b\b\b\b\b\b\b\b\b\b\b\b\b\b\b\b\b\b\b\b\b\b\b\b\b\b\b\b\b\b\b\b\b\b\b\b\b\b\b\b\b\b\b\b\b\b\b\b\b\b\b\b\b\b\b\b\b\b\b\b\b\b\b\b  0% 8958 - Dataset/Healthcare/Record/._record_healthcare_7000052_681.wav\b\b\b\b\b\b\b\b\b\b\b\b\b\b\b\b\b\b\b\b\b\b\b\b\b\b\b\b\b\b\b\b\b\b\b\b\b\b\b\b\b\b\b\b\b\b\b\b\b\b\b\b\b\b\b\b\b\b\b\b\b\b\b\b\b\b\b\b\b\b\b\b\b                                                                         \b\b\b\b\b\b\b\b\b\b\b\b\b\b\b\b\b\b\b\b\b\b\b\b\b\b\b\b\b\b\b\b\b\b\b\b\b\b\b\b\b\b\b\b\b\b\b\b\b\b\b\b\b\b\b\b\b\b\b\b\b\b\b\b\b\b\b\b\b\b\b\b\b  0% 9016 - Dataset/Healthcare/Record/._record_healthcare_7000053_1078.wav\b\b\b\b\b\b\b\b\b\b\b\b\b\b\b\b\b\b\b\b\b\b\b\b\b\b\b\b\b\b\b\b\b\b\b\b\b\b\b\b\b\b\b\b\b\b\b\b\b\b\b\b\b\b\b\b\b\b\b\b\b\b\b\b\b\b\b\b\b\b\b\b\b\b                                                                          \b\b\b\b\b\b\b\b\b\b\b\b\b\b\b\b\b\b\b\b\b\b\b\b\b\b\b\b\b\b\b\b\b\b\b\b\b\b\b\b\b\b\b\b\b\b\b\b\b\b\b\b\b\b\b\b\b\b\b\b\b\b\b\b\b\b\b\b\b\b\b\b\b\b  0% 9073 - Dataset/Healthcare/Record/._record_healthcare_7000053_1527.wav\b\b\b\b\b\b\b\b\b\b\b\b\b\b\b\b\b\b\b\b\b\b\b\b\b\b\b\b\b\b\b\b\b\b\b\b\b\b\b\b\b\b\b\b\b\b\b\b\b\b\b\b\b\b\b\b\b\b\b\b\b\b\b\b\b\b\b\b\b\b\b\b\b\b                                                                          \b\b\b\b\b\b\b\b\b\b\b\b\b\b\b\b\b\b\b\b\b\b\b\b\b\b\b\b\b\b\b\b\b\b\b\b\b\b\b\b\b\b\b\b\b\b\b\b\b\b\b\b\b\b\b\b\b\b\b\b\b\b\b\b\b\b\b\b\b\b\b\b\b\b  0% 9130 - Dataset/Healthcare/Record/._record_healthcare_7000053_1974.wav\b\b\b\b\b\b\b\b\b\b\b\b\b\b\b\b\b\b\b\b\b\b\b\b\b\b\b\b\b\b\b\b\b\b\b\b\b\b\b\b\b\b\b\b\b\b\b\b\b\b\b\b\b\b\b\b\b\b\b\b\b\b\b\b\b\b\b\b\b\b\b\b\b\b                                                                          \b\b\b\b\b\b\b\b\b\b\b\b\b\b\b\b\b\b\b\b\b\b\b\b\b\b\b\b\b\b\b\b\b\b\b\b\b\b\b\b\b\b\b\b\b\b\b\b\b\b\b\b\b\b\b\b\b\b\b\b\b\b\b\b\b\b\b\b\b\b\b\b\b\b  0% 9187 - Dataset/Healthcare/Record/._record_healthcare_7000053_2407.wav\b\b\b\b\b\b\b\b\b\b\b\b\b\b\b\b\b\b\b\b\b\b\b\b\b\b\b\b\b\b\b\b\b\b\b\b\b\b\b\b\b\b\b\b\b\b\b\b\b\b\b\b\b\b\b\b\b\b\b\b\b\b\b\b\b\b\b\b\b\b\b\b\b\b                                                                          \b\b\b\b\b\b\b\b\b\b\b\b\b\b\b\b\b\b\b\b\b\b\b\b\b\b\b\b\b\b\b\b\b\b\b\b\b\b\b\b\b\b\b\b\b\b\b\b\b\b\b\b\b\b\b\b\b\b\b\b\b\b\b\b\b\b\b\b\b\b\b\b\b\b  0% 9243 - Dataset/Healthcare/Record/._record_healthcare_7000053_625.wav\b\b\b\b\b\b\b\b\b\b\b\b\b\b\b\b\b\b\b\b\b\b\b\b\b\b\b\b\b\b\b\b\b\b\b\b\b\b\b\b\b\b\b\b\b\b\b\b\b\b\b\b\b\b\b\b\b\b\b\b\b\b\b\b\b\b\b\b\b\b\b\b\b                                                                         \b\b\b\b\b\b\b\b\b\b\b\b\b\b\b\b\b\b\b\b\b\b\b\b\b\b\b\b\b\b\b\b\b\b\b\b\b\b\b\b\b\b\b\b\b\b\b\b\b\b\b\b\b\b\b\b\b\b\b\b\b\b\b\b\b\b\b\b\b\b\b\b\b  0% 9299 - Dataset/Healthcare/Record/._record_healthcare_7000053_970.wav\b\b\b\b\b\b\b\b\b\b\b\b\b\b\b\b\b\b\b\b\b\b\b\b\b\b\b\b\b\b\b\b\b\b\b\b\b\b\b\b\b\b\b\b\b\b\b\b\b\b\b\b\b\b\b\b\b\b\b\b\b\b\b\b\b\b\b\b\b\b\b\b\b                                                                         \b\b\b\b\b\b\b\b\b\b\b\b\b\b\b\b\b\b\b\b\b\b\b\b\b\b\b\b\b\b\b\b\b\b\b\b\b\b\b\b\b\b\b\b\b\b\b\b\b\b\b\b\b\b\b\b\b\b\b\b\b\b\b\b\b\b\b\b\b\b\b\b\b  0% 9354 - Dataset/Healthcare/Record/._record_healthcare_7000054_137.wav\b\b\b\b\b\b\b\b\b\b\b\b\b\b\b\b\b\b\b\b\b\b\b\b\b\b\b\b\b\b\b\b\b\b\b\b\b\b\b\b\b\b\b\b\b\b\b\b\b\b\b\b\b\b\b\b\b\b\b\b\b\b\b\b\b\b\b\b\b\b\b\b\b                                                                         \b\b\b\b\b\b\b\b\b\b\b\b\b\b\b\b\b\b\b\b\b\b\b\b\b\b\b\b\b\b\b\b\b\b\b\b\b\b\b\b\b\b\b\b\b\b\b\b\b\b\b\b\b\b\b\b\b\b\b\b\b\b\b\b\b\b\b\b\b\b\b\b\b  0% 9409 - Dataset/Healthcare/Record/._record_healthcare_7000054_1788.wav\b\b\b\b\b\b\b\b\b\b\b\b\b\b\b\b\b\b\b\b\b\b\b\b\b\b\b\b\b\b\b\b\b\b\b\b\b\b\b\b\b\b\b\b\b\b\b\b\b\b\b\b\b\b\b\b\b\b\b\b\b\b\b\b\b\b\b\b\b\b\b\b\b\b                                                                          \b\b\b\b\b\b\b\b\b\b\b\b\b\b\b\b\b\b\b\b\b\b\b\b\b\b\b\b\b\b\b\b\b\b\b\b\b\b\b\b\b\b\b\b\b\b\b\b\b\b\b\b\b\b\b\b\b\b\b\b\b\b\b\b\b\b\b\b\b\b\b\b\b\b  0% 9464 - Dataset/Healthcare/Record/._record_healthcare_7000054_215.wav\b\b\b\b\b\b\b\b\b\b\b\b\b\b\b\b\b\b\b\b\b\b\b\b\b\b\b\b\b\b\b\b\b\b\b\b\b\b\b\b\b\b\b\b\b\b\b\b\b\b\b\b\b\b\b\b\b\b\b\b\b\b\b\b\b\b\b\b\b\b\b\b\b                                                                         \b\b\b\b\b\b\b\b\b\b\b\b\b\b\b\b\b\b\b\b\b\b\b\b\b\b\b\b\b\b\b\b\b\b\b\b\b\b\b\b\b\b\b\b\b\b\b\b\b\b\b\b\b\b\b\b\b\b\b\b\b\b\b\b\b\b\b\b\b\b\b\b\b  0% 9518 - Dataset/Healthcare/Record/._record_healthcare_7000054_318.wav\b\b\b\b\b\b\b\b\b\b\b\b\b\b\b\b\b\b\b\b\b\b\b\b\b\b\b\b\b\b\b\b\b\b\b\b\b\b\b\b\b\b\b\b\b\b\b\b\b\b\b\b\b\b\b\b\b\b\b\b\b\b\b\b\b\b\b\b\b\b\b\b\b                                                                         \b\b\b\b\b\b\b\b\b\b\b\b\b\b\b\b\b\b\b\b\b\b\b\b\b\b\b\b\b\b\b\b\b\b\b\b\b\b\b\b\b\b\b\b\b\b\b\b\b\b\b\b\b\b\b\b\b\b\b\b\b\b\b\b\b\b\b\b\b\b\b\b\b  0% 9572 - Dataset/Healthcare/Record/._record_healthcare_7000054_733.wav\b\b\b\b\b\b\b\b\b\b\b\b\b\b\b\b\b\b\b\b\b\b\b\b\b\b\b\b\b\b\b\b\b\b\b\b\b\b\b\b\b\b\b\b\b\b\b\b\b\b\b\b\b\b\b\b\b\b\b\b\b\b\b\b\b\b\b\b\b\b\b\b\b                                                                         \b\b\b\b\b\b\b\b\b\b\b\b\b\b\b\b\b\b\b\b\b\b\b\b\b\b\b\b\b\b\b\b\b\b\b\b\b\b\b\b\b\b\b\b\b\b\b\b\b\b\b\b\b\b\b\b\b\b\b\b\b\b\b\b\b\b\b\b\b\b\b\b\b  0% 9615 - Dataset/Healthcare/Record/record_healthcare_7000016_1063.wav\b\b\b\b\b\b\b\b\b\b\b\b\b\b\b\b\b\b\b\b\b\b\b\b\b\b\b\b\b\b\b\b\b\b\b\b\b\b\b\b\b\b\b\b\b\b\b\b\b\b\b\b\b\b\b\b\b\b\b\b\b\b\b\b\b\b\b\b\b\b\b\b                                                                        \b\b\b\b\b\b\b\b\b\b\b\b\b\b\b\b\b\b\b\b\b\b\b\b\b\b\b\b\b\b\b\b\b\b\b\b\b\b\b\b\b\b\b\b\b\b\b\b\b\b\b\b\b\b\b\b\b\b\b\b\b\b\b\b\b\b\b\b\b\b\b\b  0% 9640 - Dataset/Healthcare/Record/record_healthcare_7000016_1233.wav\b\b\b\b\b\b\b\b\b\b\b\b\b\b\b\b\b\b\b\b\b\b\b\b\b\b\b\b\b\b\b\b\b\b\b\b\b\b\b\b\b\b\b\b\b\b\b\b\b\b\b\b\b\b\b\b\b\b\b\b\b\b\b\b\b\b\b\b\b\b\b\b                                                                        \b\b\b\b\b\b\b\b\b\b\b\b\b\b\b\b\b\b\b\b\b\b\b\b\b\b\b\b\b\b\b\b\b\b\b\b\b\b\b\b\b\b\b\b\b\b\b\b\b\b\b\b\b\b\b\b\b\b\b\b\b\b\b\b\b\b\b\b\b\b\b\b  0% 9664 - Dataset/Healthcare/Record/record_healthcare_7000016_1433.wav\b\b\b\b\b\b\b\b\b\b\b\b\b\b\b\b\b\b\b\b\b\b\b\b\b\b\b\b\b\b\b\b\b\b\b\b\b\b\b\b\b\b\b\b\b\b\b\b\b\b\b\b\b\b\b\b\b\b\b\b\b\b\b\b\b\b\b\b\b\b\b\b                                                                        \b\b\b\b\b\b\b\b\b\b\b\b\b\b\b\b\b\b\b\b\b\b\b\b\b\b\b\b\b\b\b\b\b\b\b\b\b\b\b\b\b\b\b\b\b\b\b\b\b\b\b\b\b\b\b\b\b\b\b\b\b\b\b\b\b\b\b\b\b\b\b\b  0% 9687 - Dataset/Healthcare/Record/record_healthcare_7000016_1657.wav\b\b\b\b\b\b\b\b\b\b\b\b\b\b\b\b\b\b\b\b\b\b\b\b\b\b\b\b\b\b\b\b\b\b\b\b\b\b\b\b\b\b\b\b\b\b\b\b\b\b\b\b\b\b\b\b\b\b\b\b\b\b\b\b\b\b\b\b\b\b\b\b                                                                        \b\b\b\b\b\b\b\b\b\b\b\b\b\b\b\b\b\b\b\b\b\b\b\b\b\b\b\b\b\b\b\b\b\b\b\b\b\b\b\b\b\b\b\b\b\b\b\b\b\b\b\b\b\b\b\b\b\b\b\b\b\b\b\b\b\b\b\b\b\b\b\b  0% 9711 - Dataset/Healthcare/Record/record_healthcare_7000016_1798.wav\b\b\b\b\b\b\b\b\b\b\b\b\b\b\b\b\b\b\b\b\b\b\b\b\b\b\b\b\b\b\b\b\b\b\b\b\b\b\b\b\b\b\b\b\b\b\b\b\b\b\b\b\b\b\b\b\b\b\b\b\b\b\b\b\b\b\b\b\b\b\b\b                                                                        \b\b\b\b\b\b\b\b\b\b\b\b\b\b\b\b\b\b\b\b\b\b\b\b\b\b\b\b\b\b\b\b\b\b\b\b\b\b\b\b\b\b\b\b\b\b\b\b\b\b\b\b\b\b\b\b\b\b\b\b\b\b\b\b\b\b\b\b\b\b\b\b  1% 9736 - Dataset/Healthcare/Record/record_healthcare_7000016_2022.wav\b\b\b\b\b\b\b\b\b\b\b\b\b\b\b\b\b\b\b\b\b\b\b\b\b\b\b\b\b\b\b\b\b\b\b\b\b\b\b\b\b\b\b\b\b\b\b\b\b\b\b\b\b\b\b\b\b\b\b\b\b\b\b\b\b\b\b\b\b\b\b\b                                                                        \b\b\b\b\b\b\b\b\b\b\b\b\b\b\b\b\b\b\b\b\b\b\b\b\b\b\b\b\b\b\b\b\b\b\b\b\b\b\b\b\b\b\b\b\b\b\b\b\b\b\b\b\b\b\b\b\b\b\b\b\b\b\b\b\b\b\b\b\b\b\b\b  1% 9761 - Dataset/Healthcare/Record/record_healthcare_7000016_2218.wav\b\b\b\b\b\b\b\b\b\b\b\b\b\b\b\b\b\b\b\b\b\b\b\b\b\b\b\b\b\b\b\b\b\b\b\b\b\b\b\b\b\b\b\b\b\b\b\b\b\b\b\b\b\b\b\b\b\b\b\b\b\b\b\b\b\b\b\b\b\b\b\b                                                                        \b\b\b\b\b\b\b\b\b\b\b\b\b\b\b\b\b\b\b\b\b\b\b\b\b\b\b\b\b\b\b\b\b\b\b\b\b\b\b\b\b\b\b\b\b\b\b\b\b\b\b\b\b\b\b\b\b\b\b\b\b\b\b\b\b\b\b\b\b\b\b\b  1% 9783 - Dataset/Healthcare/Record/record_healthcare_7000016_2331.wav\b\b\b\b\b\b\b\b\b\b\b\b\b\b\b\b\b\b\b\b\b\b\b\b\b\b\b\b\b\b\b\b\b\b\b\b\b\b\b\b\b\b\b\b\b\b\b\b\b\b\b\b\b\b\b\b\b\b\b\b\b\b\b\b\b\b\b\b\b\b\b\b                                                                        \b\b\b\b\b\b\b\b\b\b\b\b\b\b\b\b\b\b\b\b\b\b\b\b\b\b\b\b\b\b\b\b\b\b\b\b\b\b\b\b\b\b\b\b\b\b\b\b\b\b\b\b\b\b\b\b\b\b\b\b\b\b\b\b\b\b\b\b\b\b\b\b  1% 9806\b\b\b\b\b\b\b\b\b         \b\b\b\b\b\b\b\b\b  1% 9828 - Dataset/Healthcare/Record/record_healthcare_7000016_42.wav\b\b\b\b\b\b\b\b\b\b\b\b\b\b\b\b\b\b\b\b\b\b\b\b\b\b\b\b\b\b\b\b\b\b\b\b\b\b\b\b\b\b\b\b\b\b\b\b\b\b\b\b\b\b\b\b\b\b\b\b\b\b\b\b\b\b\b\b\b\b                                                                      \b\b\b\b\b\b\b\b\b\b\b\b\b\b\b\b\b\b\b\b\b\b\b\b\b\b\b\b\b\b\b\b\b\b\b\b\b\b\b\b\b\b\b\b\b\b\b\b\b\b\b\b\b\b\b\b\b\b\b\b\b\b\b\b\b\b\b\b\b\b  1% 9850 - Dataset/Healthcare/Record/record_healthcare_7000016_574.wav\b\b\b\b\b\b\b\b\b\b\b\b\b\b\b\b\b\b\b\b\b\b\b\b\b\b\b\b\b\b\b\b\b\b\b\b\b\b\b\b\b\b\b\b\b\b\b\b\b\b\b\b\b\b\b\b\b\b\b\b\b\b\b\b\b\b\b\b\b\b\b                                                                       \b\b\b\b\b\b\b\b\b\b\b\b\b\b\b\b\b\b\b\b\b\b\b\b\b\b\b\b\b\b\b\b\b\b\b\b\b\b\b\b\b\b\b\b\b\b\b\b\b\b\b\b\b\b\b\b\b\b\b\b\b\b\b\b\b\b\b\b\b\b\b  1% 9872 - Dataset/Healthcare/Record/record_healthcare_7000016_714.wav\b\b\b\b\b\b\b\b\b\b\b\b\b\b\b\b\b\b\b\b\b\b\b\b\b\b\b\b\b\b\b\b\b\b\b\b\b\b\b\b\b\b\b\b\b\b\b\b\b\b\b\b\b\b\b\b\b\b\b\b\b\b\b\b\b\b\b\b\b\b\b                                                                       \b\b\b\b\b\b\b\b\b\b\b\b\b\b\b\b\b\b\b\b\b\b\b\b\b\b\b\b\b\b\b\b\b\b\b\b\b\b\b\b\b\b\b\b\b\b\b\b\b\b\b\b\b\b\b\b\b\b\b\b\b\b\b\b\b\b\b\b\b\b\b  1% 9893 - Dataset/Healthcare/Record/record_healthcare_7000016_877.wav\b\b\b\b\b\b\b\b\b\b\b\b\b\b\b\b\b\b\b\b\b\b\b\b\b\b\b\b\b\b\b\b\b\b\b\b\b\b\b\b\b\b\b\b\b\b\b\b\b\b\b\b\b\b\b\b\b\b\b\b\b\b\b\b\b\b\b\b\b\b\b                                                                       \b\b\b\b\b\b\b\b\b\b\b\b\b\b\b\b\b\b\b\b\b\b\b\b\b\b\b\b\b\b\b\b\b\b\b\b\b\b\b\b\b\b\b\b\b\b\b\b\b\b\b\b\b\b\b\b\b\b\b\b\b\b\b\b\b\b\b\b\b\b\b  2% 9919 - Dataset/Healthcare/Record/record_healthcare_7000017_1091.wav\b\b\b\b\b\b\b\b\b\b\b\b\b\b\b\b\b\b\b\b\b\b\b\b\b\b\b\b\b\b\b\b\b\b\b\b\b\b\b\b\b\b\b\b\b\b\b\b\b\b\b\b\b\b\b\b\b\b\b\b\b\b\b\b\b\b\b\b\b\b\b\b                                                                        \b\b\b\b\b\b\b\b\b\b\b\b\b\b\b\b\b\b\b\b\b\b\b\b\b\b\b\b\b\b\b\b\b\b\b\b\b\b\b\b\b\b\b\b\b\b\b\b\b\b\b\b\b\b\b\b\b\b\b\b\b\b\b\b\b\b\b\b\b\b\b\b  2% 9944 - Dataset/Healthcare/Record/record_healthcare_7000017_1278.wav\b\b\b\b\b\b\b\b\b\b\b\b\b\b\b\b\b\b\b\b\b\b\b\b\b\b\b\b\b\b\b\b\b\b\b\b\b\b\b\b\b\b\b\b\b\b\b\b\b\b\b\b\b\b\b\b\b\b\b\b\b\b\b\b\b\b\b\b\b\b\b\b                                                                        \b\b\b\b\b\b\b\b\b\b\b\b\b\b\b\b\b\b\b\b\b\b\b\b\b\b\b\b\b\b\b\b\b\b\b\b\b\b\b\b\b\b\b\b\b\b\b\b\b\b\b\b\b\b\b\b\b\b\b\b\b\b\b\b\b\b\b\b\b\b\b\b  2% 9968 - Dataset/Healthcare/Record/record_healthcare_7000017_1386.wav\b\b\b\b\b\b\b\b\b\b\b\b\b\b\b\b\b\b\b\b\b\b\b\b\b\b\b\b\b\b\b\b\b\b\b\b\b\b\b\b\b\b\b\b\b\b\b\b\b\b\b\b\b\b\b\b\b\b\b\b\b\b\b\b\b\b\b\b\b\b\b\b                                                                        \b\b\b\b\b\b\b\b\b\b\b\b\b\b\b\b\b\b\b\b\b\b\b\b\b\b\b\b\b\b\b\b\b\b\b\b\b\b\b\b\b\b\b\b\b\b\b\b\b\b\b\b\b\b\b\b\b\b\b\b\b\b\b\b\b\b\b\b\b\b\b\b  2% 9991 - Dataset/Healthcare/Record/record_healthcare_7000017_1547.wav\b\b\b\b\b\b\b\b\b\b\b\b\b\b\b\b\b\b\b\b\b\b\b\b\b\b\b\b\b\b\b\b\b\b\b\b\b\b\b\b\b\b\b\b\b\b\b\b\b\b\b\b\b\b\b\b\b\b\b\b\b\b\b\b\b\b\b\b\b\b\b\b                                                                        \b\b\b\b\b\b\b\b\b\b\b\b\b\b\b\b\b\b\b\b\b\b\b\b\b\b\b\b\b\b\b\b\b\b\b\b\b\b\b\b\b\b\b\b\b\b\b\b\b\b\b\b\b\b\b\b\b\b\b\b\b\b\b\b\b\b\b\b\b\b\b\b  2% 10015 - Dataset/Healthcare/Record/record_healthcare_7000017_1719.wav\b\b\b\b\b\b\b\b\b\b\b\b\b\b\b\b\b\b\b\b\b\b\b\b\b\b\b\b\b\b\b\b\b\b\b\b\b\b\b\b\b\b\b\b\b\b\b\b\b\b\b\b\b\b\b\b\b\b\b\b\b\b\b\b\b\b\b\b\b\b\b\b\b                                                                         \b\b\b\b\b\b\b\b\b\b\b\b\b\b\b\b\b\b\b\b\b\b\b\b\b\b\b\b\b\b\b\b\b\b\b\b\b\b\b\b\b\b\b\b\b\b\b\b\b\b\b\b\b\b\b\b\b\b\b\b\b\b\b\b\b\b\b\b\b\b\b\b\b  2% 10037 - Dataset/Healthcare/Record/record_healthcare_7000017_1930.wav\b\b\b\b\b\b\b\b\b\b\b\b\b\b\b\b\b\b\b\b\b\b\b\b\b\b\b\b\b\b\b\b\b\b\b\b\b\b\b\b\b\b\b\b\b\b\b\b\b\b\b\b\b\b\b\b\b\b\b\b\b\b\b\b\b\b\b\b\b\b\b\b\b                                                                         \b\b\b\b\b\b\b\b\b\b\b\b\b\b\b\b\b\b\b\b\b\b\b\b\b\b\b\b\b\b\b\b\b\b\b\b\b\b\b\b\b\b\b\b\b\b\b\b\b\b\b\b\b\b\b\b\b\b\b\b\b\b\b\b\b\b\b\b\b\b\b\b\b  2% 10060 - Dataset/Healthcare/Record/record_healthcare_7000017_2125.wav\b\b\b\b\b\b\b\b\b\b\b\b\b\b\b\b\b\b\b\b\b\b\b\b\b\b\b\b\b\b\b\b\b\b\b\b\b\b\b\b\b\b\b\b\b\b\b\b\b\b\b\b\b\b\b\b\b\b\b\b\b\b\b\b\b\b\b\b\b\b\b\b\b                                                                         \b\b\b\b\b\b\b\b\b\b\b\b\b\b\b\b\b\b\b\b\b\b\b\b\b\b\b\b\b\b\b\b\b\b\b\b\b\b\b\b\b\b\b\b\b\b\b\b\b\b\b\b\b\b\b\b\b\b\b\b\b\b\b\b\b\b\b\b\b\b\b\b\b  3% 10082 - Dataset/Healthcare/Record/record_healthcare_7000017_2327.wav\b\b\b\b\b\b\b\b\b\b\b\b\b\b\b\b\b\b\b\b\b\b\b\b\b\b\b\b\b\b\b\b\b\b\b\b\b\b\b\b\b\b\b\b\b\b\b\b\b\b\b\b\b\b\b\b\b\b\b\b\b\b\b\b\b\b\b\b\b\b\b\b\b                                                                         \b\b\b\b\b\b\b\b\b\b\b\b\b\b\b\b\b\b\b\b\b\b\b\b\b\b\b\b\b\b\b\b\b\b\b\b\b\b\b\b\b\b\b\b\b\b\b\b\b\b\b\b\b\b\b\b\b\b\b\b\b\b\b\b\b\b\b\b\b\b\b\b\b  3% 10105 - Dataset/Healthcare/Record/record_healthcare_7000017_281.wav\b\b\b\b\b\b\b\b\b\b\b\b\b\b\b\b\b\b\b\b\b\b\b\b\b\b\b\b\b\b\b\b\b\b\b\b\b\b\b\b\b\b\b\b\b\b\b\b\b\b\b\b\b\b\b\b\b\b\b\b\b\b\b\b\b\b\b\b\b\b\b\b                                                                        \b\b\b\b\b\b\b\b\b\b\b\b\b\b\b\b\b\b\b\b\b\b\b\b\b\b\b\b\b\b\b\b\b\b\b\b\b\b\b\b\b\b\b\b\b\b\b\b\b\b\b\b\b\b\b\b\b\b\b\b\b\b\b\b\b\b\b\b\b\b\b\b  3% 10128 - Dataset/Healthcare/Record/record_healthcare_7000017_46.wav\b\b\b\b\b\b\b\b\b\b\b\b\b\b\b\b\b\b\b\b\b\b\b\b\b\b\b\b\b\b\b\b\b\b\b\b\b\b\b\b\b\b\b\b\b\b\b\b\b\b\b\b\b\b\b\b\b\b\b\b\b\b\b\b\b\b\b\b\b\b\b                                                                       \b\b\b\b\b\b\b\b\b\b\b\b\b\b\b\b\b\b\b\b\b\b\b\b\b\b\b\b\b\b\b\b\b\b\b\b\b\b\b\b\b\b\b\b\b\b\b\b\b\b\b\b\b\b\b\b\b\b\b\b\b\b\b\b\b\b\b\b\b\b\b  3% 10151 - Dataset/Healthcare/Record/record_healthcare_7000017_608.wav\b\b\b\b\b\b\b\b\b\b\b\b\b\b\b\b\b\b\b\b\b\b\b\b\b\b\b\b\b\b\b\b\b\b\b\b\b\b\b\b\b\b\b\b\b\b\b\b\b\b\b\b\b\b\b\b\b\b\b\b\b\b\b\b\b\b\b\b\b\b\b\b                                                                        \b\b\b\b\b\b\b\b\b\b\b\b\b\b\b\b\b\b\b\b\b\b\b\b\b\b\b\b\b\b\b\b\b\b\b\b\b\b\b\b\b\b\b\b\b\b\b\b\b\b\b\b\b\b\b\b\b\b\b\b\b\b\b\b\b\b\b\b\b\b\b\b  3% 10174 - Dataset/Healthcare/Record/record_healthcare_7000017_728.wav\b\b\b\b\b\b\b\b\b\b\b\b\b\b\b\b\b\b\b\b\b\b\b\b\b\b\b\b\b\b\b\b\b\b\b\b\b\b\b\b\b\b\b\b\b\b\b\b\b\b\b\b\b\b\b\b\b\b\b\b\b\b\b\b\b\b\b\b\b\b\b\b                                                                        \b\b\b\b\b\b\b\b\b\b\b\b\b\b\b\b\b\b\b\b\b\b\b\b\b\b\b\b\b\b\b\b\b\b\b\b\b\b\b\b\b\b\b\b\b\b\b\b\b\b\b\b\b\b\b\b\b\b\b\b\b\b\b\b\b\b\b\b\b\b\b\b  3% 10195 - Dataset/Healthcare/Record/record_healthcare_7000017_879.wav\b\b\b\b\b\b\b\b\b\b\b\b\b\b\b\b\b\b\b\b\b\b\b\b\b\b\b\b\b\b\b\b\b\b\b\b\b\b\b\b\b\b\b\b\b\b\b\b\b\b\b\b\b\b\b\b\b\b\b\b\b\b\b\b\b\b\b\b\b\b\b\b                                                                        \b\b\b\b\b\b\b\b\b\b\b\b\b\b\b\b\b\b\b\b\b\b\b\b\b\b\b\b\b\b\b\b\b\b\b\b\b\b\b\b\b\b\b\b\b\b\b\b\b\b\b\b\b\b\b\b\b\b\b\b\b\b\b\b\b\b\b\b\b\b\b\b  3% 10216 - Dataset/Healthcare/Record/record_healthcare_7000018_1070.wav\b\b\b\b\b\b\b\b\b\b\b\b\b\b\b\b\b\b\b\b\b\b\b\b\b\b\b\b\b\b\b\b\b\b\b\b\b\b\b\b\b\b\b\b\b\b\b\b\b\b\b\b\b\b\b\b\b\b\b\b\b\b\b\b\b\b\b\b\b\b\b\b\b                                                                         \b\b\b\b\b\b\b\b\b\b\b\b\b\b\b\b\b\b\b\b\b\b\b\b\b\b\b\b\b\b\b\b\b\b\b\b\b\b\b\b\b\b\b\b\b\b\b\b\b\b\b\b\b\b\b\b\b\b\b\b\b\b\b\b\b\b\b\b\b\b\b\b\b  4% 10241 - Dataset/Healthcare/Record/record_healthcare_7000018_1304.wav\b\b\b\b\b\b\b\b\b\b\b\b\b\b\b\b\b\b\b\b\b\b\b\b\b\b\b\b\b\b\b\b\b\b\b\b\b\b\b\b\b\b\b\b\b\b\b\b\b\b\b\b\b\b\b\b\b\b\b\b\b\b\b\b\b\b\b\b\b\b\b\b\b                                                                         \b\b\b\b\b\b\b\b\b\b\b\b\b\b\b\b\b\b\b\b\b\b\b\b\b\b\b\b\b\b\b\b\b\b\b\b\b\b\b\b\b\b\b\b\b\b\b\b\b\b\b\b\b\b\b\b\b\b\b\b\b\b\b\b\b\b\b\b\b\b\b\b\b  4% 10264 - Dataset/Healthcare/Record/record_healthcare_7000018_1432.wav\b\b\b\b\b\b\b\b\b\b\b\b\b\b\b\b\b\b\b\b\b\b\b\b\b\b\b\b\b\b\b\b\b\b\b\b\b\b\b\b\b\b\b\b\b\b\b\b\b\b\b\b\b\b\b\b\b\b\b\b\b\b\b\b\b\b\b\b\b\b\b\b\b                                                                         \b\b\b\b\b\b\b\b\b\b\b\b\b\b\b\b\b\b\b\b\b\b\b\b\b\b\b\b\b\b\b\b\b\b\b\b\b\b\b\b\b\b\b\b\b\b\b\b\b\b\b\b\b\b\b\b\b\b\b\b\b\b\b\b\b\b\b\b\b\b\b\b\b  4% 10287 - Dataset/Healthcare/Record/record_healthcare_7000018_1612.wav\b\b\b\b\b\b\b\b\b\b\b\b\b\b\b\b\b\b\b\b\b\b\b\b\b\b\b\b\b\b\b\b\b\b\b\b\b\b\b\b\b\b\b\b\b\b\b\b\b\b\b\b\b\b\b\b\b\b\b\b\b\b\b\b\b\b\b\b\b\b\b\b\b                                                                         \b\b\b\b\b\b\b\b\b\b\b\b\b\b\b\b\b\b\b\b\b\b\b\b\b\b\b\b\b\b\b\b\b\b\b\b\b\b\b\b\b\b\b\b\b\b\b\b\b\b\b\b\b\b\b\b\b\b\b\b\b\b\b\b\b\b\b\b\b\b\b\b\b  4% 10310 - Dataset/Healthcare/Record/record_healthcare_7000018_1800.wav\b\b\b\b\b\b\b\b\b\b\b\b\b\b\b\b\b\b\b\b\b\b\b\b\b\b\b\b\b\b\b\b\b\b\b\b\b\b\b\b\b\b\b\b\b\b\b\b\b\b\b\b\b\b\b\b\b\b\b\b\b\b\b\b\b\b\b\b\b\b\b\b\b                                                                         \b\b\b\b\b\b\b\b\b\b\b\b\b\b\b\b\b\b\b\b\b\b\b\b\b\b\b\b\b\b\b\b\b\b\b\b\b\b\b\b\b\b\b\b\b\b\b\b\b\b\b\b\b\b\b\b\b\b\b\b\b\b\b\b\b\b\b\b\b\b\b\b\b  4% 10333 - Dataset/Healthcare/Record/record_healthcare_7000018_1976.wav\b\b\b\b\b\b\b\b\b\b\b\b\b\b\b\b\b\b\b\b\b\b\b\b\b\b\b\b\b\b\b\b\b\b\b\b\b\b\b\b\b\b\b\b\b\b\b\b\b\b\b\b\b\b\b\b\b\b\b\b\b\b\b\b\b\b\b\b\b\b\b\b\b                                                                         \b\b\b\b\b\b\b\b\b\b\b\b\b\b\b\b\b\b\b\b\b\b\b\b\b\b\b\b\b\b\b\b\b\b\b\b\b\b\b\b\b\b\b\b\b\b\b\b\b\b\b\b\b\b\b\b\b\b\b\b\b\b\b\b\b\b\b\b\b\b\b\b\b  4% 10356 - Dataset/Healthcare/Record/record_healthcare_7000018_2140.wav\b\b\b\b\b\b\b\b\b\b\b\b\b\b\b\b\b\b\b\b\b\b\b\b\b\b\b\b\b\b\b\b\b\b\b\b\b\b\b\b\b\b\b\b\b\b\b\b\b\b\b\b\b\b\b\b\b\b\b\b\b\b\b\b\b\b\b\b\b\b\b\b\b                                                                         \b\b\b\b\b\b\b\b\b\b\b\b\b\b\b\b\b\b\b\b\b\b\b\b\b\b\b\b\b\b\b\b\b\b\b\b\b\b\b\b\b\b\b\b\b\b\b\b\b\b\b\b\b\b\b\b\b\b\b\b\b\b\b\b\b\b\b\b\b\b\b\b\b  4% 10379 - Dataset/Healthcare/Record/record_healthcare_7000018_2257.wav\b\b\b\b\b\b\b\b\b\b\b\b\b\b\b\b\b\b\b\b\b\b\b\b\b\b\b\b\b\b\b\b\b\b\b\b\b\b\b\b\b\b\b\b\b\b\b\b\b\b\b\b\b\b\b\b\b\b\b\b\b\b\b\b\b\b\b\b\b\b\b\b\b                                                                         \b\b\b\b\b\b\b\b\b\b\b\b\b\b\b\b\b\b\b\b\b\b\b\b\b\b\b\b\b\b\b\b\b\b\b\b\b\b\b\b\b\b\b\b\b\b\b\b\b\b\b\b\b\b\b\b\b\b\b\b\b\b\b\b\b\b\b\b\b\b\b\b\b  4% 10403 - Dataset/Healthcare/Record/record_healthcare_7000018_2452.wav\b\b\b\b\b\b\b\b\b\b\b\b\b\b\b\b\b\b\b\b\b\b\b\b\b\b\b\b\b\b\b\b\b\b\b\b\b\b\b\b\b\b\b\b\b\b\b\b\b\b\b\b\b\b\b\b\b\b\b\b\b\b\b\b\b\b\b\b\b\b\b\b\b                                                                         \b\b\b\b\b\b\b\b\b\b\b\b\b\b\b\b\b\b\b\b\b\b\b\b\b\b\b\b\b\b\b\b\b\b\b\b\b\b\b\b\b\b\b\b\b\b\b\b\b\b\b\b\b\b\b\b\b\b\b\b\b\b\b\b\b\b\b\b\b\b\b\b\b  4% 10424 - Dataset/Healthcare/Record/record_healthcare_7000018_422.wav\b\b\b\b\b\b\b\b\b\b\b\b\b\b\b\b\b\b\b\b\b\b\b\b\b\b\b\b\b\b\b\b\b\b\b\b\b\b\b\b\b\b\b\b\b\b\b\b\b\b\b\b\b\b\b\b\b\b\b\b\b\b\b\b\b\b\b\b\b\b\b\b                                                                        \b\b\b\b\b\b\b\b\b\b\b\b\b\b\b\b\b\b\b\b\b\b\b\b\b\b\b\b\b\b\b\b\b\b\b\b\b\b\b\b\b\b\b\b\b\b\b\b\b\b\b\b\b\b\b\b\b\b\b\b\b\b\b\b\b\b\b\b\b\b\b\b  5% 10447 - Dataset/Healthcare/Record/record_healthcare_7000018_524.wav\b\b\b\b\b\b\b\b\b\b\b\b\b\b\b\b\b\b\b\b\b\b\b\b\b\b\b\b\b\b\b\b\b\b\b\b\b\b\b\b\b\b\b\b\b\b\b\b\b\b\b\b\b\b\b\b\b\b\b\b\b\b\b\b\b\b\b\b\b\b\b\b                                                                        \b\b\b\b\b\b\b\b\b\b\b\b\b\b\b\b\b\b\b\b\b\b\b\b\b\b\b\b\b\b\b\b\b\b\b\b\b\b\b\b\b\b\b\b\b\b\b\b\b\b\b\b\b\b\b\b\b\b\b\b\b\b\b\b\b\b\b\b\b\b\b\b  5% 10471 - Dataset/Healthcare/Record/record_healthcare_7000018_748.wav\b\b\b\b\b\b\b\b\b\b\b\b\b\b\b\b\b\b\b\b\b\b\b\b\b\b\b\b\b\b\b\b\b\b\b\b\b\b\b\b\b\b\b\b\b\b\b\b\b\b\b\b\b\b\b\b\b\b\b\b\b\b\b\b\b\b\b\b\b\b\b\b                                                                        \b\b\b\b\b\b\b\b\b\b\b\b\b\b\b\b\b\b\b\b\b\b\b\b\b\b\b\b\b\b\b\b\b\b\b\b\b\b\b\b\b\b\b\b\b\b\b\b\b\b\b\b\b\b\b\b\b\b\b\b\b\b\b\b\b\b\b\b\b\b\b\b  5% 10494 - Dataset/Healthcare/Record/record_healthcare_7000018_93.wav\b\b\b\b\b\b\b\b\b\b\b\b\b\b\b\b\b\b\b\b\b\b\b\b\b\b\b\b\b\b\b\b\b\b\b\b\b\b\b\b\b\b\b\b\b\b\b\b\b\b\b\b\b\b\b\b\b\b\b\b\b\b\b\b\b\b\b\b\b\b\b                                                                       \b\b\b\b\b\b\b\b\b\b\b\b\b\b\b\b\b\b\b\b\b\b\b\b\b\b\b\b\b\b\b\b\b\b\b\b\b\b\b\b\b\b\b\b\b\b\b\b\b\b\b\b\b\b\b\b\b\b\b\b\b\b\b\b\b\b\b\b\b\b\b  5% 10518 - Dataset/Healthcare/Record/record_healthcare_7000019_1073.wav\b\b\b\b\b\b\b\b\b\b\b\b\b\b\b\b\b\b\b\b\b\b\b\b\b\b\b\b\b\b\b\b\b\b\b\b\b\b\b\b\b\b\b\b\b\b\b\b\b\b\b\b\b\b\b\b\b\b\b\b\b\b\b\b\b\b\b\b\b\b\b\b\b                                                                         \b\b\b\b\b\b\b\b\b\b\b\b\b\b\b\b\b\b\b\b\b\b\b\b\b\b\b\b\b\b\b\b\b\b\b\b\b\b\b\b\b\b\b\b\b\b\b\b\b\b\b\b\b\b\b\b\b\b\b\b\b\b\b\b\b\b\b\b\b\b\b\b\b  5% 10541 - Dataset/Healthcare/Record/record_healthcare_7000019_1207.wav\b\b\b\b\b\b\b\b\b\b\b\b\b\b\b\b\b\b\b\b\b\b\b\b\b\b\b\b\b\b\b\b\b\b\b\b\b\b\b\b\b\b\b\b\b\b\b\b\b\b\b\b\b\b\b\b\b\b\b\b\b\b\b\b\b\b\b\b\b\b\b\b\b                                                                         \b\b\b\b\b\b\b\b\b\b\b\b\b\b\b\b\b\b\b\b\b\b\b\b\b\b\b\b\b\b\b\b\b\b\b\b\b\b\b\b\b\b\b\b\b\b\b\b\b\b\b\b\b\b\b\b\b\b\b\b\b\b\b\b\b\b\b\b\b\b\b\b\b  5% 10564 - Dataset/Healthcare/Record/record_healthcare_7000019_1354.wav\b\b\b\b\b\b\b\b\b\b\b\b\b\b\b\b\b\b\b\b\b\b\b\b\b\b\b\b\b\b\b\b\b\b\b\b\b\b\b\b\b\b\b\b\b\b\b\b\b\b\b\b\b\b\b\b\b\b\b\b\b\b\b\b\b\b\b\b\b\b\b\b\b                                                                         \b\b\b\b\b\b\b\b\b\b\b\b\b\b\b\b\b\b\b\b\b\b\b\b\b\b\b\b\b\b\b\b\b\b\b\b\b\b\b\b\b\b\b\b\b\b\b\b\b\b\b\b\b\b\b\b\b\b\b\b\b\b\b\b\b\b\b\b\b\b\b\b\b  5% 10587 - Dataset/Healthcare/Record/record_healthcare_7000019_155.wav\b\b\b\b\b\b\b\b\b\b\b\b\b\b\b\b\b\b\b\b\b\b\b\b\b\b\b\b\b\b\b\b\b\b\b\b\b\b\b\b\b\b\b\b\b\b\b\b\b\b\b\b\b\b\b\b\b\b\b\b\b\b\b\b\b\b\b\b\b\b\b\b                                                                        \b\b\b\b\b\b\b\b\b\b\b\b\b\b\b\b\b\b\b\b\b\b\b\b\b\b\b\b\b\b\b\b\b\b\b\b\b\b\b\b\b\b\b\b\b\b\b\b\b\b\b\b\b\b\b\b\b\b\b\b\b\b\b\b\b\b\b\b\b\b\b\b  5% 10607 - Dataset/Healthcare/Record/record_healthcare_7000019_1765.wav\b\b\b\b\b\b\b\b\b\b\b\b\b\b\b\b\b\b\b\b\b\b\b\b\b\b\b\b\b\b\b\b\b\b\b\b\b\b\b\b\b\b\b\b\b\b\b\b\b\b\b\b\b\b\b\b\b\b\b\b\b\b\b\b\b\b\b\b\b\b\b\b\b                                                                         \b\b\b\b\b\b\b\b\b\b\b\b\b\b\b\b\b\b\b\b\b\b\b\b\b\b\b\b\b\b\b\b\b\b\b\b\b\b\b\b\b\b\b\b\b\b\b\b\b\b\b\b\b\b\b\b\b\b\b\b\b\b\b\b\b\b\b\b\b\b\b\b\b  5% 10630 - Dataset/Healthcare/Record/record_healthcare_7000019_1907.wav\b\b\b\b\b\b\b\b\b\b\b\b\b\b\b\b\b\b\b\b\b\b\b\b\b\b\b\b\b\b\b\b\b\b\b\b\b\b\b\b\b\b\b\b\b\b\b\b\b\b\b\b\b\b\b\b\b\b\b\b\b\b\b\b\b\b\b\b\b\b\b\b\b                                                                         \b\b\b\b\b\b\b\b\b\b\b\b\b\b\b\b\b\b\b\b\b\b\b\b\b\b\b\b\b\b\b\b\b\b\b\b\b\b\b\b\b\b\b\b\b\b\b\b\b\b\b\b\b\b\b\b\b\b\b\b\b\b\b\b\b\b\b\b\b\b\b\b\b  5% 10652 - Dataset/Healthcare/Record/record_healthcare_7000019_2054.wav\b\b\b\b\b\b\b\b\b\b\b\b\b\b\b\b\b\b\b\b\b\b\b\b\b\b\b\b\b\b\b\b\b\b\b\b\b\b\b\b\b\b\b\b\b\b\b\b\b\b\b\b\b\b\b\b\b\b\b\b\b\b\b\b\b\b\b\b\b\b\b\b\b                                                                         \b\b\b\b\b\b\b\b\b\b\b\b\b\b\b\b\b\b\b\b\b\b\b\b\b\b\b\b\b\b\b\b\b\b\b\b\b\b\b\b\b\b\b\b\b\b\b\b\b\b\b\b\b\b\b\b\b\b\b\b\b\b\b\b\b\b\b\b\b\b\b\b\b  6% 10675 - Dataset/Healthcare/Record/record_healthcare_7000019_2253.wav\b\b\b\b\b\b\b\b\b\b\b\b\b\b\b\b\b\b\b\b\b\b\b\b\b\b\b\b\b\b\b\b\b\b\b\b\b\b\b\b\b\b\b\b\b\b\b\b\b\b\b\b\b\b\b\b\b\b\b\b\b\b\b\b\b\b\b\b\b\b\b\b\b                                                                         \b\b\b\b\b\b\b\b\b\b\b\b\b\b\b\b\b\b\b\b\b\b\b\b\b\b\b\b\b\b\b\b\b\b\b\b\b\b\b\b\b\b\b\b\b\b\b\b\b\b\b\b\b\b\b\b\b\b\b\b\b\b\b\b\b\b\b\b\b\b\b\b\b  6% 10697 - Dataset/Healthcare/Record/record_healthcare_7000019_2409.wav\b\b\b\b\b\b\b\b\b\b\b\b\b\b\b\b\b\b\b\b\b\b\b\b\b\b\b\b\b\b\b\b\b\b\b\b\b\b\b\b\b\b\b\b\b\b\b\b\b\b\b\b\b\b\b\b\b\b\b\b\b\b\b\b\b\b\b\b\b\b\b\b\b                                                                         \b\b\b\b\b\b\b\b\b\b\b\b\b\b\b\b\b\b\b\b\b\b\b\b\b\b\b\b\b\b\b\b\b\b\b\b\b\b\b\b\b\b\b\b\b\b\b\b\b\b\b\b\b\b\b\b\b\b\b\b\b\b\b\b\b\b\b\b\b\b\b\b\b  6% 10719 - Dataset/Healthcare/Record/record_healthcare_7000019_304.wav\b\b\b\b\b\b\b\b\b\b\b\b\b\b\b\b\b\b\b\b\b\b\b\b\b\b\b\b\b\b\b\b\b\b\b\b\b\b\b\b\b\b\b\b\b\b\b\b\b\b\b\b\b\b\b\b\b\b\b\b\b\b\b\b\b\b\b\b\b\b\b\b                                                                        \b\b\b\b\b\b\b\b\b\b\b\b\b\b\b\b\b\b\b\b\b\b\b\b\b\b\b\b\b\b\b\b\b\b\b\b\b\b\b\b\b\b\b\b\b\b\b\b\b\b\b\b\b\b\b\b\b\b\b\b\b\b\b\b\b\b\b\b\b\b\b\b  6% 10742 - Dataset/Healthcare/Record/record_healthcare_7000019_482.wav\b\b\b\b\b\b\b\b\b\b\b\b\b\b\b\b\b\b\b\b\b\b\b\b\b\b\b\b\b\b\b\b\b\b\b\b\b\b\b\b\b\b\b\b\b\b\b\b\b\b\b\b\b\b\b\b\b\b\b\b\b\b\b\b\b\b\b\b\b\b\b\b                                                                        \b\b\b\b\b\b\b\b\b\b\b\b\b\b\b\b\b\b\b\b\b\b\b\b\b\b\b\b\b\b\b\b\b\b\b\b\b\b\b\b\b\b\b\b\b\b\b\b\b\b\b\b\b\b\b\b\b\b\b\b\b\b\b\b\b\b\b\b\b\b\b\b  6% 10765 - Dataset/Healthcare/Record/record_healthcare_7000019_687.wav\b\b\b\b\b\b\b\b\b\b\b\b\b\b\b\b\b\b\b\b\b\b\b\b\b\b\b\b\b\b\b\b\b\b\b\b\b\b\b\b\b\b\b\b\b\b\b\b\b\b\b\b\b\b\b\b\b\b\b\b\b\b\b\b\b\b\b\b\b\b\b\b                                                                        \b\b\b\b\b\b\b\b\b\b\b\b\b\b\b\b\b\b\b\b\b\b\b\b\b\b\b\b\b\b\b\b\b\b\b\b\b\b\b\b\b\b\b\b\b\b\b\b\b\b\b\b\b\b\b\b\b\b\b\b\b\b\b\b\b\b\b\b\b\b\b\b  6% 10786 - Dataset/Healthcare/Record/record_healthcare_7000019_876.wav\b\b\b\b\b\b\b\b\b\b\b\b\b\b\b\b\b\b\b\b\b\b\b\b\b\b\b\b\b\b\b\b\b\b\b\b\b\b\b\b\b\b\b\b\b\b\b\b\b\b\b\b\b\b\b\b\b\b\b\b\b\b\b\b\b\b\b\b\b\b\b\b                                                                        \b\b\b\b\b\b\b\b\b\b\b\b\b\b\b\b\b\b\b\b\b\b\b\b\b\b\b\b\b\b\b\b\b\b\b\b\b\b\b\b\b\b\b\b\b\b\b\b\b\b\b\b\b\b\b\b\b\b\b\b\b\b\b\b\b\b\b\b\b\b\b\b  6% 10809 - Dataset/Healthcare/Record/record_healthcare_7000020_1030.wav\b\b\b\b\b\b\b\b\b\b\b\b\b\b\b\b\b\b\b\b\b\b\b\b\b\b\b\b\b\b\b\b\b\b\b\b\b\b\b\b\b\b\b\b\b\b\b\b\b\b\b\b\b\b\b\b\b\b\b\b\b\b\b\b\b\b\b\b\b\b\b\b\b                                                                         \b\b\b\b\b\b\b\b\b\b\b\b\b\b\b\b\b\b\b\b\b\b\b\b\b\b\b\b\b\b\b\b\b\b\b\b\b\b\b\b\b\b\b\b\b\b\b\b\b\b\b\b\b\b\b\b\b\b\b\b\b\b\b\b\b\b\b\b\b\b\b\b\b  6% 10833 - Dataset/Healthcare/Record/record_healthcare_7000020_1180.wav\b\b\b\b\b\b\b\b\b\b\b\b\b\b\b\b\b\b\b\b\b\b\b\b\b\b\b\b\b\b\b\b\b\b\b\b\b\b\b\b\b\b\b\b\b\b\b\b\b\b\b\b\b\b\b\b\b\b\b\b\b\b\b\b\b\b\b\b\b\b\b\b\b                                                                         \b\b\b\b\b\b\b\b\b\b\b\b\b\b\b\b\b\b\b\b\b\b\b\b\b\b\b\b\b\b\b\b\b\b\b\b\b\b\b\b\b\b\b\b\b\b\b\b\b\b\b\b\b\b\b\b\b\b\b\b\b\b\b\b\b\b\b\b\b\b\b\b\b  7% 10854 - Dataset/Healthcare/Record/record_healthcare_7000020_1392.wav\b\b\b\b\b\b\b\b\b\b\b\b\b\b\b\b\b\b\b\b\b\b\b\b\b\b\b\b\b\b\b\b\b\b\b\b\b\b\b\b\b\b\b\b\b\b\b\b\b\b\b\b\b\b\b\b\b\b\b\b\b\b\b\b\b\b\b\b\b\b\b\b\b                                                                         \b\b\b\b\b\b\b\b\b\b\b\b\b\b\b\b\b\b\b\b\b\b\b\b\b\b\b\b\b\b\b\b\b\b\b\b\b\b\b\b\b\b\b\b\b\b\b\b\b\b\b\b\b\b\b\b\b\b\b\b\b\b\b\b\b\b\b\b\b\b\b\b\b  7% 10876 - Dataset/Healthcare/Record/record_healthcare_7000020_1566.wav\b\b\b\b\b\b\b\b\b\b\b\b\b\b\b\b\b\b\b\b\b\b\b\b\b\b\b\b\b\b\b\b\b\b\b\b\b\b\b\b\b\b\b\b\b\b\b\b\b\b\b\b\b\b\b\b\b\b\b\b\b\b\b\b\b\b\b\b\b\b\b\b\b                                                                         \b\b\b\b\b\b\b\b\b\b\b\b\b\b\b\b\b\b\b\b\b\b\b\b\b\b\b\b\b\b\b\b\b\b\b\b\b\b\b\b\b\b\b\b\b\b\b\b\b\b\b\b\b\b\b\b\b\b\b\b\b\b\b\b\b\b\b\b\b\b\b\b\b  7% 10899 - Dataset/Healthcare/Record/record_healthcare_7000020_1682.wav\b\b\b\b\b\b\b\b\b\b\b\b\b\b\b\b\b\b\b\b\b\b\b\b\b\b\b\b\b\b\b\b\b\b\b\b\b\b\b\b\b\b\b\b\b\b\b\b\b\b\b\b\b\b\b\b\b\b\b\b\b\b\b\b\b\b\b\b\b\b\b\b\b                                                                         \b\b\b\b\b\b\b\b\b\b\b\b\b\b\b\b\b\b\b\b\b\b\b\b\b\b\b\b\b\b\b\b\b\b\b\b\b\b\b\b\b\b\b\b\b\b\b\b\b\b\b\b\b\b\b\b\b\b\b\b\b\b\b\b\b\b\b\b\b\b\b\b\b  7% 10921 - Dataset/Healthcare/Record/record_healthcare_7000020_1867.wav\b\b\b\b\b\b\b\b\b\b\b\b\b\b\b\b\b\b\b\b\b\b\b\b\b\b\b\b\b\b\b\b\b\b\b\b\b\b\b\b\b\b\b\b\b\b\b\b\b\b\b\b\b\b\b\b\b\b\b\b\b\b\b\b\b\b\b\b\b\b\b\b\b                                                                         \b\b\b\b\b\b\b\b\b\b\b\b\b\b\b\b\b\b\b\b\b\b\b\b\b\b\b\b\b\b\b\b\b\b\b\b\b\b\b\b\b\b\b\b\b\b\b\b\b\b\b\b\b\b\b\b\b\b\b\b\b\b\b\b\b\b\b\b\b\b\b\b\b  7% 10944 - Dataset/Healthcare/Record/record_healthcare_7000020_2004.wav\b\b\b\b\b\b\b\b\b\b\b\b\b\b\b\b\b\b\b\b\b\b\b\b\b\b\b\b\b\b\b\b\b\b\b\b\b\b\b\b\b\b\b\b\b\b\b\b\b\b\b\b\b\b\b\b\b\b\b\b\b\b\b\b\b\b\b\b\b\b\b\b\b                                                                         \b\b\b\b\b\b\b\b\b\b\b\b\b\b\b\b\b\b\b\b\b\b\b\b\b\b\b\b\b\b\b\b\b\b\b\b\b\b\b\b\b\b\b\b\b\b\b\b\b\b\b\b\b\b\b\b\b\b\b\b\b\b\b\b\b\b\b\b\b\b\b\b\b  7% 10965 - Dataset/Healthcare/Record/record_healthcare_7000020_2134.wav\b\b\b\b\b\b\b\b\b\b\b\b\b\b\b\b\b\b\b\b\b\b\b\b\b\b\b\b\b\b\b\b\b\b\b\b\b\b\b\b\b\b\b\b\b\b\b\b\b\b\b\b\b\b\b\b\b\b\b\b\b\b\b\b\b\b\b\b\b\b\b\b\b                                                                         \b\b\b\b\b\b\b\b\b\b\b\b\b\b\b\b\b\b\b\b\b\b\b\b\b\b\b\b\b\b\b\b\b\b\b\b\b\b\b\b\b\b\b\b\b\b\b\b\b\b\b\b\b\b\b\b\b\b\b\b\b\b\b\b\b\b\b\b\b\b\b\b\b  7% 10986 - Dataset/Healthcare/Record/record_healthcare_7000020_2276.wav\b\b\b\b\b\b\b\b\b\b\b\b\b\b\b\b\b\b\b\b\b\b\b\b\b\b\b\b\b\b\b\b\b\b\b\b\b\b\b\b\b\b\b\b\b\b\b\b\b\b\b\b\b\b\b\b\b\b\b\b\b\b\b\b\b\b\b\b\b\b\b\b\b                                                                         \b\b\b\b\b\b\b\b\b\b\b\b\b\b\b\b\b\b\b\b\b\b\b\b\b\b\b\b\b\b\b\b\b\b\b\b\b\b\b\b\b\b\b\b\b\b\b\b\b\b\b\b\b\b\b\b\b\b\b\b\b\b\b\b\b\b\b\b\b\b\b\b\b  7% 11008 - Dataset/Healthcare/Record/record_healthcare_7000020_2434.wav\b\b\b\b\b\b\b\b\b\b\b\b\b\b\b\b\b\b\b\b\b\b\b\b\b\b\b\b\b\b\b\b\b\b\b\b\b\b\b\b\b\b\b\b\b\b\b\b\b\b\b\b\b\b\b\b\b\b\b\b\b\b\b\b\b\b\b\b\b\b\b\b\b                                                                         \b\b\b\b\b\b\b\b\b\b\b\b\b\b\b\b\b\b\b\b\b\b\b\b\b\b\b\b\b\b\b\b\b\b\b\b\b\b\b\b\b\b\b\b\b\b\b\b\b\b\b\b\b\b\b\b\b\b\b\b\b\b\b\b\b\b\b\b\b\b\b\b\b  8% 11029 - Dataset/Healthcare/Record/record_healthcare_7000020_39.wav\b\b\b\b\b\b\b\b\b\b\b\b\b\b\b\b\b\b\b\b\b\b\b\b\b\b\b\b\b\b\b\b\b\b\b\b\b\b\b\b\b\b\b\b\b\b\b\b\b\b\b\b\b\b\b\b\b\b\b\b\b\b\b\b\b\b\b\b\b\b\b                                                                       \b\b\b\b\b\b\b\b\b\b\b\b\b\b\b\b\b\b\b\b\b\b\b\b\b\b\b\b\b\b\b\b\b\b\b\b\b\b\b\b\b\b\b\b\b\b\b\b\b\b\b\b\b\b\b\b\b\b\b\b\b\b\b\b\b\b\b\b\b\b\b  8% 11051 - Dataset/Healthcare/Record/record_healthcare_7000020_554.wav\b\b\b\b\b\b\b\b\b\b\b\b\b\b\b\b\b\b\b\b\b\b\b\b\b\b\b\b\b\b\b\b\b\b\b\b\b\b\b\b\b\b\b\b\b\b\b\b\b\b\b\b\b\b\b\b\b\b\b\b\b\b\b\b\b\b\b\b\b\b\b\b                                                                        \b\b\b\b\b\b\b\b\b\b\b\b\b\b\b\b\b\b\b\b\b\b\b\b\b\b\b\b\b\b\b\b\b\b\b\b\b\b\b\b\b\b\b\b\b\b\b\b\b\b\b\b\b\b\b\b\b\b\b\b\b\b\b\b\b\b\b\b\b\b\b\b  8% 11073 - Dataset/Healthcare/Record/record_healthcare_7000020_754.wav\b\b\b\b\b\b\b\b\b\b\b\b\b\b\b\b\b\b\b\b\b\b\b\b\b\b\b\b\b\b\b\b\b\b\b\b\b\b\b\b\b\b\b\b\b\b\b\b\b\b\b\b\b\b\b\b\b\b\b\b\b\b\b\b\b\b\b\b\b\b\b\b                                                                        \b\b\b\b\b\b\b\b\b\b\b\b\b\b\b\b\b\b\b\b\b\b\b\b\b\b\b\b\b\b\b\b\b\b\b\b\b\b\b\b\b\b\b\b\b\b\b\b\b\b\b\b\b\b\b\b\b\b\b\b\b\b\b\b\b\b\b\b\b\b\b\b  8% 11094 - Dataset/Healthcare/Record/record_healthcare_7000020_904.wav\b\b\b\b\b\b\b\b\b\b\b\b\b\b\b\b\b\b\b\b\b\b\b\b\b\b\b\b\b\b\b\b\b\b\b\b\b\b\b\b\b\b\b\b\b\b\b\b\b\b\b\b\b\b\b\b\b\b\b\b\b\b\b\b\b\b\b\b\b\b\b\b                                                                        \b\b\b\b\b\b\b\b\b\b\b\b\b\b\b\b\b\b\b\b\b\b\b\b\b\b\b\b\b\b\b\b\b\b\b\b\b\b\b\b\b\b\b\b\b\b\b\b\b\b\b\b\b\b\b\b\b\b\b\b\b\b\b\b\b\b\b\b\b\b\b\b  8% 11116 - Dataset/Healthcare/Record/record_healthcare_7000021_1055.wav\b\b\b\b\b\b\b\b\b\b\b\b\b\b\b\b\b\b\b\b\b\b\b\b\b\b\b\b\b\b\b\b\b\b\b\b\b\b\b\b\b\b\b\b\b\b\b\b\b\b\b\b\b\b\b\b\b\b\b\b\b\b\b\b\b\b\b\b\b\b\b\b\b                                                                         \b\b\b\b\b\b\b\b\b\b\b\b\b\b\b\b\b\b\b\b\b\b\b\b\b\b\b\b\b\b\b\b\b\b\b\b\b\b\b\b\b\b\b\b\b\b\b\b\b\b\b\b\b\b\b\b\b\b\b\b\b\b\b\b\b\b\b\b\b\b\b\b\b  8% 11138 - Dataset/Healthcare/Record/record_healthcare_7000021_1273.wav\b\b\b\b\b\b\b\b\b\b\b\b\b\b\b\b\b\b\b\b\b\b\b\b\b\b\b\b\b\b\b\b\b\b\b\b\b\b\b\b\b\b\b\b\b\b\b\b\b\b\b\b\b\b\b\b\b\b\b\b\b\b\b\b\b\b\b\b\b\b\b\b\b                                                                         \b\b\b\b\b\b\b\b\b\b\b\b\b\b\b\b\b\b\b\b\b\b\b\b\b\b\b\b\b\b\b\b\b\b\b\b\b\b\b\b\b\b\b\b\b\b\b\b\b\b\b\b\b\b\b\b\b\b\b\b\b\b\b\b\b\b\b\b\b\b\b\b\b  8% 11158 - Dataset/Healthcare/Record/record_healthcare_7000021_1439.wav\b\b\b\b\b\b\b\b\b\b\b\b\b\b\b\b\b\b\b\b\b\b\b\b\b\b\b\b\b\b\b\b\b\b\b\b\b\b\b\b\b\b\b\b\b\b\b\b\b\b\b\b\b\b\b\b\b\b\b\b\b\b\b\b\b\b\b\b\b\b\b\b\b                                                                         \b\b\b\b\b\b\b\b\b\b\b\b\b\b\b\b\b\b\b\b\b\b\b\b\b\b\b\b\b\b\b\b\b\b\b\b\b\b\b\b\b\b\b\b\b\b\b\b\b\b\b\b\b\b\b\b\b\b\b\b\b\b\b\b\b\b\b\b\b\b\b\b\b  8% 11178 - Dataset/Healthcare/Record/record_healthcare_7000021_153.wav\b\b\b\b\b\b\b\b\b\b\b\b\b\b\b\b\b\b\b\b\b\b\b\b\b\b\b\b\b\b\b\b\b\b\b\b\b\b\b\b\b\b\b\b\b\b\b\b\b\b\b\b\b\b\b\b\b\b\b\b\b\b\b\b\b\b\b\b\b\b\b\b                                                                        \b\b\b\b\b\b\b\b\b\b\b\b\b\b\b\b\b\b\b\b\b\b\b\b\b\b\b\b\b\b\b\b\b\b\b\b\b\b\b\b\b\b\b\b\b\b\b\b\b\b\b\b\b\b\b\b\b\b\b\b\b\b\b\b\b\b\b\b\b\b\b\b  9% 11196 - Dataset/Healthcare/Record/record_healthcare_7000021_1626.wav\b\b\b\b\b\b\b\b\b\b\b\b\b\b\b\b\b\b\b\b\b\b\b\b\b\b\b\b\b\b\b\b\b\b\b\b\b\b\b\b\b\b\b\b\b\b\b\b\b\b\b\b\b\b\b\b\b\b\b\b\b\b\b\b\b\b\b\b\b\b\b\b\b                                                                         \b\b\b\b\b\b\b\b\b\b\b\b\b\b\b\b\b\b\b\b\b\b\b\b\b\b\b\b\b\b\b\b\b\b\b\b\b\b\b\b\b\b\b\b\b\b\b\b\b\b\b\b\b\b\b\b\b\b\b\b\b\b\b\b\b\b\b\b\b\b\b\b\b  9% 11216 - Dataset/Healthcare/Record/record_healthcare_7000021_1796.wav\b\b\b\b\b\b\b\b\b\b\b\b\b\b\b\b\b\b\b\b\b\b\b\b\b\b\b\b\b\b\b\b\b\b\b\b\b\b\b\b\b\b\b\b\b\b\b\b\b\b\b\b\b\b\b\b\b\b\b\b\b\b\b\b\b\b\b\b\b\b\b\b\b                                                                         \b\b\b\b\b\b\b\b\b\b\b\b\b\b\b\b\b\b\b\b\b\b\b\b\b\b\b\b\b\b\b\b\b\b\b\b\b\b\b\b\b\b\b\b\b\b\b\b\b\b\b\b\b\b\b\b\b\b\b\b\b\b\b\b\b\b\b\b\b\b\b\b\b  9% 11237 - Dataset/Healthcare/Record/record_healthcare_7000021_1997.wav\b\b\b\b\b\b\b\b\b\b\b\b\b\b\b\b\b\b\b\b\b\b\b\b\b\b\b\b\b\b\b\b\b\b\b\b\b\b\b\b\b\b\b\b\b\b\b\b\b\b\b\b\b\b\b\b\b\b\b\b\b\b\b\b\b\b\b\b\b\b\b\b\b                                                                         \b\b\b\b\b\b\b\b\b\b\b\b\b\b\b\b\b\b\b\b\b\b\b\b\b\b\b\b\b\b\b\b\b\b\b\b\b\b\b\b\b\b\b\b\b\b\b\b\b\b\b\b\b\b\b\b\b\b\b\b\b\b\b\b\b\b\b\b\b\b\b\b\b  9% 11257 - Dataset/Healthcare/Record/record_healthcare_7000021_2179.wav\b\b\b\b\b\b\b\b\b\b\b\b\b\b\b\b\b\b\b\b\b\b\b\b\b\b\b\b\b\b\b\b\b\b\b\b\b\b\b\b\b\b\b\b\b\b\b\b\b\b\b\b\b\b\b\b\b\b\b\b\b\b\b\b\b\b\b\b\b\b\b\b\b                                                                         \b\b\b\b\b\b\b\b\b\b\b\b\b\b\b\b\b\b\b\b\b\b\b\b\b\b\b\b\b\b\b\b\b\b\b\b\b\b\b\b\b\b\b\b\b\b\b\b\b\b\b\b\b\b\b\b\b\b\b\b\b\b\b\b\b\b\b\b\b\b\b\b\b  9% 11278 - Dataset/Healthcare/Record/record_healthcare_7000021_2319.wav\b\b\b\b\b\b\b\b\b\b\b\b\b\b\b\b\b\b\b\b\b\b\b\b\b\b\b\b\b\b\b\b\b\b\b\b\b\b\b\b\b\b\b\b\b\b\b\b\b\b\b\b\b\b\b\b\b\b\b\b\b\b\b\b\b\b\b\b\b\b\b\b\b                                                                         \b\b\b\b\b\b\b\b\b\b\b\b\b\b\b\b\b\b\b\b\b\b\b\b\b\b\b\b\b\b\b\b\b\b\b\b\b\b\b\b\b\b\b\b\b\b\b\b\b\b\b\b\b\b\b\b\b\b\b\b\b\b\b\b\b\b\b\b\b\b\b\b\b  9% 11299 - Dataset/Healthcare/Record/record_healthcare_7000021_2474.wav\b\b\b\b\b\b\b\b\b\b\b\b\b\b\b\b\b\b\b\b\b\b\b\b\b\b\b\b\b\b\b\b\b\b\b\b\b\b\b\b\b\b\b\b\b\b\b\b\b\b\b\b\b\b\b\b\b\b\b\b\b\b\b\b\b\b\b\b\b\b\b\b\b                                                                         \b\b\b\b\b\b\b\b\b\b\b\b\b\b\b\b\b\b\b\b\b\b\b\b\b\b\b\b\b\b\b\b\b\b\b\b\b\b\b\b\b\b\b\b\b\b\b\b\b\b\b\b\b\b\b\b\b\b\b\b\b\b\b\b\b\b\b\b\b\b\b\b\b  9% 11319 - Dataset/Healthcare/Record/record_healthcare_7000021_339.wav\b\b\b\b\b\b\b\b\b\b\b\b\b\b\b\b\b\b\b\b\b\b\b\b\b\b\b\b\b\b\b\b\b\b\b\b\b\b\b\b\b\b\b\b\b\b\b\b\b\b\b\b\b\b\b\b\b\b\b\b\b\b\b\b\b\b\b\b\b\b\b\b                                                                        \b\b\b\b\b\b\b\b\b\b\b\b\b\b\b\b\b\b\b\b\b\b\b\b\b\b\b\b\b\b\b\b\b\b\b\b\b\b\b\b\b\b\b\b\b\b\b\b\b\b\b\b\b\b\b\b\b\b\b\b\b\b\b\b\b\b\b\b\b\b\b\b  9% 11339 - Dataset/Healthcare/Record/record_healthcare_7000021_526.wav\b\b\b\b\b\b\b\b\b\b\b\b\b\b\b\b\b\b\b\b\b\b\b\b\b\b\b\b\b\b\b\b\b\b\b\b\b\b\b\b\b\b\b\b\b\b\b\b\b\b\b\b\b\b\b\b\b\b\b\b\b\b\b\b\b\b\b\b\b\b\b\b                                                                        \b\b\b\b\b\b\b\b\b\b\b\b\b\b\b\b\b\b\b\b\b\b\b\b\b\b\b\b\b\b\b\b\b\b\b\b\b\b\b\b\b\b\b\b\b\b\b\b\b\b\b\b\b\b\b\b\b\b\b\b\b\b\b\b\b\b\b\b\b\b\b\b  9% 11359 - Dataset/Healthcare/Record/record_healthcare_7000021_685.wav\b\b\b\b\b\b\b\b\b\b\b\b\b\b\b\b\b\b\b\b\b\b\b\b\b\b\b\b\b\b\b\b\b\b\b\b\b\b\b\b\b\b\b\b\b\b\b\b\b\b\b\b\b\b\b\b\b\b\b\b\b\b\b\b\b\b\b\b\b\b\b\b                                                                        \b\b\b\b\b\b\b\b\b\b\b\b\b\b\b\b\b\b\b\b\b\b\b\b\b\b\b\b\b\b\b\b\b\b\b\b\b\b\b\b\b\b\b\b\b\b\b\b\b\b\b\b\b\b\b\b\b\b\b\b\b\b\b\b\b\b\b\b\b\b\b\b 10% 11379 - Dataset/Healthcare/Record/record_healthcare_7000021_801.wav\b\b\b\b\b\b\b\b\b\b\b\b\b\b\b\b\b\b\b\b\b\b\b\b\b\b\b\b\b\b\b\b\b\b\b\b\b\b\b\b\b\b\b\b\b\b\b\b\b\b\b\b\b\b\b\b\b\b\b\b\b\b\b\b\b\b\b\b\b\b\b\b                                                                        \b\b\b\b\b\b\b\b\b\b\b\b\b\b\b\b\b\b\b\b\b\b\b\b\b\b\b\b\b\b\b\b\b\b\b\b\b\b\b\b\b\b\b\b\b\b\b\b\b\b\b\b\b\b\b\b\b\b\b\b\b\b\b\b\b\b\b\b\b\b\b\b 10% 11400 - Dataset/Healthcare/Record/record_healthcare_7000021_964.wav\b\b\b\b\b\b\b\b\b\b\b\b\b\b\b\b\b\b\b\b\b\b\b\b\b\b\b\b\b\b\b\b\b\b\b\b\b\b\b\b\b\b\b\b\b\b\b\b\b\b\b\b\b\b\b\b\b\b\b\b\b\b\b\b\b\b\b\b\b\b\b\b                                                                        \b\b\b\b\b\b\b\b\b\b\b\b\b\b\b\b\b\b\b\b\b\b\b\b\b\b\b\b\b\b\b\b\b\b\b\b\b\b\b\b\b\b\b\b\b\b\b\b\b\b\b\b\b\b\b\b\b\b\b\b\b\b\b\b\b\b\b\b\b\b\b\b 10% 11417 - Dataset/Healthcare/Record/record_healthcare_7000022_1088.wav\b\b\b\b\b\b\b\b\b\b\b\b\b\b\b\b\b\b\b\b\b\b\b\b\b\b\b\b\b\b\b\b\b\b\b\b\b\b\b\b\b\b\b\b\b\b\b\b\b\b\b\b\b\b\b\b\b\b\b\b\b\b\b\b\b\b\b\b\b\b\b\b\b                                                                         \b\b\b\b\b\b\b\b\b\b\b\b\b\b\b\b\b\b\b\b\b\b\b\b\b\b\b\b\b\b\b\b\b\b\b\b\b\b\b\b\b\b\b\b\b\b\b\b\b\b\b\b\b\b\b\b\b\b\b\b\b\b\b\b\b\b\b\b\b\b\b\b\b 10% 11436 - Dataset/Healthcare/Record/record_healthcare_7000022_1213.wav\b\b\b\b\b\b\b\b\b\b\b\b\b\b\b\b\b\b\b\b\b\b\b\b\b\b\b\b\b\b\b\b\b\b\b\b\b\b\b\b\b\b\b\b\b\b\b\b\b\b\b\b\b\b\b\b\b\b\b\b\b\b\b\b\b\b\b\b\b\b\b\b\b                                                                         \b\b\b\b\b\b\b\b\b\b\b\b\b\b\b\b\b\b\b\b\b\b\b\b\b\b\b\b\b\b\b\b\b\b\b\b\b\b\b\b\b\b\b\b\b\b\b\b\b\b\b\b\b\b\b\b\b\b\b\b\b\b\b\b\b\b\b\b\b\b\b\b\b 10% 11457 - Dataset/Healthcare/Record/record_healthcare_7000022_1413.wav\b\b\b\b\b\b\b\b\b\b\b\b\b\b\b\b\b\b\b\b\b\b\b\b\b\b\b\b\b\b\b\b\b\b\b\b\b\b\b\b\b\b\b\b\b\b\b\b\b\b\b\b\b\b\b\b\b\b\b\b\b\b\b\b\b\b\b\b\b\b\b\b\b                                                                         \b\b\b\b\b\b\b\b\b\b\b\b\b\b\b\b\b\b\b\b\b\b\b\b\b\b\b\b\b\b\b\b\b\b\b\b\b\b\b\b\b\b\b\b\b\b\b\b\b\b\b\b\b\b\b\b\b\b\b\b\b\b\b\b\b\b\b\b\b\b\b\b\b 10% 11478 - Dataset/Healthcare/Record/record_healthcare_7000022_1557.wav\b\b\b\b\b\b\b\b\b\b\b\b\b\b\b\b\b\b\b\b\b\b\b\b\b\b\b\b\b\b\b\b\b\b\b\b\b\b\b\b\b\b\b\b\b\b\b\b\b\b\b\b\b\b\b\b\b\b\b\b\b\b\b\b\b\b\b\b\b\b\b\b\b                                                                         \b\b\b\b\b\b\b\b\b\b\b\b\b\b\b\b\b\b\b\b\b\b\b\b\b\b\b\b\b\b\b\b\b\b\b\b\b\b\b\b\b\b\b\b\b\b\b\b\b\b\b\b\b\b\b\b\b\b\b\b\b\b\b\b\b\b\b\b\b\b\b\b\b 10% 11499 - Dataset/Healthcare/Record/record_healthcare_7000022_173.wav\b\b\b\b\b\b\b\b\b\b\b\b\b\b\b\b\b\b\b\b\b\b\b\b\b\b\b\b\b\b\b\b\b\b\b\b\b\b\b\b\b\b\b\b\b\b\b\b\b\b\b\b\b\b\b\b\b\b\b\b\b\b\b\b\b\b\b\b\b\b\b\b                                                                        \b\b\b\b\b\b\b\b\b\b\b\b\b\b\b\b\b\b\b\b\b\b\b\b\b\b\b\b\b\b\b\b\b\b\b\b\b\b\b\b\b\b\b\b\b\b\b\b\b\b\b\b\b\b\b\b\b\b\b\b\b\b\b\b\b\b\b\b\b\b\b\b 11% 11519 - Dataset/Healthcare/Record/record_healthcare_7000022_1894.wav\b\b\b\b\b\b\b\b\b\b\b\b\b\b\b\b\b\b\b\b\b\b\b\b\b\b\b\b\b\b\b\b\b\b\b\b\b\b\b\b\b\b\b\b\b\b\b\b\b\b\b\b\b\b\b\b\b\b\b\b\b\b\b\b\b\b\b\b\b\b\b\b\b                                                                         \b\b\b\b\b\b\b\b\b\b\b\b\b\b\b\b\b\b\b\b\b\b\b\b\b\b\b\b\b\b\b\b\b\b\b\b\b\b\b\b\b\b\b\b\b\b\b\b\b\b\b\b\b\b\b\b\b\b\b\b\b\b\b\b\b\b\b\b\b\b\b\b\b 11% 11540 - Dataset/Healthcare/Record/record_healthcare_7000022_2100.wav\b\b\b\b\b\b\b\b\b\b\b\b\b\b\b\b\b\b\b\b\b\b\b\b\b\b\b\b\b\b\b\b\b\b\b\b\b\b\b\b\b\b\b\b\b\b\b\b\b\b\b\b\b\b\b\b\b\b\b\b\b\b\b\b\b\b\b\b\b\b\b\b\b                                                                         \b\b\b\b\b\b\b\b\b\b\b\b\b\b\b\b\b\b\b\b\b\b\b\b\b\b\b\b\b\b\b\b\b\b\b\b\b\b\b\b\b\b\b\b\b\b\b\b\b\b\b\b\b\b\b\b\b\b\b\b\b\b\b\b\b\b\b\b\b\b\b\b\b 11% 11561 - Dataset/Healthcare/Record/record_healthcare_7000022_2243.wav\b\b\b\b\b\b\b\b\b\b\b\b\b\b\b\b\b\b\b\b\b\b\b\b\b\b\b\b\b\b\b\b\b\b\b\b\b\b\b\b\b\b\b\b\b\b\b\b\b\b\b\b\b\b\b\b\b\b\b\b\b\b\b\b\b\b\b\b\b\b\b\b\b                                                                         \b\b\b\b\b\b\b\b\b\b\b\b\b\b\b\b\b\b\b\b\b\b\b\b\b\b\b\b\b\b\b\b\b\b\b\b\b\b\b\b\b\b\b\b\b\b\b\b\b\b\b\b\b\b\b\b\b\b\b\b\b\b\b\b\b\b\b\b\b\b\b\b\b 11% 11582 - Dataset/Healthcare/Record/record_healthcare_7000022_2366.wav\b\b\b\b\b\b\b\b\b\b\b\b\b\b\b\b\b\b\b\b\b\b\b\b\b\b\b\b\b\b\b\b\b\b\b\b\b\b\b\b\b\b\b\b\b\b\b\b\b\b\b\b\b\b\b\b\b\b\b\b\b\b\b\b\b\b\b\b\b\b\b\b\b                                                                         \b\b\b\b\b\b\b\b\b\b\b\b\b\b\b\b\b\b\b\b\b\b\b\b\b\b\b\b\b\b\b\b\b\b\b\b\b\b\b\b\b\b\b\b\b\b\b\b\b\b\b\b\b\b\b\b\b\b\b\b\b\b\b\b\b\b\b\b\b\b\b\b\b 11% 11602 - Dataset/Healthcare/Record/record_healthcare_7000022_285.wav\b\b\b\b\b\b\b\b\b\b\b\b\b\b\b\b\b\b\b\b\b\b\b\b\b\b\b\b\b\b\b\b\b\b\b\b\b\b\b\b\b\b\b\b\b\b\b\b\b\b\b\b\b\b\b\b\b\b\b\b\b\b\b\b\b\b\b\b\b\b\b\b                                                                        \b\b\b\b\b\b\b\b\b\b\b\b\b\b\b\b\b\b\b\b\b\b\b\b\b\b\b\b\b\b\b\b\b\b\b\b\b\b\b\b\b\b\b\b\b\b\b\b\b\b\b\b\b\b\b\b\b\b\b\b\b\b\b\b\b\b\b\b\b\b\b\b 11% 11622 - Dataset/Healthcare/Record/record_healthcare_7000022_453.wav\b\b\b\b\b\b\b\b\b\b\b\b\b\b\b\b\b\b\b\b\b\b\b\b\b\b\b\b\b\b\b\b\b\b\b\b\b\b\b\b\b\b\b\b\b\b\b\b\b\b\b\b\b\b\b\b\b\b\b\b\b\b\b\b\b\b\b\b\b\b\b\b                                                                        \b\b\b\b\b\b\b\b\b\b\b\b\b\b\b\b\b\b\b\b\b\b\b\b\b\b\b\b\b\b\b\b\b\b\b\b\b\b\b\b\b\b\b\b\b\b\b\b\b\b\b\b\b\b\b\b\b\b\b\b\b\b\b\b\b\b\b\b\b\b\b\b 11% 11642 - Dataset/Healthcare/Record/record_healthcare_7000022_611.wav\b\b\b\b\b\b\b\b\b\b\b\b\b\b\b\b\b\b\b\b\b\b\b\b\b\b\b\b\b\b\b\b\b\b\b\b\b\b\b\b\b\b\b\b\b\b\b\b\b\b\b\b\b\b\b\b\b\b\b\b\b\b\b\b\b\b\b\b\b\b\b\b                                                                        \b\b\b\b\b\b\b\b\b\b\b\b\b\b\b\b\b\b\b\b\b\b\b\b\b\b\b\b\b\b\b\b\b\b\b\b\b\b\b\b\b\b\b\b\b\b\b\b\b\b\b\b\b\b\b\b\b\b\b\b\b\b\b\b\b\b\b\b\b\b\b\b 11% 11663 - Dataset/Healthcare/Record/record_healthcare_7000022_747.wav\b\b\b\b\b\b\b\b\b\b\b\b\b\b\b\b\b\b\b\b\b\b\b\b\b\b\b\b\b\b\b\b\b\b\b\b\b\b\b\b\b\b\b\b\b\b\b\b\b\b\b\b\b\b\b\b\b\b\b\b\b\b\b\b\b\b\b\b\b\b\b\b                                                                        \b\b\b\b\b\b\b\b\b\b\b\b\b\b\b\b\b\b\b\b\b\b\b\b\b\b\b\b\b\b\b\b\b\b\b\b\b\b\b\b\b\b\b\b\b\b\b\b\b\b\b\b\b\b\b\b\b\b\b\b\b\b\b\b\b\b\b\b\b\b\b\b 12% 11684 - Dataset/Healthcare/Record/record_healthcare_7000022_878.wav\b\b\b\b\b\b\b\b\b\b\b\b\b\b\b\b\b\b\b\b\b\b\b\b\b\b\b\b\b\b\b\b\b\b\b\b\b\b\b\b\b\b\b\b\b\b\b\b\b\b\b\b\b\b\b\b\b\b\b\b\b\b\b\b\b\b\b\b\b\b\b\b                                                                        \b\b\b\b\b\b\b\b\b\b\b\b\b\b\b\b\b\b\b\b\b\b\b\b\b\b\b\b\b\b\b\b\b\b\b\b\b\b\b\b\b\b\b\b\b\b\b\b\b\b\b\b\b\b\b\b\b\b\b\b\b\b\b\b\b\b\b\b\b\b\b\b 12% 11705 - Dataset/Healthcare/Record/record_healthcare_7000022_996.wav\b\b\b\b\b\b\b\b\b\b\b\b\b\b\b\b\b\b\b\b\b\b\b\b\b\b\b\b\b\b\b\b\b\b\b\b\b\b\b\b\b\b\b\b\b\b\b\b\b\b\b\b\b\b\b\b\b\b\b\b\b\b\b\b\b\b\b\b\b\b\b\b                                                                        \b\b\b\b\b\b\b\b\b\b\b\b\b\b\b\b\b\b\b\b\b\b\b\b\b\b\b\b\b\b\b\b\b\b\b\b\b\b\b\b\b\b\b\b\b\b\b\b\b\b\b\b\b\b\b\b\b\b\b\b\b\b\b\b\b\b\b\b\b\b\b\b 12% 11725 - Dataset/Healthcare/Record/record_healthcare_7000023_1190.wav\b\b\b\b\b\b\b\b\b\b\b\b\b\b\b\b\b\b\b\b\b\b\b\b\b\b\b\b\b\b\b\b\b\b\b\b\b\b\b\b\b\b\b\b\b\b\b\b\b\b\b\b\b\b\b\b\b\b\b\b\b\b\b\b\b\b\b\b\b\b\b\b\b                                                                         \b\b\b\b\b\b\b\b\b\b\b\b\b\b\b\b\b\b\b\b\b\b\b\b\b\b\b\b\b\b\b\b\b\b\b\b\b\b\b\b\b\b\b\b\b\b\b\b\b\b\b\b\b\b\b\b\b\b\b\b\b\b\b\b\b\b\b\b\b\b\b\b\b 12% 11746 - Dataset/Healthcare/Record/record_healthcare_7000023_1295.wav\b\b\b\b\b\b\b\b\b\b\b\b\b\b\b\b\b\b\b\b\b\b\b\b\b\b\b\b\b\b\b\b\b\b\b\b\b\b\b\b\b\b\b\b\b\b\b\b\b\b\b\b\b\b\b\b\b\b\b\b\b\b\b\b\b\b\b\b\b\b\b\b\b                                                                         \b\b\b\b\b\b\b\b\b\b\b\b\b\b\b\b\b\b\b\b\b\b\b\b\b\b\b\b\b\b\b\b\b\b\b\b\b\b\b\b\b\b\b\b\b\b\b\b\b\b\b\b\b\b\b\b\b\b\b\b\b\b\b\b\b\b\b\b\b\b\b\b\b 12% 11767 - Dataset/Healthcare/Record/record_healthcare_7000023_1463.wav\b\b\b\b\b\b\b\b\b\b\b\b\b\b\b\b\b\b\b\b\b\b\b\b\b\b\b\b\b\b\b\b\b\b\b\b\b\b\b\b\b\b\b\b\b\b\b\b\b\b\b\b\b\b\b\b\b\b\b\b\b\b\b\b\b\b\b\b\b\b\b\b\b                                                                         \b\b\b\b\b\b\b\b\b\b\b\b\b\b\b\b\b\b\b\b\b\b\b\b\b\b\b\b\b\b\b\b\b\b\b\b\b\b\b\b\b\b\b\b\b\b\b\b\b\b\b\b\b\b\b\b\b\b\b\b\b\b\b\b\b\b\b\b\b\b\b\b\b 12% 11788 - Dataset/Healthcare/Record/record_healthcare_7000023_1649.wav\b\b\b\b\b\b\b\b\b\b\b\b\b\b\b\b\b\b\b\b\b\b\b\b\b\b\b\b\b\b\b\b\b\b\b\b\b\b\b\b\b\b\b\b\b\b\b\b\b\b\b\b\b\b\b\b\b\b\b\b\b\b\b\b\b\b\b\b\b\b\b\b\b                                                                         \b\b\b\b\b\b\b\b\b\b\b\b\b\b\b\b\b\b\b\b\b\b\b\b\b\b\b\b\b\b\b\b\b\b\b\b\b\b\b\b\b\b\b\b\b\b\b\b\b\b\b\b\b\b\b\b\b\b\b\b\b\b\b\b\b\b\b\b\b\b\b\b\b 12% 11811 - Dataset/Healthcare/Record/record_healthcare_7000023_1799.wav\b\b\b\b\b\b\b\b\b\b\b\b\b\b\b\b\b\b\b\b\b\b\b\b\b\b\b\b\b\b\b\b\b\b\b\b\b\b\b\b\b\b\b\b\b\b\b\b\b\b\b\b\b\b\b\b\b\b\b\b\b\b\b\b\b\b\b\b\b\b\b\b\b                                                                         \b\b\b\b\b\b\b\b\b\b\b\b\b\b\b\b\b\b\b\b\b\b\b\b\b\b\b\b\b\b\b\b\b\b\b\b\b\b\b\b\b\b\b\b\b\b\b\b\b\b\b\b\b\b\b\b\b\b\b\b\b\b\b\b\b\b\b\b\b\b\b\b\b 12% 11833 - Dataset/Healthcare/Record/record_healthcare_7000023_1909.wav\b\b\b\b\b\b\b\b\b\b\b\b\b\b\b\b\b\b\b\b\b\b\b\b\b\b\b\b\b\b\b\b\b\b\b\b\b\b\b\b\b\b\b\b\b\b\b\b\b\b\b\b\b\b\b\b\b\b\b\b\b\b\b\b\b\b\b\b\b\b\b\b\b                                                                         \b\b\b\b\b\b\b\b\b\b\b\b\b\b\b\b\b\b\b\b\b\b\b\b\b\b\b\b\b\b\b\b\b\b\b\b\b\b\b\b\b\b\b\b\b\b\b\b\b\b\b\b\b\b\b\b\b\b\b\b\b\b\b\b\b\b\b\b\b\b\b\b\b 12% 11855 - Dataset/Healthcare/Record/record_healthcare_7000023_2094.wav\b\b\b\b\b\b\b\b\b\b\b\b\b\b\b\b\b\b\b\b\b\b\b\b\b\b\b\b\b\b\b\b\b\b\b\b\b\b\b\b\b\b\b\b\b\b\b\b\b\b\b\b\b\b\b\b\b\b\b\b\b\b\b\b\b\b\b\b\b\b\b\b\b                                                                         \b\b\b\b\b\b\b\b\b\b\b\b\b\b\b\b\b\b\b\b\b\b\b\b\b\b\b\b\b\b\b\b\b\b\b\b\b\b\b\b\b\b\b\b\b\b\b\b\b\b\b\b\b\b\b\b\b\b\b\b\b\b\b\b\b\b\b\b\b\b\b\b\b 13% 11877 - Dataset/Healthcare/Record/record_healthcare_7000023_2272.wav\b\b\b\b\b\b\b\b\b\b\b\b\b\b\b\b\b\b\b\b\b\b\b\b\b\b\b\b\b\b\b\b\b\b\b\b\b\b\b\b\b\b\b\b\b\b\b\b\b\b\b\b\b\b\b\b\b\b\b\b\b\b\b\b\b\b\b\b\b\b\b\b\b                                                                         \b\b\b\b\b\b\b\b\b\b\b\b\b\b\b\b\b\b\b\b\b\b\b\b\b\b\b\b\b\b\b\b\b\b\b\b\b\b\b\b\b\b\b\b\b\b\b\b\b\b\b\b\b\b\b\b\b\b\b\b\b\b\b\b\b\b\b\b\b\b\b\b\b 13% 11901 - Dataset/Healthcare/Record/record_healthcare_7000023_2427.wav\b\b\b\b\b\b\b\b\b\b\b\b\b\b\b\b\b\b\b\b\b\b\b\b\b\b\b\b\b\b\b\b\b\b\b\b\b\b\b\b\b\b\b\b\b\b\b\b\b\b\b\b\b\b\b\b\b\b\b\b\b\b\b\b\b\b\b\b\b\b\b\b\b                                                                         \b\b\b\b\b\b\b\b\b\b\b\b\b\b\b\b\b\b\b\b\b\b\b\b\b\b\b\b\b\b\b\b\b\b\b\b\b\b\b\b\b\b\b\b\b\b\b\b\b\b\b\b\b\b\b\b\b\b\b\b\b\b\b\b\b\b\b\b\b\b\b\b\b 13% 11924 - Dataset/Healthcare/Record/record_healthcare_7000023_343.wav\b\b\b\b\b\b\b\b\b\b\b\b\b\b\b\b\b\b\b\b\b\b\b\b\b\b\b\b\b\b\b\b\b\b\b\b\b\b\b\b\b\b\b\b\b\b\b\b\b\b\b\b\b\b\b\b\b\b\b\b\b\b\b\b\b\b\b\b\b\b\b\b                                                                        \b\b\b\b\b\b\b\b\b\b\b\b\b\b\b\b\b\b\b\b\b\b\b\b\b\b\b\b\b\b\b\b\b\b\b\b\b\b\b\b\b\b\b\b\b\b\b\b\b\b\b\b\b\b\b\b\b\b\b\b\b\b\b\b\b\b\b\b\b\b\b\b 13% 11947 - Dataset/Healthcare/Record/record_healthcare_7000023_55.wav\b\b\b\b\b\b\b\b\b\b\b\b\b\b\b\b\b\b\b\b\b\b\b\b\b\b\b\b\b\b\b\b\b\b\b\b\b\b\b\b\b\b\b\b\b\b\b\b\b\b\b\b\b\b\b\b\b\b\b\b\b\b\b\b\b\b\b\b\b\b\b                                                                       \b\b\b\b\b\b\b\b\b\b\b\b\b\b\b\b\b\b\b\b\b\b\b\b\b\b\b\b\b\b\b\b\b\b\b\b\b\b\b\b\b\b\b\b\b\b\b\b\b\b\b\b\b\b\b\b\b\b\b\b\b\b\b\b\b\b\b\b\b\b\b 13% 11970 - Dataset/Healthcare/Record/record_healthcare_7000023_698.wav\b\b\b\b\b\b\b\b\b\b\b\b\b\b\b\b\b\b\b\b\b\b\b\b\b\b\b\b\b\b\b\b\b\b\b\b\b\b\b\b\b\b\b\b\b\b\b\b\b\b\b\b\b\b\b\b\b\b\b\b\b\b\b\b\b\b\b\b\b\b\b\b                                                                        \b\b\b\b\b\b\b\b\b\b\b\b\b\b\b\b\b\b\b\b\b\b\b\b\b\b\b\b\b\b\b\b\b\b\b\b\b\b\b\b\b\b\b\b\b\b\b\b\b\b\b\b\b\b\b\b\b\b\b\b\b\b\b\b\b\b\b\b\b\b\b\b 13% 11991 - Dataset/Healthcare/Record/record_healthcare_7000023_872.wav\b\b\b\b\b\b\b\b\b\b\b\b\b\b\b\b\b\b\b\b\b\b\b\b\b\b\b\b\b\b\b\b\b\b\b\b\b\b\b\b\b\b\b\b\b\b\b\b\b\b\b\b\b\b\b\b\b\b\b\b\b\b\b\b\b\b\b\b\b\b\b\b                                                                        \b\b\b\b\b\b\b\b\b\b\b\b\b\b\b\b\b\b\b\b\b\b\b\b\b\b\b\b\b\b\b\b\b\b\b\b\b\b\b\b\b\b\b\b\b\b\b\b\b\b\b\b\b\b\b\b\b\b\b\b\b\b\b\b\b\b\b\b\b\b\b\b 13% 12014 - Dataset/Healthcare/Record/record_healthcare_7000025_1065.wav\b\b\b\b\b\b\b\b\b\b\b\b\b\b\b\b\b\b\b\b\b\b\b\b\b\b\b\b\b\b\b\b\b\b\b\b\b\b\b\b\b\b\b\b\b\b\b\b\b\b\b\b\b\b\b\b\b\b\b\b\b\b\b\b\b\b\b\b\b\b\b\b\b                                                                         \b\b\b\b\b\b\b\b\b\b\b\b\b\b\b\b\b\b\b\b\b\b\b\b\b\b\b\b\b\b\b\b\b\b\b\b\b\b\b\b\b\b\b\b\b\b\b\b\b\b\b\b\b\b\b\b\b\b\b\b\b\b\b\b\b\b\b\b\b\b\b\b\b 13% 12034 - Dataset/Healthcare/Record/record_healthcare_7000025_1228.wav\b\b\b\b\b\b\b\b\b\b\b\b\b\b\b\b\b\b\b\b\b\b\b\b\b\b\b\b\b\b\b\b\b\b\b\b\b\b\b\b\b\b\b\b\b\b\b\b\b\b\b\b\b\b\b\b\b\b\b\b\b\b\b\b\b\b\b\b\b\b\b\b\b                                                                         \b\b\b\b\b\b\b\b\b\b\b\b\b\b\b\b\b\b\b\b\b\b\b\b\b\b\b\b\b\b\b\b\b\b\b\b\b\b\b\b\b\b\b\b\b\b\b\b\b\b\b\b\b\b\b\b\b\b\b\b\b\b\b\b\b\b\b\b\b\b\b\b\b 14% 12054 - Dataset/Healthcare/Record/record_healthcare_7000025_1341.wav\b\b\b\b\b\b\b\b\b\b\b\b\b\b\b\b\b\b\b\b\b\b\b\b\b\b\b\b\b\b\b\b\b\b\b\b\b\b\b\b\b\b\b\b\b\b\b\b\b\b\b\b\b\b\b\b\b\b\b\b\b\b\b\b\b\b\b\b\b\b\b\b\b                                                                         \b\b\b\b\b\b\b\b\b\b\b\b\b\b\b\b\b\b\b\b\b\b\b\b\b\b\b\b\b\b\b\b\b\b\b\b\b\b\b\b\b\b\b\b\b\b\b\b\b\b\b\b\b\b\b\b\b\b\b\b\b\b\b\b\b\b\b\b\b\b\b\b\b 14% 12072 - Dataset/Healthcare/Record/record_healthcare_7000025_1411.wav\b\b\b\b\b\b\b\b\b\b\b\b\b\b\b\b\b\b\b\b\b\b\b\b\b\b\b\b\b\b\b\b\b\b\b\b\b\b\b\b\b\b\b\b\b\b\b\b\b\b\b\b\b\b\b\b\b\b\b\b\b\b\b\b\b\b\b\b\b\b\b\b\b                                                                         \b\b\b\b\b\b\b\b\b\b\b\b\b\b\b\b\b\b\b\b\b\b\b\b\b\b\b\b\b\b\b\b\b\b\b\b\b\b\b\b\b\b\b\b\b\b\b\b\b\b\b\b\b\b\b\b\b\b\b\b\b\b\b\b\b\b\b\b\b\b\b\b\b 14% 12089 - Dataset/Healthcare/Record/record_healthcare_7000025_1541.wav\b\b\b\b\b\b\b\b\b\b\b\b\b\b\b\b\b\b\b\b\b\b\b\b\b\b\b\b\b\b\b\b\b\b\b\b\b\b\b\b\b\b\b\b\b\b\b\b\b\b\b\b\b\b\b\b\b\b\b\b\b\b\b\b\b\b\b\b\b\b\b\b\b                                                                         \b\b\b\b\b\b\b\b\b\b\b\b\b\b\b\b\b\b\b\b\b\b\b\b\b\b\b\b\b\b\b\b\b\b\b\b\b\b\b\b\b\b\b\b\b\b\b\b\b\b\b\b\b\b\b\b\b\b\b\b\b\b\b\b\b\b\b\b\b\b\b\b\b 14% 12106 - Dataset/Healthcare/Record/record_healthcare_7000025_1672.wav\b\b\b\b\b\b\b\b\b\b\b\b\b\b\b\b\b\b\b\b\b\b\b\b\b\b\b\b\b\b\b\b\b\b\b\b\b\b\b\b\b\b\b\b\b\b\b\b\b\b\b\b\b\b\b\b\b\b\b\b\b\b\b\b\b\b\b\b\b\b\b\b\b                                                                         \b\b\b\b\b\b\b\b\b\b\b\b\b\b\b\b\b\b\b\b\b\b\b\b\b\b\b\b\b\b\b\b\b\b\b\b\b\b\b\b\b\b\b\b\b\b\b\b\b\b\b\b\b\b\b\b\b\b\b\b\b\b\b\b\b\b\b\b\b\b\b\b\b 14% 12126 - Dataset/Healthcare/Record/record_healthcare_7000025_182.wav\b\b\b\b\b\b\b\b\b\b\b\b\b\b\b\b\b\b\b\b\b\b\b\b\b\b\b\b\b\b\b\b\b\b\b\b\b\b\b\b\b\b\b\b\b\b\b\b\b\b\b\b\b\b\b\b\b\b\b\b\b\b\b\b\b\b\b\b\b\b\b\b                                                                        \b\b\b\b\b\b\b\b\b\b\b\b\b\b\b\b\b\b\b\b\b\b\b\b\b\b\b\b\b\b\b\b\b\b\b\b\b\b\b\b\b\b\b\b\b\b\b\b\b\b\b\b\b\b\b\b\b\b\b\b\b\b\b\b\b\b\b\b\b\b\b\b 14% 12145 - Dataset/Healthcare/Record/record_healthcare_7000025_1991.wav\b\b\b\b\b\b\b\b\b\b\b\b\b\b\b\b\b\b\b\b\b\b\b\b\b\b\b\b\b\b\b\b\b\b\b\b\b\b\b\b\b\b\b\b\b\b\b\b\b\b\b\b\b\b\b\b\b\b\b\b\b\b\b\b\b\b\b\b\b\b\b\b\b                                                                         \b\b\b\b\b\b\b\b\b\b\b\b\b\b\b\b\b\b\b\b\b\b\b\b\b\b\b\b\b\b\b\b\b\b\b\b\b\b\b\b\b\b\b\b\b\b\b\b\b\b\b\b\b\b\b\b\b\b\b\b\b\b\b\b\b\b\b\b\b\b\b\b\b 15% 12163 - Dataset/Healthcare/Record/record_healthcare_7000025_2150.wav\b\b\b\b\b\b\b\b\b\b\b\b\b\b\b\b\b\b\b\b\b\b\b\b\b\b\b\b\b\b\b\b\b\b\b\b\b\b\b\b\b\b\b\b\b\b\b\b\b\b\b\b\b\b\b\b\b\b\b\b\b\b\b\b\b\b\b\b\b\b\b\b\b                                                                         \b\b\b\b\b\b\b\b\b\b\b\b\b\b\b\b\b\b\b\b\b\b\b\b\b\b\b\b\b\b\b\b\b\b\b\b\b\b\b\b\b\b\b\b\b\b\b\b\b\b\b\b\b\b\b\b\b\b\b\b\b\b\b\b\b\b\b\b\b\b\b\b\b 15% 12183 - Dataset/Healthcare/Record/record_healthcare_7000025_2350.wav\b\b\b\b\b\b\b\b\b\b\b\b\b\b\b\b\b\b\b\b\b\b\b\b\b\b\b\b\b\b\b\b\b\b\b\b\b\b\b\b\b\b\b\b\b\b\b\b\b\b\b\b\b\b\b\b\b\b\b\b\b\b\b\b\b\b\b\b\b\b\b\b\b                                                                         \b\b\b\b\b\b\b\b\b\b\b\b\b\b\b\b\b\b\b\b\b\b\b\b\b\b\b\b\b\b\b\b\b\b\b\b\b\b\b\b\b\b\b\b\b\b\b\b\b\b\b\b\b\b\b\b\b\b\b\b\b\b\b\b\b\b\b\b\b\b\b\b\b 15% 12202 - Dataset/Healthcare/Record/record_healthcare_7000025_254.wav\b\b\b\b\b\b\b\b\b\b\b\b\b\b\b\b\b\b\b\b\b\b\b\b\b\b\b\b\b\b\b\b\b\b\b\b\b\b\b\b\b\b\b\b\b\b\b\b\b\b\b\b\b\b\b\b\b\b\b\b\b\b\b\b\b\b\b\b\b\b\b\b                                                                        \b\b\b\b\b\b\b\b\b\b\b\b\b\b\b\b\b\b\b\b\b\b\b\b\b\b\b\b\b\b\b\b\b\b\b\b\b\b\b\b\b\b\b\b\b\b\b\b\b\b\b\b\b\b\b\b\b\b\b\b\b\b\b\b\b\b\b\b\b\b\b\b 15% 12221 - Dataset/Healthcare/Record/record_healthcare_7000025_398.wav\b\b\b\b\b\b\b\b\b\b\b\b\b\b\b\b\b\b\b\b\b\b\b\b\b\b\b\b\b\b\b\b\b\b\b\b\b\b\b\b\b\b\b\b\b\b\b\b\b\b\b\b\b\b\b\b\b\b\b\b\b\b\b\b\b\b\b\b\b\b\b\b                                                                        \b\b\b\b\b\b\b\b\b\b\b\b\b\b\b\b\b\b\b\b\b\b\b\b\b\b\b\b\b\b\b\b\b\b\b\b\b\b\b\b\b\b\b\b\b\b\b\b\b\b\b\b\b\b\b\b\b\b\b\b\b\b\b\b\b\b\b\b\b\b\b\b 15% 12240 - Dataset/Healthcare/Record/record_healthcare_7000025_52.wav\b\b\b\b\b\b\b\b\b\b\b\b\b\b\b\b\b\b\b\b\b\b\b\b\b\b\b\b\b\b\b\b\b\b\b\b\b\b\b\b\b\b\b\b\b\b\b\b\b\b\b\b\b\b\b\b\b\b\b\b\b\b\b\b\b\b\b\b\b\b\b                                                                       \b\b\b\b\b\b\b\b\b\b\b\b\b\b\b\b\b\b\b\b\b\b\b\b\b\b\b\b\b\b\b\b\b\b\b\b\b\b\b\b\b\b\b\b\b\b\b\b\b\b\b\b\b\b\b\b\b\b\b\b\b\b\b\b\b\b\b\b\b\b\b 15% 12257 - Dataset/Healthcare/Record/record_healthcare_7000025_629.wav\b\b\b\b\b\b\b\b\b\b\b\b\b\b\b\b\b\b\b\b\b\b\b\b\b\b\b\b\b\b\b\b\b\b\b\b\b\b\b\b\b\b\b\b\b\b\b\b\b\b\b\b\b\b\b\b\b\b\b\b\b\b\b\b\b\b\b\b\b\b\b\b                                                                        \b\b\b\b\b\b\b\b\b\b\b\b\b\b\b\b\b\b\b\b\b\b\b\b\b\b\b\b\b\b\b\b\b\b\b\b\b\b\b\b\b\b\b\b\b\b\b\b\b\b\b\b\b\b\b\b\b\b\b\b\b\b\b\b\b\b\b\b\b\b\b\b 15% 12275 - Dataset/Healthcare/Record/record_healthcare_7000025_736.wav\b\b\b\b\b\b\b\b\b\b\b\b\b\b\b\b\b\b\b\b\b\b\b\b\b\b\b\b\b\b\b\b\b\b\b\b\b\b\b\b\b\b\b\b\b\b\b\b\b\b\b\b\b\b\b\b\b\b\b\b\b\b\b\b\b\b\b\b\b\b\b\b                                                                        \b\b\b\b\b\b\b\b\b\b\b\b\b\b\b\b\b\b\b\b\b\b\b\b\b\b\b\b\b\b\b\b\b\b\b\b\b\b\b\b\b\b\b\b\b\b\b\b\b\b\b\b\b\b\b\b\b\b\b\b\b\b\b\b\b\b\b\b\b\b\b\b 16% 12292 - Dataset/Healthcare/Record/record_healthcare_7000025_864.wav\b\b\b\b\b\b\b\b\b\b\b\b\b\b\b\b\b\b\b\b\b\b\b\b\b\b\b\b\b\b\b\b\b\b\b\b\b\b\b\b\b\b\b\b\b\b\b\b\b\b\b\b\b\b\b\b\b\b\b\b\b\b\b\b\b\b\b\b\b\b\b\b                                                                        \b\b\b\b\b\b\b\b\b\b\b\b\b\b\b\b\b\b\b\b\b\b\b\b\b\b\b\b\b\b\b\b\b\b\b\b\b\b\b\b\b\b\b\b\b\b\b\b\b\b\b\b\b\b\b\b\b\b\b\b\b\b\b\b\b\b\b\b\b\b\b\b 16% 12312 - Dataset/Healthcare/Record/record_healthcare_7000026_1050.wav\b\b\b\b\b\b\b\b\b\b\b\b\b\b\b\b\b\b\b\b\b\b\b\b\b\b\b\b\b\b\b\b\b\b\b\b\b\b\b\b\b\b\b\b\b\b\b\b\b\b\b\b\b\b\b\b\b\b\b\b\b\b\b\b\b\b\b\b\b\b\b\b\b                                                                         \b\b\b\b\b\b\b\b\b\b\b\b\b\b\b\b\b\b\b\b\b\b\b\b\b\b\b\b\b\b\b\b\b\b\b\b\b\b\b\b\b\b\b\b\b\b\b\b\b\b\b\b\b\b\b\b\b\b\b\b\b\b\b\b\b\b\b\b\b\b\b\b\b 16% 12333 - Dataset/Healthcare/Record/record_healthcare_7000026_1248.wav\b\b\b\b\b\b\b\b\b\b\b\b\b\b\b\b\b\b\b\b\b\b\b\b\b\b\b\b\b\b\b\b\b\b\b\b\b\b\b\b\b\b\b\b\b\b\b\b\b\b\b\b\b\b\b\b\b\b\b\b\b\b\b\b\b\b\b\b\b\b\b\b\b                                                                         \b\b\b\b\b\b\b\b\b\b\b\b\b\b\b\b\b\b\b\b\b\b\b\b\b\b\b\b\b\b\b\b\b\b\b\b\b\b\b\b\b\b\b\b\b\b\b\b\b\b\b\b\b\b\b\b\b\b\b\b\b\b\b\b\b\b\b\b\b\b\b\b\b 16% 12355 - Dataset/Healthcare/Record/record_healthcare_7000026_1389.wav\b\b\b\b\b\b\b\b\b\b\b\b\b\b\b\b\b\b\b\b\b\b\b\b\b\b\b\b\b\b\b\b\b\b\b\b\b\b\b\b\b\b\b\b\b\b\b\b\b\b\b\b\b\b\b\b\b\b\b\b\b\b\b\b\b\b\b\b\b\b\b\b\b                                                                         \b\b\b\b\b\b\b\b\b\b\b\b\b\b\b\b\b\b\b\b\b\b\b\b\b\b\b\b\b\b\b\b\b\b\b\b\b\b\b\b\b\b\b\b\b\b\b\b\b\b\b\b\b\b\b\b\b\b\b\b\b\b\b\b\b\b\b\b\b\b\b\b\b 16% 12376 - Dataset/Healthcare/Record/record_healthcare_7000026_1530.wav\b\b\b\b\b\b\b\b\b\b\b\b\b\b\b\b\b\b\b\b\b\b\b\b\b\b\b\b\b\b\b\b\b\b\b\b\b\b\b\b\b\b\b\b\b\b\b\b\b\b\b\b\b\b\b\b\b\b\b\b\b\b\b\b\b\b\b\b\b\b\b\b\b                                                                         \b\b\b\b\b\b\b\b\b\b\b\b\b\b\b\b\b\b\b\b\b\b\b\b\b\b\b\b\b\b\b\b\b\b\b\b\b\b\b\b\b\b\b\b\b\b\b\b\b\b\b\b\b\b\b\b\b\b\b\b\b\b\b\b\b\b\b\b\b\b\b\b\b 16% 12396 - Dataset/Healthcare/Record/record_healthcare_7000026_1696.wav\b\b\b\b\b\b\b\b\b\b\b\b\b\b\b\b\b\b\b\b\b\b\b\b\b\b\b\b\b\b\b\b\b\b\b\b\b\b\b\b\b\b\b\b\b\b\b\b\b\b\b\b\b\b\b\b\b\b\b\b\b\b\b\b\b\b\b\b\b\b\b\b\b                                                                         \b\b\b\b\b\b\b\b\b\b\b\b\b\b\b\b\b\b\b\b\b\b\b\b\b\b\b\b\b\b\b\b\b\b\b\b\b\b\b\b\b\b\b\b\b\b\b\b\b\b\b\b\b\b\b\b\b\b\b\b\b\b\b\b\b\b\b\b\b\b\b\b\b 16% 12417 - Dataset/Healthcare/Record/record_healthcare_7000026_1852.wav\b\b\b\b\b\b\b\b\b\b\b\b\b\b\b\b\b\b\b\b\b\b\b\b\b\b\b\b\b\b\b\b\b\b\b\b\b\b\b\b\b\b\b\b\b\b\b\b\b\b\b\b\b\b\b\b\b\b\b\b\b\b\b\b\b\b\b\b\b\b\b\b\b                                                                         \b\b\b\b\b\b\b\b\b\b\b\b\b\b\b\b\b\b\b\b\b\b\b\b\b\b\b\b\b\b\b\b\b\b\b\b\b\b\b\b\b\b\b\b\b\b\b\b\b\b\b\b\b\b\b\b\b\b\b\b\b\b\b\b\b\b\b\b\b\b\b\b\b 16% 12436 - Dataset/Healthcare/Record/record_healthcare_7000026_1992.wav\b\b\b\b\b\b\b\b\b\b\b\b\b\b\b\b\b\b\b\b\b\b\b\b\b\b\b\b\b\b\b\b\b\b\b\b\b\b\b\b\b\b\b\b\b\b\b\b\b\b\b\b\b\b\b\b\b\b\b\b\b\b\b\b\b\b\b\b\b\b\b\b\b                                                                         \b\b\b\b\b\b\b\b\b\b\b\b\b\b\b\b\b\b\b\b\b\b\b\b\b\b\b\b\b\b\b\b\b\b\b\b\b\b\b\b\b\b\b\b\b\b\b\b\b\b\b\b\b\b\b\b\b\b\b\b\b\b\b\b\b\b\b\b\b\b\b\b\b 16% 12456 - Dataset/Healthcare/Record/record_healthcare_7000026_2140.wav\b\b\b\b\b\b\b\b\b\b\b\b\b\b\b\b\b\b\b\b\b\b\b\b\b\b\b\b\b\b\b\b\b\b\b\b\b\b\b\b\b\b\b\b\b\b\b\b\b\b\b\b\b\b\b\b\b\b\b\b\b\b\b\b\b\b\b\b\b\b\b\b\b                                                                         \b\b\b\b\b\b\b\b\b\b\b\b\b\b\b\b\b\b\b\b\b\b\b\b\b\b\b\b\b\b\b\b\b\b\b\b\b\b\b\b\b\b\b\b\b\b\b\b\b\b\b\b\b\b\b\b\b\b\b\b\b\b\b\b\b\b\b\b\b\b\b\b\b 17% 12475 - Dataset/Healthcare/Record/record_healthcare_7000026_2228.wav\b\b\b\b\b\b\b\b\b\b\b\b\b\b\b\b\b\b\b\b\b\b\b\b\b\b\b\b\b\b\b\b\b\b\b\b\b\b\b\b\b\b\b\b\b\b\b\b\b\b\b\b\b\b\b\b\b\b\b\b\b\b\b\b\b\b\b\b\b\b\b\b\b                                                                         \b\b\b\b\b\b\b\b\b\b\b\b\b\b\b\b\b\b\b\b\b\b\b\b\b\b\b\b\b\b\b\b\b\b\b\b\b\b\b\b\b\b\b\b\b\b\b\b\b\b\b\b\b\b\b\b\b\b\b\b\b\b\b\b\b\b\b\b\b\b\b\b\b 17% 12497 - Dataset/Healthcare/Record/record_healthcare_7000026_243.wav\b\b\b\b\b\b\b\b\b\b\b\b\b\b\b\b\b\b\b\b\b\b\b\b\b\b\b\b\b\b\b\b\b\b\b\b\b\b\b\b\b\b\b\b\b\b\b\b\b\b\b\b\b\b\b\b\b\b\b\b\b\b\b\b\b\b\b\b\b\b\b\b                                                                        \b\b\b\b\b\b\b\b\b\b\b\b\b\b\b\b\b\b\b\b\b\b\b\b\b\b\b\b\b\b\b\b\b\b\b\b\b\b\b\b\b\b\b\b\b\b\b\b\b\b\b\b\b\b\b\b\b\b\b\b\b\b\b\b\b\b\b\b\b\b\b\b 17% 12517 - Dataset/Healthcare/Record/record_healthcare_7000026_34.wav\b\b\b\b\b\b\b\b\b\b\b\b\b\b\b\b\b\b\b\b\b\b\b\b\b\b\b\b\b\b\b\b\b\b\b\b\b\b\b\b\b\b\b\b\b\b\b\b\b\b\b\b\b\b\b\b\b\b\b\b\b\b\b\b\b\b\b\b\b\b\b                                                                       \b\b\b\b\b\b\b\b\b\b\b\b\b\b\b\b\b\b\b\b\b\b\b\b\b\b\b\b\b\b\b\b\b\b\b\b\b\b\b\b\b\b\b\b\b\b\b\b\b\b\b\b\b\b\b\b\b\b\b\b\b\b\b\b\b\b\b\b\b\b\b 17% 12536 - Dataset/Healthcare/Record/record_healthcare_7000026_480.wav\b\b\b\b\b\b\b\b\b\b\b\b\b\b\b\b\b\b\b\b\b\b\b\b\b\b\b\b\b\b\b\b\b\b\b\b\b\b\b\b\b\b\b\b\b\b\b\b\b\b\b\b\b\b\b\b\b\b\b\b\b\b\b\b\b\b\b\b\b\b\b\b                                                                        \b\b\b\b\b\b\b\b\b\b\b\b\b\b\b\b\b\b\b\b\b\b\b\b\b\b\b\b\b\b\b\b\b\b\b\b\b\b\b\b\b\b\b\b\b\b\b\b\b\b\b\b\b\b\b\b\b\b\b\b\b\b\b\b\b\b\b\b\b\b\b\b 17% 12557 - Dataset/Healthcare/Record/record_healthcare_7000026_633.wav\b\b\b\b\b\b\b\b\b\b\b\b\b\b\b\b\b\b\b\b\b\b\b\b\b\b\b\b\b\b\b\b\b\b\b\b\b\b\b\b\b\b\b\b\b\b\b\b\b\b\b\b\b\b\b\b\b\b\b\b\b\b\b\b\b\b\b\b\b\b\b\b                                                                        \b\b\b\b\b\b\b\b\b\b\b\b\b\b\b\b\b\b\b\b\b\b\b\b\b\b\b\b\b\b\b\b\b\b\b\b\b\b\b\b\b\b\b\b\b\b\b\b\b\b\b\b\b\b\b\b\b\b\b\b\b\b\b\b\b\b\b\b\b\b\b\b 17% 12578 - Dataset/Healthcare/Record/record_healthcare_7000026_787.wav\b\b\b\b\b\b\b\b\b\b\b\b\b\b\b\b\b\b\b\b\b\b\b\b\b\b\b\b\b\b\b\b\b\b\b\b\b\b\b\b\b\b\b\b\b\b\b\b\b\b\b\b\b\b\b\b\b\b\b\b\b\b\b\b\b\b\b\b\b\b\b\b                                                                        \b\b\b\b\b\b\b\b\b\b\b\b\b\b\b\b\b\b\b\b\b\b\b\b\b\b\b\b\b\b\b\b\b\b\b\b\b\b\b\b\b\b\b\b\b\b\b\b\b\b\b\b\b\b\b\b\b\b\b\b\b\b\b\b\b\b\b\b\b\b\b\b 17% 12597 - Dataset/Healthcare/Record/record_healthcare_7000026_954.wav\b\b\b\b\b\b\b\b\b\b\b\b\b\b\b\b\b\b\b\b\b\b\b\b\b\b\b\b\b\b\b\b\b\b\b\b\b\b\b\b\b\b\b\b\b\b\b\b\b\b\b\b\b\b\b\b\b\b\b\b\b\b\b\b\b\b\b\b\b\b\b\b                                                                        \b\b\b\b\b\b\b\b\b\b\b\b\b\b\b\b\b\b\b\b\b\b\b\b\b\b\b\b\b\b\b\b\b\b\b\b\b\b\b\b\b\b\b\b\b\b\b\b\b\b\b\b\b\b\b\b\b\b\b\b\b\b\b\b\b\b\b\b\b\b\b\b 17% 12616 - Dataset/Healthcare/Record/record_healthcare_7000027_1069.wav\b\b\b\b\b\b\b\b\b\b\b\b\b\b\b\b\b\b\b\b\b\b\b\b\b\b\b\b\b\b\b\b\b\b\b\b\b\b\b\b\b\b\b\b\b\b\b\b\b\b\b\b\b\b\b\b\b\b\b\b\b\b\b\b\b\b\b\b\b\b\b\b\b                                                                         \b\b\b\b\b\b\b\b\b\b\b\b\b\b\b\b\b\b\b\b\b\b\b\b\b\b\b\b\b\b\b\b\b\b\b\b\b\b\b\b\b\b\b\b\b\b\b\b\b\b\b\b\b\b\b\b\b\b\b\b\b\b\b\b\b\b\b\b\b\b\b\b\b 17% 12635 - Dataset/Healthcare/Record/record_healthcare_7000027_1185.wav\b\b\b\b\b\b\b\b\b\b\b\b\b\b\b\b\b\b\b\b\b\b\b\b\b\b\b\b\b\b\b\b\b\b\b\b\b\b\b\b\b\b\b\b\b\b\b\b\b\b\b\b\b\b\b\b\b\b\b\b\b\b\b\b\b\b\b\b\b\b\b\b\b                                                                         \b\b\b\b\b\b\b\b\b\b\b\b\b\b\b\b\b\b\b\b\b\b\b\b\b\b\b\b\b\b\b\b\b\b\b\b\b\b\b\b\b\b\b\b\b\b\b\b\b\b\b\b\b\b\b\b\b\b\b\b\b\b\b\b\b\b\b\b\b\b\b\b\b 18% 12655 - Dataset/Healthcare/Record/record_healthcare_7000027_1317.wav\b\b\b\b\b\b\b\b\b\b\b\b\b\b\b\b\b\b\b\b\b\b\b\b\b\b\b\b\b\b\b\b\b\b\b\b\b\b\b\b\b\b\b\b\b\b\b\b\b\b\b\b\b\b\b\b\b\b\b\b\b\b\b\b\b\b\b\b\b\b\b\b\b                                                                         \b\b\b\b\b\b\b\b\b\b\b\b\b\b\b\b\b\b\b\b\b\b\b\b\b\b\b\b\b\b\b\b\b\b\b\b\b\b\b\b\b\b\b\b\b\b\b\b\b\b\b\b\b\b\b\b\b\b\b\b\b\b\b\b\b\b\b\b\b\b\b\b\b 18% 12674 - Dataset/Healthcare/Record/record_healthcare_7000027_145.wav\b\b\b\b\b\b\b\b\b\b\b\b\b\b\b\b\b\b\b\b\b\b\b\b\b\b\b\b\b\b\b\b\b\b\b\b\b\b\b\b\b\b\b\b\b\b\b\b\b\b\b\b\b\b\b\b\b\b\b\b\b\b\b\b\b\b\b\b\b\b\b\b                                                                        \b\b\b\b\b\b\b\b\b\b\b\b\b\b\b\b\b\b\b\b\b\b\b\b\b\b\b\b\b\b\b\b\b\b\b\b\b\b\b\b\b\b\b\b\b\b\b\b\b\b\b\b\b\b\b\b\b\b\b\b\b\b\b\b\b\b\b\b\b\b\b\b 18% 12694 - Dataset/Healthcare/Record/record_healthcare_7000027_1635.wav\b\b\b\b\b\b\b\b\b\b\b\b\b\b\b\b\b\b\b\b\b\b\b\b\b\b\b\b\b\b\b\b\b\b\b\b\b\b\b\b\b\b\b\b\b\b\b\b\b\b\b\b\b\b\b\b\b\b\b\b\b\b\b\b\b\b\b\b\b\b\b\b\b                                                                         \b\b\b\b\b\b\b\b\b\b\b\b\b\b\b\b\b\b\b\b\b\b\b\b\b\b\b\b\b\b\b\b\b\b\b\b\b\b\b\b\b\b\b\b\b\b\b\b\b\b\b\b\b\b\b\b\b\b\b\b\b\b\b\b\b\b\b\b\b\b\b\b\b 18% 12712 - Dataset/Healthcare/Record/record_healthcare_7000027_1797.wav\b\b\b\b\b\b\b\b\b\b\b\b\b\b\b\b\b\b\b\b\b\b\b\b\b\b\b\b\b\b\b\b\b\b\b\b\b\b\b\b\b\b\b\b\b\b\b\b\b\b\b\b\b\b\b\b\b\b\b\b\b\b\b\b\b\b\b\b\b\b\b\b\b                                                                         \b\b\b\b\b\b\b\b\b\b\b\b\b\b\b\b\b\b\b\b\b\b\b\b\b\b\b\b\b\b\b\b\b\b\b\b\b\b\b\b\b\b\b\b\b\b\b\b\b\b\b\b\b\b\b\b\b\b\b\b\b\b\b\b\b\b\b\b\b\b\b\b\b 18% 12732 - Dataset/Healthcare/Record/record_healthcare_7000027_1922.wav\b\b\b\b\b\b\b\b\b\b\b\b\b\b\b\b\b\b\b\b\b\b\b\b\b\b\b\b\b\b\b\b\b\b\b\b\b\b\b\b\b\b\b\b\b\b\b\b\b\b\b\b\b\b\b\b\b\b\b\b\b\b\b\b\b\b\b\b\b\b\b\b\b                                                                         \b\b\b\b\b\b\b\b\b\b\b\b\b\b\b\b\b\b\b\b\b\b\b\b\b\b\b\b\b\b\b\b\b\b\b\b\b\b\b\b\b\b\b\b\b\b\b\b\b\b\b\b\b\b\b\b\b\b\b\b\b\b\b\b\b\b\b\b\b\b\b\b\b 18% 12751 - Dataset/Healthcare/Record/record_healthcare_7000027_2052.wav\b\b\b\b\b\b\b\b\b\b\b\b\b\b\b\b\b\b\b\b\b\b\b\b\b\b\b\b\b\b\b\b\b\b\b\b\b\b\b\b\b\b\b\b\b\b\b\b\b\b\b\b\b\b\b\b\b\b\b\b\b\b\b\b\b\b\b\b\b\b\b\b\b                                                                         \b\b\b\b\b\b\b\b\b\b\b\b\b\b\b\b\b\b\b\b\b\b\b\b\b\b\b\b\b\b\b\b\b\b\b\b\b\b\b\b\b\b\b\b\b\b\b\b\b\b\b\b\b\b\b\b\b\b\b\b\b\b\b\b\b\b\b\b\b\b\b\b\b 18% 12770 - Dataset/Healthcare/Record/record_healthcare_7000027_2217.wav\b\b\b\b\b\b\b\b\b\b\b\b\b\b\b\b\b\b\b\b\b\b\b\b\b\b\b\b\b\b\b\b\b\b\b\b\b\b\b\b\b\b\b\b\b\b\b\b\b\b\b\b\b\b\b\b\b\b\b\b\b\b\b\b\b\b\b\b\b\b\b\b\b                                                                         \b\b\b\b\b\b\b\b\b\b\b\b\b\b\b\b\b\b\b\b\b\b\b\b\b\b\b\b\b\b\b\b\b\b\b\b\b\b\b\b\b\b\b\b\b\b\b\b\b\b\b\b\b\b\b\b\b\b\b\b\b\b\b\b\b\b\b\b\b\b\b\b\b 18% 12788 - Dataset/Healthcare/Record/record_healthcare_7000027_2354.wav\b\b\b\b\b\b\b\b\b\b\b\b\b\b\b\b\b\b\b\b\b\b\b\b\b\b\b\b\b\b\b\b\b\b\b\b\b\b\b\b\b\b\b\b\b\b\b\b\b\b\b\b\b\b\b\b\b\b\b\b\b\b\b\b\b\b\b\b\b\b\b\b\b                                                                         \b\b\b\b\b\b\b\b\b\b\b\b\b\b\b\b\b\b\b\b\b\b\b\b\b\b\b\b\b\b\b\b\b\b\b\b\b\b\b\b\b\b\b\b\b\b\b\b\b\b\b\b\b\b\b\b\b\b\b\b\b\b\b\b\b\b\b\b\b\b\b\b\b 19% 12806 - Dataset/Healthcare/Record/record_healthcare_7000027_2482.wav\b\b\b\b\b\b\b\b\b\b\b\b\b\b\b\b\b\b\b\b\b\b\b\b\b\b\b\b\b\b\b\b\b\b\b\b\b\b\b\b\b\b\b\b\b\b\b\b\b\b\b\b\b\b\b\b\b\b\b\b\b\b\b\b\b\b\b\b\b\b\b\b\b                                                                         \b\b\b\b\b\b\b\b\b\b\b\b\b\b\b\b\b\b\b\b\b\b\b\b\b\b\b\b\b\b\b\b\b\b\b\b\b\b\b\b\b\b\b\b\b\b\b\b\b\b\b\b\b\b\b\b\b\b\b\b\b\b\b\b\b\b\b\b\b\b\b\b\b 19% 12825 - Dataset/Healthcare/Record/record_healthcare_7000027_340.wav\b\b\b\b\b\b\b\b\b\b\b\b\b\b\b\b\b\b\b\b\b\b\b\b\b\b\b\b\b\b\b\b\b\b\b\b\b\b\b\b\b\b\b\b\b\b\b\b\b\b\b\b\b\b\b\b\b\b\b\b\b\b\b\b\b\b\b\b\b\b\b\b                                                                        \b\b\b\b\b\b\b\b\b\b\b\b\b\b\b\b\b\b\b\b\b\b\b\b\b\b\b\b\b\b\b\b\b\b\b\b\b\b\b\b\b\b\b\b\b\b\b\b\b\b\b\b\b\b\b\b\b\b\b\b\b\b\b\b\b\b\b\b\b\b\b\b 19% 12844 - Dataset/Healthcare/Record/record_healthcare_7000027_503.wav\b\b\b\b\b\b\b\b\b\b\b\b\b\b\b\b\b\b\b\b\b\b\b\b\b\b\b\b\b\b\b\b\b\b\b\b\b\b\b\b\b\b\b\b\b\b\b\b\b\b\b\b\b\b\b\b\b\b\b\b\b\b\b\b\b\b\b\b\b\b\b\b                                                                        \b\b\b\b\b\b\b\b\b\b\b\b\b\b\b\b\b\b\b\b\b\b\b\b\b\b\b\b\b\b\b\b\b\b\b\b\b\b\b\b\b\b\b\b\b\b\b\b\b\b\b\b\b\b\b\b\b\b\b\b\b\b\b\b\b\b\b\b\b\b\b\b 19% 12864 - Dataset/Healthcare/Record/record_healthcare_7000027_677.wav\b\b\b\b\b\b\b\b\b\b\b\b\b\b\b\b\b\b\b\b\b\b\b\b\b\b\b\b\b\b\b\b\b\b\b\b\b\b\b\b\b\b\b\b\b\b\b\b\b\b\b\b\b\b\b\b\b\b\b\b\b\b\b\b\b\b\b\b\b\b\b\b                                                                        \b\b\b\b\b\b\b\b\b\b\b\b\b\b\b\b\b\b\b\b\b\b\b\b\b\b\b\b\b\b\b\b\b\b\b\b\b\b\b\b\b\b\b\b\b\b\b\b\b\b\b\b\b\b\b\b\b\b\b\b\b\b\b\b\b\b\b\b\b\b\b\b 19% 12879 - Dataset/Healthcare/Record/record_healthcare_7000027_814.wav\b\b\b\b\b\b\b\b\b\b\b\b\b\b\b\b\b\b\b\b\b\b\b\b\b\b\b\b\b\b\b\b\b\b\b\b\b\b\b\b\b\b\b\b\b\b\b\b\b\b\b\b\b\b\b\b\b\b\b\b\b\b\b\b\b\b\b\b\b\b\b\b                                                                        \b\b\b\b\b\b\b\b\b\b\b\b\b\b\b\b\b\b\b\b\b\b\b\b\b\b\b\b\b\b\b\b\b\b\b\b\b\b\b\b\b\b\b\b\b\b\b\b\b\b\b\b\b\b\b\b\b\b\b\b\b\b\b\b\b\b\b\b\b\b\b\b 19% 12898 - Dataset/Healthcare/Record/record_healthcare_7000027_944.wav\b\b\b\b\b\b\b\b\b\b\b\b\b\b\b\b\b\b\b\b\b\b\b\b\b\b\b\b\b\b\b\b\b\b\b\b\b\b\b\b\b\b\b\b\b\b\b\b\b\b\b\b\b\b\b\b\b\b\b\b\b\b\b\b\b\b\b\b\b\b\b\b                                                                        \b\b\b\b\b\b\b\b\b\b\b\b\b\b\b\b\b\b\b\b\b\b\b\b\b\b\b\b\b\b\b\b\b\b\b\b\b\b\b\b\b\b\b\b\b\b\b\b\b\b\b\b\b\b\b\b\b\b\b\b\b\b\b\b\b\b\b\b\b\b\b\b 19% 12921 - Dataset/Healthcare/Record/record_healthcare_7000028_1126.wav\b\b\b\b\b\b\b\b\b\b\b\b\b\b\b\b\b\b\b\b\b\b\b\b\b\b\b\b\b\b\b\b\b\b\b\b\b\b\b\b\b\b\b\b\b\b\b\b\b\b\b\b\b\b\b\b\b\b\b\b\b\b\b\b\b\b\b\b\b\b\b\b\b                                                                         \b\b\b\b\b\b\b\b\b\b\b\b\b\b\b\b\b\b\b\b\b\b\b\b\b\b\b\b\b\b\b\b\b\b\b\b\b\b\b\b\b\b\b\b\b\b\b\b\b\b\b\b\b\b\b\b\b\b\b\b\b\b\b\b\b\b\b\b\b\b\b\b\b 19% 12948 - Dataset/Healthcare/Record/record_healthcare_7000028_1333.wav\b\b\b\b\b\b\b\b\b\b\b\b\b\b\b\b\b\b\b\b\b\b\b\b\b\b\b\b\b\b\b\b\b\b\b\b\b\b\b\b\b\b\b\b\b\b\b\b\b\b\b\b\b\b\b\b\b\b\b\b\b\b\b\b\b\b\b\b\b\b\b\b\b                                                                         \b\b\b\b\b\b\b\b\b\b\b\b\b\b\b\b\b\b\b\b\b\b\b\b\b\b\b\b\b\b\b\b\b\b\b\b\b\b\b\b\b\b\b\b\b\b\b\b\b\b\b\b\b\b\b\b\b\b\b\b\b\b\b\b\b\b\b\b\b\b\b\b\b 19% 12974 - Dataset/Healthcare/Record/record_healthcare_7000028_1563.wav\b\b\b\b\b\b\b\b\b\b\b\b\b\b\b\b\b\b\b\b\b\b\b\b\b\b\b\b\b\b\b\b\b\b\b\b\b\b\b\b\b\b\b\b\b\b\b\b\b\b\b\b\b\b\b\b\b\b\b\b\b\b\b\b\b\b\b\b\b\b\b\b\b                                                                         \b\b\b\b\b\b\b\b\b\b\b\b\b\b\b\b\b\b\b\b\b\b\b\b\b\b\b\b\b\b\b\b\b\b\b\b\b\b\b\b\b\b\b\b\b\b\b\b\b\b\b\b\b\b\b\b\b\b\b\b\b\b\b\b\b\b\b\b\b\b\b\b\b 20% 13000 - Dataset/Healthcare/Record/record_healthcare_7000028_1687.wav\b\b\b\b\b\b\b\b\b\b\b\b\b\b\b\b\b\b\b\b\b\b\b\b\b\b\b\b\b\b\b\b\b\b\b\b\b\b\b\b\b\b\b\b\b\b\b\b\b\b\b\b\b\b\b\b\b\b\b\b\b\b\b\b\b\b\b\b\b\b\b\b\b                                                                         \b\b\b\b\b\b\b\b\b\b\b\b\b\b\b\b\b\b\b\b\b\b\b\b\b\b\b\b\b\b\b\b\b\b\b\b\b\b\b\b\b\b\b\b\b\b\b\b\b\b\b\b\b\b\b\b\b\b\b\b\b\b\b\b\b\b\b\b\b\b\b\b\b 20% 13025 - Dataset/Healthcare/Record/record_healthcare_7000028_1891.wav\b\b\b\b\b\b\b\b\b\b\b\b\b\b\b\b\b\b\b\b\b\b\b\b\b\b\b\b\b\b\b\b\b\b\b\b\b\b\b\b\b\b\b\b\b\b\b\b\b\b\b\b\b\b\b\b\b\b\b\b\b\b\b\b\b\b\b\b\b\b\b\b\b                                                                         \b\b\b\b\b\b\b\b\b\b\b\b\b\b\b\b\b\b\b\b\b\b\b\b\b\b\b\b\b\b\b\b\b\b\b\b\b\b\b\b\b\b\b\b\b\b\b\b\b\b\b\b\b\b\b\b\b\b\b\b\b\b\b\b\b\b\b\b\b\b\b\b\b 20% 13051 - Dataset/Healthcare/Record/record_healthcare_7000028_2037.wav\b\b\b\b\b\b\b\b\b\b\b\b\b\b\b\b\b\b\b\b\b\b\b\b\b\b\b\b\b\b\b\b\b\b\b\b\b\b\b\b\b\b\b\b\b\b\b\b\b\b\b\b\b\b\b\b\b\b\b\b\b\b\b\b\b\b\b\b\b\b\b\b\b                                                                         \b\b\b\b\b\b\b\b\b\b\b\b\b\b\b\b\b\b\b\b\b\b\b\b\b\b\b\b\b\b\b\b\b\b\b\b\b\b\b\b\b\b\b\b\b\b\b\b\b\b\b\b\b\b\b\b\b\b\b\b\b\b\b\b\b\b\b\b\b\b\b\b\b 20% 13077 - Dataset/Healthcare/Record/record_healthcare_7000028_2201.wav\b\b\b\b\b\b\b\b\b\b\b\b\b\b\b\b\b\b\b\b\b\b\b\b\b\b\b\b\b\b\b\b\b\b\b\b\b\b\b\b\b\b\b\b\b\b\b\b\b\b\b\b\b\b\b\b\b\b\b\b\b\b\b\b\b\b\b\b\b\b\b\b\b                                                                         \b\b\b\b\b\b\b\b\b\b\b\b\b\b\b\b\b\b\b\b\b\b\b\b\b\b\b\b\b\b\b\b\b\b\b\b\b\b\b\b\b\b\b\b\b\b\b\b\b\b\b\b\b\b\b\b\b\b\b\b\b\b\b\b\b\b\b\b\b\b\b\b\b 20% 13103 - Dataset/Healthcare/Record/record_healthcare_7000028_2403.wav\b\b\b\b\b\b\b\b\b\b\b\b\b\b\b\b\b\b\b\b\b\b\b\b\b\b\b\b\b\b\b\b\b\b\b\b\b\b\b\b\b\b\b\b\b\b\b\b\b\b\b\b\b\b\b\b\b\b\b\b\b\b\b\b\b\b\b\b\b\b\b\b\b                                                                         \b\b\b\b\b\b\b\b\b\b\b\b\b\b\b\b\b\b\b\b\b\b\b\b\b\b\b\b\b\b\b\b\b\b\b\b\b\b\b\b\b\b\b\b\b\b\b\b\b\b\b\b\b\b\b\b\b\b\b\b\b\b\b\b\b\b\b\b\b\b\b\b\b 20% 13128 - Dataset/Healthcare/Record/record_healthcare_7000028_383.wav\b\b\b\b\b\b\b\b\b\b\b\b\b\b\b\b\b\b\b\b\b\b\b\b\b\b\b\b\b\b\b\b\b\b\b\b\b\b\b\b\b\b\b\b\b\b\b\b\b\b\b\b\b\b\b\b\b\b\b\b\b\b\b\b\b\b\b\b\b\b\b\b                                                                        \b\b\b\b\b\b\b\b\b\b\b\b\b\b\b\b\b\b\b\b\b\b\b\b\b\b\b\b\b\b\b\b\b\b\b\b\b\b\b\b\b\b\b\b\b\b\b\b\b\b\b\b\b\b\b\b\b\b\b\b\b\b\b\b\b\b\b\b\b\b\b\b 20% 13153 - Dataset/Healthcare/Record/record_healthcare_7000028_565.wav\b\b\b\b\b\b\b\b\b\b\b\b\b\b\b\b\b\b\b\b\b\b\b\b\b\b\b\b\b\b\b\b\b\b\b\b\b\b\b\b\b\b\b\b\b\b\b\b\b\b\b\b\b\b\b\b\b\b\b\b\b\b\b\b\b\b\b\b\b\b\b\b                                                                        \b\b\b\b\b\b\b\b\b\b\b\b\b\b\b\b\b\b\b\b\b\b\b\b\b\b\b\b\b\b\b\b\b\b\b\b\b\b\b\b\b\b\b\b\b\b\b\b\b\b\b\b\b\b\b\b\b\b\b\b\b\b\b\b\b\b\b\b\b\b\b\b 20% 13177 - Dataset/Healthcare/Record/record_healthcare_7000028_79.wav\b\b\b\b\b\b\b\b\b\b\b\b\b\b\b\b\b\b\b\b\b\b\b\b\b\b\b\b\b\b\b\b\b\b\b\b\b\b\b\b\b\b\b\b\b\b\b\b\b\b\b\b\b\b\b\b\b\b\b\b\b\b\b\b\b\b\b\b\b\b\b                                                                       \b\b\b\b\b\b\b\b\b\b\b\b\b\b\b\b\b\b\b\b\b\b\b\b\b\b\b\b\b\b\b\b\b\b\b\b\b\b\b\b\b\b\b\b\b\b\b\b\b\b\b\b\b\b\b\b\b\b\b\b\b\b\b\b\b\b\b\b\b\b\b 20% 13203 - Dataset/Healthcare/Record/record_healthcare_7000028_989.wav\b\b\b\b\b\b\b\b\b\b\b\b\b\b\b\b\b\b\b\b\b\b\b\b\b\b\b\b\b\b\b\b\b\b\b\b\b\b\b\b\b\b\b\b\b\b\b\b\b\b\b\b\b\b\b\b\b\b\b\b\b\b\b\b\b\b\b\b\b\b\b\b                                                                        \b\b\b\b\b\b\b\b\b\b\b\b\b\b\b\b\b\b\b\b\b\b\b\b\b\b\b\b\b\b\b\b\b\b\b\b\b\b\b\b\b\b\b\b\b\b\b\b\b\b\b\b\b\b\b\b\b\b\b\b\b\b\b\b\b\b\b\b\b\b\b\b 20% 13221 - Dataset/Healthcare/Record/record_healthcare_7000029_1087.wav\b\b\b\b\b\b\b\b\b\b\b\b\b\b\b\b\b\b\b\b\b\b\b\b\b\b\b\b\b\b\b\b\b\b\b\b\b\b\b\b\b\b\b\b\b\b\b\b\b\b\b\b\b\b\b\b\b\b\b\b\b\b\b\b\b\b\b\b\b\b\b\b\b                                                                         \b\b\b\b\b\b\b\b\b\b\b\b\b\b\b\b\b\b\b\b\b\b\b\b\b\b\b\b\b\b\b\b\b\b\b\b\b\b\b\b\b\b\b\b\b\b\b\b\b\b\b\b\b\b\b\b\b\b\b\b\b\b\b\b\b\b\b\b\b\b\b\b\b 21% 13238 - Dataset/Healthcare/Record/record_healthcare_7000029_1273.wav\b\b\b\b\b\b\b\b\b\b\b\b\b\b\b\b\b\b\b\b\b\b\b\b\b\b\b\b\b\b\b\b\b\b\b\b\b\b\b\b\b\b\b\b\b\b\b\b\b\b\b\b\b\b\b\b\b\b\b\b\b\b\b\b\b\b\b\b\b\b\b\b\b                                                                         \b\b\b\b\b\b\b\b\b\b\b\b\b\b\b\b\b\b\b\b\b\b\b\b\b\b\b\b\b\b\b\b\b\b\b\b\b\b\b\b\b\b\b\b\b\b\b\b\b\b\b\b\b\b\b\b\b\b\b\b\b\b\b\b\b\b\b\b\b\b\b\b\b 21% 13254 - Dataset/Healthcare/Record/record_healthcare_7000029_1365.wav\b\b\b\b\b\b\b\b\b\b\b\b\b\b\b\b\b\b\b\b\b\b\b\b\b\b\b\b\b\b\b\b\b\b\b\b\b\b\b\b\b\b\b\b\b\b\b\b\b\b\b\b\b\b\b\b\b\b\b\b\b\b\b\b\b\b\b\b\b\b\b\b\b                                                                         \b\b\b\b\b\b\b\b\b\b\b\b\b\b\b\b\b\b\b\b\b\b\b\b\b\b\b\b\b\b\b\b\b\b\b\b\b\b\b\b\b\b\b\b\b\b\b\b\b\b\b\b\b\b\b\b\b\b\b\b\b\b\b\b\b\b\b\b\b\b\b\b\b 21% 13270 - Dataset/Healthcare/Record/record_healthcare_7000029_1494.wav\b\b\b\b\b\b\b\b\b\b\b\b\b\b\b\b\b\b\b\b\b\b\b\b\b\b\b\b\b\b\b\b\b\b\b\b\b\b\b\b\b\b\b\b\b\b\b\b\b\b\b\b\b\b\b\b\b\b\b\b\b\b\b\b\b\b\b\b\b\b\b\b\b                                                                         \b\b\b\b\b\b\b\b\b\b\b\b\b\b\b\b\b\b\b\b\b\b\b\b\b\b\b\b\b\b\b\b\b\b\b\b\b\b\b\b\b\b\b\b\b\b\b\b\b\b\b\b\b\b\b\b\b\b\b\b\b\b\b\b\b\b\b\b\b\b\b\b\b 21% 13287 - Dataset/Healthcare/Record/record_healthcare_7000029_1570.wav\b\b\b\b\b\b\b\b\b\b\b\b\b\b\b\b\b\b\b\b\b\b\b\b\b\b\b\b\b\b\b\b\b\b\b\b\b\b\b\b\b\b\b\b\b\b\b\b\b\b\b\b\b\b\b\b\b\b\b\b\b\b\b\b\b\b\b\b\b\b\b\b\b                                                                         \b\b\b\b\b\b\b\b\b\b\b\b\b\b\b\b\b\b\b\b\b\b\b\b\b\b\b\b\b\b\b\b\b\b\b\b\b\b\b\b\b\b\b\b\b\b\b\b\b\b\b\b\b\b\b\b\b\b\b\b\b\b\b\b\b\b\b\b\b\b\b\b\b 21% 13303 - Dataset/Healthcare/Record/record_healthcare_7000029_1670.wav\b\b\b\b\b\b\b\b\b\b\b\b\b\b\b\b\b\b\b\b\b\b\b\b\b\b\b\b\b\b\b\b\b\b\b\b\b\b\b\b\b\b\b\b\b\b\b\b\b\b\b\b\b\b\b\b\b\b\b\b\b\b\b\b\b\b\b\b\b\b\b\b\b                                                                         \b\b\b\b\b\b\b\b\b\b\b\b\b\b\b\b\b\b\b\b\b\b\b\b\b\b\b\b\b\b\b\b\b\b\b\b\b\b\b\b\b\b\b\b\b\b\b\b\b\b\b\b\b\b\b\b\b\b\b\b\b\b\b\b\b\b\b\b\b\b\b\b\b 21% 13320 - Dataset/Healthcare/Record/record_healthcare_7000029_1837.wav\b\b\b\b\b\b\b\b\b\b\b\b\b\b\b\b\b\b\b\b\b\b\b\b\b\b\b\b\b\b\b\b\b\b\b\b\b\b\b\b\b\b\b\b\b\b\b\b\b\b\b\b\b\b\b\b\b\b\b\b\b\b\b\b\b\b\b\b\b\b\b\b\b                                                                         \b\b\b\b\b\b\b\b\b\b\b\b\b\b\b\b\b\b\b\b\b\b\b\b\b\b\b\b\b\b\b\b\b\b\b\b\b\b\b\b\b\b\b\b\b\b\b\b\b\b\b\b\b\b\b\b\b\b\b\b\b\b\b\b\b\b\b\b\b\b\b\b\b 21% 13337 - Dataset/Healthcare/Record/record_healthcare_7000029_1997.wav\b\b\b\b\b\b\b\b\b\b\b\b\b\b\b\b\b\b\b\b\b\b\b\b\b\b\b\b\b\b\b\b\b\b\b\b\b\b\b\b\b\b\b\b\b\b\b\b\b\b\b\b\b\b\b\b\b\b\b\b\b\b\b\b\b\b\b\b\b\b\b\b\b                                                                         \b\b\b\b\b\b\b\b\b\b\b\b\b\b\b\b\b\b\b\b\b\b\b\b\b\b\b\b\b\b\b\b\b\b\b\b\b\b\b\b\b\b\b\b\b\b\b\b\b\b\b\b\b\b\b\b\b\b\b\b\b\b\b\b\b\b\b\b\b\b\b\b\b 21% 13354 - Dataset/Healthcare/Record/record_healthcare_7000029_2148.wav\b\b\b\b\b\b\b\b\b\b\b\b\b\b\b\b\b\b\b\b\b\b\b\b\b\b\b\b\b\b\b\b\b\b\b\b\b\b\b\b\b\b\b\b\b\b\b\b\b\b\b\b\b\b\b\b\b\b\b\b\b\b\b\b\b\b\b\b\b\b\b\b\b                                                                         \b\b\b\b\b\b\b\b\b\b\b\b\b\b\b\b\b\b\b\b\b\b\b\b\b\b\b\b\b\b\b\b\b\b\b\b\b\b\b\b\b\b\b\b\b\b\b\b\b\b\b\b\b\b\b\b\b\b\b\b\b\b\b\b\b\b\b\b\b\b\b\b\b 21% 13371 - Dataset/Healthcare/Record/record_healthcare_7000029_2281.wav\b\b\b\b\b\b\b\b\b\b\b\b\b\b\b\b\b\b\b\b\b\b\b\b\b\b\b\b\b\b\b\b\b\b\b\b\b\b\b\b\b\b\b\b\b\b\b\b\b\b\b\b\b\b\b\b\b\b\b\b\b\b\b\b\b\b\b\b\b\b\b\b\b                                                                         \b\b\b\b\b\b\b\b\b\b\b\b\b\b\b\b\b\b\b\b\b\b\b\b\b\b\b\b\b\b\b\b\b\b\b\b\b\b\b\b\b\b\b\b\b\b\b\b\b\b\b\b\b\b\b\b\b\b\b\b\b\b\b\b\b\b\b\b\b\b\b\b\b 22% 13387 - Dataset/Healthcare/Record/record_healthcare_7000029_2415.wav\b\b\b\b\b\b\b\b\b\b\b\b\b\b\b\b\b\b\b\b\b\b\b\b\b\b\b\b\b\b\b\b\b\b\b\b\b\b\b\b\b\b\b\b\b\b\b\b\b\b\b\b\b\b\b\b\b\b\b\b\b\b\b\b\b\b\b\b\b\b\b\b\b                                                                         \b\b\b\b\b\b\b\b\b\b\b\b\b\b\b\b\b\b\b\b\b\b\b\b\b\b\b\b\b\b\b\b\b\b\b\b\b\b\b\b\b\b\b\b\b\b\b\b\b\b\b\b\b\b\b\b\b\b\b\b\b\b\b\b\b\b\b\b\b\b\b\b\b 22% 13404 - Dataset/Healthcare/Record/record_healthcare_7000029_2501.wav\b\b\b\b\b\b\b\b\b\b\b\b\b\b\b\b\b\b\b\b\b\b\b\b\b\b\b\b\b\b\b\b\b\b\b\b\b\b\b\b\b\b\b\b\b\b\b\b\b\b\b\b\b\b\b\b\b\b\b\b\b\b\b\b\b\b\b\b\b\b\b\b\b                                                                         \b\b\b\b\b\b\b\b\b\b\b\b\b\b\b\b\b\b\b\b\b\b\b\b\b\b\b\b\b\b\b\b\b\b\b\b\b\b\b\b\b\b\b\b\b\b\b\b\b\b\b\b\b\b\b\b\b\b\b\b\b\b\b\b\b\b\b\b\b\b\b\b\b 22% 13421 - Dataset/Healthcare/Record/record_healthcare_7000029_353.wav\b\b\b\b\b\b\b\b\b\b\b\b\b\b\b\b\b\b\b\b\b\b\b\b\b\b\b\b\b\b\b\b\b\b\b\b\b\b\b\b\b\b\b\b\b\b\b\b\b\b\b\b\b\b\b\b\b\b\b\b\b\b\b\b\b\b\b\b\b\b\b\b                                                                        \b\b\b\b\b\b\b\b\b\b\b\b\b\b\b\b\b\b\b\b\b\b\b\b\b\b\b\b\b\b\b\b\b\b\b\b\b\b\b\b\b\b\b\b\b\b\b\b\b\b\b\b\b\b\b\b\b\b\b\b\b\b\b\b\b\b\b\b\b\b\b\b 22% 13437 - Dataset/Healthcare/Record/record_healthcare_7000029_494.wav\b\b\b\b\b\b\b\b\b\b\b\b\b\b\b\b\b\b\b\b\b\b\b\b\b\b\b\b\b\b\b\b\b\b\b\b\b\b\b\b\b\b\b\b\b\b\b\b\b\b\b\b\b\b\b\b\b\b\b\b\b\b\b\b\b\b\b\b\b\b\b\b                                                                        \b\b\b\b\b\b\b\b\b\b\b\b\b\b\b\b\b\b\b\b\b\b\b\b\b\b\b\b\b\b\b\b\b\b\b\b\b\b\b\b\b\b\b\b\b\b\b\b\b\b\b\b\b\b\b\b\b\b\b\b\b\b\b\b\b\b\b\b\b\b\b\b 22% 13454 - Dataset/Healthcare/Record/record_healthcare_7000029_617.wav\b\b\b\b\b\b\b\b\b\b\b\b\b\b\b\b\b\b\b\b\b\b\b\b\b\b\b\b\b\b\b\b\b\b\b\b\b\b\b\b\b\b\b\b\b\b\b\b\b\b\b\b\b\b\b\b\b\b\b\b\b\b\b\b\b\b\b\b\b\b\b\b                                                                        \b\b\b\b\b\b\b\b\b\b\b\b\b\b\b\b\b\b\b\b\b\b\b\b\b\b\b\b\b\b\b\b\b\b\b\b\b\b\b\b\b\b\b\b\b\b\b\b\b\b\b\b\b\b\b\b\b\b\b\b\b\b\b\b\b\b\b\b\b\b\b\b 22% 13471 - Dataset/Healthcare/Record/record_healthcare_7000029_76.wav\b\b\b\b\b\b\b\b\b\b\b\b\b\b\b\b\b\b\b\b\b\b\b\b\b\b\b\b\b\b\b\b\b\b\b\b\b\b\b\b\b\b\b\b\b\b\b\b\b\b\b\b\b\b\b\b\b\b\b\b\b\b\b\b\b\b\b\b\b\b\b                                                                       \b\b\b\b\b\b\b\b\b\b\b\b\b\b\b\b\b\b\b\b\b\b\b\b\b\b\b\b\b\b\b\b\b\b\b\b\b\b\b\b\b\b\b\b\b\b\b\b\b\b\b\b\b\b\b\b\b\b\b\b\b\b\b\b\b\b\b\b\b\b\b 22% 13488 - Dataset/Healthcare/Record/record_healthcare_7000029_850.wav\b\b\b\b\b\b\b\b\b\b\b\b\b\b\b\b\b\b\b\b\b\b\b\b\b\b\b\b\b\b\b\b\b\b\b\b\b\b\b\b\b\b\b\b\b\b\b\b\b\b\b\b\b\b\b\b\b\b\b\b\b\b\b\b\b\b\b\b\b\b\b\b                                                                        \b\b\b\b\b\b\b\b\b\b\b\b\b\b\b\b\b\b\b\b\b\b\b\b\b\b\b\b\b\b\b\b\b\b\b\b\b\b\b\b\b\b\b\b\b\b\b\b\b\b\b\b\b\b\b\b\b\b\b\b\b\b\b\b\b\b\b\b\b\b\b\b 22% 13505 - Dataset/Healthcare/Record/record_healthcare_7000029_991.wav\b\b\b\b\b\b\b\b\b\b\b\b\b\b\b\b\b\b\b\b\b\b\b\b\b\b\b\b\b\b\b\b\b\b\b\b\b\b\b\b\b\b\b\b\b\b\b\b\b\b\b\b\b\b\b\b\b\b\b\b\b\b\b\b\b\b\b\b\b\b\b\b                                                                        \b\b\b\b\b\b\b\b\b\b\b\b\b\b\b\b\b\b\b\b\b\b\b\b\b\b\b\b\b\b\b\b\b\b\b\b\b\b\b\b\b\b\b\b\b\b\b\b\b\b\b\b\b\b\b\b\b\b\b\b\b\b\b\b\b\b\b\b\b\b\b\b 23% 13524 - Dataset/Healthcare/Record/record_healthcare_7000031_1186.wav\b\b\b\b\b\b\b\b\b\b\b\b\b\b\b\b\b\b\b\b\b\b\b\b\b\b\b\b\b\b\b\b\b\b\b\b\b\b\b\b\b\b\b\b\b\b\b\b\b\b\b\b\b\b\b\b\b\b\b\b\b\b\b\b\b\b\b\b\b\b\b\b\b                                                                         \b\b\b\b\b\b\b\b\b\b\b\b\b\b\b\b\b\b\b\b\b\b\b\b\b\b\b\b\b\b\b\b\b\b\b\b\b\b\b\b\b\b\b\b\b\b\b\b\b\b\b\b\b\b\b\b\b\b\b\b\b\b\b\b\b\b\b\b\b\b\b\b\b 23% 13543 - Dataset/Healthcare/Record/record_healthcare_7000031_1286.wav\b\b\b\b\b\b\b\b\b\b\b\b\b\b\b\b\b\b\b\b\b\b\b\b\b\b\b\b\b\b\b\b\b\b\b\b\b\b\b\b\b\b\b\b\b\b\b\b\b\b\b\b\b\b\b\b\b\b\b\b\b\b\b\b\b\b\b\b\b\b\b\b\b                                                                         \b\b\b\b\b\b\b\b\b\b\b\b\b\b\b\b\b\b\b\b\b\b\b\b\b\b\b\b\b\b\b\b\b\b\b\b\b\b\b\b\b\b\b\b\b\b\b\b\b\b\b\b\b\b\b\b\b\b\b\b\b\b\b\b\b\b\b\b\b\b\b\b\b 23% 13561 - Dataset/Healthcare/Record/record_healthcare_7000031_1408.wav\b\b\b\b\b\b\b\b\b\b\b\b\b\b\b\b\b\b\b\b\b\b\b\b\b\b\b\b\b\b\b\b\b\b\b\b\b\b\b\b\b\b\b\b\b\b\b\b\b\b\b\b\b\b\b\b\b\b\b\b\b\b\b\b\b\b\b\b\b\b\b\b\b                                                                         \b\b\b\b\b\b\b\b\b\b\b\b\b\b\b\b\b\b\b\b\b\b\b\b\b\b\b\b\b\b\b\b\b\b\b\b\b\b\b\b\b\b\b\b\b\b\b\b\b\b\b\b\b\b\b\b\b\b\b\b\b\b\b\b\b\b\b\b\b\b\b\b\b 23% 13579 - Dataset/Healthcare/Record/record_healthcare_7000031_1594.wav\b\b\b\b\b\b\b\b\b\b\b\b\b\b\b\b\b\b\b\b\b\b\b\b\b\b\b\b\b\b\b\b\b\b\b\b\b\b\b\b\b\b\b\b\b\b\b\b\b\b\b\b\b\b\b\b\b\b\b\b\b\b\b\b\b\b\b\b\b\b\b\b\b                                                                         \b\b\b\b\b\b\b\b\b\b\b\b\b\b\b\b\b\b\b\b\b\b\b\b\b\b\b\b\b\b\b\b\b\b\b\b\b\b\b\b\b\b\b\b\b\b\b\b\b\b\b\b\b\b\b\b\b\b\b\b\b\b\b\b\b\b\b\b\b\b\b\b\b 23% 13596 - Dataset/Healthcare/Record/record_healthcare_7000031_1710.wav\b\b\b\b\b\b\b\b\b\b\b\b\b\b\b\b\b\b\b\b\b\b\b\b\b\b\b\b\b\b\b\b\b\b\b\b\b\b\b\b\b\b\b\b\b\b\b\b\b\b\b\b\b\b\b\b\b\b\b\b\b\b\b\b\b\b\b\b\b\b\b\b\b                                                                         \b\b\b\b\b\b\b\b\b\b\b\b\b\b\b\b\b\b\b\b\b\b\b\b\b\b\b\b\b\b\b\b\b\b\b\b\b\b\b\b\b\b\b\b\b\b\b\b\b\b\b\b\b\b\b\b\b\b\b\b\b\b\b\b\b\b\b\b\b\b\b\b\b 23% 13615 - Dataset/Healthcare/Record/record_healthcare_7000031_1834.wav\b\b\b\b\b\b\b\b\b\b\b\b\b\b\b\b\b\b\b\b\b\b\b\b\b\b\b\b\b\b\b\b\b\b\b\b\b\b\b\b\b\b\b\b\b\b\b\b\b\b\b\b\b\b\b\b\b\b\b\b\b\b\b\b\b\b\b\b\b\b\b\b\b                                                                         \b\b\b\b\b\b\b\b\b\b\b\b\b\b\b\b\b\b\b\b\b\b\b\b\b\b\b\b\b\b\b\b\b\b\b\b\b\b\b\b\b\b\b\b\b\b\b\b\b\b\b\b\b\b\b\b\b\b\b\b\b\b\b\b\b\b\b\b\b\b\b\b\b 23% 13632 - Dataset/Healthcare/Record/record_healthcare_7000031_1903.wav\b\b\b\b\b\b\b\b\b\b\b\b\b\b\b\b\b\b\b\b\b\b\b\b\b\b\b\b\b\b\b\b\b\b\b\b\b\b\b\b\b\b\b\b\b\b\b\b\b\b\b\b\b\b\b\b\b\b\b\b\b\b\b\b\b\b\b\b\b\b\b\b\b                                                                         \b\b\b\b\b\b\b\b\b\b\b\b\b\b\b\b\b\b\b\b\b\b\b\b\b\b\b\b\b\b\b\b\b\b\b\b\b\b\b\b\b\b\b\b\b\b\b\b\b\b\b\b\b\b\b\b\b\b\b\b\b\b\b\b\b\b\b\b\b\b\b\b\b 23% 13650 - Dataset/Healthcare/Record/record_healthcare_7000031_205.wav\b\b\b\b\b\b\b\b\b\b\b\b\b\b\b\b\b\b\b\b\b\b\b\b\b\b\b\b\b\b\b\b\b\b\b\b\b\b\b\b\b\b\b\b\b\b\b\b\b\b\b\b\b\b\b\b\b\b\b\b\b\b\b\b\b\b\b\b\b\b\b\b                                                                        \b\b\b\b\b\b\b\b\b\b\b\b\b\b\b\b\b\b\b\b\b\b\b\b\b\b\b\b\b\b\b\b\b\b\b\b\b\b\b\b\b\b\b\b\b\b\b\b\b\b\b\b\b\b\b\b\b\b\b\b\b\b\b\b\b\b\b\b\b\b\b\b 23% 13669 - Dataset/Healthcare/Record/record_healthcare_7000031_2187.wav\b\b\b\b\b\b\b\b\b\b\b\b\b\b\b\b\b\b\b\b\b\b\b\b\b\b\b\b\b\b\b\b\b\b\b\b\b\b\b\b\b\b\b\b\b\b\b\b\b\b\b\b\b\b\b\b\b\b\b\b\b\b\b\b\b\b\b\b\b\b\b\b\b                                                                         \b\b\b\b\b\b\b\b\b\b\b\b\b\b\b\b\b\b\b\b\b\b\b\b\b\b\b\b\b\b\b\b\b\b\b\b\b\b\b\b\b\b\b\b\b\b\b\b\b\b\b\b\b\b\b\b\b\b\b\b\b\b\b\b\b\b\b\b\b\b\b\b\b 23% 13688 - Dataset/Healthcare/Record/record_healthcare_7000031_235.wav\b\b\b\b\b\b\b\b\b\b\b\b\b\b\b\b\b\b\b\b\b\b\b\b\b\b\b\b\b\b\b\b\b\b\b\b\b\b\b\b\b\b\b\b\b\b\b\b\b\b\b\b\b\b\b\b\b\b\b\b\b\b\b\b\b\b\b\b\b\b\b\b                                                                        \b\b\b\b\b\b\b\b\b\b\b\b\b\b\b\b\b\b\b\b\b\b\b\b\b\b\b\b\b\b\b\b\b\b\b\b\b\b\b\b\b\b\b\b\b\b\b\b\b\b\b\b\b\b\b\b\b\b\b\b\b\b\b\b\b\b\b\b\b\b\b\b 24% 13707 - Dataset/Healthcare/Record/record_healthcare_7000031_2494.wav\b\b\b\b\b\b\b\b\b\b\b\b\b\b\b\b\b\b\b\b\b\b\b\b\b\b\b\b\b\b\b\b\b\b\b\b\b\b\b\b\b\b\b\b\b\b\b\b\b\b\b\b\b\b\b\b\b\b\b\b\b\b\b\b\b\b\b\b\b\b\b\b\b                                                                         \b\b\b\b\b\b\b\b\b\b\b\b\b\b\b\b\b\b\b\b\b\b\b\b\b\b\b\b\b\b\b\b\b\b\b\b\b\b\b\b\b\b\b\b\b\b\b\b\b\b\b\b\b\b\b\b\b\b\b\b\b\b\b\b\b\b\b\b\b\b\b\b\b 24% 13726 - Dataset/Healthcare/Record/record_healthcare_7000031_364.wav\b\b\b\b\b\b\b\b\b\b\b\b\b\b\b\b\b\b\b\b\b\b\b\b\b\b\b\b\b\b\b\b\b\b\b\b\b\b\b\b\b\b\b\b\b\b\b\b\b\b\b\b\b\b\b\b\b\b\b\b\b\b\b\b\b\b\b\b\b\b\b\b                                                                        \b\b\b\b\b\b\b\b\b\b\b\b\b\b\b\b\b\b\b\b\b\b\b\b\b\b\b\b\b\b\b\b\b\b\b\b\b\b\b\b\b\b\b\b\b\b\b\b\b\b\b\b\b\b\b\b\b\b\b\b\b\b\b\b\b\b\b\b\b\b\b\b 24% 13746 - Dataset/Healthcare/Record/record_healthcare_7000031_549.wav\b\b\b\b\b\b\b\b\b\b\b\b\b\b\b\b\b\b\b\b\b\b\b\b\b\b\b\b\b\b\b\b\b\b\b\b\b\b\b\b\b\b\b\b\b\b\b\b\b\b\b\b\b\b\b\b\b\b\b\b\b\b\b\b\b\b\b\b\b\b\b\b                                                                        \b\b\b\b\b\b\b\b\b\b\b\b\b\b\b\b\b\b\b\b\b\b\b\b\b\b\b\b\b\b\b\b\b\b\b\b\b\b\b\b\b\b\b\b\b\b\b\b\b\b\b\b\b\b\b\b\b\b\b\b\b\b\b\b\b\b\b\b\b\b\b\b 24% 13765 - Dataset/Healthcare/Record/record_healthcare_7000031_653.wav\b\b\b\b\b\b\b\b\b\b\b\b\b\b\b\b\b\b\b\b\b\b\b\b\b\b\b\b\b\b\b\b\b\b\b\b\b\b\b\b\b\b\b\b\b\b\b\b\b\b\b\b\b\b\b\b\b\b\b\b\b\b\b\b\b\b\b\b\b\b\b\b                                                                        \b\b\b\b\b\b\b\b\b\b\b\b\b\b\b\b\b\b\b\b\b\b\b\b\b\b\b\b\b\b\b\b\b\b\b\b\b\b\b\b\b\b\b\b\b\b\b\b\b\b\b\b\b\b\b\b\b\b\b\b\b\b\b\b\b\b\b\b\b\b\b\b 24% 13783 - Dataset/Healthcare/Record/record_healthcare_7000031_819.wav\b\b\b\b\b\b\b\b\b\b\b\b\b\b\b\b\b\b\b\b\b\b\b\b\b\b\b\b\b\b\b\b\b\b\b\b\b\b\b\b\b\b\b\b\b\b\b\b\b\b\b\b\b\b\b\b\b\b\b\b\b\b\b\b\b\b\b\b\b\b\b\b                                                                        \b\b\b\b\b\b\b\b\b\b\b\b\b\b\b\b\b\b\b\b\b\b\b\b\b\b\b\b\b\b\b\b\b\b\b\b\b\b\b\b\b\b\b\b\b\b\b\b\b\b\b\b\b\b\b\b\b\b\b\b\b\b\b\b\b\b\b\b\b\b\b\b 24% 13802 - Dataset/Healthcare/Record/record_healthcare_7000031_948.wav\b\b\b\b\b\b\b\b\b\b\b\b\b\b\b\b\b\b\b\b\b\b\b\b\b\b\b\b\b\b\b\b\b\b\b\b\b\b\b\b\b\b\b\b\b\b\b\b\b\b\b\b\b\b\b\b\b\b\b\b\b\b\b\b\b\b\b\b\b\b\b\b                                                                        \b\b\b\b\b\b\b\b\b\b\b\b\b\b\b\b\b\b\b\b\b\b\b\b\b\b\b\b\b\b\b\b\b\b\b\b\b\b\b\b\b\b\b\b\b\b\b\b\b\b\b\b\b\b\b\b\b\b\b\b\b\b\b\b\b\b\b\b\b\b\b\b 24% 13823 - Dataset/Healthcare/Record/record_healthcare_7000032_1134.wav\b\b\b\b\b\b\b\b\b\b\b\b\b\b\b\b\b\b\b\b\b\b\b\b\b\b\b\b\b\b\b\b\b\b\b\b\b\b\b\b\b\b\b\b\b\b\b\b\b\b\b\b\b\b\b\b\b\b\b\b\b\b\b\b\b\b\b\b\b\b\b\b\b                                                                         \b\b\b\b\b\b\b\b\b\b\b\b\b\b\b\b\b\b\b\b\b\b\b\b\b\b\b\b\b\b\b\b\b\b\b\b\b\b\b\b\b\b\b\b\b\b\b\b\b\b\b\b\b\b\b\b\b\b\b\b\b\b\b\b\b\b\b\b\b\b\b\b\b 24% 13845 - Dataset/Healthcare/Record/record_healthcare_7000032_1274.wav\b\b\b\b\b\b\b\b\b\b\b\b\b\b\b\b\b\b\b\b\b\b\b\b\b\b\b\b\b\b\b\b\b\b\b\b\b\b\b\b\b\b\b\b\b\b\b\b\b\b\b\b\b\b\b\b\b\b\b\b\b\b\b\b\b\b\b\b\b\b\b\b\b                                                                         \b\b\b\b\b\b\b\b\b\b\b\b\b\b\b\b\b\b\b\b\b\b\b\b\b\b\b\b\b\b\b\b\b\b\b\b\b\b\b\b\b\b\b\b\b\b\b\b\b\b\b\b\b\b\b\b\b\b\b\b\b\b\b\b\b\b\b\b\b\b\b\b\b 24% 13866 - Dataset/Healthcare/Record/record_healthcare_7000032_1453.wav\b\b\b\b\b\b\b\b\b\b\b\b\b\b\b\b\b\b\b\b\b\b\b\b\b\b\b\b\b\b\b\b\b\b\b\b\b\b\b\b\b\b\b\b\b\b\b\b\b\b\b\b\b\b\b\b\b\b\b\b\b\b\b\b\b\b\b\b\b\b\b\b\b                                                                         \b\b\b\b\b\b\b\b\b\b\b\b\b\b\b\b\b\b\b\b\b\b\b\b\b\b\b\b\b\b\b\b\b\b\b\b\b\b\b\b\b\b\b\b\b\b\b\b\b\b\b\b\b\b\b\b\b\b\b\b\b\b\b\b\b\b\b\b\b\b\b\b\b 25% 13887 - Dataset/Healthcare/Record/record_healthcare_7000032_1657.wav\b\b\b\b\b\b\b\b\b\b\b\b\b\b\b\b\b\b\b\b\b\b\b\b\b\b\b\b\b\b\b\b\b\b\b\b\b\b\b\b\b\b\b\b\b\b\b\b\b\b\b\b\b\b\b\b\b\b\b\b\b\b\b\b\b\b\b\b\b\b\b\b\b                                                                         \b\b\b\b\b\b\b\b\b\b\b\b\b\b\b\b\b\b\b\b\b\b\b\b\b\b\b\b\b\b\b\b\b\b\b\b\b\b\b\b\b\b\b\b\b\b\b\b\b\b\b\b\b\b\b\b\b\b\b\b\b\b\b\b\b\b\b\b\b\b\b\b\b 25% 13905 - Dataset/Healthcare/Record/record_healthcare_7000032_1764.wav\b\b\b\b\b\b\b\b\b\b\b\b\b\b\b\b\b\b\b\b\b\b\b\b\b\b\b\b\b\b\b\b\b\b\b\b\b\b\b\b\b\b\b\b\b\b\b\b\b\b\b\b\b\b\b\b\b\b\b\b\b\b\b\b\b\b\b\b\b\b\b\b\b                                                                         \b\b\b\b\b\b\b\b\b\b\b\b\b\b\b\b\b\b\b\b\b\b\b\b\b\b\b\b\b\b\b\b\b\b\b\b\b\b\b\b\b\b\b\b\b\b\b\b\b\b\b\b\b\b\b\b\b\b\b\b\b\b\b\b\b\b\b\b\b\b\b\b\b 25% 13925 - Dataset/Healthcare/Record/record_healthcare_7000032_1928.wav\b\b\b\b\b\b\b\b\b\b\b\b\b\b\b\b\b\b\b\b\b\b\b\b\b\b\b\b\b\b\b\b\b\b\b\b\b\b\b\b\b\b\b\b\b\b\b\b\b\b\b\b\b\b\b\b\b\b\b\b\b\b\b\b\b\b\b\b\b\b\b\b\b                                                                         \b\b\b\b\b\b\b\b\b\b\b\b\b\b\b\b\b\b\b\b\b\b\b\b\b\b\b\b\b\b\b\b\b\b\b\b\b\b\b\b\b\b\b\b\b\b\b\b\b\b\b\b\b\b\b\b\b\b\b\b\b\b\b\b\b\b\b\b\b\b\b\b\b 25% 13947 - Dataset/Healthcare/Record/record_healthcare_7000032_2091.wav\b\b\b\b\b\b\b\b\b\b\b\b\b\b\b\b\b\b\b\b\b\b\b\b\b\b\b\b\b\b\b\b\b\b\b\b\b\b\b\b\b\b\b\b\b\b\b\b\b\b\b\b\b\b\b\b\b\b\b\b\b\b\b\b\b\b\b\b\b\b\b\b\b                                                                         \b\b\b\b\b\b\b\b\b\b\b\b\b\b\b\b\b\b\b\b\b\b\b\b\b\b\b\b\b\b\b\b\b\b\b\b\b\b\b\b\b\b\b\b\b\b\b\b\b\b\b\b\b\b\b\b\b\b\b\b\b\b\b\b\b\b\b\b\b\b\b\b\b 25% 13967 - Dataset/Healthcare/Record/record_healthcare_7000032_2246.wav\b\b\b\b\b\b\b\b\b\b\b\b\b\b\b\b\b\b\b\b\b\b\b\b\b\b\b\b\b\b\b\b\b\b\b\b\b\b\b\b\b\b\b\b\b\b\b\b\b\b\b\b\b\b\b\b\b\b\b\b\b\b\b\b\b\b\b\b\b\b\b\b\b                                                                         \b\b\b\b\b\b\b\b\b\b\b\b\b\b\b\b\b\b\b\b\b\b\b\b\b\b\b\b\b\b\b\b\b\b\b\b\b\b\b\b\b\b\b\b\b\b\b\b\b\b\b\b\b\b\b\b\b\b\b\b\b\b\b\b\b\b\b\b\b\b\b\b\b 25% 13987 - Dataset/Healthcare/Record/record_healthcare_7000032_2346.wav\b\b\b\b\b\b\b\b\b\b\b\b\b\b\b\b\b\b\b\b\b\b\b\b\b\b\b\b\b\b\b\b\b\b\b\b\b\b\b\b\b\b\b\b\b\b\b\b\b\b\b\b\b\b\b\b\b\b\b\b\b\b\b\b\b\b\b\b\b\b\b\b\b                                                                         \b\b\b\b\b\b\b\b\b\b\b\b\b\b\b\b\b\b\b\b\b\b\b\b\b\b\b\b\b\b\b\b\b\b\b\b\b\b\b\b\b\b\b\b\b\b\b\b\b\b\b\b\b\b\b\b\b\b\b\b\b\b\b\b\b\b\b\b\b\b\b\b\b 25% 14008 - Dataset/Healthcare/Record/record_healthcare_7000032_269.wav\b\b\b\b\b\b\b\b\b\b\b\b\b\b\b\b\b\b\b\b\b\b\b\b\b\b\b\b\b\b\b\b\b\b\b\b\b\b\b\b\b\b\b\b\b\b\b\b\b\b\b\b\b\b\b\b\b\b\b\b\b\b\b\b\b\b\b\b\b\b\b\b                                                                        \b\b\b\b\b\b\b\b\b\b\b\b\b\b\b\b\b\b\b\b\b\b\b\b\b\b\b\b\b\b\b\b\b\b\b\b\b\b\b\b\b\b\b\b\b\b\b\b\b\b\b\b\b\b\b\b\b\b\b\b\b\b\b\b\b\b\b\b\b\b\b\b 25% 14028 - Dataset/Healthcare/Record/record_healthcare_7000032_42.wav\b\b\b\b\b\b\b\b\b\b\b\b\b\b\b\b\b\b\b\b\b\b\b\b\b\b\b\b\b\b\b\b\b\b\b\b\b\b\b\b\b\b\b\b\b\b\b\b\b\b\b\b\b\b\b\b\b\b\b\b\b\b\b\b\b\b\b\b\b\b\b                                                                       \b\b\b\b\b\b\b\b\b\b\b\b\b\b\b\b\b\b\b\b\b\b\b\b\b\b\b\b\b\b\b\b\b\b\b\b\b\b\b\b\b\b\b\b\b\b\b\b\b\b\b\b\b\b\b\b\b\b\b\b\b\b\b\b\b\b\b\b\b\b\b 26% 14048 - Dataset/Healthcare/Record/record_healthcare_7000032_545.wav\b\b\b\b\b\b\b\b\b\b\b\b\b\b\b\b\b\b\b\b\b\b\b\b\b\b\b\b\b\b\b\b\b\b\b\b\b\b\b\b\b\b\b\b\b\b\b\b\b\b\b\b\b\b\b\b\b\b\b\b\b\b\b\b\b\b\b\b\b\b\b\b                                                                        \b\b\b\b\b\b\b\b\b\b\b\b\b\b\b\b\b\b\b\b\b\b\b\b\b\b\b\b\b\b\b\b\b\b\b\b\b\b\b\b\b\b\b\b\b\b\b\b\b\b\b\b\b\b\b\b\b\b\b\b\b\b\b\b\b\b\b\b\b\b\b\b 26% 14068 - Dataset/Healthcare/Record/record_healthcare_7000032_700.wav\b\b\b\b\b\b\b\b\b\b\b\b\b\b\b\b\b\b\b\b\b\b\b\b\b\b\b\b\b\b\b\b\b\b\b\b\b\b\b\b\b\b\b\b\b\b\b\b\b\b\b\b\b\b\b\b\b\b\b\b\b\b\b\b\b\b\b\b\b\b\b\b                                                                        \b\b\b\b\b\b\b\b\b\b\b\b\b\b\b\b\b\b\b\b\b\b\b\b\b\b\b\b\b\b\b\b\b\b\b\b\b\b\b\b\b\b\b\b\b\b\b\b\b\b\b\b\b\b\b\b\b\b\b\b\b\b\b\b\b\b\b\b\b\b\b\b 26% 14088 - Dataset/Healthcare/Record/record_healthcare_7000032_817.wav\b\b\b\b\b\b\b\b\b\b\b\b\b\b\b\b\b\b\b\b\b\b\b\b\b\b\b\b\b\b\b\b\b\b\b\b\b\b\b\b\b\b\b\b\b\b\b\b\b\b\b\b\b\b\b\b\b\b\b\b\b\b\b\b\b\b\b\b\b\b\b\b                                                                        \b\b\b\b\b\b\b\b\b\b\b\b\b\b\b\b\b\b\b\b\b\b\b\b\b\b\b\b\b\b\b\b\b\b\b\b\b\b\b\b\b\b\b\b\b\b\b\b\b\b\b\b\b\b\b\b\b\b\b\b\b\b\b\b\b\b\b\b\b\b\b\b 26% 14110 - Dataset/Healthcare/Record/record_healthcare_7000033_1045.wav\b\b\b\b\b\b\b\b\b\b\b\b\b\b\b\b\b\b\b\b\b\b\b\b\b\b\b\b\b\b\b\b\b\b\b\b\b\b\b\b\b\b\b\b\b\b\b\b\b\b\b\b\b\b\b\b\b\b\b\b\b\b\b\b\b\b\b\b\b\b\b\b\b                                                                         \b\b\b\b\b\b\b\b\b\b\b\b\b\b\b\b\b\b\b\b\b\b\b\b\b\b\b\b\b\b\b\b\b\b\b\b\b\b\b\b\b\b\b\b\b\b\b\b\b\b\b\b\b\b\b\b\b\b\b\b\b\b\b\b\b\b\b\b\b\b\b\b\b 26% 14131 - Dataset/Healthcare/Record/record_healthcare_7000033_1182.wav\b\b\b\b\b\b\b\b\b\b\b\b\b\b\b\b\b\b\b\b\b\b\b\b\b\b\b\b\b\b\b\b\b\b\b\b\b\b\b\b\b\b\b\b\b\b\b\b\b\b\b\b\b\b\b\b\b\b\b\b\b\b\b\b\b\b\b\b\b\b\b\b\b                                                                         \b\b\b\b\b\b\b\b\b\b\b\b\b\b\b\b\b\b\b\b\b\b\b\b\b\b\b\b\b\b\b\b\b\b\b\b\b\b\b\b\b\b\b\b\b\b\b\b\b\b\b\b\b\b\b\b\b\b\b\b\b\b\b\b\b\b\b\b\b\b\b\b\b 26% 14152 - Dataset/Healthcare/Record/record_healthcare_7000033_133.wav\b\b\b\b\b\b\b\b\b\b\b\b\b\b\b\b\b\b\b\b\b\b\b\b\b\b\b\b\b\b\b\b\b\b\b\b\b\b\b\b\b\b\b\b\b\b\b\b\b\b\b\b\b\b\b\b\b\b\b\b\b\b\b\b\b\b\b\b\b\b\b\b                                                                        \b\b\b\b\b\b\b\b\b\b\b\b\b\b\b\b\b\b\b\b\b\b\b\b\b\b\b\b\b\b\b\b\b\b\b\b\b\b\b\b\b\b\b\b\b\b\b\b\b\b\b\b\b\b\b\b\b\b\b\b\b\b\b\b\b\b\b\b\b\b\b\b 26% 14172 - Dataset/Healthcare/Record/record_healthcare_7000033_1411.wav\b\b\b\b\b\b\b\b\b\b\b\b\b\b\b\b\b\b\b\b\b\b\b\b\b\b\b\b\b\b\b\b\b\b\b\b\b\b\b\b\b\b\b\b\b\b\b\b\b\b\b\b\b\b\b\b\b\b\b\b\b\b\b\b\b\b\b\b\b\b\b\b\b                                                                         \b\b\b\b\b\b\b\b\b\b\b\b\b\b\b\b\b\b\b\b\b\b\b\b\b\b\b\b\b\b\b\b\b\b\b\b\b\b\b\b\b\b\b\b\b\b\b\b\b\b\b\b\b\b\b\b\b\b\b\b\b\b\b\b\b\b\b\b\b\b\b\b\b 26% 14193 - Dataset/Healthcare/Record/record_healthcare_7000033_1555.wav\b\b\b\b\b\b\b\b\b\b\b\b\b\b\b\b\b\b\b\b\b\b\b\b\b\b\b\b\b\b\b\b\b\b\b\b\b\b\b\b\b\b\b\b\b\b\b\b\b\b\b\b\b\b\b\b\b\b\b\b\b\b\b\b\b\b\b\b\b\b\b\b\b                                                                         \b\b\b\b\b\b\b\b\b\b\b\b\b\b\b\b\b\b\b\b\b\b\b\b\b\b\b\b\b\b\b\b\b\b\b\b\b\b\b\b\b\b\b\b\b\b\b\b\b\b\b\b\b\b\b\b\b\b\b\b\b\b\b\b\b\b\b\b\b\b\b\b\b 26% 14214 - Dataset/Healthcare/Record/record_healthcare_7000033_1717.wav\b\b\b\b\b\b\b\b\b\b\b\b\b\b\b\b\b\b\b\b\b\b\b\b\b\b\b\b\b\b\b\b\b\b\b\b\b\b\b\b\b\b\b\b\b\b\b\b\b\b\b\b\b\b\b\b\b\b\b\b\b\b\b\b\b\b\b\b\b\b\b\b\b                                                                         \b\b\b\b\b\b\b\b\b\b\b\b\b\b\b\b\b\b\b\b\b\b\b\b\b\b\b\b\b\b\b\b\b\b\b\b\b\b\b\b\b\b\b\b\b\b\b\b\b\b\b\b\b\b\b\b\b\b\b\b\b\b\b\b\b\b\b\b\b\b\b\b\b 27% 14235 - Dataset/Healthcare/Record/record_healthcare_7000033_1908.wav\b\b\b\b\b\b\b\b\b\b\b\b\b\b\b\b\b\b\b\b\b\b\b\b\b\b\b\b\b\b\b\b\b\b\b\b\b\b\b\b\b\b\b\b\b\b\b\b\b\b\b\b\b\b\b\b\b\b\b\b\b\b\b\b\b\b\b\b\b\b\b\b\b                                                                         \b\b\b\b\b\b\b\b\b\b\b\b\b\b\b\b\b\b\b\b\b\b\b\b\b\b\b\b\b\b\b\b\b\b\b\b\b\b\b\b\b\b\b\b\b\b\b\b\b\b\b\b\b\b\b\b\b\b\b\b\b\b\b\b\b\b\b\b\b\b\b\b\b 27% 14255 - Dataset/Healthcare/Record/record_healthcare_7000033_2075.wav\b\b\b\b\b\b\b\b\b\b\b\b\b\b\b\b\b\b\b\b\b\b\b\b\b\b\b\b\b\b\b\b\b\b\b\b\b\b\b\b\b\b\b\b\b\b\b\b\b\b\b\b\b\b\b\b\b\b\b\b\b\b\b\b\b\b\b\b\b\b\b\b\b                                                                         \b\b\b\b\b\b\b\b\b\b\b\b\b\b\b\b\b\b\b\b\b\b\b\b\b\b\b\b\b\b\b\b\b\b\b\b\b\b\b\b\b\b\b\b\b\b\b\b\b\b\b\b\b\b\b\b\b\b\b\b\b\b\b\b\b\b\b\b\b\b\b\b\b 27% 14274 - Dataset/Healthcare/Record/record_healthcare_7000033_2275.wav\b\b\b\b\b\b\b\b\b\b\b\b\b\b\b\b\b\b\b\b\b\b\b\b\b\b\b\b\b\b\b\b\b\b\b\b\b\b\b\b\b\b\b\b\b\b\b\b\b\b\b\b\b\b\b\b\b\b\b\b\b\b\b\b\b\b\b\b\b\b\b\b\b                                                                         \b\b\b\b\b\b\b\b\b\b\b\b\b\b\b\b\b\b\b\b\b\b\b\b\b\b\b\b\b\b\b\b\b\b\b\b\b\b\b\b\b\b\b\b\b\b\b\b\b\b\b\b\b\b\b\b\b\b\b\b\b\b\b\b\b\b\b\b\b\b\b\b\b 27% 14294 - Dataset/Healthcare/Record/record_healthcare_7000033_2447.wav\b\b\b\b\b\b\b\b\b\b\b\b\b\b\b\b\b\b\b\b\b\b\b\b\b\b\b\b\b\b\b\b\b\b\b\b\b\b\b\b\b\b\b\b\b\b\b\b\b\b\b\b\b\b\b\b\b\b\b\b\b\b\b\b\b\b\b\b\b\b\b\b\b                                                                         \b\b\b\b\b\b\b\b\b\b\b\b\b\b\b\b\b\b\b\b\b\b\b\b\b\b\b\b\b\b\b\b\b\b\b\b\b\b\b\b\b\b\b\b\b\b\b\b\b\b\b\b\b\b\b\b\b\b\b\b\b\b\b\b\b\b\b\b\b\b\b\b\b 27% 14314 - Dataset/Healthcare/Record/record_healthcare_7000033_350.wav\b\b\b\b\b\b\b\b\b\b\b\b\b\b\b\b\b\b\b\b\b\b\b\b\b\b\b\b\b\b\b\b\b\b\b\b\b\b\b\b\b\b\b\b\b\b\b\b\b\b\b\b\b\b\b\b\b\b\b\b\b\b\b\b\b\b\b\b\b\b\b\b                                                                        \b\b\b\b\b\b\b\b\b\b\b\b\b\b\b\b\b\b\b\b\b\b\b\b\b\b\b\b\b\b\b\b\b\b\b\b\b\b\b\b\b\b\b\b\b\b\b\b\b\b\b\b\b\b\b\b\b\b\b\b\b\b\b\b\b\b\b\b\b\b\b\b 27% 14334 - Dataset/Healthcare/Record/record_healthcare_7000033_478.wav\b\b\b\b\b\b\b\b\b\b\b\b\b\b\b\b\b\b\b\b\b\b\b\b\b\b\b\b\b\b\b\b\b\b\b\b\b\b\b\b\b\b\b\b\b\b\b\b\b\b\b\b\b\b\b\b\b\b\b\b\b\b\b\b\b\b\b\b\b\b\b\b                                                                        \b\b\b\b\b\b\b\b\b\b\b\b\b\b\b\b\b\b\b\b\b\b\b\b\b\b\b\b\b\b\b\b\b\b\b\b\b\b\b\b\b\b\b\b\b\b\b\b\b\b\b\b\b\b\b\b\b\b\b\b\b\b\b\b\b\b\b\b\b\b\b\b 27% 14355 - Dataset/Healthcare/Record/record_healthcare_7000033_624.wav\b\b\b\b\b\b\b\b\b\b\b\b\b\b\b\b\b\b\b\b\b\b\b\b\b\b\b\b\b\b\b\b\b\b\b\b\b\b\b\b\b\b\b\b\b\b\b\b\b\b\b\b\b\b\b\b\b\b\b\b\b\b\b\b\b\b\b\b\b\b\b\b                                                                        \b\b\b\b\b\b\b\b\b\b\b\b\b\b\b\b\b\b\b\b\b\b\b\b\b\b\b\b\b\b\b\b\b\b\b\b\b\b\b\b\b\b\b\b\b\b\b\b\b\b\b\b\b\b\b\b\b\b\b\b\b\b\b\b\b\b\b\b\b\b\b\b 27% 14375 - Dataset/Healthcare/Record/record_healthcare_7000033_736.wav\b\b\b\b\b\b\b\b\b\b\b\b\b\b\b\b\b\b\b\b\b\b\b\b\b\b\b\b\b\b\b\b\b\b\b\b\b\b\b\b\b\b\b\b\b\b\b\b\b\b\b\b\b\b\b\b\b\b\b\b\b\b\b\b\b\b\b\b\b\b\b\b                                                                        \b\b\b\b\b\b\b\b\b\b\b\b\b\b\b\b\b\b\b\b\b\b\b\b\b\b\b\b\b\b\b\b\b\b\b\b\b\b\b\b\b\b\b\b\b\b\b\b\b\b\b\b\b\b\b\b\b\b\b\b\b\b\b\b\b\b\b\b\b\b\b\b 27% 14394 - Dataset/Healthcare/Record/record_healthcare_7000033_875.wav\b\b\b\b\b\b\b\b\b\b\b\b\b\b\b\b\b\b\b\b\b\b\b\b\b\b\b\b\b\b\b\b\b\b\b\b\b\b\b\b\b\b\b\b\b\b\b\b\b\b\b\b\b\b\b\b\b\b\b\b\b\b\b\b\b\b\b\b\b\b\b\b                                                                        \b\b\b\b\b\b\b\b\b\b\b\b\b\b\b\b\b\b\b\b\b\b\b\b\b\b\b\b\b\b\b\b\b\b\b\b\b\b\b\b\b\b\b\b\b\b\b\b\b\b\b\b\b\b\b\b\b\b\b\b\b\b\b\b\b\b\b\b\b\b\b\b 27% 14414 - Dataset/Healthcare/Record/record_healthcare_7000034_1067.wav\b\b\b\b\b\b\b\b\b\b\b\b\b\b\b\b\b\b\b\b\b\b\b\b\b\b\b\b\b\b\b\b\b\b\b\b\b\b\b\b\b\b\b\b\b\b\b\b\b\b\b\b\b\b\b\b\b\b\b\b\b\b\b\b\b\b\b\b\b\b\b\b\b                                                                         \b\b\b\b\b\b\b\b\b\b\b\b\b\b\b\b\b\b\b\b\b\b\b\b\b\b\b\b\b\b\b\b\b\b\b\b\b\b\b\b\b\b\b\b\b\b\b\b\b\b\b\b\b\b\b\b\b\b\b\b\b\b\b\b\b\b\b\b\b\b\b\b\b 28% 14435 - Dataset/Healthcare/Record/record_healthcare_7000034_1258.wav\b\b\b\b\b\b\b\b\b\b\b\b\b\b\b\b\b\b\b\b\b\b\b\b\b\b\b\b\b\b\b\b\b\b\b\b\b\b\b\b\b\b\b\b\b\b\b\b\b\b\b\b\b\b\b\b\b\b\b\b\b\b\b\b\b\b\b\b\b\b\b\b\b                                                                         \b\b\b\b\b\b\b\b\b\b\b\b\b\b\b\b\b\b\b\b\b\b\b\b\b\b\b\b\b\b\b\b\b\b\b\b\b\b\b\b\b\b\b\b\b\b\b\b\b\b\b\b\b\b\b\b\b\b\b\b\b\b\b\b\b\b\b\b\b\b\b\b\b 28% 14455 - Dataset/Healthcare/Record/record_healthcare_7000034_1389.wav\b\b\b\b\b\b\b\b\b\b\b\b\b\b\b\b\b\b\b\b\b\b\b\b\b\b\b\b\b\b\b\b\b\b\b\b\b\b\b\b\b\b\b\b\b\b\b\b\b\b\b\b\b\b\b\b\b\b\b\b\b\b\b\b\b\b\b\b\b\b\b\b\b                                                                         \b\b\b\b\b\b\b\b\b\b\b\b\b\b\b\b\b\b\b\b\b\b\b\b\b\b\b\b\b\b\b\b\b\b\b\b\b\b\b\b\b\b\b\b\b\b\b\b\b\b\b\b\b\b\b\b\b\b\b\b\b\b\b\b\b\b\b\b\b\b\b\b\b 28% 14476 - Dataset/Healthcare/Record/record_healthcare_7000034_1530.wav\b\b\b\b\b\b\b\b\b\b\b\b\b\b\b\b\b\b\b\b\b\b\b\b\b\b\b\b\b\b\b\b\b\b\b\b\b\b\b\b\b\b\b\b\b\b\b\b\b\b\b\b\b\b\b\b\b\b\b\b\b\b\b\b\b\b\b\b\b\b\b\b\b                                                                         \b\b\b\b\b\b\b\b\b\b\b\b\b\b\b\b\b\b\b\b\b\b\b\b\b\b\b\b\b\b\b\b\b\b\b\b\b\b\b\b\b\b\b\b\b\b\b\b\b\b\b\b\b\b\b\b\b\b\b\b\b\b\b\b\b\b\b\b\b\b\b\b\b 28% 14496 - Dataset/Healthcare/Record/record_healthcare_7000034_1696.wav\b\b\b\b\b\b\b\b\b\b\b\b\b\b\b\b\b\b\b\b\b\b\b\b\b\b\b\b\b\b\b\b\b\b\b\b\b\b\b\b\b\b\b\b\b\b\b\b\b\b\b\b\b\b\b\b\b\b\b\b\b\b\b\b\b\b\b\b\b\b\b\b\b                                                                         \b\b\b\b\b\b\b\b\b\b\b\b\b\b\b\b\b\b\b\b\b\b\b\b\b\b\b\b\b\b\b\b\b\b\b\b\b\b\b\b\b\b\b\b\b\b\b\b\b\b\b\b\b\b\b\b\b\b\b\b\b\b\b\b\b\b\b\b\b\b\b\b\b 28% 14517 - Dataset/Healthcare/Record/record_healthcare_7000034_1852.wav\b\b\b\b\b\b\b\b\b\b\b\b\b\b\b\b\b\b\b\b\b\b\b\b\b\b\b\b\b\b\b\b\b\b\b\b\b\b\b\b\b\b\b\b\b\b\b\b\b\b\b\b\b\b\b\b\b\b\b\b\b\b\b\b\b\b\b\b\b\b\b\b\b                                                                         \b\b\b\b\b\b\b\b\b\b\b\b\b\b\b\b\b\b\b\b\b\b\b\b\b\b\b\b\b\b\b\b\b\b\b\b\b\b\b\b\b\b\b\b\b\b\b\b\b\b\b\b\b\b\b\b\b\b\b\b\b\b\b\b\b\b\b\b\b\b\b\b\b 28% 14538 - Dataset/Healthcare/Record/record_healthcare_7000034_2000.wav\b\b\b\b\b\b\b\b\b\b\b\b\b\b\b\b\b\b\b\b\b\b\b\b\b\b\b\b\b\b\b\b\b\b\b\b\b\b\b\b\b\b\b\b\b\b\b\b\b\b\b\b\b\b\b\b\b\b\b\b\b\b\b\b\b\b\b\b\b\b\b\b\b                                                                         \b\b\b\b\b\b\b\b\b\b\b\b\b\b\b\b\b\b\b\b\b\b\b\b\b\b\b\b\b\b\b\b\b\b\b\b\b\b\b\b\b\b\b\b\b\b\b\b\b\b\b\b\b\b\b\b\b\b\b\b\b\b\b\b\b\b\b\b\b\b\b\b\b 29% 14558 - Dataset/Healthcare/Record/record_healthcare_7000034_2158.wav\b\b\b\b\b\b\b\b\b\b\b\b\b\b\b\b\b\b\b\b\b\b\b\b\b\b\b\b\b\b\b\b\b\b\b\b\b\b\b\b\b\b\b\b\b\b\b\b\b\b\b\b\b\b\b\b\b\b\b\b\b\b\b\b\b\b\b\b\b\b\b\b\b                                                                         \b\b\b\b\b\b\b\b\b\b\b\b\b\b\b\b\b\b\b\b\b\b\b\b\b\b\b\b\b\b\b\b\b\b\b\b\b\b\b\b\b\b\b\b\b\b\b\b\b\b\b\b\b\b\b\b\b\b\b\b\b\b\b\b\b\b\b\b\b\b\b\b\b 29% 14579 - Dataset/Healthcare/Record/record_healthcare_7000034_2257.wav\b\b\b\b\b\b\b\b\b\b\b\b\b\b\b\b\b\b\b\b\b\b\b\b\b\b\b\b\b\b\b\b\b\b\b\b\b\b\b\b\b\b\b\b\b\b\b\b\b\b\b\b\b\b\b\b\b\b\b\b\b\b\b\b\b\b\b\b\b\b\b\b\b                                                                         \b\b\b\b\b\b\b\b\b\b\b\b\b\b\b\b\b\b\b\b\b\b\b\b\b\b\b\b\b\b\b\b\b\b\b\b\b\b\b\b\b\b\b\b\b\b\b\b\b\b\b\b\b\b\b\b\b\b\b\b\b\b\b\b\b\b\b\b\b\b\b\b\b 29% 14601 - Dataset/Healthcare/Record/record_healthcare_7000034_2449.wav\b\b\b\b\b\b\b\b\b\b\b\b\b\b\b\b\b\b\b\b\b\b\b\b\b\b\b\b\b\b\b\b\b\b\b\b\b\b\b\b\b\b\b\b\b\b\b\b\b\b\b\b\b\b\b\b\b\b\b\b\b\b\b\b\b\b\b\b\b\b\b\b\b                                                                         \b\b\b\b\b\b\b\b\b\b\b\b\b\b\b\b\b\b\b\b\b\b\b\b\b\b\b\b\b\b\b\b\b\b\b\b\b\b\b\b\b\b\b\b\b\b\b\b\b\b\b\b\b\b\b\b\b\b\b\b\b\b\b\b\b\b\b\b\b\b\b\b\b 29% 14620 - Dataset/Healthcare/Record/record_healthcare_7000034_358.wav\b\b\b\b\b\b\b\b\b\b\b\b\b\b\b\b\b\b\b\b\b\b\b\b\b\b\b\b\b\b\b\b\b\b\b\b\b\b\b\b\b\b\b\b\b\b\b\b\b\b\b\b\b\b\b\b\b\b\b\b\b\b\b\b\b\b\b\b\b\b\b\b                                                                        \b\b\b\b\b\b\b\b\b\b\b\b\b\b\b\b\b\b\b\b\b\b\b\b\b\b\b\b\b\b\b\b\b\b\b\b\b\b\b\b\b\b\b\b\b\b\b\b\b\b\b\b\b\b\b\b\b\b\b\b\b\b\b\b\b\b\b\b\b\b\b\b 29% 14640 - Dataset/Healthcare/Record/record_healthcare_7000034_500.wav\b\b\b\b\b\b\b\b\b\b\b\b\b\b\b\b\b\b\b\b\b\b\b\b\b\b\b\b\b\b\b\b\b\b\b\b\b\b\b\b\b\b\b\b\b\b\b\b\b\b\b\b\b\b\b\b\b\b\b\b\b\b\b\b\b\b\b\b\b\b\b\b                                                                        \b\b\b\b\b\b\b\b\b\b\b\b\b\b\b\b\b\b\b\b\b\b\b\b\b\b\b\b\b\b\b\b\b\b\b\b\b\b\b\b\b\b\b\b\b\b\b\b\b\b\b\b\b\b\b\b\b\b\b\b\b\b\b\b\b\b\b\b\b\b\b\b 29% 14659 - Dataset/Healthcare/Record/record_healthcare_7000034_643.wav\b\b\b\b\b\b\b\b\b\b\b\b\b\b\b\b\b\b\b\b\b\b\b\b\b\b\b\b\b\b\b\b\b\b\b\b\b\b\b\b\b\b\b\b\b\b\b\b\b\b\b\b\b\b\b\b\b\b\b\b\b\b\b\b\b\b\b\b\b\b\b\b                                                                        \b\b\b\b\b\b\b\b\b\b\b\b\b\b\b\b\b\b\b\b\b\b\b\b\b\b\b\b\b\b\b\b\b\b\b\b\b\b\b\b\b\b\b\b\b\b\b\b\b\b\b\b\b\b\b\b\b\b\b\b\b\b\b\b\b\b\b\b\b\b\b\b 30% 14677 - Dataset/Healthcare/Record/record_healthcare_7000034_775.wav\b\b\b\b\b\b\b\b\b\b\b\b\b\b\b\b\b\b\b\b\b\b\b\b\b\b\b\b\b\b\b\b\b\b\b\b\b\b\b\b\b\b\b\b\b\b\b\b\b\b\b\b\b\b\b\b\b\b\b\b\b\b\b\b\b\b\b\b\b\b\b\b                                                                        \b\b\b\b\b\b\b\b\b\b\b\b\b\b\b\b\b\b\b\b\b\b\b\b\b\b\b\b\b\b\b\b\b\b\b\b\b\b\b\b\b\b\b\b\b\b\b\b\b\b\b\b\b\b\b\b\b\b\b\b\b\b\b\b\b\b\b\b\b\b\b\b 30% 14698 - Dataset/Healthcare/Record/record_healthcare_7000034_972.wav\b\b\b\b\b\b\b\b\b\b\b\b\b\b\b\b\b\b\b\b\b\b\b\b\b\b\b\b\b\b\b\b\b\b\b\b\b\b\b\b\b\b\b\b\b\b\b\b\b\b\b\b\b\b\b\b\b\b\b\b\b\b\b\b\b\b\b\b\b\b\b\b                                                                        \b\b\b\b\b\b\b\b\b\b\b\b\b\b\b\b\b\b\b\b\b\b\b\b\b\b\b\b\b\b\b\b\b\b\b\b\b\b\b\b\b\b\b\b\b\b\b\b\b\b\b\b\b\b\b\b\b\b\b\b\b\b\b\b\b\b\b\b\b\b\b\b 30% 14719 - Dataset/Healthcare/Record/record_healthcare_7000035_1086.wav\b\b\b\b\b\b\b\b\b\b\b\b\b\b\b\b\b\b\b\b\b\b\b\b\b\b\b\b\b\b\b\b\b\b\b\b\b\b\b\b\b\b\b\b\b\b\b\b\b\b\b\b\b\b\b\b\b\b\b\b\b\b\b\b\b\b\b\b\b\b\b\b\b                                                                         \b\b\b\b\b\b\b\b\b\b\b\b\b\b\b\b\b\b\b\b\b\b\b\b\b\b\b\b\b\b\b\b\b\b\b\b\b\b\b\b\b\b\b\b\b\b\b\b\b\b\b\b\b\b\b\b\b\b\b\b\b\b\b\b\b\b\b\b\b\b\b\b\b 30% 14738 - Dataset/Healthcare/Record/record_healthcare_7000035_120.wav\b\b\b\b\b\b\b\b\b\b\b\b\b\b\b\b\b\b\b\b\b\b\b\b\b\b\b\b\b\b\b\b\b\b\b\b\b\b\b\b\b\b\b\b\b\b\b\b\b\b\b\b\b\b\b\b\b\b\b\b\b\b\b\b\b\b\b\b\b\b\b\b                                                                        \b\b\b\b\b\b\b\b\b\b\b\b\b\b\b\b\b\b\b\b\b\b\b\b\b\b\b\b\b\b\b\b\b\b\b\b\b\b\b\b\b\b\b\b\b\b\b\b\b\b\b\b\b\b\b\b\b\b\b\b\b\b\b\b\b\b\b\b\b\b\b\b 30% 14758 - Dataset/Healthcare/Record/record_healthcare_7000035_1326.wav\b\b\b\b\b\b\b\b\b\b\b\b\b\b\b\b\b\b\b\b\b\b\b\b\b\b\b\b\b\b\b\b\b\b\b\b\b\b\b\b\b\b\b\b\b\b\b\b\b\b\b\b\b\b\b\b\b\b\b\b\b\b\b\b\b\b\b\b\b\b\b\b\b                                                                         \b\b\b\b\b\b\b\b\b\b\b\b\b\b\b\b\b\b\b\b\b\b\b\b\b\b\b\b\b\b\b\b\b\b\b\b\b\b\b\b\b\b\b\b\b\b\b\b\b\b\b\b\b\b\b\b\b\b\b\b\b\b\b\b\b\b\b\b\b\b\b\b\b 30% 14777 - Dataset/Healthcare/Record/record_healthcare_7000035_1475.wav\b\b\b\b\b\b\b\b\b\b\b\b\b\b\b\b\b\b\b\b\b\b\b\b\b\b\b\b\b\b\b\b\b\b\b\b\b\b\b\b\b\b\b\b\b\b\b\b\b\b\b\b\b\b\b\b\b\b\b\b\b\b\b\b\b\b\b\b\b\b\b\b\b                                                                         \b\b\b\b\b\b\b\b\b\b\b\b\b\b\b\b\b\b\b\b\b\b\b\b\b\b\b\b\b\b\b\b\b\b\b\b\b\b\b\b\b\b\b\b\b\b\b\b\b\b\b\b\b\b\b\b\b\b\b\b\b\b\b\b\b\b\b\b\b\b\b\b\b 30% 14796 - Dataset/Healthcare/Record/record_healthcare_7000035_1662.wav\b\b\b\b\b\b\b\b\b\b\b\b\b\b\b\b\b\b\b\b\b\b\b\b\b\b\b\b\b\b\b\b\b\b\b\b\b\b\b\b\b\b\b\b\b\b\b\b\b\b\b\b\b\b\b\b\b\b\b\b\b\b\b\b\b\b\b\b\b\b\b\b\b                                                                         \b\b\b\b\b\b\b\b\b\b\b\b\b\b\b\b\b\b\b\b\b\b\b\b\b\b\b\b\b\b\b\b\b\b\b\b\b\b\b\b\b\b\b\b\b\b\b\b\b\b\b\b\b\b\b\b\b\b\b\b\b\b\b\b\b\b\b\b\b\b\b\b\b 30% 14815 - Dataset/Healthcare/Record/record_healthcare_7000035_1818.wav\b\b\b\b\b\b\b\b\b\b\b\b\b\b\b\b\b\b\b\b\b\b\b\b\b\b\b\b\b\b\b\b\b\b\b\b\b\b\b\b\b\b\b\b\b\b\b\b\b\b\b\b\b\b\b\b\b\b\b\b\b\b\b\b\b\b\b\b\b\b\b\b\b                                                                         \b\b\b\b\b\b\b\b\b\b\b\b\b\b\b\b\b\b\b\b\b\b\b\b\b\b\b\b\b\b\b\b\b\b\b\b\b\b\b\b\b\b\b\b\b\b\b\b\b\b\b\b\b\b\b\b\b\b\b\b\b\b\b\b\b\b\b\b\b\b\b\b\b 31% 14835 - Dataset/Healthcare/Record/record_healthcare_7000035_1939.wav\b\b\b\b\b\b\b\b\b\b\b\b\b\b\b\b\b\b\b\b\b\b\b\b\b\b\b\b\b\b\b\b\b\b\b\b\b\b\b\b\b\b\b\b\b\b\b\b\b\b\b\b\b\b\b\b\b\b\b\b\b\b\b\b\b\b\b\b\b\b\b\b\b                                                                         \b\b\b\b\b\b\b\b\b\b\b\b\b\b\b\b\b\b\b\b\b\b\b\b\b\b\b\b\b\b\b\b\b\b\b\b\b\b\b\b\b\b\b\b\b\b\b\b\b\b\b\b\b\b\b\b\b\b\b\b\b\b\b\b\b\b\b\b\b\b\b\b\b 31% 14854 - Dataset/Healthcare/Record/record_healthcare_7000035_2066.wav\b\b\b\b\b\b\b\b\b\b\b\b\b\b\b\b\b\b\b\b\b\b\b\b\b\b\b\b\b\b\b\b\b\b\b\b\b\b\b\b\b\b\b\b\b\b\b\b\b\b\b\b\b\b\b\b\b\b\b\b\b\b\b\b\b\b\b\b\b\b\b\b\b                                                                         \b\b\b\b\b\b\b\b\b\b\b\b\b\b\b\b\b\b\b\b\b\b\b\b\b\b\b\b\b\b\b\b\b\b\b\b\b\b\b\b\b\b\b\b\b\b\b\b\b\b\b\b\b\b\b\b\b\b\b\b\b\b\b\b\b\b\b\b\b\b\b\b\b 31% 14874 - Dataset/Healthcare/Record/record_healthcare_7000035_2250.wav\b\b\b\b\b\b\b\b\b\b\b\b\b\b\b\b\b\b\b\b\b\b\b\b\b\b\b\b\b\b\b\b\b\b\b\b\b\b\b\b\b\b\b\b\b\b\b\b\b\b\b\b\b\b\b\b\b\b\b\b\b\b\b\b\b\b\b\b\b\b\b\b\b                                                                         \b\b\b\b\b\b\b\b\b\b\b\b\b\b\b\b\b\b\b\b\b\b\b\b\b\b\b\b\b\b\b\b\b\b\b\b\b\b\b\b\b\b\b\b\b\b\b\b\b\b\b\b\b\b\b\b\b\b\b\b\b\b\b\b\b\b\b\b\b\b\b\b\b 31% 14892 - Dataset/Healthcare/Record/record_healthcare_7000035_2377.wav\b\b\b\b\b\b\b\b\b\b\b\b\b\b\b\b\b\b\b\b\b\b\b\b\b\b\b\b\b\b\b\b\b\b\b\b\b\b\b\b\b\b\b\b\b\b\b\b\b\b\b\b\b\b\b\b\b\b\b\b\b\b\b\b\b\b\b\b\b\b\b\b\b                                                                         \b\b\b\b\b\b\b\b\b\b\b\b\b\b\b\b\b\b\b\b\b\b\b\b\b\b\b\b\b\b\b\b\b\b\b\b\b\b\b\b\b\b\b\b\b\b\b\b\b\b\b\b\b\b\b\b\b\b\b\b\b\b\b\b\b\b\b\b\b\b\b\b\b 31% 14910 - Dataset/Healthcare/Record/record_healthcare_7000035_258.wav\b\b\b\b\b\b\b\b\b\b\b\b\b\b\b\b\b\b\b\b\b\b\b\b\b\b\b\b\b\b\b\b\b\b\b\b\b\b\b\b\b\b\b\b\b\b\b\b\b\b\b\b\b\b\b\b\b\b\b\b\b\b\b\b\b\b\b\b\b\b\b\b                                                                        \b\b\b\b\b\b\b\b\b\b\b\b\b\b\b\b\b\b\b\b\b\b\b\b\b\b\b\b\b\b\b\b\b\b\b\b\b\b\b\b\b\b\b\b\b\b\b\b\b\b\b\b\b\b\b\b\b\b\b\b\b\b\b\b\b\b\b\b\b\b\b\b 31% 14929 - Dataset/Healthcare/Record/record_healthcare_7000035_36.wav\b\b\b\b\b\b\b\b\b\b\b\b\b\b\b\b\b\b\b\b\b\b\b\b\b\b\b\b\b\b\b\b\b\b\b\b\b\b\b\b\b\b\b\b\b\b\b\b\b\b\b\b\b\b\b\b\b\b\b\b\b\b\b\b\b\b\b\b\b\b\b                                                                       \b\b\b\b\b\b\b\b\b\b\b\b\b\b\b\b\b\b\b\b\b\b\b\b\b\b\b\b\b\b\b\b\b\b\b\b\b\b\b\b\b\b\b\b\b\b\b\b\b\b\b\b\b\b\b\b\b\b\b\b\b\b\b\b\b\b\b\b\b\b\b 31% 14949 - Dataset/Healthcare/Record/record_healthcare_7000035_551.wav\b\b\b\b\b\b\b\b\b\b\b\b\b\b\b\b\b\b\b\b\b\b\b\b\b\b\b\b\b\b\b\b\b\b\b\b\b\b\b\b\b\b\b\b\b\b\b\b\b\b\b\b\b\b\b\b\b\b\b\b\b\b\b\b\b\b\b\b\b\b\b\b                                                                        \b\b\b\b\b\b\b\b\b\b\b\b\b\b\b\b\b\b\b\b\b\b\b\b\b\b\b\b\b\b\b\b\b\b\b\b\b\b\b\b\b\b\b\b\b\b\b\b\b\b\b\b\b\b\b\b\b\b\b\b\b\b\b\b\b\b\b\b\b\b\b\b 31% 14967 - Dataset/Healthcare/Record/record_healthcare_7000035_713.wav\b\b\b\b\b\b\b\b\b\b\b\b\b\b\b\b\b\b\b\b\b\b\b\b\b\b\b\b\b\b\b\b\b\b\b\b\b\b\b\b\b\b\b\b\b\b\b\b\b\b\b\b\b\b\b\b\b\b\b\b\b\b\b\b\b\b\b\b\b\b\b\b                                                                        \b\b\b\b\b\b\b\b\b\b\b\b\b\b\b\b\b\b\b\b\b\b\b\b\b\b\b\b\b\b\b\b\b\b\b\b\b\b\b\b\b\b\b\b\b\b\b\b\b\b\b\b\b\b\b\b\b\b\b\b\b\b\b\b\b\b\b\b\b\b\b\b 31% 14985 - Dataset/Healthcare/Record/record_healthcare_7000035_869.wav\b\b\b\b\b\b\b\b\b\b\b\b\b\b\b\b\b\b\b\b\b\b\b\b\b\b\b\b\b\b\b\b\b\b\b\b\b\b\b\b\b\b\b\b\b\b\b\b\b\b\b\b\b\b\b\b\b\b\b\b\b\b\b\b\b\b\b\b\b\b\b\b                                                                        \b\b\b\b\b\b\b\b\b\b\b\b\b\b\b\b\b\b\b\b\b\b\b\b\b\b\b\b\b\b\b\b\b\b\b\b\b\b\b\b\b\b\b\b\b\b\b\b\b\b\b\b\b\b\b\b\b\b\b\b\b\b\b\b\b\b\b\b\b\b\b\b 32% 15003 - Dataset/Healthcare/Record/record_healthcare_7000035_974.wav\b\b\b\b\b\b\b\b\b\b\b\b\b\b\b\b\b\b\b\b\b\b\b\b\b\b\b\b\b\b\b\b\b\b\b\b\b\b\b\b\b\b\b\b\b\b\b\b\b\b\b\b\b\b\b\b\b\b\b\b\b\b\b\b\b\b\b\b\b\b\b\b                                                                        \b\b\b\b\b\b\b\b\b\b\b\b\b\b\b\b\b\b\b\b\b\b\b\b\b\b\b\b\b\b\b\b\b\b\b\b\b\b\b\b\b\b\b\b\b\b\b\b\b\b\b\b\b\b\b\b\b\b\b\b\b\b\b\b\b\b\b\b\b\b\b\b 32% 15023 - Dataset/Healthcare/Record/record_healthcare_7000036_1130.wav\b\b\b\b\b\b\b\b\b\b\b\b\b\b\b\b\b\b\b\b\b\b\b\b\b\b\b\b\b\b\b\b\b\b\b\b\b\b\b\b\b\b\b\b\b\b\b\b\b\b\b\b\b\b\b\b\b\b\b\b\b\b\b\b\b\b\b\b\b\b\b\b\b                                                                         \b\b\b\b\b\b\b\b\b\b\b\b\b\b\b\b\b\b\b\b\b\b\b\b\b\b\b\b\b\b\b\b\b\b\b\b\b\b\b\b\b\b\b\b\b\b\b\b\b\b\b\b\b\b\b\b\b\b\b\b\b\b\b\b\b\b\b\b\b\b\b\b\b 32% 15045 - Dataset/Healthcare/Record/record_healthcare_7000036_1309.wav\b\b\b\b\b\b\b\b\b\b\b\b\b\b\b\b\b\b\b\b\b\b\b\b\b\b\b\b\b\b\b\b\b\b\b\b\b\b\b\b\b\b\b\b\b\b\b\b\b\b\b\b\b\b\b\b\b\b\b\b\b\b\b\b\b\b\b\b\b\b\b\b\b                                                                         \b\b\b\b\b\b\b\b\b\b\b\b\b\b\b\b\b\b\b\b\b\b\b\b\b\b\b\b\b\b\b\b\b\b\b\b\b\b\b\b\b\b\b\b\b\b\b\b\b\b\b\b\b\b\b\b\b\b\b\b\b\b\b\b\b\b\b\b\b\b\b\b\b 32% 15066 - Dataset/Healthcare/Record/record_healthcare_7000036_1480.wav\b\b\b\b\b\b\b\b\b\b\b\b\b\b\b\b\b\b\b\b\b\b\b\b\b\b\b\b\b\b\b\b\b\b\b\b\b\b\b\b\b\b\b\b\b\b\b\b\b\b\b\b\b\b\b\b\b\b\b\b\b\b\b\b\b\b\b\b\b\b\b\b\b                                                                         \b\b\b\b\b\b\b\b\b\b\b\b\b\b\b\b\b\b\b\b\b\b\b\b\b\b\b\b\b\b\b\b\b\b\b\b\b\b\b\b\b\b\b\b\b\b\b\b\b\b\b\b\b\b\b\b\b\b\b\b\b\b\b\b\b\b\b\b\b\b\b\b\b 32% 15086 - Dataset/Healthcare/Record/record_healthcare_7000036_1611.wav\b\b\b\b\b\b\b\b\b\b\b\b\b\b\b\b\b\b\b\b\b\b\b\b\b\b\b\b\b\b\b\b\b\b\b\b\b\b\b\b\b\b\b\b\b\b\b\b\b\b\b\b\b\b\b\b\b\b\b\b\b\b\b\b\b\b\b\b\b\b\b\b\b                                                                         \b\b\b\b\b\b\b\b\b\b\b\b\b\b\b\b\b\b\b\b\b\b\b\b\b\b\b\b\b\b\b\b\b\b\b\b\b\b\b\b\b\b\b\b\b\b\b\b\b\b\b\b\b\b\b\b\b\b\b\b\b\b\b\b\b\b\b\b\b\b\b\b\b 32% 15107 - Dataset/Healthcare/Record/record_healthcare_7000036_1728.wav\b\b\b\b\b\b\b\b\b\b\b\b\b\b\b\b\b\b\b\b\b\b\b\b\b\b\b\b\b\b\b\b\b\b\b\b\b\b\b\b\b\b\b\b\b\b\b\b\b\b\b\b\b\b\b\b\b\b\b\b\b\b\b\b\b\b\b\b\b\b\b\b\b                                                                         \b\b\b\b\b\b\b\b\b\b\b\b\b\b\b\b\b\b\b\b\b\b\b\b\b\b\b\b\b\b\b\b\b\b\b\b\b\b\b\b\b\b\b\b\b\b\b\b\b\b\b\b\b\b\b\b\b\b\b\b\b\b\b\b\b\b\b\b\b\b\b\b\b 32% 15127 - Dataset/Healthcare/Record/record_healthcare_7000036_1900.wav\b\b\b\b\b\b\b\b\b\b\b\b\b\b\b\b\b\b\b\b\b\b\b\b\b\b\b\b\b\b\b\b\b\b\b\b\b\b\b\b\b\b\b\b\b\b\b\b\b\b\b\b\b\b\b\b\b\b\b\b\b\b\b\b\b\b\b\b\b\b\b\b\b                                                                         \b\b\b\b\b\b\b\b\b\b\b\b\b\b\b\b\b\b\b\b\b\b\b\b\b\b\b\b\b\b\b\b\b\b\b\b\b\b\b\b\b\b\b\b\b\b\b\b\b\b\b\b\b\b\b\b\b\b\b\b\b\b\b\b\b\b\b\b\b\b\b\b\b 32% 15148 - Dataset/Healthcare/Record/record_healthcare_7000036_2020.wav\b\b\b\b\b\b\b\b\b\b\b\b\b\b\b\b\b\b\b\b\b\b\b\b\b\b\b\b\b\b\b\b\b\b\b\b\b\b\b\b\b\b\b\b\b\b\b\b\b\b\b\b\b\b\b\b\b\b\b\b\b\b\b\b\b\b\b\b\b\b\b\b\b                                                                         \b\b\b\b\b\b\b\b\b\b\b\b\b\b\b\b\b\b\b\b\b\b\b\b\b\b\b\b\b\b\b\b\b\b\b\b\b\b\b\b\b\b\b\b\b\b\b\b\b\b\b\b\b\b\b\b\b\b\b\b\b\b\b\b\b\b\b\b\b\b\b\b\b 32% 15168 - Dataset/Healthcare/Record/record_healthcare_7000036_2147.wav\b\b\b\b\b\b\b\b\b\b\b\b\b\b\b\b\b\b\b\b\b\b\b\b\b\b\b\b\b\b\b\b\b\b\b\b\b\b\b\b\b\b\b\b\b\b\b\b\b\b\b\b\b\b\b\b\b\b\b\b\b\b\b\b\b\b\b\b\b\b\b\b\b                                                                         \b\b\b\b\b\b\b\b\b\b\b\b\b\b\b\b\b\b\b\b\b\b\b\b\b\b\b\b\b\b\b\b\b\b\b\b\b\b\b\b\b\b\b\b\b\b\b\b\b\b\b\b\b\b\b\b\b\b\b\b\b\b\b\b\b\b\b\b\b\b\b\b\b 33% 15189 - Dataset/Healthcare/Record/record_healthcare_7000036_2306.wav\b\b\b\b\b\b\b\b\b\b\b\b\b\b\b\b\b\b\b\b\b\b\b\b\b\b\b\b\b\b\b\b\b\b\b\b\b\b\b\b\b\b\b\b\b\b\b\b\b\b\b\b\b\b\b\b\b\b\b\b\b\b\b\b\b\b\b\b\b\b\b\b\b                                                                         \b\b\b\b\b\b\b\b\b\b\b\b\b\b\b\b\b\b\b\b\b\b\b\b\b\b\b\b\b\b\b\b\b\b\b\b\b\b\b\b\b\b\b\b\b\b\b\b\b\b\b\b\b\b\b\b\b\b\b\b\b\b\b\b\b\b\b\b\b\b\b\b\b 33% 15209 - Dataset/Healthcare/Record/record_healthcare_7000036_2437.wav\b\b\b\b\b\b\b\b\b\b\b\b\b\b\b\b\b\b\b\b\b\b\b\b\b\b\b\b\b\b\b\b\b\b\b\b\b\b\b\b\b\b\b\b\b\b\b\b\b\b\b\b\b\b\b\b\b\b\b\b\b\b\b\b\b\b\b\b\b\b\b\b\b                                                                         \b\b\b\b\b\b\b\b\b\b\b\b\b\b\b\b\b\b\b\b\b\b\b\b\b\b\b\b\b\b\b\b\b\b\b\b\b\b\b\b\b\b\b\b\b\b\b\b\b\b\b\b\b\b\b\b\b\b\b\b\b\b\b\b\b\b\b\b\b\b\b\b\b 33% 15228 - Dataset/Healthcare/Record/record_healthcare_7000036_383.wav\b\b\b\b\b\b\b\b\b\b\b\b\b\b\b\b\b\b\b\b\b\b\b\b\b\b\b\b\b\b\b\b\b\b\b\b\b\b\b\b\b\b\b\b\b\b\b\b\b\b\b\b\b\b\b\b\b\b\b\b\b\b\b\b\b\b\b\b\b\b\b\b                                                                        \b\b\b\b\b\b\b\b\b\b\b\b\b\b\b\b\b\b\b\b\b\b\b\b\b\b\b\b\b\b\b\b\b\b\b\b\b\b\b\b\b\b\b\b\b\b\b\b\b\b\b\b\b\b\b\b\b\b\b\b\b\b\b\b\b\b\b\b\b\b\b\b 33% 15248 - Dataset/Healthcare/Record/record_healthcare_7000036_517.wav\b\b\b\b\b\b\b\b\b\b\b\b\b\b\b\b\b\b\b\b\b\b\b\b\b\b\b\b\b\b\b\b\b\b\b\b\b\b\b\b\b\b\b\b\b\b\b\b\b\b\b\b\b\b\b\b\b\b\b\b\b\b\b\b\b\b\b\b\b\b\b\b                                                                        \b\b\b\b\b\b\b\b\b\b\b\b\b\b\b\b\b\b\b\b\b\b\b\b\b\b\b\b\b\b\b\b\b\b\b\b\b\b\b\b\b\b\b\b\b\b\b\b\b\b\b\b\b\b\b\b\b\b\b\b\b\b\b\b\b\b\b\b\b\b\b\b 33% 15268\b\b\b\b\b\b\b\b\b\b          \b\b\b\b\b\b\b\b\b\b 33% 15287 - Dataset/Healthcare/Record/record_healthcare_7000036_852.wav\b\b\b\b\b\b\b\b\b\b\b\b\b\b\b\b\b\b\b\b\b\b\b\b\b\b\b\b\b\b\b\b\b\b\b\b\b\b\b\b\b\b\b\b\b\b\b\b\b\b\b\b\b\b\b\b\b\b\b\b\b\b\b\b\b\b\b\b\b\b\b\b                                                                        \b\b\b\b\b\b\b\b\b\b\b\b\b\b\b\b\b\b\b\b\b\b\b\b\b\b\b\b\b\b\b\b\b\b\b\b\b\b\b\b\b\b\b\b\b\b\b\b\b\b\b\b\b\b\b\b\b\b\b\b\b\b\b\b\b\b\b\b\b\b\b\b 33% 15307 - Dataset/Healthcare/Record/record_healthcare_7000037_1007.wav\b\b\b\b\b\b\b\b\b\b\b\b\b\b\b\b\b\b\b\b\b\b\b\b\b\b\b\b\b\b\b\b\b\b\b\b\b\b\b\b\b\b\b\b\b\b\b\b\b\b\b\b\b\b\b\b\b\b\b\b\b\b\b\b\b\b\b\b\b\b\b\b\b                                                                         \b\b\b\b\b\b\b\b\b\b\b\b\b\b\b\b\b\b\b\b\b\b\b\b\b\b\b\b\b\b\b\b\b\b\b\b\b\b\b\b\b\b\b\b\b\b\b\b\b\b\b\b\b\b\b\b\b\b\b\b\b\b\b\b\b\b\b\b\b\b\b\b\b 33% 15324 - Dataset/Healthcare/Record/record_healthcare_7000037_1114.wav\b\b\b\b\b\b\b\b\b\b\b\b\b\b\b\b\b\b\b\b\b\b\b\b\b\b\b\b\b\b\b\b\b\b\b\b\b\b\b\b\b\b\b\b\b\b\b\b\b\b\b\b\b\b\b\b\b\b\b\b\b\b\b\b\b\b\b\b\b\b\b\b\b                                                                         \b\b\b\b\b\b\b\b\b\b\b\b\b\b\b\b\b\b\b\b\b\b\b\b\b\b\b\b\b\b\b\b\b\b\b\b\b\b\b\b\b\b\b\b\b\b\b\b\b\b\b\b\b\b\b\b\b\b\b\b\b\b\b\b\b\b\b\b\b\b\b\b\b 33% 15341 - Dataset/Healthcare/Record/record_healthcare_7000037_1298.wav\b\b\b\b\b\b\b\b\b\b\b\b\b\b\b\b\b\b\b\b\b\b\b\b\b\b\b\b\b\b\b\b\b\b\b\b\b\b\b\b\b\b\b\b\b\b\b\b\b\b\b\b\b\b\b\b\b\b\b\b\b\b\b\b\b\b\b\b\b\b\b\b\b                                                                         \b\b\b\b\b\b\b\b\b\b\b\b\b\b\b\b\b\b\b\b\b\b\b\b\b\b\b\b\b\b\b\b\b\b\b\b\b\b\b\b\b\b\b\b\b\b\b\b\b\b\b\b\b\b\b\b\b\b\b\b\b\b\b\b\b\b\b\b\b\b\b\b\b 33% 15355 - Dataset/Healthcare/Record/record_healthcare_7000037_1367.wav\b\b\b\b\b\b\b\b\b\b\b\b\b\b\b\b\b\b\b\b\b\b\b\b\b\b\b\b\b\b\b\b\b\b\b\b\b\b\b\b\b\b\b\b\b\b\b\b\b\b\b\b\b\b\b\b\b\b\b\b\b\b\b\b\b\b\b\b\b\b\b\b\b                                                                         \b\b\b\b\b\b\b\b\b\b\b\b\b\b\b\b\b\b\b\b\b\b\b\b\b\b\b\b\b\b\b\b\b\b\b\b\b\b\b\b\b\b\b\b\b\b\b\b\b\b\b\b\b\b\b\b\b\b\b\b\b\b\b\b\b\b\b\b\b\b\b\b\b 34% 15371 - Dataset/Healthcare/Record/record_healthcare_7000037_1497.wav\b\b\b\b\b\b\b\b\b\b\b\b\b\b\b\b\b\b\b\b\b\b\b\b\b\b\b\b\b\b\b\b\b\b\b\b\b\b\b\b\b\b\b\b\b\b\b\b\b\b\b\b\b\b\b\b\b\b\b\b\b\b\b\b\b\b\b\b\b\b\b\b\b                                                                         \b\b\b\b\b\b\b\b\b\b\b\b\b\b\b\b\b\b\b\b\b\b\b\b\b\b\b\b\b\b\b\b\b\b\b\b\b\b\b\b\b\b\b\b\b\b\b\b\b\b\b\b\b\b\b\b\b\b\b\b\b\b\b\b\b\b\b\b\b\b\b\b\b 34% 15387 - Dataset/Healthcare/Record/record_healthcare_7000037_1570.wav\b\b\b\b\b\b\b\b\b\b\b\b\b\b\b\b\b\b\b\b\b\b\b\b\b\b\b\b\b\b\b\b\b\b\b\b\b\b\b\b\b\b\b\b\b\b\b\b\b\b\b\b\b\b\b\b\b\b\b\b\b\b\b\b\b\b\b\b\b\b\b\b\b                                                                         \b\b\b\b\b\b\b\b\b\b\b\b\b\b\b\b\b\b\b\b\b\b\b\b\b\b\b\b\b\b\b\b\b\b\b\b\b\b\b\b\b\b\b\b\b\b\b\b\b\b\b\b\b\b\b\b\b\b\b\b\b\b\b\b\b\b\b\b\b\b\b\b\b 34% 15403 - Dataset/Healthcare/Record/record_healthcare_7000037_1670.wav\b\b\b\b\b\b\b\b\b\b\b\b\b\b\b\b\b\b\b\b\b\b\b\b\b\b\b\b\b\b\b\b\b\b\b\b\b\b\b\b\b\b\b\b\b\b\b\b\b\b\b\b\b\b\b\b\b\b\b\b\b\b\b\b\b\b\b\b\b\b\b\b\b                                                                         \b\b\b\b\b\b\b\b\b\b\b\b\b\b\b\b\b\b\b\b\b\b\b\b\b\b\b\b\b\b\b\b\b\b\b\b\b\b\b\b\b\b\b\b\b\b\b\b\b\b\b\b\b\b\b\b\b\b\b\b\b\b\b\b\b\b\b\b\b\b\b\b\b 34% 15420 - Dataset/Healthcare/Record/record_healthcare_7000037_1837.wav\b\b\b\b\b\b\b\b\b\b\b\b\b\b\b\b\b\b\b\b\b\b\b\b\b\b\b\b\b\b\b\b\b\b\b\b\b\b\b\b\b\b\b\b\b\b\b\b\b\b\b\b\b\b\b\b\b\b\b\b\b\b\b\b\b\b\b\b\b\b\b\b\b                                                                         \b\b\b\b\b\b\b\b\b\b\b\b\b\b\b\b\b\b\b\b\b\b\b\b\b\b\b\b\b\b\b\b\b\b\b\b\b\b\b\b\b\b\b\b\b\b\b\b\b\b\b\b\b\b\b\b\b\b\b\b\b\b\b\b\b\b\b\b\b\b\b\b\b 34% 15436 - Dataset/Healthcare/Record/record_healthcare_7000037_1993.wav\b\b\b\b\b\b\b\b\b\b\b\b\b\b\b\b\b\b\b\b\b\b\b\b\b\b\b\b\b\b\b\b\b\b\b\b\b\b\b\b\b\b\b\b\b\b\b\b\b\b\b\b\b\b\b\b\b\b\b\b\b\b\b\b\b\b\b\b\b\b\b\b\b                                                                         \b\b\b\b\b\b\b\b\b\b\b\b\b\b\b\b\b\b\b\b\b\b\b\b\b\b\b\b\b\b\b\b\b\b\b\b\b\b\b\b\b\b\b\b\b\b\b\b\b\b\b\b\b\b\b\b\b\b\b\b\b\b\b\b\b\b\b\b\b\b\b\b\b 34% 15452 - Dataset/Healthcare/Record/record_healthcare_7000037_2142.wav\b\b\b\b\b\b\b\b\b\b\b\b\b\b\b\b\b\b\b\b\b\b\b\b\b\b\b\b\b\b\b\b\b\b\b\b\b\b\b\b\b\b\b\b\b\b\b\b\b\b\b\b\b\b\b\b\b\b\b\b\b\b\b\b\b\b\b\b\b\b\b\b\b                                                                         \b\b\b\b\b\b\b\b\b\b\b\b\b\b\b\b\b\b\b\b\b\b\b\b\b\b\b\b\b\b\b\b\b\b\b\b\b\b\b\b\b\b\b\b\b\b\b\b\b\b\b\b\b\b\b\b\b\b\b\b\b\b\b\b\b\b\b\b\b\b\b\b\b 34% 15470 - Dataset/Healthcare/Record/record_healthcare_7000037_228.wav\b\b\b\b\b\b\b\b\b\b\b\b\b\b\b\b\b\b\b\b\b\b\b\b\b\b\b\b\b\b\b\b\b\b\b\b\b\b\b\b\b\b\b\b\b\b\b\b\b\b\b\b\b\b\b\b\b\b\b\b\b\b\b\b\b\b\b\b\b\b\b\b                                                                        \b\b\b\b\b\b\b\b\b\b\b\b\b\b\b\b\b\b\b\b\b\b\b\b\b\b\b\b\b\b\b\b\b\b\b\b\b\b\b\b\b\b\b\b\b\b\b\b\b\b\b\b\b\b\b\b\b\b\b\b\b\b\b\b\b\b\b\b\b\b\b\b 34% 15487 - Dataset/Healthcare/Record/record_healthcare_7000037_2415.wav\b\b\b\b\b\b\b\b\b\b\b\b\b\b\b\b\b\b\b\b\b\b\b\b\b\b\b\b\b\b\b\b\b\b\b\b\b\b\b\b\b\b\b\b\b\b\b\b\b\b\b\b\b\b\b\b\b\b\b\b\b\b\b\b\b\b\b\b\b\b\b\b\b                                                                         \b\b\b\b\b\b\b\b\b\b\b\b\b\b\b\b\b\b\b\b\b\b\b\b\b\b\b\b\b\b\b\b\b\b\b\b\b\b\b\b\b\b\b\b\b\b\b\b\b\b\b\b\b\b\b\b\b\b\b\b\b\b\b\b\b\b\b\b\b\b\b\b\b 34% 15503 - Dataset/Healthcare/Record/record_healthcare_7000037_2499.wav\b\b\b\b\b\b\b\b\b\b\b\b\b\b\b\b\b\b\b\b\b\b\b\b\b\b\b\b\b\b\b\b\b\b\b\b\b\b\b\b\b\b\b\b\b\b\b\b\b\b\b\b\b\b\b\b\b\b\b\b\b\b\b\b\b\b\b\b\b\b\b\b\b                                                                         \b\b\b\b\b\b\b\b\b\b\b\b\b\b\b\b\b\b\b\b\b\b\b\b\b\b\b\b\b\b\b\b\b\b\b\b\b\b\b\b\b\b\b\b\b\b\b\b\b\b\b\b\b\b\b\b\b\b\b\b\b\b\b\b\b\b\b\b\b\b\b\b\b 34% 15519 - Dataset/Healthcare/Record/record_healthcare_7000037_339.wav\b\b\b\b\b\b\b\b\b\b\b\b\b\b\b\b\b\b\b\b\b\b\b\b\b\b\b\b\b\b\b\b\b\b\b\b\b\b\b\b\b\b\b\b\b\b\b\b\b\b\b\b\b\b\b\b\b\b\b\b\b\b\b\b\b\b\b\b\b\b\b\b                                                                        \b\b\b\b\b\b\b\b\b\b\b\b\b\b\b\b\b\b\b\b\b\b\b\b\b\b\b\b\b\b\b\b\b\b\b\b\b\b\b\b\b\b\b\b\b\b\b\b\b\b\b\b\b\b\b\b\b\b\b\b\b\b\b\b\b\b\b\b\b\b\b\b 35% 15535 - Dataset/Healthcare/Record/record_healthcare_7000037_458.wav\b\b\b\b\b\b\b\b\b\b\b\b\b\b\b\b\b\b\b\b\b\b\b\b\b\b\b\b\b\b\b\b\b\b\b\b\b\b\b\b\b\b\b\b\b\b\b\b\b\b\b\b\b\b\b\b\b\b\b\b\b\b\b\b\b\b\b\b\b\b\b\b                                                                        \b\b\b\b\b\b\b\b\b\b\b\b\b\b\b\b\b\b\b\b\b\b\b\b\b\b\b\b\b\b\b\b\b\b\b\b\b\b\b\b\b\b\b\b\b\b\b\b\b\b\b\b\b\b\b\b\b\b\b\b\b\b\b\b\b\b\b\b\b\b\b\b 35% 15552 - Dataset/Healthcare/Record/record_healthcare_7000037_604.wav\b\b\b\b\b\b\b\b\b\b\b\b\b\b\b\b\b\b\b\b\b\b\b\b\b\b\b\b\b\b\b\b\b\b\b\b\b\b\b\b\b\b\b\b\b\b\b\b\b\b\b\b\b\b\b\b\b\b\b\b\b\b\b\b\b\b\b\b\b\b\b\b                                                                        \b\b\b\b\b\b\b\b\b\b\b\b\b\b\b\b\b\b\b\b\b\b\b\b\b\b\b\b\b\b\b\b\b\b\b\b\b\b\b\b\b\b\b\b\b\b\b\b\b\b\b\b\b\b\b\b\b\b\b\b\b\b\b\b\b\b\b\b\b\b\b\b 35% 15568 - Dataset/Healthcare/Record/record_healthcare_7000037_749.wav\b\b\b\b\b\b\b\b\b\b\b\b\b\b\b\b\b\b\b\b\b\b\b\b\b\b\b\b\b\b\b\b\b\b\b\b\b\b\b\b\b\b\b\b\b\b\b\b\b\b\b\b\b\b\b\b\b\b\b\b\b\b\b\b\b\b\b\b\b\b\b\b                                                                        \b\b\b\b\b\b\b\b\b\b\b\b\b\b\b\b\b\b\b\b\b\b\b\b\b\b\b\b\b\b\b\b\b\b\b\b\b\b\b\b\b\b\b\b\b\b\b\b\b\b\b\b\b\b\b\b\b\b\b\b\b\b\b\b\b\b\b\b\b\b\b\b 35% 15584 - Dataset/Healthcare/Record/record_healthcare_7000037_83.wav\b\b\b\b\b\b\b\b\b\b\b\b\b\b\b\b\b\b\b\b\b\b\b\b\b\b\b\b\b\b\b\b\b\b\b\b\b\b\b\b\b\b\b\b\b\b\b\b\b\b\b\b\b\b\b\b\b\b\b\b\b\b\b\b\b\b\b\b\b\b\b                                                                       \b\b\b\b\b\b\b\b\b\b\b\b\b\b\b\b\b\b\b\b\b\b\b\b\b\b\b\b\b\b\b\b\b\b\b\b\b\b\b\b\b\b\b\b\b\b\b\b\b\b\b\b\b\b\b\b\b\b\b\b\b\b\b\b\b\b\b\b\b\b\b 35% 15601 - Dataset/Healthcare/Record/record_healthcare_7000037_966.wav\b\b\b\b\b\b\b\b\b\b\b\b\b\b\b\b\b\b\b\b\b\b\b\b\b\b\b\b\b\b\b\b\b\b\b\b\b\b\b\b\b\b\b\b\b\b\b\b\b\b\b\b\b\b\b\b\b\b\b\b\b\b\b\b\b\b\b\b\b\b\b\b                                                                        \b\b\b\b\b\b\b\b\b\b\b\b\b\b\b\b\b\b\b\b\b\b\b\b\b\b\b\b\b\b\b\b\b\b\b\b\b\b\b\b\b\b\b\b\b\b\b\b\b\b\b\b\b\b\b\b\b\b\b\b\b\b\b\b\b\b\b\b\b\b\b\b 35% 15617 - Dataset/Healthcare/Record/record_healthcare_7000038_1088.wav\b\b\b\b\b\b\b\b\b\b\b\b\b\b\b\b\b\b\b\b\b\b\b\b\b\b\b\b\b\b\b\b\b\b\b\b\b\b\b\b\b\b\b\b\b\b\b\b\b\b\b\b\b\b\b\b\b\b\b\b\b\b\b\b\b\b\b\b\b\b\b\b\b                                                                         \b\b\b\b\b\b\b\b\b\b\b\b\b\b\b\b\b\b\b\b\b\b\b\b\b\b\b\b\b\b\b\b\b\b\b\b\b\b\b\b\b\b\b\b\b\b\b\b\b\b\b\b\b\b\b\b\b\b\b\b\b\b\b\b\b\b\b\b\b\b\b\b\b 35% 15633 - Dataset/Healthcare/Record/record_healthcare_7000038_1200.wav\b\b\b\b\b\b\b\b\b\b\b\b\b\b\b\b\b\b\b\b\b\b\b\b\b\b\b\b\b\b\b\b\b\b\b\b\b\b\b\b\b\b\b\b\b\b\b\b\b\b\b\b\b\b\b\b\b\b\b\b\b\b\b\b\b\b\b\b\b\b\b\b\b                                                                         \b\b\b\b\b\b\b\b\b\b\b\b\b\b\b\b\b\b\b\b\b\b\b\b\b\b\b\b\b\b\b\b\b\b\b\b\b\b\b\b\b\b\b\b\b\b\b\b\b\b\b\b\b\b\b\b\b\b\b\b\b\b\b\b\b\b\b\b\b\b\b\b\b 35% 15646 - Dataset/Healthcare/Record/record_healthcare_7000038_1325.wav\b\b\b\b\b\b\b\b\b\b\b\b\b\b\b\b\b\b\b\b\b\b\b\b\b\b\b\b\b\b\b\b\b\b\b\b\b\b\b\b\b\b\b\b\b\b\b\b\b\b\b\b\b\b\b\b\b\b\b\b\b\b\b\b\b\b\b\b\b\b\b\b\b                                                                         \b\b\b\b\b\b\b\b\b\b\b\b\b\b\b\b\b\b\b\b\b\b\b\b\b\b\b\b\b\b\b\b\b\b\b\b\b\b\b\b\b\b\b\b\b\b\b\b\b\b\b\b\b\b\b\b\b\b\b\b\b\b\b\b\b\b\b\b\b\b\b\b\b 35% 15661 - Dataset/Healthcare/Record/record_healthcare_7000038_1438.wav\b\b\b\b\b\b\b\b\b\b\b\b\b\b\b\b\b\b\b\b\b\b\b\b\b\b\b\b\b\b\b\b\b\b\b\b\b\b\b\b\b\b\b\b\b\b\b\b\b\b\b\b\b\b\b\b\b\b\b\b\b\b\b\b\b\b\b\b\b\b\b\b\b                                                                         \b\b\b\b\b\b\b\b\b\b\b\b\b\b\b\b\b\b\b\b\b\b\b\b\b\b\b\b\b\b\b\b\b\b\b\b\b\b\b\b\b\b\b\b\b\b\b\b\b\b\b\b\b\b\b\b\b\b\b\b\b\b\b\b\b\b\b\b\b\b\b\b\b 35% 15675 - Dataset/Healthcare/Record/record_healthcare_7000038_1544.wav\b\b\b\b\b\b\b\b\b\b\b\b\b\b\b\b\b\b\b\b\b\b\b\b\b\b\b\b\b\b\b\b\b\b\b\b\b\b\b\b\b\b\b\b\b\b\b\b\b\b\b\b\b\b\b\b\b\b\b\b\b\b\b\b\b\b\b\b\b\b\b\b\b                                                                         \b\b\b\b\b\b\b\b\b\b\b\b\b\b\b\b\b\b\b\b\b\b\b\b\b\b\b\b\b\b\b\b\b\b\b\b\b\b\b\b\b\b\b\b\b\b\b\b\b\b\b\b\b\b\b\b\b\b\b\b\b\b\b\b\b\b\b\b\b\b\b\b\b 36% 15691 - Dataset/Healthcare/Record/record_healthcare_7000038_1661.wav\b\b\b\b\b\b\b\b\b\b\b\b\b\b\b\b\b\b\b\b\b\b\b\b\b\b\b\b\b\b\b\b\b\b\b\b\b\b\b\b\b\b\b\b\b\b\b\b\b\b\b\b\b\b\b\b\b\b\b\b\b\b\b\b\b\b\b\b\b\b\b\b\b                                                                         \b\b\b\b\b\b\b\b\b\b\b\b\b\b\b\b\b\b\b\b\b\b\b\b\b\b\b\b\b\b\b\b\b\b\b\b\b\b\b\b\b\b\b\b\b\b\b\b\b\b\b\b\b\b\b\b\b\b\b\b\b\b\b\b\b\b\b\b\b\b\b\b\b 36% 15705 - Dataset/Healthcare/Record/record_healthcare_7000038_180.wav\b\b\b\b\b\b\b\b\b\b\b\b\b\b\b\b\b\b\b\b\b\b\b\b\b\b\b\b\b\b\b\b\b\b\b\b\b\b\b\b\b\b\b\b\b\b\b\b\b\b\b\b\b\b\b\b\b\b\b\b\b\b\b\b\b\b\b\b\b\b\b\b                                                                        \b\b\b\b\b\b\b\b\b\b\b\b\b\b\b\b\b\b\b\b\b\b\b\b\b\b\b\b\b\b\b\b\b\b\b\b\b\b\b\b\b\b\b\b\b\b\b\b\b\b\b\b\b\b\b\b\b\b\b\b\b\b\b\b\b\b\b\b\b\b\b\b 36% 15720 - Dataset/Healthcare/Record/record_healthcare_7000038_1899.wav\b\b\b\b\b\b\b\b\b\b\b\b\b\b\b\b\b\b\b\b\b\b\b\b\b\b\b\b\b\b\b\b\b\b\b\b\b\b\b\b\b\b\b\b\b\b\b\b\b\b\b\b\b\b\b\b\b\b\b\b\b\b\b\b\b\b\b\b\b\b\b\b\b                                                                         \b\b\b\b\b\b\b\b\b\b\b\b\b\b\b\b\b\b\b\b\b\b\b\b\b\b\b\b\b\b\b\b\b\b\b\b\b\b\b\b\b\b\b\b\b\b\b\b\b\b\b\b\b\b\b\b\b\b\b\b\b\b\b\b\b\b\b\b\b\b\b\b\b 36% 15736 - Dataset/Healthcare/Record/record_healthcare_7000038_2076.wav\b\b\b\b\b\b\b\b\b\b\b\b\b\b\b\b\b\b\b\b\b\b\b\b\b\b\b\b\b\b\b\b\b\b\b\b\b\b\b\b\b\b\b\b\b\b\b\b\b\b\b\b\b\b\b\b\b\b\b\b\b\b\b\b\b\b\b\b\b\b\b\b\b                                                                         \b\b\b\b\b\b\b\b\b\b\b\b\b\b\b\b\b\b\b\b\b\b\b\b\b\b\b\b\b\b\b\b\b\b\b\b\b\b\b\b\b\b\b\b\b\b\b\b\b\b\b\b\b\b\b\b\b\b\b\b\b\b\b\b\b\b\b\b\b\b\b\b\b 36% 15751 - Dataset/Healthcare/Record/record_healthcare_7000038_2155.wav\b\b\b\b\b\b\b\b\b\b\b\b\b\b\b\b\b\b\b\b\b\b\b\b\b\b\b\b\b\b\b\b\b\b\b\b\b\b\b\b\b\b\b\b\b\b\b\b\b\b\b\b\b\b\b\b\b\b\b\b\b\b\b\b\b\b\b\b\b\b\b\b\b                                                                         \b\b\b\b\b\b\b\b\b\b\b\b\b\b\b\b\b\b\b\b\b\b\b\b\b\b\b\b\b\b\b\b\b\b\b\b\b\b\b\b\b\b\b\b\b\b\b\b\b\b\b\b\b\b\b\b\b\b\b\b\b\b\b\b\b\b\b\b\b\b\b\b\b 36% 15766 - Dataset/Healthcare/Record/record_healthcare_7000038_2280.wav\b\b\b\b\b\b\b\b\b\b\b\b\b\b\b\b\b\b\b\b\b\b\b\b\b\b\b\b\b\b\b\b\b\b\b\b\b\b\b\b\b\b\b\b\b\b\b\b\b\b\b\b\b\b\b\b\b\b\b\b\b\b\b\b\b\b\b\b\b\b\b\b\b                                                                         \b\b\b\b\b\b\b\b\b\b\b\b\b\b\b\b\b\b\b\b\b\b\b\b\b\b\b\b\b\b\b\b\b\b\b\b\b\b\b\b\b\b\b\b\b\b\b\b\b\b\b\b\b\b\b\b\b\b\b\b\b\b\b\b\b\b\b\b\b\b\b\b\b 36% 15782 - Dataset/Healthcare/Record/record_healthcare_7000038_2366.wav\b\b\b\b\b\b\b\b\b\b\b\b\b\b\b\b\b\b\b\b\b\b\b\b\b\b\b\b\b\b\b\b\b\b\b\b\b\b\b\b\b\b\b\b\b\b\b\b\b\b\b\b\b\b\b\b\b\b\b\b\b\b\b\b\b\b\b\b\b\b\b\b\b                                                                         \b\b\b\b\b\b\b\b\b\b\b\b\b\b\b\b\b\b\b\b\b\b\b\b\b\b\b\b\b\b\b\b\b\b\b\b\b\b\b\b\b\b\b\b\b\b\b\b\b\b\b\b\b\b\b\b\b\b\b\b\b\b\b\b\b\b\b\b\b\b\b\b\b 36% 15796 - Dataset/Healthcare/Record/record_healthcare_7000038_26.wav\b\b\b\b\b\b\b\b\b\b\b\b\b\b\b\b\b\b\b\b\b\b\b\b\b\b\b\b\b\b\b\b\b\b\b\b\b\b\b\b\b\b\b\b\b\b\b\b\b\b\b\b\b\b\b\b\b\b\b\b\b\b\b\b\b\b\b\b\b\b\b                                                                       \b\b\b\b\b\b\b\b\b\b\b\b\b\b\b\b\b\b\b\b\b\b\b\b\b\b\b\b\b\b\b\b\b\b\b\b\b\b\b\b\b\b\b\b\b\b\b\b\b\b\b\b\b\b\b\b\b\b\b\b\b\b\b\b\b\b\b\b\b\b\b 36% 15811 - Dataset/Healthcare/Record/record_healthcare_7000038_38.wav\b\b\b\b\b\b\b\b\b\b\b\b\b\b\b\b\b\b\b\b\b\b\b\b\b\b\b\b\b\b\b\b\b\b\b\b\b\b\b\b\b\b\b\b\b\b\b\b\b\b\b\b\b\b\b\b\b\b\b\b\b\b\b\b\b\b\b\b\b\b\b                                                                       \b\b\b\b\b\b\b\b\b\b\b\b\b\b\b\b\b\b\b\b\b\b\b\b\b\b\b\b\b\b\b\b\b\b\b\b\b\b\b\b\b\b\b\b\b\b\b\b\b\b\b\b\b\b\b\b\b\b\b\b\b\b\b\b\b\b\b\b\b\b\b 36% 15826 - Dataset/Healthcare/Record/record_healthcare_7000038_469.wav\b\b\b\b\b\b\b\b\b\b\b\b\b\b\b\b\b\b\b\b\b\b\b\b\b\b\b\b\b\b\b\b\b\b\b\b\b\b\b\b\b\b\b\b\b\b\b\b\b\b\b\b\b\b\b\b\b\b\b\b\b\b\b\b\b\b\b\b\b\b\b\b                                                                        \b\b\b\b\b\b\b\b\b\b\b\b\b\b\b\b\b\b\b\b\b\b\b\b\b\b\b\b\b\b\b\b\b\b\b\b\b\b\b\b\b\b\b\b\b\b\b\b\b\b\b\b\b\b\b\b\b\b\b\b\b\b\b\b\b\b\b\b\b\b\b\b 37% 15841 - Dataset/Healthcare/Record/record_healthcare_7000038_599.wav\b\b\b\b\b\b\b\b\b\b\b\b\b\b\b\b\b\b\b\b\b\b\b\b\b\b\b\b\b\b\b\b\b\b\b\b\b\b\b\b\b\b\b\b\b\b\b\b\b\b\b\b\b\b\b\b\b\b\b\b\b\b\b\b\b\b\b\b\b\b\b\b                                                                        \b\b\b\b\b\b\b\b\b\b\b\b\b\b\b\b\b\b\b\b\b\b\b\b\b\b\b\b\b\b\b\b\b\b\b\b\b\b\b\b\b\b\b\b\b\b\b\b\b\b\b\b\b\b\b\b\b\b\b\b\b\b\b\b\b\b\b\b\b\b\b\b 37% 15857 - Dataset/Healthcare/Record/record_healthcare_7000038_73.wav\b\b\b\b\b\b\b\b\b\b\b\b\b\b\b\b\b\b\b\b\b\b\b\b\b\b\b\b\b\b\b\b\b\b\b\b\b\b\b\b\b\b\b\b\b\b\b\b\b\b\b\b\b\b\b\b\b\b\b\b\b\b\b\b\b\b\b\b\b\b\b                                                                       \b\b\b\b\b\b\b\b\b\b\b\b\b\b\b\b\b\b\b\b\b\b\b\b\b\b\b\b\b\b\b\b\b\b\b\b\b\b\b\b\b\b\b\b\b\b\b\b\b\b\b\b\b\b\b\b\b\b\b\b\b\b\b\b\b\b\b\b\b\b\b 37% 15872 - Dataset/Healthcare/Record/record_healthcare_7000038_797.wav\b\b\b\b\b\b\b\b\b\b\b\b\b\b\b\b\b\b\b\b\b\b\b\b\b\b\b\b\b\b\b\b\b\b\b\b\b\b\b\b\b\b\b\b\b\b\b\b\b\b\b\b\b\b\b\b\b\b\b\b\b\b\b\b\b\b\b\b\b\b\b\b                                                                        \b\b\b\b\b\b\b\b\b\b\b\b\b\b\b\b\b\b\b\b\b\b\b\b\b\b\b\b\b\b\b\b\b\b\b\b\b\b\b\b\b\b\b\b\b\b\b\b\b\b\b\b\b\b\b\b\b\b\b\b\b\b\b\b\b\b\b\b\b\b\b\b 37% 15887 - Dataset/Healthcare/Record/record_healthcare_7000038_890.wav\b\b\b\b\b\b\b\b\b\b\b\b\b\b\b\b\b\b\b\b\b\b\b\b\b\b\b\b\b\b\b\b\b\b\b\b\b\b\b\b\b\b\b\b\b\b\b\b\b\b\b\b\b\b\b\b\b\b\b\b\b\b\b\b\b\b\b\b\b\b\b\b                                                                        \b\b\b\b\b\b\b\b\b\b\b\b\b\b\b\b\b\b\b\b\b\b\b\b\b\b\b\b\b\b\b\b\b\b\b\b\b\b\b\b\b\b\b\b\b\b\b\b\b\b\b\b\b\b\b\b\b\b\b\b\b\b\b\b\b\b\b\b\b\b\b\b 37% 15903 - Dataset/Healthcare/Record/record_healthcare_7000038_992.wav\b\b\b\b\b\b\b\b\b\b\b\b\b\b\b\b\b\b\b\b\b\b\b\b\b\b\b\b\b\b\b\b\b\b\b\b\b\b\b\b\b\b\b\b\b\b\b\b\b\b\b\b\b\b\b\b\b\b\b\b\b\b\b\b\b\b\b\b\b\b\b\b                                                                        \b\b\b\b\b\b\b\b\b\b\b\b\b\b\b\b\b\b\b\b\b\b\b\b\b\b\b\b\b\b\b\b\b\b\b\b\b\b\b\b\b\b\b\b\b\b\b\b\b\b\b\b\b\b\b\b\b\b\b\b\b\b\b\b\b\b\b\b\b\b\b\b 37% 15922 - Dataset/Healthcare/Record/record_healthcare_7000039_1155.wav\b\b\b\b\b\b\b\b\b\b\b\b\b\b\b\b\b\b\b\b\b\b\b\b\b\b\b\b\b\b\b\b\b\b\b\b\b\b\b\b\b\b\b\b\b\b\b\b\b\b\b\b\b\b\b\b\b\b\b\b\b\b\b\b\b\b\b\b\b\b\b\b\b                                                                         \b\b\b\b\b\b\b\b\b\b\b\b\b\b\b\b\b\b\b\b\b\b\b\b\b\b\b\b\b\b\b\b\b\b\b\b\b\b\b\b\b\b\b\b\b\b\b\b\b\b\b\b\b\b\b\b\b\b\b\b\b\b\b\b\b\b\b\b\b\b\b\b\b 37% 15942 - Dataset/Healthcare/Record/record_healthcare_7000039_128.wav\b\b\b\b\b\b\b\b\b\b\b\b\b\b\b\b\b\b\b\b\b\b\b\b\b\b\b\b\b\b\b\b\b\b\b\b\b\b\b\b\b\b\b\b\b\b\b\b\b\b\b\b\b\b\b\b\b\b\b\b\b\b\b\b\b\b\b\b\b\b\b\b                                                                        \b\b\b\b\b\b\b\b\b\b\b\b\b\b\b\b\b\b\b\b\b\b\b\b\b\b\b\b\b\b\b\b\b\b\b\b\b\b\b\b\b\b\b\b\b\b\b\b\b\b\b\b\b\b\b\b\b\b\b\b\b\b\b\b\b\b\b\b\b\b\b\b 37% 15961 - Dataset/Healthcare/Record/record_healthcare_7000039_1408.wav\b\b\b\b\b\b\b\b\b\b\b\b\b\b\b\b\b\b\b\b\b\b\b\b\b\b\b\b\b\b\b\b\b\b\b\b\b\b\b\b\b\b\b\b\b\b\b\b\b\b\b\b\b\b\b\b\b\b\b\b\b\b\b\b\b\b\b\b\b\b\b\b\b                                                                         \b\b\b\b\b\b\b\b\b\b\b\b\b\b\b\b\b\b\b\b\b\b\b\b\b\b\b\b\b\b\b\b\b\b\b\b\b\b\b\b\b\b\b\b\b\b\b\b\b\b\b\b\b\b\b\b\b\b\b\b\b\b\b\b\b\b\b\b\b\b\b\b\b 37% 15981 - Dataset/Healthcare/Record/record_healthcare_7000039_1599.wav\b\b\b\b\b\b\b\b\b\b\b\b\b\b\b\b\b\b\b\b\b\b\b\b\b\b\b\b\b\b\b\b\b\b\b\b\b\b\b\b\b\b\b\b\b\b\b\b\b\b\b\b\b\b\b\b\b\b\b\b\b\b\b\b\b\b\b\b\b\b\b\b\b                                                                         \b\b\b\b\b\b\b\b\b\b\b\b\b\b\b\b\b\b\b\b\b\b\b\b\b\b\b\b\b\b\b\b\b\b\b\b\b\b\b\b\b\b\b\b\b\b\b\b\b\b\b\b\b\b\b\b\b\b\b\b\b\b\b\b\b\b\b\b\b\b\b\b\b 37% 15998 - Dataset/Healthcare/Record/record_healthcare_7000039_1713.wav\b\b\b\b\b\b\b\b\b\b\b\b\b\b\b\b\b\b\b\b\b\b\b\b\b\b\b\b\b\b\b\b\b\b\b\b\b\b\b\b\b\b\b\b\b\b\b\b\b\b\b\b\b\b\b\b\b\b\b\b\b\b\b\b\b\b\b\b\b\b\b\b\b                                                                         \b\b\b\b\b\b\b\b\b\b\b\b\b\b\b\b\b\b\b\b\b\b\b\b\b\b\b\b\b\b\b\b\b\b\b\b\b\b\b\b\b\b\b\b\b\b\b\b\b\b\b\b\b\b\b\b\b\b\b\b\b\b\b\b\b\b\b\b\b\b\b\b\b 37% 16017 - Dataset/Healthcare/Record/record_healthcare_7000039_1844.wav\b\b\b\b\b\b\b\b\b\b\b\b\b\b\b\b\b\b\b\b\b\b\b\b\b\b\b\b\b\b\b\b\b\b\b\b\b\b\b\b\b\b\b\b\b\b\b\b\b\b\b\b\b\b\b\b\b\b\b\b\b\b\b\b\b\b\b\b\b\b\b\b\b                                                                         \b\b\b\b\b\b\b\b\b\b\b\b\b\b\b\b\b\b\b\b\b\b\b\b\b\b\b\b\b\b\b\b\b\b\b\b\b\b\b\b\b\b\b\b\b\b\b\b\b\b\b\b\b\b\b\b\b\b\b\b\b\b\b\b\b\b\b\b\b\b\b\b\b 38% 16035 - Dataset/Healthcare/Record/record_healthcare_7000039_192.wav\b\b\b\b\b\b\b\b\b\b\b\b\b\b\b\b\b\b\b\b\b\b\b\b\b\b\b\b\b\b\b\b\b\b\b\b\b\b\b\b\b\b\b\b\b\b\b\b\b\b\b\b\b\b\b\b\b\b\b\b\b\b\b\b\b\b\b\b\b\b\b\b                                                                        \b\b\b\b\b\b\b\b\b\b\b\b\b\b\b\b\b\b\b\b\b\b\b\b\b\b\b\b\b\b\b\b\b\b\b\b\b\b\b\b\b\b\b\b\b\b\b\b\b\b\b\b\b\b\b\b\b\b\b\b\b\b\b\b\b\b\b\b\b\b\b\b 38% 16055 - Dataset/Healthcare/Record/record_healthcare_7000039_2094.wav\b\b\b\b\b\b\b\b\b\b\b\b\b\b\b\b\b\b\b\b\b\b\b\b\b\b\b\b\b\b\b\b\b\b\b\b\b\b\b\b\b\b\b\b\b\b\b\b\b\b\b\b\b\b\b\b\b\b\b\b\b\b\b\b\b\b\b\b\b\b\b\b\b                                                                         \b\b\b\b\b\b\b\b\b\b\b\b\b\b\b\b\b\b\b\b\b\b\b\b\b\b\b\b\b\b\b\b\b\b\b\b\b\b\b\b\b\b\b\b\b\b\b\b\b\b\b\b\b\b\b\b\b\b\b\b\b\b\b\b\b\b\b\b\b\b\b\b\b 38% 16074 - Dataset/Healthcare/Record/record_healthcare_7000039_2249.wav\b\b\b\b\b\b\b\b\b\b\b\b\b\b\b\b\b\b\b\b\b\b\b\b\b\b\b\b\b\b\b\b\b\b\b\b\b\b\b\b\b\b\b\b\b\b\b\b\b\b\b\b\b\b\b\b\b\b\b\b\b\b\b\b\b\b\b\b\b\b\b\b\b                                                                         \b\b\b\b\b\b\b\b\b\b\b\b\b\b\b\b\b\b\b\b\b\b\b\b\b\b\b\b\b\b\b\b\b\b\b\b\b\b\b\b\b\b\b\b\b\b\b\b\b\b\b\b\b\b\b\b\b\b\b\b\b\b\b\b\b\b\b\b\b\b\b\b\b 38% 16093 - Dataset/Healthcare/Record/record_healthcare_7000039_2376.wav\b\b\b\b\b\b\b\b\b\b\b\b\b\b\b\b\b\b\b\b\b\b\b\b\b\b\b\b\b\b\b\b\b\b\b\b\b\b\b\b\b\b\b\b\b\b\b\b\b\b\b\b\b\b\b\b\b\b\b\b\b\b\b\b\b\b\b\b\b\b\b\b\b                                                                         \b\b\b\b\b\b\b\b\b\b\b\b\b\b\b\b\b\b\b\b\b\b\b\b\b\b\b\b\b\b\b\b\b\b\b\b\b\b\b\b\b\b\b\b\b\b\b\b\b\b\b\b\b\b\b\b\b\b\b\b\b\b\b\b\b\b\b\b\b\b\b\b\b 38% 16113 - Dataset/Healthcare/Record/record_healthcare_7000039_289.wav\b\b\b\b\b\b\b\b\b\b\b\b\b\b\b\b\b\b\b\b\b\b\b\b\b\b\b\b\b\b\b\b\b\b\b\b\b\b\b\b\b\b\b\b\b\b\b\b\b\b\b\b\b\b\b\b\b\b\b\b\b\b\b\b\b\b\b\b\b\b\b\b                                                                        \b\b\b\b\b\b\b\b\b\b\b\b\b\b\b\b\b\b\b\b\b\b\b\b\b\b\b\b\b\b\b\b\b\b\b\b\b\b\b\b\b\b\b\b\b\b\b\b\b\b\b\b\b\b\b\b\b\b\b\b\b\b\b\b\b\b\b\b\b\b\b\b 38% 16133 - Dataset/Healthcare/Record/record_healthcare_7000039_44.wav\b\b\b\b\b\b\b\b\b\b\b\b\b\b\b\b\b\b\b\b\b\b\b\b\b\b\b\b\b\b\b\b\b\b\b\b\b\b\b\b\b\b\b\b\b\b\b\b\b\b\b\b\b\b\b\b\b\b\b\b\b\b\b\b\b\b\b\b\b\b\b                                                                       \b\b\b\b\b\b\b\b\b\b\b\b\b\b\b\b\b\b\b\b\b\b\b\b\b\b\b\b\b\b\b\b\b\b\b\b\b\b\b\b\b\b\b\b\b\b\b\b\b\b\b\b\b\b\b\b\b\b\b\b\b\b\b\b\b\b\b\b\b\b\b 38% 16154 - Dataset/Healthcare/Record/record_healthcare_7000039_602.wav\b\b\b\b\b\b\b\b\b\b\b\b\b\b\b\b\b\b\b\b\b\b\b\b\b\b\b\b\b\b\b\b\b\b\b\b\b\b\b\b\b\b\b\b\b\b\b\b\b\b\b\b\b\b\b\b\b\b\b\b\b\b\b\b\b\b\b\b\b\b\b\b                                                                        \b\b\b\b\b\b\b\b\b\b\b\b\b\b\b\b\b\b\b\b\b\b\b\b\b\b\b\b\b\b\b\b\b\b\b\b\b\b\b\b\b\b\b\b\b\b\b\b\b\b\b\b\b\b\b\b\b\b\b\b\b\b\b\b\b\b\b\b\b\b\b\b 38% 16173 - Dataset/Healthcare/Record/record_healthcare_7000039_740.wav\b\b\b\b\b\b\b\b\b\b\b\b\b\b\b\b\b\b\b\b\b\b\b\b\b\b\b\b\b\b\b\b\b\b\b\b\b\b\b\b\b\b\b\b\b\b\b\b\b\b\b\b\b\b\b\b\b\b\b\b\b\b\b\b\b\b\b\b\b\b\b\b                                                                        \b\b\b\b\b\b\b\b\b\b\b\b\b\b\b\b\b\b\b\b\b\b\b\b\b\b\b\b\b\b\b\b\b\b\b\b\b\b\b\b\b\b\b\b\b\b\b\b\b\b\b\b\b\b\b\b\b\b\b\b\b\b\b\b\b\b\b\b\b\b\b\b 38% 16192 - Dataset/Healthcare/Record/record_healthcare_7000039_874.wav\b\b\b\b\b\b\b\b\b\b\b\b\b\b\b\b\b\b\b\b\b\b\b\b\b\b\b\b\b\b\b\b\b\b\b\b\b\b\b\b\b\b\b\b\b\b\b\b\b\b\b\b\b\b\b\b\b\b\b\b\b\b\b\b\b\b\b\b\b\b\b\b                                                                        \b\b\b\b\b\b\b\b\b\b\b\b\b\b\b\b\b\b\b\b\b\b\b\b\b\b\b\b\b\b\b\b\b\b\b\b\b\b\b\b\b\b\b\b\b\b\b\b\b\b\b\b\b\b\b\b\b\b\b\b\b\b\b\b\b\b\b\b\b\b\b\b 38% 16213 - Dataset/Healthcare/Record/record_healthcare_7000040_1031.wav\b\b\b\b\b\b\b\b\b\b\b\b\b\b\b\b\b\b\b\b\b\b\b\b\b\b\b\b\b\b\b\b\b\b\b\b\b\b\b\b\b\b\b\b\b\b\b\b\b\b\b\b\b\b\b\b\b\b\b\b\b\b\b\b\b\b\b\b\b\b\b\b\b                                                                         \b\b\b\b\b\b\b\b\b\b\b\b\b\b\b\b\b\b\b\b\b\b\b\b\b\b\b\b\b\b\b\b\b\b\b\b\b\b\b\b\b\b\b\b\b\b\b\b\b\b\b\b\b\b\b\b\b\b\b\b\b\b\b\b\b\b\b\b\b\b\b\b\b 38% 16235 - Dataset/Healthcare/Record/record_healthcare_7000040_1203.wav\b\b\b\b\b\b\b\b\b\b\b\b\b\b\b\b\b\b\b\b\b\b\b\b\b\b\b\b\b\b\b\b\b\b\b\b\b\b\b\b\b\b\b\b\b\b\b\b\b\b\b\b\b\b\b\b\b\b\b\b\b\b\b\b\b\b\b\b\b\b\b\b\b                                                                         \b\b\b\b\b\b\b\b\b\b\b\b\b\b\b\b\b\b\b\b\b\b\b\b\b\b\b\b\b\b\b\b\b\b\b\b\b\b\b\b\b\b\b\b\b\b\b\b\b\b\b\b\b\b\b\b\b\b\b\b\b\b\b\b\b\b\b\b\b\b\b\b\b 38% 16256 - Dataset/Healthcare/Record/record_healthcare_7000040_1393.wav\b\b\b\b\b\b\b\b\b\b\b\b\b\b\b\b\b\b\b\b\b\b\b\b\b\b\b\b\b\b\b\b\b\b\b\b\b\b\b\b\b\b\b\b\b\b\b\b\b\b\b\b\b\b\b\b\b\b\b\b\b\b\b\b\b\b\b\b\b\b\b\b\b                                                                         \b\b\b\b\b\b\b\b\b\b\b\b\b\b\b\b\b\b\b\b\b\b\b\b\b\b\b\b\b\b\b\b\b\b\b\b\b\b\b\b\b\b\b\b\b\b\b\b\b\b\b\b\b\b\b\b\b\b\b\b\b\b\b\b\b\b\b\b\b\b\b\b\b 39% 16277 - Dataset/Healthcare/Record/record_healthcare_7000040_1593.wav\b\b\b\b\b\b\b\b\b\b\b\b\b\b\b\b\b\b\b\b\b\b\b\b\b\b\b\b\b\b\b\b\b\b\b\b\b\b\b\b\b\b\b\b\b\b\b\b\b\b\b\b\b\b\b\b\b\b\b\b\b\b\b\b\b\b\b\b\b\b\b\b\b                                                                         \b\b\b\b\b\b\b\b\b\b\b\b\b\b\b\b\b\b\b\b\b\b\b\b\b\b\b\b\b\b\b\b\b\b\b\b\b\b\b\b\b\b\b\b\b\b\b\b\b\b\b\b\b\b\b\b\b\b\b\b\b\b\b\b\b\b\b\b\b\b\b\b\b 39% 16297 - Dataset/Healthcare/Record/record_healthcare_7000040_1730.wav\b\b\b\b\b\b\b\b\b\b\b\b\b\b\b\b\b\b\b\b\b\b\b\b\b\b\b\b\b\b\b\b\b\b\b\b\b\b\b\b\b\b\b\b\b\b\b\b\b\b\b\b\b\b\b\b\b\b\b\b\b\b\b\b\b\b\b\b\b\b\b\b\b                                                                         \b\b\b\b\b\b\b\b\b\b\b\b\b\b\b\b\b\b\b\b\b\b\b\b\b\b\b\b\b\b\b\b\b\b\b\b\b\b\b\b\b\b\b\b\b\b\b\b\b\b\b\b\b\b\b\b\b\b\b\b\b\b\b\b\b\b\b\b\b\b\b\b\b 39% 16318 - Dataset/Healthcare/Record/record_healthcare_7000040_1881.wav\b\b\b\b\b\b\b\b\b\b\b\b\b\b\b\b\b\b\b\b\b\b\b\b\b\b\b\b\b\b\b\b\b\b\b\b\b\b\b\b\b\b\b\b\b\b\b\b\b\b\b\b\b\b\b\b\b\b\b\b\b\b\b\b\b\b\b\b\b\b\b\b\b                                                                         \b\b\b\b\b\b\b\b\b\b\b\b\b\b\b\b\b\b\b\b\b\b\b\b\b\b\b\b\b\b\b\b\b\b\b\b\b\b\b\b\b\b\b\b\b\b\b\b\b\b\b\b\b\b\b\b\b\b\b\b\b\b\b\b\b\b\b\b\b\b\b\b\b 39% 16340 - Dataset/Healthcare/Record/record_healthcare_7000040_2055.wav\b\b\b\b\b\b\b\b\b\b\b\b\b\b\b\b\b\b\b\b\b\b\b\b\b\b\b\b\b\b\b\b\b\b\b\b\b\b\b\b\b\b\b\b\b\b\b\b\b\b\b\b\b\b\b\b\b\b\b\b\b\b\b\b\b\b\b\b\b\b\b\b\b                                                                         \b\b\b\b\b\b\b\b\b\b\b\b\b\b\b\b\b\b\b\b\b\b\b\b\b\b\b\b\b\b\b\b\b\b\b\b\b\b\b\b\b\b\b\b\b\b\b\b\b\b\b\b\b\b\b\b\b\b\b\b\b\b\b\b\b\b\b\b\b\b\b\b\b 39% 16361 - Dataset/Healthcare/Record/record_healthcare_7000040_2218.wav\b\b\b\b\b\b\b\b\b\b\b\b\b\b\b\b\b\b\b\b\b\b\b\b\b\b\b\b\b\b\b\b\b\b\b\b\b\b\b\b\b\b\b\b\b\b\b\b\b\b\b\b\b\b\b\b\b\b\b\b\b\b\b\b\b\b\b\b\b\b\b\b\b                                                                         \b\b\b\b\b\b\b\b\b\b\b\b\b\b\b\b\b\b\b\b\b\b\b\b\b\b\b\b\b\b\b\b\b\b\b\b\b\b\b\b\b\b\b\b\b\b\b\b\b\b\b\b\b\b\b\b\b\b\b\b\b\b\b\b\b\b\b\b\b\b\b\b\b 39% 16381 - Dataset/Healthcare/Record/record_healthcare_7000040_2326.wav\b\b\b\b\b\b\b\b\b\b\b\b\b\b\b\b\b\b\b\b\b\b\b\b\b\b\b\b\b\b\b\b\b\b\b\b\b\b\b\b\b\b\b\b\b\b\b\b\b\b\b\b\b\b\b\b\b\b\b\b\b\b\b\b\b\b\b\b\b\b\b\b\b                                                                         \b\b\b\b\b\b\b\b\b\b\b\b\b\b\b\b\b\b\b\b\b\b\b\b\b\b\b\b\b\b\b\b\b\b\b\b\b\b\b\b\b\b\b\b\b\b\b\b\b\b\b\b\b\b\b\b\b\b\b\b\b\b\b\b\b\b\b\b\b\b\b\b\b 39% 16401 - Dataset/Healthcare/Record/record_healthcare_7000040_2471.wav\b\b\b\b\b\b\b\b\b\b\b\b\b\b\b\b\b\b\b\b\b\b\b\b\b\b\b\b\b\b\b\b\b\b\b\b\b\b\b\b\b\b\b\b\b\b\b\b\b\b\b\b\b\b\b\b\b\b\b\b\b\b\b\b\b\b\b\b\b\b\b\b\b                                                                         \b\b\b\b\b\b\b\b\b\b\b\b\b\b\b\b\b\b\b\b\b\b\b\b\b\b\b\b\b\b\b\b\b\b\b\b\b\b\b\b\b\b\b\b\b\b\b\b\b\b\b\b\b\b\b\b\b\b\b\b\b\b\b\b\b\b\b\b\b\b\b\b\b 39% 16421 - Dataset/Healthcare/Record/record_healthcare_7000040_352.wav\b\b\b\b\b\b\b\b\b\b\b\b\b\b\b\b\b\b\b\b\b\b\b\b\b\b\b\b\b\b\b\b\b\b\b\b\b\b\b\b\b\b\b\b\b\b\b\b\b\b\b\b\b\b\b\b\b\b\b\b\b\b\b\b\b\b\b\b\b\b\b\b                                                                        \b\b\b\b\b\b\b\b\b\b\b\b\b\b\b\b\b\b\b\b\b\b\b\b\b\b\b\b\b\b\b\b\b\b\b\b\b\b\b\b\b\b\b\b\b\b\b\b\b\b\b\b\b\b\b\b\b\b\b\b\b\b\b\b\b\b\b\b\b\b\b\b 39% 16442 - Dataset/Healthcare/Record/record_healthcare_7000040_498.wav\b\b\b\b\b\b\b\b\b\b\b\b\b\b\b\b\b\b\b\b\b\b\b\b\b\b\b\b\b\b\b\b\b\b\b\b\b\b\b\b\b\b\b\b\b\b\b\b\b\b\b\b\b\b\b\b\b\b\b\b\b\b\b\b\b\b\b\b\b\b\b\b                                                                        \b\b\b\b\b\b\b\b\b\b\b\b\b\b\b\b\b\b\b\b\b\b\b\b\b\b\b\b\b\b\b\b\b\b\b\b\b\b\b\b\b\b\b\b\b\b\b\b\b\b\b\b\b\b\b\b\b\b\b\b\b\b\b\b\b\b\b\b\b\b\b\b 39% 16459 - Dataset/Healthcare/Record/record_healthcare_7000040_634.wav\b\b\b\b\b\b\b\b\b\b\b\b\b\b\b\b\b\b\b\b\b\b\b\b\b\b\b\b\b\b\b\b\b\b\b\b\b\b\b\b\b\b\b\b\b\b\b\b\b\b\b\b\b\b\b\b\b\b\b\b\b\b\b\b\b\b\b\b\b\b\b\b                                                                        \b\b\b\b\b\b\b\b\b\b\b\b\b\b\b\b\b\b\b\b\b\b\b\b\b\b\b\b\b\b\b\b\b\b\b\b\b\b\b\b\b\b\b\b\b\b\b\b\b\b\b\b\b\b\b\b\b\b\b\b\b\b\b\b\b\b\b\b\b\b\b\b 39% 16478 - Dataset/Healthcare/Record/record_healthcare_7000040_759.wav\b\b\b\b\b\b\b\b\b\b\b\b\b\b\b\b\b\b\b\b\b\b\b\b\b\b\b\b\b\b\b\b\b\b\b\b\b\b\b\b\b\b\b\b\b\b\b\b\b\b\b\b\b\b\b\b\b\b\b\b\b\b\b\b\b\b\b\b\b\b\b\b                                                                        \b\b\b\b\b\b\b\b\b\b\b\b\b\b\b\b\b\b\b\b\b\b\b\b\b\b\b\b\b\b\b\b\b\b\b\b\b\b\b\b\b\b\b\b\b\b\b\b\b\b\b\b\b\b\b\b\b\b\b\b\b\b\b\b\b\b\b\b\b\b\b\b 39% 16498 - Dataset/Healthcare/Record/record_healthcare_7000040_922.wav\b\b\b\b\b\b\b\b\b\b\b\b\b\b\b\b\b\b\b\b\b\b\b\b\b\b\b\b\b\b\b\b\b\b\b\b\b\b\b\b\b\b\b\b\b\b\b\b\b\b\b\b\b\b\b\b\b\b\b\b\b\b\b\b\b\b\b\b\b\b\b\b                                                                        \b\b\b\b\b\b\b\b\b\b\b\b\b\b\b\b\b\b\b\b\b\b\b\b\b\b\b\b\b\b\b\b\b\b\b\b\b\b\b\b\b\b\b\b\b\b\b\b\b\b\b\b\b\b\b\b\b\b\b\b\b\b\b\b\b\b\b\b\b\b\b\b 40% 16518 - Dataset/Healthcare/Record/record_healthcare_7000041_1089.wav\b\b\b\b\b\b\b\b\b\b\b\b\b\b\b\b\b\b\b\b\b\b\b\b\b\b\b\b\b\b\b\b\b\b\b\b\b\b\b\b\b\b\b\b\b\b\b\b\b\b\b\b\b\b\b\b\b\b\b\b\b\b\b\b\b\b\b\b\b\b\b\b\b                                                                         \b\b\b\b\b\b\b\b\b\b\b\b\b\b\b\b\b\b\b\b\b\b\b\b\b\b\b\b\b\b\b\b\b\b\b\b\b\b\b\b\b\b\b\b\b\b\b\b\b\b\b\b\b\b\b\b\b\b\b\b\b\b\b\b\b\b\b\b\b\b\b\b\b 40% 16536 - Dataset/Healthcare/Record/record_healthcare_7000041_1240.wav\b\b\b\b\b\b\b\b\b\b\b\b\b\b\b\b\b\b\b\b\b\b\b\b\b\b\b\b\b\b\b\b\b\b\b\b\b\b\b\b\b\b\b\b\b\b\b\b\b\b\b\b\b\b\b\b\b\b\b\b\b\b\b\b\b\b\b\b\b\b\b\b\b                                                                         \b\b\b\b\b\b\b\b\b\b\b\b\b\b\b\b\b\b\b\b\b\b\b\b\b\b\b\b\b\b\b\b\b\b\b\b\b\b\b\b\b\b\b\b\b\b\b\b\b\b\b\b\b\b\b\b\b\b\b\b\b\b\b\b\b\b\b\b\b\b\b\b\b 40% 16554 - Dataset/Healthcare/Record/record_healthcare_7000041_1341.wav\b\b\b\b\b\b\b\b\b\b\b\b\b\b\b\b\b\b\b\b\b\b\b\b\b\b\b\b\b\b\b\b\b\b\b\b\b\b\b\b\b\b\b\b\b\b\b\b\b\b\b\b\b\b\b\b\b\b\b\b\b\b\b\b\b\b\b\b\b\b\b\b\b                                                                         \b\b\b\b\b\b\b\b\b\b\b\b\b\b\b\b\b\b\b\b\b\b\b\b\b\b\b\b\b\b\b\b\b\b\b\b\b\b\b\b\b\b\b\b\b\b\b\b\b\b\b\b\b\b\b\b\b\b\b\b\b\b\b\b\b\b\b\b\b\b\b\b\b 40% 16571 - Dataset/Healthcare/Record/record_healthcare_7000041_1410.wav\b\b\b\b\b\b\b\b\b\b\b\b\b\b\b\b\b\b\b\b\b\b\b\b\b\b\b\b\b\b\b\b\b\b\b\b\b\b\b\b\b\b\b\b\b\b\b\b\b\b\b\b\b\b\b\b\b\b\b\b\b\b\b\b\b\b\b\b\b\b\b\b\b                                                                         \b\b\b\b\b\b\b\b\b\b\b\b\b\b\b\b\b\b\b\b\b\b\b\b\b\b\b\b\b\b\b\b\b\b\b\b\b\b\b\b\b\b\b\b\b\b\b\b\b\b\b\b\b\b\b\b\b\b\b\b\b\b\b\b\b\b\b\b\b\b\b\b\b 40% 16589 - Dataset/Healthcare/Record/record_healthcare_7000041_1541.wav\b\b\b\b\b\b\b\b\b\b\b\b\b\b\b\b\b\b\b\b\b\b\b\b\b\b\b\b\b\b\b\b\b\b\b\b\b\b\b\b\b\b\b\b\b\b\b\b\b\b\b\b\b\b\b\b\b\b\b\b\b\b\b\b\b\b\b\b\b\b\b\b\b                                                                         \b\b\b\b\b\b\b\b\b\b\b\b\b\b\b\b\b\b\b\b\b\b\b\b\b\b\b\b\b\b\b\b\b\b\b\b\b\b\b\b\b\b\b\b\b\b\b\b\b\b\b\b\b\b\b\b\b\b\b\b\b\b\b\b\b\b\b\b\b\b\b\b\b 40% 16607 - Dataset/Healthcare/Record/record_healthcare_7000041_1678.wav\b\b\b\b\b\b\b\b\b\b\b\b\b\b\b\b\b\b\b\b\b\b\b\b\b\b\b\b\b\b\b\b\b\b\b\b\b\b\b\b\b\b\b\b\b\b\b\b\b\b\b\b\b\b\b\b\b\b\b\b\b\b\b\b\b\b\b\b\b\b\b\b\b                                                                         \b\b\b\b\b\b\b\b\b\b\b\b\b\b\b\b\b\b\b\b\b\b\b\b\b\b\b\b\b\b\b\b\b\b\b\b\b\b\b\b\b\b\b\b\b\b\b\b\b\b\b\b\b\b\b\b\b\b\b\b\b\b\b\b\b\b\b\b\b\b\b\b\b 40% 16623 - Dataset/Healthcare/Record/record_healthcare_7000041_1806.wav\b\b\b\b\b\b\b\b\b\b\b\b\b\b\b\b\b\b\b\b\b\b\b\b\b\b\b\b\b\b\b\b\b\b\b\b\b\b\b\b\b\b\b\b\b\b\b\b\b\b\b\b\b\b\b\b\b\b\b\b\b\b\b\b\b\b\b\b\b\b\b\b\b                                                                         \b\b\b\b\b\b\b\b\b\b\b\b\b\b\b\b\b\b\b\b\b\b\b\b\b\b\b\b\b\b\b\b\b\b\b\b\b\b\b\b\b\b\b\b\b\b\b\b\b\b\b\b\b\b\b\b\b\b\b\b\b\b\b\b\b\b\b\b\b\b\b\b\b 40% 16641 - Dataset/Healthcare/Record/record_healthcare_7000041_195.wav\b\b\b\b\b\b\b\b\b\b\b\b\b\b\b\b\b\b\b\b\b\b\b\b\b\b\b\b\b\b\b\b\b\b\b\b\b\b\b\b\b\b\b\b\b\b\b\b\b\b\b\b\b\b\b\b\b\b\b\b\b\b\b\b\b\b\b\b\b\b\b\b                                                                        \b\b\b\b\b\b\b\b\b\b\b\b\b\b\b\b\b\b\b\b\b\b\b\b\b\b\b\b\b\b\b\b\b\b\b\b\b\b\b\b\b\b\b\b\b\b\b\b\b\b\b\b\b\b\b\b\b\b\b\b\b\b\b\b\b\b\b\b\b\b\b\b 41% 16659 - Dataset/Healthcare/Record/record_healthcare_7000041_2118.wav\b\b\b\b\b\b\b\b\b\b\b\b\b\b\b\b\b\b\b\b\b\b\b\b\b\b\b\b\b\b\b\b\b\b\b\b\b\b\b\b\b\b\b\b\b\b\b\b\b\b\b\b\b\b\b\b\b\b\b\b\b\b\b\b\b\b\b\b\b\b\b\b\b                                                                         \b\b\b\b\b\b\b\b\b\b\b\b\b\b\b\b\b\b\b\b\b\b\b\b\b\b\b\b\b\b\b\b\b\b\b\b\b\b\b\b\b\b\b\b\b\b\b\b\b\b\b\b\b\b\b\b\b\b\b\b\b\b\b\b\b\b\b\b\b\b\b\b\b 41% 16677 - Dataset/Healthcare/Record/record_healthcare_7000041_2289.wav\b\b\b\b\b\b\b\b\b\b\b\b\b\b\b\b\b\b\b\b\b\b\b\b\b\b\b\b\b\b\b\b\b\b\b\b\b\b\b\b\b\b\b\b\b\b\b\b\b\b\b\b\b\b\b\b\b\b\b\b\b\b\b\b\b\b\b\b\b\b\b\b\b                                                                         \b\b\b\b\b\b\b\b\b\b\b\b\b\b\b\b\b\b\b\b\b\b\b\b\b\b\b\b\b\b\b\b\b\b\b\b\b\b\b\b\b\b\b\b\b\b\b\b\b\b\b\b\b\b\b\b\b\b\b\b\b\b\b\b\b\b\b\b\b\b\b\b\b 41% 16696 - Dataset/Healthcare/Record/record_healthcare_7000041_2463.wav\b\b\b\b\b\b\b\b\b\b\b\b\b\b\b\b\b\b\b\b\b\b\b\b\b\b\b\b\b\b\b\b\b\b\b\b\b\b\b\b\b\b\b\b\b\b\b\b\b\b\b\b\b\b\b\b\b\b\b\b\b\b\b\b\b\b\b\b\b\b\b\b\b                                                                         \b\b\b\b\b\b\b\b\b\b\b\b\b\b\b\b\b\b\b\b\b\b\b\b\b\b\b\b\b\b\b\b\b\b\b\b\b\b\b\b\b\b\b\b\b\b\b\b\b\b\b\b\b\b\b\b\b\b\b\b\b\b\b\b\b\b\b\b\b\b\b\b\b 41% 16714 - Dataset/Healthcare/Record/record_healthcare_7000041_350.wav\b\b\b\b\b\b\b\b\b\b\b\b\b\b\b\b\b\b\b\b\b\b\b\b\b\b\b\b\b\b\b\b\b\b\b\b\b\b\b\b\b\b\b\b\b\b\b\b\b\b\b\b\b\b\b\b\b\b\b\b\b\b\b\b\b\b\b\b\b\b\b\b                                                                        \b\b\b\b\b\b\b\b\b\b\b\b\b\b\b\b\b\b\b\b\b\b\b\b\b\b\b\b\b\b\b\b\b\b\b\b\b\b\b\b\b\b\b\b\b\b\b\b\b\b\b\b\b\b\b\b\b\b\b\b\b\b\b\b\b\b\b\b\b\b\b\b 41% 16732 - Dataset/Healthcare/Record/record_healthcare_7000041_475.wav\b\b\b\b\b\b\b\b\b\b\b\b\b\b\b\b\b\b\b\b\b\b\b\b\b\b\b\b\b\b\b\b\b\b\b\b\b\b\b\b\b\b\b\b\b\b\b\b\b\b\b\b\b\b\b\b\b\b\b\b\b\b\b\b\b\b\b\b\b\b\b\b                                                                        \b\b\b\b\b\b\b\b\b\b\b\b\b\b\b\b\b\b\b\b\b\b\b\b\b\b\b\b\b\b\b\b\b\b\b\b\b\b\b\b\b\b\b\b\b\b\b\b\b\b\b\b\b\b\b\b\b\b\b\b\b\b\b\b\b\b\b\b\b\b\b\b 41% 16750 - Dataset/Healthcare/Record/record_healthcare_7000041_601.wav\b\b\b\b\b\b\b\b\b\b\b\b\b\b\b\b\b\b\b\b\b\b\b\b\b\b\b\b\b\b\b\b\b\b\b\b\b\b\b\b\b\b\b\b\b\b\b\b\b\b\b\b\b\b\b\b\b\b\b\b\b\b\b\b\b\b\b\b\b\b\b\b                                                                        \b\b\b\b\b\b\b\b\b\b\b\b\b\b\b\b\b\b\b\b\b\b\b\b\b\b\b\b\b\b\b\b\b\b\b\b\b\b\b\b\b\b\b\b\b\b\b\b\b\b\b\b\b\b\b\b\b\b\b\b\b\b\b\b\b\b\b\b\b\b\b\b 41% 16768 - Dataset/Healthcare/Record/record_healthcare_7000041_717.wav\b\b\b\b\b\b\b\b\b\b\b\b\b\b\b\b\b\b\b\b\b\b\b\b\b\b\b\b\b\b\b\b\b\b\b\b\b\b\b\b\b\b\b\b\b\b\b\b\b\b\b\b\b\b\b\b\b\b\b\b\b\b\b\b\b\b\b\b\b\b\b\b                                                                        \b\b\b\b\b\b\b\b\b\b\b\b\b\b\b\b\b\b\b\b\b\b\b\b\b\b\b\b\b\b\b\b\b\b\b\b\b\b\b\b\b\b\b\b\b\b\b\b\b\b\b\b\b\b\b\b\b\b\b\b\b\b\b\b\b\b\b\b\b\b\b\b 41% 16785 - Dataset/Healthcare/Record/record_healthcare_7000041_82.wav\b\b\b\b\b\b\b\b\b\b\b\b\b\b\b\b\b\b\b\b\b\b\b\b\b\b\b\b\b\b\b\b\b\b\b\b\b\b\b\b\b\b\b\b\b\b\b\b\b\b\b\b\b\b\b\b\b\b\b\b\b\b\b\b\b\b\b\b\b\b\b                                                                       \b\b\b\b\b\b\b\b\b\b\b\b\b\b\b\b\b\b\b\b\b\b\b\b\b\b\b\b\b\b\b\b\b\b\b\b\b\b\b\b\b\b\b\b\b\b\b\b\b\b\b\b\b\b\b\b\b\b\b\b\b\b\b\b\b\b\b\b\b\b\b 42% 16803 - Dataset/Healthcare/Record/record_healthcare_7000041_959.wav\b\b\b\b\b\b\b\b\b\b\b\b\b\b\b\b\b\b\b\b\b\b\b\b\b\b\b\b\b\b\b\b\b\b\b\b\b\b\b\b\b\b\b\b\b\b\b\b\b\b\b\b\b\b\b\b\b\b\b\b\b\b\b\b\b\b\b\b\b\b\b\b                                                                        \b\b\b\b\b\b\b\b\b\b\b\b\b\b\b\b\b\b\b\b\b\b\b\b\b\b\b\b\b\b\b\b\b\b\b\b\b\b\b\b\b\b\b\b\b\b\b\b\b\b\b\b\b\b\b\b\b\b\b\b\b\b\b\b\b\b\b\b\b\b\b\b 42% 16824 - Dataset/Healthcare/Record/record_healthcare_7000042_1173.wav\b\b\b\b\b\b\b\b\b\b\b\b\b\b\b\b\b\b\b\b\b\b\b\b\b\b\b\b\b\b\b\b\b\b\b\b\b\b\b\b\b\b\b\b\b\b\b\b\b\b\b\b\b\b\b\b\b\b\b\b\b\b\b\b\b\b\b\b\b\b\b\b\b                                                                         \b\b\b\b\b\b\b\b\b\b\b\b\b\b\b\b\b\b\b\b\b\b\b\b\b\b\b\b\b\b\b\b\b\b\b\b\b\b\b\b\b\b\b\b\b\b\b\b\b\b\b\b\b\b\b\b\b\b\b\b\b\b\b\b\b\b\b\b\b\b\b\b\b 42% 16846 - Dataset/Healthcare/Record/record_healthcare_7000042_1352.wav\b\b\b\b\b\b\b\b\b\b\b\b\b\b\b\b\b\b\b\b\b\b\b\b\b\b\b\b\b\b\b\b\b\b\b\b\b\b\b\b\b\b\b\b\b\b\b\b\b\b\b\b\b\b\b\b\b\b\b\b\b\b\b\b\b\b\b\b\b\b\b\b\b                                                                         \b\b\b\b\b\b\b\b\b\b\b\b\b\b\b\b\b\b\b\b\b\b\b\b\b\b\b\b\b\b\b\b\b\b\b\b\b\b\b\b\b\b\b\b\b\b\b\b\b\b\b\b\b\b\b\b\b\b\b\b\b\b\b\b\b\b\b\b\b\b\b\b\b 42% 16865 - Dataset/Healthcare/Record/record_healthcare_7000042_1434.wav\b\b\b\b\b\b\b\b\b\b\b\b\b\b\b\b\b\b\b\b\b\b\b\b\b\b\b\b\b\b\b\b\b\b\b\b\b\b\b\b\b\b\b\b\b\b\b\b\b\b\b\b\b\b\b\b\b\b\b\b\b\b\b\b\b\b\b\b\b\b\b\b\b                                                                         \b\b\b\b\b\b\b\b\b\b\b\b\b\b\b\b\b\b\b\b\b\b\b\b\b\b\b\b\b\b\b\b\b\b\b\b\b\b\b\b\b\b\b\b\b\b\b\b\b\b\b\b\b\b\b\b\b\b\b\b\b\b\b\b\b\b\b\b\b\b\b\b\b 42% 16885 - Dataset/Healthcare/Record/record_healthcare_7000042_16.wav\b\b\b\b\b\b\b\b\b\b\b\b\b\b\b\b\b\b\b\b\b\b\b\b\b\b\b\b\b\b\b\b\b\b\b\b\b\b\b\b\b\b\b\b\b\b\b\b\b\b\b\b\b\b\b\b\b\b\b\b\b\b\b\b\b\b\b\b\b\b\b                                                                       \b\b\b\b\b\b\b\b\b\b\b\b\b\b\b\b\b\b\b\b\b\b\b\b\b\b\b\b\b\b\b\b\b\b\b\b\b\b\b\b\b\b\b\b\b\b\b\b\b\b\b\b\b\b\b\b\b\b\b\b\b\b\b\b\b\b\b\b\b\b\b 42% 16907 - Dataset/Healthcare/Record/record_healthcare_7000042_1775.wav\b\b\b\b\b\b\b\b\b\b\b\b\b\b\b\b\b\b\b\b\b\b\b\b\b\b\b\b\b\b\b\b\b\b\b\b\b\b\b\b\b\b\b\b\b\b\b\b\b\b\b\b\b\b\b\b\b\b\b\b\b\b\b\b\b\b\b\b\b\b\b\b\b                                                                         \b\b\b\b\b\b\b\b\b\b\b\b\b\b\b\b\b\b\b\b\b\b\b\b\b\b\b\b\b\b\b\b\b\b\b\b\b\b\b\b\b\b\b\b\b\b\b\b\b\b\b\b\b\b\b\b\b\b\b\b\b\b\b\b\b\b\b\b\b\b\b\b\b 42% 16928 - Dataset/Healthcare/Record/record_healthcare_7000042_1959.wav\b\b\b\b\b\b\b\b\b\b\b\b\b\b\b\b\b\b\b\b\b\b\b\b\b\b\b\b\b\b\b\b\b\b\b\b\b\b\b\b\b\b\b\b\b\b\b\b\b\b\b\b\b\b\b\b\b\b\b\b\b\b\b\b\b\b\b\b\b\b\b\b\b                                                                         \b\b\b\b\b\b\b\b\b\b\b\b\b\b\b\b\b\b\b\b\b\b\b\b\b\b\b\b\b\b\b\b\b\b\b\b\b\b\b\b\b\b\b\b\b\b\b\b\b\b\b\b\b\b\b\b\b\b\b\b\b\b\b\b\b\b\b\b\b\b\b\b\b 42% 16950 - Dataset/Healthcare/Record/record_healthcare_7000042_2079.wav\b\b\b\b\b\b\b\b\b\b\b\b\b\b\b\b\b\b\b\b\b\b\b\b\b\b\b\b\b\b\b\b\b\b\b\b\b\b\b\b\b\b\b\b\b\b\b\b\b\b\b\b\b\b\b\b\b\b\b\b\b\b\b\b\b\b\b\b\b\b\b\b\b                                                                         \b\b\b\b\b\b\b\b\b\b\b\b\b\b\b\b\b\b\b\b\b\b\b\b\b\b\b\b\b\b\b\b\b\b\b\b\b\b\b\b\b\b\b\b\b\b\b\b\b\b\b\b\b\b\b\b\b\b\b\b\b\b\b\b\b\b\b\b\b\b\b\b\b 42% 16971 - Dataset/Healthcare/Record/record_healthcare_7000042_2192.wav\b\b\b\b\b\b\b\b\b\b\b\b\b\b\b\b\b\b\b\b\b\b\b\b\b\b\b\b\b\b\b\b\b\b\b\b\b\b\b\b\b\b\b\b\b\b\b\b\b\b\b\b\b\b\b\b\b\b\b\b\b\b\b\b\b\b\b\b\b\b\b\b\b                                                                         \b\b\b\b\b\b\b\b\b\b\b\b\b\b\b\b\b\b\b\b\b\b\b\b\b\b\b\b\b\b\b\b\b\b\b\b\b\b\b\b\b\b\b\b\b\b\b\b\b\b\b\b\b\b\b\b\b\b\b\b\b\b\b\b\b\b\b\b\b\b\b\b\b 42% 16994 - Dataset/Healthcare/Record/record_healthcare_7000042_2417.wav\b\b\b\b\b\b\b\b\b\b\b\b\b\b\b\b\b\b\b\b\b\b\b\b\b\b\b\b\b\b\b\b\b\b\b\b\b\b\b\b\b\b\b\b\b\b\b\b\b\b\b\b\b\b\b\b\b\b\b\b\b\b\b\b\b\b\b\b\b\b\b\b\b                                                                         \b\b\b\b\b\b\b\b\b\b\b\b\b\b\b\b\b\b\b\b\b\b\b\b\b\b\b\b\b\b\b\b\b\b\b\b\b\b\b\b\b\b\b\b\b\b\b\b\b\b\b\b\b\b\b\b\b\b\b\b\b\b\b\b\b\b\b\b\b\b\b\b\b 42% 17015 - Dataset/Healthcare/Record/record_healthcare_7000042_329.wav\b\b\b\b\b\b\b\b\b\b\b\b\b\b\b\b\b\b\b\b\b\b\b\b\b\b\b\b\b\b\b\b\b\b\b\b\b\b\b\b\b\b\b\b\b\b\b\b\b\b\b\b\b\b\b\b\b\b\b\b\b\b\b\b\b\b\b\b\b\b\b\b                                                                        \b\b\b\b\b\b\b\b\b\b\b\b\b\b\b\b\b\b\b\b\b\b\b\b\b\b\b\b\b\b\b\b\b\b\b\b\b\b\b\b\b\b\b\b\b\b\b\b\b\b\b\b\b\b\b\b\b\b\b\b\b\b\b\b\b\b\b\b\b\b\b\b 42% 17036 - Dataset/Healthcare/Record/record_healthcare_7000042_480.wav\b\b\b\b\b\b\b\b\b\b\b\b\b\b\b\b\b\b\b\b\b\b\b\b\b\b\b\b\b\b\b\b\b\b\b\b\b\b\b\b\b\b\b\b\b\b\b\b\b\b\b\b\b\b\b\b\b\b\b\b\b\b\b\b\b\b\b\b\b\b\b\b                                                                        \b\b\b\b\b\b\b\b\b\b\b\b\b\b\b\b\b\b\b\b\b\b\b\b\b\b\b\b\b\b\b\b\b\b\b\b\b\b\b\b\b\b\b\b\b\b\b\b\b\b\b\b\b\b\b\b\b\b\b\b\b\b\b\b\b\b\b\b\b\b\b\b 42% 17058 - Dataset/Healthcare/Record/record_healthcare_7000042_637.wav\b\b\b\b\b\b\b\b\b\b\b\b\b\b\b\b\b\b\b\b\b\b\b\b\b\b\b\b\b\b\b\b\b\b\b\b\b\b\b\b\b\b\b\b\b\b\b\b\b\b\b\b\b\b\b\b\b\b\b\b\b\b\b\b\b\b\b\b\b\b\b\b                                                                        \b\b\b\b\b\b\b\b\b\b\b\b\b\b\b\b\b\b\b\b\b\b\b\b\b\b\b\b\b\b\b\b\b\b\b\b\b\b\b\b\b\b\b\b\b\b\b\b\b\b\b\b\b\b\b\b\b\b\b\b\b\b\b\b\b\b\b\b\b\b\b\b 42% 17080 - Dataset/Healthcare/Record/record_healthcare_7000042_827.wav\b\b\b\b\b\b\b\b\b\b\b\b\b\b\b\b\b\b\b\b\b\b\b\b\b\b\b\b\b\b\b\b\b\b\b\b\b\b\b\b\b\b\b\b\b\b\b\b\b\b\b\b\b\b\b\b\b\b\b\b\b\b\b\b\b\b\b\b\b\b\b\b                                                                        \b\b\b\b\b\b\b\b\b\b\b\b\b\b\b\b\b\b\b\b\b\b\b\b\b\b\b\b\b\b\b\b\b\b\b\b\b\b\b\b\b\b\b\b\b\b\b\b\b\b\b\b\b\b\b\b\b\b\b\b\b\b\b\b\b\b\b\b\b\b\b\b 42% 17102 - Dataset/Healthcare/Record/record_healthcare_7000042_983.wav\b\b\b\b\b\b\b\b\b\b\b\b\b\b\b\b\b\b\b\b\b\b\b\b\b\b\b\b\b\b\b\b\b\b\b\b\b\b\b\b\b\b\b\b\b\b\b\b\b\b\b\b\b\b\b\b\b\b\b\b\b\b\b\b\b\b\b\b\b\b\b\b                                                                        \b\b\b\b\b\b\b\b\b\b\b\b\b\b\b\b\b\b\b\b\b\b\b\b\b\b\b\b\b\b\b\b\b\b\b\b\b\b\b\b\b\b\b\b\b\b\b\b\b\b\b\b\b\b\b\b\b\b\b\b\b\b\b\b\b\b\b\b\b\b\b\b 42% 17120 - Dataset/Healthcare/Record/record_healthcare_7000043_109.wav\b\b\b\b\b\b\b\b\b\b\b\b\b\b\b\b\b\b\b\b\b\b\b\b\b\b\b\b\b\b\b\b\b\b\b\b\b\b\b\b\b\b\b\b\b\b\b\b\b\b\b\b\b\b\b\b\b\b\b\b\b\b\b\b\b\b\b\b\b\b\b\b                                                                        \b\b\b\b\b\b\b\b\b\b\b\b\b\b\b\b\b\b\b\b\b\b\b\b\b\b\b\b\b\b\b\b\b\b\b\b\b\b\b\b\b\b\b\b\b\b\b\b\b\b\b\b\b\b\b\b\b\b\b\b\b\b\b\b\b\b\b\b\b\b\b\b 43% 17137 - Dataset/Healthcare/Record/record_healthcare_7000043_12.wav\b\b\b\b\b\b\b\b\b\b\b\b\b\b\b\b\b\b\b\b\b\b\b\b\b\b\b\b\b\b\b\b\b\b\b\b\b\b\b\b\b\b\b\b\b\b\b\b\b\b\b\b\b\b\b\b\b\b\b\b\b\b\b\b\b\b\b\b\b\b\b                                                                       \b\b\b\b\b\b\b\b\b\b\b\b\b\b\b\b\b\b\b\b\b\b\b\b\b\b\b\b\b\b\b\b\b\b\b\b\b\b\b\b\b\b\b\b\b\b\b\b\b\b\b\b\b\b\b\b\b\b\b\b\b\b\b\b\b\b\b\b\b\b\b 43% 17155 - Dataset/Healthcare/Record/record_healthcare_7000043_1317.wav\b\b\b\b\b\b\b\b\b\b\b\b\b\b\b\b\b\b\b\b\b\b\b\b\b\b\b\b\b\b\b\b\b\b\b\b\b\b\b\b\b\b\b\b\b\b\b\b\b\b\b\b\b\b\b\b\b\b\b\b\b\b\b\b\b\b\b\b\b\b\b\b\b                                                                         \b\b\b\b\b\b\b\b\b\b\b\b\b\b\b\b\b\b\b\b\b\b\b\b\b\b\b\b\b\b\b\b\b\b\b\b\b\b\b\b\b\b\b\b\b\b\b\b\b\b\b\b\b\b\b\b\b\b\b\b\b\b\b\b\b\b\b\b\b\b\b\b\b 43% 17173 - Dataset/Healthcare/Record/record_healthcare_7000043_1449.wav\b\b\b\b\b\b\b\b\b\b\b\b\b\b\b\b\b\b\b\b\b\b\b\b\b\b\b\b\b\b\b\b\b\b\b\b\b\b\b\b\b\b\b\b\b\b\b\b\b\b\b\b\b\b\b\b\b\b\b\b\b\b\b\b\b\b\b\b\b\b\b\b\b                                                                         \b\b\b\b\b\b\b\b\b\b\b\b\b\b\b\b\b\b\b\b\b\b\b\b\b\b\b\b\b\b\b\b\b\b\b\b\b\b\b\b\b\b\b\b\b\b\b\b\b\b\b\b\b\b\b\b\b\b\b\b\b\b\b\b\b\b\b\b\b\b\b\b\b 43% 17190 - Dataset/Healthcare/Record/record_healthcare_7000043_1601.wav\b\b\b\b\b\b\b\b\b\b\b\b\b\b\b\b\b\b\b\b\b\b\b\b\b\b\b\b\b\b\b\b\b\b\b\b\b\b\b\b\b\b\b\b\b\b\b\b\b\b\b\b\b\b\b\b\b\b\b\b\b\b\b\b\b\b\b\b\b\b\b\b\b                                                                         \b\b\b\b\b\b\b\b\b\b\b\b\b\b\b\b\b\b\b\b\b\b\b\b\b\b\b\b\b\b\b\b\b\b\b\b\b\b\b\b\b\b\b\b\b\b\b\b\b\b\b\b\b\b\b\b\b\b\b\b\b\b\b\b\b\b\b\b\b\b\b\b\b 43% 17207 - Dataset/Healthcare/Record/record_healthcare_7000043_1765.wav\b\b\b\b\b\b\b\b\b\b\b\b\b\b\b\b\b\b\b\b\b\b\b\b\b\b\b\b\b\b\b\b\b\b\b\b\b\b\b\b\b\b\b\b\b\b\b\b\b\b\b\b\b\b\b\b\b\b\b\b\b\b\b\b\b\b\b\b\b\b\b\b\b                                                                         \b\b\b\b\b\b\b\b\b\b\b\b\b\b\b\b\b\b\b\b\b\b\b\b\b\b\b\b\b\b\b\b\b\b\b\b\b\b\b\b\b\b\b\b\b\b\b\b\b\b\b\b\b\b\b\b\b\b\b\b\b\b\b\b\b\b\b\b\b\b\b\b\b 43% 17224 - Dataset/Healthcare/Record/record_healthcare_7000043_1869.wav\b\b\b\b\b\b\b\b\b\b\b\b\b\b\b\b\b\b\b\b\b\b\b\b\b\b\b\b\b\b\b\b\b\b\b\b\b\b\b\b\b\b\b\b\b\b\b\b\b\b\b\b\b\b\b\b\b\b\b\b\b\b\b\b\b\b\b\b\b\b\b\b\b                                                                         \b\b\b\b\b\b\b\b\b\b\b\b\b\b\b\b\b\b\b\b\b\b\b\b\b\b\b\b\b\b\b\b\b\b\b\b\b\b\b\b\b\b\b\b\b\b\b\b\b\b\b\b\b\b\b\b\b\b\b\b\b\b\b\b\b\b\b\b\b\b\b\b\b 43% 17241 - Dataset/Healthcare/Record/record_healthcare_7000043_2008.wav\b\b\b\b\b\b\b\b\b\b\b\b\b\b\b\b\b\b\b\b\b\b\b\b\b\b\b\b\b\b\b\b\b\b\b\b\b\b\b\b\b\b\b\b\b\b\b\b\b\b\b\b\b\b\b\b\b\b\b\b\b\b\b\b\b\b\b\b\b\b\b\b\b                                                                         \b\b\b\b\b\b\b\b\b\b\b\b\b\b\b\b\b\b\b\b\b\b\b\b\b\b\b\b\b\b\b\b\b\b\b\b\b\b\b\b\b\b\b\b\b\b\b\b\b\b\b\b\b\b\b\b\b\b\b\b\b\b\b\b\b\b\b\b\b\b\b\b\b 43% 17258 - Dataset/Healthcare/Record/record_healthcare_7000043_2087.wav\b\b\b\b\b\b\b\b\b\b\b\b\b\b\b\b\b\b\b\b\b\b\b\b\b\b\b\b\b\b\b\b\b\b\b\b\b\b\b\b\b\b\b\b\b\b\b\b\b\b\b\b\b\b\b\b\b\b\b\b\b\b\b\b\b\b\b\b\b\b\b\b\b                                                                         \b\b\b\b\b\b\b\b\b\b\b\b\b\b\b\b\b\b\b\b\b\b\b\b\b\b\b\b\b\b\b\b\b\b\b\b\b\b\b\b\b\b\b\b\b\b\b\b\b\b\b\b\b\b\b\b\b\b\b\b\b\b\b\b\b\b\b\b\b\b\b\b\b 43% 17275 - Dataset/Healthcare/Record/record_healthcare_7000043_2253.wav\b\b\b\b\b\b\b\b\b\b\b\b\b\b\b\b\b\b\b\b\b\b\b\b\b\b\b\b\b\b\b\b\b\b\b\b\b\b\b\b\b\b\b\b\b\b\b\b\b\b\b\b\b\b\b\b\b\b\b\b\b\b\b\b\b\b\b\b\b\b\b\b\b                                                                         \b\b\b\b\b\b\b\b\b\b\b\b\b\b\b\b\b\b\b\b\b\b\b\b\b\b\b\b\b\b\b\b\b\b\b\b\b\b\b\b\b\b\b\b\b\b\b\b\b\b\b\b\b\b\b\b\b\b\b\b\b\b\b\b\b\b\b\b\b\b\b\b\b 43% 17292 - Dataset/Healthcare/Record/record_healthcare_7000043_2377.wav\b\b\b\b\b\b\b\b\b\b\b\b\b\b\b\b\b\b\b\b\b\b\b\b\b\b\b\b\b\b\b\b\b\b\b\b\b\b\b\b\b\b\b\b\b\b\b\b\b\b\b\b\b\b\b\b\b\b\b\b\b\b\b\b\b\b\b\b\b\b\b\b\b                                                                         \b\b\b\b\b\b\b\b\b\b\b\b\b\b\b\b\b\b\b\b\b\b\b\b\b\b\b\b\b\b\b\b\b\b\b\b\b\b\b\b\b\b\b\b\b\b\b\b\b\b\b\b\b\b\b\b\b\b\b\b\b\b\b\b\b\b\b\b\b\b\b\b\b 44% 17308 - Dataset/Healthcare/Record/record_healthcare_7000043_2498.wav\b\b\b\b\b\b\b\b\b\b\b\b\b\b\b\b\b\b\b\b\b\b\b\b\b\b\b\b\b\b\b\b\b\b\b\b\b\b\b\b\b\b\b\b\b\b\b\b\b\b\b\b\b\b\b\b\b\b\b\b\b\b\b\b\b\b\b\b\b\b\b\b\b                                                                         \b\b\b\b\b\b\b\b\b\b\b\b\b\b\b\b\b\b\b\b\b\b\b\b\b\b\b\b\b\b\b\b\b\b\b\b\b\b\b\b\b\b\b\b\b\b\b\b\b\b\b\b\b\b\b\b\b\b\b\b\b\b\b\b\b\b\b\b\b\b\b\b\b 44% 17325 - Dataset/Healthcare/Record/record_healthcare_7000043_340.wav\b\b\b\b\b\b\b\b\b\b\b\b\b\b\b\b\b\b\b\b\b\b\b\b\b\b\b\b\b\b\b\b\b\b\b\b\b\b\b\b\b\b\b\b\b\b\b\b\b\b\b\b\b\b\b\b\b\b\b\b\b\b\b\b\b\b\b\b\b\b\b\b                                                                        \b\b\b\b\b\b\b\b\b\b\b\b\b\b\b\b\b\b\b\b\b\b\b\b\b\b\b\b\b\b\b\b\b\b\b\b\b\b\b\b\b\b\b\b\b\b\b\b\b\b\b\b\b\b\b\b\b\b\b\b\b\b\b\b\b\b\b\b\b\b\b\b 44% 17342 - Dataset/Healthcare/Record/record_healthcare_7000043_482.wav\b\b\b\b\b\b\b\b\b\b\b\b\b\b\b\b\b\b\b\b\b\b\b\b\b\b\b\b\b\b\b\b\b\b\b\b\b\b\b\b\b\b\b\b\b\b\b\b\b\b\b\b\b\b\b\b\b\b\b\b\b\b\b\b\b\b\b\b\b\b\b\b                                                                        \b\b\b\b\b\b\b\b\b\b\b\b\b\b\b\b\b\b\b\b\b\b\b\b\b\b\b\b\b\b\b\b\b\b\b\b\b\b\b\b\b\b\b\b\b\b\b\b\b\b\b\b\b\b\b\b\b\b\b\b\b\b\b\b\b\b\b\b\b\b\b\b 44% 17360 - Dataset/Healthcare/Record/record_healthcare_7000043_630.wav\b\b\b\b\b\b\b\b\b\b\b\b\b\b\b\b\b\b\b\b\b\b\b\b\b\b\b\b\b\b\b\b\b\b\b\b\b\b\b\b\b\b\b\b\b\b\b\b\b\b\b\b\b\b\b\b\b\b\b\b\b\b\b\b\b\b\b\b\b\b\b\b                                                                        \b\b\b\b\b\b\b\b\b\b\b\b\b\b\b\b\b\b\b\b\b\b\b\b\b\b\b\b\b\b\b\b\b\b\b\b\b\b\b\b\b\b\b\b\b\b\b\b\b\b\b\b\b\b\b\b\b\b\b\b\b\b\b\b\b\b\b\b\b\b\b\b 44% 17375 - Dataset/Healthcare/Record/record_healthcare_7000043_781.wav\b\b\b\b\b\b\b\b\b\b\b\b\b\b\b\b\b\b\b\b\b\b\b\b\b\b\b\b\b\b\b\b\b\b\b\b\b\b\b\b\b\b\b\b\b\b\b\b\b\b\b\b\b\b\b\b\b\b\b\b\b\b\b\b\b\b\b\b\b\b\b\b                                                                        \b\b\b\b\b\b\b\b\b\b\b\b\b\b\b\b\b\b\b\b\b\b\b\b\b\b\b\b\b\b\b\b\b\b\b\b\b\b\b\b\b\b\b\b\b\b\b\b\b\b\b\b\b\b\b\b\b\b\b\b\b\b\b\b\b\b\b\b\b\b\b\b 44% 17392 - Dataset/Healthcare/Record/record_healthcare_7000043_912.wav\b\b\b\b\b\b\b\b\b\b\b\b\b\b\b\b\b\b\b\b\b\b\b\b\b\b\b\b\b\b\b\b\b\b\b\b\b\b\b\b\b\b\b\b\b\b\b\b\b\b\b\b\b\b\b\b\b\b\b\b\b\b\b\b\b\b\b\b\b\b\b\b                                                                        \b\b\b\b\b\b\b\b\b\b\b\b\b\b\b\b\b\b\b\b\b\b\b\b\b\b\b\b\b\b\b\b\b\b\b\b\b\b\b\b\b\b\b\b\b\b\b\b\b\b\b\b\b\b\b\b\b\b\b\b\b\b\b\b\b\b\b\b\b\b\b\b 44% 17409 - Dataset/Healthcare/Record/record_healthcare_7000044_1030.wav\b\b\b\b\b\b\b\b\b\b\b\b\b\b\b\b\b\b\b\b\b\b\b\b\b\b\b\b\b\b\b\b\b\b\b\b\b\b\b\b\b\b\b\b\b\b\b\b\b\b\b\b\b\b\b\b\b\b\b\b\b\b\b\b\b\b\b\b\b\b\b\b\b                                                                         \b\b\b\b\b\b\b\b\b\b\b\b\b\b\b\b\b\b\b\b\b\b\b\b\b\b\b\b\b\b\b\b\b\b\b\b\b\b\b\b\b\b\b\b\b\b\b\b\b\b\b\b\b\b\b\b\b\b\b\b\b\b\b\b\b\b\b\b\b\b\b\b\b 44% 17428 - Dataset/Healthcare/Record/record_healthcare_7000044_1160.wav\b\b\b\b\b\b\b\b\b\b\b\b\b\b\b\b\b\b\b\b\b\b\b\b\b\b\b\b\b\b\b\b\b\b\b\b\b\b\b\b\b\b\b\b\b\b\b\b\b\b\b\b\b\b\b\b\b\b\b\b\b\b\b\b\b\b\b\b\b\b\b\b\b                                                                         \b\b\b\b\b\b\b\b\b\b\b\b\b\b\b\b\b\b\b\b\b\b\b\b\b\b\b\b\b\b\b\b\b\b\b\b\b\b\b\b\b\b\b\b\b\b\b\b\b\b\b\b\b\b\b\b\b\b\b\b\b\b\b\b\b\b\b\b\b\b\b\b\b 44% 17447\b\b\b\b\b\b\b\b\b\b          \b\b\b\b\b\b\b\b\b\b 44% 17464 - Dataset/Healthcare/Record/record_healthcare_7000044_1467.wav\b\b\b\b\b\b\b\b\b\b\b\b\b\b\b\b\b\b\b\b\b\b\b\b\b\b\b\b\b\b\b\b\b\b\b\b\b\b\b\b\b\b\b\b\b\b\b\b\b\b\b\b\b\b\b\b\b\b\b\b\b\b\b\b\b\b\b\b\b\b\b\b\b                                                                         \b\b\b\b\b\b\b\b\b\b\b\b\b\b\b\b\b\b\b\b\b\b\b\b\b\b\b\b\b\b\b\b\b\b\b\b\b\b\b\b\b\b\b\b\b\b\b\b\b\b\b\b\b\b\b\b\b\b\b\b\b\b\b\b\b\b\b\b\b\b\b\b\b 45% 17481 - Dataset/Healthcare/Record/record_healthcare_7000044_1588.wav\b\b\b\b\b\b\b\b\b\b\b\b\b\b\b\b\b\b\b\b\b\b\b\b\b\b\b\b\b\b\b\b\b\b\b\b\b\b\b\b\b\b\b\b\b\b\b\b\b\b\b\b\b\b\b\b\b\b\b\b\b\b\b\b\b\b\b\b\b\b\b\b\b                                                                         \b\b\b\b\b\b\b\b\b\b\b\b\b\b\b\b\b\b\b\b\b\b\b\b\b\b\b\b\b\b\b\b\b\b\b\b\b\b\b\b\b\b\b\b\b\b\b\b\b\b\b\b\b\b\b\b\b\b\b\b\b\b\b\b\b\b\b\b\b\b\b\b\b 45% 17498 - Dataset/Healthcare/Record/record_healthcare_7000044_1674.wav\b\b\b\b\b\b\b\b\b\b\b\b\b\b\b\b\b\b\b\b\b\b\b\b\b\b\b\b\b\b\b\b\b\b\b\b\b\b\b\b\b\b\b\b\b\b\b\b\b\b\b\b\b\b\b\b\b\b\b\b\b\b\b\b\b\b\b\b\b\b\b\b\b                                                                         \b\b\b\b\b\b\b\b\b\b\b\b\b\b\b\b\b\b\b\b\b\b\b\b\b\b\b\b\b\b\b\b\b\b\b\b\b\b\b\b\b\b\b\b\b\b\b\b\b\b\b\b\b\b\b\b\b\b\b\b\b\b\b\b\b\b\b\b\b\b\b\b\b 45% 17515 - Dataset/Healthcare/Record/record_healthcare_7000044_1760.wav\b\b\b\b\b\b\b\b\b\b\b\b\b\b\b\b\b\b\b\b\b\b\b\b\b\b\b\b\b\b\b\b\b\b\b\b\b\b\b\b\b\b\b\b\b\b\b\b\b\b\b\b\b\b\b\b\b\b\b\b\b\b\b\b\b\b\b\b\b\b\b\b\b                                                                         \b\b\b\b\b\b\b\b\b\b\b\b\b\b\b\b\b\b\b\b\b\b\b\b\b\b\b\b\b\b\b\b\b\b\b\b\b\b\b\b\b\b\b\b\b\b\b\b\b\b\b\b\b\b\b\b\b\b\b\b\b\b\b\b\b\b\b\b\b\b\b\b\b 45% 17533 - Dataset/Healthcare/Record/record_healthcare_7000044_1925.wav\b\b\b\b\b\b\b\b\b\b\b\b\b\b\b\b\b\b\b\b\b\b\b\b\b\b\b\b\b\b\b\b\b\b\b\b\b\b\b\b\b\b\b\b\b\b\b\b\b\b\b\b\b\b\b\b\b\b\b\b\b\b\b\b\b\b\b\b\b\b\b\b\b                                                                         \b\b\b\b\b\b\b\b\b\b\b\b\b\b\b\b\b\b\b\b\b\b\b\b\b\b\b\b\b\b\b\b\b\b\b\b\b\b\b\b\b\b\b\b\b\b\b\b\b\b\b\b\b\b\b\b\b\b\b\b\b\b\b\b\b\b\b\b\b\b\b\b\b 45% 17551 - Dataset/Healthcare/Record/record_healthcare_7000044_2037.wav\b\b\b\b\b\b\b\b\b\b\b\b\b\b\b\b\b\b\b\b\b\b\b\b\b\b\b\b\b\b\b\b\b\b\b\b\b\b\b\b\b\b\b\b\b\b\b\b\b\b\b\b\b\b\b\b\b\b\b\b\b\b\b\b\b\b\b\b\b\b\b\b\b                                                                         \b\b\b\b\b\b\b\b\b\b\b\b\b\b\b\b\b\b\b\b\b\b\b\b\b\b\b\b\b\b\b\b\b\b\b\b\b\b\b\b\b\b\b\b\b\b\b\b\b\b\b\b\b\b\b\b\b\b\b\b\b\b\b\b\b\b\b\b\b\b\b\b\b 45% 17569 - Dataset/Healthcare/Record/record_healthcare_7000044_2149.wav\b\b\b\b\b\b\b\b\b\b\b\b\b\b\b\b\b\b\b\b\b\b\b\b\b\b\b\b\b\b\b\b\b\b\b\b\b\b\b\b\b\b\b\b\b\b\b\b\b\b\b\b\b\b\b\b\b\b\b\b\b\b\b\b\b\b\b\b\b\b\b\b\b                                                                         \b\b\b\b\b\b\b\b\b\b\b\b\b\b\b\b\b\b\b\b\b\b\b\b\b\b\b\b\b\b\b\b\b\b\b\b\b\b\b\b\b\b\b\b\b\b\b\b\b\b\b\b\b\b\b\b\b\b\b\b\b\b\b\b\b\b\b\b\b\b\b\b\b 45% 17588 - Dataset/Healthcare/Record/record_healthcare_7000044_2303.wav\b\b\b\b\b\b\b\b\b\b\b\b\b\b\b\b\b\b\b\b\b\b\b\b\b\b\b\b\b\b\b\b\b\b\b\b\b\b\b\b\b\b\b\b\b\b\b\b\b\b\b\b\b\b\b\b\b\b\b\b\b\b\b\b\b\b\b\b\b\b\b\b\b                                                                         \b\b\b\b\b\b\b\b\b\b\b\b\b\b\b\b\b\b\b\b\b\b\b\b\b\b\b\b\b\b\b\b\b\b\b\b\b\b\b\b\b\b\b\b\b\b\b\b\b\b\b\b\b\b\b\b\b\b\b\b\b\b\b\b\b\b\b\b\b\b\b\b\b 45% 17606 - Dataset/Healthcare/Record/record_healthcare_7000044_2420.wav\b\b\b\b\b\b\b\b\b\b\b\b\b\b\b\b\b\b\b\b\b\b\b\b\b\b\b\b\b\b\b\b\b\b\b\b\b\b\b\b\b\b\b\b\b\b\b\b\b\b\b\b\b\b\b\b\b\b\b\b\b\b\b\b\b\b\b\b\b\b\b\b\b                                                                         \b\b\b\b\b\b\b\b\b\b\b\b\b\b\b\b\b\b\b\b\b\b\b\b\b\b\b\b\b\b\b\b\b\b\b\b\b\b\b\b\b\b\b\b\b\b\b\b\b\b\b\b\b\b\b\b\b\b\b\b\b\b\b\b\b\b\b\b\b\b\b\b\b 45% 17623 - Dataset/Healthcare/Record/record_healthcare_7000044_346.wav\b\b\b\b\b\b\b\b\b\b\b\b\b\b\b\b\b\b\b\b\b\b\b\b\b\b\b\b\b\b\b\b\b\b\b\b\b\b\b\b\b\b\b\b\b\b\b\b\b\b\b\b\b\b\b\b\b\b\b\b\b\b\b\b\b\b\b\b\b\b\b\b                                                                        \b\b\b\b\b\b\b\b\b\b\b\b\b\b\b\b\b\b\b\b\b\b\b\b\b\b\b\b\b\b\b\b\b\b\b\b\b\b\b\b\b\b\b\b\b\b\b\b\b\b\b\b\b\b\b\b\b\b\b\b\b\b\b\b\b\b\b\b\b\b\b\b 46% 17640 - Dataset/Healthcare/Record/record_healthcare_7000044_487.wav\b\b\b\b\b\b\b\b\b\b\b\b\b\b\b\b\b\b\b\b\b\b\b\b\b\b\b\b\b\b\b\b\b\b\b\b\b\b\b\b\b\b\b\b\b\b\b\b\b\b\b\b\b\b\b\b\b\b\b\b\b\b\b\b\b\b\b\b\b\b\b\b                                                                        \b\b\b\b\b\b\b\b\b\b\b\b\b\b\b\b\b\b\b\b\b\b\b\b\b\b\b\b\b\b\b\b\b\b\b\b\b\b\b\b\b\b\b\b\b\b\b\b\b\b\b\b\b\b\b\b\b\b\b\b\b\b\b\b\b\b\b\b\b\b\b\b 46% 17657 - Dataset/Healthcare/Record/record_healthcare_7000044_6.wav\b\b\b\b\b\b\b\b\b\b\b\b\b\b\b\b\b\b\b\b\b\b\b\b\b\b\b\b\b\b\b\b\b\b\b\b\b\b\b\b\b\b\b\b\b\b\b\b\b\b\b\b\b\b\b\b\b\b\b\b\b\b\b\b\b\b\b\b\b\b                                                                      \b\b\b\b\b\b\b\b\b\b\b\b\b\b\b\b\b\b\b\b\b\b\b\b\b\b\b\b\b\b\b\b\b\b\b\b\b\b\b\b\b\b\b\b\b\b\b\b\b\b\b\b\b\b\b\b\b\b\b\b\b\b\b\b\b\b\b\b\b\b 46% 17674 - Dataset/Healthcare/Record/record_healthcare_7000044_757.wav\b\b\b\b\b\b\b\b\b\b\b\b\b\b\b\b\b\b\b\b\b\b\b\b\b\b\b\b\b\b\b\b\b\b\b\b\b\b\b\b\b\b\b\b\b\b\b\b\b\b\b\b\b\b\b\b\b\b\b\b\b\b\b\b\b\b\b\b\b\b\b\b                                                                        \b\b\b\b\b\b\b\b\b\b\b\b\b\b\b\b\b\b\b\b\b\b\b\b\b\b\b\b\b\b\b\b\b\b\b\b\b\b\b\b\b\b\b\b\b\b\b\b\b\b\b\b\b\b\b\b\b\b\b\b\b\b\b\b\b\b\b\b\b\b\b\b 46% 17691 - Dataset/Healthcare/Record/record_healthcare_7000044_870.wav\b\b\b\b\b\b\b\b\b\b\b\b\b\b\b\b\b\b\b\b\b\b\b\b\b\b\b\b\b\b\b\b\b\b\b\b\b\b\b\b\b\b\b\b\b\b\b\b\b\b\b\b\b\b\b\b\b\b\b\b\b\b\b\b\b\b\b\b\b\b\b\b                                                                        \b\b\b\b\b\b\b\b\b\b\b\b\b\b\b\b\b\b\b\b\b\b\b\b\b\b\b\b\b\b\b\b\b\b\b\b\b\b\b\b\b\b\b\b\b\b\b\b\b\b\b\b\b\b\b\b\b\b\b\b\b\b\b\b\b\b\b\b\b\b\b\b 46% 17710 - Dataset/Healthcare/Record/record_healthcare_7000050_1027.wav\b\b\b\b\b\b\b\b\b\b\b\b\b\b\b\b\b\b\b\b\b\b\b\b\b\b\b\b\b\b\b\b\b\b\b\b\b\b\b\b\b\b\b\b\b\b\b\b\b\b\b\b\b\b\b\b\b\b\b\b\b\b\b\b\b\b\b\b\b\b\b\b\b                                                                         \b\b\b\b\b\b\b\b\b\b\b\b\b\b\b\b\b\b\b\b\b\b\b\b\b\b\b\b\b\b\b\b\b\b\b\b\b\b\b\b\b\b\b\b\b\b\b\b\b\b\b\b\b\b\b\b\b\b\b\b\b\b\b\b\b\b\b\b\b\b\b\b\b 46% 17730 - Dataset/Healthcare/Record/record_healthcare_7000050_1169.wav\b\b\b\b\b\b\b\b\b\b\b\b\b\b\b\b\b\b\b\b\b\b\b\b\b\b\b\b\b\b\b\b\b\b\b\b\b\b\b\b\b\b\b\b\b\b\b\b\b\b\b\b\b\b\b\b\b\b\b\b\b\b\b\b\b\b\b\b\b\b\b\b\b                                                                         \b\b\b\b\b\b\b\b\b\b\b\b\b\b\b\b\b\b\b\b\b\b\b\b\b\b\b\b\b\b\b\b\b\b\b\b\b\b\b\b\b\b\b\b\b\b\b\b\b\b\b\b\b\b\b\b\b\b\b\b\b\b\b\b\b\b\b\b\b\b\b\b\b 46% 17749 - Dataset/Healthcare/Record/record_healthcare_7000050_1296.wav\b\b\b\b\b\b\b\b\b\b\b\b\b\b\b\b\b\b\b\b\b\b\b\b\b\b\b\b\b\b\b\b\b\b\b\b\b\b\b\b\b\b\b\b\b\b\b\b\b\b\b\b\b\b\b\b\b\b\b\b\b\b\b\b\b\b\b\b\b\b\b\b\b                                                                         \b\b\b\b\b\b\b\b\b\b\b\b\b\b\b\b\b\b\b\b\b\b\b\b\b\b\b\b\b\b\b\b\b\b\b\b\b\b\b\b\b\b\b\b\b\b\b\b\b\b\b\b\b\b\b\b\b\b\b\b\b\b\b\b\b\b\b\b\b\b\b\b\b 46% 17768 - Dataset/Healthcare/Record/record_healthcare_7000050_1469.wav\b\b\b\b\b\b\b\b\b\b\b\b\b\b\b\b\b\b\b\b\b\b\b\b\b\b\b\b\b\b\b\b\b\b\b\b\b\b\b\b\b\b\b\b\b\b\b\b\b\b\b\b\b\b\b\b\b\b\b\b\b\b\b\b\b\b\b\b\b\b\b\b\b                                                                         \b\b\b\b\b\b\b\b\b\b\b\b\b\b\b\b\b\b\b\b\b\b\b\b\b\b\b\b\b\b\b\b\b\b\b\b\b\b\b\b\b\b\b\b\b\b\b\b\b\b\b\b\b\b\b\b\b\b\b\b\b\b\b\b\b\b\b\b\b\b\b\b\b 46% 17786 - Dataset/Healthcare/Record/record_healthcare_7000050_1655.wav\b\b\b\b\b\b\b\b\b\b\b\b\b\b\b\b\b\b\b\b\b\b\b\b\b\b\b\b\b\b\b\b\b\b\b\b\b\b\b\b\b\b\b\b\b\b\b\b\b\b\b\b\b\b\b\b\b\b\b\b\b\b\b\b\b\b\b\b\b\b\b\b\b                                                                         \b\b\b\b\b\b\b\b\b\b\b\b\b\b\b\b\b\b\b\b\b\b\b\b\b\b\b\b\b\b\b\b\b\b\b\b\b\b\b\b\b\b\b\b\b\b\b\b\b\b\b\b\b\b\b\b\b\b\b\b\b\b\b\b\b\b\b\b\b\b\b\b\b 46% 17805 - Dataset/Healthcare/Record/record_healthcare_7000050_1764.wav\b\b\b\b\b\b\b\b\b\b\b\b\b\b\b\b\b\b\b\b\b\b\b\b\b\b\b\b\b\b\b\b\b\b\b\b\b\b\b\b\b\b\b\b\b\b\b\b\b\b\b\b\b\b\b\b\b\b\b\b\b\b\b\b\b\b\b\b\b\b\b\b\b                                                                         \b\b\b\b\b\b\b\b\b\b\b\b\b\b\b\b\b\b\b\b\b\b\b\b\b\b\b\b\b\b\b\b\b\b\b\b\b\b\b\b\b\b\b\b\b\b\b\b\b\b\b\b\b\b\b\b\b\b\b\b\b\b\b\b\b\b\b\b\b\b\b\b\b 46% 17824 - Dataset/Healthcare/Record/record_healthcare_7000050_1926.wav\b\b\b\b\b\b\b\b\b\b\b\b\b\b\b\b\b\b\b\b\b\b\b\b\b\b\b\b\b\b\b\b\b\b\b\b\b\b\b\b\b\b\b\b\b\b\b\b\b\b\b\b\b\b\b\b\b\b\b\b\b\b\b\b\b\b\b\b\b\b\b\b\b                                                                         \b\b\b\b\b\b\b\b\b\b\b\b\b\b\b\b\b\b\b\b\b\b\b\b\b\b\b\b\b\b\b\b\b\b\b\b\b\b\b\b\b\b\b\b\b\b\b\b\b\b\b\b\b\b\b\b\b\b\b\b\b\b\b\b\b\b\b\b\b\b\b\b\b 46% 17844 - Dataset/Healthcare/Record/record_healthcare_7000050_2082.wav\b\b\b\b\b\b\b\b\b\b\b\b\b\b\b\b\b\b\b\b\b\b\b\b\b\b\b\b\b\b\b\b\b\b\b\b\b\b\b\b\b\b\b\b\b\b\b\b\b\b\b\b\b\b\b\b\b\b\b\b\b\b\b\b\b\b\b\b\b\b\b\b\b                                                                         \b\b\b\b\b\b\b\b\b\b\b\b\b\b\b\b\b\b\b\b\b\b\b\b\b\b\b\b\b\b\b\b\b\b\b\b\b\b\b\b\b\b\b\b\b\b\b\b\b\b\b\b\b\b\b\b\b\b\b\b\b\b\b\b\b\b\b\b\b\b\b\b\b 47% 17859 - Dataset/Healthcare/Record/record_healthcare_7000050_2215.wav\b\b\b\b\b\b\b\b\b\b\b\b\b\b\b\b\b\b\b\b\b\b\b\b\b\b\b\b\b\b\b\b\b\b\b\b\b\b\b\b\b\b\b\b\b\b\b\b\b\b\b\b\b\b\b\b\b\b\b\b\b\b\b\b\b\b\b\b\b\b\b\b\b                                                                         \b\b\b\b\b\b\b\b\b\b\b\b\b\b\b\b\b\b\b\b\b\b\b\b\b\b\b\b\b\b\b\b\b\b\b\b\b\b\b\b\b\b\b\b\b\b\b\b\b\b\b\b\b\b\b\b\b\b\b\b\b\b\b\b\b\b\b\b\b\b\b\b\b 47% 17877 - Dataset/Healthcare/Record/record_healthcare_7000050_2268.wav\b\b\b\b\b\b\b\b\b\b\b\b\b\b\b\b\b\b\b\b\b\b\b\b\b\b\b\b\b\b\b\b\b\b\b\b\b\b\b\b\b\b\b\b\b\b\b\b\b\b\b\b\b\b\b\b\b\b\b\b\b\b\b\b\b\b\b\b\b\b\b\b\b                                                                         \b\b\b\b\b\b\b\b\b\b\b\b\b\b\b\b\b\b\b\b\b\b\b\b\b\b\b\b\b\b\b\b\b\b\b\b\b\b\b\b\b\b\b\b\b\b\b\b\b\b\b\b\b\b\b\b\b\b\b\b\b\b\b\b\b\b\b\b\b\b\b\b\b 47% 17895 - Dataset/Healthcare/Record/record_healthcare_7000050_2418.wav\b\b\b\b\b\b\b\b\b\b\b\b\b\b\b\b\b\b\b\b\b\b\b\b\b\b\b\b\b\b\b\b\b\b\b\b\b\b\b\b\b\b\b\b\b\b\b\b\b\b\b\b\b\b\b\b\b\b\b\b\b\b\b\b\b\b\b\b\b\b\b\b\b                                                                         \b\b\b\b\b\b\b\b\b\b\b\b\b\b\b\b\b\b\b\b\b\b\b\b\b\b\b\b\b\b\b\b\b\b\b\b\b\b\b\b\b\b\b\b\b\b\b\b\b\b\b\b\b\b\b\b\b\b\b\b\b\b\b\b\b\b\b\b\b\b\b\b\b 47% 17913 - Dataset/Healthcare/Record/record_healthcare_7000050_292.wav\b\b\b\b\b\b\b\b\b\b\b\b\b\b\b\b\b\b\b\b\b\b\b\b\b\b\b\b\b\b\b\b\b\b\b\b\b\b\b\b\b\b\b\b\b\b\b\b\b\b\b\b\b\b\b\b\b\b\b\b\b\b\b\b\b\b\b\b\b\b\b\b                                                                        \b\b\b\b\b\b\b\b\b\b\b\b\b\b\b\b\b\b\b\b\b\b\b\b\b\b\b\b\b\b\b\b\b\b\b\b\b\b\b\b\b\b\b\b\b\b\b\b\b\b\b\b\b\b\b\b\b\b\b\b\b\b\b\b\b\b\b\b\b\b\b\b 47% 17931 - Dataset/Healthcare/Record/record_healthcare_7000050_432.wav\b\b\b\b\b\b\b\b\b\b\b\b\b\b\b\b\b\b\b\b\b\b\b\b\b\b\b\b\b\b\b\b\b\b\b\b\b\b\b\b\b\b\b\b\b\b\b\b\b\b\b\b\b\b\b\b\b\b\b\b\b\b\b\b\b\b\b\b\b\b\b\b                                                                        \b\b\b\b\b\b\b\b\b\b\b\b\b\b\b\b\b\b\b\b\b\b\b\b\b\b\b\b\b\b\b\b\b\b\b\b\b\b\b\b\b\b\b\b\b\b\b\b\b\b\b\b\b\b\b\b\b\b\b\b\b\b\b\b\b\b\b\b\b\b\b\b 47% 17949 - Dataset/Healthcare/Record/record_healthcare_7000050_566.wav\b\b\b\b\b\b\b\b\b\b\b\b\b\b\b\b\b\b\b\b\b\b\b\b\b\b\b\b\b\b\b\b\b\b\b\b\b\b\b\b\b\b\b\b\b\b\b\b\b\b\b\b\b\b\b\b\b\b\b\b\b\b\b\b\b\b\b\b\b\b\b\b                                                                        \b\b\b\b\b\b\b\b\b\b\b\b\b\b\b\b\b\b\b\b\b\b\b\b\b\b\b\b\b\b\b\b\b\b\b\b\b\b\b\b\b\b\b\b\b\b\b\b\b\b\b\b\b\b\b\b\b\b\b\b\b\b\b\b\b\b\b\b\b\b\b\b 47% 17967 - Dataset/Healthcare/Record/record_healthcare_7000050_695.wav\b\b\b\b\b\b\b\b\b\b\b\b\b\b\b\b\b\b\b\b\b\b\b\b\b\b\b\b\b\b\b\b\b\b\b\b\b\b\b\b\b\b\b\b\b\b\b\b\b\b\b\b\b\b\b\b\b\b\b\b\b\b\b\b\b\b\b\b\b\b\b\b                                                                        \b\b\b\b\b\b\b\b\b\b\b\b\b\b\b\b\b\b\b\b\b\b\b\b\b\b\b\b\b\b\b\b\b\b\b\b\b\b\b\b\b\b\b\b\b\b\b\b\b\b\b\b\b\b\b\b\b\b\b\b\b\b\b\b\b\b\b\b\b\b\b\b 47% 17985 - Dataset/Healthcare/Record/record_healthcare_7000050_805.wav\b\b\b\b\b\b\b\b\b\b\b\b\b\b\b\b\b\b\b\b\b\b\b\b\b\b\b\b\b\b\b\b\b\b\b\b\b\b\b\b\b\b\b\b\b\b\b\b\b\b\b\b\b\b\b\b\b\b\b\b\b\b\b\b\b\b\b\b\b\b\b\b                                                                        \b\b\b\b\b\b\b\b\b\b\b\b\b\b\b\b\b\b\b\b\b\b\b\b\b\b\b\b\b\b\b\b\b\b\b\b\b\b\b\b\b\b\b\b\b\b\b\b\b\b\b\b\b\b\b\b\b\b\b\b\b\b\b\b\b\b\b\b\b\b\b\b 47% 18004 - Dataset/Healthcare/Record/record_healthcare_7000050_965.wav\b\b\b\b\b\b\b\b\b\b\b\b\b\b\b\b\b\b\b\b\b\b\b\b\b\b\b\b\b\b\b\b\b\b\b\b\b\b\b\b\b\b\b\b\b\b\b\b\b\b\b\b\b\b\b\b\b\b\b\b\b\b\b\b\b\b\b\b\b\b\b\b                                                                        \b\b\b\b\b\b\b\b\b\b\b\b\b\b\b\b\b\b\b\b\b\b\b\b\b\b\b\b\b\b\b\b\b\b\b\b\b\b\b\b\b\b\b\b\b\b\b\b\b\b\b\b\b\b\b\b\b\b\b\b\b\b\b\b\b\b\b\b\b\b\b\b 47% 18022 - Dataset/Healthcare/Record/record_healthcare_7000051_1113.wav\b\b\b\b\b\b\b\b\b\b\b\b\b\b\b\b\b\b\b\b\b\b\b\b\b\b\b\b\b\b\b\b\b\b\b\b\b\b\b\b\b\b\b\b\b\b\b\b\b\b\b\b\b\b\b\b\b\b\b\b\b\b\b\b\b\b\b\b\b\b\b\b\b                                                                         \b\b\b\b\b\b\b\b\b\b\b\b\b\b\b\b\b\b\b\b\b\b\b\b\b\b\b\b\b\b\b\b\b\b\b\b\b\b\b\b\b\b\b\b\b\b\b\b\b\b\b\b\b\b\b\b\b\b\b\b\b\b\b\b\b\b\b\b\b\b\b\b\b 47% 18038 - Dataset/Healthcare/Record/record_healthcare_7000051_1220.wav\b\b\b\b\b\b\b\b\b\b\b\b\b\b\b\b\b\b\b\b\b\b\b\b\b\b\b\b\b\b\b\b\b\b\b\b\b\b\b\b\b\b\b\b\b\b\b\b\b\b\b\b\b\b\b\b\b\b\b\b\b\b\b\b\b\b\b\b\b\b\b\b\b                                                                         \b\b\b\b\b\b\b\b\b\b\b\b\b\b\b\b\b\b\b\b\b\b\b\b\b\b\b\b\b\b\b\b\b\b\b\b\b\b\b\b\b\b\b\b\b\b\b\b\b\b\b\b\b\b\b\b\b\b\b\b\b\b\b\b\b\b\b\b\b\b\b\b\b 47% 18055 - Dataset/Healthcare/Record/record_healthcare_7000051_139.wav\b\b\b\b\b\b\b\b\b\b\b\b\b\b\b\b\b\b\b\b\b\b\b\b\b\b\b\b\b\b\b\b\b\b\b\b\b\b\b\b\b\b\b\b\b\b\b\b\b\b\b\b\b\b\b\b\b\b\b\b\b\b\b\b\b\b\b\b\b\b\b\b                                                                        \b\b\b\b\b\b\b\b\b\b\b\b\b\b\b\b\b\b\b\b\b\b\b\b\b\b\b\b\b\b\b\b\b\b\b\b\b\b\b\b\b\b\b\b\b\b\b\b\b\b\b\b\b\b\b\b\b\b\b\b\b\b\b\b\b\b\b\b\b\b\b\b 47% 18072 - Dataset/Healthcare/Record/record_healthcare_7000051_1520.wav\b\b\b\b\b\b\b\b\b\b\b\b\b\b\b\b\b\b\b\b\b\b\b\b\b\b\b\b\b\b\b\b\b\b\b\b\b\b\b\b\b\b\b\b\b\b\b\b\b\b\b\b\b\b\b\b\b\b\b\b\b\b\b\b\b\b\b\b\b\b\b\b\b                                                                         \b\b\b\b\b\b\b\b\b\b\b\b\b\b\b\b\b\b\b\b\b\b\b\b\b\b\b\b\b\b\b\b\b\b\b\b\b\b\b\b\b\b\b\b\b\b\b\b\b\b\b\b\b\b\b\b\b\b\b\b\b\b\b\b\b\b\b\b\b\b\b\b\b 48% 18090 - Dataset/Healthcare/Record/record_healthcare_7000051_1659.wav\b\b\b\b\b\b\b\b\b\b\b\b\b\b\b\b\b\b\b\b\b\b\b\b\b\b\b\b\b\b\b\b\b\b\b\b\b\b\b\b\b\b\b\b\b\b\b\b\b\b\b\b\b\b\b\b\b\b\b\b\b\b\b\b\b\b\b\b\b\b\b\b\b                                                                         \b\b\b\b\b\b\b\b\b\b\b\b\b\b\b\b\b\b\b\b\b\b\b\b\b\b\b\b\b\b\b\b\b\b\b\b\b\b\b\b\b\b\b\b\b\b\b\b\b\b\b\b\b\b\b\b\b\b\b\b\b\b\b\b\b\b\b\b\b\b\b\b\b 48% 18106 - Dataset/Healthcare/Record/record_healthcare_7000051_1801.wav\b\b\b\b\b\b\b\b\b\b\b\b\b\b\b\b\b\b\b\b\b\b\b\b\b\b\b\b\b\b\b\b\b\b\b\b\b\b\b\b\b\b\b\b\b\b\b\b\b\b\b\b\b\b\b\b\b\b\b\b\b\b\b\b\b\b\b\b\b\b\b\b\b                                                                         \b\b\b\b\b\b\b\b\b\b\b\b\b\b\b\b\b\b\b\b\b\b\b\b\b\b\b\b\b\b\b\b\b\b\b\b\b\b\b\b\b\b\b\b\b\b\b\b\b\b\b\b\b\b\b\b\b\b\b\b\b\b\b\b\b\b\b\b\b\b\b\b\b 48% 18123 - Dataset/Healthcare/Record/record_healthcare_7000051_193.wav\b\b\b\b\b\b\b\b\b\b\b\b\b\b\b\b\b\b\b\b\b\b\b\b\b\b\b\b\b\b\b\b\b\b\b\b\b\b\b\b\b\b\b\b\b\b\b\b\b\b\b\b\b\b\b\b\b\b\b\b\b\b\b\b\b\b\b\b\b\b\b\b                                                                        \b\b\b\b\b\b\b\b\b\b\b\b\b\b\b\b\b\b\b\b\b\b\b\b\b\b\b\b\b\b\b\b\b\b\b\b\b\b\b\b\b\b\b\b\b\b\b\b\b\b\b\b\b\b\b\b\b\b\b\b\b\b\b\b\b\b\b\b\b\b\b\b 48% 18141 - Dataset/Healthcare/Record/record_healthcare_7000051_2101.wav\b\b\b\b\b\b\b\b\b\b\b\b\b\b\b\b\b\b\b\b\b\b\b\b\b\b\b\b\b\b\b\b\b\b\b\b\b\b\b\b\b\b\b\b\b\b\b\b\b\b\b\b\b\b\b\b\b\b\b\b\b\b\b\b\b\b\b\b\b\b\b\b\b                                                                         \b\b\b\b\b\b\b\b\b\b\b\b\b\b\b\b\b\b\b\b\b\b\b\b\b\b\b\b\b\b\b\b\b\b\b\b\b\b\b\b\b\b\b\b\b\b\b\b\b\b\b\b\b\b\b\b\b\b\b\b\b\b\b\b\b\b\b\b\b\b\b\b\b 48% 18158 - Dataset/Healthcare/Record/record_healthcare_7000051_2224.wav\b\b\b\b\b\b\b\b\b\b\b\b\b\b\b\b\b\b\b\b\b\b\b\b\b\b\b\b\b\b\b\b\b\b\b\b\b\b\b\b\b\b\b\b\b\b\b\b\b\b\b\b\b\b\b\b\b\b\b\b\b\b\b\b\b\b\b\b\b\b\b\b\b                                                                         \b\b\b\b\b\b\b\b\b\b\b\b\b\b\b\b\b\b\b\b\b\b\b\b\b\b\b\b\b\b\b\b\b\b\b\b\b\b\b\b\b\b\b\b\b\b\b\b\b\b\b\b\b\b\b\b\b\b\b\b\b\b\b\b\b\b\b\b\b\b\b\b\b 48% 18174 - Dataset/Healthcare/Record/record_healthcare_7000051_2332.wav\b\b\b\b\b\b\b\b\b\b\b\b\b\b\b\b\b\b\b\b\b\b\b\b\b\b\b\b\b\b\b\b\b\b\b\b\b\b\b\b\b\b\b\b\b\b\b\b\b\b\b\b\b\b\b\b\b\b\b\b\b\b\b\b\b\b\b\b\b\b\b\b\b                                                                         \b\b\b\b\b\b\b\b\b\b\b\b\b\b\b\b\b\b\b\b\b\b\b\b\b\b\b\b\b\b\b\b\b\b\b\b\b\b\b\b\b\b\b\b\b\b\b\b\b\b\b\b\b\b\b\b\b\b\b\b\b\b\b\b\b\b\b\b\b\b\b\b\b 48% 18191 - Dataset/Healthcare/Record/record_healthcare_7000051_2457.wav\b\b\b\b\b\b\b\b\b\b\b\b\b\b\b\b\b\b\b\b\b\b\b\b\b\b\b\b\b\b\b\b\b\b\b\b\b\b\b\b\b\b\b\b\b\b\b\b\b\b\b\b\b\b\b\b\b\b\b\b\b\b\b\b\b\b\b\b\b\b\b\b\b                                                                         \b\b\b\b\b\b\b\b\b\b\b\b\b\b\b\b\b\b\b\b\b\b\b\b\b\b\b\b\b\b\b\b\b\b\b\b\b\b\b\b\b\b\b\b\b\b\b\b\b\b\b\b\b\b\b\b\b\b\b\b\b\b\b\b\b\b\b\b\b\b\b\b\b 48% 18207 - Dataset/Healthcare/Record/record_healthcare_7000051_356.wav\b\b\b\b\b\b\b\b\b\b\b\b\b\b\b\b\b\b\b\b\b\b\b\b\b\b\b\b\b\b\b\b\b\b\b\b\b\b\b\b\b\b\b\b\b\b\b\b\b\b\b\b\b\b\b\b\b\b\b\b\b\b\b\b\b\b\b\b\b\b\b\b                                                                        \b\b\b\b\b\b\b\b\b\b\b\b\b\b\b\b\b\b\b\b\b\b\b\b\b\b\b\b\b\b\b\b\b\b\b\b\b\b\b\b\b\b\b\b\b\b\b\b\b\b\b\b\b\b\b\b\b\b\b\b\b\b\b\b\b\b\b\b\b\b\b\b 48% 18223 - Dataset/Healthcare/Record/record_healthcare_7000051_456.wav\b\b\b\b\b\b\b\b\b\b\b\b\b\b\b\b\b\b\b\b\b\b\b\b\b\b\b\b\b\b\b\b\b\b\b\b\b\b\b\b\b\b\b\b\b\b\b\b\b\b\b\b\b\b\b\b\b\b\b\b\b\b\b\b\b\b\b\b\b\b\b\b                                                                        \b\b\b\b\b\b\b\b\b\b\b\b\b\b\b\b\b\b\b\b\b\b\b\b\b\b\b\b\b\b\b\b\b\b\b\b\b\b\b\b\b\b\b\b\b\b\b\b\b\b\b\b\b\b\b\b\b\b\b\b\b\b\b\b\b\b\b\b\b\b\b\b 48% 18239 - Dataset/Healthcare/Record/record_healthcare_7000051_596.wav\b\b\b\b\b\b\b\b\b\b\b\b\b\b\b\b\b\b\b\b\b\b\b\b\b\b\b\b\b\b\b\b\b\b\b\b\b\b\b\b\b\b\b\b\b\b\b\b\b\b\b\b\b\b\b\b\b\b\b\b\b\b\b\b\b\b\b\b\b\b\b\b                                                                        \b\b\b\b\b\b\b\b\b\b\b\b\b\b\b\b\b\b\b\b\b\b\b\b\b\b\b\b\b\b\b\b\b\b\b\b\b\b\b\b\b\b\b\b\b\b\b\b\b\b\b\b\b\b\b\b\b\b\b\b\b\b\b\b\b\b\b\b\b\b\b\b 48% 18256 - Dataset/Healthcare/Record/record_healthcare_7000051_715.wav\b\b\b\b\b\b\b\b\b\b\b\b\b\b\b\b\b\b\b\b\b\b\b\b\b\b\b\b\b\b\b\b\b\b\b\b\b\b\b\b\b\b\b\b\b\b\b\b\b\b\b\b\b\b\b\b\b\b\b\b\b\b\b\b\b\b\b\b\b\b\b\b                                                                        \b\b\b\b\b\b\b\b\b\b\b\b\b\b\b\b\b\b\b\b\b\b\b\b\b\b\b\b\b\b\b\b\b\b\b\b\b\b\b\b\b\b\b\b\b\b\b\b\b\b\b\b\b\b\b\b\b\b\b\b\b\b\b\b\b\b\b\b\b\b\b\b 48% 18273 - Dataset/Healthcare/Record/record_healthcare_7000051_798.wav\b\b\b\b\b\b\b\b\b\b\b\b\b\b\b\b\b\b\b\b\b\b\b\b\b\b\b\b\b\b\b\b\b\b\b\b\b\b\b\b\b\b\b\b\b\b\b\b\b\b\b\b\b\b\b\b\b\b\b\b\b\b\b\b\b\b\b\b\b\b\b\b                                                                        \b\b\b\b\b\b\b\b\b\b\b\b\b\b\b\b\b\b\b\b\b\b\b\b\b\b\b\b\b\b\b\b\b\b\b\b\b\b\b\b\b\b\b\b\b\b\b\b\b\b\b\b\b\b\b\b\b\b\b\b\b\b\b\b\b\b\b\b\b\b\b\b 49% 18289 - Dataset/Healthcare/Record/record_healthcare_7000051_908.wav\b\b\b\b\b\b\b\b\b\b\b\b\b\b\b\b\b\b\b\b\b\b\b\b\b\b\b\b\b\b\b\b\b\b\b\b\b\b\b\b\b\b\b\b\b\b\b\b\b\b\b\b\b\b\b\b\b\b\b\b\b\b\b\b\b\b\b\b\b\b\b\b                                                                        \b\b\b\b\b\b\b\b\b\b\b\b\b\b\b\b\b\b\b\b\b\b\b\b\b\b\b\b\b\b\b\b\b\b\b\b\b\b\b\b\b\b\b\b\b\b\b\b\b\b\b\b\b\b\b\b\b\b\b\b\b\b\b\b\b\b\b\b\b\b\b\b 49% 18306 - Dataset/Healthcare/Record/record_healthcare_7000052_1005.wav\b\b\b\b\b\b\b\b\b\b\b\b\b\b\b\b\b\b\b\b\b\b\b\b\b\b\b\b\b\b\b\b\b\b\b\b\b\b\b\b\b\b\b\b\b\b\b\b\b\b\b\b\b\b\b\b\b\b\b\b\b\b\b\b\b\b\b\b\b\b\b\b\b                                                                         \b\b\b\b\b\b\b\b\b\b\b\b\b\b\b\b\b\b\b\b\b\b\b\b\b\b\b\b\b\b\b\b\b\b\b\b\b\b\b\b\b\b\b\b\b\b\b\b\b\b\b\b\b\b\b\b\b\b\b\b\b\b\b\b\b\b\b\b\b\b\b\b\b 49% 18324 - Dataset/Healthcare/Record/record_healthcare_7000052_1114.wav\b\b\b\b\b\b\b\b\b\b\b\b\b\b\b\b\b\b\b\b\b\b\b\b\b\b\b\b\b\b\b\b\b\b\b\b\b\b\b\b\b\b\b\b\b\b\b\b\b\b\b\b\b\b\b\b\b\b\b\b\b\b\b\b\b\b\b\b\b\b\b\b\b                                                                         \b\b\b\b\b\b\b\b\b\b\b\b\b\b\b\b\b\b\b\b\b\b\b\b\b\b\b\b\b\b\b\b\b\b\b\b\b\b\b\b\b\b\b\b\b\b\b\b\b\b\b\b\b\b\b\b\b\b\b\b\b\b\b\b\b\b\b\b\b\b\b\b\b 49% 18342 - Dataset/Healthcare/Record/record_healthcare_7000052_1303.wav\b\b\b\b\b\b\b\b\b\b\b\b\b\b\b\b\b\b\b\b\b\b\b\b\b\b\b\b\b\b\b\b\b\b\b\b\b\b\b\b\b\b\b\b\b\b\b\b\b\b\b\b\b\b\b\b\b\b\b\b\b\b\b\b\b\b\b\b\b\b\b\b\b                                                                         \b\b\b\b\b\b\b\b\b\b\b\b\b\b\b\b\b\b\b\b\b\b\b\b\b\b\b\b\b\b\b\b\b\b\b\b\b\b\b\b\b\b\b\b\b\b\b\b\b\b\b\b\b\b\b\b\b\b\b\b\b\b\b\b\b\b\b\b\b\b\b\b\b 49% 18360 - Dataset/Healthcare/Record/record_healthcare_7000052_1456.wav\b\b\b\b\b\b\b\b\b\b\b\b\b\b\b\b\b\b\b\b\b\b\b\b\b\b\b\b\b\b\b\b\b\b\b\b\b\b\b\b\b\b\b\b\b\b\b\b\b\b\b\b\b\b\b\b\b\b\b\b\b\b\b\b\b\b\b\b\b\b\b\b\b                                                                         \b\b\b\b\b\b\b\b\b\b\b\b\b\b\b\b\b\b\b\b\b\b\b\b\b\b\b\b\b\b\b\b\b\b\b\b\b\b\b\b\b\b\b\b\b\b\b\b\b\b\b\b\b\b\b\b\b\b\b\b\b\b\b\b\b\b\b\b\b\b\b\b\b 49% 18377 - Dataset/Healthcare/Record/record_healthcare_7000052_1519.wav\b\b\b\b\b\b\b\b\b\b\b\b\b\b\b\b\b\b\b\b\b\b\b\b\b\b\b\b\b\b\b\b\b\b\b\b\b\b\b\b\b\b\b\b\b\b\b\b\b\b\b\b\b\b\b\b\b\b\b\b\b\b\b\b\b\b\b\b\b\b\b\b\b                                                                         \b\b\b\b\b\b\b\b\b\b\b\b\b\b\b\b\b\b\b\b\b\b\b\b\b\b\b\b\b\b\b\b\b\b\b\b\b\b\b\b\b\b\b\b\b\b\b\b\b\b\b\b\b\b\b\b\b\b\b\b\b\b\b\b\b\b\b\b\b\b\b\b\b 49% 18395 - Dataset/Healthcare/Record/record_healthcare_7000052_1620.wav\b\b\b\b\b\b\b\b\b\b\b\b\b\b\b\b\b\b\b\b\b\b\b\b\b\b\b\b\b\b\b\b\b\b\b\b\b\b\b\b\b\b\b\b\b\b\b\b\b\b\b\b\b\b\b\b\b\b\b\b\b\b\b\b\b\b\b\b\b\b\b\b\b                                                                         \b\b\b\b\b\b\b\b\b\b\b\b\b\b\b\b\b\b\b\b\b\b\b\b\b\b\b\b\b\b\b\b\b\b\b\b\b\b\b\b\b\b\b\b\b\b\b\b\b\b\b\b\b\b\b\b\b\b\b\b\b\b\b\b\b\b\b\b\b\b\b\b\b 49% 18413 - Dataset/Healthcare/Record/record_healthcare_7000052_1771.wav\b\b\b\b\b\b\b\b\b\b\b\b\b\b\b\b\b\b\b\b\b\b\b\b\b\b\b\b\b\b\b\b\b\b\b\b\b\b\b\b\b\b\b\b\b\b\b\b\b\b\b\b\b\b\b\b\b\b\b\b\b\b\b\b\b\b\b\b\b\b\b\b\b                                                                         \b\b\b\b\b\b\b\b\b\b\b\b\b\b\b\b\b\b\b\b\b\b\b\b\b\b\b\b\b\b\b\b\b\b\b\b\b\b\b\b\b\b\b\b\b\b\b\b\b\b\b\b\b\b\b\b\b\b\b\b\b\b\b\b\b\b\b\b\b\b\b\b\b 49% 18431 - Dataset/Healthcare/Record/record_healthcare_7000052_1967.wav\b\b\b\b\b\b\b\b\b\b\b\b\b\b\b\b\b\b\b\b\b\b\b\b\b\b\b\b\b\b\b\b\b\b\b\b\b\b\b\b\b\b\b\b\b\b\b\b\b\b\b\b\b\b\b\b\b\b\b\b\b\b\b\b\b\b\b\b\b\b\b\b\b                                                                         \b\b\b\b\b\b\b\b\b\b\b\b\b\b\b\b\b\b\b\b\b\b\b\b\b\b\b\b\b\b\b\b\b\b\b\b\b\b\b\b\b\b\b\b\b\b\b\b\b\b\b\b\b\b\b\b\b\b\b\b\b\b\b\b\b\b\b\b\b\b\b\b\b 49% 18450 - Dataset/Healthcare/Record/record_healthcare_7000052_2122.wav\b\b\b\b\b\b\b\b\b\b\b\b\b\b\b\b\b\b\b\b\b\b\b\b\b\b\b\b\b\b\b\b\b\b\b\b\b\b\b\b\b\b\b\b\b\b\b\b\b\b\b\b\b\b\b\b\b\b\b\b\b\b\b\b\b\b\b\b\b\b\b\b\b                                                                         \b\b\b\b\b\b\b\b\b\b\b\b\b\b\b\b\b\b\b\b\b\b\b\b\b\b\b\b\b\b\b\b\b\b\b\b\b\b\b\b\b\b\b\b\b\b\b\b\b\b\b\b\b\b\b\b\b\b\b\b\b\b\b\b\b\b\b\b\b\b\b\b\b 49% 18468 - Dataset/Healthcare/Record/record_healthcare_7000052_226.wav\b\b\b\b\b\b\b\b\b\b\b\b\b\b\b\b\b\b\b\b\b\b\b\b\b\b\b\b\b\b\b\b\b\b\b\b\b\b\b\b\b\b\b\b\b\b\b\b\b\b\b\b\b\b\b\b\b\b\b\b\b\b\b\b\b\b\b\b\b\b\b\b                                                                        \b\b\b\b\b\b\b\b\b\b\b\b\b\b\b\b\b\b\b\b\b\b\b\b\b\b\b\b\b\b\b\b\b\b\b\b\b\b\b\b\b\b\b\b\b\b\b\b\b\b\b\b\b\b\b\b\b\b\b\b\b\b\b\b\b\b\b\b\b\b\b\b 49% 18487 - Dataset/Healthcare/Record/record_healthcare_7000052_2415.wav\b\b\b\b\b\b\b\b\b\b\b\b\b\b\b\b\b\b\b\b\b\b\b\b\b\b\b\b\b\b\b\b\b\b\b\b\b\b\b\b\b\b\b\b\b\b\b\b\b\b\b\b\b\b\b\b\b\b\b\b\b\b\b\b\b\b\b\b\b\b\b\b\b                                                                         \b\b\b\b\b\b\b\b\b\b\b\b\b\b\b\b\b\b\b\b\b\b\b\b\b\b\b\b\b\b\b\b\b\b\b\b\b\b\b\b\b\b\b\b\b\b\b\b\b\b\b\b\b\b\b\b\b\b\b\b\b\b\b\b\b\b\b\b\b\b\b\b\b 50% 18505 - Dataset/Healthcare/Record/record_healthcare_7000052_2502.wav\b\b\b\b\b\b\b\b\b\b\b\b\b\b\b\b\b\b\b\b\b\b\b\b\b\b\b\b\b\b\b\b\b\b\b\b\b\b\b\b\b\b\b\b\b\b\b\b\b\b\b\b\b\b\b\b\b\b\b\b\b\b\b\b\b\b\b\b\b\b\b\b\b                                                                         \b\b\b\b\b\b\b\b\b\b\b\b\b\b\b\b\b\b\b\b\b\b\b\b\b\b\b\b\b\b\b\b\b\b\b\b\b\b\b\b\b\b\b\b\b\b\b\b\b\b\b\b\b\b\b\b\b\b\b\b\b\b\b\b\b\b\b\b\b\b\b\b\b 50% 18523 - Dataset/Healthcare/Record/record_healthcare_7000052_374.wav\b\b\b\b\b\b\b\b\b\b\b\b\b\b\b\b\b\b\b\b\b\b\b\b\b\b\b\b\b\b\b\b\b\b\b\b\b\b\b\b\b\b\b\b\b\b\b\b\b\b\b\b\b\b\b\b\b\b\b\b\b\b\b\b\b\b\b\b\b\b\b\b                                                                        \b\b\b\b\b\b\b\b\b\b\b\b\b\b\b\b\b\b\b\b\b\b\b\b\b\b\b\b\b\b\b\b\b\b\b\b\b\b\b\b\b\b\b\b\b\b\b\b\b\b\b\b\b\b\b\b\b\b\b\b\b\b\b\b\b\b\b\b\b\b\b\b 50% 18541 - Dataset/Healthcare/Record/record_healthcare_7000052_529.wav\b\b\b\b\b\b\b\b\b\b\b\b\b\b\b\b\b\b\b\b\b\b\b\b\b\b\b\b\b\b\b\b\b\b\b\b\b\b\b\b\b\b\b\b\b\b\b\b\b\b\b\b\b\b\b\b\b\b\b\b\b\b\b\b\b\b\b\b\b\b\b\b                                                                        \b\b\b\b\b\b\b\b\b\b\b\b\b\b\b\b\b\b\b\b\b\b\b\b\b\b\b\b\b\b\b\b\b\b\b\b\b\b\b\b\b\b\b\b\b\b\b\b\b\b\b\b\b\b\b\b\b\b\b\b\b\b\b\b\b\b\b\b\b\b\b\b 50% 18560 - Dataset/Healthcare/Record/record_healthcare_7000052_686.wav\b\b\b\b\b\b\b\b\b\b\b\b\b\b\b\b\b\b\b\b\b\b\b\b\b\b\b\b\b\b\b\b\b\b\b\b\b\b\b\b\b\b\b\b\b\b\b\b\b\b\b\b\b\b\b\b\b\b\b\b\b\b\b\b\b\b\b\b\b\b\b\b                                                                        \b\b\b\b\b\b\b\b\b\b\b\b\b\b\b\b\b\b\b\b\b\b\b\b\b\b\b\b\b\b\b\b\b\b\b\b\b\b\b\b\b\b\b\b\b\b\b\b\b\b\b\b\b\b\b\b\b\b\b\b\b\b\b\b\b\b\b\b\b\b\b\b 50% 18578 - Dataset/Healthcare/Record/record_healthcare_7000052_796.wav\b\b\b\b\b\b\b\b\b\b\b\b\b\b\b\b\b\b\b\b\b\b\b\b\b\b\b\b\b\b\b\b\b\b\b\b\b\b\b\b\b\b\b\b\b\b\b\b\b\b\b\b\b\b\b\b\b\b\b\b\b\b\b\b\b\b\b\b\b\b\b\b                                                                        \b\b\b\b\b\b\b\b\b\b\b\b\b\b\b\b\b\b\b\b\b\b\b\b\b\b\b\b\b\b\b\b\b\b\b\b\b\b\b\b\b\b\b\b\b\b\b\b\b\b\b\b\b\b\b\b\b\b\b\b\b\b\b\b\b\b\b\b\b\b\b\b 50% 18597 - Dataset/Healthcare/Record/record_healthcare_7000052_942.wav\b\b\b\b\b\b\b\b\b\b\b\b\b\b\b\b\b\b\b\b\b\b\b\b\b\b\b\b\b\b\b\b\b\b\b\b\b\b\b\b\b\b\b\b\b\b\b\b\b\b\b\b\b\b\b\b\b\b\b\b\b\b\b\b\b\b\b\b\b\b\b\b                                                                        \b\b\b\b\b\b\b\b\b\b\b\b\b\b\b\b\b\b\b\b\b\b\b\b\b\b\b\b\b\b\b\b\b\b\b\b\b\b\b\b\b\b\b\b\b\b\b\b\b\b\b\b\b\b\b\b\b\b\b\b\b\b\b\b\b\b\b\b\b\b\b\b 50% 18616 - Dataset/Healthcare/Record/record_healthcare_7000053_1078.wav\b\b\b\b\b\b\b\b\b\b\b\b\b\b\b\b\b\b\b\b\b\b\b\b\b\b\b\b\b\b\b\b\b\b\b\b\b\b\b\b\b\b\b\b\b\b\b\b\b\b\b\b\b\b\b\b\b\b\b\b\b\b\b\b\b\b\b\b\b\b\b\b\b                                                                         \b\b\b\b\b\b\b\b\b\b\b\b\b\b\b\b\b\b\b\b\b\b\b\b\b\b\b\b\b\b\b\b\b\b\b\b\b\b\b\b\b\b\b\b\b\b\b\b\b\b\b\b\b\b\b\b\b\b\b\b\b\b\b\b\b\b\b\b\b\b\b\b\b 50% 18635 - Dataset/Healthcare/Record/record_healthcare_7000053_1210.wav\b\b\b\b\b\b\b\b\b\b\b\b\b\b\b\b\b\b\b\b\b\b\b\b\b\b\b\b\b\b\b\b\b\b\b\b\b\b\b\b\b\b\b\b\b\b\b\b\b\b\b\b\b\b\b\b\b\b\b\b\b\b\b\b\b\b\b\b\b\b\b\b\b                                                                         \b\b\b\b\b\b\b\b\b\b\b\b\b\b\b\b\b\b\b\b\b\b\b\b\b\b\b\b\b\b\b\b\b\b\b\b\b\b\b\b\b\b\b\b\b\b\b\b\b\b\b\b\b\b\b\b\b\b\b\b\b\b\b\b\b\b\b\b\b\b\b\b\b 50% 18653 - Dataset/Healthcare/Record/record_healthcare_7000053_1381.wav\b\b\b\b\b\b\b\b\b\b\b\b\b\b\b\b\b\b\b\b\b\b\b\b\b\b\b\b\b\b\b\b\b\b\b\b\b\b\b\b\b\b\b\b\b\b\b\b\b\b\b\b\b\b\b\b\b\b\b\b\b\b\b\b\b\b\b\b\b\b\b\b\b                                                                         \b\b\b\b\b\b\b\b\b\b\b\b\b\b\b\b\b\b\b\b\b\b\b\b\b\b\b\b\b\b\b\b\b\b\b\b\b\b\b\b\b\b\b\b\b\b\b\b\b\b\b\b\b\b\b\b\b\b\b\b\b\b\b\b\b\b\b\b\b\b\b\b\b 50% 18671 - Dataset/Healthcare/Record/record_healthcare_7000053_1518.wav\b\b\b\b\b\b\b\b\b\b\b\b\b\b\b\b\b\b\b\b\b\b\b\b\b\b\b\b\b\b\b\b\b\b\b\b\b\b\b\b\b\b\b\b\b\b\b\b\b\b\b\b\b\b\b\b\b\b\b\b\b\b\b\b\b\b\b\b\b\b\b\b\b                                                                         \b\b\b\b\b\b\b\b\b\b\b\b\b\b\b\b\b\b\b\b\b\b\b\b\b\b\b\b\b\b\b\b\b\b\b\b\b\b\b\b\b\b\b\b\b\b\b\b\b\b\b\b\b\b\b\b\b\b\b\b\b\b\b\b\b\b\b\b\b\b\b\b\b 50% 18690 - Dataset/Healthcare/Record/record_healthcare_7000053_1659.wav\b\b\b\b\b\b\b\b\b\b\b\b\b\b\b\b\b\b\b\b\b\b\b\b\b\b\b\b\b\b\b\b\b\b\b\b\b\b\b\b\b\b\b\b\b\b\b\b\b\b\b\b\b\b\b\b\b\b\b\b\b\b\b\b\b\b\b\b\b\b\b\b\b                                                                         \b\b\b\b\b\b\b\b\b\b\b\b\b\b\b\b\b\b\b\b\b\b\b\b\b\b\b\b\b\b\b\b\b\b\b\b\b\b\b\b\b\b\b\b\b\b\b\b\b\b\b\b\b\b\b\b\b\b\b\b\b\b\b\b\b\b\b\b\b\b\b\b\b 50% 18708 - Dataset/Healthcare/Record/record_healthcare_7000053_1808.wav\b\b\b\b\b\b\b\b\b\b\b\b\b\b\b\b\b\b\b\b\b\b\b\b\b\b\b\b\b\b\b\b\b\b\b\b\b\b\b\b\b\b\b\b\b\b\b\b\b\b\b\b\b\b\b\b\b\b\b\b\b\b\b\b\b\b\b\b\b\b\b\b\b                                                                         \b\b\b\b\b\b\b\b\b\b\b\b\b\b\b\b\b\b\b\b\b\b\b\b\b\b\b\b\b\b\b\b\b\b\b\b\b\b\b\b\b\b\b\b\b\b\b\b\b\b\b\b\b\b\b\b\b\b\b\b\b\b\b\b\b\b\b\b\b\b\b\b\b 51% 18726 - Dataset/Healthcare/Record/record_healthcare_7000053_1947.wav\b\b\b\b\b\b\b\b\b\b\b\b\b\b\b\b\b\b\b\b\b\b\b\b\b\b\b\b\b\b\b\b\b\b\b\b\b\b\b\b\b\b\b\b\b\b\b\b\b\b\b\b\b\b\b\b\b\b\b\b\b\b\b\b\b\b\b\b\b\b\b\b\b                                                                         \b\b\b\b\b\b\b\b\b\b\b\b\b\b\b\b\b\b\b\b\b\b\b\b\b\b\b\b\b\b\b\b\b\b\b\b\b\b\b\b\b\b\b\b\b\b\b\b\b\b\b\b\b\b\b\b\b\b\b\b\b\b\b\b\b\b\b\b\b\b\b\b\b 51% 18746 - Dataset/Healthcare/Record/record_healthcare_7000053_2116.wav\b\b\b\b\b\b\b\b\b\b\b\b\b\b\b\b\b\b\b\b\b\b\b\b\b\b\b\b\b\b\b\b\b\b\b\b\b\b\b\b\b\b\b\b\b\b\b\b\b\b\b\b\b\b\b\b\b\b\b\b\b\b\b\b\b\b\b\b\b\b\b\b\b                                                                         \b\b\b\b\b\b\b\b\b\b\b\b\b\b\b\b\b\b\b\b\b\b\b\b\b\b\b\b\b\b\b\b\b\b\b\b\b\b\b\b\b\b\b\b\b\b\b\b\b\b\b\b\b\b\b\b\b\b\b\b\b\b\b\b\b\b\b\b\b\b\b\b\b 51% 18764 - Dataset/Healthcare/Record/record_healthcare_7000053_2270.wav\b\b\b\b\b\b\b\b\b\b\b\b\b\b\b\b\b\b\b\b\b\b\b\b\b\b\b\b\b\b\b\b\b\b\b\b\b\b\b\b\b\b\b\b\b\b\b\b\b\b\b\b\b\b\b\b\b\b\b\b\b\b\b\b\b\b\b\b\b\b\b\b\b                                                                         \b\b\b\b\b\b\b\b\b\b\b\b\b\b\b\b\b\b\b\b\b\b\b\b\b\b\b\b\b\b\b\b\b\b\b\b\b\b\b\b\b\b\b\b\b\b\b\b\b\b\b\b\b\b\b\b\b\b\b\b\b\b\b\b\b\b\b\b\b\b\b\b\b 51% 18783 - Dataset/Healthcare/Record/record_healthcare_7000053_2372.wav\b\b\b\b\b\b\b\b\b\b\b\b\b\b\b\b\b\b\b\b\b\b\b\b\b\b\b\b\b\b\b\b\b\b\b\b\b\b\b\b\b\b\b\b\b\b\b\b\b\b\b\b\b\b\b\b\b\b\b\b\b\b\b\b\b\b\b\b\b\b\b\b\b                                                                         \b\b\b\b\b\b\b\b\b\b\b\b\b\b\b\b\b\b\b\b\b\b\b\b\b\b\b\b\b\b\b\b\b\b\b\b\b\b\b\b\b\b\b\b\b\b\b\b\b\b\b\b\b\b\b\b\b\b\b\b\b\b\b\b\b\b\b\b\b\b\b\b\b 51% 18800 - Dataset/Healthcare/Record/record_healthcare_7000053_271.wav\b\b\b\b\b\b\b\b\b\b\b\b\b\b\b\b\b\b\b\b\b\b\b\b\b\b\b\b\b\b\b\b\b\b\b\b\b\b\b\b\b\b\b\b\b\b\b\b\b\b\b\b\b\b\b\b\b\b\b\b\b\b\b\b\b\b\b\b\b\b\b\b                                                                        \b\b\b\b\b\b\b\b\b\b\b\b\b\b\b\b\b\b\b\b\b\b\b\b\b\b\b\b\b\b\b\b\b\b\b\b\b\b\b\b\b\b\b\b\b\b\b\b\b\b\b\b\b\b\b\b\b\b\b\b\b\b\b\b\b\b\b\b\b\b\b\b 51% 18817 - Dataset/Healthcare/Record/record_healthcare_7000053_410.wav\b\b\b\b\b\b\b\b\b\b\b\b\b\b\b\b\b\b\b\b\b\b\b\b\b\b\b\b\b\b\b\b\b\b\b\b\b\b\b\b\b\b\b\b\b\b\b\b\b\b\b\b\b\b\b\b\b\b\b\b\b\b\b\b\b\b\b\b\b\b\b\b                                                                        \b\b\b\b\b\b\b\b\b\b\b\b\b\b\b\b\b\b\b\b\b\b\b\b\b\b\b\b\b\b\b\b\b\b\b\b\b\b\b\b\b\b\b\b\b\b\b\b\b\b\b\b\b\b\b\b\b\b\b\b\b\b\b\b\b\b\b\b\b\b\b\b 51% 18834 - Dataset/Healthcare/Record/record_healthcare_7000053_557.wav\b\b\b\b\b\b\b\b\b\b\b\b\b\b\b\b\b\b\b\b\b\b\b\b\b\b\b\b\b\b\b\b\b\b\b\b\b\b\b\b\b\b\b\b\b\b\b\b\b\b\b\b\b\b\b\b\b\b\b\b\b\b\b\b\b\b\b\b\b\b\b\b                                                                        \b\b\b\b\b\b\b\b\b\b\b\b\b\b\b\b\b\b\b\b\b\b\b\b\b\b\b\b\b\b\b\b\b\b\b\b\b\b\b\b\b\b\b\b\b\b\b\b\b\b\b\b\b\b\b\b\b\b\b\b\b\b\b\b\b\b\b\b\b\b\b\b 51% 18852 - Dataset/Healthcare/Record/record_healthcare_7000053_680.wav\b\b\b\b\b\b\b\b\b\b\b\b\b\b\b\b\b\b\b\b\b\b\b\b\b\b\b\b\b\b\b\b\b\b\b\b\b\b\b\b\b\b\b\b\b\b\b\b\b\b\b\b\b\b\b\b\b\b\b\b\b\b\b\b\b\b\b\b\b\b\b\b                                                                        \b\b\b\b\b\b\b\b\b\b\b\b\b\b\b\b\b\b\b\b\b\b\b\b\b\b\b\b\b\b\b\b\b\b\b\b\b\b\b\b\b\b\b\b\b\b\b\b\b\b\b\b\b\b\b\b\b\b\b\b\b\b\b\b\b\b\b\b\b\b\b\b 51% 18870 - Dataset/Healthcare/Record/record_healthcare_7000053_784.wav\b\b\b\b\b\b\b\b\b\b\b\b\b\b\b\b\b\b\b\b\b\b\b\b\b\b\b\b\b\b\b\b\b\b\b\b\b\b\b\b\b\b\b\b\b\b\b\b\b\b\b\b\b\b\b\b\b\b\b\b\b\b\b\b\b\b\b\b\b\b\b\b                                                                        \b\b\b\b\b\b\b\b\b\b\b\b\b\b\b\b\b\b\b\b\b\b\b\b\b\b\b\b\b\b\b\b\b\b\b\b\b\b\b\b\b\b\b\b\b\b\b\b\b\b\b\b\b\b\b\b\b\b\b\b\b\b\b\b\b\b\b\b\b\b\b\b 51% 18888 - Dataset/Healthcare/Record/record_healthcare_7000053_892.wav\b\b\b\b\b\b\b\b\b\b\b\b\b\b\b\b\b\b\b\b\b\b\b\b\b\b\b\b\b\b\b\b\b\b\b\b\b\b\b\b\b\b\b\b\b\b\b\b\b\b\b\b\b\b\b\b\b\b\b\b\b\b\b\b\b\b\b\b\b\b\b\b                                                                        \b\b\b\b\b\b\b\b\b\b\b\b\b\b\b\b\b\b\b\b\b\b\b\b\b\b\b\b\b\b\b\b\b\b\b\b\b\b\b\b\b\b\b\b\b\b\b\b\b\b\b\b\b\b\b\b\b\b\b\b\b\b\b\b\b\b\b\b\b\b\b\b 51% 18906 - Dataset/Healthcare/Record/record_healthcare_7000054_100.wav\b\b\b\b\b\b\b\b\b\b\b\b\b\b\b\b\b\b\b\b\b\b\b\b\b\b\b\b\b\b\b\b\b\b\b\b\b\b\b\b\b\b\b\b\b\b\b\b\b\b\b\b\b\b\b\b\b\b\b\b\b\b\b\b\b\b\b\b\b\b\b\b                                                                        \b\b\b\b\b\b\b\b\b\b\b\b\b\b\b\b\b\b\b\b\b\b\b\b\b\b\b\b\b\b\b\b\b\b\b\b\b\b\b\b\b\b\b\b\b\b\b\b\b\b\b\b\b\b\b\b\b\b\b\b\b\b\b\b\b\b\b\b\b\b\b\b 51% 18921 - Dataset/Healthcare/Record/record_healthcare_7000054_1153.wav\b\b\b\b\b\b\b\b\b\b\b\b\b\b\b\b\b\b\b\b\b\b\b\b\b\b\b\b\b\b\b\b\b\b\b\b\b\b\b\b\b\b\b\b\b\b\b\b\b\b\b\b\b\b\b\b\b\b\b\b\b\b\b\b\b\b\b\b\b\b\b\b\b                                                                         \b\b\b\b\b\b\b\b\b\b\b\b\b\b\b\b\b\b\b\b\b\b\b\b\b\b\b\b\b\b\b\b\b\b\b\b\b\b\b\b\b\b\b\b\b\b\b\b\b\b\b\b\b\b\b\b\b\b\b\b\b\b\b\b\b\b\b\b\b\b\b\b\b 51% 18936 - Dataset/Healthcare/Record/record_healthcare_7000054_1251.wav\b\b\b\b\b\b\b\b\b\b\b\b\b\b\b\b\b\b\b\b\b\b\b\b\b\b\b\b\b\b\b\b\b\b\b\b\b\b\b\b\b\b\b\b\b\b\b\b\b\b\b\b\b\b\b\b\b\b\b\b\b\b\b\b\b\b\b\b\b\b\b\b\b                                                                         \b\b\b\b\b\b\b\b\b\b\b\b\b\b\b\b\b\b\b\b\b\b\b\b\b\b\b\b\b\b\b\b\b\b\b\b\b\b\b\b\b\b\b\b\b\b\b\b\b\b\b\b\b\b\b\b\b\b\b\b\b\b\b\b\b\b\b\b\b\b\b\b\b 52% 18951 - Dataset/Healthcare/Record/record_healthcare_7000054_1351.wav\b\b\b\b\b\b\b\b\b\b\b\b\b\b\b\b\b\b\b\b\b\b\b\b\b\b\b\b\b\b\b\b\b\b\b\b\b\b\b\b\b\b\b\b\b\b\b\b\b\b\b\b\b\b\b\b\b\b\b\b\b\b\b\b\b\b\b\b\b\b\b\b\b                                                                         \b\b\b\b\b\b\b\b\b\b\b\b\b\b\b\b\b\b\b\b\b\b\b\b\b\b\b\b\b\b\b\b\b\b\b\b\b\b\b\b\b\b\b\b\b\b\b\b\b\b\b\b\b\b\b\b\b\b\b\b\b\b\b\b\b\b\b\b\b\b\b\b\b 52% 18967 - Dataset/Healthcare/Record/record_healthcare_7000054_1463.wav\b\b\b\b\b\b\b\b\b\b\b\b\b\b\b\b\b\b\b\b\b\b\b\b\b\b\b\b\b\b\b\b\b\b\b\b\b\b\b\b\b\b\b\b\b\b\b\b\b\b\b\b\b\b\b\b\b\b\b\b\b\b\b\b\b\b\b\b\b\b\b\b\b                                                                         \b\b\b\b\b\b\b\b\b\b\b\b\b\b\b\b\b\b\b\b\b\b\b\b\b\b\b\b\b\b\b\b\b\b\b\b\b\b\b\b\b\b\b\b\b\b\b\b\b\b\b\b\b\b\b\b\b\b\b\b\b\b\b\b\b\b\b\b\b\b\b\b\b 52% 18983 - Dataset/Healthcare/Record/record_healthcare_7000054_1607.wav\b\b\b\b\b\b\b\b\b\b\b\b\b\b\b\b\b\b\b\b\b\b\b\b\b\b\b\b\b\b\b\b\b\b\b\b\b\b\b\b\b\b\b\b\b\b\b\b\b\b\b\b\b\b\b\b\b\b\b\b\b\b\b\b\b\b\b\b\b\b\b\b\b                                                                         \b\b\b\b\b\b\b\b\b\b\b\b\b\b\b\b\b\b\b\b\b\b\b\b\b\b\b\b\b\b\b\b\b\b\b\b\b\b\b\b\b\b\b\b\b\b\b\b\b\b\b\b\b\b\b\b\b\b\b\b\b\b\b\b\b\b\b\b\b\b\b\b\b 52% 18999 - Dataset/Healthcare/Record/record_healthcare_7000054_1724.wav\b\b\b\b\b\b\b\b\b\b\b\b\b\b\b\b\b\b\b\b\b\b\b\b\b\b\b\b\b\b\b\b\b\b\b\b\b\b\b\b\b\b\b\b\b\b\b\b\b\b\b\b\b\b\b\b\b\b\b\b\b\b\b\b\b\b\b\b\b\b\b\b\b                                                                         \b\b\b\b\b\b\b\b\b\b\b\b\b\b\b\b\b\b\b\b\b\b\b\b\b\b\b\b\b\b\b\b\b\b\b\b\b\b\b\b\b\b\b\b\b\b\b\b\b\b\b\b\b\b\b\b\b\b\b\b\b\b\b\b\b\b\b\b\b\b\b\b\b 52% 19015 - Dataset/Healthcare/Record/record_healthcare_7000054_1834.wav\b\b\b\b\b\b\b\b\b\b\b\b\b\b\b\b\b\b\b\b\b\b\b\b\b\b\b\b\b\b\b\b\b\b\b\b\b\b\b\b\b\b\b\b\b\b\b\b\b\b\b\b\b\b\b\b\b\b\b\b\b\b\b\b\b\b\b\b\b\b\b\b\b                                                                         \b\b\b\b\b\b\b\b\b\b\b\b\b\b\b\b\b\b\b\b\b\b\b\b\b\b\b\b\b\b\b\b\b\b\b\b\b\b\b\b\b\b\b\b\b\b\b\b\b\b\b\b\b\b\b\b\b\b\b\b\b\b\b\b\b\b\b\b\b\b\b\b\b 52% 19031 - Dataset/Healthcare/Record/record_healthcare_7000054_1902.wav\b\b\b\b\b\b\b\b\b\b\b\b\b\b\b\b\b\b\b\b\b\b\b\b\b\b\b\b\b\b\b\b\b\b\b\b\b\b\b\b\b\b\b\b\b\b\b\b\b\b\b\b\b\b\b\b\b\b\b\b\b\b\b\b\b\b\b\b\b\b\b\b\b                                                                         \b\b\b\b\b\b\b\b\b\b\b\b\b\b\b\b\b\b\b\b\b\b\b\b\b\b\b\b\b\b\b\b\b\b\b\b\b\b\b\b\b\b\b\b\b\b\b\b\b\b\b\b\b\b\b\b\b\b\b\b\b\b\b\b\b\b\b\b\b\b\b\b\b 52% 19046 - Dataset/Healthcare/Record/record_healthcare_7000054_2014.wav\b\b\b\b\b\b\b\b\b\b\b\b\b\b\b\b\b\b\b\b\b\b\b\b\b\b\b\b\b\b\b\b\b\b\b\b\b\b\b\b\b\b\b\b\b\b\b\b\b\b\b\b\b\b\b\b\b\b\b\b\b\b\b\b\b\b\b\b\b\b\b\b\b                                                                         \b\b\b\b\b\b\b\b\b\b\b\b\b\b\b\b\b\b\b\b\b\b\b\b\b\b\b\b\b\b\b\b\b\b\b\b\b\b\b\b\b\b\b\b\b\b\b\b\b\b\b\b\b\b\b\b\b\b\b\b\b\b\b\b\b\b\b\b\b\b\b\b\b 52% 19062 - Dataset/Healthcare/Record/record_healthcare_7000054_2139.wav\b\b\b\b\b\b\b\b\b\b\b\b\b\b\b\b\b\b\b\b\b\b\b\b\b\b\b\b\b\b\b\b\b\b\b\b\b\b\b\b\b\b\b\b\b\b\b\b\b\b\b\b\b\b\b\b\b\b\b\b\b\b\b\b\b\b\b\b\b\b\b\b\b                                                                         \b\b\b\b\b\b\b\b\b\b\b\b\b\b\b\b\b\b\b\b\b\b\b\b\b\b\b\b\b\b\b\b\b\b\b\b\b\b\b\b\b\b\b\b\b\b\b\b\b\b\b\b\b\b\b\b\b\b\b\b\b\b\b\b\b\b\b\b\b\b\b\b\b 52% 19078 - Dataset/Healthcare/Record/record_healthcare_7000054_2287.wav\b\b\b\b\b\b\b\b\b\b\b\b\b\b\b\b\b\b\b\b\b\b\b\b\b\b\b\b\b\b\b\b\b\b\b\b\b\b\b\b\b\b\b\b\b\b\b\b\b\b\b\b\b\b\b\b\b\b\b\b\b\b\b\b\b\b\b\b\b\b\b\b\b                                                                         \b\b\b\b\b\b\b\b\b\b\b\b\b\b\b\b\b\b\b\b\b\b\b\b\b\b\b\b\b\b\b\b\b\b\b\b\b\b\b\b\b\b\b\b\b\b\b\b\b\b\b\b\b\b\b\b\b\b\b\b\b\b\b\b\b\b\b\b\b\b\b\b\b 52% 19095 - Dataset/Healthcare/Record/record_healthcare_7000054_238.wav\b\b\b\b\b\b\b\b\b\b\b\b\b\b\b\b\b\b\b\b\b\b\b\b\b\b\b\b\b\b\b\b\b\b\b\b\b\b\b\b\b\b\b\b\b\b\b\b\b\b\b\b\b\b\b\b\b\b\b\b\b\b\b\b\b\b\b\b\b\b\b\b                                                                        \b\b\b\b\b\b\b\b\b\b\b\b\b\b\b\b\b\b\b\b\b\b\b\b\b\b\b\b\b\b\b\b\b\b\b\b\b\b\b\b\b\b\b\b\b\b\b\b\b\b\b\b\b\b\b\b\b\b\b\b\b\b\b\b\b\b\b\b\b\b\b\b 52% 19111 - Dataset/Healthcare/Record/record_healthcare_7000054_273.wav\b\b\b\b\b\b\b\b\b\b\b\b\b\b\b\b\b\b\b\b\b\b\b\b\b\b\b\b\b\b\b\b\b\b\b\b\b\b\b\b\b\b\b\b\b\b\b\b\b\b\b\b\b\b\b\b\b\b\b\b\b\b\b\b\b\b\b\b\b\b\b\b                                                                        \b\b\b\b\b\b\b\b\b\b\b\b\b\b\b\b\b\b\b\b\b\b\b\b\b\b\b\b\b\b\b\b\b\b\b\b\b\b\b\b\b\b\b\b\b\b\b\b\b\b\b\b\b\b\b\b\b\b\b\b\b\b\b\b\b\b\b\b\b\b\b\b 52% 19128 - Dataset/Healthcare/Record/record_healthcare_7000054_389.wav\b\b\b\b\b\b\b\b\b\b\b\b\b\b\b\b\b\b\b\b\b\b\b\b\b\b\b\b\b\b\b\b\b\b\b\b\b\b\b\b\b\b\b\b\b\b\b\b\b\b\b\b\b\b\b\b\b\b\b\b\b\b\b\b\b\b\b\b\b\b\b\b                                                                        \b\b\b\b\b\b\b\b\b\b\b\b\b\b\b\b\b\b\b\b\b\b\b\b\b\b\b\b\b\b\b\b\b\b\b\b\b\b\b\b\b\b\b\b\b\b\b\b\b\b\b\b\b\b\b\b\b\b\b\b\b\b\b\b\b\b\b\b\b\b\b\b 53% 19145 - Dataset/Healthcare/Record/record_healthcare_7000054_542.wav\b\b\b\b\b\b\b\b\b\b\b\b\b\b\b\b\b\b\b\b\b\b\b\b\b\b\b\b\b\b\b\b\b\b\b\b\b\b\b\b\b\b\b\b\b\b\b\b\b\b\b\b\b\b\b\b\b\b\b\b\b\b\b\b\b\b\b\b\b\b\b\b                                                                        \b\b\b\b\b\b\b\b\b\b\b\b\b\b\b\b\b\b\b\b\b\b\b\b\b\b\b\b\b\b\b\b\b\b\b\b\b\b\b\b\b\b\b\b\b\b\b\b\b\b\b\b\b\b\b\b\b\b\b\b\b\b\b\b\b\b\b\b\b\b\b\b 53% 19162 - Dataset/Healthcare/Record/record_healthcare_7000054_645.wav\b\b\b\b\b\b\b\b\b\b\b\b\b\b\b\b\b\b\b\b\b\b\b\b\b\b\b\b\b\b\b\b\b\b\b\b\b\b\b\b\b\b\b\b\b\b\b\b\b\b\b\b\b\b\b\b\b\b\b\b\b\b\b\b\b\b\b\b\b\b\b\b                                                                        \b\b\b\b\b\b\b\b\b\b\b\b\b\b\b\b\b\b\b\b\b\b\b\b\b\b\b\b\b\b\b\b\b\b\b\b\b\b\b\b\b\b\b\b\b\b\b\b\b\b\b\b\b\b\b\b\b\b\b\b\b\b\b\b\b\b\b\b\b\b\b\b 53% 19175 - Dataset/Healthcare/Record/record_healthcare_7000054_744.wav\b\b\b\b\b\b\b\b\b\b\b\b\b\b\b\b\b\b\b\b\b\b\b\b\b\b\b\b\b\b\b\b\b\b\b\b\b\b\b\b\b\b\b\b\b\b\b\b\b\b\b\b\b\b\b\b\b\b\b\b\b\b\b\b\b\b\b\b\b\b\b\b                                                                        \b\b\b\b\b\b\b\b\b\b\b\b\b\b\b\b\b\b\b\b\b\b\b\b\b\b\b\b\b\b\b\b\b\b\b\b\b\b\b\b\b\b\b\b\b\b\b\b\b\b\b\b\b\b\b\b\b\b\b\b\b\b\b\b\b\b\b\b\b\b\b\b 53% 19191 - Dataset/Healthcare/Record/record_healthcare_7000054_872.wav\b\b\b\b\b\b\b\b\b\b\b\b\b\b\b\b\b\b\b\b\b\b\b\b\b\b\b\b\b\b\b\b\b\b\b\b\b\b\b\b\b\b\b\b\b\b\b\b\b\b\b\b\b\b\b\b\b\b\b\b\b\b\b\b\b\b\b\b\b\b\b\b                                                                        \b\b\b\b\b\b\b\b\b\b\b\b\b\b\b\b\b\b\b\b\b\b\b\b\b\b\b\b\b\b\b\b\b\b\b\b\b\b\b\b\b\b\b\b\b\b\b\b\b\b\b\b\b\b\b\b\b\b\b\b\b\b\b\b\b\b\b\b\b\b\b\b 53% 19331\b\b\b\b\b\b\b\b\b\b          \b\b\b\b\b\b\b\b\b\b 53% 20065 - Dataset/Smarthome/Record/._record_smarthome_7000018_621.wav\b\b\b\b\b\b\b\b\b\b\b\b\b\b\b\b\b\b\b\b\b\b\b\b\b\b\b\b\b\b\b\b\b\b\b\b\b\b\b\b\b\b\b\b\b\b\b\b\b\b\b\b\b\b\b\b\b\b\b\b\b\b\b\b\b\b\b\b\b\b\b\b                                                                        \b\b\b\b\b\b\b\b\b\b\b\b\b\b\b\b\b\b\b\b\b\b\b\b\b\b\b\b\b\b\b\b\b\b\b\b\b\b\b\b\b\b\b\b\b\b\b\b\b\b\b\b\b\b\b\b\b\b\b\b\b\b\b\b\b\b\b\b\b\b\b\b 53% 20473 - Dataset/Smarthome/Record/._record_smarthome_7000020_1524.wav\b\b\b\b\b\b\b\b\b\b\b\b\b\b\b\b\b\b\b\b\b\b\b\b\b\b\b\b\b\b\b\b\b\b\b\b\b\b\b\b\b\b\b\b\b\b\b\b\b\b\b\b\b\b\b\b\b\b\b\b\b\b\b\b\b\b\b\b\b\b\b\b\b                                                                         \b\b\b\b\b\b\b\b\b\b\b\b\b\b\b\b\b\b\b\b\b\b\b\b\b\b\b\b\b\b\b\b\b\b\b\b\b\b\b\b\b\b\b\b\b\b\b\b\b\b\b\b\b\b\b\b\b\b\b\b\b\b\b\b\b\b\b\b\b\b\b\b\b 53% 20799 - Dataset/Smarthome/Record/._record_smarthome_7000021_1768.wav\b\b\b\b\b\b\b\b\b\b\b\b\b\b\b\b\b\b\b\b\b\b\b\b\b\b\b\b\b\b\b\b\b\b\b\b\b\b\b\b\b\b\b\b\b\b\b\b\b\b\b\b\b\b\b\b\b\b\b\b\b\b\b\b\b\b\b\b\b\b\b\b\b                                                                         \b\b\b\b\b\b\b\b\b\b\b\b\b\b\b\b\b\b\b\b\b\b\b\b\b\b\b\b\b\b\b\b\b\b\b\b\b\b\b\b\b\b\b\b\b\b\b\b\b\b\b\b\b\b\b\b\b\b\b\b\b\b\b\b\b\b\b\b\b\b\b\b\b 53% 21063 - Dataset/Smarthome/Record/._record_smarthome_7000022_1459.wav\b\b\b\b\b\b\b\b\b\b\b\b\b\b\b\b\b\b\b\b\b\b\b\b\b\b\b\b\b\b\b\b\b\b\b\b\b\b\b\b\b\b\b\b\b\b\b\b\b\b\b\b\b\b\b\b\b\b\b\b\b\b\b\b\b\b\b\b\b\b\b\b\b                                                                         \b\b\b\b\b\b\b\b\b\b\b\b\b\b\b\b\b\b\b\b\b\b\b\b\b\b\b\b\b\b\b\b\b\b\b\b\b\b\b\b\b\b\b\b\b\b\b\b\b\b\b\b\b\b\b\b\b\b\b\b\b\b\b\b\b\b\b\b\b\b\b\b\b 53% 21306 - Dataset/Smarthome/Record/._record_smarthome_7000022_967.wav\b\b\b\b\b\b\b\b\b\b\b\b\b\b\b\b\b\b\b\b\b\b\b\b\b\b\b\b\b\b\b\b\b\b\b\b\b\b\b\b\b\b\b\b\b\b\b\b\b\b\b\b\b\b\b\b\b\b\b\b\b\b\b\b\b\b\b\b\b\b\b\b                                                                        \b\b\b\b\b\b\b\b\b\b\b\b\b\b\b\b\b\b\b\b\b\b\b\b\b\b\b\b\b\b\b\b\b\b\b\b\b\b\b\b\b\b\b\b\b\b\b\b\b\b\b\b\b\b\b\b\b\b\b\b\b\b\b\b\b\b\b\b\b\b\b\b 53% 21519 - Dataset/Smarthome/Record/._record_smarthome_7000023_315.wav\b\b\b\b\b\b\b\b\b\b\b\b\b\b\b\b\b\b\b\b\b\b\b\b\b\b\b\b\b\b\b\b\b\b\b\b\b\b\b\b\b\b\b\b\b\b\b\b\b\b\b\b\b\b\b\b\b\b\b\b\b\b\b\b\b\b\b\b\b\b\b\b                                                                        \b\b\b\b\b\b\b\b\b\b\b\b\b\b\b\b\b\b\b\b\b\b\b\b\b\b\b\b\b\b\b\b\b\b\b\b\b\b\b\b\b\b\b\b\b\b\b\b\b\b\b\b\b\b\b\b\b\b\b\b\b\b\b\b\b\b\b\b\b\b\b\b 53% 21717 - Dataset/Smarthome/Record/._record_smarthome_7000025_1711.wav\b\b\b\b\b\b\b\b\b\b\b\b\b\b\b\b\b\b\b\b\b\b\b\b\b\b\b\b\b\b\b\b\b\b\b\b\b\b\b\b\b\b\b\b\b\b\b\b\b\b\b\b\b\b\b\b\b\b\b\b\b\b\b\b\b\b\b\b\b\b\b\b\b                                                                         \b\b\b\b\b\b\b\b\b\b\b\b\b\b\b\b\b\b\b\b\b\b\b\b\b\b\b\b\b\b\b\b\b\b\b\b\b\b\b\b\b\b\b\b\b\b\b\b\b\b\b\b\b\b\b\b\b\b\b\b\b\b\b\b\b\b\b\b\b\b\b\b\b 53% 21899 - Dataset/Smarthome/Record/._record_smarthome_7000025_892.wav\b\b\b\b\b\b\b\b\b\b\b\b\b\b\b\b\b\b\b\b\b\b\b\b\b\b\b\b\b\b\b\b\b\b\b\b\b\b\b\b\b\b\b\b\b\b\b\b\b\b\b\b\b\b\b\b\b\b\b\b\b\b\b\b\b\b\b\b\b\b\b\b                                                                        \b\b\b\b\b\b\b\b\b\b\b\b\b\b\b\b\b\b\b\b\b\b\b\b\b\b\b\b\b\b\b\b\b\b\b\b\b\b\b\b\b\b\b\b\b\b\b\b\b\b\b\b\b\b\b\b\b\b\b\b\b\b\b\b\b\b\b\b\b\b\b\b 53% 22076 - Dataset/Smarthome/Record/._record_smarthome_7000026_2352.wav\b\b\b\b\b\b\b\b\b\b\b\b\b\b\b\b\b\b\b\b\b\b\b\b\b\b\b\b\b\b\b\b\b\b\b\b\b\b\b\b\b\b\b\b\b\b\b\b\b\b\b\b\b\b\b\b\b\b\b\b\b\b\b\b\b\b\b\b\b\b\b\b\b                                                                         \b\b\b\b\b\b\b\b\b\b\b\b\b\b\b\b\b\b\b\b\b\b\b\b\b\b\b\b\b\b\b\b\b\b\b\b\b\b\b\b\b\b\b\b\b\b\b\b\b\b\b\b\b\b\b\b\b\b\b\b\b\b\b\b\b\b\b\b\b\b\b\b\b 53% 22240 - Dataset/Smarthome/Record/._record_smarthome_7000027_1208.wav\b\b\b\b\b\b\b\b\b\b\b\b\b\b\b\b\b\b\b\b\b\b\b\b\b\b\b\b\b\b\b\b\b\b\b\b\b\b\b\b\b\b\b\b\b\b\b\b\b\b\b\b\b\b\b\b\b\b\b\b\b\b\b\b\b\b\b\b\b\b\b\b\b                                                                         \b\b\b\b\b\b\b\b\b\b\b\b\b\b\b\b\b\b\b\b\b\b\b\b\b\b\b\b\b\b\b\b\b\b\b\b\b\b\b\b\b\b\b\b\b\b\b\b\b\b\b\b\b\b\b\b\b\b\b\b\b\b\b\b\b\b\b\b\b\b\b\b\b 53% 22397 - Dataset/Smarthome/Record/._record_smarthome_7000027_2432.wav\b\b\b\b\b\b\b\b\b\b\b\b\b\b\b\b\b\b\b\b\b\b\b\b\b\b\b\b\b\b\b\b\b\b\b\b\b\b\b\b\b\b\b\b\b\b\b\b\b\b\b\b\b\b\b\b\b\b\b\b\b\b\b\b\b\b\b\b\b\b\b\b\b                                                                         \b\b\b\b\b\b\b\b\b\b\b\b\b\b\b\b\b\b\b\b\b\b\b\b\b\b\b\b\b\b\b\b\b\b\b\b\b\b\b\b\b\b\b\b\b\b\b\b\b\b\b\b\b\b\b\b\b\b\b\b\b\b\b\b\b\b\b\b\b\b\b\b\b 53% 22543 - Dataset/Smarthome/Record/._record_smarthome_7000028_1313.wav\b\b\b\b\b\b\b\b\b\b\b\b\b\b\b\b\b\b\b\b\b\b\b\b\b\b\b\b\b\b\b\b\b\b\b\b\b\b\b\b\b\b\b\b\b\b\b\b\b\b\b\b\b\b\b\b\b\b\b\b\b\b\b\b\b\b\b\b\b\b\b\b\b                                                                         \b\b\b\b\b\b\b\b\b\b\b\b\b\b\b\b\b\b\b\b\b\b\b\b\b\b\b\b\b\b\b\b\b\b\b\b\b\b\b\b\b\b\b\b\b\b\b\b\b\b\b\b\b\b\b\b\b\b\b\b\b\b\b\b\b\b\b\b\b\b\b\b\b 53% 22687 - Dataset/Smarthome/Record/._record_smarthome_7000028_2330.wav\b\b\b\b\b\b\b\b\b\b\b\b\b\b\b\b\b\b\b\b\b\b\b\b\b\b\b\b\b\b\b\b\b\b\b\b\b\b\b\b\b\b\b\b\b\b\b\b\b\b\b\b\b\b\b\b\b\b\b\b\b\b\b\b\b\b\b\b\b\b\b\b\b                                                                         \b\b\b\b\b\b\b\b\b\b\b\b\b\b\b\b\b\b\b\b\b\b\b\b\b\b\b\b\b\b\b\b\b\b\b\b\b\b\b\b\b\b\b\b\b\b\b\b\b\b\b\b\b\b\b\b\b\b\b\b\b\b\b\b\b\b\b\b\b\b\b\b\b 53% 22823 - Dataset/Smarthome/Record/._record_smarthome_7000029_1140.wav\b\b\b\b\b\b\b\b\b\b\b\b\b\b\b\b\b\b\b\b\b\b\b\b\b\b\b\b\b\b\b\b\b\b\b\b\b\b\b\b\b\b\b\b\b\b\b\b\b\b\b\b\b\b\b\b\b\b\b\b\b\b\b\b\b\b\b\b\b\b\b\b\b                                                                         \b\b\b\b\b\b\b\b\b\b\b\b\b\b\b\b\b\b\b\b\b\b\b\b\b\b\b\b\b\b\b\b\b\b\b\b\b\b\b\b\b\b\b\b\b\b\b\b\b\b\b\b\b\b\b\b\b\b\b\b\b\b\b\b\b\b\b\b\b\b\b\b\b 53% 22958 - Dataset/Smarthome/Record/._record_smarthome_7000029_2174.wav\b\b\b\b\b\b\b\b\b\b\b\b\b\b\b\b\b\b\b\b\b\b\b\b\b\b\b\b\b\b\b\b\b\b\b\b\b\b\b\b\b\b\b\b\b\b\b\b\b\b\b\b\b\b\b\b\b\b\b\b\b\b\b\b\b\b\b\b\b\b\b\b\b                                                                         \b\b\b\b\b\b\b\b\b\b\b\b\b\b\b\b\b\b\b\b\b\b\b\b\b\b\b\b\b\b\b\b\b\b\b\b\b\b\b\b\b\b\b\b\b\b\b\b\b\b\b\b\b\b\b\b\b\b\b\b\b\b\b\b\b\b\b\b\b\b\b\b\b 53% 23088 - Dataset/Smarthome/Record/._record_smarthome_7000029_803.wav\b\b\b\b\b\b\b\b\b\b\b\b\b\b\b\b\b\b\b\b\b\b\b\b\b\b\b\b\b\b\b\b\b\b\b\b\b\b\b\b\b\b\b\b\b\b\b\b\b\b\b\b\b\b\b\b\b\b\b\b\b\b\b\b\b\b\b\b\b\b\b\b                                                                        \b\b\b\b\b\b\b\b\b\b\b\b\b\b\b\b\b\b\b\b\b\b\b\b\b\b\b\b\b\b\b\b\b\b\b\b\b\b\b\b\b\b\b\b\b\b\b\b\b\b\b\b\b\b\b\b\b\b\b\b\b\b\b\b\b\b\b\b\b\b\b\b 53% 23214 - Dataset/Smarthome/Record/._record_smarthome_7000031_1801.wav\b\b\b\b\b\b\b\b\b\b\b\b\b\b\b\b\b\b\b\b\b\b\b\b\b\b\b\b\b\b\b\b\b\b\b\b\b\b\b\b\b\b\b\b\b\b\b\b\b\b\b\b\b\b\b\b\b\b\b\b\b\b\b\b\b\b\b\b\b\b\b\b\b                                                                         \b\b\b\b\b\b\b\b\b\b\b\b\b\b\b\b\b\b\b\b\b\b\b\b\b\b\b\b\b\b\b\b\b\b\b\b\b\b\b\b\b\b\b\b\b\b\b\b\b\b\b\b\b\b\b\b\b\b\b\b\b\b\b\b\b\b\b\b\b\b\b\b\b 53% 23338 - Dataset/Smarthome/Record/._record_smarthome_7000031_481.wav\b\b\b\b\b\b\b\b\b\b\b\b\b\b\b\b\b\b\b\b\b\b\b\b\b\b\b\b\b\b\b\b\b\b\b\b\b\b\b\b\b\b\b\b\b\b\b\b\b\b\b\b\b\b\b\b\b\b\b\b\b\b\b\b\b\b\b\b\b\b\b\b                                                                        \b\b\b\b\b\b\b\b\b\b\b\b\b\b\b\b\b\b\b\b\b\b\b\b\b\b\b\b\b\b\b\b\b\b\b\b\b\b\b\b\b\b\b\b\b\b\b\b\b\b\b\b\b\b\b\b\b\b\b\b\b\b\b\b\b\b\b\b\b\b\b\b 53% 23458 - Dataset/Smarthome/Record/._record_smarthome_7000032_1360.wav\b\b\b\b\b\b\b\b\b\b\b\b\b\b\b\b\b\b\b\b\b\b\b\b\b\b\b\b\b\b\b\b\b\b\b\b\b\b\b\b\b\b\b\b\b\b\b\b\b\b\b\b\b\b\b\b\b\b\b\b\b\b\b\b\b\b\b\b\b\b\b\b\b                                                                         \b\b\b\b\b\b\b\b\b\b\b\b\b\b\b\b\b\b\b\b\b\b\b\b\b\b\b\b\b\b\b\b\b\b\b\b\b\b\b\b\b\b\b\b\b\b\b\b\b\b\b\b\b\b\b\b\b\b\b\b\b\b\b\b\b\b\b\b\b\b\b\b\b 53% 23574 - Dataset/Smarthome/Record/._record_smarthome_7000032_2270.wav\b\b\b\b\b\b\b\b\b\b\b\b\b\b\b\b\b\b\b\b\b\b\b\b\b\b\b\b\b\b\b\b\b\b\b\b\b\b\b\b\b\b\b\b\b\b\b\b\b\b\b\b\b\b\b\b\b\b\b\b\b\b\b\b\b\b\b\b\b\b\b\b\b                                                                         \b\b\b\b\b\b\b\b\b\b\b\b\b\b\b\b\b\b\b\b\b\b\b\b\b\b\b\b\b\b\b\b\b\b\b\b\b\b\b\b\b\b\b\b\b\b\b\b\b\b\b\b\b\b\b\b\b\b\b\b\b\b\b\b\b\b\b\b\b\b\b\b\b 53% 23688 - Dataset/Smarthome/Record/._record_smarthome_7000032_864.wav\b\b\b\b\b\b\b\b\b\b\b\b\b\b\b\b\b\b\b\b\b\b\b\b\b\b\b\b\b\b\b\b\b\b\b\b\b\b\b\b\b\b\b\b\b\b\b\b\b\b\b\b\b\b\b\b\b\b\b\b\b\b\b\b\b\b\b\b\b\b\b\b                                                                        \b\b\b\b\b\b\b\b\b\b\b\b\b\b\b\b\b\b\b\b\b\b\b\b\b\b\b\b\b\b\b\b\b\b\b\b\b\b\b\b\b\b\b\b\b\b\b\b\b\b\b\b\b\b\b\b\b\b\b\b\b\b\b\b\b\b\b\b\b\b\b\b 53% 23798 - Dataset/Smarthome/Record/._record_smarthome_7000033_1593.wav\b\b\b\b\b\b\b\b\b\b\b\b\b\b\b\b\b\b\b\b\b\b\b\b\b\b\b\b\b\b\b\b\b\b\b\b\b\b\b\b\b\b\b\b\b\b\b\b\b\b\b\b\b\b\b\b\b\b\b\b\b\b\b\b\b\b\b\b\b\b\b\b\b                                                                         \b\b\b\b\b\b\b\b\b\b\b\b\b\b\b\b\b\b\b\b\b\b\b\b\b\b\b\b\b\b\b\b\b\b\b\b\b\b\b\b\b\b\b\b\b\b\b\b\b\b\b\b\b\b\b\b\b\b\b\b\b\b\b\b\b\b\b\b\b\b\b\b\b 53% 23905 - Dataset/Smarthome/Record/._record_smarthome_7000033_2540.wav\b\b\b\b\b\b\b\b\b\b\b\b\b\b\b\b\b\b\b\b\b\b\b\b\b\b\b\b\b\b\b\b\b\b\b\b\b\b\b\b\b\b\b\b\b\b\b\b\b\b\b\b\b\b\b\b\b\b\b\b\b\b\b\b\b\b\b\b\b\b\b\b\b                                                                         \b\b\b\b\b\b\b\b\b\b\b\b\b\b\b\b\b\b\b\b\b\b\b\b\b\b\b\b\b\b\b\b\b\b\b\b\b\b\b\b\b\b\b\b\b\b\b\b\b\b\b\b\b\b\b\b\b\b\b\b\b\b\b\b\b\b\b\b\b\b\b\b\b 53% 24010 - Dataset/Smarthome/Record/._record_smarthome_7000033_991.wav\b\b\b\b\b\b\b\b\b\b\b\b\b\b\b\b\b\b\b\b\b\b\b\b\b\b\b\b\b\b\b\b\b\b\b\b\b\b\b\b\b\b\b\b\b\b\b\b\b\b\b\b\b\b\b\b\b\b\b\b\b\b\b\b\b\b\b\b\b\b\b\b                                                                        \b\b\b\b\b\b\b\b\b\b\b\b\b\b\b\b\b\b\b\b\b\b\b\b\b\b\b\b\b\b\b\b\b\b\b\b\b\b\b\b\b\b\b\b\b\b\b\b\b\b\b\b\b\b\b\b\b\b\b\b\b\b\b\b\b\b\b\b\b\b\b\b 53% 24109 - Dataset/Smarthome/Record/._record_smarthome_7000034_1763.wav\b\b\b\b\b\b\b\b\b\b\b\b\b\b\b\b\b\b\b\b\b\b\b\b\b\b\b\b\b\b\b\b\b\b\b\b\b\b\b\b\b\b\b\b\b\b\b\b\b\b\b\b\b\b\b\b\b\b\b\b\b\b\b\b\b\b\b\b\b\b\b\b\b                                                                         \b\b\b\b\b\b\b\b\b\b\b\b\b\b\b\b\b\b\b\b\b\b\b\b\b\b\b\b\b\b\b\b\b\b\b\b\b\b\b\b\b\b\b\b\b\b\b\b\b\b\b\b\b\b\b\b\b\b\b\b\b\b\b\b\b\b\b\b\b\b\b\b\b 53% 24208 - Dataset/Smarthome/Record/._record_smarthome_7000034_2564.wav\b\b\b\b\b\b\b\b\b\b\b\b\b\b\b\b\b\b\b\b\b\b\b\b\b\b\b\b\b\b\b\b\b\b\b\b\b\b\b\b\b\b\b\b\b\b\b\b\b\b\b\b\b\b\b\b\b\b\b\b\b\b\b\b\b\b\b\b\b\b\b\b\b                                                                         \b\b\b\b\b\b\b\b\b\b\b\b\b\b\b\b\b\b\b\b\b\b\b\b\b\b\b\b\b\b\b\b\b\b\b\b\b\b\b\b\b\b\b\b\b\b\b\b\b\b\b\b\b\b\b\b\b\b\b\b\b\b\b\b\b\b\b\b\b\b\b\b\b 53% 24305 - Dataset/Smarthome/Record/._record_smarthome_7000034_942.wav\b\b\b\b\b\b\b\b\b\b\b\b\b\b\b\b\b\b\b\b\b\b\b\b\b\b\b\b\b\b\b\b\b\b\b\b\b\b\b\b\b\b\b\b\b\b\b\b\b\b\b\b\b\b\b\b\b\b\b\b\b\b\b\b\b\b\b\b\b\b\b\b                                                                        \b\b\b\b\b\b\b\b\b\b\b\b\b\b\b\b\b\b\b\b\b\b\b\b\b\b\b\b\b\b\b\b\b\b\b\b\b\b\b\b\b\b\b\b\b\b\b\b\b\b\b\b\b\b\b\b\b\b\b\b\b\b\b\b\b\b\b\b\b\b\b\b 53% 24403 - Dataset/Smarthome/Record/._record_smarthome_7000035_1694.wav\b\b\b\b\b\b\b\b\b\b\b\b\b\b\b\b\b\b\b\b\b\b\b\b\b\b\b\b\b\b\b\b\b\b\b\b\b\b\b\b\b\b\b\b\b\b\b\b\b\b\b\b\b\b\b\b\b\b\b\b\b\b\b\b\b\b\b\b\b\b\b\b\b                                                                         \b\b\b\b\b\b\b\b\b\b\b\b\b\b\b\b\b\b\b\b\b\b\b\b\b\b\b\b\b\b\b\b\b\b\b\b\b\b\b\b\b\b\b\b\b\b\b\b\b\b\b\b\b\b\b\b\b\b\b\b\b\b\b\b\b\b\b\b\b\b\b\b\b 53% 24498 - Dataset/Smarthome/Record/._record_smarthome_7000035_2441.wav\b\b\b\b\b\b\b\b\b\b\b\b\b\b\b\b\b\b\b\b\b\b\b\b\b\b\b\b\b\b\b\b\b\b\b\b\b\b\b\b\b\b\b\b\b\b\b\b\b\b\b\b\b\b\b\b\b\b\b\b\b\b\b\b\b\b\b\b\b\b\b\b\b                                                                         \b\b\b\b\b\b\b\b\b\b\b\b\b\b\b\b\b\b\b\b\b\b\b\b\b\b\b\b\b\b\b\b\b\b\b\b\b\b\b\b\b\b\b\b\b\b\b\b\b\b\b\b\b\b\b\b\b\b\b\b\b\b\b\b\b\b\b\b\b\b\b\b\b 53% 24593 - Dataset/Smarthome/Record/._record_smarthome_7000035_881.wav\b\b\b\b\b\b\b\b\b\b\b\b\b\b\b\b\b\b\b\b\b\b\b\b\b\b\b\b\b\b\b\b\b\b\b\b\b\b\b\b\b\b\b\b\b\b\b\b\b\b\b\b\b\b\b\b\b\b\b\b\b\b\b\b\b\b\b\b\b\b\b\b                                                                        \b\b\b\b\b\b\b\b\b\b\b\b\b\b\b\b\b\b\b\b\b\b\b\b\b\b\b\b\b\b\b\b\b\b\b\b\b\b\b\b\b\b\b\b\b\b\b\b\b\b\b\b\b\b\b\b\b\b\b\b\b\b\b\b\b\b\b\b\b\b\b\b 53% 24686 - Dataset/Smarthome/Record/._record_smarthome_7000036_1635.wav\b\b\b\b\b\b\b\b\b\b\b\b\b\b\b\b\b\b\b\b\b\b\b\b\b\b\b\b\b\b\b\b\b\b\b\b\b\b\b\b\b\b\b\b\b\b\b\b\b\b\b\b\b\b\b\b\b\b\b\b\b\b\b\b\b\b\b\b\b\b\b\b\b                                                                         \b\b\b\b\b\b\b\b\b\b\b\b\b\b\b\b\b\b\b\b\b\b\b\b\b\b\b\b\b\b\b\b\b\b\b\b\b\b\b\b\b\b\b\b\b\b\b\b\b\b\b\b\b\b\b\b\b\b\b\b\b\b\b\b\b\b\b\b\b\b\b\b\b 53% 24778 - Dataset/Smarthome/Record/._record_smarthome_7000036_2289.wav\b\b\b\b\b\b\b\b\b\b\b\b\b\b\b\b\b\b\b\b\b\b\b\b\b\b\b\b\b\b\b\b\b\b\b\b\b\b\b\b\b\b\b\b\b\b\b\b\b\b\b\b\b\b\b\b\b\b\b\b\b\b\b\b\b\b\b\b\b\b\b\b\b                                                                         \b\b\b\b\b\b\b\b\b\b\b\b\b\b\b\b\b\b\b\b\b\b\b\b\b\b\b\b\b\b\b\b\b\b\b\b\b\b\b\b\b\b\b\b\b\b\b\b\b\b\b\b\b\b\b\b\b\b\b\b\b\b\b\b\b\b\b\b\b\b\b\b\b 53% 24867 - Dataset/Smarthome/Record/._record_smarthome_7000036_588.wav\b\b\b\b\b\b\b\b\b\b\b\b\b\b\b\b\b\b\b\b\b\b\b\b\b\b\b\b\b\b\b\b\b\b\b\b\b\b\b\b\b\b\b\b\b\b\b\b\b\b\b\b\b\b\b\b\b\b\b\b\b\b\b\b\b\b\b\b\b\b\b\b                                                                        \b\b\b\b\b\b\b\b\b\b\b\b\b\b\b\b\b\b\b\b\b\b\b\b\b\b\b\b\b\b\b\b\b\b\b\b\b\b\b\b\b\b\b\b\b\b\b\b\b\b\b\b\b\b\b\b\b\b\b\b\b\b\b\b\b\b\b\b\b\b\b\b 53% 24956 - Dataset/Smarthome/Record/._record_smarthome_7000037_1433.wav\b\b\b\b\b\b\b\b\b\b\b\b\b\b\b\b\b\b\b\b\b\b\b\b\b\b\b\b\b\b\b\b\b\b\b\b\b\b\b\b\b\b\b\b\b\b\b\b\b\b\b\b\b\b\b\b\b\b\b\b\b\b\b\b\b\b\b\b\b\b\b\b\b                                                                         \b\b\b\b\b\b\b\b\b\b\b\b\b\b\b\b\b\b\b\b\b\b\b\b\b\b\b\b\b\b\b\b\b\b\b\b\b\b\b\b\b\b\b\b\b\b\b\b\b\b\b\b\b\b\b\b\b\b\b\b\b\b\b\b\b\b\b\b\b\b\b\b\b 53% 25044 - Dataset/Smarthome/Record/._record_smarthome_7000037_209.wav\b\b\b\b\b\b\b\b\b\b\b\b\b\b\b\b\b\b\b\b\b\b\b\b\b\b\b\b\b\b\b\b\b\b\b\b\b\b\b\b\b\b\b\b\b\b\b\b\b\b\b\b\b\b\b\b\b\b\b\b\b\b\b\b\b\b\b\b\b\b\b\b                                                                        \b\b\b\b\b\b\b\b\b\b\b\b\b\b\b\b\b\b\b\b\b\b\b\b\b\b\b\b\b\b\b\b\b\b\b\b\b\b\b\b\b\b\b\b\b\b\b\b\b\b\b\b\b\b\b\b\b\b\b\b\b\b\b\b\b\b\b\b\b\b\b\b 53% 25131 - Dataset/Smarthome/Record/._record_smarthome_7000037_436.wav\b\b\b\b\b\b\b\b\b\b\b\b\b\b\b\b\b\b\b\b\b\b\b\b\b\b\b\b\b\b\b\b\b\b\b\b\b\b\b\b\b\b\b\b\b\b\b\b\b\b\b\b\b\b\b\b\b\b\b\b\b\b\b\b\b\b\b\b\b\b\b\b                                                                        \b\b\b\b\b\b\b\b\b\b\b\b\b\b\b\b\b\b\b\b\b\b\b\b\b\b\b\b\b\b\b\b\b\b\b\b\b\b\b\b\b\b\b\b\b\b\b\b\b\b\b\b\b\b\b\b\b\b\b\b\b\b\b\b\b\b\b\b\b\b\b\b 53% 25214 - Dataset/Smarthome/Record/._record_smarthome_7000038_1044.wav\b\b\b\b\b\b\b\b\b\b\b\b\b\b\b\b\b\b\b\b\b\b\b\b\b\b\b\b\b\b\b\b\b\b\b\b\b\b\b\b\b\b\b\b\b\b\b\b\b\b\b\b\b\b\b\b\b\b\b\b\b\b\b\b\b\b\b\b\b\b\b\b\b                                                                         \b\b\b\b\b\b\b\b\b\b\b\b\b\b\b\b\b\b\b\b\b\b\b\b\b\b\b\b\b\b\b\b\b\b\b\b\b\b\b\b\b\b\b\b\b\b\b\b\b\b\b\b\b\b\b\b\b\b\b\b\b\b\b\b\b\b\b\b\b\b\b\b\b 53% 25298 - Dataset/Smarthome/Record/._record_smarthome_7000038_1731.wav\b\b\b\b\b\b\b\b\b\b\b\b\b\b\b\b\b\b\b\b\b\b\b\b\b\b\b\b\b\b\b\b\b\b\b\b\b\b\b\b\b\b\b\b\b\b\b\b\b\b\b\b\b\b\b\b\b\b\b\b\b\b\b\b\b\b\b\b\b\b\b\b\b                                                                         \b\b\b\b\b\b\b\b\b\b\b\b\b\b\b\b\b\b\b\b\b\b\b\b\b\b\b\b\b\b\b\b\b\b\b\b\b\b\b\b\b\b\b\b\b\b\b\b\b\b\b\b\b\b\b\b\b\b\b\b\b\b\b\b\b\b\b\b\b\b\b\b\b 53% 25381 - Dataset/Smarthome/Record/._record_smarthome_7000038_2391.wav\b\b\b\b\b\b\b\b\b\b\b\b\b\b\b\b\b\b\b\b\b\b\b\b\b\b\b\b\b\b\b\b\b\b\b\b\b\b\b\b\b\b\b\b\b\b\b\b\b\b\b\b\b\b\b\b\b\b\b\b\b\b\b\b\b\b\b\b\b\b\b\b\b                                                                         \b\b\b\b\b\b\b\b\b\b\b\b\b\b\b\b\b\b\b\b\b\b\b\b\b\b\b\b\b\b\b\b\b\b\b\b\b\b\b\b\b\b\b\b\b\b\b\b\b\b\b\b\b\b\b\b\b\b\b\b\b\b\b\b\b\b\b\b\b\b\b\b\b 53% 25461 - Dataset/Smarthome/Record/._record_smarthome_7000038_590.wav\b\b\b\b\b\b\b\b\b\b\b\b\b\b\b\b\b\b\b\b\b\b\b\b\b\b\b\b\b\b\b\b\b\b\b\b\b\b\b\b\b\b\b\b\b\b\b\b\b\b\b\b\b\b\b\b\b\b\b\b\b\b\b\b\b\b\b\b\b\b\b\b                                                                        \b\b\b\b\b\b\b\b\b\b\b\b\b\b\b\b\b\b\b\b\b\b\b\b\b\b\b\b\b\b\b\b\b\b\b\b\b\b\b\b\b\b\b\b\b\b\b\b\b\b\b\b\b\b\b\b\b\b\b\b\b\b\b\b\b\b\b\b\b\b\b\b 53% 25540 - Dataset/Smarthome/Record/._record_smarthome_7000039_1264.wav\b\b\b\b\b\b\b\b\b\b\b\b\b\b\b\b\b\b\b\b\b\b\b\b\b\b\b\b\b\b\b\b\b\b\b\b\b\b\b\b\b\b\b\b\b\b\b\b\b\b\b\b\b\b\b\b\b\b\b\b\b\b\b\b\b\b\b\b\b\b\b\b\b                                                                         \b\b\b\b\b\b\b\b\b\b\b\b\b\b\b\b\b\b\b\b\b\b\b\b\b\b\b\b\b\b\b\b\b\b\b\b\b\b\b\b\b\b\b\b\b\b\b\b\b\b\b\b\b\b\b\b\b\b\b\b\b\b\b\b\b\b\b\b\b\b\b\b\b 53% 25620 - Dataset/Smarthome/Record/._record_smarthome_7000039_1879.wav\b\b\b\b\b\b\b\b\b\b\b\b\b\b\b\b\b\b\b\b\b\b\b\b\b\b\b\b\b\b\b\b\b\b\b\b\b\b\b\b\b\b\b\b\b\b\b\b\b\b\b\b\b\b\b\b\b\b\b\b\b\b\b\b\b\b\b\b\b\b\b\b\b                                                                         \b\b\b\b\b\b\b\b\b\b\b\b\b\b\b\b\b\b\b\b\b\b\b\b\b\b\b\b\b\b\b\b\b\b\b\b\b\b\b\b\b\b\b\b\b\b\b\b\b\b\b\b\b\b\b\b\b\b\b\b\b\b\b\b\b\b\b\b\b\b\b\b\b 53% 25699 - Dataset/Smarthome/Record/._record_smarthome_7000039_2539.wav\b\b\b\b\b\b\b\b\b\b\b\b\b\b\b\b\b\b\b\b\b\b\b\b\b\b\b\b\b\b\b\b\b\b\b\b\b\b\b\b\b\b\b\b\b\b\b\b\b\b\b\b\b\b\b\b\b\b\b\b\b\b\b\b\b\b\b\b\b\b\b\b\b                                                                         \b\b\b\b\b\b\b\b\b\b\b\b\b\b\b\b\b\b\b\b\b\b\b\b\b\b\b\b\b\b\b\b\b\b\b\b\b\b\b\b\b\b\b\b\b\b\b\b\b\b\b\b\b\b\b\b\b\b\b\b\b\b\b\b\b\b\b\b\b\b\b\b\b 53% 25778 - Dataset/Smarthome/Record/._record_smarthome_7000039_761.wav\b\b\b\b\b\b\b\b\b\b\b\b\b\b\b\b\b\b\b\b\b\b\b\b\b\b\b\b\b\b\b\b\b\b\b\b\b\b\b\b\b\b\b\b\b\b\b\b\b\b\b\b\b\b\b\b\b\b\b\b\b\b\b\b\b\b\b\b\b\b\b\b                                                                        \b\b\b\b\b\b\b\b\b\b\b\b\b\b\b\b\b\b\b\b\b\b\b\b\b\b\b\b\b\b\b\b\b\b\b\b\b\b\b\b\b\b\b\b\b\b\b\b\b\b\b\b\b\b\b\b\b\b\b\b\b\b\b\b\b\b\b\b\b\b\b\b 53% 25855 - Dataset/Smarthome/Record/._record_smarthome_7000040_1345.wav\b\b\b\b\b\b\b\b\b\b\b\b\b\b\b\b\b\b\b\b\b\b\b\b\b\b\b\b\b\b\b\b\b\b\b\b\b\b\b\b\b\b\b\b\b\b\b\b\b\b\b\b\b\b\b\b\b\b\b\b\b\b\b\b\b\b\b\b\b\b\b\b\b                                                                         \b\b\b\b\b\b\b\b\b\b\b\b\b\b\b\b\b\b\b\b\b\b\b\b\b\b\b\b\b\b\b\b\b\b\b\b\b\b\b\b\b\b\b\b\b\b\b\b\b\b\b\b\b\b\b\b\b\b\b\b\b\b\b\b\b\b\b\b\b\b\b\b\b 53% 25922 - Dataset/Smarthome/Record/._record_smarthome_7000040_1857.wav\b\b\b\b\b\b\b\b\b\b\b\b\b\b\b\b\b\b\b\b\b\b\b\b\b\b\b\b\b\b\b\b\b\b\b\b\b\b\b\b\b\b\b\b\b\b\b\b\b\b\b\b\b\b\b\b\b\b\b\b\b\b\b\b\b\b\b\b\b\b\b\b\b                                                                         \b\b\b\b\b\b\b\b\b\b\b\b\b\b\b\b\b\b\b\b\b\b\b\b\b\b\b\b\b\b\b\b\b\b\b\b\b\b\b\b\b\b\b\b\b\b\b\b\b\b\b\b\b\b\b\b\b\b\b\b\b\b\b\b\b\b\b\b\b\b\b\b\b 53% 25997 - Dataset/Smarthome/Record/._record_smarthome_7000040_2458.wav\b\b\b\b\b\b\b\b\b\b\b\b\b\b\b\b\b\b\b\b\b\b\b\b\b\b\b\b\b\b\b\b\b\b\b\b\b\b\b\b\b\b\b\b\b\b\b\b\b\b\b\b\b\b\b\b\b\b\b\b\b\b\b\b\b\b\b\b\b\b\b\b\b                                                                         \b\b\b\b\b\b\b\b\b\b\b\b\b\b\b\b\b\b\b\b\b\b\b\b\b\b\b\b\b\b\b\b\b\b\b\b\b\b\b\b\b\b\b\b\b\b\b\b\b\b\b\b\b\b\b\b\b\b\b\b\b\b\b\b\b\b\b\b\b\b\b\b\b 53% 26072 - Dataset/Smarthome/Record/._record_smarthome_7000040_727.wav\b\b\b\b\b\b\b\b\b\b\b\b\b\b\b\b\b\b\b\b\b\b\b\b\b\b\b\b\b\b\b\b\b\b\b\b\b\b\b\b\b\b\b\b\b\b\b\b\b\b\b\b\b\b\b\b\b\b\b\b\b\b\b\b\b\b\b\b\b\b\b\b                                                                        \b\b\b\b\b\b\b\b\b\b\b\b\b\b\b\b\b\b\b\b\b\b\b\b\b\b\b\b\b\b\b\b\b\b\b\b\b\b\b\b\b\b\b\b\b\b\b\b\b\b\b\b\b\b\b\b\b\b\b\b\b\b\b\b\b\b\b\b\b\b\b\b 53% 26146 - Dataset/Smarthome/Record/._record_smarthome_7000041_1213.wav\b\b\b\b\b\b\b\b\b\b\b\b\b\b\b\b\b\b\b\b\b\b\b\b\b\b\b\b\b\b\b\b\b\b\b\b\b\b\b\b\b\b\b\b\b\b\b\b\b\b\b\b\b\b\b\b\b\b\b\b\b\b\b\b\b\b\b\b\b\b\b\b\b                                                                         \b\b\b\b\b\b\b\b\b\b\b\b\b\b\b\b\b\b\b\b\b\b\b\b\b\b\b\b\b\b\b\b\b\b\b\b\b\b\b\b\b\b\b\b\b\b\b\b\b\b\b\b\b\b\b\b\b\b\b\b\b\b\b\b\b\b\b\b\b\b\b\b\b 53% 26219 - Dataset/Smarthome/Record/._record_smarthome_7000041_1730.wav\b\b\b\b\b\b\b\b\b\b\b\b\b\b\b\b\b\b\b\b\b\b\b\b\b\b\b\b\b\b\b\b\b\b\b\b\b\b\b\b\b\b\b\b\b\b\b\b\b\b\b\b\b\b\b\b\b\b\b\b\b\b\b\b\b\b\b\b\b\b\b\b\b                                                                         \b\b\b\b\b\b\b\b\b\b\b\b\b\b\b\b\b\b\b\b\b\b\b\b\b\b\b\b\b\b\b\b\b\b\b\b\b\b\b\b\b\b\b\b\b\b\b\b\b\b\b\b\b\b\b\b\b\b\b\b\b\b\b\b\b\b\b\b\b\b\b\b\b 53% 26292 - Dataset/Smarthome/Record/._record_smarthome_7000041_2433.wav\b\b\b\b\b\b\b\b\b\b\b\b\b\b\b\b\b\b\b\b\b\b\b\b\b\b\b\b\b\b\b\b\b\b\b\b\b\b\b\b\b\b\b\b\b\b\b\b\b\b\b\b\b\b\b\b\b\b\b\b\b\b\b\b\b\b\b\b\b\b\b\b\b                                                                         \b\b\b\b\b\b\b\b\b\b\b\b\b\b\b\b\b\b\b\b\b\b\b\b\b\b\b\b\b\b\b\b\b\b\b\b\b\b\b\b\b\b\b\b\b\b\b\b\b\b\b\b\b\b\b\b\b\b\b\b\b\b\b\b\b\b\b\b\b\b\b\b\b 53% 26365 - Dataset/Smarthome/Record/._record_smarthome_7000041_618.wav\b\b\b\b\b\b\b\b\b\b\b\b\b\b\b\b\b\b\b\b\b\b\b\b\b\b\b\b\b\b\b\b\b\b\b\b\b\b\b\b\b\b\b\b\b\b\b\b\b\b\b\b\b\b\b\b\b\b\b\b\b\b\b\b\b\b\b\b\b\b\b\b                                                                        \b\b\b\b\b\b\b\b\b\b\b\b\b\b\b\b\b\b\b\b\b\b\b\b\b\b\b\b\b\b\b\b\b\b\b\b\b\b\b\b\b\b\b\b\b\b\b\b\b\b\b\b\b\b\b\b\b\b\b\b\b\b\b\b\b\b\b\b\b\b\b\b 53% 26437 - Dataset/Smarthome/Record/._record_smarthome_7000042_1184.wav\b\b\b\b\b\b\b\b\b\b\b\b\b\b\b\b\b\b\b\b\b\b\b\b\b\b\b\b\b\b\b\b\b\b\b\b\b\b\b\b\b\b\b\b\b\b\b\b\b\b\b\b\b\b\b\b\b\b\b\b\b\b\b\b\b\b\b\b\b\b\b\b\b                                                                         \b\b\b\b\b\b\b\b\b\b\b\b\b\b\b\b\b\b\b\b\b\b\b\b\b\b\b\b\b\b\b\b\b\b\b\b\b\b\b\b\b\b\b\b\b\b\b\b\b\b\b\b\b\b\b\b\b\b\b\b\b\b\b\b\b\b\b\b\b\b\b\b\b 53% 26508 - Dataset/Smarthome/Record/._record_smarthome_7000042_176.wav\b\b\b\b\b\b\b\b\b\b\b\b\b\b\b\b\b\b\b\b\b\b\b\b\b\b\b\b\b\b\b\b\b\b\b\b\b\b\b\b\b\b\b\b\b\b\b\b\b\b\b\b\b\b\b\b\b\b\b\b\b\b\b\b\b\b\b\b\b\b\b\b                                                                        \b\b\b\b\b\b\b\b\b\b\b\b\b\b\b\b\b\b\b\b\b\b\b\b\b\b\b\b\b\b\b\b\b\b\b\b\b\b\b\b\b\b\b\b\b\b\b\b\b\b\b\b\b\b\b\b\b\b\b\b\b\b\b\b\b\b\b\b\b\b\b\b 53% 26578 - Dataset/Smarthome/Record/._record_smarthome_7000042_2377.wav\b\b\b\b\b\b\b\b\b\b\b\b\b\b\b\b\b\b\b\b\b\b\b\b\b\b\b\b\b\b\b\b\b\b\b\b\b\b\b\b\b\b\b\b\b\b\b\b\b\b\b\b\b\b\b\b\b\b\b\b\b\b\b\b\b\b\b\b\b\b\b\b\b                                                                         \b\b\b\b\b\b\b\b\b\b\b\b\b\b\b\b\b\b\b\b\b\b\b\b\b\b\b\b\b\b\b\b\b\b\b\b\b\b\b\b\b\b\b\b\b\b\b\b\b\b\b\b\b\b\b\b\b\b\b\b\b\b\b\b\b\b\b\b\b\b\b\b\b 53% 26648 - Dataset/Smarthome/Record/._record_smarthome_7000042_491.wav\b\b\b\b\b\b\b\b\b\b\b\b\b\b\b\b\b\b\b\b\b\b\b\b\b\b\b\b\b\b\b\b\b\b\b\b\b\b\b\b\b\b\b\b\b\b\b\b\b\b\b\b\b\b\b\b\b\b\b\b\b\b\b\b\b\b\b\b\b\b\b\b                                                                        \b\b\b\b\b\b\b\b\b\b\b\b\b\b\b\b\b\b\b\b\b\b\b\b\b\b\b\b\b\b\b\b\b\b\b\b\b\b\b\b\b\b\b\b\b\b\b\b\b\b\b\b\b\b\b\b\b\b\b\b\b\b\b\b\b\b\b\b\b\b\b\b 53% 26717 - Dataset/Smarthome/Record/._record_smarthome_7000043_1036.wav\b\b\b\b\b\b\b\b\b\b\b\b\b\b\b\b\b\b\b\b\b\b\b\b\b\b\b\b\b\b\b\b\b\b\b\b\b\b\b\b\b\b\b\b\b\b\b\b\b\b\b\b\b\b\b\b\b\b\b\b\b\b\b\b\b\b\b\b\b\b\b\b\b                                                                         \b\b\b\b\b\b\b\b\b\b\b\b\b\b\b\b\b\b\b\b\b\b\b\b\b\b\b\b\b\b\b\b\b\b\b\b\b\b\b\b\b\b\b\b\b\b\b\b\b\b\b\b\b\b\b\b\b\b\b\b\b\b\b\b\b\b\b\b\b\b\b\b\b 53% 26785 - Dataset/Smarthome/Record/._record_smarthome_7000043_1579.wav\b\b\b\b\b\b\b\b\b\b\b\b\b\b\b\b\b\b\b\b\b\b\b\b\b\b\b\b\b\b\b\b\b\b\b\b\b\b\b\b\b\b\b\b\b\b\b\b\b\b\b\b\b\b\b\b\b\b\b\b\b\b\b\b\b\b\b\b\b\b\b\b\b                                                                         \b\b\b\b\b\b\b\b\b\b\b\b\b\b\b\b\b\b\b\b\b\b\b\b\b\b\b\b\b\b\b\b\b\b\b\b\b\b\b\b\b\b\b\b\b\b\b\b\b\b\b\b\b\b\b\b\b\b\b\b\b\b\b\b\b\b\b\b\b\b\b\b\b 53% 26851 - Dataset/Smarthome/Record/._record_smarthome_7000043_2039.wav\b\b\b\b\b\b\b\b\b\b\b\b\b\b\b\b\b\b\b\b\b\b\b\b\b\b\b\b\b\b\b\b\b\b\b\b\b\b\b\b\b\b\b\b\b\b\b\b\b\b\b\b\b\b\b\b\b\b\b\b\b\b\b\b\b\b\b\b\b\b\b\b\b                                                                         \b\b\b\b\b\b\b\b\b\b\b\b\b\b\b\b\b\b\b\b\b\b\b\b\b\b\b\b\b\b\b\b\b\b\b\b\b\b\b\b\b\b\b\b\b\b\b\b\b\b\b\b\b\b\b\b\b\b\b\b\b\b\b\b\b\b\b\b\b\b\b\b\b 53% 26918 - Dataset/Smarthome/Record/._record_smarthome_7000043_2620.wav\b\b\b\b\b\b\b\b\b\b\b\b\b\b\b\b\b\b\b\b\b\b\b\b\b\b\b\b\b\b\b\b\b\b\b\b\b\b\b\b\b\b\b\b\b\b\b\b\b\b\b\b\b\b\b\b\b\b\b\b\b\b\b\b\b\b\b\b\b\b\b\b\b                                                                         \b\b\b\b\b\b\b\b\b\b\b\b\b\b\b\b\b\b\b\b\b\b\b\b\b\b\b\b\b\b\b\b\b\b\b\b\b\b\b\b\b\b\b\b\b\b\b\b\b\b\b\b\b\b\b\b\b\b\b\b\b\b\b\b\b\b\b\b\b\b\b\b\b 53% 26983 - Dataset/Smarthome/Record/._record_smarthome_7000043_809.wav\b\b\b\b\b\b\b\b\b\b\b\b\b\b\b\b\b\b\b\b\b\b\b\b\b\b\b\b\b\b\b\b\b\b\b\b\b\b\b\b\b\b\b\b\b\b\b\b\b\b\b\b\b\b\b\b\b\b\b\b\b\b\b\b\b\b\b\b\b\b\b\b                                                                        \b\b\b\b\b\b\b\b\b\b\b\b\b\b\b\b\b\b\b\b\b\b\b\b\b\b\b\b\b\b\b\b\b\b\b\b\b\b\b\b\b\b\b\b\b\b\b\b\b\b\b\b\b\b\b\b\b\b\b\b\b\b\b\b\b\b\b\b\b\b\b\b 53% 27049 - Dataset/Smarthome/Record/._record_smarthome_7000044_1349.wav\b\b\b\b\b\b\b\b\b\b\b\b\b\b\b\b\b\b\b\b\b\b\b\b\b\b\b\b\b\b\b\b\b\b\b\b\b\b\b\b\b\b\b\b\b\b\b\b\b\b\b\b\b\b\b\b\b\b\b\b\b\b\b\b\b\b\b\b\b\b\b\b\b                                                                         \b\b\b\b\b\b\b\b\b\b\b\b\b\b\b\b\b\b\b\b\b\b\b\b\b\b\b\b\b\b\b\b\b\b\b\b\b\b\b\b\b\b\b\b\b\b\b\b\b\b\b\b\b\b\b\b\b\b\b\b\b\b\b\b\b\b\b\b\b\b\b\b\b 53% 27114 - Dataset/Smarthome/Record/._record_smarthome_7000044_1863.wav\b\b\b\b\b\b\b\b\b\b\b\b\b\b\b\b\b\b\b\b\b\b\b\b\b\b\b\b\b\b\b\b\b\b\b\b\b\b\b\b\b\b\b\b\b\b\b\b\b\b\b\b\b\b\b\b\b\b\b\b\b\b\b\b\b\b\b\b\b\b\b\b\b                                                                         \b\b\b\b\b\b\b\b\b\b\b\b\b\b\b\b\b\b\b\b\b\b\b\b\b\b\b\b\b\b\b\b\b\b\b\b\b\b\b\b\b\b\b\b\b\b\b\b\b\b\b\b\b\b\b\b\b\b\b\b\b\b\b\b\b\b\b\b\b\b\b\b\b 53% 27179 - Dataset/Smarthome/Record/._record_smarthome_7000044_2291.wav\b\b\b\b\b\b\b\b\b\b\b\b\b\b\b\b\b\b\b\b\b\b\b\b\b\b\b\b\b\b\b\b\b\b\b\b\b\b\b\b\b\b\b\b\b\b\b\b\b\b\b\b\b\b\b\b\b\b\b\b\b\b\b\b\b\b\b\b\b\b\b\b\b                                                                         \b\b\b\b\b\b\b\b\b\b\b\b\b\b\b\b\b\b\b\b\b\b\b\b\b\b\b\b\b\b\b\b\b\b\b\b\b\b\b\b\b\b\b\b\b\b\b\b\b\b\b\b\b\b\b\b\b\b\b\b\b\b\b\b\b\b\b\b\b\b\b\b\b 53% 27242 - Dataset/Smarthome/Record/._record_smarthome_7000044_345.wav\b\b\b\b\b\b\b\b\b\b\b\b\b\b\b\b\b\b\b\b\b\b\b\b\b\b\b\b\b\b\b\b\b\b\b\b\b\b\b\b\b\b\b\b\b\b\b\b\b\b\b\b\b\b\b\b\b\b\b\b\b\b\b\b\b\b\b\b\b\b\b\b                                                                        \b\b\b\b\b\b\b\b\b\b\b\b\b\b\b\b\b\b\b\b\b\b\b\b\b\b\b\b\b\b\b\b\b\b\b\b\b\b\b\b\b\b\b\b\b\b\b\b\b\b\b\b\b\b\b\b\b\b\b\b\b\b\b\b\b\b\b\b\b\b\b\b 53% 27306 - Dataset/Smarthome/Record/._record_smarthome_7000044_94.wav\b\b\b\b\b\b\b\b\b\b\b\b\b\b\b\b\b\b\b\b\b\b\b\b\b\b\b\b\b\b\b\b\b\b\b\b\b\b\b\b\b\b\b\b\b\b\b\b\b\b\b\b\b\b\b\b\b\b\b\b\b\b\b\b\b\b\b\b\b\b\b                                                                       \b\b\b\b\b\b\b\b\b\b\b\b\b\b\b\b\b\b\b\b\b\b\b\b\b\b\b\b\b\b\b\b\b\b\b\b\b\b\b\b\b\b\b\b\b\b\b\b\b\b\b\b\b\b\b\b\b\b\b\b\b\b\b\b\b\b\b\b\b\b\b 53% 27369 - Dataset/Smarthome/Record/._record_smarthome_7000050_145.wav\b\b\b\b\b\b\b\b\b\b\b\b\b\b\b\b\b\b\b\b\b\b\b\b\b\b\b\b\b\b\b\b\b\b\b\b\b\b\b\b\b\b\b\b\b\b\b\b\b\b\b\b\b\b\b\b\b\b\b\b\b\b\b\b\b\b\b\b\b\b\b\b                                                                        \b\b\b\b\b\b\b\b\b\b\b\b\b\b\b\b\b\b\b\b\b\b\b\b\b\b\b\b\b\b\b\b\b\b\b\b\b\b\b\b\b\b\b\b\b\b\b\b\b\b\b\b\b\b\b\b\b\b\b\b\b\b\b\b\b\b\b\b\b\b\b\b 53% 27432 - Dataset/Smarthome/Record/._record_smarthome_7000050_1959.wav\b\b\b\b\b\b\b\b\b\b\b\b\b\b\b\b\b\b\b\b\b\b\b\b\b\b\b\b\b\b\b\b\b\b\b\b\b\b\b\b\b\b\b\b\b\b\b\b\b\b\b\b\b\b\b\b\b\b\b\b\b\b\b\b\b\b\b\b\b\b\b\b\b                                                                         \b\b\b\b\b\b\b\b\b\b\b\b\b\b\b\b\b\b\b\b\b\b\b\b\b\b\b\b\b\b\b\b\b\b\b\b\b\b\b\b\b\b\b\b\b\b\b\b\b\b\b\b\b\b\b\b\b\b\b\b\b\b\b\b\b\b\b\b\b\b\b\b\b 53% 27493 - Dataset/Smarthome/Record/._record_smarthome_7000050_2425.wav\b\b\b\b\b\b\b\b\b\b\b\b\b\b\b\b\b\b\b\b\b\b\b\b\b\b\b\b\b\b\b\b\b\b\b\b\b\b\b\b\b\b\b\b\b\b\b\b\b\b\b\b\b\b\b\b\b\b\b\b\b\b\b\b\b\b\b\b\b\b\b\b\b                                                                         \b\b\b\b\b\b\b\b\b\b\b\b\b\b\b\b\b\b\b\b\b\b\b\b\b\b\b\b\b\b\b\b\b\b\b\b\b\b\b\b\b\b\b\b\b\b\b\b\b\b\b\b\b\b\b\b\b\b\b\b\b\b\b\b\b\b\b\b\b\b\b\b\b 53% 27555 - Dataset/Smarthome/Record/._record_smarthome_7000050_558.wav\b\b\b\b\b\b\b\b\b\b\b\b\b\b\b\b\b\b\b\b\b\b\b\b\b\b\b\b\b\b\b\b\b\b\b\b\b\b\b\b\b\b\b\b\b\b\b\b\b\b\b\b\b\b\b\b\b\b\b\b\b\b\b\b\b\b\b\b\b\b\b\b                                                                        \b\b\b\b\b\b\b\b\b\b\b\b\b\b\b\b\b\b\b\b\b\b\b\b\b\b\b\b\b\b\b\b\b\b\b\b\b\b\b\b\b\b\b\b\b\b\b\b\b\b\b\b\b\b\b\b\b\b\b\b\b\b\b\b\b\b\b\b\b\b\b\b 53% 27616 - Dataset/Smarthome/Record/._record_smarthome_7000051_1053.wav\b\b\b\b\b\b\b\b\b\b\b\b\b\b\b\b\b\b\b\b\b\b\b\b\b\b\b\b\b\b\b\b\b\b\b\b\b\b\b\b\b\b\b\b\b\b\b\b\b\b\b\b\b\b\b\b\b\b\b\b\b\b\b\b\b\b\b\b\b\b\b\b\b                                                                         \b\b\b\b\b\b\b\b\b\b\b\b\b\b\b\b\b\b\b\b\b\b\b\b\b\b\b\b\b\b\b\b\b\b\b\b\b\b\b\b\b\b\b\b\b\b\b\b\b\b\b\b\b\b\b\b\b\b\b\b\b\b\b\b\b\b\b\b\b\b\b\b\b 53% 27679 - Dataset/Smarthome/Record/._record_smarthome_7000051_1594.wav\b\b\b\b\b\b\b\b\b\b\b\b\b\b\b\b\b\b\b\b\b\b\b\b\b\b\b\b\b\b\b\b\b\b\b\b\b\b\b\b\b\b\b\b\b\b\b\b\b\b\b\b\b\b\b\b\b\b\b\b\b\b\b\b\b\b\b\b\b\b\b\b\b                                                                         \b\b\b\b\b\b\b\b\b\b\b\b\b\b\b\b\b\b\b\b\b\b\b\b\b\b\b\b\b\b\b\b\b\b\b\b\b\b\b\b\b\b\b\b\b\b\b\b\b\b\b\b\b\b\b\b\b\b\b\b\b\b\b\b\b\b\b\b\b\b\b\b\b 53% 27739 - Dataset/Smarthome/Record/._record_smarthome_7000051_2028.wav\b\b\b\b\b\b\b\b\b\b\b\b\b\b\b\b\b\b\b\b\b\b\b\b\b\b\b\b\b\b\b\b\b\b\b\b\b\b\b\b\b\b\b\b\b\b\b\b\b\b\b\b\b\b\b\b\b\b\b\b\b\b\b\b\b\b\b\b\b\b\b\b\b                                                                         \b\b\b\b\b\b\b\b\b\b\b\b\b\b\b\b\b\b\b\b\b\b\b\b\b\b\b\b\b\b\b\b\b\b\b\b\b\b\b\b\b\b\b\b\b\b\b\b\b\b\b\b\b\b\b\b\b\b\b\b\b\b\b\b\b\b\b\b\b\b\b\b\b 53% 27800 - Dataset/Smarthome/Record/._record_smarthome_7000051_2524.wav\b\b\b\b\b\b\b\b\b\b\b\b\b\b\b\b\b\b\b\b\b\b\b\b\b\b\b\b\b\b\b\b\b\b\b\b\b\b\b\b\b\b\b\b\b\b\b\b\b\b\b\b\b\b\b\b\b\b\b\b\b\b\b\b\b\b\b\b\b\b\b\b\b                                                                         \b\b\b\b\b\b\b\b\b\b\b\b\b\b\b\b\b\b\b\b\b\b\b\b\b\b\b\b\b\b\b\b\b\b\b\b\b\b\b\b\b\b\b\b\b\b\b\b\b\b\b\b\b\b\b\b\b\b\b\b\b\b\b\b\b\b\b\b\b\b\b\b\b 53% 27860 - Dataset/Smarthome/Record/._record_smarthome_7000051_568.wav\b\b\b\b\b\b\b\b\b\b\b\b\b\b\b\b\b\b\b\b\b\b\b\b\b\b\b\b\b\b\b\b\b\b\b\b\b\b\b\b\b\b\b\b\b\b\b\b\b\b\b\b\b\b\b\b\b\b\b\b\b\b\b\b\b\b\b\b\b\b\b\b                                                                        \b\b\b\b\b\b\b\b\b\b\b\b\b\b\b\b\b\b\b\b\b\b\b\b\b\b\b\b\b\b\b\b\b\b\b\b\b\b\b\b\b\b\b\b\b\b\b\b\b\b\b\b\b\b\b\b\b\b\b\b\b\b\b\b\b\b\b\b\b\b\b\b 53% 27920 - Dataset/Smarthome/Record/._record_smarthome_7000052_1118.wav\b\b\b\b\b\b\b\b\b\b\b\b\b\b\b\b\b\b\b\b\b\b\b\b\b\b\b\b\b\b\b\b\b\b\b\b\b\b\b\b\b\b\b\b\b\b\b\b\b\b\b\b\b\b\b\b\b\b\b\b\b\b\b\b\b\b\b\b\b\b\b\b\b                                                                         \b\b\b\b\b\b\b\b\b\b\b\b\b\b\b\b\b\b\b\b\b\b\b\b\b\b\b\b\b\b\b\b\b\b\b\b\b\b\b\b\b\b\b\b\b\b\b\b\b\b\b\b\b\b\b\b\b\b\b\b\b\b\b\b\b\b\b\b\b\b\b\b\b 53% 27979 - Dataset/Smarthome/Record/._record_smarthome_7000052_16.wav\b\b\b\b\b\b\b\b\b\b\b\b\b\b\b\b\b\b\b\b\b\b\b\b\b\b\b\b\b\b\b\b\b\b\b\b\b\b\b\b\b\b\b\b\b\b\b\b\b\b\b\b\b\b\b\b\b\b\b\b\b\b\b\b\b\b\b\b\b\b\b                                                                       \b\b\b\b\b\b\b\b\b\b\b\b\b\b\b\b\b\b\b\b\b\b\b\b\b\b\b\b\b\b\b\b\b\b\b\b\b\b\b\b\b\b\b\b\b\b\b\b\b\b\b\b\b\b\b\b\b\b\b\b\b\b\b\b\b\b\b\b\b\b\b 53% 28039 - Dataset/Smarthome/Record/._record_smarthome_7000052_207.wav\b\b\b\b\b\b\b\b\b\b\b\b\b\b\b\b\b\b\b\b\b\b\b\b\b\b\b\b\b\b\b\b\b\b\b\b\b\b\b\b\b\b\b\b\b\b\b\b\b\b\b\b\b\b\b\b\b\b\b\b\b\b\b\b\b\b\b\b\b\b\b\b                                                                        \b\b\b\b\b\b\b\b\b\b\b\b\b\b\b\b\b\b\b\b\b\b\b\b\b\b\b\b\b\b\b\b\b\b\b\b\b\b\b\b\b\b\b\b\b\b\b\b\b\b\b\b\b\b\b\b\b\b\b\b\b\b\b\b\b\b\b\b\b\b\b\b 53% 28097 - Dataset/Smarthome/Record/._record_smarthome_7000052_2508.wav\b\b\b\b\b\b\b\b\b\b\b\b\b\b\b\b\b\b\b\b\b\b\b\b\b\b\b\b\b\b\b\b\b\b\b\b\b\b\b\b\b\b\b\b\b\b\b\b\b\b\b\b\b\b\b\b\b\b\b\b\b\b\b\b\b\b\b\b\b\b\b\b\b                                                                         \b\b\b\b\b\b\b\b\b\b\b\b\b\b\b\b\b\b\b\b\b\b\b\b\b\b\b\b\b\b\b\b\b\b\b\b\b\b\b\b\b\b\b\b\b\b\b\b\b\b\b\b\b\b\b\b\b\b\b\b\b\b\b\b\b\b\b\b\b\b\b\b\b 53% 28154 - Dataset/Smarthome/Record/._record_smarthome_7000052_600.wav\b\b\b\b\b\b\b\b\b\b\b\b\b\b\b\b\b\b\b\b\b\b\b\b\b\b\b\b\b\b\b\b\b\b\b\b\b\b\b\b\b\b\b\b\b\b\b\b\b\b\b\b\b\b\b\b\b\b\b\b\b\b\b\b\b\b\b\b\b\b\b\b                                                                        \b\b\b\b\b\b\b\b\b\b\b\b\b\b\b\b\b\b\b\b\b\b\b\b\b\b\b\b\b\b\b\b\b\b\b\b\b\b\b\b\b\b\b\b\b\b\b\b\b\b\b\b\b\b\b\b\b\b\b\b\b\b\b\b\b\b\b\b\b\b\b\b 53% 28212 - Dataset/Smarthome/Record/._record_smarthome_7000053_1020.wav\b\b\b\b\b\b\b\b\b\b\b\b\b\b\b\b\b\b\b\b\b\b\b\b\b\b\b\b\b\b\b\b\b\b\b\b\b\b\b\b\b\b\b\b\b\b\b\b\b\b\b\b\b\b\b\b\b\b\b\b\b\b\b\b\b\b\b\b\b\b\b\b\b                                                                         \b\b\b\b\b\b\b\b\b\b\b\b\b\b\b\b\b\b\b\b\b\b\b\b\b\b\b\b\b\b\b\b\b\b\b\b\b\b\b\b\b\b\b\b\b\b\b\b\b\b\b\b\b\b\b\b\b\b\b\b\b\b\b\b\b\b\b\b\b\b\b\b\b 53% 28270 - Dataset/Smarthome/Record/._record_smarthome_7000053_1532.wav\b\b\b\b\b\b\b\b\b\b\b\b\b\b\b\b\b\b\b\b\b\b\b\b\b\b\b\b\b\b\b\b\b\b\b\b\b\b\b\b\b\b\b\b\b\b\b\b\b\b\b\b\b\b\b\b\b\b\b\b\b\b\b\b\b\b\b\b\b\b\b\b\b                                                                         \b\b\b\b\b\b\b\b\b\b\b\b\b\b\b\b\b\b\b\b\b\b\b\b\b\b\b\b\b\b\b\b\b\b\b\b\b\b\b\b\b\b\b\b\b\b\b\b\b\b\b\b\b\b\b\b\b\b\b\b\b\b\b\b\b\b\b\b\b\b\b\b\b 53% 28327 - Dataset/Smarthome/Record/._record_smarthome_7000053_1946.wav\b\b\b\b\b\b\b\b\b\b\b\b\b\b\b\b\b\b\b\b\b\b\b\b\b\b\b\b\b\b\b\b\b\b\b\b\b\b\b\b\b\b\b\b\b\b\b\b\b\b\b\b\b\b\b\b\b\b\b\b\b\b\b\b\b\b\b\b\b\b\b\b\b                                                                         \b\b\b\b\b\b\b\b\b\b\b\b\b\b\b\b\b\b\b\b\b\b\b\b\b\b\b\b\b\b\b\b\b\b\b\b\b\b\b\b\b\b\b\b\b\b\b\b\b\b\b\b\b\b\b\b\b\b\b\b\b\b\b\b\b\b\b\b\b\b\b\b\b 53% 28384 - Dataset/Smarthome/Record/._record_smarthome_7000053_2430.wav\b\b\b\b\b\b\b\b\b\b\b\b\b\b\b\b\b\b\b\b\b\b\b\b\b\b\b\b\b\b\b\b\b\b\b\b\b\b\b\b\b\b\b\b\b\b\b\b\b\b\b\b\b\b\b\b\b\b\b\b\b\b\b\b\b\b\b\b\b\b\b\b\b                                                                         \b\b\b\b\b\b\b\b\b\b\b\b\b\b\b\b\b\b\b\b\b\b\b\b\b\b\b\b\b\b\b\b\b\b\b\b\b\b\b\b\b\b\b\b\b\b\b\b\b\b\b\b\b\b\b\b\b\b\b\b\b\b\b\b\b\b\b\b\b\b\b\b\b 53% 28440 - Dataset/Smarthome/Record/._record_smarthome_7000053_441.wav\b\b\b\b\b\b\b\b\b\b\b\b\b\b\b\b\b\b\b\b\b\b\b\b\b\b\b\b\b\b\b\b\b\b\b\b\b\b\b\b\b\b\b\b\b\b\b\b\b\b\b\b\b\b\b\b\b\b\b\b\b\b\b\b\b\b\b\b\b\b\b\b                                                                        \b\b\b\b\b\b\b\b\b\b\b\b\b\b\b\b\b\b\b\b\b\b\b\b\b\b\b\b\b\b\b\b\b\b\b\b\b\b\b\b\b\b\b\b\b\b\b\b\b\b\b\b\b\b\b\b\b\b\b\b\b\b\b\b\b\b\b\b\b\b\b\b 53% 28495 - Dataset/Smarthome/Record/._record_smarthome_7000053_894.wav\b\b\b\b\b\b\b\b\b\b\b\b\b\b\b\b\b\b\b\b\b\b\b\b\b\b\b\b\b\b\b\b\b\b\b\b\b\b\b\b\b\b\b\b\b\b\b\b\b\b\b\b\b\b\b\b\b\b\b\b\b\b\b\b\b\b\b\b\b\b\b\b                                                                        \b\b\b\b\b\b\b\b\b\b\b\b\b\b\b\b\b\b\b\b\b\b\b\b\b\b\b\b\b\b\b\b\b\b\b\b\b\b\b\b\b\b\b\b\b\b\b\b\b\b\b\b\b\b\b\b\b\b\b\b\b\b\b\b\b\b\b\b\b\b\b\b 53% 28552 - Dataset/Smarthome/Record/._record_smarthome_7000054_1329.wav\b\b\b\b\b\b\b\b\b\b\b\b\b\b\b\b\b\b\b\b\b\b\b\b\b\b\b\b\b\b\b\b\b\b\b\b\b\b\b\b\b\b\b\b\b\b\b\b\b\b\b\b\b\b\b\b\b\b\b\b\b\b\b\b\b\b\b\b\b\b\b\b\b                                                                         \b\b\b\b\b\b\b\b\b\b\b\b\b\b\b\b\b\b\b\b\b\b\b\b\b\b\b\b\b\b\b\b\b\b\b\b\b\b\b\b\b\b\b\b\b\b\b\b\b\b\b\b\b\b\b\b\b\b\b\b\b\b\b\b\b\b\b\b\b\b\b\b\b 53% 28607 - Dataset/Smarthome/Record/._record_smarthome_7000054_1766.wav\b\b\b\b\b\b\b\b\b\b\b\b\b\b\b\b\b\b\b\b\b\b\b\b\b\b\b\b\b\b\b\b\b\b\b\b\b\b\b\b\b\b\b\b\b\b\b\b\b\b\b\b\b\b\b\b\b\b\b\b\b\b\b\b\b\b\b\b\b\b\b\b\b                                                                         \b\b\b\b\b\b\b\b\b\b\b\b\b\b\b\b\b\b\b\b\b\b\b\b\b\b\b\b\b\b\b\b\b\b\b\b\b\b\b\b\b\b\b\b\b\b\b\b\b\b\b\b\b\b\b\b\b\b\b\b\b\b\b\b\b\b\b\b\b\b\b\b\b 53% 28662 - Dataset/Smarthome/Record/._record_smarthome_7000054_2276.wav\b\b\b\b\b\b\b\b\b\b\b\b\b\b\b\b\b\b\b\b\b\b\b\b\b\b\b\b\b\b\b\b\b\b\b\b\b\b\b\b\b\b\b\b\b\b\b\b\b\b\b\b\b\b\b\b\b\b\b\b\b\b\b\b\b\b\b\b\b\b\b\b\b                                                                         \b\b\b\b\b\b\b\b\b\b\b\b\b\b\b\b\b\b\b\b\b\b\b\b\b\b\b\b\b\b\b\b\b\b\b\b\b\b\b\b\b\b\b\b\b\b\b\b\b\b\b\b\b\b\b\b\b\b\b\b\b\b\b\b\b\b\b\b\b\b\b\b\b 53% 28717 - Dataset/Smarthome/Record/._record_smarthome_7000054_292.wav\b\b\b\b\b\b\b\b\b\b\b\b\b\b\b\b\b\b\b\b\b\b\b\b\b\b\b\b\b\b\b\b\b\b\b\b\b\b\b\b\b\b\b\b\b\b\b\b\b\b\b\b\b\b\b\b\b\b\b\b\b\b\b\b\b\b\b\b\b\b\b\b                                                                        \b\b\b\b\b\b\b\b\b\b\b\b\b\b\b\b\b\b\b\b\b\b\b\b\b\b\b\b\b\b\b\b\b\b\b\b\b\b\b\b\b\b\b\b\b\b\b\b\b\b\b\b\b\b\b\b\b\b\b\b\b\b\b\b\b\b\b\b\b\b\b\b 53% 28772 - Dataset/Smarthome/Record/._record_smarthome_7000054_717.wav\b\b\b\b\b\b\b\b\b\b\b\b\b\b\b\b\b\b\b\b\b\b\b\b\b\b\b\b\b\b\b\b\b\b\b\b\b\b\b\b\b\b\b\b\b\b\b\b\b\b\b\b\b\b\b\b\b\b\b\b\b\b\b\b\b\b\b\b\b\b\b\b                                                                        \b\b\b\b\b\b\b\b\b\b\b\b\b\b\b\b\b\b\b\b\b\b\b\b\b\b\b\b\b\b\b\b\b\b\b\b\b\b\b\b\b\b\b\b\b\b\b\b\b\b\b\b\b\b\b\b\b\b\b\b\b\b\b\b\b\b\b\b\b\b\b\b 53% 28819 - Dataset/Smarthome/Record/record_smarthome_7000016_1047.wav\b\b\b\b\b\b\b\b\b\b\b\b\b\b\b\b\b\b\b\b\b\b\b\b\b\b\b\b\b\b\b\b\b\b\b\b\b\b\b\b\b\b\b\b\b\b\b\b\b\b\b\b\b\b\b\b\b\b\b\b\b\b\b\b\b\b\b\b\b\b\b                                                                       \b\b\b\b\b\b\b\b\b\b\b\b\b\b\b\b\b\b\b\b\b\b\b\b\b\b\b\b\b\b\b\b\b\b\b\b\b\b\b\b\b\b\b\b\b\b\b\b\b\b\b\b\b\b\b\b\b\b\b\b\b\b\b\b\b\b\b\b\b\b\b 53% 28847 - Dataset/Smarthome/Record/record_smarthome_7000016_1278.wav\b\b\b\b\b\b\b\b\b\b\b\b\b\b\b\b\b\b\b\b\b\b\b\b\b\b\b\b\b\b\b\b\b\b\b\b\b\b\b\b\b\b\b\b\b\b\b\b\b\b\b\b\b\b\b\b\b\b\b\b\b\b\b\b\b\b\b\b\b\b\b                                                                       \b\b\b\b\b\b\b\b\b\b\b\b\b\b\b\b\b\b\b\b\b\b\b\b\b\b\b\b\b\b\b\b\b\b\b\b\b\b\b\b\b\b\b\b\b\b\b\b\b\b\b\b\b\b\b\b\b\b\b\b\b\b\b\b\b\b\b\b\b\b\b 54% 28875 - Dataset/Smarthome/Record/record_smarthome_7000016_1498.wav\b\b\b\b\b\b\b\b\b\b\b\b\b\b\b\b\b\b\b\b\b\b\b\b\b\b\b\b\b\b\b\b\b\b\b\b\b\b\b\b\b\b\b\b\b\b\b\b\b\b\b\b\b\b\b\b\b\b\b\b\b\b\b\b\b\b\b\b\b\b\b                                                                       \b\b\b\b\b\b\b\b\b\b\b\b\b\b\b\b\b\b\b\b\b\b\b\b\b\b\b\b\b\b\b\b\b\b\b\b\b\b\b\b\b\b\b\b\b\b\b\b\b\b\b\b\b\b\b\b\b\b\b\b\b\b\b\b\b\b\b\b\b\b\b 54% 28904 - Dataset/Smarthome/Record/record_smarthome_7000016_1746.wav\b\b\b\b\b\b\b\b\b\b\b\b\b\b\b\b\b\b\b\b\b\b\b\b\b\b\b\b\b\b\b\b\b\b\b\b\b\b\b\b\b\b\b\b\b\b\b\b\b\b\b\b\b\b\b\b\b\b\b\b\b\b\b\b\b\b\b\b\b\b\b                                                                       \b\b\b\b\b\b\b\b\b\b\b\b\b\b\b\b\b\b\b\b\b\b\b\b\b\b\b\b\b\b\b\b\b\b\b\b\b\b\b\b\b\b\b\b\b\b\b\b\b\b\b\b\b\b\b\b\b\b\b\b\b\b\b\b\b\b\b\b\b\b\b 54% 28932 - Dataset/Smarthome/Record/record_smarthome_7000016_1959.wav\b\b\b\b\b\b\b\b\b\b\b\b\b\b\b\b\b\b\b\b\b\b\b\b\b\b\b\b\b\b\b\b\b\b\b\b\b\b\b\b\b\b\b\b\b\b\b\b\b\b\b\b\b\b\b\b\b\b\b\b\b\b\b\b\b\b\b\b\b\b\b                                                                       \b\b\b\b\b\b\b\b\b\b\b\b\b\b\b\b\b\b\b\b\b\b\b\b\b\b\b\b\b\b\b\b\b\b\b\b\b\b\b\b\b\b\b\b\b\b\b\b\b\b\b\b\b\b\b\b\b\b\b\b\b\b\b\b\b\b\b\b\b\b\b 54% 28961 - Dataset/Smarthome/Record/record_smarthome_7000016_2222.wav\b\b\b\b\b\b\b\b\b\b\b\b\b\b\b\b\b\b\b\b\b\b\b\b\b\b\b\b\b\b\b\b\b\b\b\b\b\b\b\b\b\b\b\b\b\b\b\b\b\b\b\b\b\b\b\b\b\b\b\b\b\b\b\b\b\b\b\b\b\b\b                                                                       \b\b\b\b\b\b\b\b\b\b\b\b\b\b\b\b\b\b\b\b\b\b\b\b\b\b\b\b\b\b\b\b\b\b\b\b\b\b\b\b\b\b\b\b\b\b\b\b\b\b\b\b\b\b\b\b\b\b\b\b\b\b\b\b\b\b\b\b\b\b\b 54% 28991 - Dataset/Smarthome/Record/record_smarthome_7000016_2407.wav\b\b\b\b\b\b\b\b\b\b\b\b\b\b\b\b\b\b\b\b\b\b\b\b\b\b\b\b\b\b\b\b\b\b\b\b\b\b\b\b\b\b\b\b\b\b\b\b\b\b\b\b\b\b\b\b\b\b\b\b\b\b\b\b\b\b\b\b\b\b\b                                                                       \b\b\b\b\b\b\b\b\b\b\b\b\b\b\b\b\b\b\b\b\b\b\b\b\b\b\b\b\b\b\b\b\b\b\b\b\b\b\b\b\b\b\b\b\b\b\b\b\b\b\b\b\b\b\b\b\b\b\b\b\b\b\b\b\b\b\b\b\b\b\b 54% 29019 - Dataset/Smarthome/Record/record_smarthome_7000016_2647.wav\b\b\b\b\b\b\b\b\b\b\b\b\b\b\b\b\b\b\b\b\b\b\b\b\b\b\b\b\b\b\b\b\b\b\b\b\b\b\b\b\b\b\b\b\b\b\b\b\b\b\b\b\b\b\b\b\b\b\b\b\b\b\b\b\b\b\b\b\b\b\b                                                                       \b\b\b\b\b\b\b\b\b\b\b\b\b\b\b\b\b\b\b\b\b\b\b\b\b\b\b\b\b\b\b\b\b\b\b\b\b\b\b\b\b\b\b\b\b\b\b\b\b\b\b\b\b\b\b\b\b\b\b\b\b\b\b\b\b\b\b\b\b\b\b 54% 29047 - Dataset/Smarthome/Record/record_smarthome_7000016_524.wav\b\b\b\b\b\b\b\b\b\b\b\b\b\b\b\b\b\b\b\b\b\b\b\b\b\b\b\b\b\b\b\b\b\b\b\b\b\b\b\b\b\b\b\b\b\b\b\b\b\b\b\b\b\b\b\b\b\b\b\b\b\b\b\b\b\b\b\b\b\b                                                                      \b\b\b\b\b\b\b\b\b\b\b\b\b\b\b\b\b\b\b\b\b\b\b\b\b\b\b\b\b\b\b\b\b\b\b\b\b\b\b\b\b\b\b\b\b\b\b\b\b\b\b\b\b\b\b\b\b\b\b\b\b\b\b\b\b\b\b\b\b\b 54% 29077 - Dataset/Smarthome/Record/record_smarthome_7000016_755.wav\b\b\b\b\b\b\b\b\b\b\b\b\b\b\b\b\b\b\b\b\b\b\b\b\b\b\b\b\b\b\b\b\b\b\b\b\b\b\b\b\b\b\b\b\b\b\b\b\b\b\b\b\b\b\b\b\b\b\b\b\b\b\b\b\b\b\b\b\b\b                                                                      \b\b\b\b\b\b\b\b\b\b\b\b\b\b\b\b\b\b\b\b\b\b\b\b\b\b\b\b\b\b\b\b\b\b\b\b\b\b\b\b\b\b\b\b\b\b\b\b\b\b\b\b\b\b\b\b\b\b\b\b\b\b\b\b\b\b\b\b\b\b 54% 29103 - Dataset/Smarthome/Record/record_smarthome_7000016_964.wav\b\b\b\b\b\b\b\b\b\b\b\b\b\b\b\b\b\b\b\b\b\b\b\b\b\b\b\b\b\b\b\b\b\b\b\b\b\b\b\b\b\b\b\b\b\b\b\b\b\b\b\b\b\b\b\b\b\b\b\b\b\b\b\b\b\b\b\b\b\b                                                                      \b\b\b\b\b\b\b\b\b\b\b\b\b\b\b\b\b\b\b\b\b\b\b\b\b\b\b\b\b\b\b\b\b\b\b\b\b\b\b\b\b\b\b\b\b\b\b\b\b\b\b\b\b\b\b\b\b\b\b\b\b\b\b\b\b\b\b\b\b\b 55% 29132 - Dataset/Smarthome/Record/record_smarthome_7000017_112.wav\b\b\b\b\b\b\b\b\b\b\b\b\b\b\b\b\b\b\b\b\b\b\b\b\b\b\b\b\b\b\b\b\b\b\b\b\b\b\b\b\b\b\b\b\b\b\b\b\b\b\b\b\b\b\b\b\b\b\b\b\b\b\b\b\b\b\b\b\b\b                                                                      \b\b\b\b\b\b\b\b\b\b\b\b\b\b\b\b\b\b\b\b\b\b\b\b\b\b\b\b\b\b\b\b\b\b\b\b\b\b\b\b\b\b\b\b\b\b\b\b\b\b\b\b\b\b\b\b\b\b\b\b\b\b\b\b\b\b\b\b\b\b 55% 29158 - Dataset/Smarthome/Record/record_smarthome_7000017_1285.wav\b\b\b\b\b\b\b\b\b\b\b\b\b\b\b\b\b\b\b\b\b\b\b\b\b\b\b\b\b\b\b\b\b\b\b\b\b\b\b\b\b\b\b\b\b\b\b\b\b\b\b\b\b\b\b\b\b\b\b\b\b\b\b\b\b\b\b\b\b\b\b                                                                       \b\b\b\b\b\b\b\b\b\b\b\b\b\b\b\b\b\b\b\b\b\b\b\b\b\b\b\b\b\b\b\b\b\b\b\b\b\b\b\b\b\b\b\b\b\b\b\b\b\b\b\b\b\b\b\b\b\b\b\b\b\b\b\b\b\b\b\b\b\b\b 55% 29181 - Dataset/Smarthome/Record/record_smarthome_7000017_1468.wav\b\b\b\b\b\b\b\b\b\b\b\b\b\b\b\b\b\b\b\b\b\b\b\b\b\b\b\b\b\b\b\b\b\b\b\b\b\b\b\b\b\b\b\b\b\b\b\b\b\b\b\b\b\b\b\b\b\b\b\b\b\b\b\b\b\b\b\b\b\b\b                                                                       \b\b\b\b\b\b\b\b\b\b\b\b\b\b\b\b\b\b\b\b\b\b\b\b\b\b\b\b\b\b\b\b\b\b\b\b\b\b\b\b\b\b\b\b\b\b\b\b\b\b\b\b\b\b\b\b\b\b\b\b\b\b\b\b\b\b\b\b\b\b\b 55% 29204 - Dataset/Smarthome/Record/record_smarthome_7000017_1613.wav\b\b\b\b\b\b\b\b\b\b\b\b\b\b\b\b\b\b\b\b\b\b\b\b\b\b\b\b\b\b\b\b\b\b\b\b\b\b\b\b\b\b\b\b\b\b\b\b\b\b\b\b\b\b\b\b\b\b\b\b\b\b\b\b\b\b\b\b\b\b\b                                                                       \b\b\b\b\b\b\b\b\b\b\b\b\b\b\b\b\b\b\b\b\b\b\b\b\b\b\b\b\b\b\b\b\b\b\b\b\b\b\b\b\b\b\b\b\b\b\b\b\b\b\b\b\b\b\b\b\b\b\b\b\b\b\b\b\b\b\b\b\b\b\b 55% 29226 - Dataset/Smarthome/Record/record_smarthome_7000017_181.wav\b\b\b\b\b\b\b\b\b\b\b\b\b\b\b\b\b\b\b\b\b\b\b\b\b\b\b\b\b\b\b\b\b\b\b\b\b\b\b\b\b\b\b\b\b\b\b\b\b\b\b\b\b\b\b\b\b\b\b\b\b\b\b\b\b\b\b\b\b\b                                                                      \b\b\b\b\b\b\b\b\b\b\b\b\b\b\b\b\b\b\b\b\b\b\b\b\b\b\b\b\b\b\b\b\b\b\b\b\b\b\b\b\b\b\b\b\b\b\b\b\b\b\b\b\b\b\b\b\b\b\b\b\b\b\b\b\b\b\b\b\b\b 55% 29248 - Dataset/Smarthome/Record/record_smarthome_7000017_2008.wav\b\b\b\b\b\b\b\b\b\b\b\b\b\b\b\b\b\b\b\b\b\b\b\b\b\b\b\b\b\b\b\b\b\b\b\b\b\b\b\b\b\b\b\b\b\b\b\b\b\b\b\b\b\b\b\b\b\b\b\b\b\b\b\b\b\b\b\b\b\b\b                                                                       \b\b\b\b\b\b\b\b\b\b\b\b\b\b\b\b\b\b\b\b\b\b\b\b\b\b\b\b\b\b\b\b\b\b\b\b\b\b\b\b\b\b\b\b\b\b\b\b\b\b\b\b\b\b\b\b\b\b\b\b\b\b\b\b\b\b\b\b\b\b\b 55% 29267 - Dataset/Smarthome/Record/record_smarthome_7000017_2219.wav\b\b\b\b\b\b\b\b\b\b\b\b\b\b\b\b\b\b\b\b\b\b\b\b\b\b\b\b\b\b\b\b\b\b\b\b\b\b\b\b\b\b\b\b\b\b\b\b\b\b\b\b\b\b\b\b\b\b\b\b\b\b\b\b\b\b\b\b\b\b\b                                                                       \b\b\b\b\b\b\b\b\b\b\b\b\b\b\b\b\b\b\b\b\b\b\b\b\b\b\b\b\b\b\b\b\b\b\b\b\b\b\b\b\b\b\b\b\b\b\b\b\b\b\b\b\b\b\b\b\b\b\b\b\b\b\b\b\b\b\b\b\b\b\b 56% 29287 - Dataset/Smarthome/Record/record_smarthome_7000017_238.wav\b\b\b\b\b\b\b\b\b\b\b\b\b\b\b\b\b\b\b\b\b\b\b\b\b\b\b\b\b\b\b\b\b\b\b\b\b\b\b\b\b\b\b\b\b\b\b\b\b\b\b\b\b\b\b\b\b\b\b\b\b\b\b\b\b\b\b\b\b\b                                                                      \b\b\b\b\b\b\b\b\b\b\b\b\b\b\b\b\b\b\b\b\b\b\b\b\b\b\b\b\b\b\b\b\b\b\b\b\b\b\b\b\b\b\b\b\b\b\b\b\b\b\b\b\b\b\b\b\b\b\b\b\b\b\b\b\b\b\b\b\b\b 56% 29306 - Dataset/Smarthome/Record/record_smarthome_7000017_2550.wav\b\b\b\b\b\b\b\b\b\b\b\b\b\b\b\b\b\b\b\b\b\b\b\b\b\b\b\b\b\b\b\b\b\b\b\b\b\b\b\b\b\b\b\b\b\b\b\b\b\b\b\b\b\b\b\b\b\b\b\b\b\b\b\b\b\b\b\b\b\b\b                                                                       \b\b\b\b\b\b\b\b\b\b\b\b\b\b\b\b\b\b\b\b\b\b\b\b\b\b\b\b\b\b\b\b\b\b\b\b\b\b\b\b\b\b\b\b\b\b\b\b\b\b\b\b\b\b\b\b\b\b\b\b\b\b\b\b\b\b\b\b\b\b\b 56% 29325 - Dataset/Smarthome/Record/record_smarthome_7000017_336.wav\b\b\b\b\b\b\b\b\b\b\b\b\b\b\b\b\b\b\b\b\b\b\b\b\b\b\b\b\b\b\b\b\b\b\b\b\b\b\b\b\b\b\b\b\b\b\b\b\b\b\b\b\b\b\b\b\b\b\b\b\b\b\b\b\b\b\b\b\b\b                                                                      \b\b\b\b\b\b\b\b\b\b\b\b\b\b\b\b\b\b\b\b\b\b\b\b\b\b\b\b\b\b\b\b\b\b\b\b\b\b\b\b\b\b\b\b\b\b\b\b\b\b\b\b\b\b\b\b\b\b\b\b\b\b\b\b\b\b\b\b\b\b 56% 29351 - Dataset/Smarthome/Record/record_smarthome_7000017_527.wav\b\b\b\b\b\b\b\b\b\b\b\b\b\b\b\b\b\b\b\b\b\b\b\b\b\b\b\b\b\b\b\b\b\b\b\b\b\b\b\b\b\b\b\b\b\b\b\b\b\b\b\b\b\b\b\b\b\b\b\b\b\b\b\b\b\b\b\b\b\b                                                                      \b\b\b\b\b\b\b\b\b\b\b\b\b\b\b\b\b\b\b\b\b\b\b\b\b\b\b\b\b\b\b\b\b\b\b\b\b\b\b\b\b\b\b\b\b\b\b\b\b\b\b\b\b\b\b\b\b\b\b\b\b\b\b\b\b\b\b\b\b\b 56% 29375 - Dataset/Smarthome/Record/record_smarthome_7000017_708.wav\b\b\b\b\b\b\b\b\b\b\b\b\b\b\b\b\b\b\b\b\b\b\b\b\b\b\b\b\b\b\b\b\b\b\b\b\b\b\b\b\b\b\b\b\b\b\b\b\b\b\b\b\b\b\b\b\b\b\b\b\b\b\b\b\b\b\b\b\b\b                                                                      \b\b\b\b\b\b\b\b\b\b\b\b\b\b\b\b\b\b\b\b\b\b\b\b\b\b\b\b\b\b\b\b\b\b\b\b\b\b\b\b\b\b\b\b\b\b\b\b\b\b\b\b\b\b\b\b\b\b\b\b\b\b\b\b\b\b\b\b\b\b 56% 29398 - Dataset/Smarthome/Record/record_smarthome_7000017_880.wav\b\b\b\b\b\b\b\b\b\b\b\b\b\b\b\b\b\b\b\b\b\b\b\b\b\b\b\b\b\b\b\b\b\b\b\b\b\b\b\b\b\b\b\b\b\b\b\b\b\b\b\b\b\b\b\b\b\b\b\b\b\b\b\b\b\b\b\b\b\b                                                                      \b\b\b\b\b\b\b\b\b\b\b\b\b\b\b\b\b\b\b\b\b\b\b\b\b\b\b\b\b\b\b\b\b\b\b\b\b\b\b\b\b\b\b\b\b\b\b\b\b\b\b\b\b\b\b\b\b\b\b\b\b\b\b\b\b\b\b\b\b\b 56% 29417 - Dataset/Smarthome/Record/record_smarthome_7000018_1049.wav\b\b\b\b\b\b\b\b\b\b\b\b\b\b\b\b\b\b\b\b\b\b\b\b\b\b\b\b\b\b\b\b\b\b\b\b\b\b\b\b\b\b\b\b\b\b\b\b\b\b\b\b\b\b\b\b\b\b\b\b\b\b\b\b\b\b\b\b\b\b\b                                                                       \b\b\b\b\b\b\b\b\b\b\b\b\b\b\b\b\b\b\b\b\b\b\b\b\b\b\b\b\b\b\b\b\b\b\b\b\b\b\b\b\b\b\b\b\b\b\b\b\b\b\b\b\b\b\b\b\b\b\b\b\b\b\b\b\b\b\b\b\b\b\b 56% 29437 - Dataset/Smarthome/Record/record_smarthome_7000018_1184.wav\b\b\b\b\b\b\b\b\b\b\b\b\b\b\b\b\b\b\b\b\b\b\b\b\b\b\b\b\b\b\b\b\b\b\b\b\b\b\b\b\b\b\b\b\b\b\b\b\b\b\b\b\b\b\b\b\b\b\b\b\b\b\b\b\b\b\b\b\b\b\b                                                                       \b\b\b\b\b\b\b\b\b\b\b\b\b\b\b\b\b\b\b\b\b\b\b\b\b\b\b\b\b\b\b\b\b\b\b\b\b\b\b\b\b\b\b\b\b\b\b\b\b\b\b\b\b\b\b\b\b\b\b\b\b\b\b\b\b\b\b\b\b\b\b 56% 29458 - Dataset/Smarthome/Record/record_smarthome_7000018_1364.wav\b\b\b\b\b\b\b\b\b\b\b\b\b\b\b\b\b\b\b\b\b\b\b\b\b\b\b\b\b\b\b\b\b\b\b\b\b\b\b\b\b\b\b\b\b\b\b\b\b\b\b\b\b\b\b\b\b\b\b\b\b\b\b\b\b\b\b\b\b\b\b                                                                       \b\b\b\b\b\b\b\b\b\b\b\b\b\b\b\b\b\b\b\b\b\b\b\b\b\b\b\b\b\b\b\b\b\b\b\b\b\b\b\b\b\b\b\b\b\b\b\b\b\b\b\b\b\b\b\b\b\b\b\b\b\b\b\b\b\b\b\b\b\b\b 56% 29478 - Dataset/Smarthome/Record/record_smarthome_7000018_1499.wav\b\b\b\b\b\b\b\b\b\b\b\b\b\b\b\b\b\b\b\b\b\b\b\b\b\b\b\b\b\b\b\b\b\b\b\b\b\b\b\b\b\b\b\b\b\b\b\b\b\b\b\b\b\b\b\b\b\b\b\b\b\b\b\b\b\b\b\b\b\b\b                                                                       \b\b\b\b\b\b\b\b\b\b\b\b\b\b\b\b\b\b\b\b\b\b\b\b\b\b\b\b\b\b\b\b\b\b\b\b\b\b\b\b\b\b\b\b\b\b\b\b\b\b\b\b\b\b\b\b\b\b\b\b\b\b\b\b\b\b\b\b\b\b\b 57% 29501 - Dataset/Smarthome/Record/record_smarthome_7000018_1674.wav\b\b\b\b\b\b\b\b\b\b\b\b\b\b\b\b\b\b\b\b\b\b\b\b\b\b\b\b\b\b\b\b\b\b\b\b\b\b\b\b\b\b\b\b\b\b\b\b\b\b\b\b\b\b\b\b\b\b\b\b\b\b\b\b\b\b\b\b\b\b\b                                                                       \b\b\b\b\b\b\b\b\b\b\b\b\b\b\b\b\b\b\b\b\b\b\b\b\b\b\b\b\b\b\b\b\b\b\b\b\b\b\b\b\b\b\b\b\b\b\b\b\b\b\b\b\b\b\b\b\b\b\b\b\b\b\b\b\b\b\b\b\b\b\b 57% 29519 - Dataset/Smarthome/Record/record_smarthome_7000018_1804.wav\b\b\b\b\b\b\b\b\b\b\b\b\b\b\b\b\b\b\b\b\b\b\b\b\b\b\b\b\b\b\b\b\b\b\b\b\b\b\b\b\b\b\b\b\b\b\b\b\b\b\b\b\b\b\b\b\b\b\b\b\b\b\b\b\b\b\b\b\b\b\b                                                                       \b\b\b\b\b\b\b\b\b\b\b\b\b\b\b\b\b\b\b\b\b\b\b\b\b\b\b\b\b\b\b\b\b\b\b\b\b\b\b\b\b\b\b\b\b\b\b\b\b\b\b\b\b\b\b\b\b\b\b\b\b\b\b\b\b\b\b\b\b\b\b 57% 29541 - Dataset/Smarthome/Record/record_smarthome_7000018_2009.wav\b\b\b\b\b\b\b\b\b\b\b\b\b\b\b\b\b\b\b\b\b\b\b\b\b\b\b\b\b\b\b\b\b\b\b\b\b\b\b\b\b\b\b\b\b\b\b\b\b\b\b\b\b\b\b\b\b\b\b\b\b\b\b\b\b\b\b\b\b\b\b                                                                       \b\b\b\b\b\b\b\b\b\b\b\b\b\b\b\b\b\b\b\b\b\b\b\b\b\b\b\b\b\b\b\b\b\b\b\b\b\b\b\b\b\b\b\b\b\b\b\b\b\b\b\b\b\b\b\b\b\b\b\b\b\b\b\b\b\b\b\b\b\b\b 57% 29561 - Dataset/Smarthome/Record/record_smarthome_7000018_2169.wav\b\b\b\b\b\b\b\b\b\b\b\b\b\b\b\b\b\b\b\b\b\b\b\b\b\b\b\b\b\b\b\b\b\b\b\b\b\b\b\b\b\b\b\b\b\b\b\b\b\b\b\b\b\b\b\b\b\b\b\b\b\b\b\b\b\b\b\b\b\b\b                                                                       \b\b\b\b\b\b\b\b\b\b\b\b\b\b\b\b\b\b\b\b\b\b\b\b\b\b\b\b\b\b\b\b\b\b\b\b\b\b\b\b\b\b\b\b\b\b\b\b\b\b\b\b\b\b\b\b\b\b\b\b\b\b\b\b\b\b\b\b\b\b\b 57% 29580 - Dataset/Smarthome/Record/record_smarthome_7000018_2385.wav\b\b\b\b\b\b\b\b\b\b\b\b\b\b\b\b\b\b\b\b\b\b\b\b\b\b\b\b\b\b\b\b\b\b\b\b\b\b\b\b\b\b\b\b\b\b\b\b\b\b\b\b\b\b\b\b\b\b\b\b\b\b\b\b\b\b\b\b\b\b\b                                                                       \b\b\b\b\b\b\b\b\b\b\b\b\b\b\b\b\b\b\b\b\b\b\b\b\b\b\b\b\b\b\b\b\b\b\b\b\b\b\b\b\b\b\b\b\b\b\b\b\b\b\b\b\b\b\b\b\b\b\b\b\b\b\b\b\b\b\b\b\b\b\b 57% 29600 - Dataset/Smarthome/Record/record_smarthome_7000018_2503.wav\b\b\b\b\b\b\b\b\b\b\b\b\b\b\b\b\b\b\b\b\b\b\b\b\b\b\b\b\b\b\b\b\b\b\b\b\b\b\b\b\b\b\b\b\b\b\b\b\b\b\b\b\b\b\b\b\b\b\b\b\b\b\b\b\b\b\b\b\b\b\b                                                                       \b\b\b\b\b\b\b\b\b\b\b\b\b\b\b\b\b\b\b\b\b\b\b\b\b\b\b\b\b\b\b\b\b\b\b\b\b\b\b\b\b\b\b\b\b\b\b\b\b\b\b\b\b\b\b\b\b\b\b\b\b\b\b\b\b\b\b\b\b\b\b 57% 29623 - Dataset/Smarthome/Record/record_smarthome_7000018_305.wav\b\b\b\b\b\b\b\b\b\b\b\b\b\b\b\b\b\b\b\b\b\b\b\b\b\b\b\b\b\b\b\b\b\b\b\b\b\b\b\b\b\b\b\b\b\b\b\b\b\b\b\b\b\b\b\b\b\b\b\b\b\b\b\b\b\b\b\b\b\b                                                                      \b\b\b\b\b\b\b\b\b\b\b\b\b\b\b\b\b\b\b\b\b\b\b\b\b\b\b\b\b\b\b\b\b\b\b\b\b\b\b\b\b\b\b\b\b\b\b\b\b\b\b\b\b\b\b\b\b\b\b\b\b\b\b\b\b\b\b\b\b\b 57% 29648 - Dataset/Smarthome/Record/record_smarthome_7000018_491.wav\b\b\b\b\b\b\b\b\b\b\b\b\b\b\b\b\b\b\b\b\b\b\b\b\b\b\b\b\b\b\b\b\b\b\b\b\b\b\b\b\b\b\b\b\b\b\b\b\b\b\b\b\b\b\b\b\b\b\b\b\b\b\b\b\b\b\b\b\b\b                                                                      \b\b\b\b\b\b\b\b\b\b\b\b\b\b\b\b\b\b\b\b\b\b\b\b\b\b\b\b\b\b\b\b\b\b\b\b\b\b\b\b\b\b\b\b\b\b\b\b\b\b\b\b\b\b\b\b\b\b\b\b\b\b\b\b\b\b\b\b\b\b 57% 29672 - Dataset/Smarthome/Record/record_smarthome_7000018_674.wav\b\b\b\b\b\b\b\b\b\b\b\b\b\b\b\b\b\b\b\b\b\b\b\b\b\b\b\b\b\b\b\b\b\b\b\b\b\b\b\b\b\b\b\b\b\b\b\b\b\b\b\b\b\b\b\b\b\b\b\b\b\b\b\b\b\b\b\b\b\b                                                                      \b\b\b\b\b\b\b\b\b\b\b\b\b\b\b\b\b\b\b\b\b\b\b\b\b\b\b\b\b\b\b\b\b\b\b\b\b\b\b\b\b\b\b\b\b\b\b\b\b\b\b\b\b\b\b\b\b\b\b\b\b\b\b\b\b\b\b\b\b\b 57% 29695 - Dataset/Smarthome/Record/record_smarthome_7000018_842.wav\b\b\b\b\b\b\b\b\b\b\b\b\b\b\b\b\b\b\b\b\b\b\b\b\b\b\b\b\b\b\b\b\b\b\b\b\b\b\b\b\b\b\b\b\b\b\b\b\b\b\b\b\b\b\b\b\b\b\b\b\b\b\b\b\b\b\b\b\b\b                                                                      \b\b\b\b\b\b\b\b\b\b\b\b\b\b\b\b\b\b\b\b\b\b\b\b\b\b\b\b\b\b\b\b\b\b\b\b\b\b\b\b\b\b\b\b\b\b\b\b\b\b\b\b\b\b\b\b\b\b\b\b\b\b\b\b\b\b\b\b\b\b 57% 29717 - Dataset/Smarthome/Record/record_smarthome_7000019_1036.wav\b\b\b\b\b\b\b\b\b\b\b\b\b\b\b\b\b\b\b\b\b\b\b\b\b\b\b\b\b\b\b\b\b\b\b\b\b\b\b\b\b\b\b\b\b\b\b\b\b\b\b\b\b\b\b\b\b\b\b\b\b\b\b\b\b\b\b\b\b\b\b                                                                       \b\b\b\b\b\b\b\b\b\b\b\b\b\b\b\b\b\b\b\b\b\b\b\b\b\b\b\b\b\b\b\b\b\b\b\b\b\b\b\b\b\b\b\b\b\b\b\b\b\b\b\b\b\b\b\b\b\b\b\b\b\b\b\b\b\b\b\b\b\b\b 57% 29736 - Dataset/Smarthome/Record/record_smarthome_7000019_1188.wav\b\b\b\b\b\b\b\b\b\b\b\b\b\b\b\b\b\b\b\b\b\b\b\b\b\b\b\b\b\b\b\b\b\b\b\b\b\b\b\b\b\b\b\b\b\b\b\b\b\b\b\b\b\b\b\b\b\b\b\b\b\b\b\b\b\b\b\b\b\b\b                                                                       \b\b\b\b\b\b\b\b\b\b\b\b\b\b\b\b\b\b\b\b\b\b\b\b\b\b\b\b\b\b\b\b\b\b\b\b\b\b\b\b\b\b\b\b\b\b\b\b\b\b\b\b\b\b\b\b\b\b\b\b\b\b\b\b\b\b\b\b\b\b\b 58% 29754 - Dataset/Smarthome/Record/record_smarthome_7000019_129.wav\b\b\b\b\b\b\b\b\b\b\b\b\b\b\b\b\b\b\b\b\b\b\b\b\b\b\b\b\b\b\b\b\b\b\b\b\b\b\b\b\b\b\b\b\b\b\b\b\b\b\b\b\b\b\b\b\b\b\b\b\b\b\b\b\b\b\b\b\b\b                                                                      \b\b\b\b\b\b\b\b\b\b\b\b\b\b\b\b\b\b\b\b\b\b\b\b\b\b\b\b\b\b\b\b\b\b\b\b\b\b\b\b\b\b\b\b\b\b\b\b\b\b\b\b\b\b\b\b\b\b\b\b\b\b\b\b\b\b\b\b\b\b 58% 29767 - Dataset/Smarthome/Record/record_smarthome_7000019_1381.wav\b\b\b\b\b\b\b\b\b\b\b\b\b\b\b\b\b\b\b\b\b\b\b\b\b\b\b\b\b\b\b\b\b\b\b\b\b\b\b\b\b\b\b\b\b\b\b\b\b\b\b\b\b\b\b\b\b\b\b\b\b\b\b\b\b\b\b\b\b\b\b                                                                       \b\b\b\b\b\b\b\b\b\b\b\b\b\b\b\b\b\b\b\b\b\b\b\b\b\b\b\b\b\b\b\b\b\b\b\b\b\b\b\b\b\b\b\b\b\b\b\b\b\b\b\b\b\b\b\b\b\b\b\b\b\b\b\b\b\b\b\b\b\b\b 58% 29778 - Dataset/Smarthome/Record/record_smarthome_7000019_1464.wav\b\b\b\b\b\b\b\b\b\b\b\b\b\b\b\b\b\b\b\b\b\b\b\b\b\b\b\b\b\b\b\b\b\b\b\b\b\b\b\b\b\b\b\b\b\b\b\b\b\b\b\b\b\b\b\b\b\b\b\b\b\b\b\b\b\b\b\b\b\b\b                                                                       \b\b\b\b\b\b\b\b\b\b\b\b\b\b\b\b\b\b\b\b\b\b\b\b\b\b\b\b\b\b\b\b\b\b\b\b\b\b\b\b\b\b\b\b\b\b\b\b\b\b\b\b\b\b\b\b\b\b\b\b\b\b\b\b\b\b\b\b\b\b\b 58% 29798 - Dataset/Smarthome/Record/record_smarthome_7000019_1660.wav\b\b\b\b\b\b\b\b\b\b\b\b\b\b\b\b\b\b\b\b\b\b\b\b\b\b\b\b\b\b\b\b\b\b\b\b\b\b\b\b\b\b\b\b\b\b\b\b\b\b\b\b\b\b\b\b\b\b\b\b\b\b\b\b\b\b\b\b\b\b\b                                                                       \b\b\b\b\b\b\b\b\b\b\b\b\b\b\b\b\b\b\b\b\b\b\b\b\b\b\b\b\b\b\b\b\b\b\b\b\b\b\b\b\b\b\b\b\b\b\b\b\b\b\b\b\b\b\b\b\b\b\b\b\b\b\b\b\b\b\b\b\b\b\b 58% 29820 - Dataset/Smarthome/Record/record_smarthome_7000019_1844.wav\b\b\b\b\b\b\b\b\b\b\b\b\b\b\b\b\b\b\b\b\b\b\b\b\b\b\b\b\b\b\b\b\b\b\b\b\b\b\b\b\b\b\b\b\b\b\b\b\b\b\b\b\b\b\b\b\b\b\b\b\b\b\b\b\b\b\b\b\b\b\b                                                                       \b\b\b\b\b\b\b\b\b\b\b\b\b\b\b\b\b\b\b\b\b\b\b\b\b\b\b\b\b\b\b\b\b\b\b\b\b\b\b\b\b\b\b\b\b\b\b\b\b\b\b\b\b\b\b\b\b\b\b\b\b\b\b\b\b\b\b\b\b\b\b 58% 29839 - Dataset/Smarthome/Record/record_smarthome_7000019_1973.wav\b\b\b\b\b\b\b\b\b\b\b\b\b\b\b\b\b\b\b\b\b\b\b\b\b\b\b\b\b\b\b\b\b\b\b\b\b\b\b\b\b\b\b\b\b\b\b\b\b\b\b\b\b\b\b\b\b\b\b\b\b\b\b\b\b\b\b\b\b\b\b                                                                       \b\b\b\b\b\b\b\b\b\b\b\b\b\b\b\b\b\b\b\b\b\b\b\b\b\b\b\b\b\b\b\b\b\b\b\b\b\b\b\b\b\b\b\b\b\b\b\b\b\b\b\b\b\b\b\b\b\b\b\b\b\b\b\b\b\b\b\b\b\b\b 58% 29856 - Dataset/Smarthome/Record/record_smarthome_7000019_2050.wav\b\b\b\b\b\b\b\b\b\b\b\b\b\b\b\b\b\b\b\b\b\b\b\b\b\b\b\b\b\b\b\b\b\b\b\b\b\b\b\b\b\b\b\b\b\b\b\b\b\b\b\b\b\b\b\b\b\b\b\b\b\b\b\b\b\b\b\b\b\b\b                                                                       \b\b\b\b\b\b\b\b\b\b\b\b\b\b\b\b\b\b\b\b\b\b\b\b\b\b\b\b\b\b\b\b\b\b\b\b\b\b\b\b\b\b\b\b\b\b\b\b\b\b\b\b\b\b\b\b\b\b\b\b\b\b\b\b\b\b\b\b\b\b\b 58% 29872 - Dataset/Smarthome/Record/record_smarthome_7000019_2191.wav\b\b\b\b\b\b\b\b\b\b\b\b\b\b\b\b\b\b\b\b\b\b\b\b\b\b\b\b\b\b\b\b\b\b\b\b\b\b\b\b\b\b\b\b\b\b\b\b\b\b\b\b\b\b\b\b\b\b\b\b\b\b\b\b\b\b\b\b\b\b\b                                                                       \b\b\b\b\b\b\b\b\b\b\b\b\b\b\b\b\b\b\b\b\b\b\b\b\b\b\b\b\b\b\b\b\b\b\b\b\b\b\b\b\b\b\b\b\b\b\b\b\b\b\b\b\b\b\b\b\b\b\b\b\b\b\b\b\b\b\b\b\b\b\b 58% 29890 - Dataset/Smarthome/Record/record_smarthome_7000019_242.wav\b\b\b\b\b\b\b\b\b\b\b\b\b\b\b\b\b\b\b\b\b\b\b\b\b\b\b\b\b\b\b\b\b\b\b\b\b\b\b\b\b\b\b\b\b\b\b\b\b\b\b\b\b\b\b\b\b\b\b\b\b\b\b\b\b\b\b\b\b\b                                                                      \b\b\b\b\b\b\b\b\b\b\b\b\b\b\b\b\b\b\b\b\b\b\b\b\b\b\b\b\b\b\b\b\b\b\b\b\b\b\b\b\b\b\b\b\b\b\b\b\b\b\b\b\b\b\b\b\b\b\b\b\b\b\b\b\b\b\b\b\b\b 58% 29908 - Dataset/Smarthome/Record/record_smarthome_7000019_2565.wav\b\b\b\b\b\b\b\b\b\b\b\b\b\b\b\b\b\b\b\b\b\b\b\b\b\b\b\b\b\b\b\b\b\b\b\b\b\b\b\b\b\b\b\b\b\b\b\b\b\b\b\b\b\b\b\b\b\b\b\b\b\b\b\b\b\b\b\b\b\b\b                                                                       \b\b\b\b\b\b\b\b\b\b\b\b\b\b\b\b\b\b\b\b\b\b\b\b\b\b\b\b\b\b\b\b\b\b\b\b\b\b\b\b\b\b\b\b\b\b\b\b\b\b\b\b\b\b\b\b\b\b\b\b\b\b\b\b\b\b\b\b\b\b\b 58% 29926 - Dataset/Smarthome/Record/record_smarthome_7000019_28.wav\b\b\b\b\b\b\b\b\b\b\b\b\b\b\b\b\b\b\b\b\b\b\b\b\b\b\b\b\b\b\b\b\b\b\b\b\b\b\b\b\b\b\b\b\b\b\b\b\b\b\b\b\b\b\b\b\b\b\b\b\b\b\b\b\b\b\b\b\b                                                                     \b\b\b\b\b\b\b\b\b\b\b\b\b\b\b\b\b\b\b\b\b\b\b\b\b\b\b\b\b\b\b\b\b\b\b\b\b\b\b\b\b\b\b\b\b\b\b\b\b\b\b\b\b\b\b\b\b\b\b\b\b\b\b\b\b\b\b\b\b 58% 29942 - Dataset/Smarthome/Record/record_smarthome_7000019_419.wav\b\b\b\b\b\b\b\b\b\b\b\b\b\b\b\b\b\b\b\b\b\b\b\b\b\b\b\b\b\b\b\b\b\b\b\b\b\b\b\b\b\b\b\b\b\b\b\b\b\b\b\b\b\b\b\b\b\b\b\b\b\b\b\b\b\b\b\b\b\b                                                                      \b\b\b\b\b\b\b\b\b\b\b\b\b\b\b\b\b\b\b\b\b\b\b\b\b\b\b\b\b\b\b\b\b\b\b\b\b\b\b\b\b\b\b\b\b\b\b\b\b\b\b\b\b\b\b\b\b\b\b\b\b\b\b\b\b\b\b\b\b\b 59% 29963 - Dataset/Smarthome/Record/record_smarthome_7000019_605.wav\b\b\b\b\b\b\b\b\b\b\b\b\b\b\b\b\b\b\b\b\b\b\b\b\b\b\b\b\b\b\b\b\b\b\b\b\b\b\b\b\b\b\b\b\b\b\b\b\b\b\b\b\b\b\b\b\b\b\b\b\b\b\b\b\b\b\b\b\b\b                                                                      \b\b\b\b\b\b\b\b\b\b\b\b\b\b\b\b\b\b\b\b\b\b\b\b\b\b\b\b\b\b\b\b\b\b\b\b\b\b\b\b\b\b\b\b\b\b\b\b\b\b\b\b\b\b\b\b\b\b\b\b\b\b\b\b\b\b\b\b\b\b 59% 29981 - Dataset/Smarthome/Record/record_smarthome_7000019_8.wav\b\b\b\b\b\b\b\b\b\b\b\b\b\b\b\b\b\b\b\b\b\b\b\b\b\b\b\b\b\b\b\b\b\b\b\b\b\b\b\b\b\b\b\b\b\b\b\b\b\b\b\b\b\b\b\b\b\b\b\b\b\b\b\b\b\b\b\b                                                                    \b\b\b\b\b\b\b\b\b\b\b\b\b\b\b\b\b\b\b\b\b\b\b\b\b\b\b\b\b\b\b\b\b\b\b\b\b\b\b\b\b\b\b\b\b\b\b\b\b\b\b\b\b\b\b\b\b\b\b\b\b\b\b\b\b\b\b\b 59% 30000 - Dataset/Smarthome/Record/record_smarthome_7000019_91.wav\b\b\b\b\b\b\b\b\b\b\b\b\b\b\b\b\b\b\b\b\b\b\b\b\b\b\b\b\b\b\b\b\b\b\b\b\b\b\b\b\b\b\b\b\b\b\b\b\b\b\b\b\b\b\b\b\b\b\b\b\b\b\b\b\b\b\b\b\b                                                                     \b\b\b\b\b\b\b\b\b\b\b\b\b\b\b\b\b\b\b\b\b\b\b\b\b\b\b\b\b\b\b\b\b\b\b\b\b\b\b\b\b\b\b\b\b\b\b\b\b\b\b\b\b\b\b\b\b\b\b\b\b\b\b\b\b\b\b\b\b 59% 30018 - Dataset/Smarthome/Record/record_smarthome_7000020_1033.wav\b\b\b\b\b\b\b\b\b\b\b\b\b\b\b\b\b\b\b\b\b\b\b\b\b\b\b\b\b\b\b\b\b\b\b\b\b\b\b\b\b\b\b\b\b\b\b\b\b\b\b\b\b\b\b\b\b\b\b\b\b\b\b\b\b\b\b\b\b\b\b                                                                       \b\b\b\b\b\b\b\b\b\b\b\b\b\b\b\b\b\b\b\b\b\b\b\b\b\b\b\b\b\b\b\b\b\b\b\b\b\b\b\b\b\b\b\b\b\b\b\b\b\b\b\b\b\b\b\b\b\b\b\b\b\b\b\b\b\b\b\b\b\b\b 59% 30036 - Dataset/Smarthome/Record/record_smarthome_7000020_1231.wav\b\b\b\b\b\b\b\b\b\b\b\b\b\b\b\b\b\b\b\b\b\b\b\b\b\b\b\b\b\b\b\b\b\b\b\b\b\b\b\b\b\b\b\b\b\b\b\b\b\b\b\b\b\b\b\b\b\b\b\b\b\b\b\b\b\b\b\b\b\b\b                                                                       \b\b\b\b\b\b\b\b\b\b\b\b\b\b\b\b\b\b\b\b\b\b\b\b\b\b\b\b\b\b\b\b\b\b\b\b\b\b\b\b\b\b\b\b\b\b\b\b\b\b\b\b\b\b\b\b\b\b\b\b\b\b\b\b\b\b\b\b\b\b\b 59% 30058 - Dataset/Smarthome/Record/record_smarthome_7000020_1404.wav\b\b\b\b\b\b\b\b\b\b\b\b\b\b\b\b\b\b\b\b\b\b\b\b\b\b\b\b\b\b\b\b\b\b\b\b\b\b\b\b\b\b\b\b\b\b\b\b\b\b\b\b\b\b\b\b\b\b\b\b\b\b\b\b\b\b\b\b\b\b\b                                                                       \b\b\b\b\b\b\b\b\b\b\b\b\b\b\b\b\b\b\b\b\b\b\b\b\b\b\b\b\b\b\b\b\b\b\b\b\b\b\b\b\b\b\b\b\b\b\b\b\b\b\b\b\b\b\b\b\b\b\b\b\b\b\b\b\b\b\b\b\b\b\b 59% 30080 - Dataset/Smarthome/Record/record_smarthome_7000020_1586.wav\b\b\b\b\b\b\b\b\b\b\b\b\b\b\b\b\b\b\b\b\b\b\b\b\b\b\b\b\b\b\b\b\b\b\b\b\b\b\b\b\b\b\b\b\b\b\b\b\b\b\b\b\b\b\b\b\b\b\b\b\b\b\b\b\b\b\b\b\b\b\b                                                                       \b\b\b\b\b\b\b\b\b\b\b\b\b\b\b\b\b\b\b\b\b\b\b\b\b\b\b\b\b\b\b\b\b\b\b\b\b\b\b\b\b\b\b\b\b\b\b\b\b\b\b\b\b\b\b\b\b\b\b\b\b\b\b\b\b\b\b\b\b\b\b 59% 30100 - Dataset/Smarthome/Record/record_smarthome_7000020_1748.wav\b\b\b\b\b\b\b\b\b\b\b\b\b\b\b\b\b\b\b\b\b\b\b\b\b\b\b\b\b\b\b\b\b\b\b\b\b\b\b\b\b\b\b\b\b\b\b\b\b\b\b\b\b\b\b\b\b\b\b\b\b\b\b\b\b\b\b\b\b\b\b                                                                       \b\b\b\b\b\b\b\b\b\b\b\b\b\b\b\b\b\b\b\b\b\b\b\b\b\b\b\b\b\b\b\b\b\b\b\b\b\b\b\b\b\b\b\b\b\b\b\b\b\b\b\b\b\b\b\b\b\b\b\b\b\b\b\b\b\b\b\b\b\b\b 59% 30123 - Dataset/Smarthome/Record/record_smarthome_7000020_1898.wav\b\b\b\b\b\b\b\b\b\b\b\b\b\b\b\b\b\b\b\b\b\b\b\b\b\b\b\b\b\b\b\b\b\b\b\b\b\b\b\b\b\b\b\b\b\b\b\b\b\b\b\b\b\b\b\b\b\b\b\b\b\b\b\b\b\b\b\b\b\b\b                                                                       \b\b\b\b\b\b\b\b\b\b\b\b\b\b\b\b\b\b\b\b\b\b\b\b\b\b\b\b\b\b\b\b\b\b\b\b\b\b\b\b\b\b\b\b\b\b\b\b\b\b\b\b\b\b\b\b\b\b\b\b\b\b\b\b\b\b\b\b\b\b\b 59% 30150 - Dataset/Smarthome/Record/record_smarthome_7000020_2084.wav\b\b\b\b\b\b\b\b\b\b\b\b\b\b\b\b\b\b\b\b\b\b\b\b\b\b\b\b\b\b\b\b\b\b\b\b\b\b\b\b\b\b\b\b\b\b\b\b\b\b\b\b\b\b\b\b\b\b\b\b\b\b\b\b\b\b\b\b\b\b\b                                                                       \b\b\b\b\b\b\b\b\b\b\b\b\b\b\b\b\b\b\b\b\b\b\b\b\b\b\b\b\b\b\b\b\b\b\b\b\b\b\b\b\b\b\b\b\b\b\b\b\b\b\b\b\b\b\b\b\b\b\b\b\b\b\b\b\b\b\b\b\b\b\b 60% 30176 - Dataset/Smarthome/Record/record_smarthome_7000020_2267.wav\b\b\b\b\b\b\b\b\b\b\b\b\b\b\b\b\b\b\b\b\b\b\b\b\b\b\b\b\b\b\b\b\b\b\b\b\b\b\b\b\b\b\b\b\b\b\b\b\b\b\b\b\b\b\b\b\b\b\b\b\b\b\b\b\b\b\b\b\b\b\b                                                                       \b\b\b\b\b\b\b\b\b\b\b\b\b\b\b\b\b\b\b\b\b\b\b\b\b\b\b\b\b\b\b\b\b\b\b\b\b\b\b\b\b\b\b\b\b\b\b\b\b\b\b\b\b\b\b\b\b\b\b\b\b\b\b\b\b\b\b\b\b\b\b 60% 30201 - Dataset/Smarthome/Record/record_smarthome_7000020_2488.wav\b\b\b\b\b\b\b\b\b\b\b\b\b\b\b\b\b\b\b\b\b\b\b\b\b\b\b\b\b\b\b\b\b\b\b\b\b\b\b\b\b\b\b\b\b\b\b\b\b\b\b\b\b\b\b\b\b\b\b\b\b\b\b\b\b\b\b\b\b\b\b                                                                       \b\b\b\b\b\b\b\b\b\b\b\b\b\b\b\b\b\b\b\b\b\b\b\b\b\b\b\b\b\b\b\b\b\b\b\b\b\b\b\b\b\b\b\b\b\b\b\b\b\b\b\b\b\b\b\b\b\b\b\b\b\b\b\b\b\b\b\b\b\b\b 60% 30226 - Dataset/Smarthome/Record/record_smarthome_7000020_2644.wav\b\b\b\b\b\b\b\b\b\b\b\b\b\b\b\b\b\b\b\b\b\b\b\b\b\b\b\b\b\b\b\b\b\b\b\b\b\b\b\b\b\b\b\b\b\b\b\b\b\b\b\b\b\b\b\b\b\b\b\b\b\b\b\b\b\b\b\b\b\b\b                                                                       \b\b\b\b\b\b\b\b\b\b\b\b\b\b\b\b\b\b\b\b\b\b\b\b\b\b\b\b\b\b\b\b\b\b\b\b\b\b\b\b\b\b\b\b\b\b\b\b\b\b\b\b\b\b\b\b\b\b\b\b\b\b\b\b\b\b\b\b\b\b\b 60% 30253 - Dataset/Smarthome/Record/record_smarthome_7000020_479.wav\b\b\b\b\b\b\b\b\b\b\b\b\b\b\b\b\b\b\b\b\b\b\b\b\b\b\b\b\b\b\b\b\b\b\b\b\b\b\b\b\b\b\b\b\b\b\b\b\b\b\b\b\b\b\b\b\b\b\b\b\b\b\b\b\b\b\b\b\b\b                                                                      \b\b\b\b\b\b\b\b\b\b\b\b\b\b\b\b\b\b\b\b\b\b\b\b\b\b\b\b\b\b\b\b\b\b\b\b\b\b\b\b\b\b\b\b\b\b\b\b\b\b\b\b\b\b\b\b\b\b\b\b\b\b\b\b\b\b\b\b\b\b 60% 30278 - Dataset/Smarthome/Record/record_smarthome_7000020_662.wav\b\b\b\b\b\b\b\b\b\b\b\b\b\b\b\b\b\b\b\b\b\b\b\b\b\b\b\b\b\b\b\b\b\b\b\b\b\b\b\b\b\b\b\b\b\b\b\b\b\b\b\b\b\b\b\b\b\b\b\b\b\b\b\b\b\b\b\b\b\b                                                                      \b\b\b\b\b\b\b\b\b\b\b\b\b\b\b\b\b\b\b\b\b\b\b\b\b\b\b\b\b\b\b\b\b\b\b\b\b\b\b\b\b\b\b\b\b\b\b\b\b\b\b\b\b\b\b\b\b\b\b\b\b\b\b\b\b\b\b\b\b\b 60% 30304 - Dataset/Smarthome/Record/record_smarthome_7000020_898.wav\b\b\b\b\b\b\b\b\b\b\b\b\b\b\b\b\b\b\b\b\b\b\b\b\b\b\b\b\b\b\b\b\b\b\b\b\b\b\b\b\b\b\b\b\b\b\b\b\b\b\b\b\b\b\b\b\b\b\b\b\b\b\b\b\b\b\b\b\b\b                                                                      \b\b\b\b\b\b\b\b\b\b\b\b\b\b\b\b\b\b\b\b\b\b\b\b\b\b\b\b\b\b\b\b\b\b\b\b\b\b\b\b\b\b\b\b\b\b\b\b\b\b\b\b\b\b\b\b\b\b\b\b\b\b\b\b\b\b\b\b\b\b 60% 30326 - Dataset/Smarthome/Record/record_smarthome_7000021_1150.wav\b\b\b\b\b\b\b\b\b\b\b\b\b\b\b\b\b\b\b\b\b\b\b\b\b\b\b\b\b\b\b\b\b\b\b\b\b\b\b\b\b\b\b\b\b\b\b\b\b\b\b\b\b\b\b\b\b\b\b\b\b\b\b\b\b\b\b\b\b\b\b                                                                       \b\b\b\b\b\b\b\b\b\b\b\b\b\b\b\b\b\b\b\b\b\b\b\b\b\b\b\b\b\b\b\b\b\b\b\b\b\b\b\b\b\b\b\b\b\b\b\b\b\b\b\b\b\b\b\b\b\b\b\b\b\b\b\b\b\b\b\b\b\b\b 60% 30348 - Dataset/Smarthome/Record/record_smarthome_7000021_1384.wav\b\b\b\b\b\b\b\b\b\b\b\b\b\b\b\b\b\b\b\b\b\b\b\b\b\b\b\b\b\b\b\b\b\b\b\b\b\b\b\b\b\b\b\b\b\b\b\b\b\b\b\b\b\b\b\b\b\b\b\b\b\b\b\b\b\b\b\b\b\b\b                                                                       \b\b\b\b\b\b\b\b\b\b\b\b\b\b\b\b\b\b\b\b\b\b\b\b\b\b\b\b\b\b\b\b\b\b\b\b\b\b\b\b\b\b\b\b\b\b\b\b\b\b\b\b\b\b\b\b\b\b\b\b\b\b\b\b\b\b\b\b\b\b\b 61% 30370 - Dataset/Smarthome/Record/record_smarthome_7000021_1518.wav\b\b\b\b\b\b\b\b\b\b\b\b\b\b\b\b\b\b\b\b\b\b\b\b\b\b\b\b\b\b\b\b\b\b\b\b\b\b\b\b\b\b\b\b\b\b\b\b\b\b\b\b\b\b\b\b\b\b\b\b\b\b\b\b\b\b\b\b\b\b\b                                                                       \b\b\b\b\b\b\b\b\b\b\b\b\b\b\b\b\b\b\b\b\b\b\b\b\b\b\b\b\b\b\b\b\b\b\b\b\b\b\b\b\b\b\b\b\b\b\b\b\b\b\b\b\b\b\b\b\b\b\b\b\b\b\b\b\b\b\b\b\b\b\b 61% 30389 - Dataset/Smarthome/Record/record_smarthome_7000021_170.wav\b\b\b\b\b\b\b\b\b\b\b\b\b\b\b\b\b\b\b\b\b\b\b\b\b\b\b\b\b\b\b\b\b\b\b\b\b\b\b\b\b\b\b\b\b\b\b\b\b\b\b\b\b\b\b\b\b\b\b\b\b\b\b\b\b\b\b\b\b\b                                                                      \b\b\b\b\b\b\b\b\b\b\b\b\b\b\b\b\b\b\b\b\b\b\b\b\b\b\b\b\b\b\b\b\b\b\b\b\b\b\b\b\b\b\b\b\b\b\b\b\b\b\b\b\b\b\b\b\b\b\b\b\b\b\b\b\b\b\b\b\b\b 61% 30410 - Dataset/Smarthome/Record/record_smarthome_7000021_1876.wav\b\b\b\b\b\b\b\b\b\b\b\b\b\b\b\b\b\b\b\b\b\b\b\b\b\b\b\b\b\b\b\b\b\b\b\b\b\b\b\b\b\b\b\b\b\b\b\b\b\b\b\b\b\b\b\b\b\b\b\b\b\b\b\b\b\b\b\b\b\b\b                                                                       \b\b\b\b\b\b\b\b\b\b\b\b\b\b\b\b\b\b\b\b\b\b\b\b\b\b\b\b\b\b\b\b\b\b\b\b\b\b\b\b\b\b\b\b\b\b\b\b\b\b\b\b\b\b\b\b\b\b\b\b\b\b\b\b\b\b\b\b\b\b\b 61% 30429 - Dataset/Smarthome/Record/record_smarthome_7000021_200.wav\b\b\b\b\b\b\b\b\b\b\b\b\b\b\b\b\b\b\b\b\b\b\b\b\b\b\b\b\b\b\b\b\b\b\b\b\b\b\b\b\b\b\b\b\b\b\b\b\b\b\b\b\b\b\b\b\b\b\b\b\b\b\b\b\b\b\b\b\b\b                                                                      \b\b\b\b\b\b\b\b\b\b\b\b\b\b\b\b\b\b\b\b\b\b\b\b\b\b\b\b\b\b\b\b\b\b\b\b\b\b\b\b\b\b\b\b\b\b\b\b\b\b\b\b\b\b\b\b\b\b\b\b\b\b\b\b\b\b\b\b\b\b 61% 30451 - Dataset/Smarthome/Record/record_smarthome_7000021_2122.wav\b\b\b\b\b\b\b\b\b\b\b\b\b\b\b\b\b\b\b\b\b\b\b\b\b\b\b\b\b\b\b\b\b\b\b\b\b\b\b\b\b\b\b\b\b\b\b\b\b\b\b\b\b\b\b\b\b\b\b\b\b\b\b\b\b\b\b\b\b\b\b                                                                       \b\b\b\b\b\b\b\b\b\b\b\b\b\b\b\b\b\b\b\b\b\b\b\b\b\b\b\b\b\b\b\b\b\b\b\b\b\b\b\b\b\b\b\b\b\b\b\b\b\b\b\b\b\b\b\b\b\b\b\b\b\b\b\b\b\b\b\b\b\b\b 61% 30472 - Dataset/Smarthome/Record/record_smarthome_7000021_2294.wav\b\b\b\b\b\b\b\b\b\b\b\b\b\b\b\b\b\b\b\b\b\b\b\b\b\b\b\b\b\b\b\b\b\b\b\b\b\b\b\b\b\b\b\b\b\b\b\b\b\b\b\b\b\b\b\b\b\b\b\b\b\b\b\b\b\b\b\b\b\b\b                                                                       \b\b\b\b\b\b\b\b\b\b\b\b\b\b\b\b\b\b\b\b\b\b\b\b\b\b\b\b\b\b\b\b\b\b\b\b\b\b\b\b\b\b\b\b\b\b\b\b\b\b\b\b\b\b\b\b\b\b\b\b\b\b\b\b\b\b\b\b\b\b\b 61% 30493 - Dataset/Smarthome/Record/record_smarthome_7000021_2455.wav\b\b\b\b\b\b\b\b\b\b\b\b\b\b\b\b\b\b\b\b\b\b\b\b\b\b\b\b\b\b\b\b\b\b\b\b\b\b\b\b\b\b\b\b\b\b\b\b\b\b\b\b\b\b\b\b\b\b\b\b\b\b\b\b\b\b\b\b\b\b\b                                                                       \b\b\b\b\b\b\b\b\b\b\b\b\b\b\b\b\b\b\b\b\b\b\b\b\b\b\b\b\b\b\b\b\b\b\b\b\b\b\b\b\b\b\b\b\b\b\b\b\b\b\b\b\b\b\b\b\b\b\b\b\b\b\b\b\b\b\b\b\b\b\b 61% 30514 - Dataset/Smarthome/Record/record_smarthome_7000021_271.wav\b\b\b\b\b\b\b\b\b\b\b\b\b\b\b\b\b\b\b\b\b\b\b\b\b\b\b\b\b\b\b\b\b\b\b\b\b\b\b\b\b\b\b\b\b\b\b\b\b\b\b\b\b\b\b\b\b\b\b\b\b\b\b\b\b\b\b\b\b\b                                                                      \b\b\b\b\b\b\b\b\b\b\b\b\b\b\b\b\b\b\b\b\b\b\b\b\b\b\b\b\b\b\b\b\b\b\b\b\b\b\b\b\b\b\b\b\b\b\b\b\b\b\b\b\b\b\b\b\b\b\b\b\b\b\b\b\b\b\b\b\b\b 61% 30535 - Dataset/Smarthome/Record/record_smarthome_7000021_496.wav\b\b\b\b\b\b\b\b\b\b\b\b\b\b\b\b\b\b\b\b\b\b\b\b\b\b\b\b\b\b\b\b\b\b\b\b\b\b\b\b\b\b\b\b\b\b\b\b\b\b\b\b\b\b\b\b\b\b\b\b\b\b\b\b\b\b\b\b\b\b                                                                      \b\b\b\b\b\b\b\b\b\b\b\b\b\b\b\b\b\b\b\b\b\b\b\b\b\b\b\b\b\b\b\b\b\b\b\b\b\b\b\b\b\b\b\b\b\b\b\b\b\b\b\b\b\b\b\b\b\b\b\b\b\b\b\b\b\b\b\b\b\b 62% 30557 - Dataset/Smarthome/Record/record_smarthome_7000021_619.wav\b\b\b\b\b\b\b\b\b\b\b\b\b\b\b\b\b\b\b\b\b\b\b\b\b\b\b\b\b\b\b\b\b\b\b\b\b\b\b\b\b\b\b\b\b\b\b\b\b\b\b\b\b\b\b\b\b\b\b\b\b\b\b\b\b\b\b\b\b\b                                                                      \b\b\b\b\b\b\b\b\b\b\b\b\b\b\b\b\b\b\b\b\b\b\b\b\b\b\b\b\b\b\b\b\b\b\b\b\b\b\b\b\b\b\b\b\b\b\b\b\b\b\b\b\b\b\b\b\b\b\b\b\b\b\b\b\b\b\b\b\b\b 62% 30579 - Dataset/Smarthome/Record/record_smarthome_7000021_76.wav\b\b\b\b\b\b\b\b\b\b\b\b\b\b\b\b\b\b\b\b\b\b\b\b\b\b\b\b\b\b\b\b\b\b\b\b\b\b\b\b\b\b\b\b\b\b\b\b\b\b\b\b\b\b\b\b\b\b\b\b\b\b\b\b\b\b\b\b\b                                                                     \b\b\b\b\b\b\b\b\b\b\b\b\b\b\b\b\b\b\b\b\b\b\b\b\b\b\b\b\b\b\b\b\b\b\b\b\b\b\b\b\b\b\b\b\b\b\b\b\b\b\b\b\b\b\b\b\b\b\b\b\b\b\b\b\b\b\b\b\b 62% 30601 - Dataset/Smarthome/Record/record_smarthome_7000021_919.wav\b\b\b\b\b\b\b\b\b\b\b\b\b\b\b\b\b\b\b\b\b\b\b\b\b\b\b\b\b\b\b\b\b\b\b\b\b\b\b\b\b\b\b\b\b\b\b\b\b\b\b\b\b\b\b\b\b\b\b\b\b\b\b\b\b\b\b\b\b\b                                                                      \b\b\b\b\b\b\b\b\b\b\b\b\b\b\b\b\b\b\b\b\b\b\b\b\b\b\b\b\b\b\b\b\b\b\b\b\b\b\b\b\b\b\b\b\b\b\b\b\b\b\b\b\b\b\b\b\b\b\b\b\b\b\b\b\b\b\b\b\b\b 62% 30622 - Dataset/Smarthome/Record/record_smarthome_7000022_1094.wav\b\b\b\b\b\b\b\b\b\b\b\b\b\b\b\b\b\b\b\b\b\b\b\b\b\b\b\b\b\b\b\b\b\b\b\b\b\b\b\b\b\b\b\b\b\b\b\b\b\b\b\b\b\b\b\b\b\b\b\b\b\b\b\b\b\b\b\b\b\b\b                                                                       \b\b\b\b\b\b\b\b\b\b\b\b\b\b\b\b\b\b\b\b\b\b\b\b\b\b\b\b\b\b\b\b\b\b\b\b\b\b\b\b\b\b\b\b\b\b\b\b\b\b\b\b\b\b\b\b\b\b\b\b\b\b\b\b\b\b\b\b\b\b\b 62% 30643 - Dataset/Smarthome/Record/record_smarthome_7000022_1242.wav\b\b\b\b\b\b\b\b\b\b\b\b\b\b\b\b\b\b\b\b\b\b\b\b\b\b\b\b\b\b\b\b\b\b\b\b\b\b\b\b\b\b\b\b\b\b\b\b\b\b\b\b\b\b\b\b\b\b\b\b\b\b\b\b\b\b\b\b\b\b\b                                                                       \b\b\b\b\b\b\b\b\b\b\b\b\b\b\b\b\b\b\b\b\b\b\b\b\b\b\b\b\b\b\b\b\b\b\b\b\b\b\b\b\b\b\b\b\b\b\b\b\b\b\b\b\b\b\b\b\b\b\b\b\b\b\b\b\b\b\b\b\b\b\b 62% 30665 - Dataset/Smarthome/Record/record_smarthome_7000022_1462.wav\b\b\b\b\b\b\b\b\b\b\b\b\b\b\b\b\b\b\b\b\b\b\b\b\b\b\b\b\b\b\b\b\b\b\b\b\b\b\b\b\b\b\b\b\b\b\b\b\b\b\b\b\b\b\b\b\b\b\b\b\b\b\b\b\b\b\b\b\b\b\b                                                                       \b\b\b\b\b\b\b\b\b\b\b\b\b\b\b\b\b\b\b\b\b\b\b\b\b\b\b\b\b\b\b\b\b\b\b\b\b\b\b\b\b\b\b\b\b\b\b\b\b\b\b\b\b\b\b\b\b\b\b\b\b\b\b\b\b\b\b\b\b\b\b 62% 30687 - Dataset/Smarthome/Record/record_smarthome_7000022_1656.wav\b\b\b\b\b\b\b\b\b\b\b\b\b\b\b\b\b\b\b\b\b\b\b\b\b\b\b\b\b\b\b\b\b\b\b\b\b\b\b\b\b\b\b\b\b\b\b\b\b\b\b\b\b\b\b\b\b\b\b\b\b\b\b\b\b\b\b\b\b\b\b                                                                       \b\b\b\b\b\b\b\b\b\b\b\b\b\b\b\b\b\b\b\b\b\b\b\b\b\b\b\b\b\b\b\b\b\b\b\b\b\b\b\b\b\b\b\b\b\b\b\b\b\b\b\b\b\b\b\b\b\b\b\b\b\b\b\b\b\b\b\b\b\b\b 63% 30709 - Dataset/Smarthome/Record/record_smarthome_7000022_1832.wav\b\b\b\b\b\b\b\b\b\b\b\b\b\b\b\b\b\b\b\b\b\b\b\b\b\b\b\b\b\b\b\b\b\b\b\b\b\b\b\b\b\b\b\b\b\b\b\b\b\b\b\b\b\b\b\b\b\b\b\b\b\b\b\b\b\b\b\b\b\b\b                                                                       \b\b\b\b\b\b\b\b\b\b\b\b\b\b\b\b\b\b\b\b\b\b\b\b\b\b\b\b\b\b\b\b\b\b\b\b\b\b\b\b\b\b\b\b\b\b\b\b\b\b\b\b\b\b\b\b\b\b\b\b\b\b\b\b\b\b\b\b\b\b\b 63% 30731 - Dataset/Smarthome/Record/record_smarthome_7000022_1966.wav\b\b\b\b\b\b\b\b\b\b\b\b\b\b\b\b\b\b\b\b\b\b\b\b\b\b\b\b\b\b\b\b\b\b\b\b\b\b\b\b\b\b\b\b\b\b\b\b\b\b\b\b\b\b\b\b\b\b\b\b\b\b\b\b\b\b\b\b\b\b\b                                                                       \b\b\b\b\b\b\b\b\b\b\b\b\b\b\b\b\b\b\b\b\b\b\b\b\b\b\b\b\b\b\b\b\b\b\b\b\b\b\b\b\b\b\b\b\b\b\b\b\b\b\b\b\b\b\b\b\b\b\b\b\b\b\b\b\b\b\b\b\b\b\b 63% 30752 - Dataset/Smarthome/Record/record_smarthome_7000022_2154.wav\b\b\b\b\b\b\b\b\b\b\b\b\b\b\b\b\b\b\b\b\b\b\b\b\b\b\b\b\b\b\b\b\b\b\b\b\b\b\b\b\b\b\b\b\b\b\b\b\b\b\b\b\b\b\b\b\b\b\b\b\b\b\b\b\b\b\b\b\b\b\b                                                                       \b\b\b\b\b\b\b\b\b\b\b\b\b\b\b\b\b\b\b\b\b\b\b\b\b\b\b\b\b\b\b\b\b\b\b\b\b\b\b\b\b\b\b\b\b\b\b\b\b\b\b\b\b\b\b\b\b\b\b\b\b\b\b\b\b\b\b\b\b\b\b 63% 30774 - Dataset/Smarthome/Record/record_smarthome_7000022_2323.wav\b\b\b\b\b\b\b\b\b\b\b\b\b\b\b\b\b\b\b\b\b\b\b\b\b\b\b\b\b\b\b\b\b\b\b\b\b\b\b\b\b\b\b\b\b\b\b\b\b\b\b\b\b\b\b\b\b\b\b\b\b\b\b\b\b\b\b\b\b\b\b                                                                       \b\b\b\b\b\b\b\b\b\b\b\b\b\b\b\b\b\b\b\b\b\b\b\b\b\b\b\b\b\b\b\b\b\b\b\b\b\b\b\b\b\b\b\b\b\b\b\b\b\b\b\b\b\b\b\b\b\b\b\b\b\b\b\b\b\b\b\b\b\b\b 63% 30795 - Dataset/Smarthome/Record/record_smarthome_7000022_2500.wav\b\b\b\b\b\b\b\b\b\b\b\b\b\b\b\b\b\b\b\b\b\b\b\b\b\b\b\b\b\b\b\b\b\b\b\b\b\b\b\b\b\b\b\b\b\b\b\b\b\b\b\b\b\b\b\b\b\b\b\b\b\b\b\b\b\b\b\b\b\b\b                                                                       \b\b\b\b\b\b\b\b\b\b\b\b\b\b\b\b\b\b\b\b\b\b\b\b\b\b\b\b\b\b\b\b\b\b\b\b\b\b\b\b\b\b\b\b\b\b\b\b\b\b\b\b\b\b\b\b\b\b\b\b\b\b\b\b\b\b\b\b\b\b\b 63% 30814 - Dataset/Smarthome/Record/record_smarthome_7000022_276.wav\b\b\b\b\b\b\b\b\b\b\b\b\b\b\b\b\b\b\b\b\b\b\b\b\b\b\b\b\b\b\b\b\b\b\b\b\b\b\b\b\b\b\b\b\b\b\b\b\b\b\b\b\b\b\b\b\b\b\b\b\b\b\b\b\b\b\b\b\b\b                                                                      \b\b\b\b\b\b\b\b\b\b\b\b\b\b\b\b\b\b\b\b\b\b\b\b\b\b\b\b\b\b\b\b\b\b\b\b\b\b\b\b\b\b\b\b\b\b\b\b\b\b\b\b\b\b\b\b\b\b\b\b\b\b\b\b\b\b\b\b\b\b 63% 30836 - Dataset/Smarthome/Record/record_smarthome_7000022_402.wav\b\b\b\b\b\b\b\b\b\b\b\b\b\b\b\b\b\b\b\b\b\b\b\b\b\b\b\b\b\b\b\b\b\b\b\b\b\b\b\b\b\b\b\b\b\b\b\b\b\b\b\b\b\b\b\b\b\b\b\b\b\b\b\b\b\b\b\b\b\b                                                                      \b\b\b\b\b\b\b\b\b\b\b\b\b\b\b\b\b\b\b\b\b\b\b\b\b\b\b\b\b\b\b\b\b\b\b\b\b\b\b\b\b\b\b\b\b\b\b\b\b\b\b\b\b\b\b\b\b\b\b\b\b\b\b\b\b\b\b\b\b\b 63% 30857 - Dataset/Smarthome/Record/record_smarthome_7000022_556.wav\b\b\b\b\b\b\b\b\b\b\b\b\b\b\b\b\b\b\b\b\b\b\b\b\b\b\b\b\b\b\b\b\b\b\b\b\b\b\b\b\b\b\b\b\b\b\b\b\b\b\b\b\b\b\b\b\b\b\b\b\b\b\b\b\b\b\b\b\b\b                                                                      \b\b\b\b\b\b\b\b\b\b\b\b\b\b\b\b\b\b\b\b\b\b\b\b\b\b\b\b\b\b\b\b\b\b\b\b\b\b\b\b\b\b\b\b\b\b\b\b\b\b\b\b\b\b\b\b\b\b\b\b\b\b\b\b\b\b\b\b\b\b 64% 30878 - Dataset/Smarthome/Record/record_smarthome_7000022_767.wav\b\b\b\b\b\b\b\b\b\b\b\b\b\b\b\b\b\b\b\b\b\b\b\b\b\b\b\b\b\b\b\b\b\b\b\b\b\b\b\b\b\b\b\b\b\b\b\b\b\b\b\b\b\b\b\b\b\b\b\b\b\b\b\b\b\b\b\b\b\b                                                                      \b\b\b\b\b\b\b\b\b\b\b\b\b\b\b\b\b\b\b\b\b\b\b\b\b\b\b\b\b\b\b\b\b\b\b\b\b\b\b\b\b\b\b\b\b\b\b\b\b\b\b\b\b\b\b\b\b\b\b\b\b\b\b\b\b\b\b\b\b\b 64% 30900 - Dataset/Smarthome/Record/record_smarthome_7000022_918.wav\b\b\b\b\b\b\b\b\b\b\b\b\b\b\b\b\b\b\b\b\b\b\b\b\b\b\b\b\b\b\b\b\b\b\b\b\b\b\b\b\b\b\b\b\b\b\b\b\b\b\b\b\b\b\b\b\b\b\b\b\b\b\b\b\b\b\b\b\b\b                                                                      \b\b\b\b\b\b\b\b\b\b\b\b\b\b\b\b\b\b\b\b\b\b\b\b\b\b\b\b\b\b\b\b\b\b\b\b\b\b\b\b\b\b\b\b\b\b\b\b\b\b\b\b\b\b\b\b\b\b\b\b\b\b\b\b\b\b\b\b\b\b 64% 30922 - Dataset/Smarthome/Record/record_smarthome_7000023_1135.wav\b\b\b\b\b\b\b\b\b\b\b\b\b\b\b\b\b\b\b\b\b\b\b\b\b\b\b\b\b\b\b\b\b\b\b\b\b\b\b\b\b\b\b\b\b\b\b\b\b\b\b\b\b\b\b\b\b\b\b\b\b\b\b\b\b\b\b\b\b\b\b                                                                       \b\b\b\b\b\b\b\b\b\b\b\b\b\b\b\b\b\b\b\b\b\b\b\b\b\b\b\b\b\b\b\b\b\b\b\b\b\b\b\b\b\b\b\b\b\b\b\b\b\b\b\b\b\b\b\b\b\b\b\b\b\b\b\b\b\b\b\b\b\b\b 64% 30946 - Dataset/Smarthome/Record/record_smarthome_7000023_1305.wav\b\b\b\b\b\b\b\b\b\b\b\b\b\b\b\b\b\b\b\b\b\b\b\b\b\b\b\b\b\b\b\b\b\b\b\b\b\b\b\b\b\b\b\b\b\b\b\b\b\b\b\b\b\b\b\b\b\b\b\b\b\b\b\b\b\b\b\b\b\b\b                                                                       \b\b\b\b\b\b\b\b\b\b\b\b\b\b\b\b\b\b\b\b\b\b\b\b\b\b\b\b\b\b\b\b\b\b\b\b\b\b\b\b\b\b\b\b\b\b\b\b\b\b\b\b\b\b\b\b\b\b\b\b\b\b\b\b\b\b\b\b\b\b\b 64% 30969 - Dataset/Smarthome/Record/record_smarthome_7000023_1467.wav\b\b\b\b\b\b\b\b\b\b\b\b\b\b\b\b\b\b\b\b\b\b\b\b\b\b\b\b\b\b\b\b\b\b\b\b\b\b\b\b\b\b\b\b\b\b\b\b\b\b\b\b\b\b\b\b\b\b\b\b\b\b\b\b\b\b\b\b\b\b\b                                                                       \b\b\b\b\b\b\b\b\b\b\b\b\b\b\b\b\b\b\b\b\b\b\b\b\b\b\b\b\b\b\b\b\b\b\b\b\b\b\b\b\b\b\b\b\b\b\b\b\b\b\b\b\b\b\b\b\b\b\b\b\b\b\b\b\b\b\b\b\b\b\b 64% 30993 - Dataset/Smarthome/Record/record_smarthome_7000023_1675.wav\b\b\b\b\b\b\b\b\b\b\b\b\b\b\b\b\b\b\b\b\b\b\b\b\b\b\b\b\b\b\b\b\b\b\b\b\b\b\b\b\b\b\b\b\b\b\b\b\b\b\b\b\b\b\b\b\b\b\b\b\b\b\b\b\b\b\b\b\b\b\b                                                                       \b\b\b\b\b\b\b\b\b\b\b\b\b\b\b\b\b\b\b\b\b\b\b\b\b\b\b\b\b\b\b\b\b\b\b\b\b\b\b\b\b\b\b\b\b\b\b\b\b\b\b\b\b\b\b\b\b\b\b\b\b\b\b\b\b\b\b\b\b\b\b 64% 31016 - Dataset/Smarthome/Record/record_smarthome_7000023_1860.wav\b\b\b\b\b\b\b\b\b\b\b\b\b\b\b\b\b\b\b\b\b\b\b\b\b\b\b\b\b\b\b\b\b\b\b\b\b\b\b\b\b\b\b\b\b\b\b\b\b\b\b\b\b\b\b\b\b\b\b\b\b\b\b\b\b\b\b\b\b\b\b                                                                       \b\b\b\b\b\b\b\b\b\b\b\b\b\b\b\b\b\b\b\b\b\b\b\b\b\b\b\b\b\b\b\b\b\b\b\b\b\b\b\b\b\b\b\b\b\b\b\b\b\b\b\b\b\b\b\b\b\b\b\b\b\b\b\b\b\b\b\b\b\b\b 64% 31039 - Dataset/Smarthome/Record/record_smarthome_7000023_2126.wav\b\b\b\b\b\b\b\b\b\b\b\b\b\b\b\b\b\b\b\b\b\b\b\b\b\b\b\b\b\b\b\b\b\b\b\b\b\b\b\b\b\b\b\b\b\b\b\b\b\b\b\b\b\b\b\b\b\b\b\b\b\b\b\b\b\b\b\b\b\b\b                                                                       \b\b\b\b\b\b\b\b\b\b\b\b\b\b\b\b\b\b\b\b\b\b\b\b\b\b\b\b\b\b\b\b\b\b\b\b\b\b\b\b\b\b\b\b\b\b\b\b\b\b\b\b\b\b\b\b\b\b\b\b\b\b\b\b\b\b\b\b\b\b\b 64% 31062 - Dataset/Smarthome/Record/record_smarthome_7000023_2276.wav\b\b\b\b\b\b\b\b\b\b\b\b\b\b\b\b\b\b\b\b\b\b\b\b\b\b\b\b\b\b\b\b\b\b\b\b\b\b\b\b\b\b\b\b\b\b\b\b\b\b\b\b\b\b\b\b\b\b\b\b\b\b\b\b\b\b\b\b\b\b\b                                                                       \b\b\b\b\b\b\b\b\b\b\b\b\b\b\b\b\b\b\b\b\b\b\b\b\b\b\b\b\b\b\b\b\b\b\b\b\b\b\b\b\b\b\b\b\b\b\b\b\b\b\b\b\b\b\b\b\b\b\b\b\b\b\b\b\b\b\b\b\b\b\b 65% 31086 - Dataset/Smarthome/Record/record_smarthome_7000023_2431.wav\b\b\b\b\b\b\b\b\b\b\b\b\b\b\b\b\b\b\b\b\b\b\b\b\b\b\b\b\b\b\b\b\b\b\b\b\b\b\b\b\b\b\b\b\b\b\b\b\b\b\b\b\b\b\b\b\b\b\b\b\b\b\b\b\b\b\b\b\b\b\b                                                                       \b\b\b\b\b\b\b\b\b\b\b\b\b\b\b\b\b\b\b\b\b\b\b\b\b\b\b\b\b\b\b\b\b\b\b\b\b\b\b\b\b\b\b\b\b\b\b\b\b\b\b\b\b\b\b\b\b\b\b\b\b\b\b\b\b\b\b\b\b\b\b 65% 31110 - Dataset/Smarthome/Record/record_smarthome_7000023_2639.wav\b\b\b\b\b\b\b\b\b\b\b\b\b\b\b\b\b\b\b\b\b\b\b\b\b\b\b\b\b\b\b\b\b\b\b\b\b\b\b\b\b\b\b\b\b\b\b\b\b\b\b\b\b\b\b\b\b\b\b\b\b\b\b\b\b\b\b\b\b\b\b                                                                       \b\b\b\b\b\b\b\b\b\b\b\b\b\b\b\b\b\b\b\b\b\b\b\b\b\b\b\b\b\b\b\b\b\b\b\b\b\b\b\b\b\b\b\b\b\b\b\b\b\b\b\b\b\b\b\b\b\b\b\b\b\b\b\b\b\b\b\b\b\b\b 65% 31129 - Dataset/Smarthome/Record/record_smarthome_7000023_423.wav\b\b\b\b\b\b\b\b\b\b\b\b\b\b\b\b\b\b\b\b\b\b\b\b\b\b\b\b\b\b\b\b\b\b\b\b\b\b\b\b\b\b\b\b\b\b\b\b\b\b\b\b\b\b\b\b\b\b\b\b\b\b\b\b\b\b\b\b\b\b                                                                      \b\b\b\b\b\b\b\b\b\b\b\b\b\b\b\b\b\b\b\b\b\b\b\b\b\b\b\b\b\b\b\b\b\b\b\b\b\b\b\b\b\b\b\b\b\b\b\b\b\b\b\b\b\b\b\b\b\b\b\b\b\b\b\b\b\b\b\b\b\b 65% 31153 - Dataset/Smarthome/Record/record_smarthome_7000023_58.wav\b\b\b\b\b\b\b\b\b\b\b\b\b\b\b\b\b\b\b\b\b\b\b\b\b\b\b\b\b\b\b\b\b\b\b\b\b\b\b\b\b\b\b\b\b\b\b\b\b\b\b\b\b\b\b\b\b\b\b\b\b\b\b\b\b\b\b\b\b                                                                     \b\b\b\b\b\b\b\b\b\b\b\b\b\b\b\b\b\b\b\b\b\b\b\b\b\b\b\b\b\b\b\b\b\b\b\b\b\b\b\b\b\b\b\b\b\b\b\b\b\b\b\b\b\b\b\b\b\b\b\b\b\b\b\b\b\b\b\b\b 65% 31177 - Dataset/Smarthome/Record/record_smarthome_7000023_747.wav\b\b\b\b\b\b\b\b\b\b\b\b\b\b\b\b\b\b\b\b\b\b\b\b\b\b\b\b\b\b\b\b\b\b\b\b\b\b\b\b\b\b\b\b\b\b\b\b\b\b\b\b\b\b\b\b\b\b\b\b\b\b\b\b\b\b\b\b\b\b                                                                      \b\b\b\b\b\b\b\b\b\b\b\b\b\b\b\b\b\b\b\b\b\b\b\b\b\b\b\b\b\b\b\b\b\b\b\b\b\b\b\b\b\b\b\b\b\b\b\b\b\b\b\b\b\b\b\b\b\b\b\b\b\b\b\b\b\b\b\b\b\b 65% 31201 - Dataset/Smarthome/Record/record_smarthome_7000023_935.wav\b\b\b\b\b\b\b\b\b\b\b\b\b\b\b\b\b\b\b\b\b\b\b\b\b\b\b\b\b\b\b\b\b\b\b\b\b\b\b\b\b\b\b\b\b\b\b\b\b\b\b\b\b\b\b\b\b\b\b\b\b\b\b\b\b\b\b\b\b\b                                                                      \b\b\b\b\b\b\b\b\b\b\b\b\b\b\b\b\b\b\b\b\b\b\b\b\b\b\b\b\b\b\b\b\b\b\b\b\b\b\b\b\b\b\b\b\b\b\b\b\b\b\b\b\b\b\b\b\b\b\b\b\b\b\b\b\b\b\b\b\b\b 65% 31223 - Dataset/Smarthome/Record/record_smarthome_7000025_1064.wav\b\b\b\b\b\b\b\b\b\b\b\b\b\b\b\b\b\b\b\b\b\b\b\b\b\b\b\b\b\b\b\b\b\b\b\b\b\b\b\b\b\b\b\b\b\b\b\b\b\b\b\b\b\b\b\b\b\b\b\b\b\b\b\b\b\b\b\b\b\b\b                                                                       \b\b\b\b\b\b\b\b\b\b\b\b\b\b\b\b\b\b\b\b\b\b\b\b\b\b\b\b\b\b\b\b\b\b\b\b\b\b\b\b\b\b\b\b\b\b\b\b\b\b\b\b\b\b\b\b\b\b\b\b\b\b\b\b\b\b\b\b\b\b\b 65% 31246 - Dataset/Smarthome/Record/record_smarthome_7000025_1213.wav\b\b\b\b\b\b\b\b\b\b\b\b\b\b\b\b\b\b\b\b\b\b\b\b\b\b\b\b\b\b\b\b\b\b\b\b\b\b\b\b\b\b\b\b\b\b\b\b\b\b\b\b\b\b\b\b\b\b\b\b\b\b\b\b\b\b\b\b\b\b\b                                                                       \b\b\b\b\b\b\b\b\b\b\b\b\b\b\b\b\b\b\b\b\b\b\b\b\b\b\b\b\b\b\b\b\b\b\b\b\b\b\b\b\b\b\b\b\b\b\b\b\b\b\b\b\b\b\b\b\b\b\b\b\b\b\b\b\b\b\b\b\b\b\b 65% 31268 - Dataset/Smarthome/Record/record_smarthome_7000025_1351.wav\b\b\b\b\b\b\b\b\b\b\b\b\b\b\b\b\b\b\b\b\b\b\b\b\b\b\b\b\b\b\b\b\b\b\b\b\b\b\b\b\b\b\b\b\b\b\b\b\b\b\b\b\b\b\b\b\b\b\b\b\b\b\b\b\b\b\b\b\b\b\b                                                                       \b\b\b\b\b\b\b\b\b\b\b\b\b\b\b\b\b\b\b\b\b\b\b\b\b\b\b\b\b\b\b\b\b\b\b\b\b\b\b\b\b\b\b\b\b\b\b\b\b\b\b\b\b\b\b\b\b\b\b\b\b\b\b\b\b\b\b\b\b\b\b 66% 31290 - Dataset/Smarthome/Record/record_smarthome_7000025_1552.wav\b\b\b\b\b\b\b\b\b\b\b\b\b\b\b\b\b\b\b\b\b\b\b\b\b\b\b\b\b\b\b\b\b\b\b\b\b\b\b\b\b\b\b\b\b\b\b\b\b\b\b\b\b\b\b\b\b\b\b\b\b\b\b\b\b\b\b\b\b\b\b                                                                       \b\b\b\b\b\b\b\b\b\b\b\b\b\b\b\b\b\b\b\b\b\b\b\b\b\b\b\b\b\b\b\b\b\b\b\b\b\b\b\b\b\b\b\b\b\b\b\b\b\b\b\b\b\b\b\b\b\b\b\b\b\b\b\b\b\b\b\b\b\b\b 66% 31312 - Dataset/Smarthome/Record/record_smarthome_7000025_167.wav\b\b\b\b\b\b\b\b\b\b\b\b\b\b\b\b\b\b\b\b\b\b\b\b\b\b\b\b\b\b\b\b\b\b\b\b\b\b\b\b\b\b\b\b\b\b\b\b\b\b\b\b\b\b\b\b\b\b\b\b\b\b\b\b\b\b\b\b\b\b                                                                      \b\b\b\b\b\b\b\b\b\b\b\b\b\b\b\b\b\b\b\b\b\b\b\b\b\b\b\b\b\b\b\b\b\b\b\b\b\b\b\b\b\b\b\b\b\b\b\b\b\b\b\b\b\b\b\b\b\b\b\b\b\b\b\b\b\b\b\b\b\b 66% 31333 - Dataset/Smarthome/Record/record_smarthome_7000025_1884.wav\b\b\b\b\b\b\b\b\b\b\b\b\b\b\b\b\b\b\b\b\b\b\b\b\b\b\b\b\b\b\b\b\b\b\b\b\b\b\b\b\b\b\b\b\b\b\b\b\b\b\b\b\b\b\b\b\b\b\b\b\b\b\b\b\b\b\b\b\b\b\b                                                                       \b\b\b\b\b\b\b\b\b\b\b\b\b\b\b\b\b\b\b\b\b\b\b\b\b\b\b\b\b\b\b\b\b\b\b\b\b\b\b\b\b\b\b\b\b\b\b\b\b\b\b\b\b\b\b\b\b\b\b\b\b\b\b\b\b\b\b\b\b\b\b 66% 31354 - Dataset/Smarthome/Record/record_smarthome_7000025_2103.wav\b\b\b\b\b\b\b\b\b\b\b\b\b\b\b\b\b\b\b\b\b\b\b\b\b\b\b\b\b\b\b\b\b\b\b\b\b\b\b\b\b\b\b\b\b\b\b\b\b\b\b\b\b\b\b\b\b\b\b\b\b\b\b\b\b\b\b\b\b\b\b                                                                       \b\b\b\b\b\b\b\b\b\b\b\b\b\b\b\b\b\b\b\b\b\b\b\b\b\b\b\b\b\b\b\b\b\b\b\b\b\b\b\b\b\b\b\b\b\b\b\b\b\b\b\b\b\b\b\b\b\b\b\b\b\b\b\b\b\b\b\b\b\b\b 66% 31374 - Dataset/Smarthome/Record/record_smarthome_7000025_2269.wav\b\b\b\b\b\b\b\b\b\b\b\b\b\b\b\b\b\b\b\b\b\b\b\b\b\b\b\b\b\b\b\b\b\b\b\b\b\b\b\b\b\b\b\b\b\b\b\b\b\b\b\b\b\b\b\b\b\b\b\b\b\b\b\b\b\b\b\b\b\b\b                                                                       \b\b\b\b\b\b\b\b\b\b\b\b\b\b\b\b\b\b\b\b\b\b\b\b\b\b\b\b\b\b\b\b\b\b\b\b\b\b\b\b\b\b\b\b\b\b\b\b\b\b\b\b\b\b\b\b\b\b\b\b\b\b\b\b\b\b\b\b\b\b\b 66% 31394 - Dataset/Smarthome/Record/record_smarthome_7000025_2442.wav\b\b\b\b\b\b\b\b\b\b\b\b\b\b\b\b\b\b\b\b\b\b\b\b\b\b\b\b\b\b\b\b\b\b\b\b\b\b\b\b\b\b\b\b\b\b\b\b\b\b\b\b\b\b\b\b\b\b\b\b\b\b\b\b\b\b\b\b\b\b\b                                                                       \b\b\b\b\b\b\b\b\b\b\b\b\b\b\b\b\b\b\b\b\b\b\b\b\b\b\b\b\b\b\b\b\b\b\b\b\b\b\b\b\b\b\b\b\b\b\b\b\b\b\b\b\b\b\b\b\b\b\b\b\b\b\b\b\b\b\b\b\b\b\b 66% 31414 - Dataset/Smarthome/Record/record_smarthome_7000025_2625.wav\b\b\b\b\b\b\b\b\b\b\b\b\b\b\b\b\b\b\b\b\b\b\b\b\b\b\b\b\b\b\b\b\b\b\b\b\b\b\b\b\b\b\b\b\b\b\b\b\b\b\b\b\b\b\b\b\b\b\b\b\b\b\b\b\b\b\b\b\b\b\b                                                                       \b\b\b\b\b\b\b\b\b\b\b\b\b\b\b\b\b\b\b\b\b\b\b\b\b\b\b\b\b\b\b\b\b\b\b\b\b\b\b\b\b\b\b\b\b\b\b\b\b\b\b\b\b\b\b\b\b\b\b\b\b\b\b\b\b\b\b\b\b\b\b 67% 31436 - Dataset/Smarthome/Record/record_smarthome_7000025_414.wav\b\b\b\b\b\b\b\b\b\b\b\b\b\b\b\b\b\b\b\b\b\b\b\b\b\b\b\b\b\b\b\b\b\b\b\b\b\b\b\b\b\b\b\b\b\b\b\b\b\b\b\b\b\b\b\b\b\b\b\b\b\b\b\b\b\b\b\b\b\b                                                                      \b\b\b\b\b\b\b\b\b\b\b\b\b\b\b\b\b\b\b\b\b\b\b\b\b\b\b\b\b\b\b\b\b\b\b\b\b\b\b\b\b\b\b\b\b\b\b\b\b\b\b\b\b\b\b\b\b\b\b\b\b\b\b\b\b\b\b\b\b\b 67% 31458 - Dataset/Smarthome/Record/record_smarthome_7000025_583.wav\b\b\b\b\b\b\b\b\b\b\b\b\b\b\b\b\b\b\b\b\b\b\b\b\b\b\b\b\b\b\b\b\b\b\b\b\b\b\b\b\b\b\b\b\b\b\b\b\b\b\b\b\b\b\b\b\b\b\b\b\b\b\b\b\b\b\b\b\b\b                                                                      \b\b\b\b\b\b\b\b\b\b\b\b\b\b\b\b\b\b\b\b\b\b\b\b\b\b\b\b\b\b\b\b\b\b\b\b\b\b\b\b\b\b\b\b\b\b\b\b\b\b\b\b\b\b\b\b\b\b\b\b\b\b\b\b\b\b\b\b\b\b 67% 31478 - Dataset/Smarthome/Record/record_smarthome_7000025_719.wav\b\b\b\b\b\b\b\b\b\b\b\b\b\b\b\b\b\b\b\b\b\b\b\b\b\b\b\b\b\b\b\b\b\b\b\b\b\b\b\b\b\b\b\b\b\b\b\b\b\b\b\b\b\b\b\b\b\b\b\b\b\b\b\b\b\b\b\b\b\b                                                                      \b\b\b\b\b\b\b\b\b\b\b\b\b\b\b\b\b\b\b\b\b\b\b\b\b\b\b\b\b\b\b\b\b\b\b\b\b\b\b\b\b\b\b\b\b\b\b\b\b\b\b\b\b\b\b\b\b\b\b\b\b\b\b\b\b\b\b\b\b\b 67% 31497 - Dataset/Smarthome/Record/record_smarthome_7000025_875.wav\b\b\b\b\b\b\b\b\b\b\b\b\b\b\b\b\b\b\b\b\b\b\b\b\b\b\b\b\b\b\b\b\b\b\b\b\b\b\b\b\b\b\b\b\b\b\b\b\b\b\b\b\b\b\b\b\b\b\b\b\b\b\b\b\b\b\b\b\b\b                                                                      \b\b\b\b\b\b\b\b\b\b\b\b\b\b\b\b\b\b\b\b\b\b\b\b\b\b\b\b\b\b\b\b\b\b\b\b\b\b\b\b\b\b\b\b\b\b\b\b\b\b\b\b\b\b\b\b\b\b\b\b\b\b\b\b\b\b\b\b\b\b 67% 31517 - Dataset/Smarthome/Record/record_smarthome_7000026_1049.wav\b\b\b\b\b\b\b\b\b\b\b\b\b\b\b\b\b\b\b\b\b\b\b\b\b\b\b\b\b\b\b\b\b\b\b\b\b\b\b\b\b\b\b\b\b\b\b\b\b\b\b\b\b\b\b\b\b\b\b\b\b\b\b\b\b\b\b\b\b\b\b                                                                       \b\b\b\b\b\b\b\b\b\b\b\b\b\b\b\b\b\b\b\b\b\b\b\b\b\b\b\b\b\b\b\b\b\b\b\b\b\b\b\b\b\b\b\b\b\b\b\b\b\b\b\b\b\b\b\b\b\b\b\b\b\b\b\b\b\b\b\b\b\b\b 67% 31538 - Dataset/Smarthome/Record/record_smarthome_7000026_1189.wav\b\b\b\b\b\b\b\b\b\b\b\b\b\b\b\b\b\b\b\b\b\b\b\b\b\b\b\b\b\b\b\b\b\b\b\b\b\b\b\b\b\b\b\b\b\b\b\b\b\b\b\b\b\b\b\b\b\b\b\b\b\b\b\b\b\b\b\b\b\b\b                                                                       \b\b\b\b\b\b\b\b\b\b\b\b\b\b\b\b\b\b\b\b\b\b\b\b\b\b\b\b\b\b\b\b\b\b\b\b\b\b\b\b\b\b\b\b\b\b\b\b\b\b\b\b\b\b\b\b\b\b\b\b\b\b\b\b\b\b\b\b\b\b\b 67% 31561 - Dataset/Smarthome/Record/record_smarthome_7000026_1379.wav\b\b\b\b\b\b\b\b\b\b\b\b\b\b\b\b\b\b\b\b\b\b\b\b\b\b\b\b\b\b\b\b\b\b\b\b\b\b\b\b\b\b\b\b\b\b\b\b\b\b\b\b\b\b\b\b\b\b\b\b\b\b\b\b\b\b\b\b\b\b\b                                                                       \b\b\b\b\b\b\b\b\b\b\b\b\b\b\b\b\b\b\b\b\b\b\b\b\b\b\b\b\b\b\b\b\b\b\b\b\b\b\b\b\b\b\b\b\b\b\b\b\b\b\b\b\b\b\b\b\b\b\b\b\b\b\b\b\b\b\b\b\b\b\b 67% 31583 - Dataset/Smarthome/Record/record_smarthome_7000026_1514.wav\b\b\b\b\b\b\b\b\b\b\b\b\b\b\b\b\b\b\b\b\b\b\b\b\b\b\b\b\b\b\b\b\b\b\b\b\b\b\b\b\b\b\b\b\b\b\b\b\b\b\b\b\b\b\b\b\b\b\b\b\b\b\b\b\b\b\b\b\b\b\b                                                                       \b\b\b\b\b\b\b\b\b\b\b\b\b\b\b\b\b\b\b\b\b\b\b\b\b\b\b\b\b\b\b\b\b\b\b\b\b\b\b\b\b\b\b\b\b\b\b\b\b\b\b\b\b\b\b\b\b\b\b\b\b\b\b\b\b\b\b\b\b\b\b 68% 31605 - Dataset/Smarthome/Record/record_smarthome_7000026_1721.wav\b\b\b\b\b\b\b\b\b\b\b\b\b\b\b\b\b\b\b\b\b\b\b\b\b\b\b\b\b\b\b\b\b\b\b\b\b\b\b\b\b\b\b\b\b\b\b\b\b\b\b\b\b\b\b\b\b\b\b\b\b\b\b\b\b\b\b\b\b\b\b                                                                       \b\b\b\b\b\b\b\b\b\b\b\b\b\b\b\b\b\b\b\b\b\b\b\b\b\b\b\b\b\b\b\b\b\b\b\b\b\b\b\b\b\b\b\b\b\b\b\b\b\b\b\b\b\b\b\b\b\b\b\b\b\b\b\b\b\b\b\b\b\b\b 68% 31628 - Dataset/Smarthome/Record/record_smarthome_7000026_1869.wav\b\b\b\b\b\b\b\b\b\b\b\b\b\b\b\b\b\b\b\b\b\b\b\b\b\b\b\b\b\b\b\b\b\b\b\b\b\b\b\b\b\b\b\b\b\b\b\b\b\b\b\b\b\b\b\b\b\b\b\b\b\b\b\b\b\b\b\b\b\b\b                                                                       \b\b\b\b\b\b\b\b\b\b\b\b\b\b\b\b\b\b\b\b\b\b\b\b\b\b\b\b\b\b\b\b\b\b\b\b\b\b\b\b\b\b\b\b\b\b\b\b\b\b\b\b\b\b\b\b\b\b\b\b\b\b\b\b\b\b\b\b\b\b\b 68% 31651 - Dataset/Smarthome/Record/record_smarthome_7000026_2080.wav\b\b\b\b\b\b\b\b\b\b\b\b\b\b\b\b\b\b\b\b\b\b\b\b\b\b\b\b\b\b\b\b\b\b\b\b\b\b\b\b\b\b\b\b\b\b\b\b\b\b\b\b\b\b\b\b\b\b\b\b\b\b\b\b\b\b\b\b\b\b\b                                                                       \b\b\b\b\b\b\b\b\b\b\b\b\b\b\b\b\b\b\b\b\b\b\b\b\b\b\b\b\b\b\b\b\b\b\b\b\b\b\b\b\b\b\b\b\b\b\b\b\b\b\b\b\b\b\b\b\b\b\b\b\b\b\b\b\b\b\b\b\b\b\b 68% 31674 - Dataset/Smarthome/Record/record_smarthome_7000026_2338.wav\b\b\b\b\b\b\b\b\b\b\b\b\b\b\b\b\b\b\b\b\b\b\b\b\b\b\b\b\b\b\b\b\b\b\b\b\b\b\b\b\b\b\b\b\b\b\b\b\b\b\b\b\b\b\b\b\b\b\b\b\b\b\b\b\b\b\b\b\b\b\b                                                                       \b\b\b\b\b\b\b\b\b\b\b\b\b\b\b\b\b\b\b\b\b\b\b\b\b\b\b\b\b\b\b\b\b\b\b\b\b\b\b\b\b\b\b\b\b\b\b\b\b\b\b\b\b\b\b\b\b\b\b\b\b\b\b\b\b\b\b\b\b\b\b 68% 31695 - Dataset/Smarthome/Record/record_smarthome_7000026_2471.wav\b\b\b\b\b\b\b\b\b\b\b\b\b\b\b\b\b\b\b\b\b\b\b\b\b\b\b\b\b\b\b\b\b\b\b\b\b\b\b\b\b\b\b\b\b\b\b\b\b\b\b\b\b\b\b\b\b\b\b\b\b\b\b\b\b\b\b\b\b\b\b                                                                       \b\b\b\b\b\b\b\b\b\b\b\b\b\b\b\b\b\b\b\b\b\b\b\b\b\b\b\b\b\b\b\b\b\b\b\b\b\b\b\b\b\b\b\b\b\b\b\b\b\b\b\b\b\b\b\b\b\b\b\b\b\b\b\b\b\b\b\b\b\b\b 68% 31715 - Dataset/Smarthome/Record/record_smarthome_7000026_2630.wav\b\b\b\b\b\b\b\b\b\b\b\b\b\b\b\b\b\b\b\b\b\b\b\b\b\b\b\b\b\b\b\b\b\b\b\b\b\b\b\b\b\b\b\b\b\b\b\b\b\b\b\b\b\b\b\b\b\b\b\b\b\b\b\b\b\b\b\b\b\b\b                                                                       \b\b\b\b\b\b\b\b\b\b\b\b\b\b\b\b\b\b\b\b\b\b\b\b\b\b\b\b\b\b\b\b\b\b\b\b\b\b\b\b\b\b\b\b\b\b\b\b\b\b\b\b\b\b\b\b\b\b\b\b\b\b\b\b\b\b\b\b\b\b\b 68% 31737 - Dataset/Smarthome/Record/record_smarthome_7000026_417.wav\b\b\b\b\b\b\b\b\b\b\b\b\b\b\b\b\b\b\b\b\b\b\b\b\b\b\b\b\b\b\b\b\b\b\b\b\b\b\b\b\b\b\b\b\b\b\b\b\b\b\b\b\b\b\b\b\b\b\b\b\b\b\b\b\b\b\b\b\b\b                                                                      \b\b\b\b\b\b\b\b\b\b\b\b\b\b\b\b\b\b\b\b\b\b\b\b\b\b\b\b\b\b\b\b\b\b\b\b\b\b\b\b\b\b\b\b\b\b\b\b\b\b\b\b\b\b\b\b\b\b\b\b\b\b\b\b\b\b\b\b\b\b 68% 31760 - Dataset/Smarthome/Record/record_smarthome_7000026_604.wav\b\b\b\b\b\b\b\b\b\b\b\b\b\b\b\b\b\b\b\b\b\b\b\b\b\b\b\b\b\b\b\b\b\b\b\b\b\b\b\b\b\b\b\b\b\b\b\b\b\b\b\b\b\b\b\b\b\b\b\b\b\b\b\b\b\b\b\b\b\b                                                                      \b\b\b\b\b\b\b\b\b\b\b\b\b\b\b\b\b\b\b\b\b\b\b\b\b\b\b\b\b\b\b\b\b\b\b\b\b\b\b\b\b\b\b\b\b\b\b\b\b\b\b\b\b\b\b\b\b\b\b\b\b\b\b\b\b\b\b\b\b\b 68% 31783 - Dataset/Smarthome/Record/record_smarthome_7000026_764.wav\b\b\b\b\b\b\b\b\b\b\b\b\b\b\b\b\b\b\b\b\b\b\b\b\b\b\b\b\b\b\b\b\b\b\b\b\b\b\b\b\b\b\b\b\b\b\b\b\b\b\b\b\b\b\b\b\b\b\b\b\b\b\b\b\b\b\b\b\b\b                                                                      \b\b\b\b\b\b\b\b\b\b\b\b\b\b\b\b\b\b\b\b\b\b\b\b\b\b\b\b\b\b\b\b\b\b\b\b\b\b\b\b\b\b\b\b\b\b\b\b\b\b\b\b\b\b\b\b\b\b\b\b\b\b\b\b\b\b\b\b\b\b 69% 31802 - Dataset/Smarthome/Record/record_smarthome_7000026_905.wav\b\b\b\b\b\b\b\b\b\b\b\b\b\b\b\b\b\b\b\b\b\b\b\b\b\b\b\b\b\b\b\b\b\b\b\b\b\b\b\b\b\b\b\b\b\b\b\b\b\b\b\b\b\b\b\b\b\b\b\b\b\b\b\b\b\b\b\b\b\b                                                                      \b\b\b\b\b\b\b\b\b\b\b\b\b\b\b\b\b\b\b\b\b\b\b\b\b\b\b\b\b\b\b\b\b\b\b\b\b\b\b\b\b\b\b\b\b\b\b\b\b\b\b\b\b\b\b\b\b\b\b\b\b\b\b\b\b\b\b\b\b\b 69% 31822 - Dataset/Smarthome/Record/record_smarthome_7000027_1076.wav\b\b\b\b\b\b\b\b\b\b\b\b\b\b\b\b\b\b\b\b\b\b\b\b\b\b\b\b\b\b\b\b\b\b\b\b\b\b\b\b\b\b\b\b\b\b\b\b\b\b\b\b\b\b\b\b\b\b\b\b\b\b\b\b\b\b\b\b\b\b\b                                                                       \b\b\b\b\b\b\b\b\b\b\b\b\b\b\b\b\b\b\b\b\b\b\b\b\b\b\b\b\b\b\b\b\b\b\b\b\b\b\b\b\b\b\b\b\b\b\b\b\b\b\b\b\b\b\b\b\b\b\b\b\b\b\b\b\b\b\b\b\b\b\b 69% 31842 - Dataset/Smarthome/Record/record_smarthome_7000027_1216.wav\b\b\b\b\b\b\b\b\b\b\b\b\b\b\b\b\b\b\b\b\b\b\b\b\b\b\b\b\b\b\b\b\b\b\b\b\b\b\b\b\b\b\b\b\b\b\b\b\b\b\b\b\b\b\b\b\b\b\b\b\b\b\b\b\b\b\b\b\b\b\b                                                                       \b\b\b\b\b\b\b\b\b\b\b\b\b\b\b\b\b\b\b\b\b\b\b\b\b\b\b\b\b\b\b\b\b\b\b\b\b\b\b\b\b\b\b\b\b\b\b\b\b\b\b\b\b\b\b\b\b\b\b\b\b\b\b\b\b\b\b\b\b\b\b 69% 31862 - Dataset/Smarthome/Record/record_smarthome_7000027_1344.wav\b\b\b\b\b\b\b\b\b\b\b\b\b\b\b\b\b\b\b\b\b\b\b\b\b\b\b\b\b\b\b\b\b\b\b\b\b\b\b\b\b\b\b\b\b\b\b\b\b\b\b\b\b\b\b\b\b\b\b\b\b\b\b\b\b\b\b\b\b\b\b                                                                       \b\b\b\b\b\b\b\b\b\b\b\b\b\b\b\b\b\b\b\b\b\b\b\b\b\b\b\b\b\b\b\b\b\b\b\b\b\b\b\b\b\b\b\b\b\b\b\b\b\b\b\b\b\b\b\b\b\b\b\b\b\b\b\b\b\b\b\b\b\b\b 69% 31883 - Dataset/Smarthome/Record/record_smarthome_7000027_1546.wav\b\b\b\b\b\b\b\b\b\b\b\b\b\b\b\b\b\b\b\b\b\b\b\b\b\b\b\b\b\b\b\b\b\b\b\b\b\b\b\b\b\b\b\b\b\b\b\b\b\b\b\b\b\b\b\b\b\b\b\b\b\b\b\b\b\b\b\b\b\b\b                                                                       \b\b\b\b\b\b\b\b\b\b\b\b\b\b\b\b\b\b\b\b\b\b\b\b\b\b\b\b\b\b\b\b\b\b\b\b\b\b\b\b\b\b\b\b\b\b\b\b\b\b\b\b\b\b\b\b\b\b\b\b\b\b\b\b\b\b\b\b\b\b\b 69% 31903 - Dataset/Smarthome/Record/record_smarthome_7000027_1694.wav\b\b\b\b\b\b\b\b\b\b\b\b\b\b\b\b\b\b\b\b\b\b\b\b\b\b\b\b\b\b\b\b\b\b\b\b\b\b\b\b\b\b\b\b\b\b\b\b\b\b\b\b\b\b\b\b\b\b\b\b\b\b\b\b\b\b\b\b\b\b\b                                                                       \b\b\b\b\b\b\b\b\b\b\b\b\b\b\b\b\b\b\b\b\b\b\b\b\b\b\b\b\b\b\b\b\b\b\b\b\b\b\b\b\b\b\b\b\b\b\b\b\b\b\b\b\b\b\b\b\b\b\b\b\b\b\b\b\b\b\b\b\b\b\b 69% 31923 - Dataset/Smarthome/Record/record_smarthome_7000027_1854.wav\b\b\b\b\b\b\b\b\b\b\b\b\b\b\b\b\b\b\b\b\b\b\b\b\b\b\b\b\b\b\b\b\b\b\b\b\b\b\b\b\b\b\b\b\b\b\b\b\b\b\b\b\b\b\b\b\b\b\b\b\b\b\b\b\b\b\b\b\b\b\b                                                                       \b\b\b\b\b\b\b\b\b\b\b\b\b\b\b\b\b\b\b\b\b\b\b\b\b\b\b\b\b\b\b\b\b\b\b\b\b\b\b\b\b\b\b\b\b\b\b\b\b\b\b\b\b\b\b\b\b\b\b\b\b\b\b\b\b\b\b\b\b\b\b 69% 31943 - Dataset/Smarthome/Record/record_smarthome_7000027_2006.wav\b\b\b\b\b\b\b\b\b\b\b\b\b\b\b\b\b\b\b\b\b\b\b\b\b\b\b\b\b\b\b\b\b\b\b\b\b\b\b\b\b\b\b\b\b\b\b\b\b\b\b\b\b\b\b\b\b\b\b\b\b\b\b\b\b\b\b\b\b\b\b                                                                       \b\b\b\b\b\b\b\b\b\b\b\b\b\b\b\b\b\b\b\b\b\b\b\b\b\b\b\b\b\b\b\b\b\b\b\b\b\b\b\b\b\b\b\b\b\b\b\b\b\b\b\b\b\b\b\b\b\b\b\b\b\b\b\b\b\b\b\b\b\b\b 70% 31963 - Dataset/Smarthome/Record/record_smarthome_7000027_2089.wav\b\b\b\b\b\b\b\b\b\b\b\b\b\b\b\b\b\b\b\b\b\b\b\b\b\b\b\b\b\b\b\b\b\b\b\b\b\b\b\b\b\b\b\b\b\b\b\b\b\b\b\b\b\b\b\b\b\b\b\b\b\b\b\b\b\b\b\b\b\b\b                                                                       \b\b\b\b\b\b\b\b\b\b\b\b\b\b\b\b\b\b\b\b\b\b\b\b\b\b\b\b\b\b\b\b\b\b\b\b\b\b\b\b\b\b\b\b\b\b\b\b\b\b\b\b\b\b\b\b\b\b\b\b\b\b\b\b\b\b\b\b\b\b\b 70% 31983 - Dataset/Smarthome/Record/record_smarthome_7000027_2305.wav\b\b\b\b\b\b\b\b\b\b\b\b\b\b\b\b\b\b\b\b\b\b\b\b\b\b\b\b\b\b\b\b\b\b\b\b\b\b\b\b\b\b\b\b\b\b\b\b\b\b\b\b\b\b\b\b\b\b\b\b\b\b\b\b\b\b\b\b\b\b\b                                                                       \b\b\b\b\b\b\b\b\b\b\b\b\b\b\b\b\b\b\b\b\b\b\b\b\b\b\b\b\b\b\b\b\b\b\b\b\b\b\b\b\b\b\b\b\b\b\b\b\b\b\b\b\b\b\b\b\b\b\b\b\b\b\b\b\b\b\b\b\b\b\b 70% 32003 - Dataset/Smarthome/Record/record_smarthome_7000027_2499.wav\b\b\b\b\b\b\b\b\b\b\b\b\b\b\b\b\b\b\b\b\b\b\b\b\b\b\b\b\b\b\b\b\b\b\b\b\b\b\b\b\b\b\b\b\b\b\b\b\b\b\b\b\b\b\b\b\b\b\b\b\b\b\b\b\b\b\b\b\b\b\b                                                                       \b\b\b\b\b\b\b\b\b\b\b\b\b\b\b\b\b\b\b\b\b\b\b\b\b\b\b\b\b\b\b\b\b\b\b\b\b\b\b\b\b\b\b\b\b\b\b\b\b\b\b\b\b\b\b\b\b\b\b\b\b\b\b\b\b\b\b\b\b\b\b 70% 32023 - Dataset/Smarthome/Record/record_smarthome_7000027_272.wav\b\b\b\b\b\b\b\b\b\b\b\b\b\b\b\b\b\b\b\b\b\b\b\b\b\b\b\b\b\b\b\b\b\b\b\b\b\b\b\b\b\b\b\b\b\b\b\b\b\b\b\b\b\b\b\b\b\b\b\b\b\b\b\b\b\b\b\b\b\b                                                                      \b\b\b\b\b\b\b\b\b\b\b\b\b\b\b\b\b\b\b\b\b\b\b\b\b\b\b\b\b\b\b\b\b\b\b\b\b\b\b\b\b\b\b\b\b\b\b\b\b\b\b\b\b\b\b\b\b\b\b\b\b\b\b\b\b\b\b\b\b\b 70% 32042 - Dataset/Smarthome/Record/record_smarthome_7000027_419.wav\b\b\b\b\b\b\b\b\b\b\b\b\b\b\b\b\b\b\b\b\b\b\b\b\b\b\b\b\b\b\b\b\b\b\b\b\b\b\b\b\b\b\b\b\b\b\b\b\b\b\b\b\b\b\b\b\b\b\b\b\b\b\b\b\b\b\b\b\b\b                                                                      \b\b\b\b\b\b\b\b\b\b\b\b\b\b\b\b\b\b\b\b\b\b\b\b\b\b\b\b\b\b\b\b\b\b\b\b\b\b\b\b\b\b\b\b\b\b\b\b\b\b\b\b\b\b\b\b\b\b\b\b\b\b\b\b\b\b\b\b\b\b 70% 32063 - Dataset/Smarthome/Record/record_smarthome_7000027_605.wav\b\b\b\b\b\b\b\b\b\b\b\b\b\b\b\b\b\b\b\b\b\b\b\b\b\b\b\b\b\b\b\b\b\b\b\b\b\b\b\b\b\b\b\b\b\b\b\b\b\b\b\b\b\b\b\b\b\b\b\b\b\b\b\b\b\b\b\b\b\b                                                                      \b\b\b\b\b\b\b\b\b\b\b\b\b\b\b\b\b\b\b\b\b\b\b\b\b\b\b\b\b\b\b\b\b\b\b\b\b\b\b\b\b\b\b\b\b\b\b\b\b\b\b\b\b\b\b\b\b\b\b\b\b\b\b\b\b\b\b\b\b\b 70% 32082 - Dataset/Smarthome/Record/record_smarthome_7000027_808.wav\b\b\b\b\b\b\b\b\b\b\b\b\b\b\b\b\b\b\b\b\b\b\b\b\b\b\b\b\b\b\b\b\b\b\b\b\b\b\b\b\b\b\b\b\b\b\b\b\b\b\b\b\b\b\b\b\b\b\b\b\b\b\b\b\b\b\b\b\b\b                                                                      \b\b\b\b\b\b\b\b\b\b\b\b\b\b\b\b\b\b\b\b\b\b\b\b\b\b\b\b\b\b\b\b\b\b\b\b\b\b\b\b\b\b\b\b\b\b\b\b\b\b\b\b\b\b\b\b\b\b\b\b\b\b\b\b\b\b\b\b\b\b 71% 32101 - Dataset/Smarthome/Record/record_smarthome_7000027_930.wav\b\b\b\b\b\b\b\b\b\b\b\b\b\b\b\b\b\b\b\b\b\b\b\b\b\b\b\b\b\b\b\b\b\b\b\b\b\b\b\b\b\b\b\b\b\b\b\b\b\b\b\b\b\b\b\b\b\b\b\b\b\b\b\b\b\b\b\b\b\b                                                                      \b\b\b\b\b\b\b\b\b\b\b\b\b\b\b\b\b\b\b\b\b\b\b\b\b\b\b\b\b\b\b\b\b\b\b\b\b\b\b\b\b\b\b\b\b\b\b\b\b\b\b\b\b\b\b\b\b\b\b\b\b\b\b\b\b\b\b\b\b\b 71% 32124 - Dataset/Smarthome/Record/record_smarthome_7000028_113.wav\b\b\b\b\b\b\b\b\b\b\b\b\b\b\b\b\b\b\b\b\b\b\b\b\b\b\b\b\b\b\b\b\b\b\b\b\b\b\b\b\b\b\b\b\b\b\b\b\b\b\b\b\b\b\b\b\b\b\b\b\b\b\b\b\b\b\b\b\b\b                                                                      \b\b\b\b\b\b\b\b\b\b\b\b\b\b\b\b\b\b\b\b\b\b\b\b\b\b\b\b\b\b\b\b\b\b\b\b\b\b\b\b\b\b\b\b\b\b\b\b\b\b\b\b\b\b\b\b\b\b\b\b\b\b\b\b\b\b\b\b\b\b 71% 32150 - Dataset/Smarthome/Record/record_smarthome_7000028_1354.wav\b\b\b\b\b\b\b\b\b\b\b\b\b\b\b\b\b\b\b\b\b\b\b\b\b\b\b\b\b\b\b\b\b\b\b\b\b\b\b\b\b\b\b\b\b\b\b\b\b\b\b\b\b\b\b\b\b\b\b\b\b\b\b\b\b\b\b\b\b\b\b                                                                       \b\b\b\b\b\b\b\b\b\b\b\b\b\b\b\b\b\b\b\b\b\b\b\b\b\b\b\b\b\b\b\b\b\b\b\b\b\b\b\b\b\b\b\b\b\b\b\b\b\b\b\b\b\b\b\b\b\b\b\b\b\b\b\b\b\b\b\b\b\b\b 71% 32178 - Dataset/Smarthome/Record/record_smarthome_7000028_1574.wav\b\b\b\b\b\b\b\b\b\b\b\b\b\b\b\b\b\b\b\b\b\b\b\b\b\b\b\b\b\b\b\b\b\b\b\b\b\b\b\b\b\b\b\b\b\b\b\b\b\b\b\b\b\b\b\b\b\b\b\b\b\b\b\b\b\b\b\b\b\b\b                                                                       \b\b\b\b\b\b\b\b\b\b\b\b\b\b\b\b\b\b\b\b\b\b\b\b\b\b\b\b\b\b\b\b\b\b\b\b\b\b\b\b\b\b\b\b\b\b\b\b\b\b\b\b\b\b\b\b\b\b\b\b\b\b\b\b\b\b\b\b\b\b\b 71% 32204 - Dataset/Smarthome/Record/record_smarthome_7000028_1799.wav\b\b\b\b\b\b\b\b\b\b\b\b\b\b\b\b\b\b\b\b\b\b\b\b\b\b\b\b\b\b\b\b\b\b\b\b\b\b\b\b\b\b\b\b\b\b\b\b\b\b\b\b\b\b\b\b\b\b\b\b\b\b\b\b\b\b\b\b\b\b\b                                                                       \b\b\b\b\b\b\b\b\b\b\b\b\b\b\b\b\b\b\b\b\b\b\b\b\b\b\b\b\b\b\b\b\b\b\b\b\b\b\b\b\b\b\b\b\b\b\b\b\b\b\b\b\b\b\b\b\b\b\b\b\b\b\b\b\b\b\b\b\b\b\b 71% 32231 - Dataset/Smarthome/Record/record_smarthome_7000028_1933.wav\b\b\b\b\b\b\b\b\b\b\b\b\b\b\b\b\b\b\b\b\b\b\b\b\b\b\b\b\b\b\b\b\b\b\b\b\b\b\b\b\b\b\b\b\b\b\b\b\b\b\b\b\b\b\b\b\b\b\b\b\b\b\b\b\b\b\b\b\b\b\b                                                                       \b\b\b\b\b\b\b\b\b\b\b\b\b\b\b\b\b\b\b\b\b\b\b\b\b\b\b\b\b\b\b\b\b\b\b\b\b\b\b\b\b\b\b\b\b\b\b\b\b\b\b\b\b\b\b\b\b\b\b\b\b\b\b\b\b\b\b\b\b\b\b 71% 32259 - Dataset/Smarthome/Record/record_smarthome_7000028_2135.wav\b\b\b\b\b\b\b\b\b\b\b\b\b\b\b\b\b\b\b\b\b\b\b\b\b\b\b\b\b\b\b\b\b\b\b\b\b\b\b\b\b\b\b\b\b\b\b\b\b\b\b\b\b\b\b\b\b\b\b\b\b\b\b\b\b\b\b\b\b\b\b                                                                       \b\b\b\b\b\b\b\b\b\b\b\b\b\b\b\b\b\b\b\b\b\b\b\b\b\b\b\b\b\b\b\b\b\b\b\b\b\b\b\b\b\b\b\b\b\b\b\b\b\b\b\b\b\b\b\b\b\b\b\b\b\b\b\b\b\b\b\b\b\b\b 71% 32285 - Dataset/Smarthome/Record/record_smarthome_7000028_2321.wav\b\b\b\b\b\b\b\b\b\b\b\b\b\b\b\b\b\b\b\b\b\b\b\b\b\b\b\b\b\b\b\b\b\b\b\b\b\b\b\b\b\b\b\b\b\b\b\b\b\b\b\b\b\b\b\b\b\b\b\b\b\b\b\b\b\b\b\b\b\b\b                                                                       \b\b\b\b\b\b\b\b\b\b\b\b\b\b\b\b\b\b\b\b\b\b\b\b\b\b\b\b\b\b\b\b\b\b\b\b\b\b\b\b\b\b\b\b\b\b\b\b\b\b\b\b\b\b\b\b\b\b\b\b\b\b\b\b\b\b\b\b\b\b\b 71% 32313 - Dataset/Smarthome/Record/record_smarthome_7000028_2538.wav\b\b\b\b\b\b\b\b\b\b\b\b\b\b\b\b\b\b\b\b\b\b\b\b\b\b\b\b\b\b\b\b\b\b\b\b\b\b\b\b\b\b\b\b\b\b\b\b\b\b\b\b\b\b\b\b\b\b\b\b\b\b\b\b\b\b\b\b\b\b\b                                                                       \b\b\b\b\b\b\b\b\b\b\b\b\b\b\b\b\b\b\b\b\b\b\b\b\b\b\b\b\b\b\b\b\b\b\b\b\b\b\b\b\b\b\b\b\b\b\b\b\b\b\b\b\b\b\b\b\b\b\b\b\b\b\b\b\b\b\b\b\b\b\b 71% 32340 - Dataset/Smarthome/Record/record_smarthome_7000028_339.wav\b\b\b\b\b\b\b\b\b\b\b\b\b\b\b\b\b\b\b\b\b\b\b\b\b\b\b\b\b\b\b\b\b\b\b\b\b\b\b\b\b\b\b\b\b\b\b\b\b\b\b\b\b\b\b\b\b\b\b\b\b\b\b\b\b\b\b\b\b\b                                                                      \b\b\b\b\b\b\b\b\b\b\b\b\b\b\b\b\b\b\b\b\b\b\b\b\b\b\b\b\b\b\b\b\b\b\b\b\b\b\b\b\b\b\b\b\b\b\b\b\b\b\b\b\b\b\b\b\b\b\b\b\b\b\b\b\b\b\b\b\b\b 72% 32366 - Dataset/Smarthome/Record/record_smarthome_7000028_584.wav\b\b\b\b\b\b\b\b\b\b\b\b\b\b\b\b\b\b\b\b\b\b\b\b\b\b\b\b\b\b\b\b\b\b\b\b\b\b\b\b\b\b\b\b\b\b\b\b\b\b\b\b\b\b\b\b\b\b\b\b\b\b\b\b\b\b\b\b\b\b                                                                      \b\b\b\b\b\b\b\b\b\b\b\b\b\b\b\b\b\b\b\b\b\b\b\b\b\b\b\b\b\b\b\b\b\b\b\b\b\b\b\b\b\b\b\b\b\b\b\b\b\b\b\b\b\b\b\b\b\b\b\b\b\b\b\b\b\b\b\b\b\b 72% 32394 - Dataset/Smarthome/Record/record_smarthome_7000028_796.wav\b\b\b\b\b\b\b\b\b\b\b\b\b\b\b\b\b\b\b\b\b\b\b\b\b\b\b\b\b\b\b\b\b\b\b\b\b\b\b\b\b\b\b\b\b\b\b\b\b\b\b\b\b\b\b\b\b\b\b\b\b\b\b\b\b\b\b\b\b\b                                                                      \b\b\b\b\b\b\b\b\b\b\b\b\b\b\b\b\b\b\b\b\b\b\b\b\b\b\b\b\b\b\b\b\b\b\b\b\b\b\b\b\b\b\b\b\b\b\b\b\b\b\b\b\b\b\b\b\b\b\b\b\b\b\b\b\b\b\b\b\b\b 72% 32417 - Dataset/Smarthome/Record/record_smarthome_7000029_1065.wav\b\b\b\b\b\b\b\b\b\b\b\b\b\b\b\b\b\b\b\b\b\b\b\b\b\b\b\b\b\b\b\b\b\b\b\b\b\b\b\b\b\b\b\b\b\b\b\b\b\b\b\b\b\b\b\b\b\b\b\b\b\b\b\b\b\b\b\b\b\b\b                                                                       \b\b\b\b\b\b\b\b\b\b\b\b\b\b\b\b\b\b\b\b\b\b\b\b\b\b\b\b\b\b\b\b\b\b\b\b\b\b\b\b\b\b\b\b\b\b\b\b\b\b\b\b\b\b\b\b\b\b\b\b\b\b\b\b\b\b\b\b\b\b\b 72% 32435 - Dataset/Smarthome/Record/record_smarthome_7000029_1243.wav\b\b\b\b\b\b\b\b\b\b\b\b\b\b\b\b\b\b\b\b\b\b\b\b\b\b\b\b\b\b\b\b\b\b\b\b\b\b\b\b\b\b\b\b\b\b\b\b\b\b\b\b\b\b\b\b\b\b\b\b\b\b\b\b\b\b\b\b\b\b\b                                                                       \b\b\b\b\b\b\b\b\b\b\b\b\b\b\b\b\b\b\b\b\b\b\b\b\b\b\b\b\b\b\b\b\b\b\b\b\b\b\b\b\b\b\b\b\b\b\b\b\b\b\b\b\b\b\b\b\b\b\b\b\b\b\b\b\b\b\b\b\b\b\b 72% 32453 - Dataset/Smarthome/Record/record_smarthome_7000029_1419.wav\b\b\b\b\b\b\b\b\b\b\b\b\b\b\b\b\b\b\b\b\b\b\b\b\b\b\b\b\b\b\b\b\b\b\b\b\b\b\b\b\b\b\b\b\b\b\b\b\b\b\b\b\b\b\b\b\b\b\b\b\b\b\b\b\b\b\b\b\b\b\b                                                                       \b\b\b\b\b\b\b\b\b\b\b\b\b\b\b\b\b\b\b\b\b\b\b\b\b\b\b\b\b\b\b\b\b\b\b\b\b\b\b\b\b\b\b\b\b\b\b\b\b\b\b\b\b\b\b\b\b\b\b\b\b\b\b\b\b\b\b\b\b\b\b 72% 32472 - Dataset/Smarthome/Record/record_smarthome_7000029_1526.wav\b\b\b\b\b\b\b\b\b\b\b\b\b\b\b\b\b\b\b\b\b\b\b\b\b\b\b\b\b\b\b\b\b\b\b\b\b\b\b\b\b\b\b\b\b\b\b\b\b\b\b\b\b\b\b\b\b\b\b\b\b\b\b\b\b\b\b\b\b\b\b                                                                       \b\b\b\b\b\b\b\b\b\b\b\b\b\b\b\b\b\b\b\b\b\b\b\b\b\b\b\b\b\b\b\b\b\b\b\b\b\b\b\b\b\b\b\b\b\b\b\b\b\b\b\b\b\b\b\b\b\b\b\b\b\b\b\b\b\b\b\b\b\b\b 72% 32490 - Dataset/Smarthome/Record/record_smarthome_7000029_1701.wav\b\b\b\b\b\b\b\b\b\b\b\b\b\b\b\b\b\b\b\b\b\b\b\b\b\b\b\b\b\b\b\b\b\b\b\b\b\b\b\b\b\b\b\b\b\b\b\b\b\b\b\b\b\b\b\b\b\b\b\b\b\b\b\b\b\b\b\b\b\b\b                                                                       \b\b\b\b\b\b\b\b\b\b\b\b\b\b\b\b\b\b\b\b\b\b\b\b\b\b\b\b\b\b\b\b\b\b\b\b\b\b\b\b\b\b\b\b\b\b\b\b\b\b\b\b\b\b\b\b\b\b\b\b\b\b\b\b\b\b\b\b\b\b\b 72% 32509 - Dataset/Smarthome/Record/record_smarthome_7000029_1873.wav\b\b\b\b\b\b\b\b\b\b\b\b\b\b\b\b\b\b\b\b\b\b\b\b\b\b\b\b\b\b\b\b\b\b\b\b\b\b\b\b\b\b\b\b\b\b\b\b\b\b\b\b\b\b\b\b\b\b\b\b\b\b\b\b\b\b\b\b\b\b\b                                                                       \b\b\b\b\b\b\b\b\b\b\b\b\b\b\b\b\b\b\b\b\b\b\b\b\b\b\b\b\b\b\b\b\b\b\b\b\b\b\b\b\b\b\b\b\b\b\b\b\b\b\b\b\b\b\b\b\b\b\b\b\b\b\b\b\b\b\b\b\b\b\b 72% 32527 - Dataset/Smarthome/Record/record_smarthome_7000029_1988.wav\b\b\b\b\b\b\b\b\b\b\b\b\b\b\b\b\b\b\b\b\b\b\b\b\b\b\b\b\b\b\b\b\b\b\b\b\b\b\b\b\b\b\b\b\b\b\b\b\b\b\b\b\b\b\b\b\b\b\b\b\b\b\b\b\b\b\b\b\b\b\b                                                                       \b\b\b\b\b\b\b\b\b\b\b\b\b\b\b\b\b\b\b\b\b\b\b\b\b\b\b\b\b\b\b\b\b\b\b\b\b\b\b\b\b\b\b\b\b\b\b\b\b\b\b\b\b\b\b\b\b\b\b\b\b\b\b\b\b\b\b\b\b\b\b 73% 32545 - Dataset/Smarthome/Record/record_smarthome_7000029_2094.wav\b\b\b\b\b\b\b\b\b\b\b\b\b\b\b\b\b\b\b\b\b\b\b\b\b\b\b\b\b\b\b\b\b\b\b\b\b\b\b\b\b\b\b\b\b\b\b\b\b\b\b\b\b\b\b\b\b\b\b\b\b\b\b\b\b\b\b\b\b\b\b                                                                       \b\b\b\b\b\b\b\b\b\b\b\b\b\b\b\b\b\b\b\b\b\b\b\b\b\b\b\b\b\b\b\b\b\b\b\b\b\b\b\b\b\b\b\b\b\b\b\b\b\b\b\b\b\b\b\b\b\b\b\b\b\b\b\b\b\b\b\b\b\b\b 73% 32563 - Dataset/Smarthome/Record/record_smarthome_7000029_2208.wav\b\b\b\b\b\b\b\b\b\b\b\b\b\b\b\b\b\b\b\b\b\b\b\b\b\b\b\b\b\b\b\b\b\b\b\b\b\b\b\b\b\b\b\b\b\b\b\b\b\b\b\b\b\b\b\b\b\b\b\b\b\b\b\b\b\b\b\b\b\b\b                                                                       \b\b\b\b\b\b\b\b\b\b\b\b\b\b\b\b\b\b\b\b\b\b\b\b\b\b\b\b\b\b\b\b\b\b\b\b\b\b\b\b\b\b\b\b\b\b\b\b\b\b\b\b\b\b\b\b\b\b\b\b\b\b\b\b\b\b\b\b\b\b\b 73% 32581 - Dataset/Smarthome/Record/record_smarthome_7000029_237.wav\b\b\b\b\b\b\b\b\b\b\b\b\b\b\b\b\b\b\b\b\b\b\b\b\b\b\b\b\b\b\b\b\b\b\b\b\b\b\b\b\b\b\b\b\b\b\b\b\b\b\b\b\b\b\b\b\b\b\b\b\b\b\b\b\b\b\b\b\b\b                                                                      \b\b\b\b\b\b\b\b\b\b\b\b\b\b\b\b\b\b\b\b\b\b\b\b\b\b\b\b\b\b\b\b\b\b\b\b\b\b\b\b\b\b\b\b\b\b\b\b\b\b\b\b\b\b\b\b\b\b\b\b\b\b\b\b\b\b\b\b\b\b 73% 32599 - Dataset/Smarthome/Record/record_smarthome_7000029_2517.wav\b\b\b\b\b\b\b\b\b\b\b\b\b\b\b\b\b\b\b\b\b\b\b\b\b\b\b\b\b\b\b\b\b\b\b\b\b\b\b\b\b\b\b\b\b\b\b\b\b\b\b\b\b\b\b\b\b\b\b\b\b\b\b\b\b\b\b\b\b\b\b                                                                       \b\b\b\b\b\b\b\b\b\b\b\b\b\b\b\b\b\b\b\b\b\b\b\b\b\b\b\b\b\b\b\b\b\b\b\b\b\b\b\b\b\b\b\b\b\b\b\b\b\b\b\b\b\b\b\b\b\b\b\b\b\b\b\b\b\b\b\b\b\b\b 73% 32617 - Dataset/Smarthome/Record/record_smarthome_7000029_286.wav\b\b\b\b\b\b\b\b\b\b\b\b\b\b\b\b\b\b\b\b\b\b\b\b\b\b\b\b\b\b\b\b\b\b\b\b\b\b\b\b\b\b\b\b\b\b\b\b\b\b\b\b\b\b\b\b\b\b\b\b\b\b\b\b\b\b\b\b\b\b                                                                      \b\b\b\b\b\b\b\b\b\b\b\b\b\b\b\b\b\b\b\b\b\b\b\b\b\b\b\b\b\b\b\b\b\b\b\b\b\b\b\b\b\b\b\b\b\b\b\b\b\b\b\b\b\b\b\b\b\b\b\b\b\b\b\b\b\b\b\b\b\b 73% 32635 - Dataset/Smarthome/Record/record_smarthome_7000029_496.wav\b\b\b\b\b\b\b\b\b\b\b\b\b\b\b\b\b\b\b\b\b\b\b\b\b\b\b\b\b\b\b\b\b\b\b\b\b\b\b\b\b\b\b\b\b\b\b\b\b\b\b\b\b\b\b\b\b\b\b\b\b\b\b\b\b\b\b\b\b\b                                                                      \b\b\b\b\b\b\b\b\b\b\b\b\b\b\b\b\b\b\b\b\b\b\b\b\b\b\b\b\b\b\b\b\b\b\b\b\b\b\b\b\b\b\b\b\b\b\b\b\b\b\b\b\b\b\b\b\b\b\b\b\b\b\b\b\b\b\b\b\b\b 73% 32653 - Dataset/Smarthome/Record/record_smarthome_7000029_597.wav\b\b\b\b\b\b\b\b\b\b\b\b\b\b\b\b\b\b\b\b\b\b\b\b\b\b\b\b\b\b\b\b\b\b\b\b\b\b\b\b\b\b\b\b\b\b\b\b\b\b\b\b\b\b\b\b\b\b\b\b\b\b\b\b\b\b\b\b\b\b                                                                      \b\b\b\b\b\b\b\b\b\b\b\b\b\b\b\b\b\b\b\b\b\b\b\b\b\b\b\b\b\b\b\b\b\b\b\b\b\b\b\b\b\b\b\b\b\b\b\b\b\b\b\b\b\b\b\b\b\b\b\b\b\b\b\b\b\b\b\b\b\b 73% 32670 - Dataset/Smarthome/Record/record_smarthome_7000029_699.wav\b\b\b\b\b\b\b\b\b\b\b\b\b\b\b\b\b\b\b\b\b\b\b\b\b\b\b\b\b\b\b\b\b\b\b\b\b\b\b\b\b\b\b\b\b\b\b\b\b\b\b\b\b\b\b\b\b\b\b\b\b\b\b\b\b\b\b\b\b\b                                                                      \b\b\b\b\b\b\b\b\b\b\b\b\b\b\b\b\b\b\b\b\b\b\b\b\b\b\b\b\b\b\b\b\b\b\b\b\b\b\b\b\b\b\b\b\b\b\b\b\b\b\b\b\b\b\b\b\b\b\b\b\b\b\b\b\b\b\b\b\b\b 73% 32688 - Dataset/Smarthome/Record/record_smarthome_7000029_803.wav\b\b\b\b\b\b\b\b\b\b\b\b\b\b\b\b\b\b\b\b\b\b\b\b\b\b\b\b\b\b\b\b\b\b\b\b\b\b\b\b\b\b\b\b\b\b\b\b\b\b\b\b\b\b\b\b\b\b\b\b\b\b\b\b\b\b\b\b\b\b                                                                      \b\b\b\b\b\b\b\b\b\b\b\b\b\b\b\b\b\b\b\b\b\b\b\b\b\b\b\b\b\b\b\b\b\b\b\b\b\b\b\b\b\b\b\b\b\b\b\b\b\b\b\b\b\b\b\b\b\b\b\b\b\b\b\b\b\b\b\b\b\b 74% 32706 - Dataset/Smarthome/Record/record_smarthome_7000029_941.wav\b\b\b\b\b\b\b\b\b\b\b\b\b\b\b\b\b\b\b\b\b\b\b\b\b\b\b\b\b\b\b\b\b\b\b\b\b\b\b\b\b\b\b\b\b\b\b\b\b\b\b\b\b\b\b\b\b\b\b\b\b\b\b\b\b\b\b\b\b\b                                                                      \b\b\b\b\b\b\b\b\b\b\b\b\b\b\b\b\b\b\b\b\b\b\b\b\b\b\b\b\b\b\b\b\b\b\b\b\b\b\b\b\b\b\b\b\b\b\b\b\b\b\b\b\b\b\b\b\b\b\b\b\b\b\b\b\b\b\b\b\b\b 74% 32724 - Dataset/Smarthome/Record/record_smarthome_7000031_1155.wav\b\b\b\b\b\b\b\b\b\b\b\b\b\b\b\b\b\b\b\b\b\b\b\b\b\b\b\b\b\b\b\b\b\b\b\b\b\b\b\b\b\b\b\b\b\b\b\b\b\b\b\b\b\b\b\b\b\b\b\b\b\b\b\b\b\b\b\b\b\b\b                                                                       \b\b\b\b\b\b\b\b\b\b\b\b\b\b\b\b\b\b\b\b\b\b\b\b\b\b\b\b\b\b\b\b\b\b\b\b\b\b\b\b\b\b\b\b\b\b\b\b\b\b\b\b\b\b\b\b\b\b\b\b\b\b\b\b\b\b\b\b\b\b\b 74% 32744 - Dataset/Smarthome/Record/record_smarthome_7000031_1298.wav\b\b\b\b\b\b\b\b\b\b\b\b\b\b\b\b\b\b\b\b\b\b\b\b\b\b\b\b\b\b\b\b\b\b\b\b\b\b\b\b\b\b\b\b\b\b\b\b\b\b\b\b\b\b\b\b\b\b\b\b\b\b\b\b\b\b\b\b\b\b\b                                                                       \b\b\b\b\b\b\b\b\b\b\b\b\b\b\b\b\b\b\b\b\b\b\b\b\b\b\b\b\b\b\b\b\b\b\b\b\b\b\b\b\b\b\b\b\b\b\b\b\b\b\b\b\b\b\b\b\b\b\b\b\b\b\b\b\b\b\b\b\b\b\b 74% 32763 - Dataset/Smarthome/Record/record_smarthome_7000031_143.wav\b\b\b\b\b\b\b\b\b\b\b\b\b\b\b\b\b\b\b\b\b\b\b\b\b\b\b\b\b\b\b\b\b\b\b\b\b\b\b\b\b\b\b\b\b\b\b\b\b\b\b\b\b\b\b\b\b\b\b\b\b\b\b\b\b\b\b\b\b\b                                                                      \b\b\b\b\b\b\b\b\b\b\b\b\b\b\b\b\b\b\b\b\b\b\b\b\b\b\b\b\b\b\b\b\b\b\b\b\b\b\b\b\b\b\b\b\b\b\b\b\b\b\b\b\b\b\b\b\b\b\b\b\b\b\b\b\b\b\b\b\b\b 74% 32782 - Dataset/Smarthome/Record/record_smarthome_7000031_1563.wav\b\b\b\b\b\b\b\b\b\b\b\b\b\b\b\b\b\b\b\b\b\b\b\b\b\b\b\b\b\b\b\b\b\b\b\b\b\b\b\b\b\b\b\b\b\b\b\b\b\b\b\b\b\b\b\b\b\b\b\b\b\b\b\b\b\b\b\b\b\b\b                                                                       \b\b\b\b\b\b\b\b\b\b\b\b\b\b\b\b\b\b\b\b\b\b\b\b\b\b\b\b\b\b\b\b\b\b\b\b\b\b\b\b\b\b\b\b\b\b\b\b\b\b\b\b\b\b\b\b\b\b\b\b\b\b\b\b\b\b\b\b\b\b\b 74% 32802 - Dataset/Smarthome/Record/record_smarthome_7000031_1717.wav\b\b\b\b\b\b\b\b\b\b\b\b\b\b\b\b\b\b\b\b\b\b\b\b\b\b\b\b\b\b\b\b\b\b\b\b\b\b\b\b\b\b\b\b\b\b\b\b\b\b\b\b\b\b\b\b\b\b\b\b\b\b\b\b\b\b\b\b\b\b\b                                                                       \b\b\b\b\b\b\b\b\b\b\b\b\b\b\b\b\b\b\b\b\b\b\b\b\b\b\b\b\b\b\b\b\b\b\b\b\b\b\b\b\b\b\b\b\b\b\b\b\b\b\b\b\b\b\b\b\b\b\b\b\b\b\b\b\b\b\b\b\b\b\b 74% 32821 - Dataset/Smarthome/Record/record_smarthome_7000031_1885.wav\b\b\b\b\b\b\b\b\b\b\b\b\b\b\b\b\b\b\b\b\b\b\b\b\b\b\b\b\b\b\b\b\b\b\b\b\b\b\b\b\b\b\b\b\b\b\b\b\b\b\b\b\b\b\b\b\b\b\b\b\b\b\b\b\b\b\b\b\b\b\b                                                                       \b\b\b\b\b\b\b\b\b\b\b\b\b\b\b\b\b\b\b\b\b\b\b\b\b\b\b\b\b\b\b\b\b\b\b\b\b\b\b\b\b\b\b\b\b\b\b\b\b\b\b\b\b\b\b\b\b\b\b\b\b\b\b\b\b\b\b\b\b\b\b 74% 32839 - Dataset/Smarthome/Record/record_smarthome_7000031_2126.wav\b\b\b\b\b\b\b\b\b\b\b\b\b\b\b\b\b\b\b\b\b\b\b\b\b\b\b\b\b\b\b\b\b\b\b\b\b\b\b\b\b\b\b\b\b\b\b\b\b\b\b\b\b\b\b\b\b\b\b\b\b\b\b\b\b\b\b\b\b\b\b                                                                       \b\b\b\b\b\b\b\b\b\b\b\b\b\b\b\b\b\b\b\b\b\b\b\b\b\b\b\b\b\b\b\b\b\b\b\b\b\b\b\b\b\b\b\b\b\b\b\b\b\b\b\b\b\b\b\b\b\b\b\b\b\b\b\b\b\b\b\b\b\b\b 74% 32859 - Dataset/Smarthome/Record/record_smarthome_7000031_2271.wav\b\b\b\b\b\b\b\b\b\b\b\b\b\b\b\b\b\b\b\b\b\b\b\b\b\b\b\b\b\b\b\b\b\b\b\b\b\b\b\b\b\b\b\b\b\b\b\b\b\b\b\b\b\b\b\b\b\b\b\b\b\b\b\b\b\b\b\b\b\b\b                                                                       \b\b\b\b\b\b\b\b\b\b\b\b\b\b\b\b\b\b\b\b\b\b\b\b\b\b\b\b\b\b\b\b\b\b\b\b\b\b\b\b\b\b\b\b\b\b\b\b\b\b\b\b\b\b\b\b\b\b\b\b\b\b\b\b\b\b\b\b\b\b\b 75% 32878 - Dataset/Smarthome/Record/record_smarthome_7000031_2382.wav\b\b\b\b\b\b\b\b\b\b\b\b\b\b\b\b\b\b\b\b\b\b\b\b\b\b\b\b\b\b\b\b\b\b\b\b\b\b\b\b\b\b\b\b\b\b\b\b\b\b\b\b\b\b\b\b\b\b\b\b\b\b\b\b\b\b\b\b\b\b\b                                                                       \b\b\b\b\b\b\b\b\b\b\b\b\b\b\b\b\b\b\b\b\b\b\b\b\b\b\b\b\b\b\b\b\b\b\b\b\b\b\b\b\b\b\b\b\b\b\b\b\b\b\b\b\b\b\b\b\b\b\b\b\b\b\b\b\b\b\b\b\b\b\b 75% 32899 - Dataset/Smarthome/Record/record_smarthome_7000031_2539.wav\b\b\b\b\b\b\b\b\b\b\b\b\b\b\b\b\b\b\b\b\b\b\b\b\b\b\b\b\b\b\b\b\b\b\b\b\b\b\b\b\b\b\b\b\b\b\b\b\b\b\b\b\b\b\b\b\b\b\b\b\b\b\b\b\b\b\b\b\b\b\b                                                                       \b\b\b\b\b\b\b\b\b\b\b\b\b\b\b\b\b\b\b\b\b\b\b\b\b\b\b\b\b\b\b\b\b\b\b\b\b\b\b\b\b\b\b\b\b\b\b\b\b\b\b\b\b\b\b\b\b\b\b\b\b\b\b\b\b\b\b\b\b\b\b 75% 32916 - Dataset/Smarthome/Record/record_smarthome_7000031_288.wav\b\b\b\b\b\b\b\b\b\b\b\b\b\b\b\b\b\b\b\b\b\b\b\b\b\b\b\b\b\b\b\b\b\b\b\b\b\b\b\b\b\b\b\b\b\b\b\b\b\b\b\b\b\b\b\b\b\b\b\b\b\b\b\b\b\b\b\b\b\b                                                                      \b\b\b\b\b\b\b\b\b\b\b\b\b\b\b\b\b\b\b\b\b\b\b\b\b\b\b\b\b\b\b\b\b\b\b\b\b\b\b\b\b\b\b\b\b\b\b\b\b\b\b\b\b\b\b\b\b\b\b\b\b\b\b\b\b\b\b\b\b\b 75% 32935 - Dataset/Smarthome/Record/record_smarthome_7000031_440.wav\b\b\b\b\b\b\b\b\b\b\b\b\b\b\b\b\b\b\b\b\b\b\b\b\b\b\b\b\b\b\b\b\b\b\b\b\b\b\b\b\b\b\b\b\b\b\b\b\b\b\b\b\b\b\b\b\b\b\b\b\b\b\b\b\b\b\b\b\b\b                                                                      \b\b\b\b\b\b\b\b\b\b\b\b\b\b\b\b\b\b\b\b\b\b\b\b\b\b\b\b\b\b\b\b\b\b\b\b\b\b\b\b\b\b\b\b\b\b\b\b\b\b\b\b\b\b\b\b\b\b\b\b\b\b\b\b\b\b\b\b\b\b 75% 32955 - Dataset/Smarthome/Record/record_smarthome_7000031_612.wav\b\b\b\b\b\b\b\b\b\b\b\b\b\b\b\b\b\b\b\b\b\b\b\b\b\b\b\b\b\b\b\b\b\b\b\b\b\b\b\b\b\b\b\b\b\b\b\b\b\b\b\b\b\b\b\b\b\b\b\b\b\b\b\b\b\b\b\b\b\b                                                                      \b\b\b\b\b\b\b\b\b\b\b\b\b\b\b\b\b\b\b\b\b\b\b\b\b\b\b\b\b\b\b\b\b\b\b\b\b\b\b\b\b\b\b\b\b\b\b\b\b\b\b\b\b\b\b\b\b\b\b\b\b\b\b\b\b\b\b\b\b\b 75% 32975 - Dataset/Smarthome/Record/record_smarthome_7000031_724.wav\b\b\b\b\b\b\b\b\b\b\b\b\b\b\b\b\b\b\b\b\b\b\b\b\b\b\b\b\b\b\b\b\b\b\b\b\b\b\b\b\b\b\b\b\b\b\b\b\b\b\b\b\b\b\b\b\b\b\b\b\b\b\b\b\b\b\b\b\b\b                                                                      \b\b\b\b\b\b\b\b\b\b\b\b\b\b\b\b\b\b\b\b\b\b\b\b\b\b\b\b\b\b\b\b\b\b\b\b\b\b\b\b\b\b\b\b\b\b\b\b\b\b\b\b\b\b\b\b\b\b\b\b\b\b\b\b\b\b\b\b\b\b 75% 32993 - Dataset/Smarthome/Record/record_smarthome_7000031_896.wav\b\b\b\b\b\b\b\b\b\b\b\b\b\b\b\b\b\b\b\b\b\b\b\b\b\b\b\b\b\b\b\b\b\b\b\b\b\b\b\b\b\b\b\b\b\b\b\b\b\b\b\b\b\b\b\b\b\b\b\b\b\b\b\b\b\b\b\b\b\b                                                                      \b\b\b\b\b\b\b\b\b\b\b\b\b\b\b\b\b\b\b\b\b\b\b\b\b\b\b\b\b\b\b\b\b\b\b\b\b\b\b\b\b\b\b\b\b\b\b\b\b\b\b\b\b\b\b\b\b\b\b\b\b\b\b\b\b\b\b\b\b\b 75% 33010 - Dataset/Smarthome/Record/record_smarthome_7000031_993.wav\b\b\b\b\b\b\b\b\b\b\b\b\b\b\b\b\b\b\b\b\b\b\b\b\b\b\b\b\b\b\b\b\b\b\b\b\b\b\b\b\b\b\b\b\b\b\b\b\b\b\b\b\b\b\b\b\b\b\b\b\b\b\b\b\b\b\b\b\b\b                                                                      \b\b\b\b\b\b\b\b\b\b\b\b\b\b\b\b\b\b\b\b\b\b\b\b\b\b\b\b\b\b\b\b\b\b\b\b\b\b\b\b\b\b\b\b\b\b\b\b\b\b\b\b\b\b\b\b\b\b\b\b\b\b\b\b\b\b\b\b\b\b 75% 33032 - Dataset/Smarthome/Record/record_smarthome_7000032_1158.wav\b\b\b\b\b\b\b\b\b\b\b\b\b\b\b\b\b\b\b\b\b\b\b\b\b\b\b\b\b\b\b\b\b\b\b\b\b\b\b\b\b\b\b\b\b\b\b\b\b\b\b\b\b\b\b\b\b\b\b\b\b\b\b\b\b\b\b\b\b\b\b                                                                       \b\b\b\b\b\b\b\b\b\b\b\b\b\b\b\b\b\b\b\b\b\b\b\b\b\b\b\b\b\b\b\b\b\b\b\b\b\b\b\b\b\b\b\b\b\b\b\b\b\b\b\b\b\b\b\b\b\b\b\b\b\b\b\b\b\b\b\b\b\b\b 75% 33053 - Dataset/Smarthome/Record/record_smarthome_7000032_1340.wav\b\b\b\b\b\b\b\b\b\b\b\b\b\b\b\b\b\b\b\b\b\b\b\b\b\b\b\b\b\b\b\b\b\b\b\b\b\b\b\b\b\b\b\b\b\b\b\b\b\b\b\b\b\b\b\b\b\b\b\b\b\b\b\b\b\b\b\b\b\b\b                                                                       \b\b\b\b\b\b\b\b\b\b\b\b\b\b\b\b\b\b\b\b\b\b\b\b\b\b\b\b\b\b\b\b\b\b\b\b\b\b\b\b\b\b\b\b\b\b\b\b\b\b\b\b\b\b\b\b\b\b\b\b\b\b\b\b\b\b\b\b\b\b\b 76% 33070 - Dataset/Smarthome/Record/record_smarthome_7000032_1453.wav\b\b\b\b\b\b\b\b\b\b\b\b\b\b\b\b\b\b\b\b\b\b\b\b\b\b\b\b\b\b\b\b\b\b\b\b\b\b\b\b\b\b\b\b\b\b\b\b\b\b\b\b\b\b\b\b\b\b\b\b\b\b\b\b\b\b\b\b\b\b\b                                                                       \b\b\b\b\b\b\b\b\b\b\b\b\b\b\b\b\b\b\b\b\b\b\b\b\b\b\b\b\b\b\b\b\b\b\b\b\b\b\b\b\b\b\b\b\b\b\b\b\b\b\b\b\b\b\b\b\b\b\b\b\b\b\b\b\b\b\b\b\b\b\b 76% 33087 - Dataset/Smarthome/Record/record_smarthome_7000032_1578.wav\b\b\b\b\b\b\b\b\b\b\b\b\b\b\b\b\b\b\b\b\b\b\b\b\b\b\b\b\b\b\b\b\b\b\b\b\b\b\b\b\b\b\b\b\b\b\b\b\b\b\b\b\b\b\b\b\b\b\b\b\b\b\b\b\b\b\b\b\b\b\b                                                                       \b\b\b\b\b\b\b\b\b\b\b\b\b\b\b\b\b\b\b\b\b\b\b\b\b\b\b\b\b\b\b\b\b\b\b\b\b\b\b\b\b\b\b\b\b\b\b\b\b\b\b\b\b\b\b\b\b\b\b\b\b\b\b\b\b\b\b\b\b\b\b 76% 33102 - Dataset/Smarthome/Record/record_smarthome_7000032_1742.wav\b\b\b\b\b\b\b\b\b\b\b\b\b\b\b\b\b\b\b\b\b\b\b\b\b\b\b\b\b\b\b\b\b\b\b\b\b\b\b\b\b\b\b\b\b\b\b\b\b\b\b\b\b\b\b\b\b\b\b\b\b\b\b\b\b\b\b\b\b\b\b                                                                       \b\b\b\b\b\b\b\b\b\b\b\b\b\b\b\b\b\b\b\b\b\b\b\b\b\b\b\b\b\b\b\b\b\b\b\b\b\b\b\b\b\b\b\b\b\b\b\b\b\b\b\b\b\b\b\b\b\b\b\b\b\b\b\b\b\b\b\b\b\b\b 76% 33119 - Dataset/Smarthome/Record/record_smarthome_7000032_1841.wav\b\b\b\b\b\b\b\b\b\b\b\b\b\b\b\b\b\b\b\b\b\b\b\b\b\b\b\b\b\b\b\b\b\b\b\b\b\b\b\b\b\b\b\b\b\b\b\b\b\b\b\b\b\b\b\b\b\b\b\b\b\b\b\b\b\b\b\b\b\b\b                                                                       \b\b\b\b\b\b\b\b\b\b\b\b\b\b\b\b\b\b\b\b\b\b\b\b\b\b\b\b\b\b\b\b\b\b\b\b\b\b\b\b\b\b\b\b\b\b\b\b\b\b\b\b\b\b\b\b\b\b\b\b\b\b\b\b\b\b\b\b\b\b\b 76% 33135 - Dataset/Smarthome/Record/record_smarthome_7000032_1985.wav\b\b\b\b\b\b\b\b\b\b\b\b\b\b\b\b\b\b\b\b\b\b\b\b\b\b\b\b\b\b\b\b\b\b\b\b\b\b\b\b\b\b\b\b\b\b\b\b\b\b\b\b\b\b\b\b\b\b\b\b\b\b\b\b\b\b\b\b\b\b\b                                                                       \b\b\b\b\b\b\b\b\b\b\b\b\b\b\b\b\b\b\b\b\b\b\b\b\b\b\b\b\b\b\b\b\b\b\b\b\b\b\b\b\b\b\b\b\b\b\b\b\b\b\b\b\b\b\b\b\b\b\b\b\b\b\b\b\b\b\b\b\b\b\b 76% 33151 - Dataset/Smarthome/Record/record_smarthome_7000032_2145.wav\b\b\b\b\b\b\b\b\b\b\b\b\b\b\b\b\b\b\b\b\b\b\b\b\b\b\b\b\b\b\b\b\b\b\b\b\b\b\b\b\b\b\b\b\b\b\b\b\b\b\b\b\b\b\b\b\b\b\b\b\b\b\b\b\b\b\b\b\b\b\b                                                                       \b\b\b\b\b\b\b\b\b\b\b\b\b\b\b\b\b\b\b\b\b\b\b\b\b\b\b\b\b\b\b\b\b\b\b\b\b\b\b\b\b\b\b\b\b\b\b\b\b\b\b\b\b\b\b\b\b\b\b\b\b\b\b\b\b\b\b\b\b\b\b 76% 33166 - Dataset/Smarthome/Record/record_smarthome_7000032_2242.wav\b\b\b\b\b\b\b\b\b\b\b\b\b\b\b\b\b\b\b\b\b\b\b\b\b\b\b\b\b\b\b\b\b\b\b\b\b\b\b\b\b\b\b\b\b\b\b\b\b\b\b\b\b\b\b\b\b\b\b\b\b\b\b\b\b\b\b\b\b\b\b                                                                       \b\b\b\b\b\b\b\b\b\b\b\b\b\b\b\b\b\b\b\b\b\b\b\b\b\b\b\b\b\b\b\b\b\b\b\b\b\b\b\b\b\b\b\b\b\b\b\b\b\b\b\b\b\b\b\b\b\b\b\b\b\b\b\b\b\b\b\b\b\b\b 76% 33177 - Dataset/Smarthome/Record/record_smarthome_7000032_2288.wav\b\b\b\b\b\b\b\b\b\b\b\b\b\b\b\b\b\b\b\b\b\b\b\b\b\b\b\b\b\b\b\b\b\b\b\b\b\b\b\b\b\b\b\b\b\b\b\b\b\b\b\b\b\b\b\b\b\b\b\b\b\b\b\b\b\b\b\b\b\b\b                                                                       \b\b\b\b\b\b\b\b\b\b\b\b\b\b\b\b\b\b\b\b\b\b\b\b\b\b\b\b\b\b\b\b\b\b\b\b\b\b\b\b\b\b\b\b\b\b\b\b\b\b\b\b\b\b\b\b\b\b\b\b\b\b\b\b\b\b\b\b\b\b\b 76% 33192 - Dataset/Smarthome/Record/record_smarthome_7000032_2417.wav\b\b\b\b\b\b\b\b\b\b\b\b\b\b\b\b\b\b\b\b\b\b\b\b\b\b\b\b\b\b\b\b\b\b\b\b\b\b\b\b\b\b\b\b\b\b\b\b\b\b\b\b\b\b\b\b\b\b\b\b\b\b\b\b\b\b\b\b\b\b\b                                                                       \b\b\b\b\b\b\b\b\b\b\b\b\b\b\b\b\b\b\b\b\b\b\b\b\b\b\b\b\b\b\b\b\b\b\b\b\b\b\b\b\b\b\b\b\b\b\b\b\b\b\b\b\b\b\b\b\b\b\b\b\b\b\b\b\b\b\b\b\b\b\b 76% 33212 - Dataset/Smarthome/Record/record_smarthome_7000032_2567.wav\b\b\b\b\b\b\b\b\b\b\b\b\b\b\b\b\b\b\b\b\b\b\b\b\b\b\b\b\b\b\b\b\b\b\b\b\b\b\b\b\b\b\b\b\b\b\b\b\b\b\b\b\b\b\b\b\b\b\b\b\b\b\b\b\b\b\b\b\b\b\b                                                                       \b\b\b\b\b\b\b\b\b\b\b\b\b\b\b\b\b\b\b\b\b\b\b\b\b\b\b\b\b\b\b\b\b\b\b\b\b\b\b\b\b\b\b\b\b\b\b\b\b\b\b\b\b\b\b\b\b\b\b\b\b\b\b\b\b\b\b\b\b\b\b 76% 33233 - Dataset/Smarthome/Record/record_smarthome_7000032_404.wav\b\b\b\b\b\b\b\b\b\b\b\b\b\b\b\b\b\b\b\b\b\b\b\b\b\b\b\b\b\b\b\b\b\b\b\b\b\b\b\b\b\b\b\b\b\b\b\b\b\b\b\b\b\b\b\b\b\b\b\b\b\b\b\b\b\b\b\b\b\b                                                                      \b\b\b\b\b\b\b\b\b\b\b\b\b\b\b\b\b\b\b\b\b\b\b\b\b\b\b\b\b\b\b\b\b\b\b\b\b\b\b\b\b\b\b\b\b\b\b\b\b\b\b\b\b\b\b\b\b\b\b\b\b\b\b\b\b\b\b\b\b\b 77% 33256 - Dataset/Smarthome/Record/record_smarthome_7000032_563.wav\b\b\b\b\b\b\b\b\b\b\b\b\b\b\b\b\b\b\b\b\b\b\b\b\b\b\b\b\b\b\b\b\b\b\b\b\b\b\b\b\b\b\b\b\b\b\b\b\b\b\b\b\b\b\b\b\b\b\b\b\b\b\b\b\b\b\b\b\b\b                                                                      \b\b\b\b\b\b\b\b\b\b\b\b\b\b\b\b\b\b\b\b\b\b\b\b\b\b\b\b\b\b\b\b\b\b\b\b\b\b\b\b\b\b\b\b\b\b\b\b\b\b\b\b\b\b\b\b\b\b\b\b\b\b\b\b\b\b\b\b\b\b 77% 33279 - Dataset/Smarthome/Record/record_smarthome_7000032_775.wav\b\b\b\b\b\b\b\b\b\b\b\b\b\b\b\b\b\b\b\b\b\b\b\b\b\b\b\b\b\b\b\b\b\b\b\b\b\b\b\b\b\b\b\b\b\b\b\b\b\b\b\b\b\b\b\b\b\b\b\b\b\b\b\b\b\b\b\b\b\b                                                                      \b\b\b\b\b\b\b\b\b\b\b\b\b\b\b\b\b\b\b\b\b\b\b\b\b\b\b\b\b\b\b\b\b\b\b\b\b\b\b\b\b\b\b\b\b\b\b\b\b\b\b\b\b\b\b\b\b\b\b\b\b\b\b\b\b\b\b\b\b\b 77% 33300 - Dataset/Smarthome/Record/record_smarthome_7000032_960.wav\b\b\b\b\b\b\b\b\b\b\b\b\b\b\b\b\b\b\b\b\b\b\b\b\b\b\b\b\b\b\b\b\b\b\b\b\b\b\b\b\b\b\b\b\b\b\b\b\b\b\b\b\b\b\b\b\b\b\b\b\b\b\b\b\b\b\b\b\b\b                                                                      \b\b\b\b\b\b\b\b\b\b\b\b\b\b\b\b\b\b\b\b\b\b\b\b\b\b\b\b\b\b\b\b\b\b\b\b\b\b\b\b\b\b\b\b\b\b\b\b\b\b\b\b\b\b\b\b\b\b\b\b\b\b\b\b\b\b\b\b\b\b 77% 33322 - Dataset/Smarthome/Record/record_smarthome_7000033_1062.wav\b\b\b\b\b\b\b\b\b\b\b\b\b\b\b\b\b\b\b\b\b\b\b\b\b\b\b\b\b\b\b\b\b\b\b\b\b\b\b\b\b\b\b\b\b\b\b\b\b\b\b\b\b\b\b\b\b\b\b\b\b\b\b\b\b\b\b\b\b\b\b                                                                       \b\b\b\b\b\b\b\b\b\b\b\b\b\b\b\b\b\b\b\b\b\b\b\b\b\b\b\b\b\b\b\b\b\b\b\b\b\b\b\b\b\b\b\b\b\b\b\b\b\b\b\b\b\b\b\b\b\b\b\b\b\b\b\b\b\b\b\b\b\b\b 77% 33344 - Dataset/Smarthome/Record/record_smarthome_7000033_1203.wav\b\b\b\b\b\b\b\b\b\b\b\b\b\b\b\b\b\b\b\b\b\b\b\b\b\b\b\b\b\b\b\b\b\b\b\b\b\b\b\b\b\b\b\b\b\b\b\b\b\b\b\b\b\b\b\b\b\b\b\b\b\b\b\b\b\b\b\b\b\b\b                                                                       \b\b\b\b\b\b\b\b\b\b\b\b\b\b\b\b\b\b\b\b\b\b\b\b\b\b\b\b\b\b\b\b\b\b\b\b\b\b\b\b\b\b\b\b\b\b\b\b\b\b\b\b\b\b\b\b\b\b\b\b\b\b\b\b\b\b\b\b\b\b\b 77% 33367 - Dataset/Smarthome/Record/record_smarthome_7000033_1348.wav\b\b\b\b\b\b\b\b\b\b\b\b\b\b\b\b\b\b\b\b\b\b\b\b\b\b\b\b\b\b\b\b\b\b\b\b\b\b\b\b\b\b\b\b\b\b\b\b\b\b\b\b\b\b\b\b\b\b\b\b\b\b\b\b\b\b\b\b\b\b\b                                                                       \b\b\b\b\b\b\b\b\b\b\b\b\b\b\b\b\b\b\b\b\b\b\b\b\b\b\b\b\b\b\b\b\b\b\b\b\b\b\b\b\b\b\b\b\b\b\b\b\b\b\b\b\b\b\b\b\b\b\b\b\b\b\b\b\b\b\b\b\b\b\b 77% 33388 - Dataset/Smarthome/Record/record_smarthome_7000033_1533.wav\b\b\b\b\b\b\b\b\b\b\b\b\b\b\b\b\b\b\b\b\b\b\b\b\b\b\b\b\b\b\b\b\b\b\b\b\b\b\b\b\b\b\b\b\b\b\b\b\b\b\b\b\b\b\b\b\b\b\b\b\b\b\b\b\b\b\b\b\b\b\b                                                                       \b\b\b\b\b\b\b\b\b\b\b\b\b\b\b\b\b\b\b\b\b\b\b\b\b\b\b\b\b\b\b\b\b\b\b\b\b\b\b\b\b\b\b\b\b\b\b\b\b\b\b\b\b\b\b\b\b\b\b\b\b\b\b\b\b\b\b\b\b\b\b 77% 33411 - Dataset/Smarthome/Record/record_smarthome_7000033_1665.wav\b\b\b\b\b\b\b\b\b\b\b\b\b\b\b\b\b\b\b\b\b\b\b\b\b\b\b\b\b\b\b\b\b\b\b\b\b\b\b\b\b\b\b\b\b\b\b\b\b\b\b\b\b\b\b\b\b\b\b\b\b\b\b\b\b\b\b\b\b\b\b                                                                       \b\b\b\b\b\b\b\b\b\b\b\b\b\b\b\b\b\b\b\b\b\b\b\b\b\b\b\b\b\b\b\b\b\b\b\b\b\b\b\b\b\b\b\b\b\b\b\b\b\b\b\b\b\b\b\b\b\b\b\b\b\b\b\b\b\b\b\b\b\b\b 77% 33432 - Dataset/Smarthome/Record/record_smarthome_7000033_1882.wav\b\b\b\b\b\b\b\b\b\b\b\b\b\b\b\b\b\b\b\b\b\b\b\b\b\b\b\b\b\b\b\b\b\b\b\b\b\b\b\b\b\b\b\b\b\b\b\b\b\b\b\b\b\b\b\b\b\b\b\b\b\b\b\b\b\b\b\b\b\b\b                                                                       \b\b\b\b\b\b\b\b\b\b\b\b\b\b\b\b\b\b\b\b\b\b\b\b\b\b\b\b\b\b\b\b\b\b\b\b\b\b\b\b\b\b\b\b\b\b\b\b\b\b\b\b\b\b\b\b\b\b\b\b\b\b\b\b\b\b\b\b\b\b\b 77% 33454 - Dataset/Smarthome/Record/record_smarthome_7000033_2103.wav\b\b\b\b\b\b\b\b\b\b\b\b\b\b\b\b\b\b\b\b\b\b\b\b\b\b\b\b\b\b\b\b\b\b\b\b\b\b\b\b\b\b\b\b\b\b\b\b\b\b\b\b\b\b\b\b\b\b\b\b\b\b\b\b\b\b\b\b\b\b\b                                                                       \b\b\b\b\b\b\b\b\b\b\b\b\b\b\b\b\b\b\b\b\b\b\b\b\b\b\b\b\b\b\b\b\b\b\b\b\b\b\b\b\b\b\b\b\b\b\b\b\b\b\b\b\b\b\b\b\b\b\b\b\b\b\b\b\b\b\b\b\b\b\b 78% 33475 - Dataset/Smarthome/Record/record_smarthome_7000033_2278.wav\b\b\b\b\b\b\b\b\b\b\b\b\b\b\b\b\b\b\b\b\b\b\b\b\b\b\b\b\b\b\b\b\b\b\b\b\b\b\b\b\b\b\b\b\b\b\b\b\b\b\b\b\b\b\b\b\b\b\b\b\b\b\b\b\b\b\b\b\b\b\b                                                                       \b\b\b\b\b\b\b\b\b\b\b\b\b\b\b\b\b\b\b\b\b\b\b\b\b\b\b\b\b\b\b\b\b\b\b\b\b\b\b\b\b\b\b\b\b\b\b\b\b\b\b\b\b\b\b\b\b\b\b\b\b\b\b\b\b\b\b\b\b\b\b 78% 33495 - Dataset/Smarthome/Record/record_smarthome_7000033_2451.wav\b\b\b\b\b\b\b\b\b\b\b\b\b\b\b\b\b\b\b\b\b\b\b\b\b\b\b\b\b\b\b\b\b\b\b\b\b\b\b\b\b\b\b\b\b\b\b\b\b\b\b\b\b\b\b\b\b\b\b\b\b\b\b\b\b\b\b\b\b\b\b                                                                       \b\b\b\b\b\b\b\b\b\b\b\b\b\b\b\b\b\b\b\b\b\b\b\b\b\b\b\b\b\b\b\b\b\b\b\b\b\b\b\b\b\b\b\b\b\b\b\b\b\b\b\b\b\b\b\b\b\b\b\b\b\b\b\b\b\b\b\b\b\b\b 78% 33516 - Dataset/Smarthome/Record/record_smarthome_7000033_2648.wav\b\b\b\b\b\b\b\b\b\b\b\b\b\b\b\b\b\b\b\b\b\b\b\b\b\b\b\b\b\b\b\b\b\b\b\b\b\b\b\b\b\b\b\b\b\b\b\b\b\b\b\b\b\b\b\b\b\b\b\b\b\b\b\b\b\b\b\b\b\b\b                                                                       \b\b\b\b\b\b\b\b\b\b\b\b\b\b\b\b\b\b\b\b\b\b\b\b\b\b\b\b\b\b\b\b\b\b\b\b\b\b\b\b\b\b\b\b\b\b\b\b\b\b\b\b\b\b\b\b\b\b\b\b\b\b\b\b\b\b\b\b\b\b\b 78% 33537 - Dataset/Smarthome/Record/record_smarthome_7000033_415.wav\b\b\b\b\b\b\b\b\b\b\b\b\b\b\b\b\b\b\b\b\b\b\b\b\b\b\b\b\b\b\b\b\b\b\b\b\b\b\b\b\b\b\b\b\b\b\b\b\b\b\b\b\b\b\b\b\b\b\b\b\b\b\b\b\b\b\b\b\b\b                                                                      \b\b\b\b\b\b\b\b\b\b\b\b\b\b\b\b\b\b\b\b\b\b\b\b\b\b\b\b\b\b\b\b\b\b\b\b\b\b\b\b\b\b\b\b\b\b\b\b\b\b\b\b\b\b\b\b\b\b\b\b\b\b\b\b\b\b\b\b\b\b 78% 33558 - Dataset/Smarthome/Record/record_smarthome_7000033_583.wav\b\b\b\b\b\b\b\b\b\b\b\b\b\b\b\b\b\b\b\b\b\b\b\b\b\b\b\b\b\b\b\b\b\b\b\b\b\b\b\b\b\b\b\b\b\b\b\b\b\b\b\b\b\b\b\b\b\b\b\b\b\b\b\b\b\b\b\b\b\b                                                                      \b\b\b\b\b\b\b\b\b\b\b\b\b\b\b\b\b\b\b\b\b\b\b\b\b\b\b\b\b\b\b\b\b\b\b\b\b\b\b\b\b\b\b\b\b\b\b\b\b\b\b\b\b\b\b\b\b\b\b\b\b\b\b\b\b\b\b\b\b\b 78% 33579 - Dataset/Smarthome/Record/record_smarthome_7000033_726.wav\b\b\b\b\b\b\b\b\b\b\b\b\b\b\b\b\b\b\b\b\b\b\b\b\b\b\b\b\b\b\b\b\b\b\b\b\b\b\b\b\b\b\b\b\b\b\b\b\b\b\b\b\b\b\b\b\b\b\b\b\b\b\b\b\b\b\b\b\b\b                                                                      \b\b\b\b\b\b\b\b\b\b\b\b\b\b\b\b\b\b\b\b\b\b\b\b\b\b\b\b\b\b\b\b\b\b\b\b\b\b\b\b\b\b\b\b\b\b\b\b\b\b\b\b\b\b\b\b\b\b\b\b\b\b\b\b\b\b\b\b\b\b 78% 33599 - Dataset/Smarthome/Record/record_smarthome_7000033_892.wav\b\b\b\b\b\b\b\b\b\b\b\b\b\b\b\b\b\b\b\b\b\b\b\b\b\b\b\b\b\b\b\b\b\b\b\b\b\b\b\b\b\b\b\b\b\b\b\b\b\b\b\b\b\b\b\b\b\b\b\b\b\b\b\b\b\b\b\b\b\b                                                                      \b\b\b\b\b\b\b\b\b\b\b\b\b\b\b\b\b\b\b\b\b\b\b\b\b\b\b\b\b\b\b\b\b\b\b\b\b\b\b\b\b\b\b\b\b\b\b\b\b\b\b\b\b\b\b\b\b\b\b\b\b\b\b\b\b\b\b\b\b\b 78% 33620 - Dataset/Smarthome/Record/record_smarthome_7000034_1084.wav\b\b\b\b\b\b\b\b\b\b\b\b\b\b\b\b\b\b\b\b\b\b\b\b\b\b\b\b\b\b\b\b\b\b\b\b\b\b\b\b\b\b\b\b\b\b\b\b\b\b\b\b\b\b\b\b\b\b\b\b\b\b\b\b\b\b\b\b\b\b\b                                                                       \b\b\b\b\b\b\b\b\b\b\b\b\b\b\b\b\b\b\b\b\b\b\b\b\b\b\b\b\b\b\b\b\b\b\b\b\b\b\b\b\b\b\b\b\b\b\b\b\b\b\b\b\b\b\b\b\b\b\b\b\b\b\b\b\b\b\b\b\b\b\b 78% 33643 - Dataset/Smarthome/Record/record_smarthome_7000034_1230.wav\b\b\b\b\b\b\b\b\b\b\b\b\b\b\b\b\b\b\b\b\b\b\b\b\b\b\b\b\b\b\b\b\b\b\b\b\b\b\b\b\b\b\b\b\b\b\b\b\b\b\b\b\b\b\b\b\b\b\b\b\b\b\b\b\b\b\b\b\b\b\b                                                                       \b\b\b\b\b\b\b\b\b\b\b\b\b\b\b\b\b\b\b\b\b\b\b\b\b\b\b\b\b\b\b\b\b\b\b\b\b\b\b\b\b\b\b\b\b\b\b\b\b\b\b\b\b\b\b\b\b\b\b\b\b\b\b\b\b\b\b\b\b\b\b 78% 33667 - Dataset/Smarthome/Record/record_smarthome_7000034_142.wav\b\b\b\b\b\b\b\b\b\b\b\b\b\b\b\b\b\b\b\b\b\b\b\b\b\b\b\b\b\b\b\b\b\b\b\b\b\b\b\b\b\b\b\b\b\b\b\b\b\b\b\b\b\b\b\b\b\b\b\b\b\b\b\b\b\b\b\b\b\b                                                                      \b\b\b\b\b\b\b\b\b\b\b\b\b\b\b\b\b\b\b\b\b\b\b\b\b\b\b\b\b\b\b\b\b\b\b\b\b\b\b\b\b\b\b\b\b\b\b\b\b\b\b\b\b\b\b\b\b\b\b\b\b\b\b\b\b\b\b\b\b\b 78% 33691 - Dataset/Smarthome/Record/record_smarthome_7000034_1592.wav\b\b\b\b\b\b\b\b\b\b\b\b\b\b\b\b\b\b\b\b\b\b\b\b\b\b\b\b\b\b\b\b\b\b\b\b\b\b\b\b\b\b\b\b\b\b\b\b\b\b\b\b\b\b\b\b\b\b\b\b\b\b\b\b\b\b\b\b\b\b\b                                                                       \b\b\b\b\b\b\b\b\b\b\b\b\b\b\b\b\b\b\b\b\b\b\b\b\b\b\b\b\b\b\b\b\b\b\b\b\b\b\b\b\b\b\b\b\b\b\b\b\b\b\b\b\b\b\b\b\b\b\b\b\b\b\b\b\b\b\b\b\b\b\b 79% 33716 - Dataset/Smarthome/Record/record_smarthome_7000034_1793.wav\b\b\b\b\b\b\b\b\b\b\b\b\b\b\b\b\b\b\b\b\b\b\b\b\b\b\b\b\b\b\b\b\b\b\b\b\b\b\b\b\b\b\b\b\b\b\b\b\b\b\b\b\b\b\b\b\b\b\b\b\b\b\b\b\b\b\b\b\b\b\b                                                                       \b\b\b\b\b\b\b\b\b\b\b\b\b\b\b\b\b\b\b\b\b\b\b\b\b\b\b\b\b\b\b\b\b\b\b\b\b\b\b\b\b\b\b\b\b\b\b\b\b\b\b\b\b\b\b\b\b\b\b\b\b\b\b\b\b\b\b\b\b\b\b 79% 33740 - Dataset/Smarthome/Record/record_smarthome_7000034_2004.wav\b\b\b\b\b\b\b\b\b\b\b\b\b\b\b\b\b\b\b\b\b\b\b\b\b\b\b\b\b\b\b\b\b\b\b\b\b\b\b\b\b\b\b\b\b\b\b\b\b\b\b\b\b\b\b\b\b\b\b\b\b\b\b\b\b\b\b\b\b\b\b                                                                       \b\b\b\b\b\b\b\b\b\b\b\b\b\b\b\b\b\b\b\b\b\b\b\b\b\b\b\b\b\b\b\b\b\b\b\b\b\b\b\b\b\b\b\b\b\b\b\b\b\b\b\b\b\b\b\b\b\b\b\b\b\b\b\b\b\b\b\b\b\b\b 79% 33765 - Dataset/Smarthome/Record/record_smarthome_7000034_2226.wav\b\b\b\b\b\b\b\b\b\b\b\b\b\b\b\b\b\b\b\b\b\b\b\b\b\b\b\b\b\b\b\b\b\b\b\b\b\b\b\b\b\b\b\b\b\b\b\b\b\b\b\b\b\b\b\b\b\b\b\b\b\b\b\b\b\b\b\b\b\b\b                                                                       \b\b\b\b\b\b\b\b\b\b\b\b\b\b\b\b\b\b\b\b\b\b\b\b\b\b\b\b\b\b\b\b\b\b\b\b\b\b\b\b\b\b\b\b\b\b\b\b\b\b\b\b\b\b\b\b\b\b\b\b\b\b\b\b\b\b\b\b\b\b\b 79% 33789 - Dataset/Smarthome/Record/record_smarthome_7000034_2454.wav\b\b\b\b\b\b\b\b\b\b\b\b\b\b\b\b\b\b\b\b\b\b\b\b\b\b\b\b\b\b\b\b\b\b\b\b\b\b\b\b\b\b\b\b\b\b\b\b\b\b\b\b\b\b\b\b\b\b\b\b\b\b\b\b\b\b\b\b\b\b\b                                                                       \b\b\b\b\b\b\b\b\b\b\b\b\b\b\b\b\b\b\b\b\b\b\b\b\b\b\b\b\b\b\b\b\b\b\b\b\b\b\b\b\b\b\b\b\b\b\b\b\b\b\b\b\b\b\b\b\b\b\b\b\b\b\b\b\b\b\b\b\b\b\b 79% 33814 - Dataset/Smarthome/Record/record_smarthome_7000034_2616.wav\b\b\b\b\b\b\b\b\b\b\b\b\b\b\b\b\b\b\b\b\b\b\b\b\b\b\b\b\b\b\b\b\b\b\b\b\b\b\b\b\b\b\b\b\b\b\b\b\b\b\b\b\b\b\b\b\b\b\b\b\b\b\b\b\b\b\b\b\b\b\b                                                                       \b\b\b\b\b\b\b\b\b\b\b\b\b\b\b\b\b\b\b\b\b\b\b\b\b\b\b\b\b\b\b\b\b\b\b\b\b\b\b\b\b\b\b\b\b\b\b\b\b\b\b\b\b\b\b\b\b\b\b\b\b\b\b\b\b\b\b\b\b\b\b 79% 33839 - Dataset/Smarthome/Record/record_smarthome_7000034_426.wav\b\b\b\b\b\b\b\b\b\b\b\b\b\b\b\b\b\b\b\b\b\b\b\b\b\b\b\b\b\b\b\b\b\b\b\b\b\b\b\b\b\b\b\b\b\b\b\b\b\b\b\b\b\b\b\b\b\b\b\b\b\b\b\b\b\b\b\b\b\b                                                                      \b\b\b\b\b\b\b\b\b\b\b\b\b\b\b\b\b\b\b\b\b\b\b\b\b\b\b\b\b\b\b\b\b\b\b\b\b\b\b\b\b\b\b\b\b\b\b\b\b\b\b\b\b\b\b\b\b\b\b\b\b\b\b\b\b\b\b\b\b\b 79% 33864 - Dataset/Smarthome/Record/record_smarthome_7000034_620.wav\b\b\b\b\b\b\b\b\b\b\b\b\b\b\b\b\b\b\b\b\b\b\b\b\b\b\b\b\b\b\b\b\b\b\b\b\b\b\b\b\b\b\b\b\b\b\b\b\b\b\b\b\b\b\b\b\b\b\b\b\b\b\b\b\b\b\b\b\b\b                                                                      \b\b\b\b\b\b\b\b\b\b\b\b\b\b\b\b\b\b\b\b\b\b\b\b\b\b\b\b\b\b\b\b\b\b\b\b\b\b\b\b\b\b\b\b\b\b\b\b\b\b\b\b\b\b\b\b\b\b\b\b\b\b\b\b\b\b\b\b\b\b 79% 33889 - Dataset/Smarthome/Record/record_smarthome_7000034_821.wav\b\b\b\b\b\b\b\b\b\b\b\b\b\b\b\b\b\b\b\b\b\b\b\b\b\b\b\b\b\b\b\b\b\b\b\b\b\b\b\b\b\b\b\b\b\b\b\b\b\b\b\b\b\b\b\b\b\b\b\b\b\b\b\b\b\b\b\b\b\b                                                                      \b\b\b\b\b\b\b\b\b\b\b\b\b\b\b\b\b\b\b\b\b\b\b\b\b\b\b\b\b\b\b\b\b\b\b\b\b\b\b\b\b\b\b\b\b\b\b\b\b\b\b\b\b\b\b\b\b\b\b\b\b\b\b\b\b\b\b\b\b\b 80% 33913 - Dataset/Smarthome/Record/record_smarthome_7000035_1016.wav\b\b\b\b\b\b\b\b\b\b\b\b\b\b\b\b\b\b\b\b\b\b\b\b\b\b\b\b\b\b\b\b\b\b\b\b\b\b\b\b\b\b\b\b\b\b\b\b\b\b\b\b\b\b\b\b\b\b\b\b\b\b\b\b\b\b\b\b\b\b\b                                                                       \b\b\b\b\b\b\b\b\b\b\b\b\b\b\b\b\b\b\b\b\b\b\b\b\b\b\b\b\b\b\b\b\b\b\b\b\b\b\b\b\b\b\b\b\b\b\b\b\b\b\b\b\b\b\b\b\b\b\b\b\b\b\b\b\b\b\b\b\b\b\b 80% 33935 - Dataset/Smarthome/Record/record_smarthome_7000035_1172.wav\b\b\b\b\b\b\b\b\b\b\b\b\b\b\b\b\b\b\b\b\b\b\b\b\b\b\b\b\b\b\b\b\b\b\b\b\b\b\b\b\b\b\b\b\b\b\b\b\b\b\b\b\b\b\b\b\b\b\b\b\b\b\b\b\b\b\b\b\b\b\b                                                                       \b\b\b\b\b\b\b\b\b\b\b\b\b\b\b\b\b\b\b\b\b\b\b\b\b\b\b\b\b\b\b\b\b\b\b\b\b\b\b\b\b\b\b\b\b\b\b\b\b\b\b\b\b\b\b\b\b\b\b\b\b\b\b\b\b\b\b\b\b\b\b 80% 33957 - Dataset/Smarthome/Record/record_smarthome_7000035_130.wav\b\b\b\b\b\b\b\b\b\b\b\b\b\b\b\b\b\b\b\b\b\b\b\b\b\b\b\b\b\b\b\b\b\b\b\b\b\b\b\b\b\b\b\b\b\b\b\b\b\b\b\b\b\b\b\b\b\b\b\b\b\b\b\b\b\b\b\b\b\b                                                                      \b\b\b\b\b\b\b\b\b\b\b\b\b\b\b\b\b\b\b\b\b\b\b\b\b\b\b\b\b\b\b\b\b\b\b\b\b\b\b\b\b\b\b\b\b\b\b\b\b\b\b\b\b\b\b\b\b\b\b\b\b\b\b\b\b\b\b\b\b\b 80% 33979 - Dataset/Smarthome/Record/record_smarthome_7000035_1507.wav\b\b\b\b\b\b\b\b\b\b\b\b\b\b\b\b\b\b\b\b\b\b\b\b\b\b\b\b\b\b\b\b\b\b\b\b\b\b\b\b\b\b\b\b\b\b\b\b\b\b\b\b\b\b\b\b\b\b\b\b\b\b\b\b\b\b\b\b\b\b\b                                                                       \b\b\b\b\b\b\b\b\b\b\b\b\b\b\b\b\b\b\b\b\b\b\b\b\b\b\b\b\b\b\b\b\b\b\b\b\b\b\b\b\b\b\b\b\b\b\b\b\b\b\b\b\b\b\b\b\b\b\b\b\b\b\b\b\b\b\b\b\b\b\b 80% 34001 - Dataset/Smarthome/Record/record_smarthome_7000035_1686.wav\b\b\b\b\b\b\b\b\b\b\b\b\b\b\b\b\b\b\b\b\b\b\b\b\b\b\b\b\b\b\b\b\b\b\b\b\b\b\b\b\b\b\b\b\b\b\b\b\b\b\b\b\b\b\b\b\b\b\b\b\b\b\b\b\b\b\b\b\b\b\b                                                                       \b\b\b\b\b\b\b\b\b\b\b\b\b\b\b\b\b\b\b\b\b\b\b\b\b\b\b\b\b\b\b\b\b\b\b\b\b\b\b\b\b\b\b\b\b\b\b\b\b\b\b\b\b\b\b\b\b\b\b\b\b\b\b\b\b\b\b\b\b\b\b 80% 34023 - Dataset/Smarthome/Record/record_smarthome_7000035_1854.wav\b\b\b\b\b\b\b\b\b\b\b\b\b\b\b\b\b\b\b\b\b\b\b\b\b\b\b\b\b\b\b\b\b\b\b\b\b\b\b\b\b\b\b\b\b\b\b\b\b\b\b\b\b\b\b\b\b\b\b\b\b\b\b\b\b\b\b\b\b\b\b                                                                       \b\b\b\b\b\b\b\b\b\b\b\b\b\b\b\b\b\b\b\b\b\b\b\b\b\b\b\b\b\b\b\b\b\b\b\b\b\b\b\b\b\b\b\b\b\b\b\b\b\b\b\b\b\b\b\b\b\b\b\b\b\b\b\b\b\b\b\b\b\b\b 80% 34046 - Dataset/Smarthome/Record/record_smarthome_7000035_2018.wav\b\b\b\b\b\b\b\b\b\b\b\b\b\b\b\b\b\b\b\b\b\b\b\b\b\b\b\b\b\b\b\b\b\b\b\b\b\b\b\b\b\b\b\b\b\b\b\b\b\b\b\b\b\b\b\b\b\b\b\b\b\b\b\b\b\b\b\b\b\b\b                                                                       \b\b\b\b\b\b\b\b\b\b\b\b\b\b\b\b\b\b\b\b\b\b\b\b\b\b\b\b\b\b\b\b\b\b\b\b\b\b\b\b\b\b\b\b\b\b\b\b\b\b\b\b\b\b\b\b\b\b\b\b\b\b\b\b\b\b\b\b\b\b\b 80% 34068 - Dataset/Smarthome/Record/record_smarthome_7000035_2136.wav\b\b\b\b\b\b\b\b\b\b\b\b\b\b\b\b\b\b\b\b\b\b\b\b\b\b\b\b\b\b\b\b\b\b\b\b\b\b\b\b\b\b\b\b\b\b\b\b\b\b\b\b\b\b\b\b\b\b\b\b\b\b\b\b\b\b\b\b\b\b\b                                                                       \b\b\b\b\b\b\b\b\b\b\b\b\b\b\b\b\b\b\b\b\b\b\b\b\b\b\b\b\b\b\b\b\b\b\b\b\b\b\b\b\b\b\b\b\b\b\b\b\b\b\b\b\b\b\b\b\b\b\b\b\b\b\b\b\b\b\b\b\b\b\b 80% 34090 - Dataset/Smarthome/Record/record_smarthome_7000035_242.wav\b\b\b\b\b\b\b\b\b\b\b\b\b\b\b\b\b\b\b\b\b\b\b\b\b\b\b\b\b\b\b\b\b\b\b\b\b\b\b\b\b\b\b\b\b\b\b\b\b\b\b\b\b\b\b\b\b\b\b\b\b\b\b\b\b\b\b\b\b\b                                                                      \b\b\b\b\b\b\b\b\b\b\b\b\b\b\b\b\b\b\b\b\b\b\b\b\b\b\b\b\b\b\b\b\b\b\b\b\b\b\b\b\b\b\b\b\b\b\b\b\b\b\b\b\b\b\b\b\b\b\b\b\b\b\b\b\b\b\b\b\b\b 80% 34110 - Dataset/Smarthome/Record/record_smarthome_7000035_2585.wav\b\b\b\b\b\b\b\b\b\b\b\b\b\b\b\b\b\b\b\b\b\b\b\b\b\b\b\b\b\b\b\b\b\b\b\b\b\b\b\b\b\b\b\b\b\b\b\b\b\b\b\b\b\b\b\b\b\b\b\b\b\b\b\b\b\b\b\b\b\b\b                                                                       \b\b\b\b\b\b\b\b\b\b\b\b\b\b\b\b\b\b\b\b\b\b\b\b\b\b\b\b\b\b\b\b\b\b\b\b\b\b\b\b\b\b\b\b\b\b\b\b\b\b\b\b\b\b\b\b\b\b\b\b\b\b\b\b\b\b\b\b\b\b\b 81% 34129 - Dataset/Smarthome/Record/record_smarthome_7000035_307.wav\b\b\b\b\b\b\b\b\b\b\b\b\b\b\b\b\b\b\b\b\b\b\b\b\b\b\b\b\b\b\b\b\b\b\b\b\b\b\b\b\b\b\b\b\b\b\b\b\b\b\b\b\b\b\b\b\b\b\b\b\b\b\b\b\b\b\b\b\b\b                                                                      \b\b\b\b\b\b\b\b\b\b\b\b\b\b\b\b\b\b\b\b\b\b\b\b\b\b\b\b\b\b\b\b\b\b\b\b\b\b\b\b\b\b\b\b\b\b\b\b\b\b\b\b\b\b\b\b\b\b\b\b\b\b\b\b\b\b\b\b\b\b 81% 34151 - Dataset/Smarthome/Record/record_smarthome_7000035_53.wav\b\b\b\b\b\b\b\b\b\b\b\b\b\b\b\b\b\b\b\b\b\b\b\b\b\b\b\b\b\b\b\b\b\b\b\b\b\b\b\b\b\b\b\b\b\b\b\b\b\b\b\b\b\b\b\b\b\b\b\b\b\b\b\b\b\b\b\b\b                                                                     \b\b\b\b\b\b\b\b\b\b\b\b\b\b\b\b\b\b\b\b\b\b\b\b\b\b\b\b\b\b\b\b\b\b\b\b\b\b\b\b\b\b\b\b\b\b\b\b\b\b\b\b\b\b\b\b\b\b\b\b\b\b\b\b\b\b\b\b\b 81% 34174 - Dataset/Smarthome/Record/record_smarthome_7000035_758.wav\b\b\b\b\b\b\b\b\b\b\b\b\b\b\b\b\b\b\b\b\b\b\b\b\b\b\b\b\b\b\b\b\b\b\b\b\b\b\b\b\b\b\b\b\b\b\b\b\b\b\b\b\b\b\b\b\b\b\b\b\b\b\b\b\b\b\b\b\b\b                                                                      \b\b\b\b\b\b\b\b\b\b\b\b\b\b\b\b\b\b\b\b\b\b\b\b\b\b\b\b\b\b\b\b\b\b\b\b\b\b\b\b\b\b\b\b\b\b\b\b\b\b\b\b\b\b\b\b\b\b\b\b\b\b\b\b\b\b\b\b\b\b 81% 34195 - Dataset/Smarthome/Record/record_smarthome_7000035_895.wav\b\b\b\b\b\b\b\b\b\b\b\b\b\b\b\b\b\b\b\b\b\b\b\b\b\b\b\b\b\b\b\b\b\b\b\b\b\b\b\b\b\b\b\b\b\b\b\b\b\b\b\b\b\b\b\b\b\b\b\b\b\b\b\b\b\b\b\b\b\b                                                                      \b\b\b\b\b\b\b\b\b\b\b\b\b\b\b\b\b\b\b\b\b\b\b\b\b\b\b\b\b\b\b\b\b\b\b\b\b\b\b\b\b\b\b\b\b\b\b\b\b\b\b\b\b\b\b\b\b\b\b\b\b\b\b\b\b\b\b\b\b\b 81% 34216 - Dataset/Smarthome/Record/record_smarthome_7000036_1028.wav\b\b\b\b\b\b\b\b\b\b\b\b\b\b\b\b\b\b\b\b\b\b\b\b\b\b\b\b\b\b\b\b\b\b\b\b\b\b\b\b\b\b\b\b\b\b\b\b\b\b\b\b\b\b\b\b\b\b\b\b\b\b\b\b\b\b\b\b\b\b\b                                                                       \b\b\b\b\b\b\b\b\b\b\b\b\b\b\b\b\b\b\b\b\b\b\b\b\b\b\b\b\b\b\b\b\b\b\b\b\b\b\b\b\b\b\b\b\b\b\b\b\b\b\b\b\b\b\b\b\b\b\b\b\b\b\b\b\b\b\b\b\b\b\b 81% 34234 - Dataset/Smarthome/Record/record_smarthome_7000036_1227.wav\b\b\b\b\b\b\b\b\b\b\b\b\b\b\b\b\b\b\b\b\b\b\b\b\b\b\b\b\b\b\b\b\b\b\b\b\b\b\b\b\b\b\b\b\b\b\b\b\b\b\b\b\b\b\b\b\b\b\b\b\b\b\b\b\b\b\b\b\b\b\b                                                                       \b\b\b\b\b\b\b\b\b\b\b\b\b\b\b\b\b\b\b\b\b\b\b\b\b\b\b\b\b\b\b\b\b\b\b\b\b\b\b\b\b\b\b\b\b\b\b\b\b\b\b\b\b\b\b\b\b\b\b\b\b\b\b\b\b\b\b\b\b\b\b 81% 34259 - Dataset/Smarthome/Record/record_smarthome_7000036_1407.wav\b\b\b\b\b\b\b\b\b\b\b\b\b\b\b\b\b\b\b\b\b\b\b\b\b\b\b\b\b\b\b\b\b\b\b\b\b\b\b\b\b\b\b\b\b\b\b\b\b\b\b\b\b\b\b\b\b\b\b\b\b\b\b\b\b\b\b\b\b\b\b                                                                       \b\b\b\b\b\b\b\b\b\b\b\b\b\b\b\b\b\b\b\b\b\b\b\b\b\b\b\b\b\b\b\b\b\b\b\b\b\b\b\b\b\b\b\b\b\b\b\b\b\b\b\b\b\b\b\b\b\b\b\b\b\b\b\b\b\b\b\b\b\b\b 81% 34283 - Dataset/Smarthome/Record/record_smarthome_7000036_1619.wav\b\b\b\b\b\b\b\b\b\b\b\b\b\b\b\b\b\b\b\b\b\b\b\b\b\b\b\b\b\b\b\b\b\b\b\b\b\b\b\b\b\b\b\b\b\b\b\b\b\b\b\b\b\b\b\b\b\b\b\b\b\b\b\b\b\b\b\b\b\b\b                                                                       \b\b\b\b\b\b\b\b\b\b\b\b\b\b\b\b\b\b\b\b\b\b\b\b\b\b\b\b\b\b\b\b\b\b\b\b\b\b\b\b\b\b\b\b\b\b\b\b\b\b\b\b\b\b\b\b\b\b\b\b\b\b\b\b\b\b\b\b\b\b\b 81% 34306 - Dataset/Smarthome/Record/record_smarthome_7000036_1816.wav\b\b\b\b\b\b\b\b\b\b\b\b\b\b\b\b\b\b\b\b\b\b\b\b\b\b\b\b\b\b\b\b\b\b\b\b\b\b\b\b\b\b\b\b\b\b\b\b\b\b\b\b\b\b\b\b\b\b\b\b\b\b\b\b\b\b\b\b\b\b\b                                                                       \b\b\b\b\b\b\b\b\b\b\b\b\b\b\b\b\b\b\b\b\b\b\b\b\b\b\b\b\b\b\b\b\b\b\b\b\b\b\b\b\b\b\b\b\b\b\b\b\b\b\b\b\b\b\b\b\b\b\b\b\b\b\b\b\b\b\b\b\b\b\b 81% 34328 - Dataset/Smarthome/Record/record_smarthome_7000036_1920.wav\b\b\b\b\b\b\b\b\b\b\b\b\b\b\b\b\b\b\b\b\b\b\b\b\b\b\b\b\b\b\b\b\b\b\b\b\b\b\b\b\b\b\b\b\b\b\b\b\b\b\b\b\b\b\b\b\b\b\b\b\b\b\b\b\b\b\b\b\b\b\b                                                                       \b\b\b\b\b\b\b\b\b\b\b\b\b\b\b\b\b\b\b\b\b\b\b\b\b\b\b\b\b\b\b\b\b\b\b\b\b\b\b\b\b\b\b\b\b\b\b\b\b\b\b\b\b\b\b\b\b\b\b\b\b\b\b\b\b\b\b\b\b\b\b 81% 34351 - Dataset/Smarthome/Record/record_smarthome_7000036_2086.wav\b\b\b\b\b\b\b\b\b\b\b\b\b\b\b\b\b\b\b\b\b\b\b\b\b\b\b\b\b\b\b\b\b\b\b\b\b\b\b\b\b\b\b\b\b\b\b\b\b\b\b\b\b\b\b\b\b\b\b\b\b\b\b\b\b\b\b\b\b\b\b                                                                       \b\b\b\b\b\b\b\b\b\b\b\b\b\b\b\b\b\b\b\b\b\b\b\b\b\b\b\b\b\b\b\b\b\b\b\b\b\b\b\b\b\b\b\b\b\b\b\b\b\b\b\b\b\b\b\b\b\b\b\b\b\b\b\b\b\b\b\b\b\b\b 82% 34374 - Dataset/Smarthome/Record/record_smarthome_7000036_2238.wav\b\b\b\b\b\b\b\b\b\b\b\b\b\b\b\b\b\b\b\b\b\b\b\b\b\b\b\b\b\b\b\b\b\b\b\b\b\b\b\b\b\b\b\b\b\b\b\b\b\b\b\b\b\b\b\b\b\b\b\b\b\b\b\b\b\b\b\b\b\b\b                                                                       \b\b\b\b\b\b\b\b\b\b\b\b\b\b\b\b\b\b\b\b\b\b\b\b\b\b\b\b\b\b\b\b\b\b\b\b\b\b\b\b\b\b\b\b\b\b\b\b\b\b\b\b\b\b\b\b\b\b\b\b\b\b\b\b\b\b\b\b\b\b\b 82% 34397 - Dataset/Smarthome/Record/record_smarthome_7000036_2434.wav\b\b\b\b\b\b\b\b\b\b\b\b\b\b\b\b\b\b\b\b\b\b\b\b\b\b\b\b\b\b\b\b\b\b\b\b\b\b\b\b\b\b\b\b\b\b\b\b\b\b\b\b\b\b\b\b\b\b\b\b\b\b\b\b\b\b\b\b\b\b\b                                                                       \b\b\b\b\b\b\b\b\b\b\b\b\b\b\b\b\b\b\b\b\b\b\b\b\b\b\b\b\b\b\b\b\b\b\b\b\b\b\b\b\b\b\b\b\b\b\b\b\b\b\b\b\b\b\b\b\b\b\b\b\b\b\b\b\b\b\b\b\b\b\b 82% 34420 - Dataset/Smarthome/Record/record_smarthome_7000036_2609.wav\b\b\b\b\b\b\b\b\b\b\b\b\b\b\b\b\b\b\b\b\b\b\b\b\b\b\b\b\b\b\b\b\b\b\b\b\b\b\b\b\b\b\b\b\b\b\b\b\b\b\b\b\b\b\b\b\b\b\b\b\b\b\b\b\b\b\b\b\b\b\b                                                                       \b\b\b\b\b\b\b\b\b\b\b\b\b\b\b\b\b\b\b\b\b\b\b\b\b\b\b\b\b\b\b\b\b\b\b\b\b\b\b\b\b\b\b\b\b\b\b\b\b\b\b\b\b\b\b\b\b\b\b\b\b\b\b\b\b\b\b\b\b\b\b 82% 34443 - Dataset/Smarthome/Record/record_smarthome_7000036_35.wav\b\b\b\b\b\b\b\b\b\b\b\b\b\b\b\b\b\b\b\b\b\b\b\b\b\b\b\b\b\b\b\b\b\b\b\b\b\b\b\b\b\b\b\b\b\b\b\b\b\b\b\b\b\b\b\b\b\b\b\b\b\b\b\b\b\b\b\b\b                                                                     \b\b\b\b\b\b\b\b\b\b\b\b\b\b\b\b\b\b\b\b\b\b\b\b\b\b\b\b\b\b\b\b\b\b\b\b\b\b\b\b\b\b\b\b\b\b\b\b\b\b\b\b\b\b\b\b\b\b\b\b\b\b\b\b\b\b\b\b\b 82% 34466 - Dataset/Smarthome/Record/record_smarthome_7000036_584.wav\b\b\b\b\b\b\b\b\b\b\b\b\b\b\b\b\b\b\b\b\b\b\b\b\b\b\b\b\b\b\b\b\b\b\b\b\b\b\b\b\b\b\b\b\b\b\b\b\b\b\b\b\b\b\b\b\b\b\b\b\b\b\b\b\b\b\b\b\b\b                                                                      \b\b\b\b\b\b\b\b\b\b\b\b\b\b\b\b\b\b\b\b\b\b\b\b\b\b\b\b\b\b\b\b\b\b\b\b\b\b\b\b\b\b\b\b\b\b\b\b\b\b\b\b\b\b\b\b\b\b\b\b\b\b\b\b\b\b\b\b\b\b 82% 34489 - Dataset/Smarthome/Record/record_smarthome_7000036_722.wav\b\b\b\b\b\b\b\b\b\b\b\b\b\b\b\b\b\b\b\b\b\b\b\b\b\b\b\b\b\b\b\b\b\b\b\b\b\b\b\b\b\b\b\b\b\b\b\b\b\b\b\b\b\b\b\b\b\b\b\b\b\b\b\b\b\b\b\b\b\b                                                                      \b\b\b\b\b\b\b\b\b\b\b\b\b\b\b\b\b\b\b\b\b\b\b\b\b\b\b\b\b\b\b\b\b\b\b\b\b\b\b\b\b\b\b\b\b\b\b\b\b\b\b\b\b\b\b\b\b\b\b\b\b\b\b\b\b\b\b\b\b\b 82% 34512 - Dataset/Smarthome/Record/record_smarthome_7000037_1014.wav\b\b\b\b\b\b\b\b\b\b\b\b\b\b\b\b\b\b\b\b\b\b\b\b\b\b\b\b\b\b\b\b\b\b\b\b\b\b\b\b\b\b\b\b\b\b\b\b\b\b\b\b\b\b\b\b\b\b\b\b\b\b\b\b\b\b\b\b\b\b\b                                                                       \b\b\b\b\b\b\b\b\b\b\b\b\b\b\b\b\b\b\b\b\b\b\b\b\b\b\b\b\b\b\b\b\b\b\b\b\b\b\b\b\b\b\b\b\b\b\b\b\b\b\b\b\b\b\b\b\b\b\b\b\b\b\b\b\b\b\b\b\b\b\b 82% 34528 - Dataset/Smarthome/Record/record_smarthome_7000037_1161.wav\b\b\b\b\b\b\b\b\b\b\b\b\b\b\b\b\b\b\b\b\b\b\b\b\b\b\b\b\b\b\b\b\b\b\b\b\b\b\b\b\b\b\b\b\b\b\b\b\b\b\b\b\b\b\b\b\b\b\b\b\b\b\b\b\b\b\b\b\b\b\b                                                                       \b\b\b\b\b\b\b\b\b\b\b\b\b\b\b\b\b\b\b\b\b\b\b\b\b\b\b\b\b\b\b\b\b\b\b\b\b\b\b\b\b\b\b\b\b\b\b\b\b\b\b\b\b\b\b\b\b\b\b\b\b\b\b\b\b\b\b\b\b\b\b 82% 34544 - Dataset/Smarthome/Record/record_smarthome_7000037_1361.wav\b\b\b\b\b\b\b\b\b\b\b\b\b\b\b\b\b\b\b\b\b\b\b\b\b\b\b\b\b\b\b\b\b\b\b\b\b\b\b\b\b\b\b\b\b\b\b\b\b\b\b\b\b\b\b\b\b\b\b\b\b\b\b\b\b\b\b\b\b\b\b                                                                       \b\b\b\b\b\b\b\b\b\b\b\b\b\b\b\b\b\b\b\b\b\b\b\b\b\b\b\b\b\b\b\b\b\b\b\b\b\b\b\b\b\b\b\b\b\b\b\b\b\b\b\b\b\b\b\b\b\b\b\b\b\b\b\b\b\b\b\b\b\b\b 82% 34561 - Dataset/Smarthome/Record/record_smarthome_7000037_1469.wav\b\b\b\b\b\b\b\b\b\b\b\b\b\b\b\b\b\b\b\b\b\b\b\b\b\b\b\b\b\b\b\b\b\b\b\b\b\b\b\b\b\b\b\b\b\b\b\b\b\b\b\b\b\b\b\b\b\b\b\b\b\b\b\b\b\b\b\b\b\b\b                                                                       \b\b\b\b\b\b\b\b\b\b\b\b\b\b\b\b\b\b\b\b\b\b\b\b\b\b\b\b\b\b\b\b\b\b\b\b\b\b\b\b\b\b\b\b\b\b\b\b\b\b\b\b\b\b\b\b\b\b\b\b\b\b\b\b\b\b\b\b\b\b\b 83% 34578 - Dataset/Smarthome/Record/record_smarthome_7000037_1596.wav\b\b\b\b\b\b\b\b\b\b\b\b\b\b\b\b\b\b\b\b\b\b\b\b\b\b\b\b\b\b\b\b\b\b\b\b\b\b\b\b\b\b\b\b\b\b\b\b\b\b\b\b\b\b\b\b\b\b\b\b\b\b\b\b\b\b\b\b\b\b\b                                                                       \b\b\b\b\b\b\b\b\b\b\b\b\b\b\b\b\b\b\b\b\b\b\b\b\b\b\b\b\b\b\b\b\b\b\b\b\b\b\b\b\b\b\b\b\b\b\b\b\b\b\b\b\b\b\b\b\b\b\b\b\b\b\b\b\b\b\b\b\b\b\b 83% 34593 - Dataset/Smarthome/Record/record_smarthome_7000037_1736.wav\b\b\b\b\b\b\b\b\b\b\b\b\b\b\b\b\b\b\b\b\b\b\b\b\b\b\b\b\b\b\b\b\b\b\b\b\b\b\b\b\b\b\b\b\b\b\b\b\b\b\b\b\b\b\b\b\b\b\b\b\b\b\b\b\b\b\b\b\b\b\b                                                                       \b\b\b\b\b\b\b\b\b\b\b\b\b\b\b\b\b\b\b\b\b\b\b\b\b\b\b\b\b\b\b\b\b\b\b\b\b\b\b\b\b\b\b\b\b\b\b\b\b\b\b\b\b\b\b\b\b\b\b\b\b\b\b\b\b\b\b\b\b\b\b 83% 34607 - Dataset/Smarthome/Record/record_smarthome_7000037_184.wav\b\b\b\b\b\b\b\b\b\b\b\b\b\b\b\b\b\b\b\b\b\b\b\b\b\b\b\b\b\b\b\b\b\b\b\b\b\b\b\b\b\b\b\b\b\b\b\b\b\b\b\b\b\b\b\b\b\b\b\b\b\b\b\b\b\b\b\b\b\b                                                                      \b\b\b\b\b\b\b\b\b\b\b\b\b\b\b\b\b\b\b\b\b\b\b\b\b\b\b\b\b\b\b\b\b\b\b\b\b\b\b\b\b\b\b\b\b\b\b\b\b\b\b\b\b\b\b\b\b\b\b\b\b\b\b\b\b\b\b\b\b\b 83% 34623 - Dataset/Smarthome/Record/record_smarthome_7000037_1958.wav\b\b\b\b\b\b\b\b\b\b\b\b\b\b\b\b\b\b\b\b\b\b\b\b\b\b\b\b\b\b\b\b\b\b\b\b\b\b\b\b\b\b\b\b\b\b\b\b\b\b\b\b\b\b\b\b\b\b\b\b\b\b\b\b\b\b\b\b\b\b\b                                                                       \b\b\b\b\b\b\b\b\b\b\b\b\b\b\b\b\b\b\b\b\b\b\b\b\b\b\b\b\b\b\b\b\b\b\b\b\b\b\b\b\b\b\b\b\b\b\b\b\b\b\b\b\b\b\b\b\b\b\b\b\b\b\b\b\b\b\b\b\b\b\b 83% 34639 - Dataset/Smarthome/Record/record_smarthome_7000037_207.wav\b\b\b\b\b\b\b\b\b\b\b\b\b\b\b\b\b\b\b\b\b\b\b\b\b\b\b\b\b\b\b\b\b\b\b\b\b\b\b\b\b\b\b\b\b\b\b\b\b\b\b\b\b\b\b\b\b\b\b\b\b\b\b\b\b\b\b\b\b\b                                                                      \b\b\b\b\b\b\b\b\b\b\b\b\b\b\b\b\b\b\b\b\b\b\b\b\b\b\b\b\b\b\b\b\b\b\b\b\b\b\b\b\b\b\b\b\b\b\b\b\b\b\b\b\b\b\b\b\b\b\b\b\b\b\b\b\b\b\b\b\b\b 83% 34656 - Dataset/Smarthome/Record/record_smarthome_7000037_2155.wav\b\b\b\b\b\b\b\b\b\b\b\b\b\b\b\b\b\b\b\b\b\b\b\b\b\b\b\b\b\b\b\b\b\b\b\b\b\b\b\b\b\b\b\b\b\b\b\b\b\b\b\b\b\b\b\b\b\b\b\b\b\b\b\b\b\b\b\b\b\b\b                                                                       \b\b\b\b\b\b\b\b\b\b\b\b\b\b\b\b\b\b\b\b\b\b\b\b\b\b\b\b\b\b\b\b\b\b\b\b\b\b\b\b\b\b\b\b\b\b\b\b\b\b\b\b\b\b\b\b\b\b\b\b\b\b\b\b\b\b\b\b\b\b\b 83% 34673 - Dataset/Smarthome/Record/record_smarthome_7000037_2303.wav\b\b\b\b\b\b\b\b\b\b\b\b\b\b\b\b\b\b\b\b\b\b\b\b\b\b\b\b\b\b\b\b\b\b\b\b\b\b\b\b\b\b\b\b\b\b\b\b\b\b\b\b\b\b\b\b\b\b\b\b\b\b\b\b\b\b\b\b\b\b\b                                                                       \b\b\b\b\b\b\b\b\b\b\b\b\b\b\b\b\b\b\b\b\b\b\b\b\b\b\b\b\b\b\b\b\b\b\b\b\b\b\b\b\b\b\b\b\b\b\b\b\b\b\b\b\b\b\b\b\b\b\b\b\b\b\b\b\b\b\b\b\b\b\b 83% 34689 - Dataset/Smarthome/Record/record_smarthome_7000037_241.wav\b\b\b\b\b\b\b\b\b\b\b\b\b\b\b\b\b\b\b\b\b\b\b\b\b\b\b\b\b\b\b\b\b\b\b\b\b\b\b\b\b\b\b\b\b\b\b\b\b\b\b\b\b\b\b\b\b\b\b\b\b\b\b\b\b\b\b\b\b\b                                                                      \b\b\b\b\b\b\b\b\b\b\b\b\b\b\b\b\b\b\b\b\b\b\b\b\b\b\b\b\b\b\b\b\b\b\b\b\b\b\b\b\b\b\b\b\b\b\b\b\b\b\b\b\b\b\b\b\b\b\b\b\b\b\b\b\b\b\b\b\b\b 83% 34705 - Dataset/Smarthome/Record/record_smarthome_7000037_257.wav\b\b\b\b\b\b\b\b\b\b\b\b\b\b\b\b\b\b\b\b\b\b\b\b\b\b\b\b\b\b\b\b\b\b\b\b\b\b\b\b\b\b\b\b\b\b\b\b\b\b\b\b\b\b\b\b\b\b\b\b\b\b\b\b\b\b\b\b\b\b                                                                      \b\b\b\b\b\b\b\b\b\b\b\b\b\b\b\b\b\b\b\b\b\b\b\b\b\b\b\b\b\b\b\b\b\b\b\b\b\b\b\b\b\b\b\b\b\b\b\b\b\b\b\b\b\b\b\b\b\b\b\b\b\b\b\b\b\b\b\b\b\b 83% 34721 - Dataset/Smarthome/Record/record_smarthome_7000037_341.wav\b\b\b\b\b\b\b\b\b\b\b\b\b\b\b\b\b\b\b\b\b\b\b\b\b\b\b\b\b\b\b\b\b\b\b\b\b\b\b\b\b\b\b\b\b\b\b\b\b\b\b\b\b\b\b\b\b\b\b\b\b\b\b\b\b\b\b\b\b\b                                                                      \b\b\b\b\b\b\b\b\b\b\b\b\b\b\b\b\b\b\b\b\b\b\b\b\b\b\b\b\b\b\b\b\b\b\b\b\b\b\b\b\b\b\b\b\b\b\b\b\b\b\b\b\b\b\b\b\b\b\b\b\b\b\b\b\b\b\b\b\b\b 84% 34737 - Dataset/Smarthome/Record/record_smarthome_7000037_505.wav\b\b\b\b\b\b\b\b\b\b\b\b\b\b\b\b\b\b\b\b\b\b\b\b\b\b\b\b\b\b\b\b\b\b\b\b\b\b\b\b\b\b\b\b\b\b\b\b\b\b\b\b\b\b\b\b\b\b\b\b\b\b\b\b\b\b\b\b\b\b                                                                      \b\b\b\b\b\b\b\b\b\b\b\b\b\b\b\b\b\b\b\b\b\b\b\b\b\b\b\b\b\b\b\b\b\b\b\b\b\b\b\b\b\b\b\b\b\b\b\b\b\b\b\b\b\b\b\b\b\b\b\b\b\b\b\b\b\b\b\b\b\b 84% 34754 - Dataset/Smarthome/Record/record_smarthome_7000037_600.wav\b\b\b\b\b\b\b\b\b\b\b\b\b\b\b\b\b\b\b\b\b\b\b\b\b\b\b\b\b\b\b\b\b\b\b\b\b\b\b\b\b\b\b\b\b\b\b\b\b\b\b\b\b\b\b\b\b\b\b\b\b\b\b\b\b\b\b\b\b\b                                                                      \b\b\b\b\b\b\b\b\b\b\b\b\b\b\b\b\b\b\b\b\b\b\b\b\b\b\b\b\b\b\b\b\b\b\b\b\b\b\b\b\b\b\b\b\b\b\b\b\b\b\b\b\b\b\b\b\b\b\b\b\b\b\b\b\b\b\b\b\b\b 84% 34770 - Dataset/Smarthome/Record/record_smarthome_7000037_699.wav\b\b\b\b\b\b\b\b\b\b\b\b\b\b\b\b\b\b\b\b\b\b\b\b\b\b\b\b\b\b\b\b\b\b\b\b\b\b\b\b\b\b\b\b\b\b\b\b\b\b\b\b\b\b\b\b\b\b\b\b\b\b\b\b\b\b\b\b\b\b                                                                      \b\b\b\b\b\b\b\b\b\b\b\b\b\b\b\b\b\b\b\b\b\b\b\b\b\b\b\b\b\b\b\b\b\b\b\b\b\b\b\b\b\b\b\b\b\b\b\b\b\b\b\b\b\b\b\b\b\b\b\b\b\b\b\b\b\b\b\b\b\b 84% 34788 - Dataset/Smarthome/Record/record_smarthome_7000037_803.wav\b\b\b\b\b\b\b\b\b\b\b\b\b\b\b\b\b\b\b\b\b\b\b\b\b\b\b\b\b\b\b\b\b\b\b\b\b\b\b\b\b\b\b\b\b\b\b\b\b\b\b\b\b\b\b\b\b\b\b\b\b\b\b\b\b\b\b\b\b\b                                                                      \b\b\b\b\b\b\b\b\b\b\b\b\b\b\b\b\b\b\b\b\b\b\b\b\b\b\b\b\b\b\b\b\b\b\b\b\b\b\b\b\b\b\b\b\b\b\b\b\b\b\b\b\b\b\b\b\b\b\b\b\b\b\b\b\b\b\b\b\b\b 84% 34804 - Dataset/Smarthome/Record/record_smarthome_7000037_929.wav\b\b\b\b\b\b\b\b\b\b\b\b\b\b\b\b\b\b\b\b\b\b\b\b\b\b\b\b\b\b\b\b\b\b\b\b\b\b\b\b\b\b\b\b\b\b\b\b\b\b\b\b\b\b\b\b\b\b\b\b\b\b\b\b\b\b\b\b\b\b                                                                      \b\b\b\b\b\b\b\b\b\b\b\b\b\b\b\b\b\b\b\b\b\b\b\b\b\b\b\b\b\b\b\b\b\b\b\b\b\b\b\b\b\b\b\b\b\b\b\b\b\b\b\b\b\b\b\b\b\b\b\b\b\b\b\b\b\b\b\b\b\b 84% 34821 - Dataset/Smarthome/Record/record_smarthome_7000038_1085.wav\b\b\b\b\b\b\b\b\b\b\b\b\b\b\b\b\b\b\b\b\b\b\b\b\b\b\b\b\b\b\b\b\b\b\b\b\b\b\b\b\b\b\b\b\b\b\b\b\b\b\b\b\b\b\b\b\b\b\b\b\b\b\b\b\b\b\b\b\b\b\b                                                                       \b\b\b\b\b\b\b\b\b\b\b\b\b\b\b\b\b\b\b\b\b\b\b\b\b\b\b\b\b\b\b\b\b\b\b\b\b\b\b\b\b\b\b\b\b\b\b\b\b\b\b\b\b\b\b\b\b\b\b\b\b\b\b\b\b\b\b\b\b\b\b 84% 34838 - Dataset/Smarthome/Record/record_smarthome_7000038_1200.wav\b\b\b\b\b\b\b\b\b\b\b\b\b\b\b\b\b\b\b\b\b\b\b\b\b\b\b\b\b\b\b\b\b\b\b\b\b\b\b\b\b\b\b\b\b\b\b\b\b\b\b\b\b\b\b\b\b\b\b\b\b\b\b\b\b\b\b\b\b\b\b                                                                       \b\b\b\b\b\b\b\b\b\b\b\b\b\b\b\b\b\b\b\b\b\b\b\b\b\b\b\b\b\b\b\b\b\b\b\b\b\b\b\b\b\b\b\b\b\b\b\b\b\b\b\b\b\b\b\b\b\b\b\b\b\b\b\b\b\b\b\b\b\b\b 84% 34856 - Dataset/Smarthome/Record/record_smarthome_7000038_1398.wav\b\b\b\b\b\b\b\b\b\b\b\b\b\b\b\b\b\b\b\b\b\b\b\b\b\b\b\b\b\b\b\b\b\b\b\b\b\b\b\b\b\b\b\b\b\b\b\b\b\b\b\b\b\b\b\b\b\b\b\b\b\b\b\b\b\b\b\b\b\b\b                                                                       \b\b\b\b\b\b\b\b\b\b\b\b\b\b\b\b\b\b\b\b\b\b\b\b\b\b\b\b\b\b\b\b\b\b\b\b\b\b\b\b\b\b\b\b\b\b\b\b\b\b\b\b\b\b\b\b\b\b\b\b\b\b\b\b\b\b\b\b\b\b\b 84% 34874 - Dataset/Smarthome/Record/record_smarthome_7000038_1559.wav\b\b\b\b\b\b\b\b\b\b\b\b\b\b\b\b\b\b\b\b\b\b\b\b\b\b\b\b\b\b\b\b\b\b\b\b\b\b\b\b\b\b\b\b\b\b\b\b\b\b\b\b\b\b\b\b\b\b\b\b\b\b\b\b\b\b\b\b\b\b\b                                                                       \b\b\b\b\b\b\b\b\b\b\b\b\b\b\b\b\b\b\b\b\b\b\b\b\b\b\b\b\b\b\b\b\b\b\b\b\b\b\b\b\b\b\b\b\b\b\b\b\b\b\b\b\b\b\b\b\b\b\b\b\b\b\b\b\b\b\b\b\b\b\b 84% 34892 - Dataset/Smarthome/Record/record_smarthome_7000038_1673.wav\b\b\b\b\b\b\b\b\b\b\b\b\b\b\b\b\b\b\b\b\b\b\b\b\b\b\b\b\b\b\b\b\b\b\b\b\b\b\b\b\b\b\b\b\b\b\b\b\b\b\b\b\b\b\b\b\b\b\b\b\b\b\b\b\b\b\b\b\b\b\b                                                                       \b\b\b\b\b\b\b\b\b\b\b\b\b\b\b\b\b\b\b\b\b\b\b\b\b\b\b\b\b\b\b\b\b\b\b\b\b\b\b\b\b\b\b\b\b\b\b\b\b\b\b\b\b\b\b\b\b\b\b\b\b\b\b\b\b\b\b\b\b\b\b 85% 34910 - Dataset/Smarthome/Record/record_smarthome_7000038_1833.wav\b\b\b\b\b\b\b\b\b\b\b\b\b\b\b\b\b\b\b\b\b\b\b\b\b\b\b\b\b\b\b\b\b\b\b\b\b\b\b\b\b\b\b\b\b\b\b\b\b\b\b\b\b\b\b\b\b\b\b\b\b\b\b\b\b\b\b\b\b\b\b                                                                       \b\b\b\b\b\b\b\b\b\b\b\b\b\b\b\b\b\b\b\b\b\b\b\b\b\b\b\b\b\b\b\b\b\b\b\b\b\b\b\b\b\b\b\b\b\b\b\b\b\b\b\b\b\b\b\b\b\b\b\b\b\b\b\b\b\b\b\b\b\b\b 85% 34928 - Dataset/Smarthome/Record/record_smarthome_7000038_1960.wav\b\b\b\b\b\b\b\b\b\b\b\b\b\b\b\b\b\b\b\b\b\b\b\b\b\b\b\b\b\b\b\b\b\b\b\b\b\b\b\b\b\b\b\b\b\b\b\b\b\b\b\b\b\b\b\b\b\b\b\b\b\b\b\b\b\b\b\b\b\b\b                                                                       \b\b\b\b\b\b\b\b\b\b\b\b\b\b\b\b\b\b\b\b\b\b\b\b\b\b\b\b\b\b\b\b\b\b\b\b\b\b\b\b\b\b\b\b\b\b\b\b\b\b\b\b\b\b\b\b\b\b\b\b\b\b\b\b\b\b\b\b\b\b\b 85% 34946 - Dataset/Smarthome/Record/record_smarthome_7000038_21.wav\b\b\b\b\b\b\b\b\b\b\b\b\b\b\b\b\b\b\b\b\b\b\b\b\b\b\b\b\b\b\b\b\b\b\b\b\b\b\b\b\b\b\b\b\b\b\b\b\b\b\b\b\b\b\b\b\b\b\b\b\b\b\b\b\b\b\b\b\b                                                                     \b\b\b\b\b\b\b\b\b\b\b\b\b\b\b\b\b\b\b\b\b\b\b\b\b\b\b\b\b\b\b\b\b\b\b\b\b\b\b\b\b\b\b\b\b\b\b\b\b\b\b\b\b\b\b\b\b\b\b\b\b\b\b\b\b\b\b\b\b 85% 34964 - Dataset/Smarthome/Record/record_smarthome_7000038_2244.wav\b\b\b\b\b\b\b\b\b\b\b\b\b\b\b\b\b\b\b\b\b\b\b\b\b\b\b\b\b\b\b\b\b\b\b\b\b\b\b\b\b\b\b\b\b\b\b\b\b\b\b\b\b\b\b\b\b\b\b\b\b\b\b\b\b\b\b\b\b\b\b                                                                       \b\b\b\b\b\b\b\b\b\b\b\b\b\b\b\b\b\b\b\b\b\b\b\b\b\b\b\b\b\b\b\b\b\b\b\b\b\b\b\b\b\b\b\b\b\b\b\b\b\b\b\b\b\b\b\b\b\b\b\b\b\b\b\b\b\b\b\b\b\b\b 85% 34982 - Dataset/Smarthome/Record/record_smarthome_7000038_2414.wav\b\b\b\b\b\b\b\b\b\b\b\b\b\b\b\b\b\b\b\b\b\b\b\b\b\b\b\b\b\b\b\b\b\b\b\b\b\b\b\b\b\b\b\b\b\b\b\b\b\b\b\b\b\b\b\b\b\b\b\b\b\b\b\b\b\b\b\b\b\b\b                                                                       \b\b\b\b\b\b\b\b\b\b\b\b\b\b\b\b\b\b\b\b\b\b\b\b\b\b\b\b\b\b\b\b\b\b\b\b\b\b\b\b\b\b\b\b\b\b\b\b\b\b\b\b\b\b\b\b\b\b\b\b\b\b\b\b\b\b\b\b\b\b\b 85% 34999 - Dataset/Smarthome/Record/record_smarthome_7000038_2523.wav\b\b\b\b\b\b\b\b\b\b\b\b\b\b\b\b\b\b\b\b\b\b\b\b\b\b\b\b\b\b\b\b\b\b\b\b\b\b\b\b\b\b\b\b\b\b\b\b\b\b\b\b\b\b\b\b\b\b\b\b\b\b\b\b\b\b\b\b\b\b\b                                                                       \b\b\b\b\b\b\b\b\b\b\b\b\b\b\b\b\b\b\b\b\b\b\b\b\b\b\b\b\b\b\b\b\b\b\b\b\b\b\b\b\b\b\b\b\b\b\b\b\b\b\b\b\b\b\b\b\b\b\b\b\b\b\b\b\b\b\b\b\b\b\b 85% 35017 - Dataset/Smarthome/Record/record_smarthome_7000038_299.wav\b\b\b\b\b\b\b\b\b\b\b\b\b\b\b\b\b\b\b\b\b\b\b\b\b\b\b\b\b\b\b\b\b\b\b\b\b\b\b\b\b\b\b\b\b\b\b\b\b\b\b\b\b\b\b\b\b\b\b\b\b\b\b\b\b\b\b\b\b\b                                                                      \b\b\b\b\b\b\b\b\b\b\b\b\b\b\b\b\b\b\b\b\b\b\b\b\b\b\b\b\b\b\b\b\b\b\b\b\b\b\b\b\b\b\b\b\b\b\b\b\b\b\b\b\b\b\b\b\b\b\b\b\b\b\b\b\b\b\b\b\b\b 85% 35032 - Dataset/Smarthome/Record/record_smarthome_7000038_371.wav\b\b\b\b\b\b\b\b\b\b\b\b\b\b\b\b\b\b\b\b\b\b\b\b\b\b\b\b\b\b\b\b\b\b\b\b\b\b\b\b\b\b\b\b\b\b\b\b\b\b\b\b\b\b\b\b\b\b\b\b\b\b\b\b\b\b\b\b\b\b                                                                      \b\b\b\b\b\b\b\b\b\b\b\b\b\b\b\b\b\b\b\b\b\b\b\b\b\b\b\b\b\b\b\b\b\b\b\b\b\b\b\b\b\b\b\b\b\b\b\b\b\b\b\b\b\b\b\b\b\b\b\b\b\b\b\b\b\b\b\b\b\b 85% 35050 - Dataset/Smarthome/Record/record_smarthome_7000038_489.wav\b\b\b\b\b\b\b\b\b\b\b\b\b\b\b\b\b\b\b\b\b\b\b\b\b\b\b\b\b\b\b\b\b\b\b\b\b\b\b\b\b\b\b\b\b\b\b\b\b\b\b\b\b\b\b\b\b\b\b\b\b\b\b\b\b\b\b\b\b\b                                                                      \b\b\b\b\b\b\b\b\b\b\b\b\b\b\b\b\b\b\b\b\b\b\b\b\b\b\b\b\b\b\b\b\b\b\b\b\b\b\b\b\b\b\b\b\b\b\b\b\b\b\b\b\b\b\b\b\b\b\b\b\b\b\b\b\b\b\b\b\b\b 85% 35068 - Dataset/Smarthome/Record/record_smarthome_7000038_672.wav\b\b\b\b\b\b\b\b\b\b\b\b\b\b\b\b\b\b\b\b\b\b\b\b\b\b\b\b\b\b\b\b\b\b\b\b\b\b\b\b\b\b\b\b\b\b\b\b\b\b\b\b\b\b\b\b\b\b\b\b\b\b\b\b\b\b\b\b\b\b                                                                      \b\b\b\b\b\b\b\b\b\b\b\b\b\b\b\b\b\b\b\b\b\b\b\b\b\b\b\b\b\b\b\b\b\b\b\b\b\b\b\b\b\b\b\b\b\b\b\b\b\b\b\b\b\b\b\b\b\b\b\b\b\b\b\b\b\b\b\b\b\b 85% 35085 - Dataset/Smarthome/Record/record_smarthome_7000038_848.wav\b\b\b\b\b\b\b\b\b\b\b\b\b\b\b\b\b\b\b\b\b\b\b\b\b\b\b\b\b\b\b\b\b\b\b\b\b\b\b\b\b\b\b\b\b\b\b\b\b\b\b\b\b\b\b\b\b\b\b\b\b\b\b\b\b\b\b\b\b\b                                                                      \b\b\b\b\b\b\b\b\b\b\b\b\b\b\b\b\b\b\b\b\b\b\b\b\b\b\b\b\b\b\b\b\b\b\b\b\b\b\b\b\b\b\b\b\b\b\b\b\b\b\b\b\b\b\b\b\b\b\b\b\b\b\b\b\b\b\b\b\b\b 86% 35102 - Dataset/Smarthome/Record/record_smarthome_7000038_934.wav\b\b\b\b\b\b\b\b\b\b\b\b\b\b\b\b\b\b\b\b\b\b\b\b\b\b\b\b\b\b\b\b\b\b\b\b\b\b\b\b\b\b\b\b\b\b\b\b\b\b\b\b\b\b\b\b\b\b\b\b\b\b\b\b\b\b\b\b\b\b                                                                      \b\b\b\b\b\b\b\b\b\b\b\b\b\b\b\b\b\b\b\b\b\b\b\b\b\b\b\b\b\b\b\b\b\b\b\b\b\b\b\b\b\b\b\b\b\b\b\b\b\b\b\b\b\b\b\b\b\b\b\b\b\b\b\b\b\b\b\b\b\b 86% 35121 - Dataset/Smarthome/Record/record_smarthome_7000039_1105.wav\b\b\b\b\b\b\b\b\b\b\b\b\b\b\b\b\b\b\b\b\b\b\b\b\b\b\b\b\b\b\b\b\b\b\b\b\b\b\b\b\b\b\b\b\b\b\b\b\b\b\b\b\b\b\b\b\b\b\b\b\b\b\b\b\b\b\b\b\b\b\b                                                                       \b\b\b\b\b\b\b\b\b\b\b\b\b\b\b\b\b\b\b\b\b\b\b\b\b\b\b\b\b\b\b\b\b\b\b\b\b\b\b\b\b\b\b\b\b\b\b\b\b\b\b\b\b\b\b\b\b\b\b\b\b\b\b\b\b\b\b\b\b\b\b 86% 35142 - Dataset/Smarthome/Record/record_smarthome_7000039_1270.wav\b\b\b\b\b\b\b\b\b\b\b\b\b\b\b\b\b\b\b\b\b\b\b\b\b\b\b\b\b\b\b\b\b\b\b\b\b\b\b\b\b\b\b\b\b\b\b\b\b\b\b\b\b\b\b\b\b\b\b\b\b\b\b\b\b\b\b\b\b\b\b                                                                       \b\b\b\b\b\b\b\b\b\b\b\b\b\b\b\b\b\b\b\b\b\b\b\b\b\b\b\b\b\b\b\b\b\b\b\b\b\b\b\b\b\b\b\b\b\b\b\b\b\b\b\b\b\b\b\b\b\b\b\b\b\b\b\b\b\b\b\b\b\b\b 86% 35162 - Dataset/Smarthome/Record/record_smarthome_7000039_1411.wav\b\b\b\b\b\b\b\b\b\b\b\b\b\b\b\b\b\b\b\b\b\b\b\b\b\b\b\b\b\b\b\b\b\b\b\b\b\b\b\b\b\b\b\b\b\b\b\b\b\b\b\b\b\b\b\b\b\b\b\b\b\b\b\b\b\b\b\b\b\b\b                                                                       \b\b\b\b\b\b\b\b\b\b\b\b\b\b\b\b\b\b\b\b\b\b\b\b\b\b\b\b\b\b\b\b\b\b\b\b\b\b\b\b\b\b\b\b\b\b\b\b\b\b\b\b\b\b\b\b\b\b\b\b\b\b\b\b\b\b\b\b\b\b\b 86% 35183 - Dataset/Smarthome/Record/record_smarthome_7000039_1565.wav\b\b\b\b\b\b\b\b\b\b\b\b\b\b\b\b\b\b\b\b\b\b\b\b\b\b\b\b\b\b\b\b\b\b\b\b\b\b\b\b\b\b\b\b\b\b\b\b\b\b\b\b\b\b\b\b\b\b\b\b\b\b\b\b\b\b\b\b\b\b\b                                                                       \b\b\b\b\b\b\b\b\b\b\b\b\b\b\b\b\b\b\b\b\b\b\b\b\b\b\b\b\b\b\b\b\b\b\b\b\b\b\b\b\b\b\b\b\b\b\b\b\b\b\b\b\b\b\b\b\b\b\b\b\b\b\b\b\b\b\b\b\b\b\b 86% 35204 - Dataset/Smarthome/Record/record_smarthome_7000039_173.wav\b\b\b\b\b\b\b\b\b\b\b\b\b\b\b\b\b\b\b\b\b\b\b\b\b\b\b\b\b\b\b\b\b\b\b\b\b\b\b\b\b\b\b\b\b\b\b\b\b\b\b\b\b\b\b\b\b\b\b\b\b\b\b\b\b\b\b\b\b\b                                                                      \b\b\b\b\b\b\b\b\b\b\b\b\b\b\b\b\b\b\b\b\b\b\b\b\b\b\b\b\b\b\b\b\b\b\b\b\b\b\b\b\b\b\b\b\b\b\b\b\b\b\b\b\b\b\b\b\b\b\b\b\b\b\b\b\b\b\b\b\b\b 86% 35224 - Dataset/Smarthome/Record/record_smarthome_7000039_196.wav\b\b\b\b\b\b\b\b\b\b\b\b\b\b\b\b\b\b\b\b\b\b\b\b\b\b\b\b\b\b\b\b\b\b\b\b\b\b\b\b\b\b\b\b\b\b\b\b\b\b\b\b\b\b\b\b\b\b\b\b\b\b\b\b\b\b\b\b\b\b                                                                      \b\b\b\b\b\b\b\b\b\b\b\b\b\b\b\b\b\b\b\b\b\b\b\b\b\b\b\b\b\b\b\b\b\b\b\b\b\b\b\b\b\b\b\b\b\b\b\b\b\b\b\b\b\b\b\b\b\b\b\b\b\b\b\b\b\b\b\b\b\b 86% 35244 - Dataset/Smarthome/Record/record_smarthome_7000039_2166.wav\b\b\b\b\b\b\b\b\b\b\b\b\b\b\b\b\b\b\b\b\b\b\b\b\b\b\b\b\b\b\b\b\b\b\b\b\b\b\b\b\b\b\b\b\b\b\b\b\b\b\b\b\b\b\b\b\b\b\b\b\b\b\b\b\b\b\b\b\b\b\b                                                                       \b\b\b\b\b\b\b\b\b\b\b\b\b\b\b\b\b\b\b\b\b\b\b\b\b\b\b\b\b\b\b\b\b\b\b\b\b\b\b\b\b\b\b\b\b\b\b\b\b\b\b\b\b\b\b\b\b\b\b\b\b\b\b\b\b\b\b\b\b\b\b 86% 35264 - Dataset/Smarthome/Record/record_smarthome_7000039_2290.wav\b\b\b\b\b\b\b\b\b\b\b\b\b\b\b\b\b\b\b\b\b\b\b\b\b\b\b\b\b\b\b\b\b\b\b\b\b\b\b\b\b\b\b\b\b\b\b\b\b\b\b\b\b\b\b\b\b\b\b\b\b\b\b\b\b\b\b\b\b\b\b                                                                       \b\b\b\b\b\b\b\b\b\b\b\b\b\b\b\b\b\b\b\b\b\b\b\b\b\b\b\b\b\b\b\b\b\b\b\b\b\b\b\b\b\b\b\b\b\b\b\b\b\b\b\b\b\b\b\b\b\b\b\b\b\b\b\b\b\b\b\b\b\b\b 86% 35284 - Dataset/Smarthome/Record/record_smarthome_7000039_2416.wav\b\b\b\b\b\b\b\b\b\b\b\b\b\b\b\b\b\b\b\b\b\b\b\b\b\b\b\b\b\b\b\b\b\b\b\b\b\b\b\b\b\b\b\b\b\b\b\b\b\b\b\b\b\b\b\b\b\b\b\b\b\b\b\b\b\b\b\b\b\b\b                                                                       \b\b\b\b\b\b\b\b\b\b\b\b\b\b\b\b\b\b\b\b\b\b\b\b\b\b\b\b\b\b\b\b\b\b\b\b\b\b\b\b\b\b\b\b\b\b\b\b\b\b\b\b\b\b\b\b\b\b\b\b\b\b\b\b\b\b\b\b\b\b\b 86% 35305 - Dataset/Smarthome/Record/record_smarthome_7000039_2608.wav\b\b\b\b\b\b\b\b\b\b\b\b\b\b\b\b\b\b\b\b\b\b\b\b\b\b\b\b\b\b\b\b\b\b\b\b\b\b\b\b\b\b\b\b\b\b\b\b\b\b\b\b\b\b\b\b\b\b\b\b\b\b\b\b\b\b\b\b\b\b\b                                                                       \b\b\b\b\b\b\b\b\b\b\b\b\b\b\b\b\b\b\b\b\b\b\b\b\b\b\b\b\b\b\b\b\b\b\b\b\b\b\b\b\b\b\b\b\b\b\b\b\b\b\b\b\b\b\b\b\b\b\b\b\b\b\b\b\b\b\b\b\b\b\b 87% 35323 - Dataset/Smarthome/Record/record_smarthome_7000039_388.wav\b\b\b\b\b\b\b\b\b\b\b\b\b\b\b\b\b\b\b\b\b\b\b\b\b\b\b\b\b\b\b\b\b\b\b\b\b\b\b\b\b\b\b\b\b\b\b\b\b\b\b\b\b\b\b\b\b\b\b\b\b\b\b\b\b\b\b\b\b\b                                                                      \b\b\b\b\b\b\b\b\b\b\b\b\b\b\b\b\b\b\b\b\b\b\b\b\b\b\b\b\b\b\b\b\b\b\b\b\b\b\b\b\b\b\b\b\b\b\b\b\b\b\b\b\b\b\b\b\b\b\b\b\b\b\b\b\b\b\b\b\b\b 87% 35344 - Dataset/Smarthome/Record/record_smarthome_7000039_502.wav\b\b\b\b\b\b\b\b\b\b\b\b\b\b\b\b\b\b\b\b\b\b\b\b\b\b\b\b\b\b\b\b\b\b\b\b\b\b\b\b\b\b\b\b\b\b\b\b\b\b\b\b\b\b\b\b\b\b\b\b\b\b\b\b\b\b\b\b\b\b                                                                      \b\b\b\b\b\b\b\b\b\b\b\b\b\b\b\b\b\b\b\b\b\b\b\b\b\b\b\b\b\b\b\b\b\b\b\b\b\b\b\b\b\b\b\b\b\b\b\b\b\b\b\b\b\b\b\b\b\b\b\b\b\b\b\b\b\b\b\b\b\b 87% 35366 - Dataset/Smarthome/Record/record_smarthome_7000039_690.wav\b\b\b\b\b\b\b\b\b\b\b\b\b\b\b\b\b\b\b\b\b\b\b\b\b\b\b\b\b\b\b\b\b\b\b\b\b\b\b\b\b\b\b\b\b\b\b\b\b\b\b\b\b\b\b\b\b\b\b\b\b\b\b\b\b\b\b\b\b\b                                                                      \b\b\b\b\b\b\b\b\b\b\b\b\b\b\b\b\b\b\b\b\b\b\b\b\b\b\b\b\b\b\b\b\b\b\b\b\b\b\b\b\b\b\b\b\b\b\b\b\b\b\b\b\b\b\b\b\b\b\b\b\b\b\b\b\b\b\b\b\b\b 87% 35387 - Dataset/Smarthome/Record/record_smarthome_7000039_827.wav\b\b\b\b\b\b\b\b\b\b\b\b\b\b\b\b\b\b\b\b\b\b\b\b\b\b\b\b\b\b\b\b\b\b\b\b\b\b\b\b\b\b\b\b\b\b\b\b\b\b\b\b\b\b\b\b\b\b\b\b\b\b\b\b\b\b\b\b\b\b                                                                      \b\b\b\b\b\b\b\b\b\b\b\b\b\b\b\b\b\b\b\b\b\b\b\b\b\b\b\b\b\b\b\b\b\b\b\b\b\b\b\b\b\b\b\b\b\b\b\b\b\b\b\b\b\b\b\b\b\b\b\b\b\b\b\b\b\b\b\b\b\b 87% 35408 - Dataset/Smarthome/Record/record_smarthome_7000039_989.wav\b\b\b\b\b\b\b\b\b\b\b\b\b\b\b\b\b\b\b\b\b\b\b\b\b\b\b\b\b\b\b\b\b\b\b\b\b\b\b\b\b\b\b\b\b\b\b\b\b\b\b\b\b\b\b\b\b\b\b\b\b\b\b\b\b\b\b\b\b\b                                                                      \b\b\b\b\b\b\b\b\b\b\b\b\b\b\b\b\b\b\b\b\b\b\b\b\b\b\b\b\b\b\b\b\b\b\b\b\b\b\b\b\b\b\b\b\b\b\b\b\b\b\b\b\b\b\b\b\b\b\b\b\b\b\b\b\b\b\b\b\b\b 87% 35429 - Dataset/Smarthome/Record/record_smarthome_7000040_1132.wav\b\b\b\b\b\b\b\b\b\b\b\b\b\b\b\b\b\b\b\b\b\b\b\b\b\b\b\b\b\b\b\b\b\b\b\b\b\b\b\b\b\b\b\b\b\b\b\b\b\b\b\b\b\b\b\b\b\b\b\b\b\b\b\b\b\b\b\b\b\b\b                                                                       \b\b\b\b\b\b\b\b\b\b\b\b\b\b\b\b\b\b\b\b\b\b\b\b\b\b\b\b\b\b\b\b\b\b\b\b\b\b\b\b\b\b\b\b\b\b\b\b\b\b\b\b\b\b\b\b\b\b\b\b\b\b\b\b\b\b\b\b\b\b\b 87% 35449 - Dataset/Smarthome/Record/record_smarthome_7000040_1283.wav\b\b\b\b\b\b\b\b\b\b\b\b\b\b\b\b\b\b\b\b\b\b\b\b\b\b\b\b\b\b\b\b\b\b\b\b\b\b\b\b\b\b\b\b\b\b\b\b\b\b\b\b\b\b\b\b\b\b\b\b\b\b\b\b\b\b\b\b\b\b\b                                                                       \b\b\b\b\b\b\b\b\b\b\b\b\b\b\b\b\b\b\b\b\b\b\b\b\b\b\b\b\b\b\b\b\b\b\b\b\b\b\b\b\b\b\b\b\b\b\b\b\b\b\b\b\b\b\b\b\b\b\b\b\b\b\b\b\b\b\b\b\b\b\b 87% 35468 - Dataset/Smarthome/Record/record_smarthome_7000040_1446.wav\b\b\b\b\b\b\b\b\b\b\b\b\b\b\b\b\b\b\b\b\b\b\b\b\b\b\b\b\b\b\b\b\b\b\b\b\b\b\b\b\b\b\b\b\b\b\b\b\b\b\b\b\b\b\b\b\b\b\b\b\b\b\b\b\b\b\b\b\b\b\b                                                                       \b\b\b\b\b\b\b\b\b\b\b\b\b\b\b\b\b\b\b\b\b\b\b\b\b\b\b\b\b\b\b\b\b\b\b\b\b\b\b\b\b\b\b\b\b\b\b\b\b\b\b\b\b\b\b\b\b\b\b\b\b\b\b\b\b\b\b\b\b\b\b 87% 35490 - Dataset/Smarthome/Record/record_smarthome_7000040_1643.wav\b\b\b\b\b\b\b\b\b\b\b\b\b\b\b\b\b\b\b\b\b\b\b\b\b\b\b\b\b\b\b\b\b\b\b\b\b\b\b\b\b\b\b\b\b\b\b\b\b\b\b\b\b\b\b\b\b\b\b\b\b\b\b\b\b\b\b\b\b\b\b                                                                       \b\b\b\b\b\b\b\b\b\b\b\b\b\b\b\b\b\b\b\b\b\b\b\b\b\b\b\b\b\b\b\b\b\b\b\b\b\b\b\b\b\b\b\b\b\b\b\b\b\b\b\b\b\b\b\b\b\b\b\b\b\b\b\b\b\b\b\b\b\b\b 87% 35510 - Dataset/Smarthome/Record/record_smarthome_7000040_1789.wav\b\b\b\b\b\b\b\b\b\b\b\b\b\b\b\b\b\b\b\b\b\b\b\b\b\b\b\b\b\b\b\b\b\b\b\b\b\b\b\b\b\b\b\b\b\b\b\b\b\b\b\b\b\b\b\b\b\b\b\b\b\b\b\b\b\b\b\b\b\b\b                                                                       \b\b\b\b\b\b\b\b\b\b\b\b\b\b\b\b\b\b\b\b\b\b\b\b\b\b\b\b\b\b\b\b\b\b\b\b\b\b\b\b\b\b\b\b\b\b\b\b\b\b\b\b\b\b\b\b\b\b\b\b\b\b\b\b\b\b\b\b\b\b\b 87% 35531 - Dataset/Smarthome/Record/record_smarthome_7000040_1942.wav\b\b\b\b\b\b\b\b\b\b\b\b\b\b\b\b\b\b\b\b\b\b\b\b\b\b\b\b\b\b\b\b\b\b\b\b\b\b\b\b\b\b\b\b\b\b\b\b\b\b\b\b\b\b\b\b\b\b\b\b\b\b\b\b\b\b\b\b\b\b\b                                                                       \b\b\b\b\b\b\b\b\b\b\b\b\b\b\b\b\b\b\b\b\b\b\b\b\b\b\b\b\b\b\b\b\b\b\b\b\b\b\b\b\b\b\b\b\b\b\b\b\b\b\b\b\b\b\b\b\b\b\b\b\b\b\b\b\b\b\b\b\b\b\b 87% 35551 - Dataset/Smarthome/Record/record_smarthome_7000040_2145.wav\b\b\b\b\b\b\b\b\b\b\b\b\b\b\b\b\b\b\b\b\b\b\b\b\b\b\b\b\b\b\b\b\b\b\b\b\b\b\b\b\b\b\b\b\b\b\b\b\b\b\b\b\b\b\b\b\b\b\b\b\b\b\b\b\b\b\b\b\b\b\b                                                                       \b\b\b\b\b\b\b\b\b\b\b\b\b\b\b\b\b\b\b\b\b\b\b\b\b\b\b\b\b\b\b\b\b\b\b\b\b\b\b\b\b\b\b\b\b\b\b\b\b\b\b\b\b\b\b\b\b\b\b\b\b\b\b\b\b\b\b\b\b\b\b 88% 35573 - Dataset/Smarthome/Record/record_smarthome_7000040_2263.wav\b\b\b\b\b\b\b\b\b\b\b\b\b\b\b\b\b\b\b\b\b\b\b\b\b\b\b\b\b\b\b\b\b\b\b\b\b\b\b\b\b\b\b\b\b\b\b\b\b\b\b\b\b\b\b\b\b\b\b\b\b\b\b\b\b\b\b\b\b\b\b                                                                       \b\b\b\b\b\b\b\b\b\b\b\b\b\b\b\b\b\b\b\b\b\b\b\b\b\b\b\b\b\b\b\b\b\b\b\b\b\b\b\b\b\b\b\b\b\b\b\b\b\b\b\b\b\b\b\b\b\b\b\b\b\b\b\b\b\b\b\b\b\b\b 88% 35594 - Dataset/Smarthome/Record/record_smarthome_7000040_2437.wav\b\b\b\b\b\b\b\b\b\b\b\b\b\b\b\b\b\b\b\b\b\b\b\b\b\b\b\b\b\b\b\b\b\b\b\b\b\b\b\b\b\b\b\b\b\b\b\b\b\b\b\b\b\b\b\b\b\b\b\b\b\b\b\b\b\b\b\b\b\b\b                                                                       \b\b\b\b\b\b\b\b\b\b\b\b\b\b\b\b\b\b\b\b\b\b\b\b\b\b\b\b\b\b\b\b\b\b\b\b\b\b\b\b\b\b\b\b\b\b\b\b\b\b\b\b\b\b\b\b\b\b\b\b\b\b\b\b\b\b\b\b\b\b\b 88% 35615 - Dataset/Smarthome/Record/record_smarthome_7000040_2638.wav\b\b\b\b\b\b\b\b\b\b\b\b\b\b\b\b\b\b\b\b\b\b\b\b\b\b\b\b\b\b\b\b\b\b\b\b\b\b\b\b\b\b\b\b\b\b\b\b\b\b\b\b\b\b\b\b\b\b\b\b\b\b\b\b\b\b\b\b\b\b\b                                                                       \b\b\b\b\b\b\b\b\b\b\b\b\b\b\b\b\b\b\b\b\b\b\b\b\b\b\b\b\b\b\b\b\b\b\b\b\b\b\b\b\b\b\b\b\b\b\b\b\b\b\b\b\b\b\b\b\b\b\b\b\b\b\b\b\b\b\b\b\b\b\b 88% 35636 - Dataset/Smarthome/Record/record_smarthome_7000040_434.wav\b\b\b\b\b\b\b\b\b\b\b\b\b\b\b\b\b\b\b\b\b\b\b\b\b\b\b\b\b\b\b\b\b\b\b\b\b\b\b\b\b\b\b\b\b\b\b\b\b\b\b\b\b\b\b\b\b\b\b\b\b\b\b\b\b\b\b\b\b\b                                                                      \b\b\b\b\b\b\b\b\b\b\b\b\b\b\b\b\b\b\b\b\b\b\b\b\b\b\b\b\b\b\b\b\b\b\b\b\b\b\b\b\b\b\b\b\b\b\b\b\b\b\b\b\b\b\b\b\b\b\b\b\b\b\b\b\b\b\b\b\b\b 88% 35659 - Dataset/Smarthome/Record/record_smarthome_7000040_574.wav\b\b\b\b\b\b\b\b\b\b\b\b\b\b\b\b\b\b\b\b\b\b\b\b\b\b\b\b\b\b\b\b\b\b\b\b\b\b\b\b\b\b\b\b\b\b\b\b\b\b\b\b\b\b\b\b\b\b\b\b\b\b\b\b\b\b\b\b\b\b                                                                      \b\b\b\b\b\b\b\b\b\b\b\b\b\b\b\b\b\b\b\b\b\b\b\b\b\b\b\b\b\b\b\b\b\b\b\b\b\b\b\b\b\b\b\b\b\b\b\b\b\b\b\b\b\b\b\b\b\b\b\b\b\b\b\b\b\b\b\b\b\b 88% 35681 - Dataset/Smarthome/Record/record_smarthome_7000040_799.wav\b\b\b\b\b\b\b\b\b\b\b\b\b\b\b\b\b\b\b\b\b\b\b\b\b\b\b\b\b\b\b\b\b\b\b\b\b\b\b\b\b\b\b\b\b\b\b\b\b\b\b\b\b\b\b\b\b\b\b\b\b\b\b\b\b\b\b\b\b\b                                                                      \b\b\b\b\b\b\b\b\b\b\b\b\b\b\b\b\b\b\b\b\b\b\b\b\b\b\b\b\b\b\b\b\b\b\b\b\b\b\b\b\b\b\b\b\b\b\b\b\b\b\b\b\b\b\b\b\b\b\b\b\b\b\b\b\b\b\b\b\b\b 88% 35701 - Dataset/Smarthome/Record/record_smarthome_7000040_962.wav\b\b\b\b\b\b\b\b\b\b\b\b\b\b\b\b\b\b\b\b\b\b\b\b\b\b\b\b\b\b\b\b\b\b\b\b\b\b\b\b\b\b\b\b\b\b\b\b\b\b\b\b\b\b\b\b\b\b\b\b\b\b\b\b\b\b\b\b\b\b                                                                      \b\b\b\b\b\b\b\b\b\b\b\b\b\b\b\b\b\b\b\b\b\b\b\b\b\b\b\b\b\b\b\b\b\b\b\b\b\b\b\b\b\b\b\b\b\b\b\b\b\b\b\b\b\b\b\b\b\b\b\b\b\b\b\b\b\b\b\b\b\b 88% 35722 - Dataset/Smarthome/Record/record_smarthome_7000041_1062.wav\b\b\b\b\b\b\b\b\b\b\b\b\b\b\b\b\b\b\b\b\b\b\b\b\b\b\b\b\b\b\b\b\b\b\b\b\b\b\b\b\b\b\b\b\b\b\b\b\b\b\b\b\b\b\b\b\b\b\b\b\b\b\b\b\b\b\b\b\b\b\b                                                                       \b\b\b\b\b\b\b\b\b\b\b\b\b\b\b\b\b\b\b\b\b\b\b\b\b\b\b\b\b\b\b\b\b\b\b\b\b\b\b\b\b\b\b\b\b\b\b\b\b\b\b\b\b\b\b\b\b\b\b\b\b\b\b\b\b\b\b\b\b\b\b 88% 35742 - Dataset/Smarthome/Record/record_smarthome_7000041_1194.wav\b\b\b\b\b\b\b\b\b\b\b\b\b\b\b\b\b\b\b\b\b\b\b\b\b\b\b\b\b\b\b\b\b\b\b\b\b\b\b\b\b\b\b\b\b\b\b\b\b\b\b\b\b\b\b\b\b\b\b\b\b\b\b\b\b\b\b\b\b\b\b                                                                       \b\b\b\b\b\b\b\b\b\b\b\b\b\b\b\b\b\b\b\b\b\b\b\b\b\b\b\b\b\b\b\b\b\b\b\b\b\b\b\b\b\b\b\b\b\b\b\b\b\b\b\b\b\b\b\b\b\b\b\b\b\b\b\b\b\b\b\b\b\b\b 88% 35762 - Dataset/Smarthome/Record/record_smarthome_7000041_1318.wav\b\b\b\b\b\b\b\b\b\b\b\b\b\b\b\b\b\b\b\b\b\b\b\b\b\b\b\b\b\b\b\b\b\b\b\b\b\b\b\b\b\b\b\b\b\b\b\b\b\b\b\b\b\b\b\b\b\b\b\b\b\b\b\b\b\b\b\b\b\b\b                                                                       \b\b\b\b\b\b\b\b\b\b\b\b\b\b\b\b\b\b\b\b\b\b\b\b\b\b\b\b\b\b\b\b\b\b\b\b\b\b\b\b\b\b\b\b\b\b\b\b\b\b\b\b\b\b\b\b\b\b\b\b\b\b\b\b\b\b\b\b\b\b\b 89% 35782 - Dataset/Smarthome/Record/record_smarthome_7000041_1481.wav\b\b\b\b\b\b\b\b\b\b\b\b\b\b\b\b\b\b\b\b\b\b\b\b\b\b\b\b\b\b\b\b\b\b\b\b\b\b\b\b\b\b\b\b\b\b\b\b\b\b\b\b\b\b\b\b\b\b\b\b\b\b\b\b\b\b\b\b\b\b\b                                                                       \b\b\b\b\b\b\b\b\b\b\b\b\b\b\b\b\b\b\b\b\b\b\b\b\b\b\b\b\b\b\b\b\b\b\b\b\b\b\b\b\b\b\b\b\b\b\b\b\b\b\b\b\b\b\b\b\b\b\b\b\b\b\b\b\b\b\b\b\b\b\b 89% 35802 - Dataset/Smarthome/Record/record_smarthome_7000041_1611.wav\b\b\b\b\b\b\b\b\b\b\b\b\b\b\b\b\b\b\b\b\b\b\b\b\b\b\b\b\b\b\b\b\b\b\b\b\b\b\b\b\b\b\b\b\b\b\b\b\b\b\b\b\b\b\b\b\b\b\b\b\b\b\b\b\b\b\b\b\b\b\b                                                                       \b\b\b\b\b\b\b\b\b\b\b\b\b\b\b\b\b\b\b\b\b\b\b\b\b\b\b\b\b\b\b\b\b\b\b\b\b\b\b\b\b\b\b\b\b\b\b\b\b\b\b\b\b\b\b\b\b\b\b\b\b\b\b\b\b\b\b\b\b\b\b 89% 35822 - Dataset/Smarthome/Record/record_smarthome_7000041_177.wav\b\b\b\b\b\b\b\b\b\b\b\b\b\b\b\b\b\b\b\b\b\b\b\b\b\b\b\b\b\b\b\b\b\b\b\b\b\b\b\b\b\b\b\b\b\b\b\b\b\b\b\b\b\b\b\b\b\b\b\b\b\b\b\b\b\b\b\b\b\b                                                                      \b\b\b\b\b\b\b\b\b\b\b\b\b\b\b\b\b\b\b\b\b\b\b\b\b\b\b\b\b\b\b\b\b\b\b\b\b\b\b\b\b\b\b\b\b\b\b\b\b\b\b\b\b\b\b\b\b\b\b\b\b\b\b\b\b\b\b\b\b\b 89% 35842 - Dataset/Smarthome/Record/record_smarthome_7000041_1976.wav\b\b\b\b\b\b\b\b\b\b\b\b\b\b\b\b\b\b\b\b\b\b\b\b\b\b\b\b\b\b\b\b\b\b\b\b\b\b\b\b\b\b\b\b\b\b\b\b\b\b\b\b\b\b\b\b\b\b\b\b\b\b\b\b\b\b\b\b\b\b\b                                                                       \b\b\b\b\b\b\b\b\b\b\b\b\b\b\b\b\b\b\b\b\b\b\b\b\b\b\b\b\b\b\b\b\b\b\b\b\b\b\b\b\b\b\b\b\b\b\b\b\b\b\b\b\b\b\b\b\b\b\b\b\b\b\b\b\b\b\b\b\b\b\b 89% 35862 - Dataset/Smarthome/Record/record_smarthome_7000041_2173.wav\b\b\b\b\b\b\b\b\b\b\b\b\b\b\b\b\b\b\b\b\b\b\b\b\b\b\b\b\b\b\b\b\b\b\b\b\b\b\b\b\b\b\b\b\b\b\b\b\b\b\b\b\b\b\b\b\b\b\b\b\b\b\b\b\b\b\b\b\b\b\b                                                                       \b\b\b\b\b\b\b\b\b\b\b\b\b\b\b\b\b\b\b\b\b\b\b\b\b\b\b\b\b\b\b\b\b\b\b\b\b\b\b\b\b\b\b\b\b\b\b\b\b\b\b\b\b\b\b\b\b\b\b\b\b\b\b\b\b\b\b\b\b\b\b 89% 35881 - Dataset/Smarthome/Record/record_smarthome_7000041_2306.wav\b\b\b\b\b\b\b\b\b\b\b\b\b\b\b\b\b\b\b\b\b\b\b\b\b\b\b\b\b\b\b\b\b\b\b\b\b\b\b\b\b\b\b\b\b\b\b\b\b\b\b\b\b\b\b\b\b\b\b\b\b\b\b\b\b\b\b\b\b\b\b                                                                       \b\b\b\b\b\b\b\b\b\b\b\b\b\b\b\b\b\b\b\b\b\b\b\b\b\b\b\b\b\b\b\b\b\b\b\b\b\b\b\b\b\b\b\b\b\b\b\b\b\b\b\b\b\b\b\b\b\b\b\b\b\b\b\b\b\b\b\b\b\b\b 89% 35899 - Dataset/Smarthome/Record/record_smarthome_7000041_2476.wav\b\b\b\b\b\b\b\b\b\b\b\b\b\b\b\b\b\b\b\b\b\b\b\b\b\b\b\b\b\b\b\b\b\b\b\b\b\b\b\b\b\b\b\b\b\b\b\b\b\b\b\b\b\b\b\b\b\b\b\b\b\b\b\b\b\b\b\b\b\b\b                                                                       \b\b\b\b\b\b\b\b\b\b\b\b\b\b\b\b\b\b\b\b\b\b\b\b\b\b\b\b\b\b\b\b\b\b\b\b\b\b\b\b\b\b\b\b\b\b\b\b\b\b\b\b\b\b\b\b\b\b\b\b\b\b\b\b\b\b\b\b\b\b\b 89% 35919 - Dataset/Smarthome/Record/record_smarthome_7000041_278.wav\b\b\b\b\b\b\b\b\b\b\b\b\b\b\b\b\b\b\b\b\b\b\b\b\b\b\b\b\b\b\b\b\b\b\b\b\b\b\b\b\b\b\b\b\b\b\b\b\b\b\b\b\b\b\b\b\b\b\b\b\b\b\b\b\b\b\b\b\b\b                                                                      \b\b\b\b\b\b\b\b\b\b\b\b\b\b\b\b\b\b\b\b\b\b\b\b\b\b\b\b\b\b\b\b\b\b\b\b\b\b\b\b\b\b\b\b\b\b\b\b\b\b\b\b\b\b\b\b\b\b\b\b\b\b\b\b\b\b\b\b\b\b 90% 35939 - Dataset/Smarthome/Record/record_smarthome_7000041_442.wav\b\b\b\b\b\b\b\b\b\b\b\b\b\b\b\b\b\b\b\b\b\b\b\b\b\b\b\b\b\b\b\b\b\b\b\b\b\b\b\b\b\b\b\b\b\b\b\b\b\b\b\b\b\b\b\b\b\b\b\b\b\b\b\b\b\b\b\b\b\b                                                                      \b\b\b\b\b\b\b\b\b\b\b\b\b\b\b\b\b\b\b\b\b\b\b\b\b\b\b\b\b\b\b\b\b\b\b\b\b\b\b\b\b\b\b\b\b\b\b\b\b\b\b\b\b\b\b\b\b\b\b\b\b\b\b\b\b\b\b\b\b\b 90% 35959 - Dataset/Smarthome/Record/record_smarthome_7000041_587.wav\b\b\b\b\b\b\b\b\b\b\b\b\b\b\b\b\b\b\b\b\b\b\b\b\b\b\b\b\b\b\b\b\b\b\b\b\b\b\b\b\b\b\b\b\b\b\b\b\b\b\b\b\b\b\b\b\b\b\b\b\b\b\b\b\b\b\b\b\b\b                                                                      \b\b\b\b\b\b\b\b\b\b\b\b\b\b\b\b\b\b\b\b\b\b\b\b\b\b\b\b\b\b\b\b\b\b\b\b\b\b\b\b\b\b\b\b\b\b\b\b\b\b\b\b\b\b\b\b\b\b\b\b\b\b\b\b\b\b\b\b\b\b 90% 35975 - Dataset/Smarthome/Record/record_smarthome_7000041_708.wav\b\b\b\b\b\b\b\b\b\b\b\b\b\b\b\b\b\b\b\b\b\b\b\b\b\b\b\b\b\b\b\b\b\b\b\b\b\b\b\b\b\b\b\b\b\b\b\b\b\b\b\b\b\b\b\b\b\b\b\b\b\b\b\b\b\b\b\b\b\b                                                                      \b\b\b\b\b\b\b\b\b\b\b\b\b\b\b\b\b\b\b\b\b\b\b\b\b\b\b\b\b\b\b\b\b\b\b\b\b\b\b\b\b\b\b\b\b\b\b\b\b\b\b\b\b\b\b\b\b\b\b\b\b\b\b\b\b\b\b\b\b\b 90% 35994 - Dataset/Smarthome/Record/record_smarthome_7000041_855.wav\b\b\b\b\b\b\b\b\b\b\b\b\b\b\b\b\b\b\b\b\b\b\b\b\b\b\b\b\b\b\b\b\b\b\b\b\b\b\b\b\b\b\b\b\b\b\b\b\b\b\b\b\b\b\b\b\b\b\b\b\b\b\b\b\b\b\b\b\b\b                                                                      \b\b\b\b\b\b\b\b\b\b\b\b\b\b\b\b\b\b\b\b\b\b\b\b\b\b\b\b\b\b\b\b\b\b\b\b\b\b\b\b\b\b\b\b\b\b\b\b\b\b\b\b\b\b\b\b\b\b\b\b\b\b\b\b\b\b\b\b\b\b 90% 36013 - Dataset/Smarthome/Record/record_smarthome_7000042_1012.wav\b\b\b\b\b\b\b\b\b\b\b\b\b\b\b\b\b\b\b\b\b\b\b\b\b\b\b\b\b\b\b\b\b\b\b\b\b\b\b\b\b\b\b\b\b\b\b\b\b\b\b\b\b\b\b\b\b\b\b\b\b\b\b\b\b\b\b\b\b\b\b                                                                       \b\b\b\b\b\b\b\b\b\b\b\b\b\b\b\b\b\b\b\b\b\b\b\b\b\b\b\b\b\b\b\b\b\b\b\b\b\b\b\b\b\b\b\b\b\b\b\b\b\b\b\b\b\b\b\b\b\b\b\b\b\b\b\b\b\b\b\b\b\b\b 90% 36036 - Dataset/Smarthome/Record/record_smarthome_7000042_1183.wav\b\b\b\b\b\b\b\b\b\b\b\b\b\b\b\b\b\b\b\b\b\b\b\b\b\b\b\b\b\b\b\b\b\b\b\b\b\b\b\b\b\b\b\b\b\b\b\b\b\b\b\b\b\b\b\b\b\b\b\b\b\b\b\b\b\b\b\b\b\b\b                                                                       \b\b\b\b\b\b\b\b\b\b\b\b\b\b\b\b\b\b\b\b\b\b\b\b\b\b\b\b\b\b\b\b\b\b\b\b\b\b\b\b\b\b\b\b\b\b\b\b\b\b\b\b\b\b\b\b\b\b\b\b\b\b\b\b\b\b\b\b\b\b\b 90% 36060 - Dataset/Smarthome/Record/record_smarthome_7000042_1377.wav\b\b\b\b\b\b\b\b\b\b\b\b\b\b\b\b\b\b\b\b\b\b\b\b\b\b\b\b\b\b\b\b\b\b\b\b\b\b\b\b\b\b\b\b\b\b\b\b\b\b\b\b\b\b\b\b\b\b\b\b\b\b\b\b\b\b\b\b\b\b\b                                                                       \b\b\b\b\b\b\b\b\b\b\b\b\b\b\b\b\b\b\b\b\b\b\b\b\b\b\b\b\b\b\b\b\b\b\b\b\b\b\b\b\b\b\b\b\b\b\b\b\b\b\b\b\b\b\b\b\b\b\b\b\b\b\b\b\b\b\b\b\b\b\b 90% 36083 - Dataset/Smarthome/Record/record_smarthome_7000042_1514.wav\b\b\b\b\b\b\b\b\b\b\b\b\b\b\b\b\b\b\b\b\b\b\b\b\b\b\b\b\b\b\b\b\b\b\b\b\b\b\b\b\b\b\b\b\b\b\b\b\b\b\b\b\b\b\b\b\b\b\b\b\b\b\b\b\b\b\b\b\b\b\b                                                                       \b\b\b\b\b\b\b\b\b\b\b\b\b\b\b\b\b\b\b\b\b\b\b\b\b\b\b\b\b\b\b\b\b\b\b\b\b\b\b\b\b\b\b\b\b\b\b\b\b\b\b\b\b\b\b\b\b\b\b\b\b\b\b\b\b\b\b\b\b\b\b 90% 36106 - Dataset/Smarthome/Record/record_smarthome_7000042_1727.wav\b\b\b\b\b\b\b\b\b\b\b\b\b\b\b\b\b\b\b\b\b\b\b\b\b\b\b\b\b\b\b\b\b\b\b\b\b\b\b\b\b\b\b\b\b\b\b\b\b\b\b\b\b\b\b\b\b\b\b\b\b\b\b\b\b\b\b\b\b\b\b                                                                       \b\b\b\b\b\b\b\b\b\b\b\b\b\b\b\b\b\b\b\b\b\b\b\b\b\b\b\b\b\b\b\b\b\b\b\b\b\b\b\b\b\b\b\b\b\b\b\b\b\b\b\b\b\b\b\b\b\b\b\b\b\b\b\b\b\b\b\b\b\b\b 90% 36130 - Dataset/Smarthome/Record/record_smarthome_7000042_1878.wav\b\b\b\b\b\b\b\b\b\b\b\b\b\b\b\b\b\b\b\b\b\b\b\b\b\b\b\b\b\b\b\b\b\b\b\b\b\b\b\b\b\b\b\b\b\b\b\b\b\b\b\b\b\b\b\b\b\b\b\b\b\b\b\b\b\b\b\b\b\b\b                                                                       \b\b\b\b\b\b\b\b\b\b\b\b\b\b\b\b\b\b\b\b\b\b\b\b\b\b\b\b\b\b\b\b\b\b\b\b\b\b\b\b\b\b\b\b\b\b\b\b\b\b\b\b\b\b\b\b\b\b\b\b\b\b\b\b\b\b\b\b\b\b\b 90% 36153 - Dataset/Smarthome/Record/record_smarthome_7000042_2128.wav\b\b\b\b\b\b\b\b\b\b\b\b\b\b\b\b\b\b\b\b\b\b\b\b\b\b\b\b\b\b\b\b\b\b\b\b\b\b\b\b\b\b\b\b\b\b\b\b\b\b\b\b\b\b\b\b\b\b\b\b\b\b\b\b\b\b\b\b\b\b\b                                                                       \b\b\b\b\b\b\b\b\b\b\b\b\b\b\b\b\b\b\b\b\b\b\b\b\b\b\b\b\b\b\b\b\b\b\b\b\b\b\b\b\b\b\b\b\b\b\b\b\b\b\b\b\b\b\b\b\b\b\b\b\b\b\b\b\b\b\b\b\b\b\b 90% 36176 - Dataset/Smarthome/Record/record_smarthome_7000042_2352.wav\b\b\b\b\b\b\b\b\b\b\b\b\b\b\b\b\b\b\b\b\b\b\b\b\b\b\b\b\b\b\b\b\b\b\b\b\b\b\b\b\b\b\b\b\b\b\b\b\b\b\b\b\b\b\b\b\b\b\b\b\b\b\b\b\b\b\b\b\b\b\b                                                                       \b\b\b\b\b\b\b\b\b\b\b\b\b\b\b\b\b\b\b\b\b\b\b\b\b\b\b\b\b\b\b\b\b\b\b\b\b\b\b\b\b\b\b\b\b\b\b\b\b\b\b\b\b\b\b\b\b\b\b\b\b\b\b\b\b\b\b\b\b\b\b 90% 36199 - Dataset/Smarthome/Record/record_smarthome_7000042_25.wav\b\b\b\b\b\b\b\b\b\b\b\b\b\b\b\b\b\b\b\b\b\b\b\b\b\b\b\b\b\b\b\b\b\b\b\b\b\b\b\b\b\b\b\b\b\b\b\b\b\b\b\b\b\b\b\b\b\b\b\b\b\b\b\b\b\b\b\b\b                                                                     \b\b\b\b\b\b\b\b\b\b\b\b\b\b\b\b\b\b\b\b\b\b\b\b\b\b\b\b\b\b\b\b\b\b\b\b\b\b\b\b\b\b\b\b\b\b\b\b\b\b\b\b\b\b\b\b\b\b\b\b\b\b\b\b\b\b\b\b\b 90% 36222 - Dataset/Smarthome/Record/record_smarthome_7000042_300.wav\b\b\b\b\b\b\b\b\b\b\b\b\b\b\b\b\b\b\b\b\b\b\b\b\b\b\b\b\b\b\b\b\b\b\b\b\b\b\b\b\b\b\b\b\b\b\b\b\b\b\b\b\b\b\b\b\b\b\b\b\b\b\b\b\b\b\b\b\b\b                                                                      \b\b\b\b\b\b\b\b\b\b\b\b\b\b\b\b\b\b\b\b\b\b\b\b\b\b\b\b\b\b\b\b\b\b\b\b\b\b\b\b\b\b\b\b\b\b\b\b\b\b\b\b\b\b\b\b\b\b\b\b\b\b\b\b\b\b\b\b\b\b 91% 36245 - Dataset/Smarthome/Record/record_smarthome_7000042_464.wav\b\b\b\b\b\b\b\b\b\b\b\b\b\b\b\b\b\b\b\b\b\b\b\b\b\b\b\b\b\b\b\b\b\b\b\b\b\b\b\b\b\b\b\b\b\b\b\b\b\b\b\b\b\b\b\b\b\b\b\b\b\b\b\b\b\b\b\b\b\b                                                                      \b\b\b\b\b\b\b\b\b\b\b\b\b\b\b\b\b\b\b\b\b\b\b\b\b\b\b\b\b\b\b\b\b\b\b\b\b\b\b\b\b\b\b\b\b\b\b\b\b\b\b\b\b\b\b\b\b\b\b\b\b\b\b\b\b\b\b\b\b\b 91% 36269 - Dataset/Smarthome/Record/record_smarthome_7000042_651.wav\b\b\b\b\b\b\b\b\b\b\b\b\b\b\b\b\b\b\b\b\b\b\b\b\b\b\b\b\b\b\b\b\b\b\b\b\b\b\b\b\b\b\b\b\b\b\b\b\b\b\b\b\b\b\b\b\b\b\b\b\b\b\b\b\b\b\b\b\b\b                                                                      \b\b\b\b\b\b\b\b\b\b\b\b\b\b\b\b\b\b\b\b\b\b\b\b\b\b\b\b\b\b\b\b\b\b\b\b\b\b\b\b\b\b\b\b\b\b\b\b\b\b\b\b\b\b\b\b\b\b\b\b\b\b\b\b\b\b\b\b\b\b 91% 36292 - Dataset/Smarthome/Record/record_smarthome_7000042_836.wav\b\b\b\b\b\b\b\b\b\b\b\b\b\b\b\b\b\b\b\b\b\b\b\b\b\b\b\b\b\b\b\b\b\b\b\b\b\b\b\b\b\b\b\b\b\b\b\b\b\b\b\b\b\b\b\b\b\b\b\b\b\b\b\b\b\b\b\b\b\b                                                                      \b\b\b\b\b\b\b\b\b\b\b\b\b\b\b\b\b\b\b\b\b\b\b\b\b\b\b\b\b\b\b\b\b\b\b\b\b\b\b\b\b\b\b\b\b\b\b\b\b\b\b\b\b\b\b\b\b\b\b\b\b\b\b\b\b\b\b\b\b\b 91% 36314 - Dataset/Smarthome/Record/record_smarthome_7000043_1024.wav\b\b\b\b\b\b\b\b\b\b\b\b\b\b\b\b\b\b\b\b\b\b\b\b\b\b\b\b\b\b\b\b\b\b\b\b\b\b\b\b\b\b\b\b\b\b\b\b\b\b\b\b\b\b\b\b\b\b\b\b\b\b\b\b\b\b\b\b\b\b\b                                                                       \b\b\b\b\b\b\b\b\b\b\b\b\b\b\b\b\b\b\b\b\b\b\b\b\b\b\b\b\b\b\b\b\b\b\b\b\b\b\b\b\b\b\b\b\b\b\b\b\b\b\b\b\b\b\b\b\b\b\b\b\b\b\b\b\b\b\b\b\b\b\b 91% 36331 - Dataset/Smarthome/Record/record_smarthome_7000043_1137.wav\b\b\b\b\b\b\b\b\b\b\b\b\b\b\b\b\b\b\b\b\b\b\b\b\b\b\b\b\b\b\b\b\b\b\b\b\b\b\b\b\b\b\b\b\b\b\b\b\b\b\b\b\b\b\b\b\b\b\b\b\b\b\b\b\b\b\b\b\b\b\b                                                                       \b\b\b\b\b\b\b\b\b\b\b\b\b\b\b\b\b\b\b\b\b\b\b\b\b\b\b\b\b\b\b\b\b\b\b\b\b\b\b\b\b\b\b\b\b\b\b\b\b\b\b\b\b\b\b\b\b\b\b\b\b\b\b\b\b\b\b\b\b\b\b 91% 36348 - Dataset/Smarthome/Record/record_smarthome_7000043_1251.wav\b\b\b\b\b\b\b\b\b\b\b\b\b\b\b\b\b\b\b\b\b\b\b\b\b\b\b\b\b\b\b\b\b\b\b\b\b\b\b\b\b\b\b\b\b\b\b\b\b\b\b\b\b\b\b\b\b\b\b\b\b\b\b\b\b\b\b\b\b\b\b                                                                       \b\b\b\b\b\b\b\b\b\b\b\b\b\b\b\b\b\b\b\b\b\b\b\b\b\b\b\b\b\b\b\b\b\b\b\b\b\b\b\b\b\b\b\b\b\b\b\b\b\b\b\b\b\b\b\b\b\b\b\b\b\b\b\b\b\b\b\b\b\b\b 91% 36365 - Dataset/Smarthome/Record/record_smarthome_7000043_1367.wav\b\b\b\b\b\b\b\b\b\b\b\b\b\b\b\b\b\b\b\b\b\b\b\b\b\b\b\b\b\b\b\b\b\b\b\b\b\b\b\b\b\b\b\b\b\b\b\b\b\b\b\b\b\b\b\b\b\b\b\b\b\b\b\b\b\b\b\b\b\b\b                                                                       \b\b\b\b\b\b\b\b\b\b\b\b\b\b\b\b\b\b\b\b\b\b\b\b\b\b\b\b\b\b\b\b\b\b\b\b\b\b\b\b\b\b\b\b\b\b\b\b\b\b\b\b\b\b\b\b\b\b\b\b\b\b\b\b\b\b\b\b\b\b\b 91% 36383 - Dataset/Smarthome/Record/record_smarthome_7000043_1546.wav\b\b\b\b\b\b\b\b\b\b\b\b\b\b\b\b\b\b\b\b\b\b\b\b\b\b\b\b\b\b\b\b\b\b\b\b\b\b\b\b\b\b\b\b\b\b\b\b\b\b\b\b\b\b\b\b\b\b\b\b\b\b\b\b\b\b\b\b\b\b\b                                                                       \b\b\b\b\b\b\b\b\b\b\b\b\b\b\b\b\b\b\b\b\b\b\b\b\b\b\b\b\b\b\b\b\b\b\b\b\b\b\b\b\b\b\b\b\b\b\b\b\b\b\b\b\b\b\b\b\b\b\b\b\b\b\b\b\b\b\b\b\b\b\b 91% 36400 - Dataset/Smarthome/Record/record_smarthome_7000043_1671.wav\b\b\b\b\b\b\b\b\b\b\b\b\b\b\b\b\b\b\b\b\b\b\b\b\b\b\b\b\b\b\b\b\b\b\b\b\b\b\b\b\b\b\b\b\b\b\b\b\b\b\b\b\b\b\b\b\b\b\b\b\b\b\b\b\b\b\b\b\b\b\b                                                                       \b\b\b\b\b\b\b\b\b\b\b\b\b\b\b\b\b\b\b\b\b\b\b\b\b\b\b\b\b\b\b\b\b\b\b\b\b\b\b\b\b\b\b\b\b\b\b\b\b\b\b\b\b\b\b\b\b\b\b\b\b\b\b\b\b\b\b\b\b\b\b 91% 36417 - Dataset/Smarthome/Record/record_smarthome_7000043_1812.wav\b\b\b\b\b\b\b\b\b\b\b\b\b\b\b\b\b\b\b\b\b\b\b\b\b\b\b\b\b\b\b\b\b\b\b\b\b\b\b\b\b\b\b\b\b\b\b\b\b\b\b\b\b\b\b\b\b\b\b\b\b\b\b\b\b\b\b\b\b\b\b                                                                       \b\b\b\b\b\b\b\b\b\b\b\b\b\b\b\b\b\b\b\b\b\b\b\b\b\b\b\b\b\b\b\b\b\b\b\b\b\b\b\b\b\b\b\b\b\b\b\b\b\b\b\b\b\b\b\b\b\b\b\b\b\b\b\b\b\b\b\b\b\b\b 91% 36434 - Dataset/Smarthome/Record/record_smarthome_7000043_1945.wav\b\b\b\b\b\b\b\b\b\b\b\b\b\b\b\b\b\b\b\b\b\b\b\b\b\b\b\b\b\b\b\b\b\b\b\b\b\b\b\b\b\b\b\b\b\b\b\b\b\b\b\b\b\b\b\b\b\b\b\b\b\b\b\b\b\b\b\b\b\b\b                                                                       \b\b\b\b\b\b\b\b\b\b\b\b\b\b\b\b\b\b\b\b\b\b\b\b\b\b\b\b\b\b\b\b\b\b\b\b\b\b\b\b\b\b\b\b\b\b\b\b\b\b\b\b\b\b\b\b\b\b\b\b\b\b\b\b\b\b\b\b\b\b\b 91% 36452 - Dataset/Smarthome/Record/record_smarthome_7000043_204.wav\b\b\b\b\b\b\b\b\b\b\b\b\b\b\b\b\b\b\b\b\b\b\b\b\b\b\b\b\b\b\b\b\b\b\b\b\b\b\b\b\b\b\b\b\b\b\b\b\b\b\b\b\b\b\b\b\b\b\b\b\b\b\b\b\b\b\b\b\b\b                                                                      \b\b\b\b\b\b\b\b\b\b\b\b\b\b\b\b\b\b\b\b\b\b\b\b\b\b\b\b\b\b\b\b\b\b\b\b\b\b\b\b\b\b\b\b\b\b\b\b\b\b\b\b\b\b\b\b\b\b\b\b\b\b\b\b\b\b\b\b\b\b 92% 36470 - Dataset/Smarthome/Record/record_smarthome_7000043_2175.wav\b\b\b\b\b\b\b\b\b\b\b\b\b\b\b\b\b\b\b\b\b\b\b\b\b\b\b\b\b\b\b\b\b\b\b\b\b\b\b\b\b\b\b\b\b\b\b\b\b\b\b\b\b\b\b\b\b\b\b\b\b\b\b\b\b\b\b\b\b\b\b                                                                       \b\b\b\b\b\b\b\b\b\b\b\b\b\b\b\b\b\b\b\b\b\b\b\b\b\b\b\b\b\b\b\b\b\b\b\b\b\b\b\b\b\b\b\b\b\b\b\b\b\b\b\b\b\b\b\b\b\b\b\b\b\b\b\b\b\b\b\b\b\b\b 92% 36488 - Dataset/Smarthome/Record/record_smarthome_7000043_2366.wav\b\b\b\b\b\b\b\b\b\b\b\b\b\b\b\b\b\b\b\b\b\b\b\b\b\b\b\b\b\b\b\b\b\b\b\b\b\b\b\b\b\b\b\b\b\b\b\b\b\b\b\b\b\b\b\b\b\b\b\b\b\b\b\b\b\b\b\b\b\b\b                                                                       \b\b\b\b\b\b\b\b\b\b\b\b\b\b\b\b\b\b\b\b\b\b\b\b\b\b\b\b\b\b\b\b\b\b\b\b\b\b\b\b\b\b\b\b\b\b\b\b\b\b\b\b\b\b\b\b\b\b\b\b\b\b\b\b\b\b\b\b\b\b\b 92% 36504 - Dataset/Smarthome/Record/record_smarthome_7000043_2531.wav\b\b\b\b\b\b\b\b\b\b\b\b\b\b\b\b\b\b\b\b\b\b\b\b\b\b\b\b\b\b\b\b\b\b\b\b\b\b\b\b\b\b\b\b\b\b\b\b\b\b\b\b\b\b\b\b\b\b\b\b\b\b\b\b\b\b\b\b\b\b\b                                                                       \b\b\b\b\b\b\b\b\b\b\b\b\b\b\b\b\b\b\b\b\b\b\b\b\b\b\b\b\b\b\b\b\b\b\b\b\b\b\b\b\b\b\b\b\b\b\b\b\b\b\b\b\b\b\b\b\b\b\b\b\b\b\b\b\b\b\b\b\b\b\b 92% 36521 - Dataset/Smarthome/Record/record_smarthome_7000043_2629.wav\b\b\b\b\b\b\b\b\b\b\b\b\b\b\b\b\b\b\b\b\b\b\b\b\b\b\b\b\b\b\b\b\b\b\b\b\b\b\b\b\b\b\b\b\b\b\b\b\b\b\b\b\b\b\b\b\b\b\b\b\b\b\b\b\b\b\b\b\b\b\b                                                                       \b\b\b\b\b\b\b\b\b\b\b\b\b\b\b\b\b\b\b\b\b\b\b\b\b\b\b\b\b\b\b\b\b\b\b\b\b\b\b\b\b\b\b\b\b\b\b\b\b\b\b\b\b\b\b\b\b\b\b\b\b\b\b\b\b\b\b\b\b\b\b 92% 36536 - Dataset/Smarthome/Record/record_smarthome_7000043_376.wav\b\b\b\b\b\b\b\b\b\b\b\b\b\b\b\b\b\b\b\b\b\b\b\b\b\b\b\b\b\b\b\b\b\b\b\b\b\b\b\b\b\b\b\b\b\b\b\b\b\b\b\b\b\b\b\b\b\b\b\b\b\b\b\b\b\b\b\b\b\b                                                                      \b\b\b\b\b\b\b\b\b\b\b\b\b\b\b\b\b\b\b\b\b\b\b\b\b\b\b\b\b\b\b\b\b\b\b\b\b\b\b\b\b\b\b\b\b\b\b\b\b\b\b\b\b\b\b\b\b\b\b\b\b\b\b\b\b\b\b\b\b\b 92% 36554 - Dataset/Smarthome/Record/record_smarthome_7000043_553.wav\b\b\b\b\b\b\b\b\b\b\b\b\b\b\b\b\b\b\b\b\b\b\b\b\b\b\b\b\b\b\b\b\b\b\b\b\b\b\b\b\b\b\b\b\b\b\b\b\b\b\b\b\b\b\b\b\b\b\b\b\b\b\b\b\b\b\b\b\b\b                                                                      \b\b\b\b\b\b\b\b\b\b\b\b\b\b\b\b\b\b\b\b\b\b\b\b\b\b\b\b\b\b\b\b\b\b\b\b\b\b\b\b\b\b\b\b\b\b\b\b\b\b\b\b\b\b\b\b\b\b\b\b\b\b\b\b\b\b\b\b\b\b 92% 36571 - Dataset/Smarthome/Record/record_smarthome_7000043_696.wav\b\b\b\b\b\b\b\b\b\b\b\b\b\b\b\b\b\b\b\b\b\b\b\b\b\b\b\b\b\b\b\b\b\b\b\b\b\b\b\b\b\b\b\b\b\b\b\b\b\b\b\b\b\b\b\b\b\b\b\b\b\b\b\b\b\b\b\b\b\b                                                                      \b\b\b\b\b\b\b\b\b\b\b\b\b\b\b\b\b\b\b\b\b\b\b\b\b\b\b\b\b\b\b\b\b\b\b\b\b\b\b\b\b\b\b\b\b\b\b\b\b\b\b\b\b\b\b\b\b\b\b\b\b\b\b\b\b\b\b\b\b\b 92% 36588 - Dataset/Smarthome/Record/record_smarthome_7000043_853.wav\b\b\b\b\b\b\b\b\b\b\b\b\b\b\b\b\b\b\b\b\b\b\b\b\b\b\b\b\b\b\b\b\b\b\b\b\b\b\b\b\b\b\b\b\b\b\b\b\b\b\b\b\b\b\b\b\b\b\b\b\b\b\b\b\b\b\b\b\b\b                                                                      \b\b\b\b\b\b\b\b\b\b\b\b\b\b\b\b\b\b\b\b\b\b\b\b\b\b\b\b\b\b\b\b\b\b\b\b\b\b\b\b\b\b\b\b\b\b\b\b\b\b\b\b\b\b\b\b\b\b\b\b\b\b\b\b\b\b\b\b\b\b 92% 36605 - Dataset/Smarthome/Record/record_smarthome_7000043_973.wav\b\b\b\b\b\b\b\b\b\b\b\b\b\b\b\b\b\b\b\b\b\b\b\b\b\b\b\b\b\b\b\b\b\b\b\b\b\b\b\b\b\b\b\b\b\b\b\b\b\b\b\b\b\b\b\b\b\b\b\b\b\b\b\b\b\b\b\b\b\b                                                                      \b\b\b\b\b\b\b\b\b\b\b\b\b\b\b\b\b\b\b\b\b\b\b\b\b\b\b\b\b\b\b\b\b\b\b\b\b\b\b\b\b\b\b\b\b\b\b\b\b\b\b\b\b\b\b\b\b\b\b\b\b\b\b\b\b\b\b\b\b\b 92% 36623 - Dataset/Smarthome/Record/record_smarthome_7000044_1124.wav\b\b\b\b\b\b\b\b\b\b\b\b\b\b\b\b\b\b\b\b\b\b\b\b\b\b\b\b\b\b\b\b\b\b\b\b\b\b\b\b\b\b\b\b\b\b\b\b\b\b\b\b\b\b\b\b\b\b\b\b\b\b\b\b\b\b\b\b\b\b\b                                                                       \b\b\b\b\b\b\b\b\b\b\b\b\b\b\b\b\b\b\b\b\b\b\b\b\b\b\b\b\b\b\b\b\b\b\b\b\b\b\b\b\b\b\b\b\b\b\b\b\b\b\b\b\b\b\b\b\b\b\b\b\b\b\b\b\b\b\b\b\b\b\b 93% 36642 - Dataset/Smarthome/Record/record_smarthome_7000044_1287.wav\b\b\b\b\b\b\b\b\b\b\b\b\b\b\b\b\b\b\b\b\b\b\b\b\b\b\b\b\b\b\b\b\b\b\b\b\b\b\b\b\b\b\b\b\b\b\b\b\b\b\b\b\b\b\b\b\b\b\b\b\b\b\b\b\b\b\b\b\b\b\b                                                                       \b\b\b\b\b\b\b\b\b\b\b\b\b\b\b\b\b\b\b\b\b\b\b\b\b\b\b\b\b\b\b\b\b\b\b\b\b\b\b\b\b\b\b\b\b\b\b\b\b\b\b\b\b\b\b\b\b\b\b\b\b\b\b\b\b\b\b\b\b\b\b 93% 36663 - Dataset/Smarthome/Record/record_smarthome_7000044_1432.wav\b\b\b\b\b\b\b\b\b\b\b\b\b\b\b\b\b\b\b\b\b\b\b\b\b\b\b\b\b\b\b\b\b\b\b\b\b\b\b\b\b\b\b\b\b\b\b\b\b\b\b\b\b\b\b\b\b\b\b\b\b\b\b\b\b\b\b\b\b\b\b                                                                       \b\b\b\b\b\b\b\b\b\b\b\b\b\b\b\b\b\b\b\b\b\b\b\b\b\b\b\b\b\b\b\b\b\b\b\b\b\b\b\b\b\b\b\b\b\b\b\b\b\b\b\b\b\b\b\b\b\b\b\b\b\b\b\b\b\b\b\b\b\b\b 93% 36683 - Dataset/Smarthome/Record/record_smarthome_7000044_1619.wav\b\b\b\b\b\b\b\b\b\b\b\b\b\b\b\b\b\b\b\b\b\b\b\b\b\b\b\b\b\b\b\b\b\b\b\b\b\b\b\b\b\b\b\b\b\b\b\b\b\b\b\b\b\b\b\b\b\b\b\b\b\b\b\b\b\b\b\b\b\b\b                                                                       \b\b\b\b\b\b\b\b\b\b\b\b\b\b\b\b\b\b\b\b\b\b\b\b\b\b\b\b\b\b\b\b\b\b\b\b\b\b\b\b\b\b\b\b\b\b\b\b\b\b\b\b\b\b\b\b\b\b\b\b\b\b\b\b\b\b\b\b\b\b\b 93% 36702 - Dataset/Smarthome/Record/record_smarthome_7000044_1779.wav\b\b\b\b\b\b\b\b\b\b\b\b\b\b\b\b\b\b\b\b\b\b\b\b\b\b\b\b\b\b\b\b\b\b\b\b\b\b\b\b\b\b\b\b\b\b\b\b\b\b\b\b\b\b\b\b\b\b\b\b\b\b\b\b\b\b\b\b\b\b\b                                                                       \b\b\b\b\b\b\b\b\b\b\b\b\b\b\b\b\b\b\b\b\b\b\b\b\b\b\b\b\b\b\b\b\b\b\b\b\b\b\b\b\b\b\b\b\b\b\b\b\b\b\b\b\b\b\b\b\b\b\b\b\b\b\b\b\b\b\b\b\b\b\b 93% 36721 - Dataset/Smarthome/Record/record_smarthome_7000044_1893.wav\b\b\b\b\b\b\b\b\b\b\b\b\b\b\b\b\b\b\b\b\b\b\b\b\b\b\b\b\b\b\b\b\b\b\b\b\b\b\b\b\b\b\b\b\b\b\b\b\b\b\b\b\b\b\b\b\b\b\b\b\b\b\b\b\b\b\b\b\b\b\b                                                                       \b\b\b\b\b\b\b\b\b\b\b\b\b\b\b\b\b\b\b\b\b\b\b\b\b\b\b\b\b\b\b\b\b\b\b\b\b\b\b\b\b\b\b\b\b\b\b\b\b\b\b\b\b\b\b\b\b\b\b\b\b\b\b\b\b\b\b\b\b\b\b 93% 36734 - Dataset/Smarthome/Record/record_smarthome_7000044_1948.wav\b\b\b\b\b\b\b\b\b\b\b\b\b\b\b\b\b\b\b\b\b\b\b\b\b\b\b\b\b\b\b\b\b\b\b\b\b\b\b\b\b\b\b\b\b\b\b\b\b\b\b\b\b\b\b\b\b\b\b\b\b\b\b\b\b\b\b\b\b\b\b                                                                       \b\b\b\b\b\b\b\b\b\b\b\b\b\b\b\b\b\b\b\b\b\b\b\b\b\b\b\b\b\b\b\b\b\b\b\b\b\b\b\b\b\b\b\b\b\b\b\b\b\b\b\b\b\b\b\b\b\b\b\b\b\b\b\b\b\b\b\b\b\b\b 93% 36748 - Dataset/Smarthome/Record/record_smarthome_7000044_2049.wav\b\b\b\b\b\b\b\b\b\b\b\b\b\b\b\b\b\b\b\b\b\b\b\b\b\b\b\b\b\b\b\b\b\b\b\b\b\b\b\b\b\b\b\b\b\b\b\b\b\b\b\b\b\b\b\b\b\b\b\b\b\b\b\b\b\b\b\b\b\b\b                                                                       \b\b\b\b\b\b\b\b\b\b\b\b\b\b\b\b\b\b\b\b\b\b\b\b\b\b\b\b\b\b\b\b\b\b\b\b\b\b\b\b\b\b\b\b\b\b\b\b\b\b\b\b\b\b\b\b\b\b\b\b\b\b\b\b\b\b\b\b\b\b\b 93% 36767 - Dataset/Smarthome/Record/record_smarthome_7000044_2186.wav\b\b\b\b\b\b\b\b\b\b\b\b\b\b\b\b\b\b\b\b\b\b\b\b\b\b\b\b\b\b\b\b\b\b\b\b\b\b\b\b\b\b\b\b\b\b\b\b\b\b\b\b\b\b\b\b\b\b\b\b\b\b\b\b\b\b\b\b\b\b\b                                                                       \b\b\b\b\b\b\b\b\b\b\b\b\b\b\b\b\b\b\b\b\b\b\b\b\b\b\b\b\b\b\b\b\b\b\b\b\b\b\b\b\b\b\b\b\b\b\b\b\b\b\b\b\b\b\b\b\b\b\b\b\b\b\b\b\b\b\b\b\b\b\b 93% 36786 - Dataset/Smarthome/Record/record_smarthome_7000044_2326.wav\b\b\b\b\b\b\b\b\b\b\b\b\b\b\b\b\b\b\b\b\b\b\b\b\b\b\b\b\b\b\b\b\b\b\b\b\b\b\b\b\b\b\b\b\b\b\b\b\b\b\b\b\b\b\b\b\b\b\b\b\b\b\b\b\b\b\b\b\b\b\b                                                                       \b\b\b\b\b\b\b\b\b\b\b\b\b\b\b\b\b\b\b\b\b\b\b\b\b\b\b\b\b\b\b\b\b\b\b\b\b\b\b\b\b\b\b\b\b\b\b\b\b\b\b\b\b\b\b\b\b\b\b\b\b\b\b\b\b\b\b\b\b\b\b 93% 36803 - Dataset/Smarthome/Record/record_smarthome_7000044_2492.wav\b\b\b\b\b\b\b\b\b\b\b\b\b\b\b\b\b\b\b\b\b\b\b\b\b\b\b\b\b\b\b\b\b\b\b\b\b\b\b\b\b\b\b\b\b\b\b\b\b\b\b\b\b\b\b\b\b\b\b\b\b\b\b\b\b\b\b\b\b\b\b                                                                       \b\b\b\b\b\b\b\b\b\b\b\b\b\b\b\b\b\b\b\b\b\b\b\b\b\b\b\b\b\b\b\b\b\b\b\b\b\b\b\b\b\b\b\b\b\b\b\b\b\b\b\b\b\b\b\b\b\b\b\b\b\b\b\b\b\b\b\b\b\b\b 93% 36813 - Dataset/Smarthome/Record/record_smarthome_7000044_2538.wav\b\b\b\b\b\b\b\b\b\b\b\b\b\b\b\b\b\b\b\b\b\b\b\b\b\b\b\b\b\b\b\b\b\b\b\b\b\b\b\b\b\b\b\b\b\b\b\b\b\b\b\b\b\b\b\b\b\b\b\b\b\b\b\b\b\b\b\b\b\b\b                                                                       \b\b\b\b\b\b\b\b\b\b\b\b\b\b\b\b\b\b\b\b\b\b\b\b\b\b\b\b\b\b\b\b\b\b\b\b\b\b\b\b\b\b\b\b\b\b\b\b\b\b\b\b\b\b\b\b\b\b\b\b\b\b\b\b\b\b\b\b\b\b\b 94% 36829 - Dataset/Smarthome/Record/record_smarthome_7000044_301.wav\b\b\b\b\b\b\b\b\b\b\b\b\b\b\b\b\b\b\b\b\b\b\b\b\b\b\b\b\b\b\b\b\b\b\b\b\b\b\b\b\b\b\b\b\b\b\b\b\b\b\b\b\b\b\b\b\b\b\b\b\b\b\b\b\b\b\b\b\b\b                                                                      \b\b\b\b\b\b\b\b\b\b\b\b\b\b\b\b\b\b\b\b\b\b\b\b\b\b\b\b\b\b\b\b\b\b\b\b\b\b\b\b\b\b\b\b\b\b\b\b\b\b\b\b\b\b\b\b\b\b\b\b\b\b\b\b\b\b\b\b\b\b 94% 36849 - Dataset/Smarthome/Record/record_smarthome_7000044_406.wav\b\b\b\b\b\b\b\b\b\b\b\b\b\b\b\b\b\b\b\b\b\b\b\b\b\b\b\b\b\b\b\b\b\b\b\b\b\b\b\b\b\b\b\b\b\b\b\b\b\b\b\b\b\b\b\b\b\b\b\b\b\b\b\b\b\b\b\b\b\b                                                                      \b\b\b\b\b\b\b\b\b\b\b\b\b\b\b\b\b\b\b\b\b\b\b\b\b\b\b\b\b\b\b\b\b\b\b\b\b\b\b\b\b\b\b\b\b\b\b\b\b\b\b\b\b\b\b\b\b\b\b\b\b\b\b\b\b\b\b\b\b\b 94% 36868 - Dataset/Smarthome/Record/record_smarthome_7000044_606.wav\b\b\b\b\b\b\b\b\b\b\b\b\b\b\b\b\b\b\b\b\b\b\b\b\b\b\b\b\b\b\b\b\b\b\b\b\b\b\b\b\b\b\b\b\b\b\b\b\b\b\b\b\b\b\b\b\b\b\b\b\b\b\b\b\b\b\b\b\b\b                                                                      \b\b\b\b\b\b\b\b\b\b\b\b\b\b\b\b\b\b\b\b\b\b\b\b\b\b\b\b\b\b\b\b\b\b\b\b\b\b\b\b\b\b\b\b\b\b\b\b\b\b\b\b\b\b\b\b\b\b\b\b\b\b\b\b\b\b\b\b\b\b 94% 36883 - Dataset/Smarthome/Record/record_smarthome_7000044_680.wav\b\b\b\b\b\b\b\b\b\b\b\b\b\b\b\b\b\b\b\b\b\b\b\b\b\b\b\b\b\b\b\b\b\b\b\b\b\b\b\b\b\b\b\b\b\b\b\b\b\b\b\b\b\b\b\b\b\b\b\b\b\b\b\b\b\b\b\b\b\b                                                                      \b\b\b\b\b\b\b\b\b\b\b\b\b\b\b\b\b\b\b\b\b\b\b\b\b\b\b\b\b\b\b\b\b\b\b\b\b\b\b\b\b\b\b\b\b\b\b\b\b\b\b\b\b\b\b\b\b\b\b\b\b\b\b\b\b\b\b\b\b\b 94% 36894 - Dataset/Smarthome/Record/record_smarthome_7000044_796.wav\b\b\b\b\b\b\b\b\b\b\b\b\b\b\b\b\b\b\b\b\b\b\b\b\b\b\b\b\b\b\b\b\b\b\b\b\b\b\b\b\b\b\b\b\b\b\b\b\b\b\b\b\b\b\b\b\b\b\b\b\b\b\b\b\b\b\b\b\b\b                                                                      \b\b\b\b\b\b\b\b\b\b\b\b\b\b\b\b\b\b\b\b\b\b\b\b\b\b\b\b\b\b\b\b\b\b\b\b\b\b\b\b\b\b\b\b\b\b\b\b\b\b\b\b\b\b\b\b\b\b\b\b\b\b\b\b\b\b\b\b\b\b 94% 36914 - Dataset/Smarthome/Record/record_smarthome_7000050_1015.wav\b\b\b\b\b\b\b\b\b\b\b\b\b\b\b\b\b\b\b\b\b\b\b\b\b\b\b\b\b\b\b\b\b\b\b\b\b\b\b\b\b\b\b\b\b\b\b\b\b\b\b\b\b\b\b\b\b\b\b\b\b\b\b\b\b\b\b\b\b\b\b                                                                       \b\b\b\b\b\b\b\b\b\b\b\b\b\b\b\b\b\b\b\b\b\b\b\b\b\b\b\b\b\b\b\b\b\b\b\b\b\b\b\b\b\b\b\b\b\b\b\b\b\b\b\b\b\b\b\b\b\b\b\b\b\b\b\b\b\b\b\b\b\b\b 94% 36933 - Dataset/Smarthome/Record/record_smarthome_7000050_116.wav\b\b\b\b\b\b\b\b\b\b\b\b\b\b\b\b\b\b\b\b\b\b\b\b\b\b\b\b\b\b\b\b\b\b\b\b\b\b\b\b\b\b\b\b\b\b\b\b\b\b\b\b\b\b\b\b\b\b\b\b\b\b\b\b\b\b\b\b\b\b                                                                      \b\b\b\b\b\b\b\b\b\b\b\b\b\b\b\b\b\b\b\b\b\b\b\b\b\b\b\b\b\b\b\b\b\b\b\b\b\b\b\b\b\b\b\b\b\b\b\b\b\b\b\b\b\b\b\b\b\b\b\b\b\b\b\b\b\b\b\b\b\b 94% 36953 - Dataset/Smarthome/Record/record_smarthome_7000050_1340.wav\b\b\b\b\b\b\b\b\b\b\b\b\b\b\b\b\b\b\b\b\b\b\b\b\b\b\b\b\b\b\b\b\b\b\b\b\b\b\b\b\b\b\b\b\b\b\b\b\b\b\b\b\b\b\b\b\b\b\b\b\b\b\b\b\b\b\b\b\b\b\b                                                                       \b\b\b\b\b\b\b\b\b\b\b\b\b\b\b\b\b\b\b\b\b\b\b\b\b\b\b\b\b\b\b\b\b\b\b\b\b\b\b\b\b\b\b\b\b\b\b\b\b\b\b\b\b\b\b\b\b\b\b\b\b\b\b\b\b\b\b\b\b\b\b 94% 36971 - Dataset/Smarthome/Record/record_smarthome_7000050_146.wav\b\b\b\b\b\b\b\b\b\b\b\b\b\b\b\b\b\b\b\b\b\b\b\b\b\b\b\b\b\b\b\b\b\b\b\b\b\b\b\b\b\b\b\b\b\b\b\b\b\b\b\b\b\b\b\b\b\b\b\b\b\b\b\b\b\b\b\b\b\b                                                                      \b\b\b\b\b\b\b\b\b\b\b\b\b\b\b\b\b\b\b\b\b\b\b\b\b\b\b\b\b\b\b\b\b\b\b\b\b\b\b\b\b\b\b\b\b\b\b\b\b\b\b\b\b\b\b\b\b\b\b\b\b\b\b\b\b\b\b\b\b\b 94% 36991 - Dataset/Smarthome/Record/record_smarthome_7000050_1649.wav\b\b\b\b\b\b\b\b\b\b\b\b\b\b\b\b\b\b\b\b\b\b\b\b\b\b\b\b\b\b\b\b\b\b\b\b\b\b\b\b\b\b\b\b\b\b\b\b\b\b\b\b\b\b\b\b\b\b\b\b\b\b\b\b\b\b\b\b\b\b\b                                                                       \b\b\b\b\b\b\b\b\b\b\b\b\b\b\b\b\b\b\b\b\b\b\b\b\b\b\b\b\b\b\b\b\b\b\b\b\b\b\b\b\b\b\b\b\b\b\b\b\b\b\b\b\b\b\b\b\b\b\b\b\b\b\b\b\b\b\b\b\b\b\b 94% 37010 - Dataset/Smarthome/Record/record_smarthome_7000050_1789.wav\b\b\b\b\b\b\b\b\b\b\b\b\b\b\b\b\b\b\b\b\b\b\b\b\b\b\b\b\b\b\b\b\b\b\b\b\b\b\b\b\b\b\b\b\b\b\b\b\b\b\b\b\b\b\b\b\b\b\b\b\b\b\b\b\b\b\b\b\b\b\b                                                                       \b\b\b\b\b\b\b\b\b\b\b\b\b\b\b\b\b\b\b\b\b\b\b\b\b\b\b\b\b\b\b\b\b\b\b\b\b\b\b\b\b\b\b\b\b\b\b\b\b\b\b\b\b\b\b\b\b\b\b\b\b\b\b\b\b\b\b\b\b\b\b 94% 37029 - Dataset/Smarthome/Record/record_smarthome_7000050_1934.wav\b\b\b\b\b\b\b\b\b\b\b\b\b\b\b\b\b\b\b\b\b\b\b\b\b\b\b\b\b\b\b\b\b\b\b\b\b\b\b\b\b\b\b\b\b\b\b\b\b\b\b\b\b\b\b\b\b\b\b\b\b\b\b\b\b\b\b\b\b\b\b                                                                       \b\b\b\b\b\b\b\b\b\b\b\b\b\b\b\b\b\b\b\b\b\b\b\b\b\b\b\b\b\b\b\b\b\b\b\b\b\b\b\b\b\b\b\b\b\b\b\b\b\b\b\b\b\b\b\b\b\b\b\b\b\b\b\b\b\b\b\b\b\b\b 94% 37048 - Dataset/Smarthome/Record/record_smarthome_7000050_2117.wav\b\b\b\b\b\b\b\b\b\b\b\b\b\b\b\b\b\b\b\b\b\b\b\b\b\b\b\b\b\b\b\b\b\b\b\b\b\b\b\b\b\b\b\b\b\b\b\b\b\b\b\b\b\b\b\b\b\b\b\b\b\b\b\b\b\b\b\b\b\b\b                                                                       \b\b\b\b\b\b\b\b\b\b\b\b\b\b\b\b\b\b\b\b\b\b\b\b\b\b\b\b\b\b\b\b\b\b\b\b\b\b\b\b\b\b\b\b\b\b\b\b\b\b\b\b\b\b\b\b\b\b\b\b\b\b\b\b\b\b\b\b\b\b\b 94% 37065 - Dataset/Smarthome/Record/record_smarthome_7000050_2240.wav\b\b\b\b\b\b\b\b\b\b\b\b\b\b\b\b\b\b\b\b\b\b\b\b\b\b\b\b\b\b\b\b\b\b\b\b\b\b\b\b\b\b\b\b\b\b\b\b\b\b\b\b\b\b\b\b\b\b\b\b\b\b\b\b\b\b\b\b\b\b\b                                                                       \b\b\b\b\b\b\b\b\b\b\b\b\b\b\b\b\b\b\b\b\b\b\b\b\b\b\b\b\b\b\b\b\b\b\b\b\b\b\b\b\b\b\b\b\b\b\b\b\b\b\b\b\b\b\b\b\b\b\b\b\b\b\b\b\b\b\b\b\b\b\b 95% 37085 - Dataset/Smarthome/Record/record_smarthome_7000050_2376.wav\b\b\b\b\b\b\b\b\b\b\b\b\b\b\b\b\b\b\b\b\b\b\b\b\b\b\b\b\b\b\b\b\b\b\b\b\b\b\b\b\b\b\b\b\b\b\b\b\b\b\b\b\b\b\b\b\b\b\b\b\b\b\b\b\b\b\b\b\b\b\b                                                                       \b\b\b\b\b\b\b\b\b\b\b\b\b\b\b\b\b\b\b\b\b\b\b\b\b\b\b\b\b\b\b\b\b\b\b\b\b\b\b\b\b\b\b\b\b\b\b\b\b\b\b\b\b\b\b\b\b\b\b\b\b\b\b\b\b\b\b\b\b\b\b 95% 37104 - Dataset/Smarthome/Record/record_smarthome_7000050_2519.wav\b\b\b\b\b\b\b\b\b\b\b\b\b\b\b\b\b\b\b\b\b\b\b\b\b\b\b\b\b\b\b\b\b\b\b\b\b\b\b\b\b\b\b\b\b\b\b\b\b\b\b\b\b\b\b\b\b\b\b\b\b\b\b\b\b\b\b\b\b\b\b                                                                       \b\b\b\b\b\b\b\b\b\b\b\b\b\b\b\b\b\b\b\b\b\b\b\b\b\b\b\b\b\b\b\b\b\b\b\b\b\b\b\b\b\b\b\b\b\b\b\b\b\b\b\b\b\b\b\b\b\b\b\b\b\b\b\b\b\b\b\b\b\b\b 95% 37123 - Dataset/Smarthome/Record/record_smarthome_7000050_289.wav\b\b\b\b\b\b\b\b\b\b\b\b\b\b\b\b\b\b\b\b\b\b\b\b\b\b\b\b\b\b\b\b\b\b\b\b\b\b\b\b\b\b\b\b\b\b\b\b\b\b\b\b\b\b\b\b\b\b\b\b\b\b\b\b\b\b\b\b\b\b                                                                      \b\b\b\b\b\b\b\b\b\b\b\b\b\b\b\b\b\b\b\b\b\b\b\b\b\b\b\b\b\b\b\b\b\b\b\b\b\b\b\b\b\b\b\b\b\b\b\b\b\b\b\b\b\b\b\b\b\b\b\b\b\b\b\b\b\b\b\b\b\b 95% 37142 - Dataset/Smarthome/Record/record_smarthome_7000050_472.wav\b\b\b\b\b\b\b\b\b\b\b\b\b\b\b\b\b\b\b\b\b\b\b\b\b\b\b\b\b\b\b\b\b\b\b\b\b\b\b\b\b\b\b\b\b\b\b\b\b\b\b\b\b\b\b\b\b\b\b\b\b\b\b\b\b\b\b\b\b\b                                                                      \b\b\b\b\b\b\b\b\b\b\b\b\b\b\b\b\b\b\b\b\b\b\b\b\b\b\b\b\b\b\b\b\b\b\b\b\b\b\b\b\b\b\b\b\b\b\b\b\b\b\b\b\b\b\b\b\b\b\b\b\b\b\b\b\b\b\b\b\b\b 95% 37162 - Dataset/Smarthome/Record/record_smarthome_7000050_609.wav\b\b\b\b\b\b\b\b\b\b\b\b\b\b\b\b\b\b\b\b\b\b\b\b\b\b\b\b\b\b\b\b\b\b\b\b\b\b\b\b\b\b\b\b\b\b\b\b\b\b\b\b\b\b\b\b\b\b\b\b\b\b\b\b\b\b\b\b\b\b                                                                      \b\b\b\b\b\b\b\b\b\b\b\b\b\b\b\b\b\b\b\b\b\b\b\b\b\b\b\b\b\b\b\b\b\b\b\b\b\b\b\b\b\b\b\b\b\b\b\b\b\b\b\b\b\b\b\b\b\b\b\b\b\b\b\b\b\b\b\b\b\b 95% 37183 - Dataset/Smarthome/Record/record_smarthome_7000050_820.wav\b\b\b\b\b\b\b\b\b\b\b\b\b\b\b\b\b\b\b\b\b\b\b\b\b\b\b\b\b\b\b\b\b\b\b\b\b\b\b\b\b\b\b\b\b\b\b\b\b\b\b\b\b\b\b\b\b\b\b\b\b\b\b\b\b\b\b\b\b\b                                                                      \b\b\b\b\b\b\b\b\b\b\b\b\b\b\b\b\b\b\b\b\b\b\b\b\b\b\b\b\b\b\b\b\b\b\b\b\b\b\b\b\b\b\b\b\b\b\b\b\b\b\b\b\b\b\b\b\b\b\b\b\b\b\b\b\b\b\b\b\b\b 95% 37202 - Dataset/Smarthome/Record/record_smarthome_7000050_963.wav\b\b\b\b\b\b\b\b\b\b\b\b\b\b\b\b\b\b\b\b\b\b\b\b\b\b\b\b\b\b\b\b\b\b\b\b\b\b\b\b\b\b\b\b\b\b\b\b\b\b\b\b\b\b\b\b\b\b\b\b\b\b\b\b\b\b\b\b\b\b                                                                      \b\b\b\b\b\b\b\b\b\b\b\b\b\b\b\b\b\b\b\b\b\b\b\b\b\b\b\b\b\b\b\b\b\b\b\b\b\b\b\b\b\b\b\b\b\b\b\b\b\b\b\b\b\b\b\b\b\b\b\b\b\b\b\b\b\b\b\b\b\b 95% 37221 - Dataset/Smarthome/Record/record_smarthome_7000051_1085.wav\b\b\b\b\b\b\b\b\b\b\b\b\b\b\b\b\b\b\b\b\b\b\b\b\b\b\b\b\b\b\b\b\b\b\b\b\b\b\b\b\b\b\b\b\b\b\b\b\b\b\b\b\b\b\b\b\b\b\b\b\b\b\b\b\b\b\b\b\b\b\b                                                                       \b\b\b\b\b\b\b\b\b\b\b\b\b\b\b\b\b\b\b\b\b\b\b\b\b\b\b\b\b\b\b\b\b\b\b\b\b\b\b\b\b\b\b\b\b\b\b\b\b\b\b\b\b\b\b\b\b\b\b\b\b\b\b\b\b\b\b\b\b\b\b 95% 37239 - Dataset/Smarthome/Record/record_smarthome_7000051_1202.wav\b\b\b\b\b\b\b\b\b\b\b\b\b\b\b\b\b\b\b\b\b\b\b\b\b\b\b\b\b\b\b\b\b\b\b\b\b\b\b\b\b\b\b\b\b\b\b\b\b\b\b\b\b\b\b\b\b\b\b\b\b\b\b\b\b\b\b\b\b\b\b                                                                       \b\b\b\b\b\b\b\b\b\b\b\b\b\b\b\b\b\b\b\b\b\b\b\b\b\b\b\b\b\b\b\b\b\b\b\b\b\b\b\b\b\b\b\b\b\b\b\b\b\b\b\b\b\b\b\b\b\b\b\b\b\b\b\b\b\b\b\b\b\b\b 95% 37258 - Dataset/Smarthome/Record/record_smarthome_7000051_1427.wav\b\b\b\b\b\b\b\b\b\b\b\b\b\b\b\b\b\b\b\b\b\b\b\b\b\b\b\b\b\b\b\b\b\b\b\b\b\b\b\b\b\b\b\b\b\b\b\b\b\b\b\b\b\b\b\b\b\b\b\b\b\b\b\b\b\b\b\b\b\b\b                                                                       \b\b\b\b\b\b\b\b\b\b\b\b\b\b\b\b\b\b\b\b\b\b\b\b\b\b\b\b\b\b\b\b\b\b\b\b\b\b\b\b\b\b\b\b\b\b\b\b\b\b\b\b\b\b\b\b\b\b\b\b\b\b\b\b\b\b\b\b\b\b\b 95% 37276 - Dataset/Smarthome/Record/record_smarthome_7000051_158.wav\b\b\b\b\b\b\b\b\b\b\b\b\b\b\b\b\b\b\b\b\b\b\b\b\b\b\b\b\b\b\b\b\b\b\b\b\b\b\b\b\b\b\b\b\b\b\b\b\b\b\b\b\b\b\b\b\b\b\b\b\b\b\b\b\b\b\b\b\b\b                                                                      \b\b\b\b\b\b\b\b\b\b\b\b\b\b\b\b\b\b\b\b\b\b\b\b\b\b\b\b\b\b\b\b\b\b\b\b\b\b\b\b\b\b\b\b\b\b\b\b\b\b\b\b\b\b\b\b\b\b\b\b\b\b\b\b\b\b\b\b\b\b 95% 37294 - Dataset/Smarthome/Record/record_smarthome_7000051_1679.wav\b\b\b\b\b\b\b\b\b\b\b\b\b\b\b\b\b\b\b\b\b\b\b\b\b\b\b\b\b\b\b\b\b\b\b\b\b\b\b\b\b\b\b\b\b\b\b\b\b\b\b\b\b\b\b\b\b\b\b\b\b\b\b\b\b\b\b\b\b\b\b                                                                       \b\b\b\b\b\b\b\b\b\b\b\b\b\b\b\b\b\b\b\b\b\b\b\b\b\b\b\b\b\b\b\b\b\b\b\b\b\b\b\b\b\b\b\b\b\b\b\b\b\b\b\b\b\b\b\b\b\b\b\b\b\b\b\b\b\b\b\b\b\b\b 95% 37312 - Dataset/Smarthome/Record/record_smarthome_7000051_1843.wav\b\b\b\b\b\b\b\b\b\b\b\b\b\b\b\b\b\b\b\b\b\b\b\b\b\b\b\b\b\b\b\b\b\b\b\b\b\b\b\b\b\b\b\b\b\b\b\b\b\b\b\b\b\b\b\b\b\b\b\b\b\b\b\b\b\b\b\b\b\b\b                                                                       \b\b\b\b\b\b\b\b\b\b\b\b\b\b\b\b\b\b\b\b\b\b\b\b\b\b\b\b\b\b\b\b\b\b\b\b\b\b\b\b\b\b\b\b\b\b\b\b\b\b\b\b\b\b\b\b\b\b\b\b\b\b\b\b\b\b\b\b\b\b\b 95% 37330 - Dataset/Smarthome/Record/record_smarthome_7000051_1964.wav\b\b\b\b\b\b\b\b\b\b\b\b\b\b\b\b\b\b\b\b\b\b\b\b\b\b\b\b\b\b\b\b\b\b\b\b\b\b\b\b\b\b\b\b\b\b\b\b\b\b\b\b\b\b\b\b\b\b\b\b\b\b\b\b\b\b\b\b\b\b\b                                                                       \b\b\b\b\b\b\b\b\b\b\b\b\b\b\b\b\b\b\b\b\b\b\b\b\b\b\b\b\b\b\b\b\b\b\b\b\b\b\b\b\b\b\b\b\b\b\b\b\b\b\b\b\b\b\b\b\b\b\b\b\b\b\b\b\b\b\b\b\b\b\b 96% 37348 - Dataset/Smarthome/Record/record_smarthome_7000051_2118.wav\b\b\b\b\b\b\b\b\b\b\b\b\b\b\b\b\b\b\b\b\b\b\b\b\b\b\b\b\b\b\b\b\b\b\b\b\b\b\b\b\b\b\b\b\b\b\b\b\b\b\b\b\b\b\b\b\b\b\b\b\b\b\b\b\b\b\b\b\b\b\b                                                                       \b\b\b\b\b\b\b\b\b\b\b\b\b\b\b\b\b\b\b\b\b\b\b\b\b\b\b\b\b\b\b\b\b\b\b\b\b\b\b\b\b\b\b\b\b\b\b\b\b\b\b\b\b\b\b\b\b\b\b\b\b\b\b\b\b\b\b\b\b\b\b 96% 37366 - Dataset/Smarthome/Record/record_smarthome_7000051_2250.wav\b\b\b\b\b\b\b\b\b\b\b\b\b\b\b\b\b\b\b\b\b\b\b\b\b\b\b\b\b\b\b\b\b\b\b\b\b\b\b\b\b\b\b\b\b\b\b\b\b\b\b\b\b\b\b\b\b\b\b\b\b\b\b\b\b\b\b\b\b\b\b                                                                       \b\b\b\b\b\b\b\b\b\b\b\b\b\b\b\b\b\b\b\b\b\b\b\b\b\b\b\b\b\b\b\b\b\b\b\b\b\b\b\b\b\b\b\b\b\b\b\b\b\b\b\b\b\b\b\b\b\b\b\b\b\b\b\b\b\b\b\b\b\b\b 96% 37384 - Dataset/Smarthome/Record/record_smarthome_7000051_2430.wav\b\b\b\b\b\b\b\b\b\b\b\b\b\b\b\b\b\b\b\b\b\b\b\b\b\b\b\b\b\b\b\b\b\b\b\b\b\b\b\b\b\b\b\b\b\b\b\b\b\b\b\b\b\b\b\b\b\b\b\b\b\b\b\b\b\b\b\b\b\b\b                                                                       \b\b\b\b\b\b\b\b\b\b\b\b\b\b\b\b\b\b\b\b\b\b\b\b\b\b\b\b\b\b\b\b\b\b\b\b\b\b\b\b\b\b\b\b\b\b\b\b\b\b\b\b\b\b\b\b\b\b\b\b\b\b\b\b\b\b\b\b\b\b\b 96% 37402 - Dataset/Smarthome/Record/record_smarthome_7000051_2529.wav\b\b\b\b\b\b\b\b\b\b\b\b\b\b\b\b\b\b\b\b\b\b\b\b\b\b\b\b\b\b\b\b\b\b\b\b\b\b\b\b\b\b\b\b\b\b\b\b\b\b\b\b\b\b\b\b\b\b\b\b\b\b\b\b\b\b\b\b\b\b\b                                                                       \b\b\b\b\b\b\b\b\b\b\b\b\b\b\b\b\b\b\b\b\b\b\b\b\b\b\b\b\b\b\b\b\b\b\b\b\b\b\b\b\b\b\b\b\b\b\b\b\b\b\b\b\b\b\b\b\b\b\b\b\b\b\b\b\b\b\b\b\b\b\b 96% 37420 - Dataset/Smarthome/Record/record_smarthome_7000051_31.wav\b\b\b\b\b\b\b\b\b\b\b\b\b\b\b\b\b\b\b\b\b\b\b\b\b\b\b\b\b\b\b\b\b\b\b\b\b\b\b\b\b\b\b\b\b\b\b\b\b\b\b\b\b\b\b\b\b\b\b\b\b\b\b\b\b\b\b\b\b                                                                     \b\b\b\b\b\b\b\b\b\b\b\b\b\b\b\b\b\b\b\b\b\b\b\b\b\b\b\b\b\b\b\b\b\b\b\b\b\b\b\b\b\b\b\b\b\b\b\b\b\b\b\b\b\b\b\b\b\b\b\b\b\b\b\b\b\b\b\b\b 96% 37438 - Dataset/Smarthome/Record/record_smarthome_7000051_421.wav\b\b\b\b\b\b\b\b\b\b\b\b\b\b\b\b\b\b\b\b\b\b\b\b\b\b\b\b\b\b\b\b\b\b\b\b\b\b\b\b\b\b\b\b\b\b\b\b\b\b\b\b\b\b\b\b\b\b\b\b\b\b\b\b\b\b\b\b\b\b                                                                      \b\b\b\b\b\b\b\b\b\b\b\b\b\b\b\b\b\b\b\b\b\b\b\b\b\b\b\b\b\b\b\b\b\b\b\b\b\b\b\b\b\b\b\b\b\b\b\b\b\b\b\b\b\b\b\b\b\b\b\b\b\b\b\b\b\b\b\b\b\b 96% 37457 - Dataset/Smarthome/Record/record_smarthome_7000051_556.wav\b\b\b\b\b\b\b\b\b\b\b\b\b\b\b\b\b\b\b\b\b\b\b\b\b\b\b\b\b\b\b\b\b\b\b\b\b\b\b\b\b\b\b\b\b\b\b\b\b\b\b\b\b\b\b\b\b\b\b\b\b\b\b\b\b\b\b\b\b\b                                                                      \b\b\b\b\b\b\b\b\b\b\b\b\b\b\b\b\b\b\b\b\b\b\b\b\b\b\b\b\b\b\b\b\b\b\b\b\b\b\b\b\b\b\b\b\b\b\b\b\b\b\b\b\b\b\b\b\b\b\b\b\b\b\b\b\b\b\b\b\b\b 96% 37474 - Dataset/Smarthome/Record/record_smarthome_7000051_732.wav\b\b\b\b\b\b\b\b\b\b\b\b\b\b\b\b\b\b\b\b\b\b\b\b\b\b\b\b\b\b\b\b\b\b\b\b\b\b\b\b\b\b\b\b\b\b\b\b\b\b\b\b\b\b\b\b\b\b\b\b\b\b\b\b\b\b\b\b\b\b                                                                      \b\b\b\b\b\b\b\b\b\b\b\b\b\b\b\b\b\b\b\b\b\b\b\b\b\b\b\b\b\b\b\b\b\b\b\b\b\b\b\b\b\b\b\b\b\b\b\b\b\b\b\b\b\b\b\b\b\b\b\b\b\b\b\b\b\b\b\b\b\b 96% 37493 - Dataset/Smarthome/Record/record_smarthome_7000051_886.wav\b\b\b\b\b\b\b\b\b\b\b\b\b\b\b\b\b\b\b\b\b\b\b\b\b\b\b\b\b\b\b\b\b\b\b\b\b\b\b\b\b\b\b\b\b\b\b\b\b\b\b\b\b\b\b\b\b\b\b\b\b\b\b\b\b\b\b\b\b\b                                                                      \b\b\b\b\b\b\b\b\b\b\b\b\b\b\b\b\b\b\b\b\b\b\b\b\b\b\b\b\b\b\b\b\b\b\b\b\b\b\b\b\b\b\b\b\b\b\b\b\b\b\b\b\b\b\b\b\b\b\b\b\b\b\b\b\b\b\b\b\b\b 96% 37511 - Dataset/Smarthome/Record/record_smarthome_7000052_1004.wav\b\b\b\b\b\b\b\b\b\b\b\b\b\b\b\b\b\b\b\b\b\b\b\b\b\b\b\b\b\b\b\b\b\b\b\b\b\b\b\b\b\b\b\b\b\b\b\b\b\b\b\b\b\b\b\b\b\b\b\b\b\b\b\b\b\b\b\b\b\b\b                                                                       \b\b\b\b\b\b\b\b\b\b\b\b\b\b\b\b\b\b\b\b\b\b\b\b\b\b\b\b\b\b\b\b\b\b\b\b\b\b\b\b\b\b\b\b\b\b\b\b\b\b\b\b\b\b\b\b\b\b\b\b\b\b\b\b\b\b\b\b\b\b\b 96% 37532 - Dataset/Smarthome/Record/record_smarthome_7000052_1177.wav\b\b\b\b\b\b\b\b\b\b\b\b\b\b\b\b\b\b\b\b\b\b\b\b\b\b\b\b\b\b\b\b\b\b\b\b\b\b\b\b\b\b\b\b\b\b\b\b\b\b\b\b\b\b\b\b\b\b\b\b\b\b\b\b\b\b\b\b\b\b\b                                                                       \b\b\b\b\b\b\b\b\b\b\b\b\b\b\b\b\b\b\b\b\b\b\b\b\b\b\b\b\b\b\b\b\b\b\b\b\b\b\b\b\b\b\b\b\b\b\b\b\b\b\b\b\b\b\b\b\b\b\b\b\b\b\b\b\b\b\b\b\b\b\b 96% 37552 - Dataset/Smarthome/Record/record_smarthome_7000052_1417.wav\b\b\b\b\b\b\b\b\b\b\b\b\b\b\b\b\b\b\b\b\b\b\b\b\b\b\b\b\b\b\b\b\b\b\b\b\b\b\b\b\b\b\b\b\b\b\b\b\b\b\b\b\b\b\b\b\b\b\b\b\b\b\b\b\b\b\b\b\b\b\b                                                                       \b\b\b\b\b\b\b\b\b\b\b\b\b\b\b\b\b\b\b\b\b\b\b\b\b\b\b\b\b\b\b\b\b\b\b\b\b\b\b\b\b\b\b\b\b\b\b\b\b\b\b\b\b\b\b\b\b\b\b\b\b\b\b\b\b\b\b\b\b\b\b 96% 37573 - Dataset/Smarthome/Record/record_smarthome_7000052_1530.wav\b\b\b\b\b\b\b\b\b\b\b\b\b\b\b\b\b\b\b\b\b\b\b\b\b\b\b\b\b\b\b\b\b\b\b\b\b\b\b\b\b\b\b\b\b\b\b\b\b\b\b\b\b\b\b\b\b\b\b\b\b\b\b\b\b\b\b\b\b\b\b                                                                       \b\b\b\b\b\b\b\b\b\b\b\b\b\b\b\b\b\b\b\b\b\b\b\b\b\b\b\b\b\b\b\b\b\b\b\b\b\b\b\b\b\b\b\b\b\b\b\b\b\b\b\b\b\b\b\b\b\b\b\b\b\b\b\b\b\b\b\b\b\b\b 97% 37592 - Dataset/Smarthome/Record/record_smarthome_7000052_1734.wav\b\b\b\b\b\b\b\b\b\b\b\b\b\b\b\b\b\b\b\b\b\b\b\b\b\b\b\b\b\b\b\b\b\b\b\b\b\b\b\b\b\b\b\b\b\b\b\b\b\b\b\b\b\b\b\b\b\b\b\b\b\b\b\b\b\b\b\b\b\b\b                                                                       \b\b\b\b\b\b\b\b\b\b\b\b\b\b\b\b\b\b\b\b\b\b\b\b\b\b\b\b\b\b\b\b\b\b\b\b\b\b\b\b\b\b\b\b\b\b\b\b\b\b\b\b\b\b\b\b\b\b\b\b\b\b\b\b\b\b\b\b\b\b\b 97% 37613 - Dataset/Smarthome/Record/record_smarthome_7000052_1894.wav\b\b\b\b\b\b\b\b\b\b\b\b\b\b\b\b\b\b\b\b\b\b\b\b\b\b\b\b\b\b\b\b\b\b\b\b\b\b\b\b\b\b\b\b\b\b\b\b\b\b\b\b\b\b\b\b\b\b\b\b\b\b\b\b\b\b\b\b\b\b\b                                                                       \b\b\b\b\b\b\b\b\b\b\b\b\b\b\b\b\b\b\b\b\b\b\b\b\b\b\b\b\b\b\b\b\b\b\b\b\b\b\b\b\b\b\b\b\b\b\b\b\b\b\b\b\b\b\b\b\b\b\b\b\b\b\b\b\b\b\b\b\b\b\b 97% 37633 - Dataset/Smarthome/Record/record_smarthome_7000052_2023.wav\b\b\b\b\b\b\b\b\b\b\b\b\b\b\b\b\b\b\b\b\b\b\b\b\b\b\b\b\b\b\b\b\b\b\b\b\b\b\b\b\b\b\b\b\b\b\b\b\b\b\b\b\b\b\b\b\b\b\b\b\b\b\b\b\b\b\b\b\b\b\b                                                                       \b\b\b\b\b\b\b\b\b\b\b\b\b\b\b\b\b\b\b\b\b\b\b\b\b\b\b\b\b\b\b\b\b\b\b\b\b\b\b\b\b\b\b\b\b\b\b\b\b\b\b\b\b\b\b\b\b\b\b\b\b\b\b\b\b\b\b\b\b\b\b 97% 37654 - Dataset/Smarthome/Record/record_smarthome_7000052_2144.wav\b\b\b\b\b\b\b\b\b\b\b\b\b\b\b\b\b\b\b\b\b\b\b\b\b\b\b\b\b\b\b\b\b\b\b\b\b\b\b\b\b\b\b\b\b\b\b\b\b\b\b\b\b\b\b\b\b\b\b\b\b\b\b\b\b\b\b\b\b\b\b                                                                       \b\b\b\b\b\b\b\b\b\b\b\b\b\b\b\b\b\b\b\b\b\b\b\b\b\b\b\b\b\b\b\b\b\b\b\b\b\b\b\b\b\b\b\b\b\b\b\b\b\b\b\b\b\b\b\b\b\b\b\b\b\b\b\b\b\b\b\b\b\b\b 97% 37675 - Dataset/Smarthome/Record/record_smarthome_7000052_2319.wav\b\b\b\b\b\b\b\b\b\b\b\b\b\b\b\b\b\b\b\b\b\b\b\b\b\b\b\b\b\b\b\b\b\b\b\b\b\b\b\b\b\b\b\b\b\b\b\b\b\b\b\b\b\b\b\b\b\b\b\b\b\b\b\b\b\b\b\b\b\b\b                                                                       \b\b\b\b\b\b\b\b\b\b\b\b\b\b\b\b\b\b\b\b\b\b\b\b\b\b\b\b\b\b\b\b\b\b\b\b\b\b\b\b\b\b\b\b\b\b\b\b\b\b\b\b\b\b\b\b\b\b\b\b\b\b\b\b\b\b\b\b\b\b\b 97% 37695 - Dataset/Smarthome/Record/record_smarthome_7000052_2475.wav\b\b\b\b\b\b\b\b\b\b\b\b\b\b\b\b\b\b\b\b\b\b\b\b\b\b\b\b\b\b\b\b\b\b\b\b\b\b\b\b\b\b\b\b\b\b\b\b\b\b\b\b\b\b\b\b\b\b\b\b\b\b\b\b\b\b\b\b\b\b\b                                                                       \b\b\b\b\b\b\b\b\b\b\b\b\b\b\b\b\b\b\b\b\b\b\b\b\b\b\b\b\b\b\b\b\b\b\b\b\b\b\b\b\b\b\b\b\b\b\b\b\b\b\b\b\b\b\b\b\b\b\b\b\b\b\b\b\b\b\b\b\b\b\b 97% 37715 - Dataset/Smarthome/Record/record_smarthome_7000052_279.wav\b\b\b\b\b\b\b\b\b\b\b\b\b\b\b\b\b\b\b\b\b\b\b\b\b\b\b\b\b\b\b\b\b\b\b\b\b\b\b\b\b\b\b\b\b\b\b\b\b\b\b\b\b\b\b\b\b\b\b\b\b\b\b\b\b\b\b\b\b\b                                                                      \b\b\b\b\b\b\b\b\b\b\b\b\b\b\b\b\b\b\b\b\b\b\b\b\b\b\b\b\b\b\b\b\b\b\b\b\b\b\b\b\b\b\b\b\b\b\b\b\b\b\b\b\b\b\b\b\b\b\b\b\b\b\b\b\b\b\b\b\b\b 97% 37735 - Dataset/Smarthome/Record/record_smarthome_7000052_496.wav\b\b\b\b\b\b\b\b\b\b\b\b\b\b\b\b\b\b\b\b\b\b\b\b\b\b\b\b\b\b\b\b\b\b\b\b\b\b\b\b\b\b\b\b\b\b\b\b\b\b\b\b\b\b\b\b\b\b\b\b\b\b\b\b\b\b\b\b\b\b                                                                      \b\b\b\b\b\b\b\b\b\b\b\b\b\b\b\b\b\b\b\b\b\b\b\b\b\b\b\b\b\b\b\b\b\b\b\b\b\b\b\b\b\b\b\b\b\b\b\b\b\b\b\b\b\b\b\b\b\b\b\b\b\b\b\b\b\b\b\b\b\b 97% 37756 - Dataset/Smarthome/Record/record_smarthome_7000052_616.wav\b\b\b\b\b\b\b\b\b\b\b\b\b\b\b\b\b\b\b\b\b\b\b\b\b\b\b\b\b\b\b\b\b\b\b\b\b\b\b\b\b\b\b\b\b\b\b\b\b\b\b\b\b\b\b\b\b\b\b\b\b\b\b\b\b\b\b\b\b\b                                                                      \b\b\b\b\b\b\b\b\b\b\b\b\b\b\b\b\b\b\b\b\b\b\b\b\b\b\b\b\b\b\b\b\b\b\b\b\b\b\b\b\b\b\b\b\b\b\b\b\b\b\b\b\b\b\b\b\b\b\b\b\b\b\b\b\b\b\b\b\b\b 97% 37777 - Dataset/Smarthome/Record/record_smarthome_7000052_746.wav\b\b\b\b\b\b\b\b\b\b\b\b\b\b\b\b\b\b\b\b\b\b\b\b\b\b\b\b\b\b\b\b\b\b\b\b\b\b\b\b\b\b\b\b\b\b\b\b\b\b\b\b\b\b\b\b\b\b\b\b\b\b\b\b\b\b\b\b\b\b                                                                      \b\b\b\b\b\b\b\b\b\b\b\b\b\b\b\b\b\b\b\b\b\b\b\b\b\b\b\b\b\b\b\b\b\b\b\b\b\b\b\b\b\b\b\b\b\b\b\b\b\b\b\b\b\b\b\b\b\b\b\b\b\b\b\b\b\b\b\b\b\b 97% 37798 - Dataset/Smarthome/Record/record_smarthome_7000052_883.wav\b\b\b\b\b\b\b\b\b\b\b\b\b\b\b\b\b\b\b\b\b\b\b\b\b\b\b\b\b\b\b\b\b\b\b\b\b\b\b\b\b\b\b\b\b\b\b\b\b\b\b\b\b\b\b\b\b\b\b\b\b\b\b\b\b\b\b\b\b\b                                                                      \b\b\b\b\b\b\b\b\b\b\b\b\b\b\b\b\b\b\b\b\b\b\b\b\b\b\b\b\b\b\b\b\b\b\b\b\b\b\b\b\b\b\b\b\b\b\b\b\b\b\b\b\b\b\b\b\b\b\b\b\b\b\b\b\b\b\b\b\b\b 97% 37818 - Dataset/Smarthome/Record/record_smarthome_7000053_1071.wav\b\b\b\b\b\b\b\b\b\b\b\b\b\b\b\b\b\b\b\b\b\b\b\b\b\b\b\b\b\b\b\b\b\b\b\b\b\b\b\b\b\b\b\b\b\b\b\b\b\b\b\b\b\b\b\b\b\b\b\b\b\b\b\b\b\b\b\b\b\b\b                                                                       \b\b\b\b\b\b\b\b\b\b\b\b\b\b\b\b\b\b\b\b\b\b\b\b\b\b\b\b\b\b\b\b\b\b\b\b\b\b\b\b\b\b\b\b\b\b\b\b\b\b\b\b\b\b\b\b\b\b\b\b\b\b\b\b\b\b\b\b\b\b\b 97% 37838 - Dataset/Smarthome/Record/record_smarthome_7000053_1200.wav\b\b\b\b\b\b\b\b\b\b\b\b\b\b\b\b\b\b\b\b\b\b\b\b\b\b\b\b\b\b\b\b\b\b\b\b\b\b\b\b\b\b\b\b\b\b\b\b\b\b\b\b\b\b\b\b\b\b\b\b\b\b\b\b\b\b\b\b\b\b\b                                                                       \b\b\b\b\b\b\b\b\b\b\b\b\b\b\b\b\b\b\b\b\b\b\b\b\b\b\b\b\b\b\b\b\b\b\b\b\b\b\b\b\b\b\b\b\b\b\b\b\b\b\b\b\b\b\b\b\b\b\b\b\b\b\b\b\b\b\b\b\b\b\b 97% 37859 - Dataset/Smarthome/Record/record_smarthome_7000053_1434.wav\b\b\b\b\b\b\b\b\b\b\b\b\b\b\b\b\b\b\b\b\b\b\b\b\b\b\b\b\b\b\b\b\b\b\b\b\b\b\b\b\b\b\b\b\b\b\b\b\b\b\b\b\b\b\b\b\b\b\b\b\b\b\b\b\b\b\b\b\b\b\b                                                                       \b\b\b\b\b\b\b\b\b\b\b\b\b\b\b\b\b\b\b\b\b\b\b\b\b\b\b\b\b\b\b\b\b\b\b\b\b\b\b\b\b\b\b\b\b\b\b\b\b\b\b\b\b\b\b\b\b\b\b\b\b\b\b\b\b\b\b\b\b\b\b 98% 37879 - Dataset/Smarthome/Record/record_smarthome_7000053_1594.wav\b\b\b\b\b\b\b\b\b\b\b\b\b\b\b\b\b\b\b\b\b\b\b\b\b\b\b\b\b\b\b\b\b\b\b\b\b\b\b\b\b\b\b\b\b\b\b\b\b\b\b\b\b\b\b\b\b\b\b\b\b\b\b\b\b\b\b\b\b\b\b                                                                       \b\b\b\b\b\b\b\b\b\b\b\b\b\b\b\b\b\b\b\b\b\b\b\b\b\b\b\b\b\b\b\b\b\b\b\b\b\b\b\b\b\b\b\b\b\b\b\b\b\b\b\b\b\b\b\b\b\b\b\b\b\b\b\b\b\b\b\b\b\b\b 98% 37900 - Dataset/Smarthome/Record/record_smarthome_7000053_1739.wav\b\b\b\b\b\b\b\b\b\b\b\b\b\b\b\b\b\b\b\b\b\b\b\b\b\b\b\b\b\b\b\b\b\b\b\b\b\b\b\b\b\b\b\b\b\b\b\b\b\b\b\b\b\b\b\b\b\b\b\b\b\b\b\b\b\b\b\b\b\b\b                                                                       \b\b\b\b\b\b\b\b\b\b\b\b\b\b\b\b\b\b\b\b\b\b\b\b\b\b\b\b\b\b\b\b\b\b\b\b\b\b\b\b\b\b\b\b\b\b\b\b\b\b\b\b\b\b\b\b\b\b\b\b\b\b\b\b\b\b\b\b\b\b\b 98% 37920 - Dataset/Smarthome/Record/record_smarthome_7000053_1891.wav\b\b\b\b\b\b\b\b\b\b\b\b\b\b\b\b\b\b\b\b\b\b\b\b\b\b\b\b\b\b\b\b\b\b\b\b\b\b\b\b\b\b\b\b\b\b\b\b\b\b\b\b\b\b\b\b\b\b\b\b\b\b\b\b\b\b\b\b\b\b\b                                                                       \b\b\b\b\b\b\b\b\b\b\b\b\b\b\b\b\b\b\b\b\b\b\b\b\b\b\b\b\b\b\b\b\b\b\b\b\b\b\b\b\b\b\b\b\b\b\b\b\b\b\b\b\b\b\b\b\b\b\b\b\b\b\b\b\b\b\b\b\b\b\b 98% 37940 - Dataset/Smarthome/Record/record_smarthome_7000053_2035.wav\b\b\b\b\b\b\b\b\b\b\b\b\b\b\b\b\b\b\b\b\b\b\b\b\b\b\b\b\b\b\b\b\b\b\b\b\b\b\b\b\b\b\b\b\b\b\b\b\b\b\b\b\b\b\b\b\b\b\b\b\b\b\b\b\b\b\b\b\b\b\b                                                                       \b\b\b\b\b\b\b\b\b\b\b\b\b\b\b\b\b\b\b\b\b\b\b\b\b\b\b\b\b\b\b\b\b\b\b\b\b\b\b\b\b\b\b\b\b\b\b\b\b\b\b\b\b\b\b\b\b\b\b\b\b\b\b\b\b\b\b\b\b\b\b 98% 37961 - Dataset/Smarthome/Record/record_smarthome_7000053_222.wav\b\b\b\b\b\b\b\b\b\b\b\b\b\b\b\b\b\b\b\b\b\b\b\b\b\b\b\b\b\b\b\b\b\b\b\b\b\b\b\b\b\b\b\b\b\b\b\b\b\b\b\b\b\b\b\b\b\b\b\b\b\b\b\b\b\b\b\b\b\b                                                                      \b\b\b\b\b\b\b\b\b\b\b\b\b\b\b\b\b\b\b\b\b\b\b\b\b\b\b\b\b\b\b\b\b\b\b\b\b\b\b\b\b\b\b\b\b\b\b\b\b\b\b\b\b\b\b\b\b\b\b\b\b\b\b\b\b\b\b\b\b\b 98% 37981 - Dataset/Smarthome/Record/record_smarthome_7000053_2391.wav\b\b\b\b\b\b\b\b\b\b\b\b\b\b\b\b\b\b\b\b\b\b\b\b\b\b\b\b\b\b\b\b\b\b\b\b\b\b\b\b\b\b\b\b\b\b\b\b\b\b\b\b\b\b\b\b\b\b\b\b\b\b\b\b\b\b\b\b\b\b\b                                                                       \b\b\b\b\b\b\b\b\b\b\b\b\b\b\b\b\b\b\b\b\b\b\b\b\b\b\b\b\b\b\b\b\b\b\b\b\b\b\b\b\b\b\b\b\b\b\b\b\b\b\b\b\b\b\b\b\b\b\b\b\b\b\b\b\b\b\b\b\b\b\b 98% 38001 - Dataset/Smarthome/Record/record_smarthome_7000053_2527.wav\b\b\b\b\b\b\b\b\b\b\b\b\b\b\b\b\b\b\b\b\b\b\b\b\b\b\b\b\b\b\b\b\b\b\b\b\b\b\b\b\b\b\b\b\b\b\b\b\b\b\b\b\b\b\b\b\b\b\b\b\b\b\b\b\b\b\b\b\b\b\b                                                                       \b\b\b\b\b\b\b\b\b\b\b\b\b\b\b\b\b\b\b\b\b\b\b\b\b\b\b\b\b\b\b\b\b\b\b\b\b\b\b\b\b\b\b\b\b\b\b\b\b\b\b\b\b\b\b\b\b\b\b\b\b\b\b\b\b\b\b\b\b\b\b 98% 38021 - Dataset/Smarthome/Record/record_smarthome_7000053_32.wav\b\b\b\b\b\b\b\b\b\b\b\b\b\b\b\b\b\b\b\b\b\b\b\b\b\b\b\b\b\b\b\b\b\b\b\b\b\b\b\b\b\b\b\b\b\b\b\b\b\b\b\b\b\b\b\b\b\b\b\b\b\b\b\b\b\b\b\b\b                                                                     \b\b\b\b\b\b\b\b\b\b\b\b\b\b\b\b\b\b\b\b\b\b\b\b\b\b\b\b\b\b\b\b\b\b\b\b\b\b\b\b\b\b\b\b\b\b\b\b\b\b\b\b\b\b\b\b\b\b\b\b\b\b\b\b\b\b\b\b\b 98% 38042 - Dataset/Smarthome/Record/record_smarthome_7000053_447.wav\b\b\b\b\b\b\b\b\b\b\b\b\b\b\b\b\b\b\b\b\b\b\b\b\b\b\b\b\b\b\b\b\b\b\b\b\b\b\b\b\b\b\b\b\b\b\b\b\b\b\b\b\b\b\b\b\b\b\b\b\b\b\b\b\b\b\b\b\b\b                                                                      \b\b\b\b\b\b\b\b\b\b\b\b\b\b\b\b\b\b\b\b\b\b\b\b\b\b\b\b\b\b\b\b\b\b\b\b\b\b\b\b\b\b\b\b\b\b\b\b\b\b\b\b\b\b\b\b\b\b\b\b\b\b\b\b\b\b\b\b\b\b 98% 38062 - Dataset/Smarthome/Record/record_smarthome_7000053_607.wav\b\b\b\b\b\b\b\b\b\b\b\b\b\b\b\b\b\b\b\b\b\b\b\b\b\b\b\b\b\b\b\b\b\b\b\b\b\b\b\b\b\b\b\b\b\b\b\b\b\b\b\b\b\b\b\b\b\b\b\b\b\b\b\b\b\b\b\b\b\b                                                                      \b\b\b\b\b\b\b\b\b\b\b\b\b\b\b\b\b\b\b\b\b\b\b\b\b\b\b\b\b\b\b\b\b\b\b\b\b\b\b\b\b\b\b\b\b\b\b\b\b\b\b\b\b\b\b\b\b\b\b\b\b\b\b\b\b\b\b\b\b\b 98% 38082 - Dataset/Smarthome/Record/record_smarthome_7000053_798.wav\b\b\b\b\b\b\b\b\b\b\b\b\b\b\b\b\b\b\b\b\b\b\b\b\b\b\b\b\b\b\b\b\b\b\b\b\b\b\b\b\b\b\b\b\b\b\b\b\b\b\b\b\b\b\b\b\b\b\b\b\b\b\b\b\b\b\b\b\b\b                                                                      \b\b\b\b\b\b\b\b\b\b\b\b\b\b\b\b\b\b\b\b\b\b\b\b\b\b\b\b\b\b\b\b\b\b\b\b\b\b\b\b\b\b\b\b\b\b\b\b\b\b\b\b\b\b\b\b\b\b\b\b\b\b\b\b\b\b\b\b\b\b 98% 38102 - Dataset/Smarthome/Record/record_smarthome_7000053_934.wav\b\b\b\b\b\b\b\b\b\b\b\b\b\b\b\b\b\b\b\b\b\b\b\b\b\b\b\b\b\b\b\b\b\b\b\b\b\b\b\b\b\b\b\b\b\b\b\b\b\b\b\b\b\b\b\b\b\b\b\b\b\b\b\b\b\b\b\b\b\b                                                                      \b\b\b\b\b\b\b\b\b\b\b\b\b\b\b\b\b\b\b\b\b\b\b\b\b\b\b\b\b\b\b\b\b\b\b\b\b\b\b\b\b\b\b\b\b\b\b\b\b\b\b\b\b\b\b\b\b\b\b\b\b\b\b\b\b\b\b\b\b\b 98% 38121 - Dataset/Smarthome/Record/record_smarthome_7000054_1105.wav\b\b\b\b\b\b\b\b\b\b\b\b\b\b\b\b\b\b\b\b\b\b\b\b\b\b\b\b\b\b\b\b\b\b\b\b\b\b\b\b\b\b\b\b\b\b\b\b\b\b\b\b\b\b\b\b\b\b\b\b\b\b\b\b\b\b\b\b\b\b\b                                                                       \b\b\b\b\b\b\b\b\b\b\b\b\b\b\b\b\b\b\b\b\b\b\b\b\b\b\b\b\b\b\b\b\b\b\b\b\b\b\b\b\b\b\b\b\b\b\b\b\b\b\b\b\b\b\b\b\b\b\b\b\b\b\b\b\b\b\b\b\b\b\b 98% 38140 - Dataset/Smarthome/Record/record_smarthome_7000054_1264.wav\b\b\b\b\b\b\b\b\b\b\b\b\b\b\b\b\b\b\b\b\b\b\b\b\b\b\b\b\b\b\b\b\b\b\b\b\b\b\b\b\b\b\b\b\b\b\b\b\b\b\b\b\b\b\b\b\b\b\b\b\b\b\b\b\b\b\b\b\b\b\b                                                                       \b\b\b\b\b\b\b\b\b\b\b\b\b\b\b\b\b\b\b\b\b\b\b\b\b\b\b\b\b\b\b\b\b\b\b\b\b\b\b\b\b\b\b\b\b\b\b\b\b\b\b\b\b\b\b\b\b\b\b\b\b\b\b\b\b\b\b\b\b\b\b 99% 38157 - Dataset/Smarthome/Record/record_smarthome_7000054_1368.wav\b\b\b\b\b\b\b\b\b\b\b\b\b\b\b\b\b\b\b\b\b\b\b\b\b\b\b\b\b\b\b\b\b\b\b\b\b\b\b\b\b\b\b\b\b\b\b\b\b\b\b\b\b\b\b\b\b\b\b\b\b\b\b\b\b\b\b\b\b\b\b                                                                       \b\b\b\b\b\b\b\b\b\b\b\b\b\b\b\b\b\b\b\b\b\b\b\b\b\b\b\b\b\b\b\b\b\b\b\b\b\b\b\b\b\b\b\b\b\b\b\b\b\b\b\b\b\b\b\b\b\b\b\b\b\b\b\b\b\b\b\b\b\b\b 99% 38176 - Dataset/Smarthome/Record/record_smarthome_7000054_150.wav\b\b\b\b\b\b\b\b\b\b\b\b\b\b\b\b\b\b\b\b\b\b\b\b\b\b\b\b\b\b\b\b\b\b\b\b\b\b\b\b\b\b\b\b\b\b\b\b\b\b\b\b\b\b\b\b\b\b\b\b\b\b\b\b\b\b\b\b\b\b                                                                      \b\b\b\b\b\b\b\b\b\b\b\b\b\b\b\b\b\b\b\b\b\b\b\b\b\b\b\b\b\b\b\b\b\b\b\b\b\b\b\b\b\b\b\b\b\b\b\b\b\b\b\b\b\b\b\b\b\b\b\b\b\b\b\b\b\b\b\b\b\b 99% 38194 - Dataset/Smarthome/Record/record_smarthome_7000054_1683.wav\b\b\b\b\b\b\b\b\b\b\b\b\b\b\b\b\b\b\b\b\b\b\b\b\b\b\b\b\b\b\b\b\b\b\b\b\b\b\b\b\b\b\b\b\b\b\b\b\b\b\b\b\b\b\b\b\b\b\b\b\b\b\b\b\b\b\b\b\b\b\b                                                                       \b\b\b\b\b\b\b\b\b\b\b\b\b\b\b\b\b\b\b\b\b\b\b\b\b\b\b\b\b\b\b\b\b\b\b\b\b\b\b\b\b\b\b\b\b\b\b\b\b\b\b\b\b\b\b\b\b\b\b\b\b\b\b\b\b\b\b\b\b\b\b 99% 38213 - Dataset/Smarthome/Record/record_smarthome_7000054_1797.wav\b\b\b\b\b\b\b\b\b\b\b\b\b\b\b\b\b\b\b\b\b\b\b\b\b\b\b\b\b\b\b\b\b\b\b\b\b\b\b\b\b\b\b\b\b\b\b\b\b\b\b\b\b\b\b\b\b\b\b\b\b\b\b\b\b\b\b\b\b\b\b                                                                       \b\b\b\b\b\b\b\b\b\b\b\b\b\b\b\b\b\b\b\b\b\b\b\b\b\b\b\b\b\b\b\b\b\b\b\b\b\b\b\b\b\b\b\b\b\b\b\b\b\b\b\b\b\b\b\b\b\b\b\b\b\b\b\b\b\b\b\b\b\b\b 99% 38231 - Dataset/Smarthome/Record/record_smarthome_7000054_2056.wav\b\b\b\b\b\b\b\b\b\b\b\b\b\b\b\b\b\b\b\b\b\b\b\b\b\b\b\b\b\b\b\b\b\b\b\b\b\b\b\b\b\b\b\b\b\b\b\b\b\b\b\b\b\b\b\b\b\b\b\b\b\b\b\b\b\b\b\b\b\b\b                                                                       \b\b\b\b\b\b\b\b\b\b\b\b\b\b\b\b\b\b\b\b\b\b\b\b\b\b\b\b\b\b\b\b\b\b\b\b\b\b\b\b\b\b\b\b\b\b\b\b\b\b\b\b\b\b\b\b\b\b\b\b\b\b\b\b\b\b\b\b\b\b\b 99% 38248 - Dataset/Smarthome/Record/record_smarthome_7000054_2184.wav\b\b\b\b\b\b\b\b\b\b\b\b\b\b\b\b\b\b\b\b\b\b\b\b\b\b\b\b\b\b\b\b\b\b\b\b\b\b\b\b\b\b\b\b\b\b\b\b\b\b\b\b\b\b\b\b\b\b\b\b\b\b\b\b\b\b\b\b\b\b\b                                                                       \b\b\b\b\b\b\b\b\b\b\b\b\b\b\b\b\b\b\b\b\b\b\b\b\b\b\b\b\b\b\b\b\b\b\b\b\b\b\b\b\b\b\b\b\b\b\b\b\b\b\b\b\b\b\b\b\b\b\b\b\b\b\b\b\b\b\b\b\b\b\b 99% 38267 - Dataset/Smarthome/Record/record_smarthome_7000054_2307.wav\b\b\b\b\b\b\b\b\b\b\b\b\b\b\b\b\b\b\b\b\b\b\b\b\b\b\b\b\b\b\b\b\b\b\b\b\b\b\b\b\b\b\b\b\b\b\b\b\b\b\b\b\b\b\b\b\b\b\b\b\b\b\b\b\b\b\b\b\b\b\b                                                                       \b\b\b\b\b\b\b\b\b\b\b\b\b\b\b\b\b\b\b\b\b\b\b\b\b\b\b\b\b\b\b\b\b\b\b\b\b\b\b\b\b\b\b\b\b\b\b\b\b\b\b\b\b\b\b\b\b\b\b\b\b\b\b\b\b\b\b\b\b\b\b 99% 38287 - Dataset/Smarthome/Record/record_smarthome_7000054_2436.wav\b\b\b\b\b\b\b\b\b\b\b\b\b\b\b\b\b\b\b\b\b\b\b\b\b\b\b\b\b\b\b\b\b\b\b\b\b\b\b\b\b\b\b\b\b\b\b\b\b\b\b\b\b\b\b\b\b\b\b\b\b\b\b\b\b\b\b\b\b\b\b                                                                       \b\b\b\b\b\b\b\b\b\b\b\b\b\b\b\b\b\b\b\b\b\b\b\b\b\b\b\b\b\b\b\b\b\b\b\b\b\b\b\b\b\b\b\b\b\b\b\b\b\b\b\b\b\b\b\b\b\b\b\b\b\b\b\b\b\b\b\b\b\b\b 99% 38306 - Dataset/Smarthome/Record/record_smarthome_7000054_2612.wav\b\b\b\b\b\b\b\b\b\b\b\b\b\b\b\b\b\b\b\b\b\b\b\b\b\b\b\b\b\b\b\b\b\b\b\b\b\b\b\b\b\b\b\b\b\b\b\b\b\b\b\b\b\b\b\b\b\b\b\b\b\b\b\b\b\b\b\b\b\b\b                                                                       \b\b\b\b\b\b\b\b\b\b\b\b\b\b\b\b\b\b\b\b\b\b\b\b\b\b\b\b\b\b\b\b\b\b\b\b\b\b\b\b\b\b\b\b\b\b\b\b\b\b\b\b\b\b\b\b\b\b\b\b\b\b\b\b\b\b\b\b\b\b\b 99% 38324 - Dataset/Smarthome/Record/record_smarthome_7000054_395.wav\b\b\b\b\b\b\b\b\b\b\b\b\b\b\b\b\b\b\b\b\b\b\b\b\b\b\b\b\b\b\b\b\b\b\b\b\b\b\b\b\b\b\b\b\b\b\b\b\b\b\b\b\b\b\b\b\b\b\b\b\b\b\b\b\b\b\b\b\b\b                                                                      \b\b\b\b\b\b\b\b\b\b\b\b\b\b\b\b\b\b\b\b\b\b\b\b\b\b\b\b\b\b\b\b\b\b\b\b\b\b\b\b\b\b\b\b\b\b\b\b\b\b\b\b\b\b\b\b\b\b\b\b\b\b\b\b\b\b\b\b\b\b 99% 38342 - Dataset/Smarthome/Record/record_smarthome_7000054_493.wav\b\b\b\b\b\b\b\b\b\b\b\b\b\b\b\b\b\b\b\b\b\b\b\b\b\b\b\b\b\b\b\b\b\b\b\b\b\b\b\b\b\b\b\b\b\b\b\b\b\b\b\b\b\b\b\b\b\b\b\b\b\b\b\b\b\b\b\b\b\b                                                                      \b\b\b\b\b\b\b\b\b\b\b\b\b\b\b\b\b\b\b\b\b\b\b\b\b\b\b\b\b\b\b\b\b\b\b\b\b\b\b\b\b\b\b\b\b\b\b\b\b\b\b\b\b\b\b\b\b\b\b\b\b\b\b\b\b\b\b\b\b\b 99% 38362 - Dataset/Smarthome/Record/record_smarthome_7000054_663.wav\b\b\b\b\b\b\b\b\b\b\b\b\b\b\b\b\b\b\b\b\b\b\b\b\b\b\b\b\b\b\b\b\b\b\b\b\b\b\b\b\b\b\b\b\b\b\b\b\b\b\b\b\b\b\b\b\b\b\b\b\b\b\b\b\b\b\b\b\b\b                                                                      \b\b\b\b\b\b\b\b\b\b\b\b\b\b\b\b\b\b\b\b\b\b\b\b\b\b\b\b\b\b\b\b\b\b\b\b\b\b\b\b\b\b\b\b\b\b\b\b\b\b\b\b\b\b\b\b\b\b\b\b\b\b\b\b\b\b\b\b\b\b 99% 38381 - Dataset/Smarthome/Record/record_smarthome_7000054_787.wav\b\b\b\b\b\b\b\b\b\b\b\b\b\b\b\b\b\b\b\b\b\b\b\b\b\b\b\b\b\b\b\b\b\b\b\b\b\b\b\b\b\b\b\b\b\b\b\b\b\b\b\b\b\b\b\b\b\b\b\b\b\b\b\b\b\b\b\b\b\b                                                                      \b\b\b\b\b\b\b\b\b\b\b\b\b\b\b\b\b\b\b\b\b\b\b\b\b\b\b\b\b\b\b\b\b\b\b\b\b\b\b\b\b\b\b\b\b\b\b\b\b\b\b\b\b\b\b\b\b\b\b\b\b\b\b\b\b\b\b\b\b\b 99% 38400 - Dataset/Smarthome/Record/record_smarthome_7000054_925.wav\b\b\b\b\b\b\b\b\b\b\b\b\b\b\b\b\b\b\b\b\b\b\b\b\b\b\b\b\b\b\b\b\b\b\b\b\b\b\b\b\b\b\b\b\b\b\b\b\b\b\b\b\b\b\b\b\b\b\b\b\b\b\b\b\b\b\b\b\b\b                                                                      \b\b\b\b\b\b\b\b\b\b\b\b\b\b\b\b\b\b\b\b\b\b\b\b\b\b\b\b\b\b\b\b\b\b\b\b\b\b\b\b\b\b\b\b\b\b\b\b\b\b\b\b\b\b\b\b\b\b\b\b\b\b\b\b\b\b\b\b\b\bEverything is Ok\n",
            "\n",
            "Folders: 5\n",
            "Files: 38408\n",
            "Size:       9221862226\n",
            "Compressed: 5072015199\n",
            "---Finished----\n"
          ]
        }
      ],
      "source": [
        "!rm -r Dataset.zip.*\n",
        "!rm Dataset.zip\n",
        "!rm -r /content/Dataset\n",
        "!echo \"Downloading Dataset....\"\n",
        "!echo \"1/3...\"\n",
        "!wget -q --show-progress 'https://github.com/VISAI-DATAWOW/Thai-Elderly-Speech-dataset/releases/download/v1.0.0/Dataset.zip.001'\n",
        "!echo \"2/3...\"\n",
        "!wget -q --show-progress 'https://github.com/VISAI-DATAWOW/Thai-Elderly-Speech-dataset/releases/download/v1.0.0/Dataset.zip.002'\n",
        "!echo \"3/3...\"\n",
        "!wget -q --show-progress 'https://github.com/VISAI-DATAWOW/Thai-Elderly-Speech-dataset/releases/download/v1.0.0/Dataset.zip.003'\n",
        "!echo \"Merging...\"\n",
        "!cat ./Dataset.zip* > ./Dataset.zip\n",
        "!echo \"Extracting...\"\n",
        "!7z x Dataset.zip -o./\n",
        "!echo \"---Finished----\""
      ]
    },
    {
      "cell_type": "markdown",
      "metadata": {
        "id": "oT9HF7FnigBB"
      },
      "source": [
        "# Fine-Tuning"
      ]
    },
    {
      "cell_type": "markdown",
      "metadata": {
        "id": "4Psn7HTliqNy"
      },
      "source": [
        "## Setup"
      ]
    },
    {
      "cell_type": "code",
      "execution_count": 3,
      "metadata": {
        "colab": {
          "base_uri": "https://localhost:8080/"
        },
        "id": "-JIBCTj_ntng",
        "outputId": "066a8752-fa5d-4045-e4cf-c2ddfa302911"
      },
      "outputs": [
        {
          "output_type": "stream",
          "name": "stdout",
          "text": [
            "Reading package lists... Done\n",
            "Building dependency tree       \n",
            "Reading state information... Done\n",
            "git-lfs is already the newest version (2.3.4-1).\n",
            "The following package was automatically installed and is no longer required:\n",
            "  libnvidia-common-460\n",
            "Use 'apt autoremove' to remove it.\n",
            "0 upgraded, 0 newly installed, 0 to remove and 56 not upgraded.\n"
          ]
        }
      ],
      "source": [
        "!apt-get install git-lfs"
      ]
    },
    {
      "cell_type": "code",
      "execution_count": 4,
      "metadata": {
        "id": "v0ewvIQOhI3J"
      },
      "outputs": [],
      "source": [
        "%%capture\n",
        "!apt-get update\n",
        "!apt-get install --reinstall build-essential --yes\n",
        "!pip install torch==1.9.0+cu111 torchvision==0.10.0+cu111 torchaudio==0.9.0 -f https://download.pytorch.org/whl/torch_stable.html\n",
        "!pip -q install datasets\n",
        "!pip -q install transformers\n",
        "!pip -q install jiwer\n",
        "!pip install ipywidgets\n",
        "!pip install pythainlp"
      ]
    },
    {
      "cell_type": "code",
      "execution_count": 5,
      "metadata": {
        "id": "N2u7zDXJl1W2"
      },
      "outputs": [],
      "source": [
        "from functools import partial\n",
        "import pandas as pd\n",
        "import numpy as np\n",
        "import matplotlib.pyplot as plt\n",
        "from datasets import (\n",
        "    Dataset,\n",
        "    load_dataset, \n",
        "    load_from_disk,\n",
        "    load_metric,)\n",
        "from datasets.filesystems import hffilesystem\n",
        "from transformers import (\n",
        "    Wav2Vec2CTCTokenizer, \n",
        "    Wav2Vec2FeatureExtractor,\n",
        "    Wav2Vec2Processor,\n",
        "    Wav2Vec2ForCTC,\n",
        "    TrainingArguments,\n",
        "    Trainer,\n",
        ")\n",
        "import torchaudio\n",
        "import re\n",
        "import json\n",
        "from pythainlp.tokenize import word_tokenize, syllable_tokenize\n",
        "from tqdm import tqdm\n",
        "from sklearn.model_selection import train_test_split"
      ]
    },
    {
      "cell_type": "code",
      "execution_count": 6,
      "metadata": {
        "colab": {
          "base_uri": "https://localhost:8080/",
          "height": 327,
          "referenced_widgets": [
            "f6e0cd8f374149d6b87464890ad50067",
            "4a5d75c6ed34414cb6d8177042c19073",
            "bb65f75134ea4a30a85a6064e6f7d71d",
            "b3cb1f3df7a14eef9ffc3427a422cf5a",
            "987d59af792141938046203345df74ad",
            "3396e17c74814b21ae224caf9bb33e54",
            "271adeeb5d1845d9b58c50cdd87b8af4",
            "7414e9fe44d34ec89f04cccfa907efc3",
            "133ae82334214da6a105a2704d8bb8df",
            "5c0ae14216334c27be712fa72726bd8f",
            "23a681c4e40c491bb9ab1148d7d1be33",
            "eb2461deb7d44d1ba1e4393ff2ee75fb",
            "5a72c2ddfcba43ee9621656252219496",
            "bd1d7ab29ed740718dc623b97e0b6681"
          ]
        },
        "id": "UjktrVylitCk",
        "outputId": "34a4b248-fb1c-4b26-aa38-f9bfcb1ea319"
      },
      "outputs": [
        {
          "output_type": "display_data",
          "data": {
            "text/plain": [
              "VBox(children=(HTML(value='<center> <img\\nsrc=https://huggingface.co/front/assets/huggingface_logo-noborder.sv…"
            ],
            "application/vnd.jupyter.widget-view+json": {
              "version_major": 2,
              "version_minor": 0,
              "model_id": "f6e0cd8f374149d6b87464890ad50067"
            }
          },
          "metadata": {}
        }
      ],
      "source": [
        "from huggingface_hub import notebook_login\n",
        "notebook_login()"
      ]
    },
    {
      "cell_type": "code",
      "execution_count": 7,
      "metadata": {
        "id": "INShVNeqsWvn"
      },
      "outputs": [],
      "source": [
        "data = pd.read_json('/content/Dataset/Healthcare/transcription.json').drop(columns='speaker_id')\n",
        "path = '/content/Dataset/Healthcare/Record/'\n",
        "fsys = '.wav'\n",
        "data['filename'] = data['filename'].map(lambda x: path + x + fsys)\n",
        "data.columns = ['path', 'sentence']"
      ]
    },
    {
      "cell_type": "code",
      "execution_count": 8,
      "metadata": {
        "id": "CVULKx79scjS"
      },
      "outputs": [],
      "source": [
        "frac = 0.125\n",
        "samplen = int(data.shape[0] * frac)\n",
        "test = data.sample(n=samplen , random_state=69420)\n",
        "train = data.drop(test.index)\n",
        "valid = train.sample(n=samplen , random_state=69420)\n",
        "train = train.drop(valid.index)\n",
        "train = train.reset_index()\n",
        "test = test.reset_index()\n",
        "valid = valid.reset_index()"
      ]
    },
    {
      "cell_type": "code",
      "execution_count": 9,
      "metadata": {
        "colab": {
          "base_uri": "https://localhost:8080/",
          "height": 282
        },
        "id": "eI64Z7r67NpI",
        "outputId": "d7020476-7297-4722-b6a8-dbdf8cc3ffd4"
      },
      "outputs": [
        {
          "output_type": "execute_result",
          "data": {
            "text/plain": [
              "<BarContainer object of 3 artists>"
            ]
          },
          "metadata": {},
          "execution_count": 9
        },
        {
          "output_type": "display_data",
          "data": {
            "text/plain": [
              "<Figure size 432x288 with 1 Axes>"
            ],
            "image/png": "[encoded data removed]"
          },
          "metadata": {
            "needs_background": "light"
          }
        }
      ],
      "source": [
        "plt.bar(['train', 'test', 'valid'], [train.shape[0], test.shape[0], valid.shape[0]])"
      ]
    },
    {
      "cell_type": "code",
      "execution_count": 10,
      "metadata": {
        "colab": {
          "base_uri": "https://localhost:8080/",
          "height": 185,
          "referenced_widgets": [
            "f3cd2d375e0e4cfcbc1f869b0c1cc22e",
            "6c1697f3ed904289ad63449968993218",
            "936e0e17c31046bf8ae4e92ec66ae690",
            "841ca0096f2d4395ab63398709c3ec18",
            "e006e4c9a5344a6a9e161d3a79c5bea8",
            "4f5d0389f7bd47fe8260d0d5be880615",
            "2a7c49134386412a8f16f4504a012cd6",
            "27c81a0da0dc47de8e4b321ed12aceeb",
            "2a85327b04134f31a4a9ebdda73cc965",
            "c0d17bf50ddd42c5b13bf73390f2b229",
            "d9e09a65ee2643659a7f0bece3ae275d",
            "edfec0b30fe34907a84531d789564979",
            "54c36e4e4a674415821c5e5417341ffc",
            "d153428bc36e48a780b18f2924d0fce2",
            "cec08497ac554943a4d839163adc4fd8",
            "1ee52013993e4483ad66a689a3090560",
            "6bab990f42d14c07975549d7d8891db8",
            "6d4e987fd25c4f3b92433a3ae5eae8c3",
            "8038e2fff9eb44f4b61bbec3f5353717",
            "7dbf30a390c1415688c1abadb72a1607",
            "821b53ecdcfb45e88051a67156c15e2a",
            "ecfe37bd79ac411cb3ee1d09c8f76ada",
            "3399bc6f6b8e40a6a40d1c9d6e2f20a7",
            "b465f9d3628d4a109474008bb198c5e8",
            "0ae0e001c3344e4d87e541502027603a",
            "2133ba3904544ffebc6903693a4028dd",
            "c18144691c484d6db28f0c79fb79e968",
            "986e6b8aae9641e8bd66f56e3b4b5ae9",
            "daab8b066904431cbce5400114e6875d",
            "de3969fe3ace4a6abec007a12ca63c63",
            "d5a4419752f6499d909c4f674ba4ef6f",
            "6952af83b7fc4040a329b192140dcd98",
            "2ca3998330604bdd9bf14d30764c21e2",
            "db03200c1fdf4afa841758e6f6a53c13",
            "6de08de779dd4a2a984262794dc8adb1",
            "831fdf7a32c64eb2b0361414910737c5",
            "b92db06a5f3e446c91fa681f33ca8ad9",
            "ccfa46ae645e45378758b542bd2eddb9",
            "f0cecbcbf9064ef194de0a7f1c0cb437",
            "232965455cc44c1b899d6bfa29293f23",
            "438b1970b29c4dd4b7197a69cb10117c",
            "30c1f4b55b4a4c879dd3cc9aaab0249d",
            "e7aeb77dfc884133adbcbaf066c02cfb",
            "bc1413cfc9174fefbdc06761185bab80",
            "f9946c36dfc0440d812a00a7cd70ddea",
            "9c41d387416c4ddf929bf2570c1863d3",
            "8eb30b6946e741bfa51c240201855425",
            "34c5f2d4f7ba48339c371f7ac06b9efe",
            "11744f754eb649e5a86dc41766f300c4",
            "8f03a0af417a4ea7905c86b146cb716f",
            "2dbecd9f464e49a084158253318f4f6e",
            "dbff20ecb9d045c9942b7cb2057f8783",
            "cc942f9cc1634c48b9173ecb1c281d7f",
            "b5f990b155b8480cbbf475acdef5f982",
            "a9e1cb2d2d904397a3c5729070365abf",
            "e15f4e858e464368ad603a68268481e5",
            "e97f22e068a945d2b301db014db6050c",
            "dde4df87fa1848818d90a7faa3abba8a",
            "6804cab997374309b9899b7b52442de1",
            "a018551303a04aee996c8129baab7942",
            "f5c8f3f323ef4424b35135df67625b45",
            "e853014340bc4ec7b416880d37f65b7c",
            "d9afbc7b3d0f4c26af69bb4bfb4ff0b8",
            "feca5466405a4519b1c9089a6d91b30b",
            "9f7c46292ba74d0d8e113bb9916703e2",
            "27e8c7b1ee8d4b04b5022f756b570bd5"
          ]
        },
        "id": "S4DGEAc02h3P",
        "outputId": "f604e702-5458-4247-9d24-b95a73e5fed0"
      },
      "outputs": [
        {
          "output_type": "stream",
          "name": "stderr",
          "text": [
            "WARNING:datasets.builder:Using custom data configuration default-7adc8af227646100\n"
          ]
        },
        {
          "output_type": "stream",
          "name": "stdout",
          "text": [
            "Downloading and preparing dataset csv/default to /root/.cache/huggingface/datasets/csv/default-7adc8af227646100/0.0.0/652c3096f041ee27b04d2232d41f10547a8fecda3e284a79a0ec4053c916ef7a...\n"
          ]
        },
        {
          "output_type": "display_data",
          "data": {
            "text/plain": [
              "Downloading data files:   0%|          | 0/3 [00:00<?, ?it/s]"
            ],
            "application/vnd.jupyter.widget-view+json": {
              "version_major": 2,
              "version_minor": 0,
              "model_id": "f3cd2d375e0e4cfcbc1f869b0c1cc22e"
            }
          },
          "metadata": {}
        },
        {
          "output_type": "display_data",
          "data": {
            "text/plain": [
              "Extracting data files:   0%|          | 0/3 [00:00<?, ?it/s]"
            ],
            "application/vnd.jupyter.widget-view+json": {
              "version_major": 2,
              "version_minor": 0,
              "model_id": "edfec0b30fe34907a84531d789564979"
            }
          },
          "metadata": {}
        },
        {
          "output_type": "display_data",
          "data": {
            "text/plain": [
              "0 tables [00:00, ? tables/s]"
            ],
            "application/vnd.jupyter.widget-view+json": {
              "version_major": 2,
              "version_minor": 0,
              "model_id": "3399bc6f6b8e40a6a40d1c9d6e2f20a7"
            }
          },
          "metadata": {}
        },
        {
          "output_type": "display_data",
          "data": {
            "text/plain": [
              "0 tables [00:00, ? tables/s]"
            ],
            "application/vnd.jupyter.widget-view+json": {
              "version_major": 2,
              "version_minor": 0,
              "model_id": "db03200c1fdf4afa841758e6f6a53c13"
            }
          },
          "metadata": {}
        },
        {
          "output_type": "display_data",
          "data": {
            "text/plain": [
              "0 tables [00:00, ? tables/s]"
            ],
            "application/vnd.jupyter.widget-view+json": {
              "version_major": 2,
              "version_minor": 0,
              "model_id": "f9946c36dfc0440d812a00a7cd70ddea"
            }
          },
          "metadata": {}
        },
        {
          "output_type": "stream",
          "name": "stdout",
          "text": [
            "Dataset csv downloaded and prepared to /root/.cache/huggingface/datasets/csv/default-7adc8af227646100/0.0.0/652c3096f041ee27b04d2232d41f10547a8fecda3e284a79a0ec4053c916ef7a. Subsequent calls will reuse this data.\n"
          ]
        },
        {
          "output_type": "display_data",
          "data": {
            "text/plain": [
              "  0%|          | 0/3 [00:00<?, ?it/s]"
            ],
            "application/vnd.jupyter.widget-view+json": {
              "version_major": 2,
              "version_minor": 0,
              "model_id": "e15f4e858e464368ad603a68268481e5"
            }
          },
          "metadata": {}
        }
      ],
      "source": [
        "train.to_csv('./train.csv', index=False)\n",
        "test.to_csv('./test.csv', index=False)\n",
        "valid.to_csv('./valid.csv', index=False)\n",
        "datasets = load_dataset('csv', data_files={'train':'./train.csv', 'test':'./test.csv', 'valid':'./valid.csv'})"
      ]
    },
    {
      "cell_type": "code",
      "execution_count": 11,
      "metadata": {
        "colab": {
          "base_uri": "https://localhost:8080/"
        },
        "id": "XWe4tK9M25A-",
        "outputId": "cf0ea8af-ab9a-499e-a288-150d62f3c7ba"
      },
      "outputs": [
        {
          "output_type": "execute_result",
          "data": {
            "text/plain": [
              "DatasetDict({\n",
              "    train: Dataset({\n",
              "        features: ['index', 'path', 'sentence'],\n",
              "        num_rows: 7200\n",
              "    })\n",
              "    test: Dataset({\n",
              "        features: ['index', 'path', 'sentence'],\n",
              "        num_rows: 1200\n",
              "    })\n",
              "    valid: Dataset({\n",
              "        features: ['index', 'path', 'sentence'],\n",
              "        num_rows: 1200\n",
              "    })\n",
              "})"
            ]
          },
          "metadata": {},
          "execution_count": 11
        }
      ],
      "source": [
        "datasets"
      ]
    },
    {
      "cell_type": "markdown",
      "metadata": {
        "id": "ajj-ag5N1rAz"
      },
      "source": [
        "## Tokenizer"
      ]
    },
    {
      "cell_type": "code",
      "execution_count": 12,
      "metadata": {
        "colab": {
          "base_uri": "https://localhost:8080/",
          "height": 1000,
          "referenced_widgets": [
            "93bbd8735bfc495e9039766806e41aa1",
            "6c15fa56d7fb4558bbdbc04cff4d7034",
            "47c27fd0c9e94f4a9d9cc95f53a7ae04",
            "5bbda6845bb24b4989d0569d5757740b",
            "375c30b21ba148d3bffd90858366c4e6",
            "d999751d8ff647598181b848a6a6283e",
            "aa226306edd7403b96b867f02a265b39",
            "8f79803759c3443e832b349113faa431",
            "6db5a485fa5d4234b076f37dec2f3ca4",
            "a13d9ab8cbb648ec9a847c72a830a01a",
            "f31762b58def4d06bc4035b1704237c1",
            "0f6ee06cc44f48b38d037891f7b61fe2",
            "ff7b8996eeb4427098fa171d241f76a6",
            "842aeaf5cb604c75b0a5124ad31d7508",
            "5d2ddf85130845ef97a22e8172cf5931",
            "f2dbb11f225b4751a6eeedc108196a30",
            "6da8e7fcd1c44899bb5115495a4e2286",
            "78f1e96e9a9544e08de9714f47f02cf4",
            "1f684e89b2f74f01a01904ba28e654db",
            "88bab52975ce4a439a2ba2ee9b80f6f5",
            "dc6aa0786a3742859bbfad57c825331d",
            "82fec29e46da41a9a77c2fdcbaba5d41",
            "458c8edc30904f1ba5d18c442d7e415d",
            "7b1df6b3907b4c28a6d942f003cdcd23",
            "2e985a64fa0a4f47b5d264004543b5a8",
            "036a6a65bfdf4f94a541096bf11093cd",
            "3fb7ed8667764b1d82a31513c5c51cc5",
            "fd6f34c0ee8048c5ad92176e83ab310a",
            "08186ca547cc491a8a5238b9f98be478",
            "408781645d1d4188a28dd663c72a3bf1",
            "43857fe1399749ffb0ba9fafb725cf22",
            "5efa49a8859b4501a2a9e8e15a3d9651",
            "f2d8a1e46c734f72bb60922cab1e66ba"
          ]
        },
        "id": "ZY2mbH2-0crX",
        "outputId": "34003612-3e7b-4d75-e0e3-ab3633e01601"
      },
      "outputs": [
        {
          "output_type": "display_data",
          "data": {
            "text/plain": [
              "  0%|          | 0/1 [00:00<?, ?ba/s]"
            ],
            "application/vnd.jupyter.widget-view+json": {
              "version_major": 2,
              "version_minor": 0,
              "model_id": "93bbd8735bfc495e9039766806e41aa1"
            }
          },
          "metadata": {}
        },
        {
          "output_type": "display_data",
          "data": {
            "text/plain": [
              "  0%|          | 0/1 [00:00<?, ?ba/s]"
            ],
            "application/vnd.jupyter.widget-view+json": {
              "version_major": 2,
              "version_minor": 0,
              "model_id": "0f6ee06cc44f48b38d037891f7b61fe2"
            }
          },
          "metadata": {}
        },
        {
          "output_type": "display_data",
          "data": {
            "text/plain": [
              "  0%|          | 0/1 [00:00<?, ?ba/s]"
            ],
            "application/vnd.jupyter.widget-view+json": {
              "version_major": 2,
              "version_minor": 0,
              "model_id": "458c8edc30904f1ba5d18c442d7e415d"
            }
          },
          "metadata": {}
        },
        {
          "output_type": "execute_result",
          "data": {
            "text/plain": [
              "(58,\n",
              " {'ผ': 0,\n",
              "  'ั': 1,\n",
              "  'ร': 2,\n",
              "  'ซ': 3,\n",
              "  '์': 4,\n",
              "  'ุ': 5,\n",
              "  'แ': 6,\n",
              "  'ว': 7,\n",
              "  'ศ': 8,\n",
              "  'ด': 9,\n",
              "  'ฉ': 10,\n",
              "  'ึ': 11,\n",
              "  'ล': 12,\n",
              "  'ษ': 13,\n",
              "  '๊': 14,\n",
              "  'า': 15,\n",
              "  'ท': 16,\n",
              "  'ฬ': 17,\n",
              "  'ห': 18,\n",
              "  '่': 19,\n",
              "  'ไ': 20,\n",
              "  'ฟ': 21,\n",
              "  'เ': 22,\n",
              "  'ฝ': 23,\n",
              "  'ี': 24,\n",
              "  'ข': 25,\n",
              "  'ส': 26,\n",
              "  'ญ': 27,\n",
              "  'ฆ': 28,\n",
              "  'ม': 29,\n",
              "  '๋': 30,\n",
              "  'พ': 31,\n",
              "  'ป': 32,\n",
              "  '็': 33,\n",
              "  '้': 34,\n",
              "  'ู': 35,\n",
              "  'ฐ': 36,\n",
              "  'ใ': 37,\n",
              "  'ธ': 38,\n",
              "  'ง': 39,\n",
              "  'จ': 40,\n",
              "  'ะ': 41,\n",
              "  'บ': 42,\n",
              "  'ช': 43,\n",
              "  'ย': 44,\n",
              "  'ำ': 45,\n",
              "  'ก': 46,\n",
              "  'น': 47,\n",
              "  'ค': 48,\n",
              "  'ิ': 49,\n",
              "  'ภ': 50,\n",
              "  'ต': 51,\n",
              "  'ื': 52,\n",
              "  'โ': 53,\n",
              "  ' ': 54,\n",
              "  'ณ': 55,\n",
              "  'ถ': 56,\n",
              "  'อ': 57})"
            ]
          },
          "metadata": {},
          "execution_count": 12
        }
      ],
      "source": [
        "def extract_all_chars(batch, text_col = \"sentence\"):\n",
        "    all_text = \" \".join(batch[text_col])\n",
        "    vocab = list(set(all_text))\n",
        "    return {\"vocab\": [vocab], \"all_text\": [all_text]}\n",
        "\n",
        "vocabs = datasets.map(extract_all_chars, \n",
        "                   batched=True, \n",
        "                   batch_size=-1, \n",
        "                   keep_in_memory=True, \n",
        "                   remove_columns=datasets.column_names[\"train\"])\n",
        "\n",
        "vocab_list = list(set(vocabs[\"train\"][\"vocab\"][0]) | set(vocabs[\"valid\"][\"vocab\"][0]) |set(vocabs[\"test\"][\"vocab\"][0]))\n",
        "# vocab_list = list(set(vocabs[\"train\"][\"vocab\"][0])) #strictly no leakage\n",
        "vocab_dict = {v: k for k, v in enumerate(vocab_list)}\n",
        "len(vocab_dict), vocab_dict"
      ]
    },
    {
      "cell_type": "code",
      "execution_count": 13,
      "metadata": {
        "colab": {
          "base_uri": "https://localhost:8080/"
        },
        "id": "7RJ4bMRnIjks",
        "outputId": "4a9441a0-adc1-405e-b341-27221cc6fd5a"
      },
      "outputs": [
        {
          "output_type": "execute_result",
          "data": {
            "text/plain": [
              "(60,\n",
              " {'ผ': 0,\n",
              "  'ั': 1,\n",
              "  'ร': 2,\n",
              "  'ซ': 3,\n",
              "  '์': 4,\n",
              "  'ุ': 5,\n",
              "  'แ': 6,\n",
              "  'ว': 7,\n",
              "  'ศ': 8,\n",
              "  'ด': 9,\n",
              "  'ฉ': 10,\n",
              "  'ึ': 11,\n",
              "  'ล': 12,\n",
              "  'ษ': 13,\n",
              "  '๊': 14,\n",
              "  'า': 15,\n",
              "  'ท': 16,\n",
              "  'ฬ': 17,\n",
              "  'ห': 18,\n",
              "  '่': 19,\n",
              "  'ไ': 20,\n",
              "  'ฟ': 21,\n",
              "  'เ': 22,\n",
              "  'ฝ': 23,\n",
              "  'ี': 24,\n",
              "  'ข': 25,\n",
              "  'ส': 26,\n",
              "  'ญ': 27,\n",
              "  'ฆ': 28,\n",
              "  'ม': 29,\n",
              "  '๋': 30,\n",
              "  'พ': 31,\n",
              "  'ป': 32,\n",
              "  '็': 33,\n",
              "  '้': 34,\n",
              "  'ู': 35,\n",
              "  'ฐ': 36,\n",
              "  'ใ': 37,\n",
              "  'ธ': 38,\n",
              "  'ง': 39,\n",
              "  'จ': 40,\n",
              "  'ะ': 41,\n",
              "  'บ': 42,\n",
              "  'ช': 43,\n",
              "  'ย': 44,\n",
              "  'ำ': 45,\n",
              "  'ก': 46,\n",
              "  'น': 47,\n",
              "  'ค': 48,\n",
              "  'ิ': 49,\n",
              "  'ภ': 50,\n",
              "  'ต': 51,\n",
              "  'ื': 52,\n",
              "  'โ': 53,\n",
              "  'ณ': 55,\n",
              "  'ถ': 56,\n",
              "  'อ': 57,\n",
              "  '|': 54,\n",
              "  '[UNK]': 58,\n",
              "  '[PAD]': 59})"
            ]
          },
          "metadata": {},
          "execution_count": 13
        }
      ],
      "source": [
        "#make space = |\n",
        "vocab_dict[\"|\"] = vocab_dict[\" \"]\n",
        "del vocab_dict[\" \"]\n",
        "#padding token serves as blank token\n",
        "vocab_dict[\"[UNK]\"] = len(vocab_dict)\n",
        "vocab_dict[\"[PAD]\"] = len(vocab_dict)\n",
        "len(vocab_dict), vocab_dict"
      ]
    },
    {
      "cell_type": "code",
      "execution_count": 14,
      "metadata": {
        "colab": {
          "base_uri": "https://localhost:8080/"
        },
        "id": "KoSqkD60Fwle",
        "outputId": "c56876b7-1d42-41f2-e45b-68bcf1b61909"
      },
      "outputs": [
        {
          "output_type": "stream",
          "name": "stderr",
          "text": [
            "Special tokens have been added in the vocabulary, make sure the associated word embeddings are fine-tuned or trained.\n"
          ]
        }
      ],
      "source": [
        "tokenizer = Wav2Vec2CTCTokenizer.from_pretrained(\"airesearch/wav2vec2-large-xlsr-53-th\")"
      ]
    },
    {
      "cell_type": "code",
      "execution_count": 15,
      "metadata": {
        "colab": {
          "base_uri": "https://localhost:8080/",
          "height": 35
        },
        "id": "YPT1W4O2HbSs",
        "outputId": "e3c8769e-a3aa-4392-eb44-3a49d9e104f2"
      },
      "outputs": [
        {
          "output_type": "execute_result",
          "data": {
            "text/plain": [
              "'ผิวของฉันคันมากเนื่องจากมีปัญหาทางผิว'"
            ],
            "application/vnd.google.colaboratory.intrinsic+json": {
              "type": "string"
            }
          },
          "metadata": {},
          "execution_count": 15
        }
      ],
      "source": [
        "st = datasets['train'][5]['sentence']\n",
        "st"
      ]
    },
    {
      "cell_type": "code",
      "execution_count": 16,
      "metadata": {
        "colab": {
          "base_uri": "https://localhost:8080/"
        },
        "id": "jN7VMAJOHbbn",
        "outputId": "23b02335-88c0-433d-e7a9-d92ba45e7d94"
      },
      "outputs": [
        {
          "output_type": "execute_result",
          "data": {
            "text/plain": [
              "{'input_ids': [57, 64, 47, 58, 19, 3, 53, 45, 62, 46, 45, 62, 51, 16, 2, 28, 62, 61, 15, 19, 3, 49, 16, 2, 51, 32, 31, 45, 14, 40, 16, 21, 16, 3, 57, 64, 47], 'attention_mask': [1, 1, 1, 1, 1, 1, 1, 1, 1, 1, 1, 1, 1, 1, 1, 1, 1, 1, 1, 1, 1, 1, 1, 1, 1, 1, 1, 1, 1, 1, 1, 1, 1, 1, 1, 1, 1]}"
            ]
          },
          "metadata": {},
          "execution_count": 16
        }
      ],
      "source": [
        "tokenizer(st)"
      ]
    },
    {
      "cell_type": "code",
      "execution_count": 17,
      "metadata": {
        "colab": {
          "base_uri": "https://localhost:8080/",
          "height": 35
        },
        "id": "pgOMWZb8Jqsp",
        "outputId": "018649de-9c7f-44af-e447-d9a3d583f88b"
      },
      "outputs": [
        {
          "output_type": "execute_result",
          "data": {
            "text/plain": [
              "'ผิวของฉันคันมากเนื่องจากมีปัญหาทางผิว'"
            ],
            "application/vnd.google.colaboratory.intrinsic+json": {
              "type": "string"
            }
          },
          "metadata": {},
          "execution_count": 17
        }
      ],
      "source": [
        "result = tokenizer.decode(tokenizer(st).input_ids)\n",
        "result"
      ]
    },
    {
      "cell_type": "code",
      "execution_count": 18,
      "metadata": {
        "colab": {
          "base_uri": "https://localhost:8080/"
        },
        "id": "QarJX074JuIc",
        "outputId": "6330425d-71e2-4512-947b-f7383525a4c2"
      },
      "outputs": [
        {
          "output_type": "execute_result",
          "data": {
            "text/plain": [
              "True"
            ]
          },
          "metadata": {},
          "execution_count": 18
        }
      ],
      "source": [
        "st == result"
      ]
    },
    {
      "cell_type": "markdown",
      "metadata": {
        "id": "6OGSpXZOMnw3"
      },
      "source": [
        "### Create Wav2Vec2 Feature Extractor"
      ]
    },
    {
      "cell_type": "code",
      "execution_count": 19,
      "metadata": {
        "id": "PQMC4LSLL0uh"
      },
      "outputs": [],
      "source": [
        "feature_extractor = Wav2Vec2FeatureExtractor(feature_size=1, \n",
        "                                             sampling_rate=16000, \n",
        "                                             padding_value=0.0, \n",
        "                                             do_normalize=True, \n",
        "                                             return_attention_mask=False)"
      ]
    },
    {
      "cell_type": "code",
      "execution_count": 20,
      "metadata": {
        "id": "Pbi6zrvLMvj9"
      },
      "outputs": [],
      "source": [
        "processor = Wav2Vec2Processor(feature_extractor=feature_extractor, tokenizer=tokenizer)"
      ]
    },
    {
      "cell_type": "markdown",
      "metadata": {
        "id": "eqlgr6qCNzhw"
      },
      "source": [
        "#### Preprocess"
      ]
    },
    {
      "cell_type": "code",
      "execution_count": 21,
      "metadata": {
        "id": "PJqWHwM_Mv9c"
      },
      "outputs": [],
      "source": [
        "def speech_file_to_array_fn(batch, \n",
        "                            text_col=\"sentence\", \n",
        "                            fname_col=\"path\",\n",
        "                            resampling_to=16000):\n",
        "    speech_array, sampling_rate = torchaudio.load(batch[fname_col])\n",
        "    resampler=torchaudio.transforms.Resample(sampling_rate, resampling_to)\n",
        "    batch[\"speech\"] = resampler(speech_array)[0].numpy()\n",
        "    batch[\"sampling_rate\"] = resampling_to\n",
        "    batch[\"target_text\"] = batch[text_col]\n",
        "    return batch"
      ]
    },
    {
      "cell_type": "code",
      "execution_count": 22,
      "metadata": {
        "colab": {
          "base_uri": "https://localhost:8080/",
          "height": 356,
          "referenced_widgets": [
            "5474c485be894d3aa30c35b3111100ad",
            "9543d1e0fb144e29b7e35673f4465121",
            "6076f5803c3f46eabae7f23964aea66f",
            "b6dfcb6cd3af409f90344c2f60792a90",
            "d9ad17679d6c4c869ecd431ae4f9496c",
            "30e5227092654defbb4fcc97f412e1b3",
            "449dfdd6311d4035acac5398b49015ad",
            "e4202a85f75d4a108c748423aadfde71",
            "7e159449683440febac474e127412e76",
            "864b336c1f2a4f1190c6155859cf0be3",
            "c61d5bb04f2e4633bda1ff9ce97af5d6",
            "627323bf0aaf47d7bc126d9f1702b00a",
            "86a2925d540847c2aeb833c23a79ea89",
            "3e8e2c4504a748dc8bf238021fd3ae02",
            "2b0e4238924e4e22924664b25aa32b41",
            "9d3457a79c1043a1ae046daf4be93345",
            "0edbadf79b2d43969a277076e168dba1",
            "64dcefc265bf4e7d9c467e7c5afacfab",
            "822b993119e94aa6a19a86bf83dd84b6",
            "f3e2d593447a48df9eb7e463835d5076",
            "ef7c11be85374ff2aa611a9775bacfd0",
            "8cd7ddc68bc6448ca6f67f855b12d112",
            "7c9f3114e5124c7b817fe796a06bed6b",
            "10628c5fc3af4e659ab9e32f978b9722",
            "4562ea9f5ff142eba45d96ca6a8ba008",
            "16dae9dfffde4c6db47402679c0b2522",
            "efde7507a215430eaaa5b3c841c80447",
            "a4122eeeda25425ba1725e988231d85a",
            "aff072ea37024b01864e8d5497cd9fd6",
            "bd07da6bb17d451c93b11c2ab04b0b35",
            "fddf6f234e2445d4abbbc9aa615431de",
            "34f0189bf9cc4794a85a0e7056d24181",
            "2edbc37995c34222816783e8000d62e6"
          ]
        },
        "id": "jJmUMCXYM5K1",
        "outputId": "6ffe0735-a1f3-4325-8eb5-bac0207bb2ff"
      },
      "outputs": [
        {
          "output_type": "display_data",
          "data": {
            "text/plain": [
              "  0%|          | 0/7200 [00:00<?, ?ex/s]"
            ],
            "application/vnd.jupyter.widget-view+json": {
              "version_major": 2,
              "version_minor": 0,
              "model_id": "5474c485be894d3aa30c35b3111100ad"
            }
          },
          "metadata": {}
        },
        {
          "output_type": "display_data",
          "data": {
            "text/plain": [
              "  0%|          | 0/1200 [00:00<?, ?ex/s]"
            ],
            "application/vnd.jupyter.widget-view+json": {
              "version_major": 2,
              "version_minor": 0,
              "model_id": "627323bf0aaf47d7bc126d9f1702b00a"
            }
          },
          "metadata": {}
        },
        {
          "output_type": "display_data",
          "data": {
            "text/plain": [
              "  0%|          | 0/1200 [00:00<?, ?ex/s]"
            ],
            "application/vnd.jupyter.widget-view+json": {
              "version_major": 2,
              "version_minor": 0,
              "model_id": "7c9f3114e5124c7b817fe796a06bed6b"
            }
          },
          "metadata": {}
        },
        {
          "output_type": "execute_result",
          "data": {
            "text/plain": [
              "DatasetDict({\n",
              "    train: Dataset({\n",
              "        features: ['speech', 'sampling_rate', 'target_text'],\n",
              "        num_rows: 7200\n",
              "    })\n",
              "    test: Dataset({\n",
              "        features: ['speech', 'sampling_rate', 'target_text'],\n",
              "        num_rows: 1200\n",
              "    })\n",
              "    valid: Dataset({\n",
              "        features: ['speech', 'sampling_rate', 'target_text'],\n",
              "        num_rows: 1200\n",
              "    })\n",
              "})"
            ]
          },
          "metadata": {},
          "execution_count": 22
        }
      ],
      "source": [
        "speech_datasets = datasets.map(speech_file_to_array_fn, remove_columns=datasets.column_names[\"train\"])\n",
        "speech_datasets"
      ]
    },
    {
      "cell_type": "code",
      "execution_count": 23,
      "metadata": {
        "colab": {
          "base_uri": "https://localhost:8080/",
          "height": 78
        },
        "id": "YVq5RmTdM5XE",
        "outputId": "d626d6bf-430d-4ad3-f16d-055062af862d"
      },
      "outputs": [
        {
          "output_type": "stream",
          "name": "stdout",
          "text": [
            "ฉันมีปัญหาผิวหนังเป็นผื่นคันแดงแดงคล้ายลมพิษ\n"
          ]
        },
        {
          "output_type": "execute_result",
          "data": {
            "text/plain": [
              "<IPython.lib.display.Audio object>"
            ],
            "text/html": [
              "\n",
              "                <audio  controls=\"controls\" autoplay=\"autoplay\">\n",
              "                    <source src=\"data:audio/wav;base64,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\" type=\"audio/wav\" />\n",
              "                    Your browser does not support the audio element.\n",
              "                </audio>\n",
              "              "
            ]
          },
          "metadata": {},
          "execution_count": 23
        }
      ],
      "source": [
        "#sample sounds\n",
        "import IPython.display as ipd\n",
        "import numpy as np\n",
        "import random\n",
        "\n",
        "rand_int = random.randint(0, len(speech_datasets[\"train\"]))\n",
        "print(speech_datasets[\"train\"][rand_int][\"target_text\"])\n",
        "ipd.Audio(data=np.asarray(speech_datasets[\"train\"][rand_int][\"speech\"]), autoplay=True, rate=16000)"
      ]
    },
    {
      "cell_type": "code",
      "execution_count": 24,
      "metadata": {
        "id": "SxVbRwp8N3Bi"
      },
      "outputs": [],
      "source": [
        "def prepare_dataset(batch):\n",
        "    # check that all files have the correct sampling rate\n",
        "    assert (\n",
        "        len(set(batch[\"sampling_rate\"])) == 1\n",
        "    ), f\"Make sure all inputs have the same sampling rate of {processor.feature_extractor.sampling_rate}.\"\n",
        "\n",
        "    batch[\"input_values\"] = processor(batch[\"speech\"], sampling_rate=batch[\"sampling_rate\"][0]).input_values\n",
        "    \n",
        "    with processor.as_target_processor():\n",
        "        batch[\"labels\"] = processor(batch[\"target_text\"]).input_ids\n",
        "    return batch"
      ]
    },
    {
      "cell_type": "code",
      "execution_count": 25,
      "metadata": {
        "colab": {
          "base_uri": "https://localhost:8080/",
          "height": 202,
          "referenced_widgets": [
            "0a1aeca442a84cdeaaac2e823bc32400",
            "2e55b4aed3644b199bd103ed8445636f",
            "d55d9ab579b04940ad6c80684ac8c443",
            "fc98c598c1f5413780141697c50266ec",
            "12e73ab598f24c70a17bf5c7553b9afd",
            "ec939b12450b4a0785ad73d6099bcafb",
            "535e1d8ccd264d42af19582e71e4f87a",
            "dc7dd55305fd470e8e7b044bb8bb1096",
            "e1e1ecd5699b4f01a31df66349494115",
            "0a031f0c77944d6abfeff229818f9ad0",
            "d99bf671688c464e8259a0e9ddd60fe5",
            "8ef29305d63d4a0894b4721d19ec458f",
            "574ef12b71a04265af52c1c8d6efb40f",
            "b9ed94af878144ef8c18aa44b132a81c",
            "8d96561727494385b4e2f933f3660ad2",
            "eb9c8da22deb4359a4a733fc91bf745e",
            "38560a547c0e41a49fe79096a7e387c5",
            "e2f82ed9e69b48528f949564870f2622",
            "b05d99aa5d9647b8b46f08642f1e223e",
            "e877e480840142769b60ddc85abd1153",
            "454a98f04ed14fc0b5776e4503661664",
            "633669812b954e1587cf498a7a792bc7",
            "8b47aac05fb34b368305ab7684159127",
            "ca745b24b5eb41519fd7f54d1ba39f05",
            "280a63ba574043a199be29c12af84d53",
            "01e8e685ac734b3b87b7bcb0aa4c4337",
            "56c1378c0a2a4b86bdea1752a2ecdc74",
            "0c89890f8cb347249876a71613661417",
            "9366f7bd117a45fc808e98918a3bcd22",
            "be3856812edd4d2389804253e1093e0a",
            "f6272057a06644f997fe8945a457160b",
            "9be15d7c83a44fa8ab9763f7eba59468",
            "702f99c63567473c99fabdcd49671ff9"
          ]
        },
        "id": "LO9wKluvN7Q5",
        "outputId": "737d06c9-82fe-49ea-9fdf-0c3af491a30b"
      },
      "outputs": [
        {
          "output_type": "display_data",
          "data": {
            "text/plain": [
              "  0%|          | 0/450 [00:00<?, ?ba/s]"
            ],
            "application/vnd.jupyter.widget-view+json": {
              "version_major": 2,
              "version_minor": 0,
              "model_id": "0a1aeca442a84cdeaaac2e823bc32400"
            }
          },
          "metadata": {}
        },
        {
          "output_type": "stream",
          "name": "stderr",
          "text": [
            "/usr/local/lib/python3.7/dist-packages/transformers/feature_extraction_utils.py:162: VisibleDeprecationWarning: Creating an ndarray from ragged nested sequences (which is a list-or-tuple of lists-or-tuples-or ndarrays with different lengths or shapes) is deprecated. If you meant to do this, you must specify 'dtype=object' when creating the ndarray.\n",
            "  tensor = as_tensor(value)\n",
            "/usr/local/lib/python3.7/dist-packages/transformers/models/wav2vec2/processing_wav2vec2.py:155: UserWarning: `as_target_processor` is deprecated and will be removed in v5 of Transformers. You can process your labels by using the argument `text` of the regular `__call__` method (either in the same call as your audio inputs, or in a separate call.\n",
            "  \"`as_target_processor` is deprecated and will be removed in v5 of Transformers. You can process your \"\n"
          ]
        },
        {
          "output_type": "display_data",
          "data": {
            "text/plain": [
              "  0%|          | 0/75 [00:00<?, ?ba/s]"
            ],
            "application/vnd.jupyter.widget-view+json": {
              "version_major": 2,
              "version_minor": 0,
              "model_id": "8ef29305d63d4a0894b4721d19ec458f"
            }
          },
          "metadata": {}
        },
        {
          "output_type": "display_data",
          "data": {
            "text/plain": [
              "  0%|          | 0/75 [00:00<?, ?ba/s]"
            ],
            "application/vnd.jupyter.widget-view+json": {
              "version_major": 2,
              "version_minor": 0,
              "model_id": "8b47aac05fb34b368305ab7684159127"
            }
          },
          "metadata": {}
        }
      ],
      "source": [
        "prepared_datasets = speech_datasets.map(prepare_dataset, \n",
        "                                        remove_columns=speech_datasets.column_names[\"train\"], \n",
        "                                        batch_size=16,\n",
        "                                        batched=True)"
      ]
    },
    {
      "cell_type": "code",
      "execution_count": 26,
      "metadata": {
        "id": "t4KgcSZCN7yg",
        "colab": {
          "base_uri": "https://localhost:8080/"
        },
        "outputId": "fe3150ca-f825-4195-9e3c-9c2f39da8b8f"
      },
      "outputs": [
        {
          "output_type": "execute_result",
          "data": {
            "text/plain": [
              "DatasetDict({\n",
              "    train: Dataset({\n",
              "        features: ['input_values', 'labels'],\n",
              "        num_rows: 7200\n",
              "    })\n",
              "    test: Dataset({\n",
              "        features: ['input_values', 'labels'],\n",
              "        num_rows: 1200\n",
              "    })\n",
              "    valid: Dataset({\n",
              "        features: ['input_values', 'labels'],\n",
              "        num_rows: 1200\n",
              "    })\n",
              "})"
            ]
          },
          "metadata": {},
          "execution_count": 26
        }
      ],
      "source": [
        "prepared_datasets"
      ]
    },
    {
      "cell_type": "markdown",
      "source": [
        "## Training"
      ],
      "metadata": {
        "id": "GAMWdcQebjrJ"
      }
    },
    {
      "cell_type": "markdown",
      "source": [
        "### Data Collector"
      ],
      "metadata": {
        "id": "2RI2wnvhbmWb"
      }
    },
    {
      "cell_type": "code",
      "source": [
        "import torch\n",
        "\n",
        "from dataclasses import dataclass, field\n",
        "from typing import Any, Dict, List, Optional, Union\n",
        "\n",
        "@dataclass\n",
        "class DataCollatorCTCWithPadding:\n",
        "    \"\"\"\n",
        "    Data collator that will dynamically pad the inputs received.\n",
        "    Args:\n",
        "        processor (:class:`~transformers.Wav2Vec2Processor`)\n",
        "            The processor used for proccessing the data.\n",
        "        padding (:obj:`bool`, :obj:`str` or :class:`~transformers.tokenization_utils_base.PaddingStrategy`, `optional`, defaults to :obj:`True`):\n",
        "            Select a strategy to pad the returned sequences (according to the model's padding side and padding index)\n",
        "            among:\n",
        "            * :obj:`True` or :obj:`'longest'`: Pad to the longest sequence in the batch (or no padding if only a single\n",
        "              sequence if provided).\n",
        "            * :obj:`'max_length'`: Pad to a maximum length specified with the argument :obj:`max_length` or to the\n",
        "              maximum acceptable input length for the model if that argument is not provided.\n",
        "            * :obj:`False` or :obj:`'do_not_pad'` (default): No padding (i.e., can output a batch with sequences of\n",
        "              different lengths).\n",
        "        max_length (:obj:`int`, `optional`):\n",
        "            Maximum length of the ``input_values`` of the returned list and optionally padding length (see above).\n",
        "        max_length_labels (:obj:`int`, `optional`):\n",
        "            Maximum length of the ``labels`` returned list and optionally padding length (see above).\n",
        "        pad_to_multiple_of (:obj:`int`, `optional`):\n",
        "            If set will pad the sequence to a multiple of the provided value.\n",
        "            This is especially useful to enable the use of Tensor Cores on NVIDIA hardware with compute capability >=\n",
        "            7.5 (Volta).\n",
        "    \"\"\"\n",
        "\n",
        "    processor: Wav2Vec2Processor\n",
        "    padding: Union[bool, str] = True\n",
        "    max_length: Optional[int] = None\n",
        "    max_length_labels: Optional[int] = None\n",
        "    pad_to_multiple_of: Optional[int] = None\n",
        "    pad_to_multiple_of_labels: Optional[int] = None\n",
        "\n",
        "    def __call__(self, features: List[Dict[str, Union[List[int], torch.Tensor]]]) -> Dict[str, torch.Tensor]:\n",
        "        # split inputs and labels since they have to be of different lenghts and need\n",
        "        # different padding methods\n",
        "        input_features = [{\"input_values\": feature[\"input_values\"]} for feature in features]\n",
        "        label_features = [{\"input_ids\": feature[\"labels\"]} for feature in features]\n",
        "\n",
        "        batch = self.processor.pad(\n",
        "            input_features,\n",
        "            padding=self.padding,\n",
        "            max_length=self.max_length,\n",
        "            pad_to_multiple_of=self.pad_to_multiple_of,\n",
        "            return_tensors=\"pt\",\n",
        "        )\n",
        "        with self.processor.as_target_processor():\n",
        "            labels_batch = self.processor.pad(\n",
        "                label_features,\n",
        "                padding=self.padding,\n",
        "                max_length=self.max_length_labels,\n",
        "                pad_to_multiple_of=self.pad_to_multiple_of_labels,\n",
        "                return_tensors=\"pt\",\n",
        "            )\n",
        "\n",
        "        # replace padding with -100 to ignore loss correctly\n",
        "        labels = labels_batch[\"input_ids\"].masked_fill(labels_batch.attention_mask.ne(1), -100)\n",
        "\n",
        "        batch[\"labels\"] = labels\n",
        "\n",
        "        return batch"
      ],
      "metadata": {
        "id": "Yn-toCPhblJH"
      },
      "execution_count": 27,
      "outputs": []
    },
    {
      "cell_type": "code",
      "source": [
        "data_collator = DataCollatorCTCWithPadding(processor=processor, padding=True)"
      ],
      "metadata": {
        "id": "gc4P8tIKbrEs"
      },
      "execution_count": 28,
      "outputs": []
    },
    {
      "cell_type": "markdown",
      "metadata": {
        "id": "wbuxQOSoXAdP"
      },
      "source": [
        "### Metric"
      ]
    },
    {
      "cell_type": "markdown",
      "metadata": {
        "id": "rNRUyw36XAdP"
      },
      "source": [
        "We use word error rate with space as word boundary. We created those spaces using `pythainlp.tokenize.word_tokenize` (2.3.1). We also use character error rate without word boundaries."
      ]
    },
    {
      "cell_type": "code",
      "execution_count": 29,
      "metadata": {
        "id": "gkk4F-jJXAdQ"
      },
      "outputs": [],
      "source": [
        "wer_metric = load_metric(\"wer\")"
      ]
    },
    {
      "cell_type": "code",
      "execution_count": 30,
      "metadata": {
        "id": "rpcaFbP0XAdQ",
        "outputId": "38d3ad9f-75da-4f5a-9954-ad992d7c93bf",
        "colab": {
          "base_uri": "https://localhost:8080/"
        }
      },
      "outputs": [
        {
          "output_type": "execute_result",
          "data": {
            "text/plain": [
              "0.5"
            ]
          },
          "metadata": {},
          "execution_count": 30
        }
      ],
      "source": [
        "wer_metric.compute(predictions=['สวัสดี ค่า ทุก โคน'],references=['สวัสดี ค่ะ ทุก คน'])"
      ]
    },
    {
      "cell_type": "code",
      "execution_count": 31,
      "metadata": {
        "id": "gtOEEifOXAdT"
      },
      "outputs": [],
      "source": [
        "cer_metric = load_metric('cer')"
      ]
    },
    {
      "cell_type": "code",
      "execution_count": 32,
      "metadata": {
        "id": "ZwaiFLCwXAdV",
        "outputId": "784a0c53-6f9b-4596-b5cb-78b2d4285484",
        "colab": {
          "base_uri": "https://localhost:8080/"
        }
      },
      "outputs": [
        {
          "output_type": "execute_result",
          "data": {
            "text/plain": [
              "0.11764705882352941"
            ]
          },
          "metadata": {},
          "execution_count": 32
        }
      ],
      "source": [
        "cer_metric.compute(predictions=['สวัสดี ค่า ทุก โคน'],references=['สวัสดี ค่ะ ทุก คน'])"
      ]
    },
    {
      "cell_type": "code",
      "execution_count": 33,
      "metadata": {
        "id": "gX6ltO7jXAdX",
        "outputId": "ab5ffbd8-f110-4e34-d324-ee75a8119abf",
        "colab": {
          "base_uri": "https://localhost:8080/"
        }
      },
      "outputs": [
        {
          "output_type": "execute_result",
          "data": {
            "text/plain": [
              "0.14285714285714285"
            ]
          },
          "metadata": {},
          "execution_count": 33
        }
      ],
      "source": [
        "cer_metric.compute(predictions=['สวัสดีค่าทุกโคน'],references=['สวัสดีค่ะทุกคน'])"
      ]
    },
    {
      "cell_type": "code",
      "execution_count": 34,
      "metadata": {
        "id": "UAypoqWrXAdZ"
      },
      "outputs": [],
      "source": [
        "def compute_metrics(pred, processor, metric):\n",
        "    pred_logits = pred.predictions\n",
        "    pred_ids = np.argmax(pred_logits, axis=-1)\n",
        "\n",
        "    pred.label_ids[pred.label_ids == -100] = processor.tokenizer.pad_token_id\n",
        "\n",
        "    pred_str = processor.batch_decode(pred_ids)\n",
        "    # we do not want to group tokens when computing the metrics\n",
        "    label_str = processor.batch_decode(pred.label_ids, group_tokens=False)\n",
        "\n",
        "    wer = wer_metric.compute(predictions=pred_str, references=label_str)\n",
        "\n",
        "    return {\"wer\": wer}"
      ]
    },
    {
      "cell_type": "code",
      "source": [],
      "metadata": {
        "id": "hVF22SmvbyLz"
      },
      "execution_count": 34,
      "outputs": []
    },
    {
      "cell_type": "markdown",
      "metadata": {
        "id": "XMVqx_csXAdZ"
      },
      "source": [
        "### Model"
      ]
    },
    {
      "cell_type": "markdown",
      "metadata": {
        "id": "sRPZgFWxXAdZ"
      },
      "source": [
        "We use the pretrained `facebook/wav2vec2-large-xlsr-53`. The training script is `scripts/wav2vec_finetune.py`."
      ]
    },
    {
      "cell_type": "code",
      "execution_count": 35,
      "metadata": {
        "id": "NhYJxjMvXAdb",
        "outputId": "a9299ec0-db21-465e-e72a-60fc092d144c",
        "colab": {
          "base_uri": "https://localhost:8080/"
        }
      },
      "outputs": [
        {
          "output_type": "stream",
          "name": "stderr",
          "text": [
            "/usr/local/lib/python3.7/dist-packages/transformers/configuration_utils.py:365: UserWarning: Passing `gradient_checkpointing` to a config initialization is deprecated and will be removed in v5 Transformers. Using `model.gradient_checkpointing_enable()` instead, or if you are using the `Trainer` API, pass `gradient_checkpointing=True` in your `TrainingArguments`.\n",
            "  \"Passing `gradient_checkpointing` to a config initialization is deprecated and will be removed in v5 \"\n"
          ]
        }
      ],
      "source": [
        "model = Wav2Vec2ForCTC.from_pretrained(\n",
        "    \"airesearch/wav2vec2-large-xlsr-53-th\",\n",
        "    attention_dropout=0.1,\n",
        "    hidden_dropout=0.1,\n",
        "    feat_proj_dropout=0.0,\n",
        "    mask_time_prob=0.05,\n",
        "    layerdrop=0.1,\n",
        "    gradient_checkpointing=True,\n",
        "    ctc_loss_reduction=\"mean\",\n",
        "    pad_token_id=processor.tokenizer.pad_token_id,\n",
        "    vocab_size=70\n",
        ")"
      ]
    },
    {
      "cell_type": "markdown",
      "metadata": {
        "id": "nit0PWyoXAdd"
      },
      "source": [
        "We do not finetune the feature extractor layer."
      ]
    },
    {
      "cell_type": "code",
      "execution_count": 36,
      "metadata": {
        "id": "TRoULvJoXAde"
      },
      "outputs": [],
      "source": [
        "model.freeze_feature_encoder()"
      ]
    },
    {
      "cell_type": "code",
      "execution_count": 37,
      "metadata": {
        "id": "WCXj0Ul0XAdf"
      },
      "outputs": [],
      "source": [
        "training_args = TrainingArguments(\n",
        "    output_dir=\"../data/wav2vec2-eldavec-thai\",\n",
        "    group_by_length=True,\n",
        "    per_device_train_batch_size=8,\n",
        "    gradient_accumulation_steps=1,\n",
        "    per_device_eval_batch_size=8,\n",
        "    metric_for_best_model='wer',\n",
        "    evaluation_strategy=\"steps\",\n",
        "    eval_steps=100,\n",
        "    logging_strategy=\"steps\",\n",
        "    logging_steps=100,\n",
        "    save_strategy=\"steps\",\n",
        "    save_steps=100,\n",
        "    num_train_epochs=10,\n",
        "    fp16=True,\n",
        "    learning_rate=1e-4,\n",
        "    warmup_steps=100,\n",
        "    save_total_limit=3,\n",
        "    report_to=\"tensorboard\"\n",
        ")"
      ]
    },
    {
      "cell_type": "code",
      "execution_count": 38,
      "metadata": {
        "id": "u_U7UqyoXAdg",
        "outputId": "24aadfa8-1be8-45dc-e7aa-577bf40d76bd",
        "colab": {
          "base_uri": "https://localhost:8080/"
        }
      },
      "outputs": [
        {
          "output_type": "stream",
          "name": "stderr",
          "text": [
            "Using cuda_amp half precision backend\n"
          ]
        }
      ],
      "source": [
        "trainer = Trainer(\n",
        "    model=model,\n",
        "    data_collator=data_collator,\n",
        "    args=training_args,\n",
        "    compute_metrics=partial(compute_metrics, metric=wer_metric, processor=processor),\n",
        "    train_dataset=prepared_datasets[\"train\"],\n",
        "    eval_dataset=prepared_datasets[\"valid\"],\n",
        "    tokenizer=processor.feature_extractor,\n",
        ")"
      ]
    },
    {
      "cell_type": "code",
      "execution_count": null,
      "metadata": {
        "id": "KsLnciQcXAdg",
        "colab": {
          "base_uri": "https://localhost:8080/",
          "height": 814
        },
        "outputId": "c33174eb-6eaf-4ecf-9793-b3ded9951276"
      },
      "outputs": [
        {
          "output_type": "stream",
          "name": "stderr",
          "text": [
            "/usr/local/lib/python3.7/dist-packages/transformers/optimization.py:310: FutureWarning: This implementation of AdamW is deprecated and will be removed in a future version. Use the PyTorch implementation torch.optim.AdamW instead, or set `no_deprecation_warning=True` to disable this warning\n",
            "  FutureWarning,\n",
            "***** Running training *****\n",
            "  Num examples = 7200\n",
            "  Num Epochs = 10\n",
            "  Instantaneous batch size per device = 8\n",
            "  Total train batch size (w. parallel, distributed & accumulation) = 8\n",
            "  Gradient Accumulation steps = 1\n",
            "  Total optimization steps = 9000\n",
            "/usr/local/lib/python3.7/dist-packages/transformers/models/wav2vec2/processing_wav2vec2.py:155: UserWarning: `as_target_processor` is deprecated and will be removed in v5 of Transformers. You can process your labels by using the argument `text` of the regular `__call__` method (either in the same call as your audio inputs, or in a separate call.\n",
            "  \"`as_target_processor` is deprecated and will be removed in v5 of Transformers. You can process your \"\n"
          ]
        },
        {
          "output_type": "display_data",
          "data": {
            "text/plain": [
              "<IPython.core.display.HTML object>"
            ],
            "text/html": [
              "\n",
              "    <div>\n",
              "      \n",
              "      <progress value='301' max='9000' style='width:300px; height:20px; vertical-align: middle;'></progress>\n",
              "      [ 301/9000 11:46 < 5:42:34, 0.42 it/s, Epoch 0.33/10]\n",
              "    </div>\n",
              "    <table border=\"1\" class=\"dataframe\">\n",
              "  <thead>\n",
              " <tr style=\"text-align: left;\">\n",
              "      <th>Step</th>\n",
              "      <th>Training Loss</th>\n",
              "      <th>Validation Loss</th>\n",
              "      <th>Wer</th>\n",
              "    </tr>\n",
              "  </thead>\n",
              "  <tbody>\n",
              "    <tr>\n",
              "      <td>100</td>\n",
              "      <td>0.712300</td>\n",
              "      <td>0.087259</td>\n",
              "      <td>0.995000</td>\n",
              "    </tr>\n",
              "    <tr>\n",
              "      <td>200</td>\n",
              "      <td>0.146600</td>\n",
              "      <td>0.068604</td>\n",
              "      <td>0.995833</td>\n",
              "    </tr>\n",
              "    <tr>\n",
              "      <td>300</td>\n",
              "      <td>0.146800</td>\n",
              "      <td>0.062357</td>\n",
              "      <td>0.995000</td>\n",
              "    </tr>\n",
              "  </tbody>\n",
              "</table><p>"
            ]
          },
          "metadata": {}
        },
        {
          "output_type": "stream",
          "name": "stderr",
          "text": [
            "/usr/local/lib/python3.7/dist-packages/transformers/trainer.py:1810: FutureWarning: Non-finite norm encountered in torch.nn.utils.clip_grad_norm_; continuing anyway. Note that the default behavior will change in a future release to error out if a non-finite total norm is encountered. At that point, setting error_if_nonfinite=false will be required to retain the old behavior.\n",
            "  args.max_grad_norm,\n",
            "***** Running Evaluation *****\n",
            "  Num examples = 1200\n",
            "  Batch size = 8\n",
            "Saving model checkpoint to ../data/wav2vec2-eldavec-thai/checkpoint-100\n",
            "Configuration saved in ../data/wav2vec2-eldavec-thai/checkpoint-100/config.json\n",
            "Model weights saved in ../data/wav2vec2-eldavec-thai/checkpoint-100/pytorch_model.bin\n",
            "Feature extractor saved in ../data/wav2vec2-eldavec-thai/checkpoint-100/preprocessor_config.json\n",
            "/usr/local/lib/python3.7/dist-packages/transformers/models/wav2vec2/processing_wav2vec2.py:155: UserWarning: `as_target_processor` is deprecated and will be removed in v5 of Transformers. You can process your labels by using the argument `text` of the regular `__call__` method (either in the same call as your audio inputs, or in a separate call.\n",
            "  \"`as_target_processor` is deprecated and will be removed in v5 of Transformers. You can process your \"\n",
            "***** Running Evaluation *****\n",
            "  Num examples = 1200\n",
            "  Batch size = 8\n",
            "Saving model checkpoint to ../data/wav2vec2-eldavec-thai/checkpoint-200\n",
            "Configuration saved in ../data/wav2vec2-eldavec-thai/checkpoint-200/config.json\n",
            "Model weights saved in ../data/wav2vec2-eldavec-thai/checkpoint-200/pytorch_model.bin\n",
            "Feature extractor saved in ../data/wav2vec2-eldavec-thai/checkpoint-200/preprocessor_config.json\n",
            "/usr/local/lib/python3.7/dist-packages/transformers/models/wav2vec2/processing_wav2vec2.py:155: UserWarning: `as_target_processor` is deprecated and will be removed in v5 of Transformers. You can process your labels by using the argument `text` of the regular `__call__` method (either in the same call as your audio inputs, or in a separate call.\n",
            "  \"`as_target_processor` is deprecated and will be removed in v5 of Transformers. You can process your \"\n",
            "***** Running Evaluation *****\n",
            "  Num examples = 1200\n",
            "  Batch size = 8\n",
            "Saving model checkpoint to ../data/wav2vec2-eldavec-thai/checkpoint-300\n",
            "Configuration saved in ../data/wav2vec2-eldavec-thai/checkpoint-300/config.json\n"
          ]
        }
      ],
      "source": [
        "trainer.train()"
      ]
    },
    {
      "cell_type": "markdown",
      "metadata": {
        "id": "qrLdbgb9XAdm"
      },
      "source": [
        "### Infer a few examples"
      ]
    },
    {
      "cell_type": "code",
      "execution_count": null,
      "metadata": {
        "id": "BQYhR63lXAdn"
      },
      "outputs": [],
      "source": [
        "with torch.no_grad():\n",
        "    logits = model(inputs.input_values,).logits\n",
        "\n",
        "predicted_ids = torch.argmax(logits, dim=-1)\n",
        "\n",
        "print(\"Prediction:\", processor.batch_decode(predicted_ids))\n",
        "print(\"Reference:\", test_dataset[\"sentence\"][:2])"
      ]
    },
    {
      "cell_type": "markdown",
      "metadata": {
        "id": "qsyLF-z5XAdo"
      },
      "source": [
        "### Evaluate on test set"
      ]
    },
    {
      "cell_type": "markdown",
      "metadata": {
        "id": "Dh5sdyZFXAdp"
      },
      "source": [
        "We evaluate the test set on WER with PyThaiNLP 2.3.1 word boundaries and CER without spaces."
      ]
    },
    {
      "cell_type": "code",
      "execution_count": null,
      "metadata": {
        "id": "AexCtOjqXAdq"
      },
      "outputs": [],
      "source": [
        "def evaluate(batch):\n",
        "    device = \"cuda\" if torch.cuda.is_available() else \"cpu\"\n",
        "    inputs = processor(batch[\"speech\"], sampling_rate=16_000, return_tensors=\"pt\", padding=True)\n",
        "\n",
        "    with torch.no_grad():\n",
        "        logits = model(inputs.input_values.to(device),).logits\n",
        "\n",
        "    pred_ids = torch.argmax(logits, dim=-1)\n",
        "    batch[\"pred_sentence\"] = processor.batch_decode(pred_ids)\n",
        "    return batch\n",
        "\n",
        "wer_metric = load_metric(\"wer\")\n",
        "cer_metric = load_metric(\"cer\")"
      ]
    },
    {
      "cell_type": "code",
      "execution_count": null,
      "metadata": {
        "id": "FxI0JhTpXAdq"
      },
      "outputs": [],
      "source": [
        "# result = test_dataset.map(evaluate, batched=True, batch_size=8)\n",
        "# result_df = pd.DataFrame({'sentence':result['sentence'].replace(' ',''), \n",
        "#                            'pred_sentence_tok': result['pred_sentence'].replace(' ','')})\n",
        "# result_df['sentence_tok'] = result_df.sentence.map(lambda x: ' '.join(word_tokenize(x)))\n",
        "# result_df['pred_sentence'] = result_df.pred_sentence_tok.map(lambda x: ''.join(x.split()))\n",
        "# #change tokenization to fit pythainlp tokenization\n",
        "# result_df['pred_sentence_tok'] = result_df.pred_sentence.map(lambda x: ' '.join(word_tokenize(x)))\n",
        "\n",
        "# from pythainlp.spell import spell_sent\n",
        "\n",
        "# result_df['pred_sentence_tok_corrected'] = result_df['pred_sentence_tok']\\\n",
        "#     .map(lambda x: ' '.join(spell_sent(x.split(), engine='sympellpy')[0]))\n",
        "# result_df['pred_sentence_corrected'] = result_df['pred_sentence_tok_corrected']\\\n",
        "#     .map(lambda x: ''.join(x.split()))\n",
        "# result_df['pred_sentence_tok_corrected'] = result_df.pred_sentence_corrected.map(lambda x: ' '.join(word_tokenize(x)))\n",
        "\n",
        "# result_df.to_csv('artifacts/result_cv70.csv',index=False)"
      ]
    },
    {
      "cell_type": "code",
      "execution_count": null,
      "metadata": {
        "id": "-ICpaFiyXAdr"
      },
      "outputs": [],
      "source": [
        "result_df = pd.read_csv('artifacts/result_cv70.csv')\n",
        "result_df"
      ]
    },
    {
      "cell_type": "code",
      "execution_count": null,
      "metadata": {
        "id": "BXd9bS6LXAds"
      },
      "outputs": [],
      "source": [
        "#wer\n",
        "wer_metric.compute(predictions=result_df.pred_sentence_tok,references=result_df.sentence_tok)"
      ]
    },
    {
      "cell_type": "code",
      "execution_count": null,
      "metadata": {
        "id": "Ps4sUCMOXAdu"
      },
      "outputs": [],
      "source": [
        "#cer\n",
        "cer_metric.compute(predictions=result_df.pred_sentence,references=result_df.sentence)"
      ]
    },
    {
      "cell_type": "markdown",
      "metadata": {
        "id": "oS5KPbQwXAdu"
      },
      "source": [
        "We can further improve by spell correction using n-grams from [TNC](http://www.arts.chula.ac.th/ling/tnc/)."
      ]
    },
    {
      "cell_type": "code",
      "execution_count": null,
      "metadata": {
        "id": "HJEmdhd0XAdx"
      },
      "outputs": [],
      "source": [
        "# #install pre version of pythainlp to use; will be available in PyThaiNLP 3.0\n",
        "# %pip uninstall pythainlp --yes\n",
        "# %pip install --ignore-requires-python  https://github.com/PyThaiNLP/pythainlp/archive/dev.zip\n",
        "# %pip install symspellpy"
      ]
    },
    {
      "cell_type": "code",
      "execution_count": null,
      "metadata": {
        "id": "6CKLUVISXAdy"
      },
      "outputs": [],
      "source": [
        "from pythainlp.spell import spell_sent\n",
        "\n",
        "result_df['pred_sentence_tok_corrected'] = result_df['pred_sentence_tok']\\\n",
        "    .map(lambda x: ' '.join(spell_sent(x.split(), engine='sympellpy')[0]))\n",
        "result_df['pred_sentence_corrected'] = result_df['pred_sentence_tok_corrected']\\\n",
        "    .map(lambda x: ''.join(x.split()))\n",
        "result_df['pred_sentence_tok_corrected'] = result_df.pred_sentence_corrected.map(lambda x: ' '.join(word_tokenize(x)))\n",
        "\n",
        "result_df"
      ]
    },
    {
      "cell_type": "code",
      "execution_count": null,
      "metadata": {
        "id": "YMR7yDLRXAdy"
      },
      "outputs": [],
      "source": [
        "#wer\n",
        "wer_metric.compute(predictions=result_df.pred_sentence_tok_corrected,references=result_df.sentence_tok)"
      ]
    },
    {
      "cell_type": "code",
      "execution_count": null,
      "metadata": {
        "id": "o0kEowWZXAdz"
      },
      "outputs": [],
      "source": [
        "#cer\n",
        "cer_metric.compute(predictions=result_df.pred_sentence_corrected,references=result_df.sentence)"
      ]
    },
    {
      "cell_type": "code",
      "execution_count": null,
      "metadata": {
        "id": "w_F0Vu9GXAd0"
      },
      "outputs": [],
      "source": [
        "result_df"
      ]
    },
    {
      "cell_type": "code",
      "execution_count": null,
      "metadata": {
        "id": "Tu72mHHhXAd-"
      },
      "outputs": [],
      "source": []
    }
  ],
  "metadata": {
    "colab": {
      "collapsed_sections": [
        "2RI2wnvhbmWb",
        "wbuxQOSoXAdP",
        "qsyLF-z5XAdo"
      ],
      "provenance": [],
      "machine_shape": "hm",
      "authorship_tag": "ABX9TyPczF/i2SRcPKg77sugn+o4",
      "include_colab_link": true
    },
    "kernelspec": {
      "display_name": "Python 3",
      "name": "python3"
    },
    "language_info": {
      "name": "python"
    },
    "widgets": {
      "application/vnd.jupyter.widget-state+json": {
        "f6e0cd8f374149d6b87464890ad50067": {
          "model_module": "@jupyter-widgets/controls",
          "model_name": "VBoxModel",
          "model_module_version": "1.5.0",
          "state": {
            "_dom_classes": [],
            "_model_module": "@jupyter-widgets/controls",
            "_model_module_version": "1.5.0",
            "_model_name": "VBoxModel",
            "_view_count": null,
            "_view_module": "@jupyter-widgets/controls",
            "_view_module_version": "1.5.0",
            "_view_name": "VBoxView",
            "box_style": "",
            "children": [
              "IPY_MODEL_4a5d75c6ed34414cb6d8177042c19073",
              "IPY_MODEL_bb65f75134ea4a30a85a6064e6f7d71d",
              "IPY_MODEL_b3cb1f3df7a14eef9ffc3427a422cf5a",
              "IPY_MODEL_987d59af792141938046203345df74ad"
            ],
            "layout": "IPY_MODEL_3396e17c74814b21ae224caf9bb33e54"
          }
        },
        "4a5d75c6ed34414cb6d8177042c19073": {
          "model_module": "@jupyter-widgets/controls",
          "model_name": "HTMLModel",
          "model_module_version": "1.5.0",
          "state": {
            "_dom_classes": [],
            "_model_module": "@jupyter-widgets/controls",
            "_model_module_version": "1.5.0",
            "_model_name": "HTMLModel",
            "_view_count": null,
            "_view_module": "@jupyter-widgets/controls",
            "_view_module_version": "1.5.0",
            "_view_name": "HTMLView",
            "description": "",
            "description_tooltip": null,
            "layout": "IPY_MODEL_271adeeb5d1845d9b58c50cdd87b8af4",
            "placeholder": "​",
            "style": "IPY_MODEL_7414e9fe44d34ec89f04cccfa907efc3",
            "value": "<center> <img\nsrc=https://huggingface.co/front/assets/huggingface_logo-noborder.svg\nalt='Hugging Face'> <br> Copy a token from <a\nhref=\"https://huggingface.co/settings/tokens\" target=\"_blank\">your Hugging Face\ntokens page</a> and paste it below. <br> Immediately click login after copying\nyour token or it might be stored in plain text in this notebook file. </center>"
          }
        },
        "bb65f75134ea4a30a85a6064e6f7d71d": {
          "model_module": "@jupyter-widgets/controls",
          "model_name": "PasswordModel",
          "model_module_version": "1.5.0",
          "state": {
            "_dom_classes": [],
            "_model_module": "@jupyter-widgets/controls",
            "_model_module_version": "1.5.0",
            "_model_name": "PasswordModel",
            "_view_count": null,
            "_view_module": "@jupyter-widgets/controls",
            "_view_module_version": "1.5.0",
            "_view_name": "PasswordView",
            "continuous_update": true,
            "description": "Token:",
            "description_tooltip": null,
            "disabled": false,
            "layout": "IPY_MODEL_133ae82334214da6a105a2704d8bb8df",
            "placeholder": "​",
            "style": "IPY_MODEL_5c0ae14216334c27be712fa72726bd8f",
            "value": ""
          }
        },
        "b3cb1f3df7a14eef9ffc3427a422cf5a": {
          "model_module": "@jupyter-widgets/controls",
          "model_name": "ButtonModel",
          "model_module_version": "1.5.0",
          "state": {
            "_dom_classes": [],
            "_model_module": "@jupyter-widgets/controls",
            "_model_module_version": "1.5.0",
            "_model_name": "ButtonModel",
            "_view_count": null,
            "_view_module": "@jupyter-widgets/controls",
            "_view_module_version": "1.5.0",
            "_view_name": "ButtonView",
            "button_style": "",
            "description": "Login",
            "disabled": false,
            "icon": "",
            "layout": "IPY_MODEL_23a681c4e40c491bb9ab1148d7d1be33",
            "style": "IPY_MODEL_eb2461deb7d44d1ba1e4393ff2ee75fb",
            "tooltip": ""
          }
        },
        "987d59af792141938046203345df74ad": {
          "model_module": "@jupyter-widgets/controls",
          "model_name": "HTMLModel",
          "model_module_version": "1.5.0",
          "state": {
            "_dom_classes": [],
            "_model_module": "@jupyter-widgets/controls",
            "_model_module_version": "1.5.0",
            "_model_name": "HTMLModel",
            "_view_count": null,
            "_view_module": "@jupyter-widgets/controls",
            "_view_module_version": "1.5.0",
            "_view_name": "HTMLView",
            "description": "",
            "description_tooltip": null,
            "layout": "IPY_MODEL_5a72c2ddfcba43ee9621656252219496",
            "placeholder": "​",
            "style": "IPY_MODEL_bd1d7ab29ed740718dc623b97e0b6681",
            "value": "\n<b>Pro Tip:</b> If you don't already have one, you can create a dedicated\n'notebooks' token with 'write' access, that you can then easily reuse for all\nnotebooks. </center>"
          }
        },
        "3396e17c74814b21ae224caf9bb33e54": {
          "model_module": "@jupyter-widgets/base",
          "model_name": "LayoutModel",
          "model_module_version": "1.2.0",
          "state": {
            "_model_module": "@jupyter-widgets/base",
            "_model_module_version": "1.2.0",
            "_model_name": "LayoutModel",
            "_view_count": null,
            "_view_module": "@jupyter-widgets/base",
            "_view_module_version": "1.2.0",
            "_view_name": "LayoutView",
            "align_content": null,
            "align_items": "center",
            "align_self": null,
            "border": null,
            "bottom": null,
            "display": "flex",
            "flex": null,
            "flex_flow": "column",
            "grid_area": null,
            "grid_auto_columns": null,
            "grid_auto_flow": null,
            "grid_auto_rows": null,
            "grid_column": null,
            "grid_gap": null,
            "grid_row": null,
            "grid_template_areas": null,
            "grid_template_columns": null,
            "grid_template_rows": null,
            "height": null,
            "justify_content": null,
            "justify_items": null,
            "left": null,
            "margin": null,
            "max_height": null,
            "max_width": null,
            "min_height": null,
            "min_width": null,
            "object_fit": null,
            "object_position": null,
            "order": null,
            "overflow": null,
            "overflow_x": null,
            "overflow_y": null,
            "padding": null,
            "right": null,
            "top": null,
            "visibility": null,
            "width": "50%"
          }
        },
        "271adeeb5d1845d9b58c50cdd87b8af4": {
          "model_module": "@jupyter-widgets/base",
          "model_name": "LayoutModel",
          "model_module_version": "1.2.0",
          "state": {
            "_model_module": "@jupyter-widgets/base",
            "_model_module_version": "1.2.0",
            "_model_name": "LayoutModel",
            "_view_count": null,
            "_view_module": "@jupyter-widgets/base",
            "_view_module_version": "1.2.0",
            "_view_name": "LayoutView",
            "align_content": null,
            "align_items": null,
            "align_self": null,
            "border": null,
            "bottom": null,
            "display": null,
            "flex": null,
            "flex_flow": null,
            "grid_area": null,
            "grid_auto_columns": null,
            "grid_auto_flow": null,
            "grid_auto_rows": null,
            "grid_column": null,
            "grid_gap": null,
            "grid_row": null,
            "grid_template_areas": null,
            "grid_template_columns": null,
            "grid_template_rows": null,
            "height": null,
            "justify_content": null,
            "justify_items": null,
            "left": null,
            "margin": null,
            "max_height": null,
            "max_width": null,
            "min_height": null,
            "min_width": null,
            "object_fit": null,
            "object_position": null,
            "order": null,
            "overflow": null,
            "overflow_x": null,
            "overflow_y": null,
            "padding": null,
            "right": null,
            "top": null,
            "visibility": null,
            "width": null
          }
        },
        "7414e9fe44d34ec89f04cccfa907efc3": {
          "model_module": "@jupyter-widgets/controls",
          "model_name": "DescriptionStyleModel",
          "model_module_version": "1.5.0",
          "state": {
            "_model_module": "@jupyter-widgets/controls",
            "_model_module_version": "1.5.0",
            "_model_name": "DescriptionStyleModel",
            "_view_count": null,
            "_view_module": "@jupyter-widgets/base",
            "_view_module_version": "1.2.0",
            "_view_name": "StyleView",
            "description_width": ""
          }
        },
        "133ae82334214da6a105a2704d8bb8df": {
          "model_module": "@jupyter-widgets/base",
          "model_name": "LayoutModel",
          "model_module_version": "1.2.0",
          "state": {
            "_model_module": "@jupyter-widgets/base",
            "_model_module_version": "1.2.0",
            "_model_name": "LayoutModel",
            "_view_count": null,
            "_view_module": "@jupyter-widgets/base",
            "_view_module_version": "1.2.0",
            "_view_name": "LayoutView",
            "align_content": null,
            "align_items": null,
            "align_self": null,
            "border": null,
            "bottom": null,
            "display": null,
            "flex": null,
            "flex_flow": null,
            "grid_area": null,
            "grid_auto_columns": null,
            "grid_auto_flow": null,
            "grid_auto_rows": null,
            "grid_column": null,
            "grid_gap": null,
            "grid_row": null,
            "grid_template_areas": null,
            "grid_template_columns": null,
            "grid_template_rows": null,
            "height": null,
            "justify_content": null,
            "justify_items": null,
            "left": null,
            "margin": null,
            "max_height": null,
            "max_width": null,
            "min_height": null,
            "min_width": null,
            "object_fit": null,
            "object_position": null,
            "order": null,
            "overflow": null,
            "overflow_x": null,
            "overflow_y": null,
            "padding": null,
            "right": null,
            "top": null,
            "visibility": null,
            "width": null
          }
        },
        "5c0ae14216334c27be712fa72726bd8f": {
          "model_module": "@jupyter-widgets/controls",
          "model_name": "DescriptionStyleModel",
          "model_module_version": "1.5.0",
          "state": {
            "_model_module": "@jupyter-widgets/controls",
            "_model_module_version": "1.5.0",
            "_model_name": "DescriptionStyleModel",
            "_view_count": null,
            "_view_module": "@jupyter-widgets/base",
            "_view_module_version": "1.2.0",
            "_view_name": "StyleView",
            "description_width": ""
          }
        },
        "23a681c4e40c491bb9ab1148d7d1be33": {
          "model_module": "@jupyter-widgets/base",
          "model_name": "LayoutModel",
          "model_module_version": "1.2.0",
          "state": {
            "_model_module": "@jupyter-widgets/base",
            "_model_module_version": "1.2.0",
            "_model_name": "LayoutModel",
            "_view_count": null,
            "_view_module": "@jupyter-widgets/base",
            "_view_module_version": "1.2.0",
            "_view_name": "LayoutView",
            "align_content": null,
            "align_items": null,
            "align_self": null,
            "border": null,
            "bottom": null,
            "display": null,
            "flex": null,
            "flex_flow": null,
            "grid_area": null,
            "grid_auto_columns": null,
            "grid_auto_flow": null,
            "grid_auto_rows": null,
            "grid_column": null,
            "grid_gap": null,
            "grid_row": null,
            "grid_template_areas": null,
            "grid_template_columns": null,
            "grid_template_rows": null,
            "height": null,
            "justify_content": null,
            "justify_items": null,
            "left": null,
            "margin": null,
            "max_height": null,
            "max_width": null,
            "min_height": null,
            "min_width": null,
            "object_fit": null,
            "object_position": null,
            "order": null,
            "overflow": null,
            "overflow_x": null,
            "overflow_y": null,
            "padding": null,
            "right": null,
            "top": null,
            "visibility": null,
            "width": null
          }
        },
        "eb2461deb7d44d1ba1e4393ff2ee75fb": {
          "model_module": "@jupyter-widgets/controls",
          "model_name": "ButtonStyleModel",
          "model_module_version": "1.5.0",
          "state": {
            "_model_module": "@jupyter-widgets/controls",
            "_model_module_version": "1.5.0",
            "_model_name": "ButtonStyleModel",
            "_view_count": null,
            "_view_module": "@jupyter-widgets/base",
            "_view_module_version": "1.2.0",
            "_view_name": "StyleView",
            "button_color": null,
            "font_weight": ""
          }
        },
        "5a72c2ddfcba43ee9621656252219496": {
          "model_module": "@jupyter-widgets/base",
          "model_name": "LayoutModel",
          "model_module_version": "1.2.0",
          "state": {
            "_model_module": "@jupyter-widgets/base",
            "_model_module_version": "1.2.0",
            "_model_name": "LayoutModel",
            "_view_count": null,
            "_view_module": "@jupyter-widgets/base",
            "_view_module_version": "1.2.0",
            "_view_name": "LayoutView",
            "align_content": null,
            "align_items": null,
            "align_self": null,
            "border": null,
            "bottom": null,
            "display": null,
            "flex": null,
            "flex_flow": null,
            "grid_area": null,
            "grid_auto_columns": null,
            "grid_auto_flow": null,
            "grid_auto_rows": null,
            "grid_column": null,
            "grid_gap": null,
            "grid_row": null,
            "grid_template_areas": null,
            "grid_template_columns": null,
            "grid_template_rows": null,
            "height": null,
            "justify_content": null,
            "justify_items": null,
            "left": null,
            "margin": null,
            "max_height": null,
            "max_width": null,
            "min_height": null,
            "min_width": null,
            "object_fit": null,
            "object_position": null,
            "order": null,
            "overflow": null,
            "overflow_x": null,
            "overflow_y": null,
            "padding": null,
            "right": null,
            "top": null,
            "visibility": null,
            "width": null
          }
        },
        "bd1d7ab29ed740718dc623b97e0b6681": {
          "model_module": "@jupyter-widgets/controls",
          "model_name": "DescriptionStyleModel",
          "model_module_version": "1.5.0",
          "state": {
            "_model_module": "@jupyter-widgets/controls",
            "_model_module_version": "1.5.0",
            "_model_name": "DescriptionStyleModel",
            "_view_count": null,
            "_view_module": "@jupyter-widgets/base",
            "_view_module_version": "1.2.0",
            "_view_name": "StyleView",
            "description_width": ""
          }
        },
        "f3cd2d375e0e4cfcbc1f869b0c1cc22e": {
          "model_module": "@jupyter-widgets/controls",
          "model_name": "HBoxModel",
          "model_module_version": "1.5.0",
          "state": {
            "_dom_classes": [],
            "_model_module": "@jupyter-widgets/controls",
            "_model_module_version": "1.5.0",
            "_model_name": "HBoxModel",
            "_view_count": null,
            "_view_module": "@jupyter-widgets/controls",
            "_view_module_version": "1.5.0",
            "_view_name": "HBoxView",
            "box_style": "",
            "children": [
              "IPY_MODEL_6c1697f3ed904289ad63449968993218",
              "IPY_MODEL_936e0e17c31046bf8ae4e92ec66ae690",
              "IPY_MODEL_841ca0096f2d4395ab63398709c3ec18"
            ],
            "layout": "IPY_MODEL_e006e4c9a5344a6a9e161d3a79c5bea8"
          }
        },
        "6c1697f3ed904289ad63449968993218": {
          "model_module": "@jupyter-widgets/controls",
          "model_name": "HTMLModel",
          "model_module_version": "1.5.0",
          "state": {
            "_dom_classes": [],
            "_model_module": "@jupyter-widgets/controls",
            "_model_module_version": "1.5.0",
            "_model_name": "HTMLModel",
            "_view_count": null,
            "_view_module": "@jupyter-widgets/controls",
            "_view_module_version": "1.5.0",
            "_view_name": "HTMLView",
            "description": "",
            "description_tooltip": null,
            "layout": "IPY_MODEL_4f5d0389f7bd47fe8260d0d5be880615",
            "placeholder": "​",
            "style": "IPY_MODEL_2a7c49134386412a8f16f4504a012cd6",
            "value": "Downloading data files: 100%"
          }
        },
        "936e0e17c31046bf8ae4e92ec66ae690": {
          "model_module": "@jupyter-widgets/controls",
          "model_name": "FloatProgressModel",
          "model_module_version": "1.5.0",
          "state": {
            "_dom_classes": [],
            "_model_module": "@jupyter-widgets/controls",
            "_model_module_version": "1.5.0",
            "_model_name": "FloatProgressModel",
            "_view_count": null,
            "_view_module": "@jupyter-widgets/controls",
            "_view_module_version": "1.5.0",
            "_view_name": "ProgressView",
            "bar_style": "success",
            "description": "",
            "description_tooltip": null,
            "layout": "IPY_MODEL_27c81a0da0dc47de8e4b321ed12aceeb",
            "max": 3,
            "min": 0,
            "orientation": "horizontal",
            "style": "IPY_MODEL_2a85327b04134f31a4a9ebdda73cc965",
            "value": 3
          }
        },
        "841ca0096f2d4395ab63398709c3ec18": {
          "model_module": "@jupyter-widgets/controls",
          "model_name": "HTMLModel",
          "model_module_version": "1.5.0",
          "state": {
            "_dom_classes": [],
            "_model_module": "@jupyter-widgets/controls",
            "_model_module_version": "1.5.0",
            "_model_name": "HTMLModel",
            "_view_count": null,
            "_view_module": "@jupyter-widgets/controls",
            "_view_module_version": "1.5.0",
            "_view_name": "HTMLView",
            "description": "",
            "description_tooltip": null,
            "layout": "IPY_MODEL_c0d17bf50ddd42c5b13bf73390f2b229",
            "placeholder": "​",
            "style": "IPY_MODEL_d9e09a65ee2643659a7f0bece3ae275d",
            "value": " 3/3 [00:00&lt;00:00, 77.39it/s]"
          }
        },
        "e006e4c9a5344a6a9e161d3a79c5bea8": {
          "model_module": "@jupyter-widgets/base",
          "model_name": "LayoutModel",
          "model_module_version": "1.2.0",
          "state": {
            "_model_module": "@jupyter-widgets/base",
            "_model_module_version": "1.2.0",
            "_model_name": "LayoutModel",
            "_view_count": null,
            "_view_module": "@jupyter-widgets/base",
            "_view_module_version": "1.2.0",
            "_view_name": "LayoutView",
            "align_content": null,
            "align_items": null,
            "align_self": null,
            "border": null,
            "bottom": null,
            "display": null,
            "flex": null,
            "flex_flow": null,
            "grid_area": null,
            "grid_auto_columns": null,
            "grid_auto_flow": null,
            "grid_auto_rows": null,
            "grid_column": null,
            "grid_gap": null,
            "grid_row": null,
            "grid_template_areas": null,
            "grid_template_columns": null,
            "grid_template_rows": null,
            "height": null,
            "justify_content": null,
            "justify_items": null,
            "left": null,
            "margin": null,
            "max_height": null,
            "max_width": null,
            "min_height": null,
            "min_width": null,
            "object_fit": null,
            "object_position": null,
            "order": null,
            "overflow": null,
            "overflow_x": null,
            "overflow_y": null,
            "padding": null,
            "right": null,
            "top": null,
            "visibility": null,
            "width": null
          }
        },
        "4f5d0389f7bd47fe8260d0d5be880615": {
          "model_module": "@jupyter-widgets/base",
          "model_name": "LayoutModel",
          "model_module_version": "1.2.0",
          "state": {
            "_model_module": "@jupyter-widgets/base",
            "_model_module_version": "1.2.0",
            "_model_name": "LayoutModel",
            "_view_count": null,
            "_view_module": "@jupyter-widgets/base",
            "_view_module_version": "1.2.0",
            "_view_name": "LayoutView",
            "align_content": null,
            "align_items": null,
            "align_self": null,
            "border": null,
            "bottom": null,
            "display": null,
            "flex": null,
            "flex_flow": null,
            "grid_area": null,
            "grid_auto_columns": null,
            "grid_auto_flow": null,
            "grid_auto_rows": null,
            "grid_column": null,
            "grid_gap": null,
            "grid_row": null,
            "grid_template_areas": null,
            "grid_template_columns": null,
            "grid_template_rows": null,
            "height": null,
            "justify_content": null,
            "justify_items": null,
            "left": null,
            "margin": null,
            "max_height": null,
            "max_width": null,
            "min_height": null,
            "min_width": null,
            "object_fit": null,
            "object_position": null,
            "order": null,
            "overflow": null,
            "overflow_x": null,
            "overflow_y": null,
            "padding": null,
            "right": null,
            "top": null,
            "visibility": null,
            "width": null
          }
        },
        "2a7c49134386412a8f16f4504a012cd6": {
          "model_module": "@jupyter-widgets/controls",
          "model_name": "DescriptionStyleModel",
          "model_module_version": "1.5.0",
          "state": {
            "_model_module": "@jupyter-widgets/controls",
            "_model_module_version": "1.5.0",
            "_model_name": "DescriptionStyleModel",
            "_view_count": null,
            "_view_module": "@jupyter-widgets/base",
            "_view_module_version": "1.2.0",
            "_view_name": "StyleView",
            "description_width": ""
          }
        },
        "27c81a0da0dc47de8e4b321ed12aceeb": {
          "model_module": "@jupyter-widgets/base",
          "model_name": "LayoutModel",
          "model_module_version": "1.2.0",
          "state": {
            "_model_module": "@jupyter-widgets/base",
            "_model_module_version": "1.2.0",
            "_model_name": "LayoutModel",
            "_view_count": null,
            "_view_module": "@jupyter-widgets/base",
            "_view_module_version": "1.2.0",
            "_view_name": "LayoutView",
            "align_content": null,
            "align_items": null,
            "align_self": null,
            "border": null,
            "bottom": null,
            "display": null,
            "flex": null,
            "flex_flow": null,
            "grid_area": null,
            "grid_auto_columns": null,
            "grid_auto_flow": null,
            "grid_auto_rows": null,
            "grid_column": null,
            "grid_gap": null,
            "grid_row": null,
            "grid_template_areas": null,
            "grid_template_columns": null,
            "grid_template_rows": null,
            "height": null,
            "justify_content": null,
            "justify_items": null,
            "left": null,
            "margin": null,
            "max_height": null,
            "max_width": null,
            "min_height": null,
            "min_width": null,
            "object_fit": null,
            "object_position": null,
            "order": null,
            "overflow": null,
            "overflow_x": null,
            "overflow_y": null,
            "padding": null,
            "right": null,
            "top": null,
            "visibility": null,
            "width": null
          }
        },
        "2a85327b04134f31a4a9ebdda73cc965": {
          "model_module": "@jupyter-widgets/controls",
          "model_name": "ProgressStyleModel",
          "model_module_version": "1.5.0",
          "state": {
            "_model_module": "@jupyter-widgets/controls",
            "_model_module_version": "1.5.0",
            "_model_name": "ProgressStyleModel",
            "_view_count": null,
            "_view_module": "@jupyter-widgets/base",
            "_view_module_version": "1.2.0",
            "_view_name": "StyleView",
            "bar_color": null,
            "description_width": ""
          }
        },
        "c0d17bf50ddd42c5b13bf73390f2b229": {
          "model_module": "@jupyter-widgets/base",
          "model_name": "LayoutModel",
          "model_module_version": "1.2.0",
          "state": {
            "_model_module": "@jupyter-widgets/base",
            "_model_module_version": "1.2.0",
            "_model_name": "LayoutModel",
            "_view_count": null,
            "_view_module": "@jupyter-widgets/base",
            "_view_module_version": "1.2.0",
            "_view_name": "LayoutView",
            "align_content": null,
            "align_items": null,
            "align_self": null,
            "border": null,
            "bottom": null,
            "display": null,
            "flex": null,
            "flex_flow": null,
            "grid_area": null,
            "grid_auto_columns": null,
            "grid_auto_flow": null,
            "grid_auto_rows": null,
            "grid_column": null,
            "grid_gap": null,
            "grid_row": null,
            "grid_template_areas": null,
            "grid_template_columns": null,
            "grid_template_rows": null,
            "height": null,
            "justify_content": null,
            "justify_items": null,
            "left": null,
            "margin": null,
            "max_height": null,
            "max_width": null,
            "min_height": null,
            "min_width": null,
            "object_fit": null,
            "object_position": null,
            "order": null,
            "overflow": null,
            "overflow_x": null,
            "overflow_y": null,
            "padding": null,
            "right": null,
            "top": null,
            "visibility": null,
            "width": null
          }
        },
        "d9e09a65ee2643659a7f0bece3ae275d": {
          "model_module": "@jupyter-widgets/controls",
          "model_name": "DescriptionStyleModel",
          "model_module_version": "1.5.0",
          "state": {
            "_model_module": "@jupyter-widgets/controls",
            "_model_module_version": "1.5.0",
            "_model_name": "DescriptionStyleModel",
            "_view_count": null,
            "_view_module": "@jupyter-widgets/base",
            "_view_module_version": "1.2.0",
            "_view_name": "StyleView",
            "description_width": ""
          }
        },
        "edfec0b30fe34907a84531d789564979": {
          "model_module": "@jupyter-widgets/controls",
          "model_name": "HBoxModel",
          "model_module_version": "1.5.0",
          "state": {
            "_dom_classes": [],
            "_model_module": "@jupyter-widgets/controls",
            "_model_module_version": "1.5.0",
            "_model_name": "HBoxModel",
            "_view_count": null,
            "_view_module": "@jupyter-widgets/controls",
            "_view_module_version": "1.5.0",
            "_view_name": "HBoxView",
            "box_style": "",
            "children": [
              "IPY_MODEL_54c36e4e4a674415821c5e5417341ffc",
              "IPY_MODEL_d153428bc36e48a780b18f2924d0fce2",
              "IPY_MODEL_cec08497ac554943a4d839163adc4fd8"
            ],
            "layout": "IPY_MODEL_1ee52013993e4483ad66a689a3090560"
          }
        },
        "54c36e4e4a674415821c5e5417341ffc": {
          "model_module": "@jupyter-widgets/controls",
          "model_name": "HTMLModel",
          "model_module_version": "1.5.0",
          "state": {
            "_dom_classes": [],
            "_model_module": "@jupyter-widgets/controls",
            "_model_module_version": "1.5.0",
            "_model_name": "HTMLModel",
            "_view_count": null,
            "_view_module": "@jupyter-widgets/controls",
            "_view_module_version": "1.5.0",
            "_view_name": "HTMLView",
            "description": "",
            "description_tooltip": null,
            "layout": "IPY_MODEL_6bab990f42d14c07975549d7d8891db8",
            "placeholder": "​",
            "style": "IPY_MODEL_6d4e987fd25c4f3b92433a3ae5eae8c3",
            "value": "Extracting data files: 100%"
          }
        },
        "d153428bc36e48a780b18f2924d0fce2": {
          "model_module": "@jupyter-widgets/controls",
          "model_name": "FloatProgressModel",
          "model_module_version": "1.5.0",
          "state": {
            "_dom_classes": [],
            "_model_module": "@jupyter-widgets/controls",
            "_model_module_version": "1.5.0",
            "_model_name": "FloatProgressModel",
            "_view_count": null,
            "_view_module": "@jupyter-widgets/controls",
            "_view_module_version": "1.5.0",
            "_view_name": "ProgressView",
            "bar_style": "success",
            "description": "",
            "description_tooltip": null,
            "layout": "IPY_MODEL_8038e2fff9eb44f4b61bbec3f5353717",
            "max": 3,
            "min": 0,
            "orientation": "horizontal",
            "style": "IPY_MODEL_7dbf30a390c1415688c1abadb72a1607",
            "value": 3
          }
        },
        "cec08497ac554943a4d839163adc4fd8": {
          "model_module": "@jupyter-widgets/controls",
          "model_name": "HTMLModel",
          "model_module_version": "1.5.0",
          "state": {
            "_dom_classes": [],
            "_model_module": "@jupyter-widgets/controls",
            "_model_module_version": "1.5.0",
            "_model_name": "HTMLModel",
            "_view_count": null,
            "_view_module": "@jupyter-widgets/controls",
            "_view_module_version": "1.5.0",
            "_view_name": "HTMLView",
            "description": "",
            "description_tooltip": null,
            "layout": "IPY_MODEL_821b53ecdcfb45e88051a67156c15e2a",
            "placeholder": "​",
            "style": "IPY_MODEL_ecfe37bd79ac411cb3ee1d09c8f76ada",
            "value": " 3/3 [00:00&lt;00:00, 61.69it/s]"
          }
        },
        "1ee52013993e4483ad66a689a3090560": {
          "model_module": "@jupyter-widgets/base",
          "model_name": "LayoutModel",
          "model_module_version": "1.2.0",
          "state": {
            "_model_module": "@jupyter-widgets/base",
            "_model_module_version": "1.2.0",
            "_model_name": "LayoutModel",
            "_view_count": null,
            "_view_module": "@jupyter-widgets/base",
            "_view_module_version": "1.2.0",
            "_view_name": "LayoutView",
            "align_content": null,
            "align_items": null,
            "align_self": null,
            "border": null,
            "bottom": null,
            "display": null,
            "flex": null,
            "flex_flow": null,
            "grid_area": null,
            "grid_auto_columns": null,
            "grid_auto_flow": null,
            "grid_auto_rows": null,
            "grid_column": null,
            "grid_gap": null,
            "grid_row": null,
            "grid_template_areas": null,
            "grid_template_columns": null,
            "grid_template_rows": null,
            "height": null,
            "justify_content": null,
            "justify_items": null,
            "left": null,
            "margin": null,
            "max_height": null,
            "max_width": null,
            "min_height": null,
            "min_width": null,
            "object_fit": null,
            "object_position": null,
            "order": null,
            "overflow": null,
            "overflow_x": null,
            "overflow_y": null,
            "padding": null,
            "right": null,
            "top": null,
            "visibility": null,
            "width": null
          }
        },
        "6bab990f42d14c07975549d7d8891db8": {
          "model_module": "@jupyter-widgets/base",
          "model_name": "LayoutModel",
          "model_module_version": "1.2.0",
          "state": {
            "_model_module": "@jupyter-widgets/base",
            "_model_module_version": "1.2.0",
            "_model_name": "LayoutModel",
            "_view_count": null,
            "_view_module": "@jupyter-widgets/base",
            "_view_module_version": "1.2.0",
            "_view_name": "LayoutView",
            "align_content": null,
            "align_items": null,
            "align_self": null,
            "border": null,
            "bottom": null,
            "display": null,
            "flex": null,
            "flex_flow": null,
            "grid_area": null,
            "grid_auto_columns": null,
            "grid_auto_flow": null,
            "grid_auto_rows": null,
            "grid_column": null,
            "grid_gap": null,
            "grid_row": null,
            "grid_template_areas": null,
            "grid_template_columns": null,
            "grid_template_rows": null,
            "height": null,
            "justify_content": null,
            "justify_items": null,
            "left": null,
            "margin": null,
            "max_height": null,
            "max_width": null,
            "min_height": null,
            "min_width": null,
            "object_fit": null,
            "object_position": null,
            "order": null,
            "overflow": null,
            "overflow_x": null,
            "overflow_y": null,
            "padding": null,
            "right": null,
            "top": null,
            "visibility": null,
            "width": null
          }
        },
        "6d4e987fd25c4f3b92433a3ae5eae8c3": {
          "model_module": "@jupyter-widgets/controls",
          "model_name": "DescriptionStyleModel",
          "model_module_version": "1.5.0",
          "state": {
            "_model_module": "@jupyter-widgets/controls",
            "_model_module_version": "1.5.0",
            "_model_name": "DescriptionStyleModel",
            "_view_count": null,
            "_view_module": "@jupyter-widgets/base",
            "_view_module_version": "1.2.0",
            "_view_name": "StyleView",
            "description_width": ""
          }
        },
        "8038e2fff9eb44f4b61bbec3f5353717": {
          "model_module": "@jupyter-widgets/base",
          "model_name": "LayoutModel",
          "model_module_version": "1.2.0",
          "state": {
            "_model_module": "@jupyter-widgets/base",
            "_model_module_version": "1.2.0",
            "_model_name": "LayoutModel",
            "_view_count": null,
            "_view_module": "@jupyter-widgets/base",
            "_view_module_version": "1.2.0",
            "_view_name": "LayoutView",
            "align_content": null,
            "align_items": null,
            "align_self": null,
            "border": null,
            "bottom": null,
            "display": null,
            "flex": null,
            "flex_flow": null,
            "grid_area": null,
            "grid_auto_columns": null,
            "grid_auto_flow": null,
            "grid_auto_rows": null,
            "grid_column": null,
            "grid_gap": null,
            "grid_row": null,
            "grid_template_areas": null,
            "grid_template_columns": null,
            "grid_template_rows": null,
            "height": null,
            "justify_content": null,
            "justify_items": null,
            "left": null,
            "margin": null,
            "max_height": null,
            "max_width": null,
            "min_height": null,
            "min_width": null,
            "object_fit": null,
            "object_position": null,
            "order": null,
            "overflow": null,
            "overflow_x": null,
            "overflow_y": null,
            "padding": null,
            "right": null,
            "top": null,
            "visibility": null,
            "width": null
          }
        },
        "7dbf30a390c1415688c1abadb72a1607": {
          "model_module": "@jupyter-widgets/controls",
          "model_name": "ProgressStyleModel",
          "model_module_version": "1.5.0",
          "state": {
            "_model_module": "@jupyter-widgets/controls",
            "_model_module_version": "1.5.0",
            "_model_name": "ProgressStyleModel",
            "_view_count": null,
            "_view_module": "@jupyter-widgets/base",
            "_view_module_version": "1.2.0",
            "_view_name": "StyleView",
            "bar_color": null,
            "description_width": ""
          }
        },
        "821b53ecdcfb45e88051a67156c15e2a": {
          "model_module": "@jupyter-widgets/base",
          "model_name": "LayoutModel",
          "model_module_version": "1.2.0",
          "state": {
            "_model_module": "@jupyter-widgets/base",
            "_model_module_version": "1.2.0",
            "_model_name": "LayoutModel",
            "_view_count": null,
            "_view_module": "@jupyter-widgets/base",
            "_view_module_version": "1.2.0",
            "_view_name": "LayoutView",
            "align_content": null,
            "align_items": null,
            "align_self": null,
            "border": null,
            "bottom": null,
            "display": null,
            "flex": null,
            "flex_flow": null,
            "grid_area": null,
            "grid_auto_columns": null,
            "grid_auto_flow": null,
            "grid_auto_rows": null,
            "grid_column": null,
            "grid_gap": null,
            "grid_row": null,
            "grid_template_areas": null,
            "grid_template_columns": null,
            "grid_template_rows": null,
            "height": null,
            "justify_content": null,
            "justify_items": null,
            "left": null,
            "margin": null,
            "max_height": null,
            "max_width": null,
            "min_height": null,
            "min_width": null,
            "object_fit": null,
            "object_position": null,
            "order": null,
            "overflow": null,
            "overflow_x": null,
            "overflow_y": null,
            "padding": null,
            "right": null,
            "top": null,
            "visibility": null,
            "width": null
          }
        },
        "ecfe37bd79ac411cb3ee1d09c8f76ada": {
          "model_module": "@jupyter-widgets/controls",
          "model_name": "DescriptionStyleModel",
          "model_module_version": "1.5.0",
          "state": {
            "_model_module": "@jupyter-widgets/controls",
            "_model_module_version": "1.5.0",
            "_model_name": "DescriptionStyleModel",
            "_view_count": null,
            "_view_module": "@jupyter-widgets/base",
            "_view_module_version": "1.2.0",
            "_view_name": "StyleView",
            "description_width": ""
          }
        },
        "3399bc6f6b8e40a6a40d1c9d6e2f20a7": {
          "model_module": "@jupyter-widgets/controls",
          "model_name": "HBoxModel",
          "model_module_version": "1.5.0",
          "state": {
            "_dom_classes": [],
            "_model_module": "@jupyter-widgets/controls",
            "_model_module_version": "1.5.0",
            "_model_name": "HBoxModel",
            "_view_count": null,
            "_view_module": "@jupyter-widgets/controls",
            "_view_module_version": "1.5.0",
            "_view_name": "HBoxView",
            "box_style": "",
            "children": [
              "IPY_MODEL_b465f9d3628d4a109474008bb198c5e8",
              "IPY_MODEL_0ae0e001c3344e4d87e541502027603a",
              "IPY_MODEL_2133ba3904544ffebc6903693a4028dd"
            ],
            "layout": "IPY_MODEL_c18144691c484d6db28f0c79fb79e968"
          }
        },
        "b465f9d3628d4a109474008bb198c5e8": {
          "model_module": "@jupyter-widgets/controls",
          "model_name": "HTMLModel",
          "model_module_version": "1.5.0",
          "state": {
            "_dom_classes": [],
            "_model_module": "@jupyter-widgets/controls",
            "_model_module_version": "1.5.0",
            "_model_name": "HTMLModel",
            "_view_count": null,
            "_view_module": "@jupyter-widgets/controls",
            "_view_module_version": "1.5.0",
            "_view_name": "HTMLView",
            "description": "",
            "description_tooltip": null,
            "layout": "IPY_MODEL_986e6b8aae9641e8bd66f56e3b4b5ae9",
            "placeholder": "​",
            "style": "IPY_MODEL_daab8b066904431cbce5400114e6875d",
            "value": ""
          }
        },
        "0ae0e001c3344e4d87e541502027603a": {
          "model_module": "@jupyter-widgets/controls",
          "model_name": "FloatProgressModel",
          "model_module_version": "1.5.0",
          "state": {
            "_dom_classes": [],
            "_model_module": "@jupyter-widgets/controls",
            "_model_module_version": "1.5.0",
            "_model_name": "FloatProgressModel",
            "_view_count": null,
            "_view_module": "@jupyter-widgets/controls",
            "_view_module_version": "1.5.0",
            "_view_name": "ProgressView",
            "bar_style": "info",
            "description": "",
            "description_tooltip": null,
            "layout": "IPY_MODEL_de3969fe3ace4a6abec007a12ca63c63",
            "max": 1,
            "min": 0,
            "orientation": "horizontal",
            "style": "IPY_MODEL_d5a4419752f6499d909c4f674ba4ef6f",
            "value": 1
          }
        },
        "2133ba3904544ffebc6903693a4028dd": {
          "model_module": "@jupyter-widgets/controls",
          "model_name": "HTMLModel",
          "model_module_version": "1.5.0",
          "state": {
            "_dom_classes": [],
            "_model_module": "@jupyter-widgets/controls",
            "_model_module_version": "1.5.0",
            "_model_name": "HTMLModel",
            "_view_count": null,
            "_view_module": "@jupyter-widgets/controls",
            "_view_module_version": "1.5.0",
            "_view_name": "HTMLView",
            "description": "",
            "description_tooltip": null,
            "layout": "IPY_MODEL_6952af83b7fc4040a329b192140dcd98",
            "placeholder": "​",
            "style": "IPY_MODEL_2ca3998330604bdd9bf14d30764c21e2",
            "value": " 0/? [00:00&lt;?, ? tables/s]"
          }
        },
        "c18144691c484d6db28f0c79fb79e968": {
          "model_module": "@jupyter-widgets/base",
          "model_name": "LayoutModel",
          "model_module_version": "1.2.0",
          "state": {
            "_model_module": "@jupyter-widgets/base",
            "_model_module_version": "1.2.0",
            "_model_name": "LayoutModel",
            "_view_count": null,
            "_view_module": "@jupyter-widgets/base",
            "_view_module_version": "1.2.0",
            "_view_name": "LayoutView",
            "align_content": null,
            "align_items": null,
            "align_self": null,
            "border": null,
            "bottom": null,
            "display": null,
            "flex": null,
            "flex_flow": null,
            "grid_area": null,
            "grid_auto_columns": null,
            "grid_auto_flow": null,
            "grid_auto_rows": null,
            "grid_column": null,
            "grid_gap": null,
            "grid_row": null,
            "grid_template_areas": null,
            "grid_template_columns": null,
            "grid_template_rows": null,
            "height": null,
            "justify_content": null,
            "justify_items": null,
            "left": null,
            "margin": null,
            "max_height": null,
            "max_width": null,
            "min_height": null,
            "min_width": null,
            "object_fit": null,
            "object_position": null,
            "order": null,
            "overflow": null,
            "overflow_x": null,
            "overflow_y": null,
            "padding": null,
            "right": null,
            "top": null,
            "visibility": "hidden",
            "width": null
          }
        },
        "986e6b8aae9641e8bd66f56e3b4b5ae9": {
          "model_module": "@jupyter-widgets/base",
          "model_name": "LayoutModel",
          "model_module_version": "1.2.0",
          "state": {
            "_model_module": "@jupyter-widgets/base",
            "_model_module_version": "1.2.0",
            "_model_name": "LayoutModel",
            "_view_count": null,
            "_view_module": "@jupyter-widgets/base",
            "_view_module_version": "1.2.0",
            "_view_name": "LayoutView",
            "align_content": null,
            "align_items": null,
            "align_self": null,
            "border": null,
            "bottom": null,
            "display": null,
            "flex": null,
            "flex_flow": null,
            "grid_area": null,
            "grid_auto_columns": null,
            "grid_auto_flow": null,
            "grid_auto_rows": null,
            "grid_column": null,
            "grid_gap": null,
            "grid_row": null,
            "grid_template_areas": null,
            "grid_template_columns": null,
            "grid_template_rows": null,
            "height": null,
            "justify_content": null,
            "justify_items": null,
            "left": null,
            "margin": null,
            "max_height": null,
            "max_width": null,
            "min_height": null,
            "min_width": null,
            "object_fit": null,
            "object_position": null,
            "order": null,
            "overflow": null,
            "overflow_x": null,
            "overflow_y": null,
            "padding": null,
            "right": null,
            "top": null,
            "visibility": null,
            "width": null
          }
        },
        "daab8b066904431cbce5400114e6875d": {
          "model_module": "@jupyter-widgets/controls",
          "model_name": "DescriptionStyleModel",
          "model_module_version": "1.5.0",
          "state": {
            "_model_module": "@jupyter-widgets/controls",
            "_model_module_version": "1.5.0",
            "_model_name": "DescriptionStyleModel",
            "_view_count": null,
            "_view_module": "@jupyter-widgets/base",
            "_view_module_version": "1.2.0",
            "_view_name": "StyleView",
            "description_width": ""
          }
        },
        "de3969fe3ace4a6abec007a12ca63c63": {
          "model_module": "@jupyter-widgets/base",
          "model_name": "LayoutModel",
          "model_module_version": "1.2.0",
          "state": {
            "_model_module": "@jupyter-widgets/base",
            "_model_module_version": "1.2.0",
            "_model_name": "LayoutModel",
            "_view_count": null,
            "_view_module": "@jupyter-widgets/base",
            "_view_module_version": "1.2.0",
            "_view_name": "LayoutView",
            "align_content": null,
            "align_items": null,
            "align_self": null,
            "border": null,
            "bottom": null,
            "display": null,
            "flex": null,
            "flex_flow": null,
            "grid_area": null,
            "grid_auto_columns": null,
            "grid_auto_flow": null,
            "grid_auto_rows": null,
            "grid_column": null,
            "grid_gap": null,
            "grid_row": null,
            "grid_template_areas": null,
            "grid_template_columns": null,
            "grid_template_rows": null,
            "height": null,
            "justify_content": null,
            "justify_items": null,
            "left": null,
            "margin": null,
            "max_height": null,
            "max_width": null,
            "min_height": null,
            "min_width": null,
            "object_fit": null,
            "object_position": null,
            "order": null,
            "overflow": null,
            "overflow_x": null,
            "overflow_y": null,
            "padding": null,
            "right": null,
            "top": null,
            "visibility": null,
            "width": "20px"
          }
        },
        "d5a4419752f6499d909c4f674ba4ef6f": {
          "model_module": "@jupyter-widgets/controls",
          "model_name": "ProgressStyleModel",
          "model_module_version": "1.5.0",
          "state": {
            "_model_module": "@jupyter-widgets/controls",
            "_model_module_version": "1.5.0",
            "_model_name": "ProgressStyleModel",
            "_view_count": null,
            "_view_module": "@jupyter-widgets/base",
            "_view_module_version": "1.2.0",
            "_view_name": "StyleView",
            "bar_color": null,
            "description_width": ""
          }
        },
        "6952af83b7fc4040a329b192140dcd98": {
          "model_module": "@jupyter-widgets/base",
          "model_name": "LayoutModel",
          "model_module_version": "1.2.0",
          "state": {
            "_model_module": "@jupyter-widgets/base",
            "_model_module_version": "1.2.0",
            "_model_name": "LayoutModel",
            "_view_count": null,
            "_view_module": "@jupyter-widgets/base",
            "_view_module_version": "1.2.0",
            "_view_name": "LayoutView",
            "align_content": null,
            "align_items": null,
            "align_self": null,
            "border": null,
            "bottom": null,
            "display": null,
            "flex": null,
            "flex_flow": null,
            "grid_area": null,
            "grid_auto_columns": null,
            "grid_auto_flow": null,
            "grid_auto_rows": null,
            "grid_column": null,
            "grid_gap": null,
            "grid_row": null,
            "grid_template_areas": null,
            "grid_template_columns": null,
            "grid_template_rows": null,
            "height": null,
            "justify_content": null,
            "justify_items": null,
            "left": null,
            "margin": null,
            "max_height": null,
            "max_width": null,
            "min_height": null,
            "min_width": null,
            "object_fit": null,
            "object_position": null,
            "order": null,
            "overflow": null,
            "overflow_x": null,
            "overflow_y": null,
            "padding": null,
            "right": null,
            "top": null,
            "visibility": null,
            "width": null
          }
        },
        "2ca3998330604bdd9bf14d30764c21e2": {
          "model_module": "@jupyter-widgets/controls",
          "model_name": "DescriptionStyleModel",
          "model_module_version": "1.5.0",
          "state": {
            "_model_module": "@jupyter-widgets/controls",
            "_model_module_version": "1.5.0",
            "_model_name": "DescriptionStyleModel",
            "_view_count": null,
            "_view_module": "@jupyter-widgets/base",
            "_view_module_version": "1.2.0",
            "_view_name": "StyleView",
            "description_width": ""
          }
        },
        "db03200c1fdf4afa841758e6f6a53c13": {
          "model_module": "@jupyter-widgets/controls",
          "model_name": "HBoxModel",
          "model_module_version": "1.5.0",
          "state": {
            "_dom_classes": [],
            "_model_module": "@jupyter-widgets/controls",
            "_model_module_version": "1.5.0",
            "_model_name": "HBoxModel",
            "_view_count": null,
            "_view_module": "@jupyter-widgets/controls",
            "_view_module_version": "1.5.0",
            "_view_name": "HBoxView",
            "box_style": "",
            "children": [
              "IPY_MODEL_6de08de779dd4a2a984262794dc8adb1",
              "IPY_MODEL_831fdf7a32c64eb2b0361414910737c5",
              "IPY_MODEL_b92db06a5f3e446c91fa681f33ca8ad9"
            ],
            "layout": "IPY_MODEL_ccfa46ae645e45378758b542bd2eddb9"
          }
        },
        "6de08de779dd4a2a984262794dc8adb1": {
          "model_module": "@jupyter-widgets/controls",
          "model_name": "HTMLModel",
          "model_module_version": "1.5.0",
          "state": {
            "_dom_classes": [],
            "_model_module": "@jupyter-widgets/controls",
            "_model_module_version": "1.5.0",
            "_model_name": "HTMLModel",
            "_view_count": null,
            "_view_module": "@jupyter-widgets/controls",
            "_view_module_version": "1.5.0",
            "_view_name": "HTMLView",
            "description": "",
            "description_tooltip": null,
            "layout": "IPY_MODEL_f0cecbcbf9064ef194de0a7f1c0cb437",
            "placeholder": "​",
            "style": "IPY_MODEL_232965455cc44c1b899d6bfa29293f23",
            "value": ""
          }
        },
        "831fdf7a32c64eb2b0361414910737c5": {
          "model_module": "@jupyter-widgets/controls",
          "model_name": "FloatProgressModel",
          "model_module_version": "1.5.0",
          "state": {
            "_dom_classes": [],
            "_model_module": "@jupyter-widgets/controls",
            "_model_module_version": "1.5.0",
            "_model_name": "FloatProgressModel",
            "_view_count": null,
            "_view_module": "@jupyter-widgets/controls",
            "_view_module_version": "1.5.0",
            "_view_name": "ProgressView",
            "bar_style": "info",
            "description": "",
            "description_tooltip": null,
            "layout": "IPY_MODEL_438b1970b29c4dd4b7197a69cb10117c",
            "max": 1,
            "min": 0,
            "orientation": "horizontal",
            "style": "IPY_MODEL_30c1f4b55b4a4c879dd3cc9aaab0249d",
            "value": 1
          }
        },
        "b92db06a5f3e446c91fa681f33ca8ad9": {
          "model_module": "@jupyter-widgets/controls",
          "model_name": "HTMLModel",
          "model_module_version": "1.5.0",
          "state": {
            "_dom_classes": [],
            "_model_module": "@jupyter-widgets/controls",
            "_model_module_version": "1.5.0",
            "_model_name": "HTMLModel",
            "_view_count": null,
            "_view_module": "@jupyter-widgets/controls",
            "_view_module_version": "1.5.0",
            "_view_name": "HTMLView",
            "description": "",
            "description_tooltip": null,
            "layout": "IPY_MODEL_e7aeb77dfc884133adbcbaf066c02cfb",
            "placeholder": "​",
            "style": "IPY_MODEL_bc1413cfc9174fefbdc06761185bab80",
            "value": " 0/? [00:00&lt;?, ? tables/s]"
          }
        },
        "ccfa46ae645e45378758b542bd2eddb9": {
          "model_module": "@jupyter-widgets/base",
          "model_name": "LayoutModel",
          "model_module_version": "1.2.0",
          "state": {
            "_model_module": "@jupyter-widgets/base",
            "_model_module_version": "1.2.0",
            "_model_name": "LayoutModel",
            "_view_count": null,
            "_view_module": "@jupyter-widgets/base",
            "_view_module_version": "1.2.0",
            "_view_name": "LayoutView",
            "align_content": null,
            "align_items": null,
            "align_self": null,
            "border": null,
            "bottom": null,
            "display": null,
            "flex": null,
            "flex_flow": null,
            "grid_area": null,
            "grid_auto_columns": null,
            "grid_auto_flow": null,
            "grid_auto_rows": null,
            "grid_column": null,
            "grid_gap": null,
            "grid_row": null,
            "grid_template_areas": null,
            "grid_template_columns": null,
            "grid_template_rows": null,
            "height": null,
            "justify_content": null,
            "justify_items": null,
            "left": null,
            "margin": null,
            "max_height": null,
            "max_width": null,
            "min_height": null,
            "min_width": null,
            "object_fit": null,
            "object_position": null,
            "order": null,
            "overflow": null,
            "overflow_x": null,
            "overflow_y": null,
            "padding": null,
            "right": null,
            "top": null,
            "visibility": "hidden",
            "width": null
          }
        },
        "f0cecbcbf9064ef194de0a7f1c0cb437": {
          "model_module": "@jupyter-widgets/base",
          "model_name": "LayoutModel",
          "model_module_version": "1.2.0",
          "state": {
            "_model_module": "@jupyter-widgets/base",
            "_model_module_version": "1.2.0",
            "_model_name": "LayoutModel",
            "_view_count": null,
            "_view_module": "@jupyter-widgets/base",
            "_view_module_version": "1.2.0",
            "_view_name": "LayoutView",
            "align_content": null,
            "align_items": null,
            "align_self": null,
            "border": null,
            "bottom": null,
            "display": null,
            "flex": null,
            "flex_flow": null,
            "grid_area": null,
            "grid_auto_columns": null,
            "grid_auto_flow": null,
            "grid_auto_rows": null,
            "grid_column": null,
            "grid_gap": null,
            "grid_row": null,
            "grid_template_areas": null,
            "grid_template_columns": null,
            "grid_template_rows": null,
            "height": null,
            "justify_content": null,
            "justify_items": null,
            "left": null,
            "margin": null,
            "max_height": null,
            "max_width": null,
            "min_height": null,
            "min_width": null,
            "object_fit": null,
            "object_position": null,
            "order": null,
            "overflow": null,
            "overflow_x": null,
            "overflow_y": null,
            "padding": null,
            "right": null,
            "top": null,
            "visibility": null,
            "width": null
          }
        },
        "232965455cc44c1b899d6bfa29293f23": {
          "model_module": "@jupyter-widgets/controls",
          "model_name": "DescriptionStyleModel",
          "model_module_version": "1.5.0",
          "state": {
            "_model_module": "@jupyter-widgets/controls",
            "_model_module_version": "1.5.0",
            "_model_name": "DescriptionStyleModel",
            "_view_count": null,
            "_view_module": "@jupyter-widgets/base",
            "_view_module_version": "1.2.0",
            "_view_name": "StyleView",
            "description_width": ""
          }
        },
        "438b1970b29c4dd4b7197a69cb10117c": {
          "model_module": "@jupyter-widgets/base",
          "model_name": "LayoutModel",
          "model_module_version": "1.2.0",
          "state": {
            "_model_module": "@jupyter-widgets/base",
            "_model_module_version": "1.2.0",
            "_model_name": "LayoutModel",
            "_view_count": null,
            "_view_module": "@jupyter-widgets/base",
            "_view_module_version": "1.2.0",
            "_view_name": "LayoutView",
            "align_content": null,
            "align_items": null,
            "align_self": null,
            "border": null,
            "bottom": null,
            "display": null,
            "flex": null,
            "flex_flow": null,
            "grid_area": null,
            "grid_auto_columns": null,
            "grid_auto_flow": null,
            "grid_auto_rows": null,
            "grid_column": null,
            "grid_gap": null,
            "grid_row": null,
            "grid_template_areas": null,
            "grid_template_columns": null,
            "grid_template_rows": null,
            "height": null,
            "justify_content": null,
            "justify_items": null,
            "left": null,
            "margin": null,
            "max_height": null,
            "max_width": null,
            "min_height": null,
            "min_width": null,
            "object_fit": null,
            "object_position": null,
            "order": null,
            "overflow": null,
            "overflow_x": null,
            "overflow_y": null,
            "padding": null,
            "right": null,
            "top": null,
            "visibility": null,
            "width": "20px"
          }
        },
        "30c1f4b55b4a4c879dd3cc9aaab0249d": {
          "model_module": "@jupyter-widgets/controls",
          "model_name": "ProgressStyleModel",
          "model_module_version": "1.5.0",
          "state": {
            "_model_module": "@jupyter-widgets/controls",
            "_model_module_version": "1.5.0",
            "_model_name": "ProgressStyleModel",
            "_view_count": null,
            "_view_module": "@jupyter-widgets/base",
            "_view_module_version": "1.2.0",
            "_view_name": "StyleView",
            "bar_color": null,
            "description_width": ""
          }
        },
        "e7aeb77dfc884133adbcbaf066c02cfb": {
          "model_module": "@jupyter-widgets/base",
          "model_name": "LayoutModel",
          "model_module_version": "1.2.0",
          "state": {
            "_model_module": "@jupyter-widgets/base",
            "_model_module_version": "1.2.0",
            "_model_name": "LayoutModel",
            "_view_count": null,
            "_view_module": "@jupyter-widgets/base",
            "_view_module_version": "1.2.0",
            "_view_name": "LayoutView",
            "align_content": null,
            "align_items": null,
            "align_self": null,
            "border": null,
            "bottom": null,
            "display": null,
            "flex": null,
            "flex_flow": null,
            "grid_area": null,
            "grid_auto_columns": null,
            "grid_auto_flow": null,
            "grid_auto_rows": null,
            "grid_column": null,
            "grid_gap": null,
            "grid_row": null,
            "grid_template_areas": null,
            "grid_template_columns": null,
            "grid_template_rows": null,
            "height": null,
            "justify_content": null,
            "justify_items": null,
            "left": null,
            "margin": null,
            "max_height": null,
            "max_width": null,
            "min_height": null,
            "min_width": null,
            "object_fit": null,
            "object_position": null,
            "order": null,
            "overflow": null,
            "overflow_x": null,
            "overflow_y": null,
            "padding": null,
            "right": null,
            "top": null,
            "visibility": null,
            "width": null
          }
        },
        "bc1413cfc9174fefbdc06761185bab80": {
          "model_module": "@jupyter-widgets/controls",
          "model_name": "DescriptionStyleModel",
          "model_module_version": "1.5.0",
          "state": {
            "_model_module": "@jupyter-widgets/controls",
            "_model_module_version": "1.5.0",
            "_model_name": "DescriptionStyleModel",
            "_view_count": null,
            "_view_module": "@jupyter-widgets/base",
            "_view_module_version": "1.2.0",
            "_view_name": "StyleView",
            "description_width": ""
          }
        },
        "f9946c36dfc0440d812a00a7cd70ddea": {
          "model_module": "@jupyter-widgets/controls",
          "model_name": "HBoxModel",
          "model_module_version": "1.5.0",
          "state": {
            "_dom_classes": [],
            "_model_module": "@jupyter-widgets/controls",
            "_model_module_version": "1.5.0",
            "_model_name": "HBoxModel",
            "_view_count": null,
            "_view_module": "@jupyter-widgets/controls",
            "_view_module_version": "1.5.0",
            "_view_name": "HBoxView",
            "box_style": "",
            "children": [
              "IPY_MODEL_9c41d387416c4ddf929bf2570c1863d3",
              "IPY_MODEL_8eb30b6946e741bfa51c240201855425",
              "IPY_MODEL_34c5f2d4f7ba48339c371f7ac06b9efe"
            ],
            "layout": "IPY_MODEL_11744f754eb649e5a86dc41766f300c4"
          }
        },
        "9c41d387416c4ddf929bf2570c1863d3": {
          "model_module": "@jupyter-widgets/controls",
          "model_name": "HTMLModel",
          "model_module_version": "1.5.0",
          "state": {
            "_dom_classes": [],
            "_model_module": "@jupyter-widgets/controls",
            "_model_module_version": "1.5.0",
            "_model_name": "HTMLModel",
            "_view_count": null,
            "_view_module": "@jupyter-widgets/controls",
            "_view_module_version": "1.5.0",
            "_view_name": "HTMLView",
            "description": "",
            "description_tooltip": null,
            "layout": "IPY_MODEL_8f03a0af417a4ea7905c86b146cb716f",
            "placeholder": "​",
            "style": "IPY_MODEL_2dbecd9f464e49a084158253318f4f6e",
            "value": ""
          }
        },
        "8eb30b6946e741bfa51c240201855425": {
          "model_module": "@jupyter-widgets/controls",
          "model_name": "FloatProgressModel",
          "model_module_version": "1.5.0",
          "state": {
            "_dom_classes": [],
            "_model_module": "@jupyter-widgets/controls",
            "_model_module_version": "1.5.0",
            "_model_name": "FloatProgressModel",
            "_view_count": null,
            "_view_module": "@jupyter-widgets/controls",
            "_view_module_version": "1.5.0",
            "_view_name": "ProgressView",
            "bar_style": "info",
            "description": "",
            "description_tooltip": null,
            "layout": "IPY_MODEL_dbff20ecb9d045c9942b7cb2057f8783",
            "max": 1,
            "min": 0,
            "orientation": "horizontal",
            "style": "IPY_MODEL_cc942f9cc1634c48b9173ecb1c281d7f",
            "value": 1
          }
        },
        "34c5f2d4f7ba48339c371f7ac06b9efe": {
          "model_module": "@jupyter-widgets/controls",
          "model_name": "HTMLModel",
          "model_module_version": "1.5.0",
          "state": {
            "_dom_classes": [],
            "_model_module": "@jupyter-widgets/controls",
            "_model_module_version": "1.5.0",
            "_model_name": "HTMLModel",
            "_view_count": null,
            "_view_module": "@jupyter-widgets/controls",
            "_view_module_version": "1.5.0",
            "_view_name": "HTMLView",
            "description": "",
            "description_tooltip": null,
            "layout": "IPY_MODEL_b5f990b155b8480cbbf475acdef5f982",
            "placeholder": "​",
            "style": "IPY_MODEL_a9e1cb2d2d904397a3c5729070365abf",
            "value": " 0/? [00:00&lt;?, ? tables/s]"
          }
        },
        "11744f754eb649e5a86dc41766f300c4": {
          "model_module": "@jupyter-widgets/base",
          "model_name": "LayoutModel",
          "model_module_version": "1.2.0",
          "state": {
            "_model_module": "@jupyter-widgets/base",
            "_model_module_version": "1.2.0",
            "_model_name": "LayoutModel",
            "_view_count": null,
            "_view_module": "@jupyter-widgets/base",
            "_view_module_version": "1.2.0",
            "_view_name": "LayoutView",
            "align_content": null,
            "align_items": null,
            "align_self": null,
            "border": null,
            "bottom": null,
            "display": null,
            "flex": null,
            "flex_flow": null,
            "grid_area": null,
            "grid_auto_columns": null,
            "grid_auto_flow": null,
            "grid_auto_rows": null,
            "grid_column": null,
            "grid_gap": null,
            "grid_row": null,
            "grid_template_areas": null,
            "grid_template_columns": null,
            "grid_template_rows": null,
            "height": null,
            "justify_content": null,
            "justify_items": null,
            "left": null,
            "margin": null,
            "max_height": null,
            "max_width": null,
            "min_height": null,
            "min_width": null,
            "object_fit": null,
            "object_position": null,
            "order": null,
            "overflow": null,
            "overflow_x": null,
            "overflow_y": null,
            "padding": null,
            "right": null,
            "top": null,
            "visibility": "hidden",
            "width": null
          }
        },
        "8f03a0af417a4ea7905c86b146cb716f": {
          "model_module": "@jupyter-widgets/base",
          "model_name": "LayoutModel",
          "model_module_version": "1.2.0",
          "state": {
            "_model_module": "@jupyter-widgets/base",
            "_model_module_version": "1.2.0",
            "_model_name": "LayoutModel",
            "_view_count": null,
            "_view_module": "@jupyter-widgets/base",
            "_view_module_version": "1.2.0",
            "_view_name": "LayoutView",
            "align_content": null,
            "align_items": null,
            "align_self": null,
            "border": null,
            "bottom": null,
            "display": null,
            "flex": null,
            "flex_flow": null,
            "grid_area": null,
            "grid_auto_columns": null,
            "grid_auto_flow": null,
            "grid_auto_rows": null,
            "grid_column": null,
            "grid_gap": null,
            "grid_row": null,
            "grid_template_areas": null,
            "grid_template_columns": null,
            "grid_template_rows": null,
            "height": null,
            "justify_content": null,
            "justify_items": null,
            "left": null,
            "margin": null,
            "max_height": null,
            "max_width": null,
            "min_height": null,
            "min_width": null,
            "object_fit": null,
            "object_position": null,
            "order": null,
            "overflow": null,
            "overflow_x": null,
            "overflow_y": null,
            "padding": null,
            "right": null,
            "top": null,
            "visibility": null,
            "width": null
          }
        },
        "2dbecd9f464e49a084158253318f4f6e": {
          "model_module": "@jupyter-widgets/controls",
          "model_name": "DescriptionStyleModel",
          "model_module_version": "1.5.0",
          "state": {
            "_model_module": "@jupyter-widgets/controls",
            "_model_module_version": "1.5.0",
            "_model_name": "DescriptionStyleModel",
            "_view_count": null,
            "_view_module": "@jupyter-widgets/base",
            "_view_module_version": "1.2.0",
            "_view_name": "StyleView",
            "description_width": ""
          }
        },
        "dbff20ecb9d045c9942b7cb2057f8783": {
          "model_module": "@jupyter-widgets/base",
          "model_name": "LayoutModel",
          "model_module_version": "1.2.0",
          "state": {
            "_model_module": "@jupyter-widgets/base",
            "_model_module_version": "1.2.0",
            "_model_name": "LayoutModel",
            "_view_count": null,
            "_view_module": "@jupyter-widgets/base",
            "_view_module_version": "1.2.0",
            "_view_name": "LayoutView",
            "align_content": null,
            "align_items": null,
            "align_self": null,
            "border": null,
            "bottom": null,
            "display": null,
            "flex": null,
            "flex_flow": null,
            "grid_area": null,
            "grid_auto_columns": null,
            "grid_auto_flow": null,
            "grid_auto_rows": null,
            "grid_column": null,
            "grid_gap": null,
            "grid_row": null,
            "grid_template_areas": null,
            "grid_template_columns": null,
            "grid_template_rows": null,
            "height": null,
            "justify_content": null,
            "justify_items": null,
            "left": null,
            "margin": null,
            "max_height": null,
            "max_width": null,
            "min_height": null,
            "min_width": null,
            "object_fit": null,
            "object_position": null,
            "order": null,
            "overflow": null,
            "overflow_x": null,
            "overflow_y": null,
            "padding": null,
            "right": null,
            "top": null,
            "visibility": null,
            "width": "20px"
          }
        },
        "cc942f9cc1634c48b9173ecb1c281d7f": {
          "model_module": "@jupyter-widgets/controls",
          "model_name": "ProgressStyleModel",
          "model_module_version": "1.5.0",
          "state": {
            "_model_module": "@jupyter-widgets/controls",
            "_model_module_version": "1.5.0",
            "_model_name": "ProgressStyleModel",
            "_view_count": null,
            "_view_module": "@jupyter-widgets/base",
            "_view_module_version": "1.2.0",
            "_view_name": "StyleView",
            "bar_color": null,
            "description_width": ""
          }
        },
        "b5f990b155b8480cbbf475acdef5f982": {
          "model_module": "@jupyter-widgets/base",
          "model_name": "LayoutModel",
          "model_module_version": "1.2.0",
          "state": {
            "_model_module": "@jupyter-widgets/base",
            "_model_module_version": "1.2.0",
            "_model_name": "LayoutModel",
            "_view_count": null,
            "_view_module": "@jupyter-widgets/base",
            "_view_module_version": "1.2.0",
            "_view_name": "LayoutView",
            "align_content": null,
            "align_items": null,
            "align_self": null,
            "border": null,
            "bottom": null,
            "display": null,
            "flex": null,
            "flex_flow": null,
            "grid_area": null,
            "grid_auto_columns": null,
            "grid_auto_flow": null,
            "grid_auto_rows": null,
            "grid_column": null,
            "grid_gap": null,
            "grid_row": null,
            "grid_template_areas": null,
            "grid_template_columns": null,
            "grid_template_rows": null,
            "height": null,
            "justify_content": null,
            "justify_items": null,
            "left": null,
            "margin": null,
            "max_height": null,
            "max_width": null,
            "min_height": null,
            "min_width": null,
            "object_fit": null,
            "object_position": null,
            "order": null,
            "overflow": null,
            "overflow_x": null,
            "overflow_y": null,
            "padding": null,
            "right": null,
            "top": null,
            "visibility": null,
            "width": null
          }
        },
        "a9e1cb2d2d904397a3c5729070365abf": {
          "model_module": "@jupyter-widgets/controls",
          "model_name": "DescriptionStyleModel",
          "model_module_version": "1.5.0",
          "state": {
            "_model_module": "@jupyter-widgets/controls",
            "_model_module_version": "1.5.0",
            "_model_name": "DescriptionStyleModel",
            "_view_count": null,
            "_view_module": "@jupyter-widgets/base",
            "_view_module_version": "1.2.0",
            "_view_name": "StyleView",
            "description_width": ""
          }
        },
        "e15f4e858e464368ad603a68268481e5": {
          "model_module": "@jupyter-widgets/controls",
          "model_name": "HBoxModel",
          "model_module_version": "1.5.0",
          "state": {
            "_dom_classes": [],
            "_model_module": "@jupyter-widgets/controls",
            "_model_module_version": "1.5.0",
            "_model_name": "HBoxModel",
            "_view_count": null,
            "_view_module": "@jupyter-widgets/controls",
            "_view_module_version": "1.5.0",
            "_view_name": "HBoxView",
            "box_style": "",
            "children": [
              "IPY_MODEL_e97f22e068a945d2b301db014db6050c",
              "IPY_MODEL_dde4df87fa1848818d90a7faa3abba8a",
              "IPY_MODEL_6804cab997374309b9899b7b52442de1"
            ],
            "layout": "IPY_MODEL_a018551303a04aee996c8129baab7942"
          }
        },
        "e97f22e068a945d2b301db014db6050c": {
          "model_module": "@jupyter-widgets/controls",
          "model_name": "HTMLModel",
          "model_module_version": "1.5.0",
          "state": {
            "_dom_classes": [],
            "_model_module": "@jupyter-widgets/controls",
            "_model_module_version": "1.5.0",
            "_model_name": "HTMLModel",
            "_view_count": null,
            "_view_module": "@jupyter-widgets/controls",
            "_view_module_version": "1.5.0",
            "_view_name": "HTMLView",
            "description": "",
            "description_tooltip": null,
            "layout": "IPY_MODEL_f5c8f3f323ef4424b35135df67625b45",
            "placeholder": "​",
            "style": "IPY_MODEL_e853014340bc4ec7b416880d37f65b7c",
            "value": "100%"
          }
        },
        "dde4df87fa1848818d90a7faa3abba8a": {
          "model_module": "@jupyter-widgets/controls",
          "model_name": "FloatProgressModel",
          "model_module_version": "1.5.0",
          "state": {
            "_dom_classes": [],
            "_model_module": "@jupyter-widgets/controls",
            "_model_module_version": "1.5.0",
            "_model_name": "FloatProgressModel",
            "_view_count": null,
            "_view_module": "@jupyter-widgets/controls",
            "_view_module_version": "1.5.0",
            "_view_name": "ProgressView",
            "bar_style": "success",
            "description": "",
            "description_tooltip": null,
            "layout": "IPY_MODEL_d9afbc7b3d0f4c26af69bb4bfb4ff0b8",
            "max": 3,
            "min": 0,
            "orientation": "horizontal",
            "style": "IPY_MODEL_feca5466405a4519b1c9089a6d91b30b",
            "value": 3
          }
        },
        "6804cab997374309b9899b7b52442de1": {
          "model_module": "@jupyter-widgets/controls",
          "model_name": "HTMLModel",
          "model_module_version": "1.5.0",
          "state": {
            "_dom_classes": [],
            "_model_module": "@jupyter-widgets/controls",
            "_model_module_version": "1.5.0",
            "_model_name": "HTMLModel",
            "_view_count": null,
            "_view_module": "@jupyter-widgets/controls",
            "_view_module_version": "1.5.0",
            "_view_name": "HTMLView",
            "description": "",
            "description_tooltip": null,
            "layout": "IPY_MODEL_9f7c46292ba74d0d8e113bb9916703e2",
            "placeholder": "​",
            "style": "IPY_MODEL_27e8c7b1ee8d4b04b5022f756b570bd5",
            "value": " 3/3 [00:00&lt;00:00, 77.65it/s]"
          }
        },
        "a018551303a04aee996c8129baab7942": {
          "model_module": "@jupyter-widgets/base",
          "model_name": "LayoutModel",
          "model_module_version": "1.2.0",
          "state": {
            "_model_module": "@jupyter-widgets/base",
            "_model_module_version": "1.2.0",
            "_model_name": "LayoutModel",
            "_view_count": null,
            "_view_module": "@jupyter-widgets/base",
            "_view_module_version": "1.2.0",
            "_view_name": "LayoutView",
            "align_content": null,
            "align_items": null,
            "align_self": null,
            "border": null,
            "bottom": null,
            "display": null,
            "flex": null,
            "flex_flow": null,
            "grid_area": null,
            "grid_auto_columns": null,
            "grid_auto_flow": null,
            "grid_auto_rows": null,
            "grid_column": null,
            "grid_gap": null,
            "grid_row": null,
            "grid_template_areas": null,
            "grid_template_columns": null,
            "grid_template_rows": null,
            "height": null,
            "justify_content": null,
            "justify_items": null,
            "left": null,
            "margin": null,
            "max_height": null,
            "max_width": null,
            "min_height": null,
            "min_width": null,
            "object_fit": null,
            "object_position": null,
            "order": null,
            "overflow": null,
            "overflow_x": null,
            "overflow_y": null,
            "padding": null,
            "right": null,
            "top": null,
            "visibility": null,
            "width": null
          }
        },
        "f5c8f3f323ef4424b35135df67625b45": {
          "model_module": "@jupyter-widgets/base",
          "model_name": "LayoutModel",
          "model_module_version": "1.2.0",
          "state": {
            "_model_module": "@jupyter-widgets/base",
            "_model_module_version": "1.2.0",
            "_model_name": "LayoutModel",
            "_view_count": null,
            "_view_module": "@jupyter-widgets/base",
            "_view_module_version": "1.2.0",
            "_view_name": "LayoutView",
            "align_content": null,
            "align_items": null,
            "align_self": null,
            "border": null,
            "bottom": null,
            "display": null,
            "flex": null,
            "flex_flow": null,
            "grid_area": null,
            "grid_auto_columns": null,
            "grid_auto_flow": null,
            "grid_auto_rows": null,
            "grid_column": null,
            "grid_gap": null,
            "grid_row": null,
            "grid_template_areas": null,
            "grid_template_columns": null,
            "grid_template_rows": null,
            "height": null,
            "justify_content": null,
            "justify_items": null,
            "left": null,
            "margin": null,
            "max_height": null,
            "max_width": null,
            "min_height": null,
            "min_width": null,
            "object_fit": null,
            "object_position": null,
            "order": null,
            "overflow": null,
            "overflow_x": null,
            "overflow_y": null,
            "padding": null,
            "right": null,
            "top": null,
            "visibility": null,
            "width": null
          }
        },
        "e853014340bc4ec7b416880d37f65b7c": {
          "model_module": "@jupyter-widgets/controls",
          "model_name": "DescriptionStyleModel",
          "model_module_version": "1.5.0",
          "state": {
            "_model_module": "@jupyter-widgets/controls",
            "_model_module_version": "1.5.0",
            "_model_name": "DescriptionStyleModel",
            "_view_count": null,
            "_view_module": "@jupyter-widgets/base",
            "_view_module_version": "1.2.0",
            "_view_name": "StyleView",
            "description_width": ""
          }
        },
        "d9afbc7b3d0f4c26af69bb4bfb4ff0b8": {
          "model_module": "@jupyter-widgets/base",
          "model_name": "LayoutModel",
          "model_module_version": "1.2.0",
          "state": {
            "_model_module": "@jupyter-widgets/base",
            "_model_module_version": "1.2.0",
            "_model_name": "LayoutModel",
            "_view_count": null,
            "_view_module": "@jupyter-widgets/base",
            "_view_module_version": "1.2.0",
            "_view_name": "LayoutView",
            "align_content": null,
            "align_items": null,
            "align_self": null,
            "border": null,
            "bottom": null,
            "display": null,
            "flex": null,
            "flex_flow": null,
            "grid_area": null,
            "grid_auto_columns": null,
            "grid_auto_flow": null,
            "grid_auto_rows": null,
            "grid_column": null,
            "grid_gap": null,
            "grid_row": null,
            "grid_template_areas": null,
            "grid_template_columns": null,
            "grid_template_rows": null,
            "height": null,
            "justify_content": null,
            "justify_items": null,
            "left": null,
            "margin": null,
            "max_height": null,
            "max_width": null,
            "min_height": null,
            "min_width": null,
            "object_fit": null,
            "object_position": null,
            "order": null,
            "overflow": null,
            "overflow_x": null,
            "overflow_y": null,
            "padding": null,
            "right": null,
            "top": null,
            "visibility": null,
            "width": null
          }
        },
        "feca5466405a4519b1c9089a6d91b30b": {
          "model_module": "@jupyter-widgets/controls",
          "model_name": "ProgressStyleModel",
          "model_module_version": "1.5.0",
          "state": {
            "_model_module": "@jupyter-widgets/controls",
            "_model_module_version": "1.5.0",
            "_model_name": "ProgressStyleModel",
            "_view_count": null,
            "_view_module": "@jupyter-widgets/base",
            "_view_module_version": "1.2.0",
            "_view_name": "StyleView",
            "bar_color": null,
            "description_width": ""
          }
        },
        "9f7c46292ba74d0d8e113bb9916703e2": {
          "model_module": "@jupyter-widgets/base",
          "model_name": "LayoutModel",
          "model_module_version": "1.2.0",
          "state": {
            "_model_module": "@jupyter-widgets/base",
            "_model_module_version": "1.2.0",
            "_model_name": "LayoutModel",
            "_view_count": null,
            "_view_module": "@jupyter-widgets/base",
            "_view_module_version": "1.2.0",
            "_view_name": "LayoutView",
            "align_content": null,
            "align_items": null,
            "align_self": null,
            "border": null,
            "bottom": null,
            "display": null,
            "flex": null,
            "flex_flow": null,
            "grid_area": null,
            "grid_auto_columns": null,
            "grid_auto_flow": null,
            "grid_auto_rows": null,
            "grid_column": null,
            "grid_gap": null,
            "grid_row": null,
            "grid_template_areas": null,
            "grid_template_columns": null,
            "grid_template_rows": null,
            "height": null,
            "justify_content": null,
            "justify_items": null,
            "left": null,
            "margin": null,
            "max_height": null,
            "max_width": null,
            "min_height": null,
            "min_width": null,
            "object_fit": null,
            "object_position": null,
            "order": null,
            "overflow": null,
            "overflow_x": null,
            "overflow_y": null,
            "padding": null,
            "right": null,
            "top": null,
            "visibility": null,
            "width": null
          }
        },
        "27e8c7b1ee8d4b04b5022f756b570bd5": {
          "model_module": "@jupyter-widgets/controls",
          "model_name": "DescriptionStyleModel",
          "model_module_version": "1.5.0",
          "state": {
            "_model_module": "@jupyter-widgets/controls",
            "_model_module_version": "1.5.0",
            "_model_name": "DescriptionStyleModel",
            "_view_count": null,
            "_view_module": "@jupyter-widgets/base",
            "_view_module_version": "1.2.0",
            "_view_name": "StyleView",
            "description_width": ""
          }
        },
        "93bbd8735bfc495e9039766806e41aa1": {
          "model_module": "@jupyter-widgets/controls",
          "model_name": "HBoxModel",
          "model_module_version": "1.5.0",
          "state": {
            "_dom_classes": [],
            "_model_module": "@jupyter-widgets/controls",
            "_model_module_version": "1.5.0",
            "_model_name": "HBoxModel",
            "_view_count": null,
            "_view_module": "@jupyter-widgets/controls",
            "_view_module_version": "1.5.0",
            "_view_name": "HBoxView",
            "box_style": "",
            "children": [
              "IPY_MODEL_6c15fa56d7fb4558bbdbc04cff4d7034",
              "IPY_MODEL_47c27fd0c9e94f4a9d9cc95f53a7ae04",
              "IPY_MODEL_5bbda6845bb24b4989d0569d5757740b"
            ],
            "layout": "IPY_MODEL_375c30b21ba148d3bffd90858366c4e6"
          }
        },
        "6c15fa56d7fb4558bbdbc04cff4d7034": {
          "model_module": "@jupyter-widgets/controls",
          "model_name": "HTMLModel",
          "model_module_version": "1.5.0",
          "state": {
            "_dom_classes": [],
            "_model_module": "@jupyter-widgets/controls",
            "_model_module_version": "1.5.0",
            "_model_name": "HTMLModel",
            "_view_count": null,
            "_view_module": "@jupyter-widgets/controls",
            "_view_module_version": "1.5.0",
            "_view_name": "HTMLView",
            "description": "",
            "description_tooltip": null,
            "layout": "IPY_MODEL_d999751d8ff647598181b848a6a6283e",
            "placeholder": "​",
            "style": "IPY_MODEL_aa226306edd7403b96b867f02a265b39",
            "value": "100%"
          }
        },
        "47c27fd0c9e94f4a9d9cc95f53a7ae04": {
          "model_module": "@jupyter-widgets/controls",
          "model_name": "FloatProgressModel",
          "model_module_version": "1.5.0",
          "state": {
            "_dom_classes": [],
            "_model_module": "@jupyter-widgets/controls",
            "_model_module_version": "1.5.0",
            "_model_name": "FloatProgressModel",
            "_view_count": null,
            "_view_module": "@jupyter-widgets/controls",
            "_view_module_version": "1.5.0",
            "_view_name": "ProgressView",
            "bar_style": "success",
            "description": "",
            "description_tooltip": null,
            "layout": "IPY_MODEL_8f79803759c3443e832b349113faa431",
            "max": 1,
            "min": 0,
            "orientation": "horizontal",
            "style": "IPY_MODEL_6db5a485fa5d4234b076f37dec2f3ca4",
            "value": 1
          }
        },
        "5bbda6845bb24b4989d0569d5757740b": {
          "model_module": "@jupyter-widgets/controls",
          "model_name": "HTMLModel",
          "model_module_version": "1.5.0",
          "state": {
            "_dom_classes": [],
            "_model_module": "@jupyter-widgets/controls",
            "_model_module_version": "1.5.0",
            "_model_name": "HTMLModel",
            "_view_count": null,
            "_view_module": "@jupyter-widgets/controls",
            "_view_module_version": "1.5.0",
            "_view_name": "HTMLView",
            "description": "",
            "description_tooltip": null,
            "layout": "IPY_MODEL_a13d9ab8cbb648ec9a847c72a830a01a",
            "placeholder": "​",
            "style": "IPY_MODEL_f31762b58def4d06bc4035b1704237c1",
            "value": " 1/1 [00:00&lt;00:00, 13.12ba/s]"
          }
        },
        "375c30b21ba148d3bffd90858366c4e6": {
          "model_module": "@jupyter-widgets/base",
          "model_name": "LayoutModel",
          "model_module_version": "1.2.0",
          "state": {
            "_model_module": "@jupyter-widgets/base",
            "_model_module_version": "1.2.0",
            "_model_name": "LayoutModel",
            "_view_count": null,
            "_view_module": "@jupyter-widgets/base",
            "_view_module_version": "1.2.0",
            "_view_name": "LayoutView",
            "align_content": null,
            "align_items": null,
            "align_self": null,
            "border": null,
            "bottom": null,
            "display": null,
            "flex": null,
            "flex_flow": null,
            "grid_area": null,
            "grid_auto_columns": null,
            "grid_auto_flow": null,
            "grid_auto_rows": null,
            "grid_column": null,
            "grid_gap": null,
            "grid_row": null,
            "grid_template_areas": null,
            "grid_template_columns": null,
            "grid_template_rows": null,
            "height": null,
            "justify_content": null,
            "justify_items": null,
            "left": null,
            "margin": null,
            "max_height": null,
            "max_width": null,
            "min_height": null,
            "min_width": null,
            "object_fit": null,
            "object_position": null,
            "order": null,
            "overflow": null,
            "overflow_x": null,
            "overflow_y": null,
            "padding": null,
            "right": null,
            "top": null,
            "visibility": null,
            "width": null
          }
        },
        "d999751d8ff647598181b848a6a6283e": {
          "model_module": "@jupyter-widgets/base",
          "model_name": "LayoutModel",
          "model_module_version": "1.2.0",
          "state": {
            "_model_module": "@jupyter-widgets/base",
            "_model_module_version": "1.2.0",
            "_model_name": "LayoutModel",
            "_view_count": null,
            "_view_module": "@jupyter-widgets/base",
            "_view_module_version": "1.2.0",
            "_view_name": "LayoutView",
            "align_content": null,
            "align_items": null,
            "align_self": null,
            "border": null,
            "bottom": null,
            "display": null,
            "flex": null,
            "flex_flow": null,
            "grid_area": null,
            "grid_auto_columns": null,
            "grid_auto_flow": null,
            "grid_auto_rows": null,
            "grid_column": null,
            "grid_gap": null,
            "grid_row": null,
            "grid_template_areas": null,
            "grid_template_columns": null,
            "grid_template_rows": null,
            "height": null,
            "justify_content": null,
            "justify_items": null,
            "left": null,
            "margin": null,
            "max_height": null,
            "max_width": null,
            "min_height": null,
            "min_width": null,
            "object_fit": null,
            "object_position": null,
            "order": null,
            "overflow": null,
            "overflow_x": null,
            "overflow_y": null,
            "padding": null,
            "right": null,
            "top": null,
            "visibility": null,
            "width": null
          }
        },
        "aa226306edd7403b96b867f02a265b39": {
          "model_module": "@jupyter-widgets/controls",
          "model_name": "DescriptionStyleModel",
          "model_module_version": "1.5.0",
          "state": {
            "_model_module": "@jupyter-widgets/controls",
            "_model_module_version": "1.5.0",
            "_model_name": "DescriptionStyleModel",
            "_view_count": null,
            "_view_module": "@jupyter-widgets/base",
            "_view_module_version": "1.2.0",
            "_view_name": "StyleView",
            "description_width": ""
          }
        },
        "8f79803759c3443e832b349113faa431": {
          "model_module": "@jupyter-widgets/base",
          "model_name": "LayoutModel",
          "model_module_version": "1.2.0",
          "state": {
            "_model_module": "@jupyter-widgets/base",
            "_model_module_version": "1.2.0",
            "_model_name": "LayoutModel",
            "_view_count": null,
            "_view_module": "@jupyter-widgets/base",
            "_view_module_version": "1.2.0",
            "_view_name": "LayoutView",
            "align_content": null,
            "align_items": null,
            "align_self": null,
            "border": null,
            "bottom": null,
            "display": null,
            "flex": null,
            "flex_flow": null,
            "grid_area": null,
            "grid_auto_columns": null,
            "grid_auto_flow": null,
            "grid_auto_rows": null,
            "grid_column": null,
            "grid_gap": null,
            "grid_row": null,
            "grid_template_areas": null,
            "grid_template_columns": null,
            "grid_template_rows": null,
            "height": null,
            "justify_content": null,
            "justify_items": null,
            "left": null,
            "margin": null,
            "max_height": null,
            "max_width": null,
            "min_height": null,
            "min_width": null,
            "object_fit": null,
            "object_position": null,
            "order": null,
            "overflow": null,
            "overflow_x": null,
            "overflow_y": null,
            "padding": null,
            "right": null,
            "top": null,
            "visibility": null,
            "width": null
          }
        },
        "6db5a485fa5d4234b076f37dec2f3ca4": {
          "model_module": "@jupyter-widgets/controls",
          "model_name": "ProgressStyleModel",
          "model_module_version": "1.5.0",
          "state": {
            "_model_module": "@jupyter-widgets/controls",
            "_model_module_version": "1.5.0",
            "_model_name": "ProgressStyleModel",
            "_view_count": null,
            "_view_module": "@jupyter-widgets/base",
            "_view_module_version": "1.2.0",
            "_view_name": "StyleView",
            "bar_color": null,
            "description_width": ""
          }
        },
        "a13d9ab8cbb648ec9a847c72a830a01a": {
          "model_module": "@jupyter-widgets/base",
          "model_name": "LayoutModel",
          "model_module_version": "1.2.0",
          "state": {
            "_model_module": "@jupyter-widgets/base",
            "_model_module_version": "1.2.0",
            "_model_name": "LayoutModel",
            "_view_count": null,
            "_view_module": "@jupyter-widgets/base",
            "_view_module_version": "1.2.0",
            "_view_name": "LayoutView",
            "align_content": null,
            "align_items": null,
            "align_self": null,
            "border": null,
            "bottom": null,
            "display": null,
            "flex": null,
            "flex_flow": null,
            "grid_area": null,
            "grid_auto_columns": null,
            "grid_auto_flow": null,
            "grid_auto_rows": null,
            "grid_column": null,
            "grid_gap": null,
            "grid_row": null,
            "grid_template_areas": null,
            "grid_template_columns": null,
            "grid_template_rows": null,
            "height": null,
            "justify_content": null,
            "justify_items": null,
            "left": null,
            "margin": null,
            "max_height": null,
            "max_width": null,
            "min_height": null,
            "min_width": null,
            "object_fit": null,
            "object_position": null,
            "order": null,
            "overflow": null,
            "overflow_x": null,
            "overflow_y": null,
            "padding": null,
            "right": null,
            "top": null,
            "visibility": null,
            "width": null
          }
        },
        "f31762b58def4d06bc4035b1704237c1": {
          "model_module": "@jupyter-widgets/controls",
          "model_name": "DescriptionStyleModel",
          "model_module_version": "1.5.0",
          "state": {
            "_model_module": "@jupyter-widgets/controls",
            "_model_module_version": "1.5.0",
            "_model_name": "DescriptionStyleModel",
            "_view_count": null,
            "_view_module": "@jupyter-widgets/base",
            "_view_module_version": "1.2.0",
            "_view_name": "StyleView",
            "description_width": ""
          }
        },
        "0f6ee06cc44f48b38d037891f7b61fe2": {
          "model_module": "@jupyter-widgets/controls",
          "model_name": "HBoxModel",
          "model_module_version": "1.5.0",
          "state": {
            "_dom_classes": [],
            "_model_module": "@jupyter-widgets/controls",
            "_model_module_version": "1.5.0",
            "_model_name": "HBoxModel",
            "_view_count": null,
            "_view_module": "@jupyter-widgets/controls",
            "_view_module_version": "1.5.0",
            "_view_name": "HBoxView",
            "box_style": "",
            "children": [
              "IPY_MODEL_ff7b8996eeb4427098fa171d241f76a6",
              "IPY_MODEL_842aeaf5cb604c75b0a5124ad31d7508",
              "IPY_MODEL_5d2ddf85130845ef97a22e8172cf5931"
            ],
            "layout": "IPY_MODEL_f2dbb11f225b4751a6eeedc108196a30"
          }
        },
        "ff7b8996eeb4427098fa171d241f76a6": {
          "model_module": "@jupyter-widgets/controls",
          "model_name": "HTMLModel",
          "model_module_version": "1.5.0",
          "state": {
            "_dom_classes": [],
            "_model_module": "@jupyter-widgets/controls",
            "_model_module_version": "1.5.0",
            "_model_name": "HTMLModel",
            "_view_count": null,
            "_view_module": "@jupyter-widgets/controls",
            "_view_module_version": "1.5.0",
            "_view_name": "HTMLView",
            "description": "",
            "description_tooltip": null,
            "layout": "IPY_MODEL_6da8e7fcd1c44899bb5115495a4e2286",
            "placeholder": "​",
            "style": "IPY_MODEL_78f1e96e9a9544e08de9714f47f02cf4",
            "value": "100%"
          }
        },
        "842aeaf5cb604c75b0a5124ad31d7508": {
          "model_module": "@jupyter-widgets/controls",
          "model_name": "FloatProgressModel",
          "model_module_version": "1.5.0",
          "state": {
            "_dom_classes": [],
            "_model_module": "@jupyter-widgets/controls",
            "_model_module_version": "1.5.0",
            "_model_name": "FloatProgressModel",
            "_view_count": null,
            "_view_module": "@jupyter-widgets/controls",
            "_view_module_version": "1.5.0",
            "_view_name": "ProgressView",
            "bar_style": "success",
            "description": "",
            "description_tooltip": null,
            "layout": "IPY_MODEL_1f684e89b2f74f01a01904ba28e654db",
            "max": 1,
            "min": 0,
            "orientation": "horizontal",
            "style": "IPY_MODEL_88bab52975ce4a439a2ba2ee9b80f6f5",
            "value": 1
          }
        },
        "5d2ddf85130845ef97a22e8172cf5931": {
          "model_module": "@jupyter-widgets/controls",
          "model_name": "HTMLModel",
          "model_module_version": "1.5.0",
          "state": {
            "_dom_classes": [],
            "_model_module": "@jupyter-widgets/controls",
            "_model_module_version": "1.5.0",
            "_model_name": "HTMLModel",
            "_view_count": null,
            "_view_module": "@jupyter-widgets/controls",
            "_view_module_version": "1.5.0",
            "_view_name": "HTMLView",
            "description": "",
            "description_tooltip": null,
            "layout": "IPY_MODEL_dc6aa0786a3742859bbfad57c825331d",
            "placeholder": "​",
            "style": "IPY_MODEL_82fec29e46da41a9a77c2fdcbaba5d41",
            "value": " 1/1 [00:00&lt;00:00, 19.53ba/s]"
          }
        },
        "f2dbb11f225b4751a6eeedc108196a30": {
          "model_module": "@jupyter-widgets/base",
          "model_name": "LayoutModel",
          "model_module_version": "1.2.0",
          "state": {
            "_model_module": "@jupyter-widgets/base",
            "_model_module_version": "1.2.0",
            "_model_name": "LayoutModel",
            "_view_count": null,
            "_view_module": "@jupyter-widgets/base",
            "_view_module_version": "1.2.0",
            "_view_name": "LayoutView",
            "align_content": null,
            "align_items": null,
            "align_self": null,
            "border": null,
            "bottom": null,
            "display": null,
            "flex": null,
            "flex_flow": null,
            "grid_area": null,
            "grid_auto_columns": null,
            "grid_auto_flow": null,
            "grid_auto_rows": null,
            "grid_column": null,
            "grid_gap": null,
            "grid_row": null,
            "grid_template_areas": null,
            "grid_template_columns": null,
            "grid_template_rows": null,
            "height": null,
            "justify_content": null,
            "justify_items": null,
            "left": null,
            "margin": null,
            "max_height": null,
            "max_width": null,
            "min_height": null,
            "min_width": null,
            "object_fit": null,
            "object_position": null,
            "order": null,
            "overflow": null,
            "overflow_x": null,
            "overflow_y": null,
            "padding": null,
            "right": null,
            "top": null,
            "visibility": null,
            "width": null
          }
        },
        "6da8e7fcd1c44899bb5115495a4e2286": {
          "model_module": "@jupyter-widgets/base",
          "model_name": "LayoutModel",
          "model_module_version": "1.2.0",
          "state": {
            "_model_module": "@jupyter-widgets/base",
            "_model_module_version": "1.2.0",
            "_model_name": "LayoutModel",
            "_view_count": null,
            "_view_module": "@jupyter-widgets/base",
            "_view_module_version": "1.2.0",
            "_view_name": "LayoutView",
            "align_content": null,
            "align_items": null,
            "align_self": null,
            "border": null,
            "bottom": null,
            "display": null,
            "flex": null,
            "flex_flow": null,
            "grid_area": null,
            "grid_auto_columns": null,
            "grid_auto_flow": null,
            "grid_auto_rows": null,
            "grid_column": null,
            "grid_gap": null,
            "grid_row": null,
            "grid_template_areas": null,
            "grid_template_columns": null,
            "grid_template_rows": null,
            "height": null,
            "justify_content": null,
            "justify_items": null,
            "left": null,
            "margin": null,
            "max_height": null,
            "max_width": null,
            "min_height": null,
            "min_width": null,
            "object_fit": null,
            "object_position": null,
            "order": null,
            "overflow": null,
            "overflow_x": null,
            "overflow_y": null,
            "padding": null,
            "right": null,
            "top": null,
            "visibility": null,
            "width": null
          }
        },
        "78f1e96e9a9544e08de9714f47f02cf4": {
          "model_module": "@jupyter-widgets/controls",
          "model_name": "DescriptionStyleModel",
          "model_module_version": "1.5.0",
          "state": {
            "_model_module": "@jupyter-widgets/controls",
            "_model_module_version": "1.5.0",
            "_model_name": "DescriptionStyleModel",
            "_view_count": null,
            "_view_module": "@jupyter-widgets/base",
            "_view_module_version": "1.2.0",
            "_view_name": "StyleView",
            "description_width": ""
          }
        },
        "1f684e89b2f74f01a01904ba28e654db": {
          "model_module": "@jupyter-widgets/base",
          "model_name": "LayoutModel",
          "model_module_version": "1.2.0",
          "state": {
            "_model_module": "@jupyter-widgets/base",
            "_model_module_version": "1.2.0",
            "_model_name": "LayoutModel",
            "_view_count": null,
            "_view_module": "@jupyter-widgets/base",
            "_view_module_version": "1.2.0",
            "_view_name": "LayoutView",
            "align_content": null,
            "align_items": null,
            "align_self": null,
            "border": null,
            "bottom": null,
            "display": null,
            "flex": null,
            "flex_flow": null,
            "grid_area": null,
            "grid_auto_columns": null,
            "grid_auto_flow": null,
            "grid_auto_rows": null,
            "grid_column": null,
            "grid_gap": null,
            "grid_row": null,
            "grid_template_areas": null,
            "grid_template_columns": null,
            "grid_template_rows": null,
            "height": null,
            "justify_content": null,
            "justify_items": null,
            "left": null,
            "margin": null,
            "max_height": null,
            "max_width": null,
            "min_height": null,
            "min_width": null,
            "object_fit": null,
            "object_position": null,
            "order": null,
            "overflow": null,
            "overflow_x": null,
            "overflow_y": null,
            "padding": null,
            "right": null,
            "top": null,
            "visibility": null,
            "width": null
          }
        },
        "88bab52975ce4a439a2ba2ee9b80f6f5": {
          "model_module": "@jupyter-widgets/controls",
          "model_name": "ProgressStyleModel",
          "model_module_version": "1.5.0",
          "state": {
            "_model_module": "@jupyter-widgets/controls",
            "_model_module_version": "1.5.0",
            "_model_name": "ProgressStyleModel",
            "_view_count": null,
            "_view_module": "@jupyter-widgets/base",
            "_view_module_version": "1.2.0",
            "_view_name": "StyleView",
            "bar_color": null,
            "description_width": ""
          }
        },
        "dc6aa0786a3742859bbfad57c825331d": {
          "model_module": "@jupyter-widgets/base",
          "model_name": "LayoutModel",
          "model_module_version": "1.2.0",
          "state": {
            "_model_module": "@jupyter-widgets/base",
            "_model_module_version": "1.2.0",
            "_model_name": "LayoutModel",
            "_view_count": null,
            "_view_module": "@jupyter-widgets/base",
            "_view_module_version": "1.2.0",
            "_view_name": "LayoutView",
            "align_content": null,
            "align_items": null,
            "align_self": null,
            "border": null,
            "bottom": null,
            "display": null,
            "flex": null,
            "flex_flow": null,
            "grid_area": null,
            "grid_auto_columns": null,
            "grid_auto_flow": null,
            "grid_auto_rows": null,
            "grid_column": null,
            "grid_gap": null,
            "grid_row": null,
            "grid_template_areas": null,
            "grid_template_columns": null,
            "grid_template_rows": null,
            "height": null,
            "justify_content": null,
            "justify_items": null,
            "left": null,
            "margin": null,
            "max_height": null,
            "max_width": null,
            "min_height": null,
            "min_width": null,
            "object_fit": null,
            "object_position": null,
            "order": null,
            "overflow": null,
            "overflow_x": null,
            "overflow_y": null,
            "padding": null,
            "right": null,
            "top": null,
            "visibility": null,
            "width": null
          }
        },
        "82fec29e46da41a9a77c2fdcbaba5d41": {
          "model_module": "@jupyter-widgets/controls",
          "model_name": "DescriptionStyleModel",
          "model_module_version": "1.5.0",
          "state": {
            "_model_module": "@jupyter-widgets/controls",
            "_model_module_version": "1.5.0",
            "_model_name": "DescriptionStyleModel",
            "_view_count": null,
            "_view_module": "@jupyter-widgets/base",
            "_view_module_version": "1.2.0",
            "_view_name": "StyleView",
            "description_width": ""
          }
        },
        "458c8edc30904f1ba5d18c442d7e415d": {
          "model_module": "@jupyter-widgets/controls",
          "model_name": "HBoxModel",
          "model_module_version": "1.5.0",
          "state": {
            "_dom_classes": [],
            "_model_module": "@jupyter-widgets/controls",
            "_model_module_version": "1.5.0",
            "_model_name": "HBoxModel",
            "_view_count": null,
            "_view_module": "@jupyter-widgets/controls",
            "_view_module_version": "1.5.0",
            "_view_name": "HBoxView",
            "box_style": "",
            "children": [
              "IPY_MODEL_7b1df6b3907b4c28a6d942f003cdcd23",
              "IPY_MODEL_2e985a64fa0a4f47b5d264004543b5a8",
              "IPY_MODEL_036a6a65bfdf4f94a541096bf11093cd"
            ],
            "layout": "IPY_MODEL_3fb7ed8667764b1d82a31513c5c51cc5"
          }
        },
        "7b1df6b3907b4c28a6d942f003cdcd23": {
          "model_module": "@jupyter-widgets/controls",
          "model_name": "HTMLModel",
          "model_module_version": "1.5.0",
          "state": {
            "_dom_classes": [],
            "_model_module": "@jupyter-widgets/controls",
            "_model_module_version": "1.5.0",
            "_model_name": "HTMLModel",
            "_view_count": null,
            "_view_module": "@jupyter-widgets/controls",
            "_view_module_version": "1.5.0",
            "_view_name": "HTMLView",
            "description": "",
            "description_tooltip": null,
            "layout": "IPY_MODEL_fd6f34c0ee8048c5ad92176e83ab310a",
            "placeholder": "​",
            "style": "IPY_MODEL_08186ca547cc491a8a5238b9f98be478",
            "value": "100%"
          }
        },
        "2e985a64fa0a4f47b5d264004543b5a8": {
          "model_module": "@jupyter-widgets/controls",
          "model_name": "FloatProgressModel",
          "model_module_version": "1.5.0",
          "state": {
            "_dom_classes": [],
            "_model_module": "@jupyter-widgets/controls",
            "_model_module_version": "1.5.0",
            "_model_name": "FloatProgressModel",
            "_view_count": null,
            "_view_module": "@jupyter-widgets/controls",
            "_view_module_version": "1.5.0",
            "_view_name": "ProgressView",
            "bar_style": "success",
            "description": "",
            "description_tooltip": null,
            "layout": "IPY_MODEL_408781645d1d4188a28dd663c72a3bf1",
            "max": 1,
            "min": 0,
            "orientation": "horizontal",
            "style": "IPY_MODEL_43857fe1399749ffb0ba9fafb725cf22",
            "value": 1
          }
        },
        "036a6a65bfdf4f94a541096bf11093cd": {
          "model_module": "@jupyter-widgets/controls",
          "model_name": "HTMLModel",
          "model_module_version": "1.5.0",
          "state": {
            "_dom_classes": [],
            "_model_module": "@jupyter-widgets/controls",
            "_model_module_version": "1.5.0",
            "_model_name": "HTMLModel",
            "_view_count": null,
            "_view_module": "@jupyter-widgets/controls",
            "_view_module_version": "1.5.0",
            "_view_name": "HTMLView",
            "description": "",
            "description_tooltip": null,
            "layout": "IPY_MODEL_5efa49a8859b4501a2a9e8e15a3d9651",
            "placeholder": "​",
            "style": "IPY_MODEL_f2d8a1e46c734f72bb60922cab1e66ba",
            "value": " 1/1 [00:00&lt;00:00, 17.16ba/s]"
          }
        },
        "3fb7ed8667764b1d82a31513c5c51cc5": {
          "model_module": "@jupyter-widgets/base",
          "model_name": "LayoutModel",
          "model_module_version": "1.2.0",
          "state": {
            "_model_module": "@jupyter-widgets/base",
            "_model_module_version": "1.2.0",
            "_model_name": "LayoutModel",
            "_view_count": null,
            "_view_module": "@jupyter-widgets/base",
            "_view_module_version": "1.2.0",
            "_view_name": "LayoutView",
            "align_content": null,
            "align_items": null,
            "align_self": null,
            "border": null,
            "bottom": null,
            "display": null,
            "flex": null,
            "flex_flow": null,
            "grid_area": null,
            "grid_auto_columns": null,
            "grid_auto_flow": null,
            "grid_auto_rows": null,
            "grid_column": null,
            "grid_gap": null,
            "grid_row": null,
            "grid_template_areas": null,
            "grid_template_columns": null,
            "grid_template_rows": null,
            "height": null,
            "justify_content": null,
            "justify_items": null,
            "left": null,
            "margin": null,
            "max_height": null,
            "max_width": null,
            "min_height": null,
            "min_width": null,
            "object_fit": null,
            "object_position": null,
            "order": null,
            "overflow": null,
            "overflow_x": null,
            "overflow_y": null,
            "padding": null,
            "right": null,
            "top": null,
            "visibility": null,
            "width": null
          }
        },
        "fd6f34c0ee8048c5ad92176e83ab310a": {
          "model_module": "@jupyter-widgets/base",
          "model_name": "LayoutModel",
          "model_module_version": "1.2.0",
          "state": {
            "_model_module": "@jupyter-widgets/base",
            "_model_module_version": "1.2.0",
            "_model_name": "LayoutModel",
            "_view_count": null,
            "_view_module": "@jupyter-widgets/base",
            "_view_module_version": "1.2.0",
            "_view_name": "LayoutView",
            "align_content": null,
            "align_items": null,
            "align_self": null,
            "border": null,
            "bottom": null,
            "display": null,
            "flex": null,
            "flex_flow": null,
            "grid_area": null,
            "grid_auto_columns": null,
            "grid_auto_flow": null,
            "grid_auto_rows": null,
            "grid_column": null,
            "grid_gap": null,
            "grid_row": null,
            "grid_template_areas": null,
            "grid_template_columns": null,
            "grid_template_rows": null,
            "height": null,
            "justify_content": null,
            "justify_items": null,
            "left": null,
            "margin": null,
            "max_height": null,
            "max_width": null,
            "min_height": null,
            "min_width": null,
            "object_fit": null,
            "object_position": null,
            "order": null,
            "overflow": null,
            "overflow_x": null,
            "overflow_y": null,
            "padding": null,
            "right": null,
            "top": null,
            "visibility": null,
            "width": null
          }
        },
        "08186ca547cc491a8a5238b9f98be478": {
          "model_module": "@jupyter-widgets/controls",
          "model_name": "DescriptionStyleModel",
          "model_module_version": "1.5.0",
          "state": {
            "_model_module": "@jupyter-widgets/controls",
            "_model_module_version": "1.5.0",
            "_model_name": "DescriptionStyleModel",
            "_view_count": null,
            "_view_module": "@jupyter-widgets/base",
            "_view_module_version": "1.2.0",
            "_view_name": "StyleView",
            "description_width": ""
          }
        },
        "408781645d1d4188a28dd663c72a3bf1": {
          "model_module": "@jupyter-widgets/base",
          "model_name": "LayoutModel",
          "model_module_version": "1.2.0",
          "state": {
            "_model_module": "@jupyter-widgets/base",
            "_model_module_version": "1.2.0",
            "_model_name": "LayoutModel",
            "_view_count": null,
            "_view_module": "@jupyter-widgets/base",
            "_view_module_version": "1.2.0",
            "_view_name": "LayoutView",
            "align_content": null,
            "align_items": null,
            "align_self": null,
            "border": null,
            "bottom": null,
            "display": null,
            "flex": null,
            "flex_flow": null,
            "grid_area": null,
            "grid_auto_columns": null,
            "grid_auto_flow": null,
            "grid_auto_rows": null,
            "grid_column": null,
            "grid_gap": null,
            "grid_row": null,
            "grid_template_areas": null,
            "grid_template_columns": null,
            "grid_template_rows": null,
            "height": null,
            "justify_content": null,
            "justify_items": null,
            "left": null,
            "margin": null,
            "max_height": null,
            "max_width": null,
            "min_height": null,
            "min_width": null,
            "object_fit": null,
            "object_position": null,
            "order": null,
            "overflow": null,
            "overflow_x": null,
            "overflow_y": null,
            "padding": null,
            "right": null,
            "top": null,
            "visibility": null,
            "width": null
          }
        },
        "43857fe1399749ffb0ba9fafb725cf22": {
          "model_module": "@jupyter-widgets/controls",
          "model_name": "ProgressStyleModel",
          "model_module_version": "1.5.0",
          "state": {
            "_model_module": "@jupyter-widgets/controls",
            "_model_module_version": "1.5.0",
            "_model_name": "ProgressStyleModel",
            "_view_count": null,
            "_view_module": "@jupyter-widgets/base",
            "_view_module_version": "1.2.0",
            "_view_name": "StyleView",
            "bar_color": null,
            "description_width": ""
          }
        },
        "5efa49a8859b4501a2a9e8e15a3d9651": {
          "model_module": "@jupyter-widgets/base",
          "model_name": "LayoutModel",
          "model_module_version": "1.2.0",
          "state": {
            "_model_module": "@jupyter-widgets/base",
            "_model_module_version": "1.2.0",
            "_model_name": "LayoutModel",
            "_view_count": null,
            "_view_module": "@jupyter-widgets/base",
            "_view_module_version": "1.2.0",
            "_view_name": "LayoutView",
            "align_content": null,
            "align_items": null,
            "align_self": null,
            "border": null,
            "bottom": null,
            "display": null,
            "flex": null,
            "flex_flow": null,
            "grid_area": null,
            "grid_auto_columns": null,
            "grid_auto_flow": null,
            "grid_auto_rows": null,
            "grid_column": null,
            "grid_gap": null,
            "grid_row": null,
            "grid_template_areas": null,
            "grid_template_columns": null,
            "grid_template_rows": null,
            "height": null,
            "justify_content": null,
            "justify_items": null,
            "left": null,
            "margin": null,
            "max_height": null,
            "max_width": null,
            "min_height": null,
            "min_width": null,
            "object_fit": null,
            "object_position": null,
            "order": null,
            "overflow": null,
            "overflow_x": null,
            "overflow_y": null,
            "padding": null,
            "right": null,
            "top": null,
            "visibility": null,
            "width": null
          }
        },
        "f2d8a1e46c734f72bb60922cab1e66ba": {
          "model_module": "@jupyter-widgets/controls",
          "model_name": "DescriptionStyleModel",
          "model_module_version": "1.5.0",
          "state": {
            "_model_module": "@jupyter-widgets/controls",
            "_model_module_version": "1.5.0",
            "_model_name": "DescriptionStyleModel",
            "_view_count": null,
            "_view_module": "@jupyter-widgets/base",
            "_view_module_version": "1.2.0",
            "_view_name": "StyleView",
            "description_width": ""
          }
        },
        "5474c485be894d3aa30c35b3111100ad": {
          "model_module": "@jupyter-widgets/controls",
          "model_name": "HBoxModel",
          "model_module_version": "1.5.0",
          "state": {
            "_dom_classes": [],
            "_model_module": "@jupyter-widgets/controls",
            "_model_module_version": "1.5.0",
            "_model_name": "HBoxModel",
            "_view_count": null,
            "_view_module": "@jupyter-widgets/controls",
            "_view_module_version": "1.5.0",
            "_view_name": "HBoxView",
            "box_style": "",
            "children": [
              "IPY_MODEL_9543d1e0fb144e29b7e35673f4465121",
              "IPY_MODEL_6076f5803c3f46eabae7f23964aea66f",
              "IPY_MODEL_b6dfcb6cd3af409f90344c2f60792a90"
            ],
            "layout": "IPY_MODEL_d9ad17679d6c4c869ecd431ae4f9496c"
          }
        },
        "9543d1e0fb144e29b7e35673f4465121": {
          "model_module": "@jupyter-widgets/controls",
          "model_name": "HTMLModel",
          "model_module_version": "1.5.0",
          "state": {
            "_dom_classes": [],
            "_model_module": "@jupyter-widgets/controls",
            "_model_module_version": "1.5.0",
            "_model_name": "HTMLModel",
            "_view_count": null,
            "_view_module": "@jupyter-widgets/controls",
            "_view_module_version": "1.5.0",
            "_view_name": "HTMLView",
            "description": "",
            "description_tooltip": null,
            "layout": "IPY_MODEL_30e5227092654defbb4fcc97f412e1b3",
            "placeholder": "​",
            "style": "IPY_MODEL_449dfdd6311d4035acac5398b49015ad",
            "value": "100%"
          }
        },
        "6076f5803c3f46eabae7f23964aea66f": {
          "model_module": "@jupyter-widgets/controls",
          "model_name": "FloatProgressModel",
          "model_module_version": "1.5.0",
          "state": {
            "_dom_classes": [],
            "_model_module": "@jupyter-widgets/controls",
            "_model_module_version": "1.5.0",
            "_model_name": "FloatProgressModel",
            "_view_count": null,
            "_view_module": "@jupyter-widgets/controls",
            "_view_module_version": "1.5.0",
            "_view_name": "ProgressView",
            "bar_style": "success",
            "description": "",
            "description_tooltip": null,
            "layout": "IPY_MODEL_e4202a85f75d4a108c748423aadfde71",
            "max": 7200,
            "min": 0,
            "orientation": "horizontal",
            "style": "IPY_MODEL_7e159449683440febac474e127412e76",
            "value": 7200
          }
        },
        "b6dfcb6cd3af409f90344c2f60792a90": {
          "model_module": "@jupyter-widgets/controls",
          "model_name": "HTMLModel",
          "model_module_version": "1.5.0",
          "state": {
            "_dom_classes": [],
            "_model_module": "@jupyter-widgets/controls",
            "_model_module_version": "1.5.0",
            "_model_name": "HTMLModel",
            "_view_count": null,
            "_view_module": "@jupyter-widgets/controls",
            "_view_module_version": "1.5.0",
            "_view_name": "HTMLView",
            "description": "",
            "description_tooltip": null,
            "layout": "IPY_MODEL_864b336c1f2a4f1190c6155859cf0be3",
            "placeholder": "​",
            "style": "IPY_MODEL_c61d5bb04f2e4633bda1ff9ce97af5d6",
            "value": " 7200/7200 [00:53&lt;00:00, 174.75ex/s]"
          }
        },
        "d9ad17679d6c4c869ecd431ae4f9496c": {
          "model_module": "@jupyter-widgets/base",
          "model_name": "LayoutModel",
          "model_module_version": "1.2.0",
          "state": {
            "_model_module": "@jupyter-widgets/base",
            "_model_module_version": "1.2.0",
            "_model_name": "LayoutModel",
            "_view_count": null,
            "_view_module": "@jupyter-widgets/base",
            "_view_module_version": "1.2.0",
            "_view_name": "LayoutView",
            "align_content": null,
            "align_items": null,
            "align_self": null,
            "border": null,
            "bottom": null,
            "display": null,
            "flex": null,
            "flex_flow": null,
            "grid_area": null,
            "grid_auto_columns": null,
            "grid_auto_flow": null,
            "grid_auto_rows": null,
            "grid_column": null,
            "grid_gap": null,
            "grid_row": null,
            "grid_template_areas": null,
            "grid_template_columns": null,
            "grid_template_rows": null,
            "height": null,
            "justify_content": null,
            "justify_items": null,
            "left": null,
            "margin": null,
            "max_height": null,
            "max_width": null,
            "min_height": null,
            "min_width": null,
            "object_fit": null,
            "object_position": null,
            "order": null,
            "overflow": null,
            "overflow_x": null,
            "overflow_y": null,
            "padding": null,
            "right": null,
            "top": null,
            "visibility": null,
            "width": null
          }
        },
        "30e5227092654defbb4fcc97f412e1b3": {
          "model_module": "@jupyter-widgets/base",
          "model_name": "LayoutModel",
          "model_module_version": "1.2.0",
          "state": {
            "_model_module": "@jupyter-widgets/base",
            "_model_module_version": "1.2.0",
            "_model_name": "LayoutModel",
            "_view_count": null,
            "_view_module": "@jupyter-widgets/base",
            "_view_module_version": "1.2.0",
            "_view_name": "LayoutView",
            "align_content": null,
            "align_items": null,
            "align_self": null,
            "border": null,
            "bottom": null,
            "display": null,
            "flex": null,
            "flex_flow": null,
            "grid_area": null,
            "grid_auto_columns": null,
            "grid_auto_flow": null,
            "grid_auto_rows": null,
            "grid_column": null,
            "grid_gap": null,
            "grid_row": null,
            "grid_template_areas": null,
            "grid_template_columns": null,
            "grid_template_rows": null,
            "height": null,
            "justify_content": null,
            "justify_items": null,
            "left": null,
            "margin": null,
            "max_height": null,
            "max_width": null,
            "min_height": null,
            "min_width": null,
            "object_fit": null,
            "object_position": null,
            "order": null,
            "overflow": null,
            "overflow_x": null,
            "overflow_y": null,
            "padding": null,
            "right": null,
            "top": null,
            "visibility": null,
            "width": null
          }
        },
        "449dfdd6311d4035acac5398b49015ad": {
          "model_module": "@jupyter-widgets/controls",
          "model_name": "DescriptionStyleModel",
          "model_module_version": "1.5.0",
          "state": {
            "_model_module": "@jupyter-widgets/controls",
            "_model_module_version": "1.5.0",
            "_model_name": "DescriptionStyleModel",
            "_view_count": null,
            "_view_module": "@jupyter-widgets/base",
            "_view_module_version": "1.2.0",
            "_view_name": "StyleView",
            "description_width": ""
          }
        },
        "e4202a85f75d4a108c748423aadfde71": {
          "model_module": "@jupyter-widgets/base",
          "model_name": "LayoutModel",
          "model_module_version": "1.2.0",
          "state": {
            "_model_module": "@jupyter-widgets/base",
            "_model_module_version": "1.2.0",
            "_model_name": "LayoutModel",
            "_view_count": null,
            "_view_module": "@jupyter-widgets/base",
            "_view_module_version": "1.2.0",
            "_view_name": "LayoutView",
            "align_content": null,
            "align_items": null,
            "align_self": null,
            "border": null,
            "bottom": null,
            "display": null,
            "flex": null,
            "flex_flow": null,
            "grid_area": null,
            "grid_auto_columns": null,
            "grid_auto_flow": null,
            "grid_auto_rows": null,
            "grid_column": null,
            "grid_gap": null,
            "grid_row": null,
            "grid_template_areas": null,
            "grid_template_columns": null,
            "grid_template_rows": null,
            "height": null,
            "justify_content": null,
            "justify_items": null,
            "left": null,
            "margin": null,
            "max_height": null,
            "max_width": null,
            "min_height": null,
            "min_width": null,
            "object_fit": null,
            "object_position": null,
            "order": null,
            "overflow": null,
            "overflow_x": null,
            "overflow_y": null,
            "padding": null,
            "right": null,
            "top": null,
            "visibility": null,
            "width": null
          }
        },
        "7e159449683440febac474e127412e76": {
          "model_module": "@jupyter-widgets/controls",
          "model_name": "ProgressStyleModel",
          "model_module_version": "1.5.0",
          "state": {
            "_model_module": "@jupyter-widgets/controls",
            "_model_module_version": "1.5.0",
            "_model_name": "ProgressStyleModel",
            "_view_count": null,
            "_view_module": "@jupyter-widgets/base",
            "_view_module_version": "1.2.0",
            "_view_name": "StyleView",
            "bar_color": null,
            "description_width": ""
          }
        },
        "864b336c1f2a4f1190c6155859cf0be3": {
          "model_module": "@jupyter-widgets/base",
          "model_name": "LayoutModel",
          "model_module_version": "1.2.0",
          "state": {
            "_model_module": "@jupyter-widgets/base",
            "_model_module_version": "1.2.0",
            "_model_name": "LayoutModel",
            "_view_count": null,
            "_view_module": "@jupyter-widgets/base",
            "_view_module_version": "1.2.0",
            "_view_name": "LayoutView",
            "align_content": null,
            "align_items": null,
            "align_self": null,
            "border": null,
            "bottom": null,
            "display": null,
            "flex": null,
            "flex_flow": null,
            "grid_area": null,
            "grid_auto_columns": null,
            "grid_auto_flow": null,
            "grid_auto_rows": null,
            "grid_column": null,
            "grid_gap": null,
            "grid_row": null,
            "grid_template_areas": null,
            "grid_template_columns": null,
            "grid_template_rows": null,
            "height": null,
            "justify_content": null,
            "justify_items": null,
            "left": null,
            "margin": null,
            "max_height": null,
            "max_width": null,
            "min_height": null,
            "min_width": null,
            "object_fit": null,
            "object_position": null,
            "order": null,
            "overflow": null,
            "overflow_x": null,
            "overflow_y": null,
            "padding": null,
            "right": null,
            "top": null,
            "visibility": null,
            "width": null
          }
        },
        "c61d5bb04f2e4633bda1ff9ce97af5d6": {
          "model_module": "@jupyter-widgets/controls",
          "model_name": "DescriptionStyleModel",
          "model_module_version": "1.5.0",
          "state": {
            "_model_module": "@jupyter-widgets/controls",
            "_model_module_version": "1.5.0",
            "_model_name": "DescriptionStyleModel",
            "_view_count": null,
            "_view_module": "@jupyter-widgets/base",
            "_view_module_version": "1.2.0",
            "_view_name": "StyleView",
            "description_width": ""
          }
        },
        "627323bf0aaf47d7bc126d9f1702b00a": {
          "model_module": "@jupyter-widgets/controls",
          "model_name": "HBoxModel",
          "model_module_version": "1.5.0",
          "state": {
            "_dom_classes": [],
            "_model_module": "@jupyter-widgets/controls",
            "_model_module_version": "1.5.0",
            "_model_name": "HBoxModel",
            "_view_count": null,
            "_view_module": "@jupyter-widgets/controls",
            "_view_module_version": "1.5.0",
            "_view_name": "HBoxView",
            "box_style": "",
            "children": [
              "IPY_MODEL_86a2925d540847c2aeb833c23a79ea89",
              "IPY_MODEL_3e8e2c4504a748dc8bf238021fd3ae02",
              "IPY_MODEL_2b0e4238924e4e22924664b25aa32b41"
            ],
            "layout": "IPY_MODEL_9d3457a79c1043a1ae046daf4be93345"
          }
        },
        "86a2925d540847c2aeb833c23a79ea89": {
          "model_module": "@jupyter-widgets/controls",
          "model_name": "HTMLModel",
          "model_module_version": "1.5.0",
          "state": {
            "_dom_classes": [],
            "_model_module": "@jupyter-widgets/controls",
            "_model_module_version": "1.5.0",
            "_model_name": "HTMLModel",
            "_view_count": null,
            "_view_module": "@jupyter-widgets/controls",
            "_view_module_version": "1.5.0",
            "_view_name": "HTMLView",
            "description": "",
            "description_tooltip": null,
            "layout": "IPY_MODEL_0edbadf79b2d43969a277076e168dba1",
            "placeholder": "​",
            "style": "IPY_MODEL_64dcefc265bf4e7d9c467e7c5afacfab",
            "value": "100%"
          }
        },
        "3e8e2c4504a748dc8bf238021fd3ae02": {
          "model_module": "@jupyter-widgets/controls",
          "model_name": "FloatProgressModel",
          "model_module_version": "1.5.0",
          "state": {
            "_dom_classes": [],
            "_model_module": "@jupyter-widgets/controls",
            "_model_module_version": "1.5.0",
            "_model_name": "FloatProgressModel",
            "_view_count": null,
            "_view_module": "@jupyter-widgets/controls",
            "_view_module_version": "1.5.0",
            "_view_name": "ProgressView",
            "bar_style": "success",
            "description": "",
            "description_tooltip": null,
            "layout": "IPY_MODEL_822b993119e94aa6a19a86bf83dd84b6",
            "max": 1200,
            "min": 0,
            "orientation": "horizontal",
            "style": "IPY_MODEL_f3e2d593447a48df9eb7e463835d5076",
            "value": 1200
          }
        },
        "2b0e4238924e4e22924664b25aa32b41": {
          "model_module": "@jupyter-widgets/controls",
          "model_name": "HTMLModel",
          "model_module_version": "1.5.0",
          "state": {
            "_dom_classes": [],
            "_model_module": "@jupyter-widgets/controls",
            "_model_module_version": "1.5.0",
            "_model_name": "HTMLModel",
            "_view_count": null,
            "_view_module": "@jupyter-widgets/controls",
            "_view_module_version": "1.5.0",
            "_view_name": "HTMLView",
            "description": "",
            "description_tooltip": null,
            "layout": "IPY_MODEL_ef7c11be85374ff2aa611a9775bacfd0",
            "placeholder": "​",
            "style": "IPY_MODEL_8cd7ddc68bc6448ca6f67f855b12d112",
            "value": " 1200/1200 [00:10&lt;00:00, 94.55ex/s]"
          }
        },
        "9d3457a79c1043a1ae046daf4be93345": {
          "model_module": "@jupyter-widgets/base",
          "model_name": "LayoutModel",
          "model_module_version": "1.2.0",
          "state": {
            "_model_module": "@jupyter-widgets/base",
            "_model_module_version": "1.2.0",
            "_model_name": "LayoutModel",
            "_view_count": null,
            "_view_module": "@jupyter-widgets/base",
            "_view_module_version": "1.2.0",
            "_view_name": "LayoutView",
            "align_content": null,
            "align_items": null,
            "align_self": null,
            "border": null,
            "bottom": null,
            "display": null,
            "flex": null,
            "flex_flow": null,
            "grid_area": null,
            "grid_auto_columns": null,
            "grid_auto_flow": null,
            "grid_auto_rows": null,
            "grid_column": null,
            "grid_gap": null,
            "grid_row": null,
            "grid_template_areas": null,
            "grid_template_columns": null,
            "grid_template_rows": null,
            "height": null,
            "justify_content": null,
            "justify_items": null,
            "left": null,
            "margin": null,
            "max_height": null,
            "max_width": null,
            "min_height": null,
            "min_width": null,
            "object_fit": null,
            "object_position": null,
            "order": null,
            "overflow": null,
            "overflow_x": null,
            "overflow_y": null,
            "padding": null,
            "right": null,
            "top": null,
            "visibility": null,
            "width": null
          }
        },
        "0edbadf79b2d43969a277076e168dba1": {
          "model_module": "@jupyter-widgets/base",
          "model_name": "LayoutModel",
          "model_module_version": "1.2.0",
          "state": {
            "_model_module": "@jupyter-widgets/base",
            "_model_module_version": "1.2.0",
            "_model_name": "LayoutModel",
            "_view_count": null,
            "_view_module": "@jupyter-widgets/base",
            "_view_module_version": "1.2.0",
            "_view_name": "LayoutView",
            "align_content": null,
            "align_items": null,
            "align_self": null,
            "border": null,
            "bottom": null,
            "display": null,
            "flex": null,
            "flex_flow": null,
            "grid_area": null,
            "grid_auto_columns": null,
            "grid_auto_flow": null,
            "grid_auto_rows": null,
            "grid_column": null,
            "grid_gap": null,
            "grid_row": null,
            "grid_template_areas": null,
            "grid_template_columns": null,
            "grid_template_rows": null,
            "height": null,
            "justify_content": null,
            "justify_items": null,
            "left": null,
            "margin": null,
            "max_height": null,
            "max_width": null,
            "min_height": null,
            "min_width": null,
            "object_fit": null,
            "object_position": null,
            "order": null,
            "overflow": null,
            "overflow_x": null,
            "overflow_y": null,
            "padding": null,
            "right": null,
            "top": null,
            "visibility": null,
            "width": null
          }
        },
        "64dcefc265bf4e7d9c467e7c5afacfab": {
          "model_module": "@jupyter-widgets/controls",
          "model_name": "DescriptionStyleModel",
          "model_module_version": "1.5.0",
          "state": {
            "_model_module": "@jupyter-widgets/controls",
            "_model_module_version": "1.5.0",
            "_model_name": "DescriptionStyleModel",
            "_view_count": null,
            "_view_module": "@jupyter-widgets/base",
            "_view_module_version": "1.2.0",
            "_view_name": "StyleView",
            "description_width": ""
          }
        },
        "822b993119e94aa6a19a86bf83dd84b6": {
          "model_module": "@jupyter-widgets/base",
          "model_name": "LayoutModel",
          "model_module_version": "1.2.0",
          "state": {
            "_model_module": "@jupyter-widgets/base",
            "_model_module_version": "1.2.0",
            "_model_name": "LayoutModel",
            "_view_count": null,
            "_view_module": "@jupyter-widgets/base",
            "_view_module_version": "1.2.0",
            "_view_name": "LayoutView",
            "align_content": null,
            "align_items": null,
            "align_self": null,
            "border": null,
            "bottom": null,
            "display": null,
            "flex": null,
            "flex_flow": null,
            "grid_area": null,
            "grid_auto_columns": null,
            "grid_auto_flow": null,
            "grid_auto_rows": null,
            "grid_column": null,
            "grid_gap": null,
            "grid_row": null,
            "grid_template_areas": null,
            "grid_template_columns": null,
            "grid_template_rows": null,
            "height": null,
            "justify_content": null,
            "justify_items": null,
            "left": null,
            "margin": null,
            "max_height": null,
            "max_width": null,
            "min_height": null,
            "min_width": null,
            "object_fit": null,
            "object_position": null,
            "order": null,
            "overflow": null,
            "overflow_x": null,
            "overflow_y": null,
            "padding": null,
            "right": null,
            "top": null,
            "visibility": null,
            "width": null
          }
        },
        "f3e2d593447a48df9eb7e463835d5076": {
          "model_module": "@jupyter-widgets/controls",
          "model_name": "ProgressStyleModel",
          "model_module_version": "1.5.0",
          "state": {
            "_model_module": "@jupyter-widgets/controls",
            "_model_module_version": "1.5.0",
            "_model_name": "ProgressStyleModel",
            "_view_count": null,
            "_view_module": "@jupyter-widgets/base",
            "_view_module_version": "1.2.0",
            "_view_name": "StyleView",
            "bar_color": null,
            "description_width": ""
          }
        },
        "ef7c11be85374ff2aa611a9775bacfd0": {
          "model_module": "@jupyter-widgets/base",
          "model_name": "LayoutModel",
          "model_module_version": "1.2.0",
          "state": {
            "_model_module": "@jupyter-widgets/base",
            "_model_module_version": "1.2.0",
            "_model_name": "LayoutModel",
            "_view_count": null,
            "_view_module": "@jupyter-widgets/base",
            "_view_module_version": "1.2.0",
            "_view_name": "LayoutView",
            "align_content": null,
            "align_items": null,
            "align_self": null,
            "border": null,
            "bottom": null,
            "display": null,
            "flex": null,
            "flex_flow": null,
            "grid_area": null,
            "grid_auto_columns": null,
            "grid_auto_flow": null,
            "grid_auto_rows": null,
            "grid_column": null,
            "grid_gap": null,
            "grid_row": null,
            "grid_template_areas": null,
            "grid_template_columns": null,
            "grid_template_rows": null,
            "height": null,
            "justify_content": null,
            "justify_items": null,
            "left": null,
            "margin": null,
            "max_height": null,
            "max_width": null,
            "min_height": null,
            "min_width": null,
            "object_fit": null,
            "object_position": null,
            "order": null,
            "overflow": null,
            "overflow_x": null,
            "overflow_y": null,
            "padding": null,
            "right": null,
            "top": null,
            "visibility": null,
            "width": null
          }
        },
        "8cd7ddc68bc6448ca6f67f855b12d112": {
          "model_module": "@jupyter-widgets/controls",
          "model_name": "DescriptionStyleModel",
          "model_module_version": "1.5.0",
          "state": {
            "_model_module": "@jupyter-widgets/controls",
            "_model_module_version": "1.5.0",
            "_model_name": "DescriptionStyleModel",
            "_view_count": null,
            "_view_module": "@jupyter-widgets/base",
            "_view_module_version": "1.2.0",
            "_view_name": "StyleView",
            "description_width": ""
          }
        },
        "7c9f3114e5124c7b817fe796a06bed6b": {
          "model_module": "@jupyter-widgets/controls",
          "model_name": "HBoxModel",
          "model_module_version": "1.5.0",
          "state": {
            "_dom_classes": [],
            "_model_module": "@jupyter-widgets/controls",
            "_model_module_version": "1.5.0",
            "_model_name": "HBoxModel",
            "_view_count": null,
            "_view_module": "@jupyter-widgets/controls",
            "_view_module_version": "1.5.0",
            "_view_name": "HBoxView",
            "box_style": "",
            "children": [
              "IPY_MODEL_10628c5fc3af4e659ab9e32f978b9722",
              "IPY_MODEL_4562ea9f5ff142eba45d96ca6a8ba008",
              "IPY_MODEL_16dae9dfffde4c6db47402679c0b2522"
            ],
            "layout": "IPY_MODEL_efde7507a215430eaaa5b3c841c80447"
          }
        },
        "10628c5fc3af4e659ab9e32f978b9722": {
          "model_module": "@jupyter-widgets/controls",
          "model_name": "HTMLModel",
          "model_module_version": "1.5.0",
          "state": {
            "_dom_classes": [],
            "_model_module": "@jupyter-widgets/controls",
            "_model_module_version": "1.5.0",
            "_model_name": "HTMLModel",
            "_view_count": null,
            "_view_module": "@jupyter-widgets/controls",
            "_view_module_version": "1.5.0",
            "_view_name": "HTMLView",
            "description": "",
            "description_tooltip": null,
            "layout": "IPY_MODEL_a4122eeeda25425ba1725e988231d85a",
            "placeholder": "​",
            "style": "IPY_MODEL_aff072ea37024b01864e8d5497cd9fd6",
            "value": "100%"
          }
        },
        "4562ea9f5ff142eba45d96ca6a8ba008": {
          "model_module": "@jupyter-widgets/controls",
          "model_name": "FloatProgressModel",
          "model_module_version": "1.5.0",
          "state": {
            "_dom_classes": [],
            "_model_module": "@jupyter-widgets/controls",
            "_model_module_version": "1.5.0",
            "_model_name": "FloatProgressModel",
            "_view_count": null,
            "_view_module": "@jupyter-widgets/controls",
            "_view_module_version": "1.5.0",
            "_view_name": "ProgressView",
            "bar_style": "success",
            "description": "",
            "description_tooltip": null,
            "layout": "IPY_MODEL_bd07da6bb17d451c93b11c2ab04b0b35",
            "max": 1200,
            "min": 0,
            "orientation": "horizontal",
            "style": "IPY_MODEL_fddf6f234e2445d4abbbc9aa615431de",
            "value": 1200
          }
        },
        "16dae9dfffde4c6db47402679c0b2522": {
          "model_module": "@jupyter-widgets/controls",
          "model_name": "HTMLModel",
          "model_module_version": "1.5.0",
          "state": {
            "_dom_classes": [],
            "_model_module": "@jupyter-widgets/controls",
            "_model_module_version": "1.5.0",
            "_model_name": "HTMLModel",
            "_view_count": null,
            "_view_module": "@jupyter-widgets/controls",
            "_view_module_version": "1.5.0",
            "_view_name": "HTMLView",
            "description": "",
            "description_tooltip": null,
            "layout": "IPY_MODEL_34f0189bf9cc4794a85a0e7056d24181",
            "placeholder": "​",
            "style": "IPY_MODEL_2edbc37995c34222816783e8000d62e6",
            "value": " 1200/1200 [00:10&lt;00:00, 118.17ex/s]"
          }
        },
        "efde7507a215430eaaa5b3c841c80447": {
          "model_module": "@jupyter-widgets/base",
          "model_name": "LayoutModel",
          "model_module_version": "1.2.0",
          "state": {
            "_model_module": "@jupyter-widgets/base",
            "_model_module_version": "1.2.0",
            "_model_name": "LayoutModel",
            "_view_count": null,
            "_view_module": "@jupyter-widgets/base",
            "_view_module_version": "1.2.0",
            "_view_name": "LayoutView",
            "align_content": null,
            "align_items": null,
            "align_self": null,
            "border": null,
            "bottom": null,
            "display": null,
            "flex": null,
            "flex_flow": null,
            "grid_area": null,
            "grid_auto_columns": null,
            "grid_auto_flow": null,
            "grid_auto_rows": null,
            "grid_column": null,
            "grid_gap": null,
            "grid_row": null,
            "grid_template_areas": null,
            "grid_template_columns": null,
            "grid_template_rows": null,
            "height": null,
            "justify_content": null,
            "justify_items": null,
            "left": null,
            "margin": null,
            "max_height": null,
            "max_width": null,
            "min_height": null,
            "min_width": null,
            "object_fit": null,
            "object_position": null,
            "order": null,
            "overflow": null,
            "overflow_x": null,
            "overflow_y": null,
            "padding": null,
            "right": null,
            "top": null,
            "visibility": null,
            "width": null
          }
        },
        "a4122eeeda25425ba1725e988231d85a": {
          "model_module": "@jupyter-widgets/base",
          "model_name": "LayoutModel",
          "model_module_version": "1.2.0",
          "state": {
            "_model_module": "@jupyter-widgets/base",
            "_model_module_version": "1.2.0",
            "_model_name": "LayoutModel",
            "_view_count": null,
            "_view_module": "@jupyter-widgets/base",
            "_view_module_version": "1.2.0",
            "_view_name": "LayoutView",
            "align_content": null,
            "align_items": null,
            "align_self": null,
            "border": null,
            "bottom": null,
            "display": null,
            "flex": null,
            "flex_flow": null,
            "grid_area": null,
            "grid_auto_columns": null,
            "grid_auto_flow": null,
            "grid_auto_rows": null,
            "grid_column": null,
            "grid_gap": null,
            "grid_row": null,
            "grid_template_areas": null,
            "grid_template_columns": null,
            "grid_template_rows": null,
            "height": null,
            "justify_content": null,
            "justify_items": null,
            "left": null,
            "margin": null,
            "max_height": null,
            "max_width": null,
            "min_height": null,
            "min_width": null,
            "object_fit": null,
            "object_position": null,
            "order": null,
            "overflow": null,
            "overflow_x": null,
            "overflow_y": null,
            "padding": null,
            "right": null,
            "top": null,
            "visibility": null,
            "width": null
          }
        },
        "aff072ea37024b01864e8d5497cd9fd6": {
          "model_module": "@jupyter-widgets/controls",
          "model_name": "DescriptionStyleModel",
          "model_module_version": "1.5.0",
          "state": {
            "_model_module": "@jupyter-widgets/controls",
            "_model_module_version": "1.5.0",
            "_model_name": "DescriptionStyleModel",
            "_view_count": null,
            "_view_module": "@jupyter-widgets/base",
            "_view_module_version": "1.2.0",
            "_view_name": "StyleView",
            "description_width": ""
          }
        },
        "bd07da6bb17d451c93b11c2ab04b0b35": {
          "model_module": "@jupyter-widgets/base",
          "model_name": "LayoutModel",
          "model_module_version": "1.2.0",
          "state": {
            "_model_module": "@jupyter-widgets/base",
            "_model_module_version": "1.2.0",
            "_model_name": "LayoutModel",
            "_view_count": null,
            "_view_module": "@jupyter-widgets/base",
            "_view_module_version": "1.2.0",
            "_view_name": "LayoutView",
            "align_content": null,
            "align_items": null,
            "align_self": null,
            "border": null,
            "bottom": null,
            "display": null,
            "flex": null,
            "flex_flow": null,
            "grid_area": null,
            "grid_auto_columns": null,
            "grid_auto_flow": null,
            "grid_auto_rows": null,
            "grid_column": null,
            "grid_gap": null,
            "grid_row": null,
            "grid_template_areas": null,
            "grid_template_columns": null,
            "grid_template_rows": null,
            "height": null,
            "justify_content": null,
            "justify_items": null,
            "left": null,
            "margin": null,
            "max_height": null,
            "max_width": null,
            "min_height": null,
            "min_width": null,
            "object_fit": null,
            "object_position": null,
            "order": null,
            "overflow": null,
            "overflow_x": null,
            "overflow_y": null,
            "padding": null,
            "right": null,
            "top": null,
            "visibility": null,
            "width": null
          }
        },
        "fddf6f234e2445d4abbbc9aa615431de": {
          "model_module": "@jupyter-widgets/controls",
          "model_name": "ProgressStyleModel",
          "model_module_version": "1.5.0",
          "state": {
            "_model_module": "@jupyter-widgets/controls",
            "_model_module_version": "1.5.0",
            "_model_name": "ProgressStyleModel",
            "_view_count": null,
            "_view_module": "@jupyter-widgets/base",
            "_view_module_version": "1.2.0",
            "_view_name": "StyleView",
            "bar_color": null,
            "description_width": ""
          }
        },
        "34f0189bf9cc4794a85a0e7056d24181": {
          "model_module": "@jupyter-widgets/base",
          "model_name": "LayoutModel",
          "model_module_version": "1.2.0",
          "state": {
            "_model_module": "@jupyter-widgets/base",
            "_model_module_version": "1.2.0",
            "_model_name": "LayoutModel",
            "_view_count": null,
            "_view_module": "@jupyter-widgets/base",
            "_view_module_version": "1.2.0",
            "_view_name": "LayoutView",
            "align_content": null,
            "align_items": null,
            "align_self": null,
            "border": null,
            "bottom": null,
            "display": null,
            "flex": null,
            "flex_flow": null,
            "grid_area": null,
            "grid_auto_columns": null,
            "grid_auto_flow": null,
            "grid_auto_rows": null,
            "grid_column": null,
            "grid_gap": null,
            "grid_row": null,
            "grid_template_areas": null,
            "grid_template_columns": null,
            "grid_template_rows": null,
            "height": null,
            "justify_content": null,
            "justify_items": null,
            "left": null,
            "margin": null,
            "max_height": null,
            "max_width": null,
            "min_height": null,
            "min_width": null,
            "object_fit": null,
            "object_position": null,
            "order": null,
            "overflow": null,
            "overflow_x": null,
            "overflow_y": null,
            "padding": null,
            "right": null,
            "top": null,
            "visibility": null,
            "width": null
          }
        },
        "2edbc37995c34222816783e8000d62e6": {
          "model_module": "@jupyter-widgets/controls",
          "model_name": "DescriptionStyleModel",
          "model_module_version": "1.5.0",
          "state": {
            "_model_module": "@jupyter-widgets/controls",
            "_model_module_version": "1.5.0",
            "_model_name": "DescriptionStyleModel",
            "_view_count": null,
            "_view_module": "@jupyter-widgets/base",
            "_view_module_version": "1.2.0",
            "_view_name": "StyleView",
            "description_width": ""
          }
        },
        "0a1aeca442a84cdeaaac2e823bc32400": {
          "model_module": "@jupyter-widgets/controls",
          "model_name": "HBoxModel",
          "model_module_version": "1.5.0",
          "state": {
            "_dom_classes": [],
            "_model_module": "@jupyter-widgets/controls",
            "_model_module_version": "1.5.0",
            "_model_name": "HBoxModel",
            "_view_count": null,
            "_view_module": "@jupyter-widgets/controls",
            "_view_module_version": "1.5.0",
            "_view_name": "HBoxView",
            "box_style": "",
            "children": [
              "IPY_MODEL_2e55b4aed3644b199bd103ed8445636f",
              "IPY_MODEL_d55d9ab579b04940ad6c80684ac8c443",
              "IPY_MODEL_fc98c598c1f5413780141697c50266ec"
            ],
            "layout": "IPY_MODEL_12e73ab598f24c70a17bf5c7553b9afd"
          }
        },
        "2e55b4aed3644b199bd103ed8445636f": {
          "model_module": "@jupyter-widgets/controls",
          "model_name": "HTMLModel",
          "model_module_version": "1.5.0",
          "state": {
            "_dom_classes": [],
            "_model_module": "@jupyter-widgets/controls",
            "_model_module_version": "1.5.0",
            "_model_name": "HTMLModel",
            "_view_count": null,
            "_view_module": "@jupyter-widgets/controls",
            "_view_module_version": "1.5.0",
            "_view_name": "HTMLView",
            "description": "",
            "description_tooltip": null,
            "layout": "IPY_MODEL_ec939b12450b4a0785ad73d6099bcafb",
            "placeholder": "​",
            "style": "IPY_MODEL_535e1d8ccd264d42af19582e71e4f87a",
            "value": "100%"
          }
        },
        "d55d9ab579b04940ad6c80684ac8c443": {
          "model_module": "@jupyter-widgets/controls",
          "model_name": "FloatProgressModel",
          "model_module_version": "1.5.0",
          "state": {
            "_dom_classes": [],
            "_model_module": "@jupyter-widgets/controls",
            "_model_module_version": "1.5.0",
            "_model_name": "FloatProgressModel",
            "_view_count": null,
            "_view_module": "@jupyter-widgets/controls",
            "_view_module_version": "1.5.0",
            "_view_name": "ProgressView",
            "bar_style": "success",
            "description": "",
            "description_tooltip": null,
            "layout": "IPY_MODEL_dc7dd55305fd470e8e7b044bb8bb1096",
            "max": 450,
            "min": 0,
            "orientation": "horizontal",
            "style": "IPY_MODEL_e1e1ecd5699b4f01a31df66349494115",
            "value": 450
          }
        },
        "fc98c598c1f5413780141697c50266ec": {
          "model_module": "@jupyter-widgets/controls",
          "model_name": "HTMLModel",
          "model_module_version": "1.5.0",
          "state": {
            "_dom_classes": [],
            "_model_module": "@jupyter-widgets/controls",
            "_model_module_version": "1.5.0",
            "_model_name": "HTMLModel",
            "_view_count": null,
            "_view_module": "@jupyter-widgets/controls",
            "_view_module_version": "1.5.0",
            "_view_name": "HTMLView",
            "description": "",
            "description_tooltip": null,
            "layout": "IPY_MODEL_0a031f0c77944d6abfeff229818f9ad0",
            "placeholder": "​",
            "style": "IPY_MODEL_d99bf671688c464e8259a0e9ddd60fe5",
            "value": " 450/450 [04:33&lt;00:00,  1.74ba/s]"
          }
        },
        "12e73ab598f24c70a17bf5c7553b9afd": {
          "model_module": "@jupyter-widgets/base",
          "model_name": "LayoutModel",
          "model_module_version": "1.2.0",
          "state": {
            "_model_module": "@jupyter-widgets/base",
            "_model_module_version": "1.2.0",
            "_model_name": "LayoutModel",
            "_view_count": null,
            "_view_module": "@jupyter-widgets/base",
            "_view_module_version": "1.2.0",
            "_view_name": "LayoutView",
            "align_content": null,
            "align_items": null,
            "align_self": null,
            "border": null,
            "bottom": null,
            "display": null,
            "flex": null,
            "flex_flow": null,
            "grid_area": null,
            "grid_auto_columns": null,
            "grid_auto_flow": null,
            "grid_auto_rows": null,
            "grid_column": null,
            "grid_gap": null,
            "grid_row": null,
            "grid_template_areas": null,
            "grid_template_columns": null,
            "grid_template_rows": null,
            "height": null,
            "justify_content": null,
            "justify_items": null,
            "left": null,
            "margin": null,
            "max_height": null,
            "max_width": null,
            "min_height": null,
            "min_width": null,
            "object_fit": null,
            "object_position": null,
            "order": null,
            "overflow": null,
            "overflow_x": null,
            "overflow_y": null,
            "padding": null,
            "right": null,
            "top": null,
            "visibility": null,
            "width": null
          }
        },
        "ec939b12450b4a0785ad73d6099bcafb": {
          "model_module": "@jupyter-widgets/base",
          "model_name": "LayoutModel",
          "model_module_version": "1.2.0",
          "state": {
            "_model_module": "@jupyter-widgets/base",
            "_model_module_version": "1.2.0",
            "_model_name": "LayoutModel",
            "_view_count": null,
            "_view_module": "@jupyter-widgets/base",
            "_view_module_version": "1.2.0",
            "_view_name": "LayoutView",
            "align_content": null,
            "align_items": null,
            "align_self": null,
            "border": null,
            "bottom": null,
            "display": null,
            "flex": null,
            "flex_flow": null,
            "grid_area": null,
            "grid_auto_columns": null,
            "grid_auto_flow": null,
            "grid_auto_rows": null,
            "grid_column": null,
            "grid_gap": null,
            "grid_row": null,
            "grid_template_areas": null,
            "grid_template_columns": null,
            "grid_template_rows": null,
            "height": null,
            "justify_content": null,
            "justify_items": null,
            "left": null,
            "margin": null,
            "max_height": null,
            "max_width": null,
            "min_height": null,
            "min_width": null,
            "object_fit": null,
            "object_position": null,
            "order": null,
            "overflow": null,
            "overflow_x": null,
            "overflow_y": null,
            "padding": null,
            "right": null,
            "top": null,
            "visibility": null,
            "width": null
          }
        },
        "535e1d8ccd264d42af19582e71e4f87a": {
          "model_module": "@jupyter-widgets/controls",
          "model_name": "DescriptionStyleModel",
          "model_module_version": "1.5.0",
          "state": {
            "_model_module": "@jupyter-widgets/controls",
            "_model_module_version": "1.5.0",
            "_model_name": "DescriptionStyleModel",
            "_view_count": null,
            "_view_module": "@jupyter-widgets/base",
            "_view_module_version": "1.2.0",
            "_view_name": "StyleView",
            "description_width": ""
          }
        },
        "dc7dd55305fd470e8e7b044bb8bb1096": {
          "model_module": "@jupyter-widgets/base",
          "model_name": "LayoutModel",
          "model_module_version": "1.2.0",
          "state": {
            "_model_module": "@jupyter-widgets/base",
            "_model_module_version": "1.2.0",
            "_model_name": "LayoutModel",
            "_view_count": null,
            "_view_module": "@jupyter-widgets/base",
            "_view_module_version": "1.2.0",
            "_view_name": "LayoutView",
            "align_content": null,
            "align_items": null,
            "align_self": null,
            "border": null,
            "bottom": null,
            "display": null,
            "flex": null,
            "flex_flow": null,
            "grid_area": null,
            "grid_auto_columns": null,
            "grid_auto_flow": null,
            "grid_auto_rows": null,
            "grid_column": null,
            "grid_gap": null,
            "grid_row": null,
            "grid_template_areas": null,
            "grid_template_columns": null,
            "grid_template_rows": null,
            "height": null,
            "justify_content": null,
            "justify_items": null,
            "left": null,
            "margin": null,
            "max_height": null,
            "max_width": null,
            "min_height": null,
            "min_width": null,
            "object_fit": null,
            "object_position": null,
            "order": null,
            "overflow": null,
            "overflow_x": null,
            "overflow_y": null,
            "padding": null,
            "right": null,
            "top": null,
            "visibility": null,
            "width": null
          }
        },
        "e1e1ecd5699b4f01a31df66349494115": {
          "model_module": "@jupyter-widgets/controls",
          "model_name": "ProgressStyleModel",
          "model_module_version": "1.5.0",
          "state": {
            "_model_module": "@jupyter-widgets/controls",
            "_model_module_version": "1.5.0",
            "_model_name": "ProgressStyleModel",
            "_view_count": null,
            "_view_module": "@jupyter-widgets/base",
            "_view_module_version": "1.2.0",
            "_view_name": "StyleView",
            "bar_color": null,
            "description_width": ""
          }
        },
        "0a031f0c77944d6abfeff229818f9ad0": {
          "model_module": "@jupyter-widgets/base",
          "model_name": "LayoutModel",
          "model_module_version": "1.2.0",
          "state": {
            "_model_module": "@jupyter-widgets/base",
            "_model_module_version": "1.2.0",
            "_model_name": "LayoutModel",
            "_view_count": null,
            "_view_module": "@jupyter-widgets/base",
            "_view_module_version": "1.2.0",
            "_view_name": "LayoutView",
            "align_content": null,
            "align_items": null,
            "align_self": null,
            "border": null,
            "bottom": null,
            "display": null,
            "flex": null,
            "flex_flow": null,
            "grid_area": null,
            "grid_auto_columns": null,
            "grid_auto_flow": null,
            "grid_auto_rows": null,
            "grid_column": null,
            "grid_gap": null,
            "grid_row": null,
            "grid_template_areas": null,
            "grid_template_columns": null,
            "grid_template_rows": null,
            "height": null,
            "justify_content": null,
            "justify_items": null,
            "left": null,
            "margin": null,
            "max_height": null,
            "max_width": null,
            "min_height": null,
            "min_width": null,
            "object_fit": null,
            "object_position": null,
            "order": null,
            "overflow": null,
            "overflow_x": null,
            "overflow_y": null,
            "padding": null,
            "right": null,
            "top": null,
            "visibility": null,
            "width": null
          }
        },
        "d99bf671688c464e8259a0e9ddd60fe5": {
          "model_module": "@jupyter-widgets/controls",
          "model_name": "DescriptionStyleModel",
          "model_module_version": "1.5.0",
          "state": {
            "_model_module": "@jupyter-widgets/controls",
            "_model_module_version": "1.5.0",
            "_model_name": "DescriptionStyleModel",
            "_view_count": null,
            "_view_module": "@jupyter-widgets/base",
            "_view_module_version": "1.2.0",
            "_view_name": "StyleView",
            "description_width": ""
          }
        },
        "8ef29305d63d4a0894b4721d19ec458f": {
          "model_module": "@jupyter-widgets/controls",
          "model_name": "HBoxModel",
          "model_module_version": "1.5.0",
          "state": {
            "_dom_classes": [],
            "_model_module": "@jupyter-widgets/controls",
            "_model_module_version": "1.5.0",
            "_model_name": "HBoxModel",
            "_view_count": null,
            "_view_module": "@jupyter-widgets/controls",
            "_view_module_version": "1.5.0",
            "_view_name": "HBoxView",
            "box_style": "",
            "children": [
              "IPY_MODEL_574ef12b71a04265af52c1c8d6efb40f",
              "IPY_MODEL_b9ed94af878144ef8c18aa44b132a81c",
              "IPY_MODEL_8d96561727494385b4e2f933f3660ad2"
            ],
            "layout": "IPY_MODEL_eb9c8da22deb4359a4a733fc91bf745e"
          }
        },
        "574ef12b71a04265af52c1c8d6efb40f": {
          "model_module": "@jupyter-widgets/controls",
          "model_name": "HTMLModel",
          "model_module_version": "1.5.0",
          "state": {
            "_dom_classes": [],
            "_model_module": "@jupyter-widgets/controls",
            "_model_module_version": "1.5.0",
            "_model_name": "HTMLModel",
            "_view_count": null,
            "_view_module": "@jupyter-widgets/controls",
            "_view_module_version": "1.5.0",
            "_view_name": "HTMLView",
            "description": "",
            "description_tooltip": null,
            "layout": "IPY_MODEL_38560a547c0e41a49fe79096a7e387c5",
            "placeholder": "​",
            "style": "IPY_MODEL_e2f82ed9e69b48528f949564870f2622",
            "value": "100%"
          }
        },
        "b9ed94af878144ef8c18aa44b132a81c": {
          "model_module": "@jupyter-widgets/controls",
          "model_name": "FloatProgressModel",
          "model_module_version": "1.5.0",
          "state": {
            "_dom_classes": [],
            "_model_module": "@jupyter-widgets/controls",
            "_model_module_version": "1.5.0",
            "_model_name": "FloatProgressModel",
            "_view_count": null,
            "_view_module": "@jupyter-widgets/controls",
            "_view_module_version": "1.5.0",
            "_view_name": "ProgressView",
            "bar_style": "success",
            "description": "",
            "description_tooltip": null,
            "layout": "IPY_MODEL_b05d99aa5d9647b8b46f08642f1e223e",
            "max": 75,
            "min": 0,
            "orientation": "horizontal",
            "style": "IPY_MODEL_e877e480840142769b60ddc85abd1153",
            "value": 75
          }
        },
        "8d96561727494385b4e2f933f3660ad2": {
          "model_module": "@jupyter-widgets/controls",
          "model_name": "HTMLModel",
          "model_module_version": "1.5.0",
          "state": {
            "_dom_classes": [],
            "_model_module": "@jupyter-widgets/controls",
            "_model_module_version": "1.5.0",
            "_model_name": "HTMLModel",
            "_view_count": null,
            "_view_module": "@jupyter-widgets/controls",
            "_view_module_version": "1.5.0",
            "_view_name": "HTMLView",
            "description": "",
            "description_tooltip": null,
            "layout": "IPY_MODEL_454a98f04ed14fc0b5776e4503661664",
            "placeholder": "​",
            "style": "IPY_MODEL_633669812b954e1587cf498a7a792bc7",
            "value": " 75/75 [00:45&lt;00:00,  1.72ba/s]"
          }
        },
        "eb9c8da22deb4359a4a733fc91bf745e": {
          "model_module": "@jupyter-widgets/base",
          "model_name": "LayoutModel",
          "model_module_version": "1.2.0",
          "state": {
            "_model_module": "@jupyter-widgets/base",
            "_model_module_version": "1.2.0",
            "_model_name": "LayoutModel",
            "_view_count": null,
            "_view_module": "@jupyter-widgets/base",
            "_view_module_version": "1.2.0",
            "_view_name": "LayoutView",
            "align_content": null,
            "align_items": null,
            "align_self": null,
            "border": null,
            "bottom": null,
            "display": null,
            "flex": null,
            "flex_flow": null,
            "grid_area": null,
            "grid_auto_columns": null,
            "grid_auto_flow": null,
            "grid_auto_rows": null,
            "grid_column": null,
            "grid_gap": null,
            "grid_row": null,
            "grid_template_areas": null,
            "grid_template_columns": null,
            "grid_template_rows": null,
            "height": null,
            "justify_content": null,
            "justify_items": null,
            "left": null,
            "margin": null,
            "max_height": null,
            "max_width": null,
            "min_height": null,
            "min_width": null,
            "object_fit": null,
            "object_position": null,
            "order": null,
            "overflow": null,
            "overflow_x": null,
            "overflow_y": null,
            "padding": null,
            "right": null,
            "top": null,
            "visibility": null,
            "width": null
          }
        },
        "38560a547c0e41a49fe79096a7e387c5": {
          "model_module": "@jupyter-widgets/base",
          "model_name": "LayoutModel",
          "model_module_version": "1.2.0",
          "state": {
            "_model_module": "@jupyter-widgets/base",
            "_model_module_version": "1.2.0",
            "_model_name": "LayoutModel",
            "_view_count": null,
            "_view_module": "@jupyter-widgets/base",
            "_view_module_version": "1.2.0",
            "_view_name": "LayoutView",
            "align_content": null,
            "align_items": null,
            "align_self": null,
            "border": null,
            "bottom": null,
            "display": null,
            "flex": null,
            "flex_flow": null,
            "grid_area": null,
            "grid_auto_columns": null,
            "grid_auto_flow": null,
            "grid_auto_rows": null,
            "grid_column": null,
            "grid_gap": null,
            "grid_row": null,
            "grid_template_areas": null,
            "grid_template_columns": null,
            "grid_template_rows": null,
            "height": null,
            "justify_content": null,
            "justify_items": null,
            "left": null,
            "margin": null,
            "max_height": null,
            "max_width": null,
            "min_height": null,
            "min_width": null,
            "object_fit": null,
            "object_position": null,
            "order": null,
            "overflow": null,
            "overflow_x": null,
            "overflow_y": null,
            "padding": null,
            "right": null,
            "top": null,
            "visibility": null,
            "width": null
          }
        },
        "e2f82ed9e69b48528f949564870f2622": {
          "model_module": "@jupyter-widgets/controls",
          "model_name": "DescriptionStyleModel",
          "model_module_version": "1.5.0",
          "state": {
            "_model_module": "@jupyter-widgets/controls",
            "_model_module_version": "1.5.0",
            "_model_name": "DescriptionStyleModel",
            "_view_count": null,
            "_view_module": "@jupyter-widgets/base",
            "_view_module_version": "1.2.0",
            "_view_name": "StyleView",
            "description_width": ""
          }
        },
        "b05d99aa5d9647b8b46f08642f1e223e": {
          "model_module": "@jupyter-widgets/base",
          "model_name": "LayoutModel",
          "model_module_version": "1.2.0",
          "state": {
            "_model_module": "@jupyter-widgets/base",
            "_model_module_version": "1.2.0",
            "_model_name": "LayoutModel",
            "_view_count": null,
            "_view_module": "@jupyter-widgets/base",
            "_view_module_version": "1.2.0",
            "_view_name": "LayoutView",
            "align_content": null,
            "align_items": null,
            "align_self": null,
            "border": null,
            "bottom": null,
            "display": null,
            "flex": null,
            "flex_flow": null,
            "grid_area": null,
            "grid_auto_columns": null,
            "grid_auto_flow": null,
            "grid_auto_rows": null,
            "grid_column": null,
            "grid_gap": null,
            "grid_row": null,
            "grid_template_areas": null,
            "grid_template_columns": null,
            "grid_template_rows": null,
            "height": null,
            "justify_content": null,
            "justify_items": null,
            "left": null,
            "margin": null,
            "max_height": null,
            "max_width": null,
            "min_height": null,
            "min_width": null,
            "object_fit": null,
            "object_position": null,
            "order": null,
            "overflow": null,
            "overflow_x": null,
            "overflow_y": null,
            "padding": null,
            "right": null,
            "top": null,
            "visibility": null,
            "width": null
          }
        },
        "e877e480840142769b60ddc85abd1153": {
          "model_module": "@jupyter-widgets/controls",
          "model_name": "ProgressStyleModel",
          "model_module_version": "1.5.0",
          "state": {
            "_model_module": "@jupyter-widgets/controls",
            "_model_module_version": "1.5.0",
            "_model_name": "ProgressStyleModel",
            "_view_count": null,
            "_view_module": "@jupyter-widgets/base",
            "_view_module_version": "1.2.0",
            "_view_name": "StyleView",
            "bar_color": null,
            "description_width": ""
          }
        },
        "454a98f04ed14fc0b5776e4503661664": {
          "model_module": "@jupyter-widgets/base",
          "model_name": "LayoutModel",
          "model_module_version": "1.2.0",
          "state": {
            "_model_module": "@jupyter-widgets/base",
            "_model_module_version": "1.2.0",
            "_model_name": "LayoutModel",
            "_view_count": null,
            "_view_module": "@jupyter-widgets/base",
            "_view_module_version": "1.2.0",
            "_view_name": "LayoutView",
            "align_content": null,
            "align_items": null,
            "align_self": null,
            "border": null,
            "bottom": null,
            "display": null,
            "flex": null,
            "flex_flow": null,
            "grid_area": null,
            "grid_auto_columns": null,
            "grid_auto_flow": null,
            "grid_auto_rows": null,
            "grid_column": null,
            "grid_gap": null,
            "grid_row": null,
            "grid_template_areas": null,
            "grid_template_columns": null,
            "grid_template_rows": null,
            "height": null,
            "justify_content": null,
            "justify_items": null,
            "left": null,
            "margin": null,
            "max_height": null,
            "max_width": null,
            "min_height": null,
            "min_width": null,
            "object_fit": null,
            "object_position": null,
            "order": null,
            "overflow": null,
            "overflow_x": null,
            "overflow_y": null,
            "padding": null,
            "right": null,
            "top": null,
            "visibility": null,
            "width": null
          }
        },
        "633669812b954e1587cf498a7a792bc7": {
          "model_module": "@jupyter-widgets/controls",
          "model_name": "DescriptionStyleModel",
          "model_module_version": "1.5.0",
          "state": {
            "_model_module": "@jupyter-widgets/controls",
            "_model_module_version": "1.5.0",
            "_model_name": "DescriptionStyleModel",
            "_view_count": null,
            "_view_module": "@jupyter-widgets/base",
            "_view_module_version": "1.2.0",
            "_view_name": "StyleView",
            "description_width": ""
          }
        },
        "8b47aac05fb34b368305ab7684159127": {
          "model_module": "@jupyter-widgets/controls",
          "model_name": "HBoxModel",
          "model_module_version": "1.5.0",
          "state": {
            "_dom_classes": [],
            "_model_module": "@jupyter-widgets/controls",
            "_model_module_version": "1.5.0",
            "_model_name": "HBoxModel",
            "_view_count": null,
            "_view_module": "@jupyter-widgets/controls",
            "_view_module_version": "1.5.0",
            "_view_name": "HBoxView",
            "box_style": "",
            "children": [
              "IPY_MODEL_ca745b24b5eb41519fd7f54d1ba39f05",
              "IPY_MODEL_280a63ba574043a199be29c12af84d53",
              "IPY_MODEL_01e8e685ac734b3b87b7bcb0aa4c4337"
            ],
            "layout": "IPY_MODEL_56c1378c0a2a4b86bdea1752a2ecdc74"
          }
        },
        "ca745b24b5eb41519fd7f54d1ba39f05": {
          "model_module": "@jupyter-widgets/controls",
          "model_name": "HTMLModel",
          "model_module_version": "1.5.0",
          "state": {
            "_dom_classes": [],
            "_model_module": "@jupyter-widgets/controls",
            "_model_module_version": "1.5.0",
            "_model_name": "HTMLModel",
            "_view_count": null,
            "_view_module": "@jupyter-widgets/controls",
            "_view_module_version": "1.5.0",
            "_view_name": "HTMLView",
            "description": "",
            "description_tooltip": null,
            "layout": "IPY_MODEL_0c89890f8cb347249876a71613661417",
            "placeholder": "​",
            "style": "IPY_MODEL_9366f7bd117a45fc808e98918a3bcd22",
            "value": "100%"
          }
        },
        "280a63ba574043a199be29c12af84d53": {
          "model_module": "@jupyter-widgets/controls",
          "model_name": "FloatProgressModel",
          "model_module_version": "1.5.0",
          "state": {
            "_dom_classes": [],
            "_model_module": "@jupyter-widgets/controls",
            "_model_module_version": "1.5.0",
            "_model_name": "FloatProgressModel",
            "_view_count": null,
            "_view_module": "@jupyter-widgets/controls",
            "_view_module_version": "1.5.0",
            "_view_name": "ProgressView",
            "bar_style": "success",
            "description": "",
            "description_tooltip": null,
            "layout": "IPY_MODEL_be3856812edd4d2389804253e1093e0a",
            "max": 75,
            "min": 0,
            "orientation": "horizontal",
            "style": "IPY_MODEL_f6272057a06644f997fe8945a457160b",
            "value": 75
          }
        },
        "01e8e685ac734b3b87b7bcb0aa4c4337": {
          "model_module": "@jupyter-widgets/controls",
          "model_name": "HTMLModel",
          "model_module_version": "1.5.0",
          "state": {
            "_dom_classes": [],
            "_model_module": "@jupyter-widgets/controls",
            "_model_module_version": "1.5.0",
            "_model_name": "HTMLModel",
            "_view_count": null,
            "_view_module": "@jupyter-widgets/controls",
            "_view_module_version": "1.5.0",
            "_view_name": "HTMLView",
            "description": "",
            "description_tooltip": null,
            "layout": "IPY_MODEL_9be15d7c83a44fa8ab9763f7eba59468",
            "placeholder": "​",
            "style": "IPY_MODEL_702f99c63567473c99fabdcd49671ff9",
            "value": " 75/75 [00:45&lt;00:00,  1.63ba/s]"
          }
        },
        "56c1378c0a2a4b86bdea1752a2ecdc74": {
          "model_module": "@jupyter-widgets/base",
          "model_name": "LayoutModel",
          "model_module_version": "1.2.0",
          "state": {
            "_model_module": "@jupyter-widgets/base",
            "_model_module_version": "1.2.0",
            "_model_name": "LayoutModel",
            "_view_count": null,
            "_view_module": "@jupyter-widgets/base",
            "_view_module_version": "1.2.0",
            "_view_name": "LayoutView",
            "align_content": null,
            "align_items": null,
            "align_self": null,
            "border": null,
            "bottom": null,
            "display": null,
            "flex": null,
            "flex_flow": null,
            "grid_area": null,
            "grid_auto_columns": null,
            "grid_auto_flow": null,
            "grid_auto_rows": null,
            "grid_column": null,
            "grid_gap": null,
            "grid_row": null,
            "grid_template_areas": null,
            "grid_template_columns": null,
            "grid_template_rows": null,
            "height": null,
            "justify_content": null,
            "justify_items": null,
            "left": null,
            "margin": null,
            "max_height": null,
            "max_width": null,
            "min_height": null,
            "min_width": null,
            "object_fit": null,
            "object_position": null,
            "order": null,
            "overflow": null,
            "overflow_x": null,
            "overflow_y": null,
            "padding": null,
            "right": null,
            "top": null,
            "visibility": null,
            "width": null
          }
        },
        "0c89890f8cb347249876a71613661417": {
          "model_module": "@jupyter-widgets/base",
          "model_name": "LayoutModel",
          "model_module_version": "1.2.0",
          "state": {
            "_model_module": "@jupyter-widgets/base",
            "_model_module_version": "1.2.0",
            "_model_name": "LayoutModel",
            "_view_count": null,
            "_view_module": "@jupyter-widgets/base",
            "_view_module_version": "1.2.0",
            "_view_name": "LayoutView",
            "align_content": null,
            "align_items": null,
            "align_self": null,
            "border": null,
            "bottom": null,
            "display": null,
            "flex": null,
            "flex_flow": null,
            "grid_area": null,
            "grid_auto_columns": null,
            "grid_auto_flow": null,
            "grid_auto_rows": null,
            "grid_column": null,
            "grid_gap": null,
            "grid_row": null,
            "grid_template_areas": null,
            "grid_template_columns": null,
            "grid_template_rows": null,
            "height": null,
            "justify_content": null,
            "justify_items": null,
            "left": null,
            "margin": null,
            "max_height": null,
            "max_width": null,
            "min_height": null,
            "min_width": null,
            "object_fit": null,
            "object_position": null,
            "order": null,
            "overflow": null,
            "overflow_x": null,
            "overflow_y": null,
            "padding": null,
            "right": null,
            "top": null,
            "visibility": null,
            "width": null
          }
        },
        "9366f7bd117a45fc808e98918a3bcd22": {
          "model_module": "@jupyter-widgets/controls",
          "model_name": "DescriptionStyleModel",
          "model_module_version": "1.5.0",
          "state": {
            "_model_module": "@jupyter-widgets/controls",
            "_model_module_version": "1.5.0",
            "_model_name": "DescriptionStyleModel",
            "_view_count": null,
            "_view_module": "@jupyter-widgets/base",
            "_view_module_version": "1.2.0",
            "_view_name": "StyleView",
            "description_width": ""
          }
        },
        "be3856812edd4d2389804253e1093e0a": {
          "model_module": "@jupyter-widgets/base",
          "model_name": "LayoutModel",
          "model_module_version": "1.2.0",
          "state": {
            "_model_module": "@jupyter-widgets/base",
            "_model_module_version": "1.2.0",
            "_model_name": "LayoutModel",
            "_view_count": null,
            "_view_module": "@jupyter-widgets/base",
            "_view_module_version": "1.2.0",
            "_view_name": "LayoutView",
            "align_content": null,
            "align_items": null,
            "align_self": null,
            "border": null,
            "bottom": null,
            "display": null,
            "flex": null,
            "flex_flow": null,
            "grid_area": null,
            "grid_auto_columns": null,
            "grid_auto_flow": null,
            "grid_auto_rows": null,
            "grid_column": null,
            "grid_gap": null,
            "grid_row": null,
            "grid_template_areas": null,
            "grid_template_columns": null,
            "grid_template_rows": null,
            "height": null,
            "justify_content": null,
            "justify_items": null,
            "left": null,
            "margin": null,
            "max_height": null,
            "max_width": null,
            "min_height": null,
            "min_width": null,
            "object_fit": null,
            "object_position": null,
            "order": null,
            "overflow": null,
            "overflow_x": null,
            "overflow_y": null,
            "padding": null,
            "right": null,
            "top": null,
            "visibility": null,
            "width": null
          }
        },
        "f6272057a06644f997fe8945a457160b": {
          "model_module": "@jupyter-widgets/controls",
          "model_name": "ProgressStyleModel",
          "model_module_version": "1.5.0",
          "state": {
            "_model_module": "@jupyter-widgets/controls",
            "_model_module_version": "1.5.0",
            "_model_name": "ProgressStyleModel",
            "_view_count": null,
            "_view_module": "@jupyter-widgets/base",
            "_view_module_version": "1.2.0",
            "_view_name": "StyleView",
            "bar_color": null,
            "description_width": ""
          }
        },
        "9be15d7c83a44fa8ab9763f7eba59468": {
          "model_module": "@jupyter-widgets/base",
          "model_name": "LayoutModel",
          "model_module_version": "1.2.0",
          "state": {
            "_model_module": "@jupyter-widgets/base",
            "_model_module_version": "1.2.0",
            "_model_name": "LayoutModel",
            "_view_count": null,
            "_view_module": "@jupyter-widgets/base",
            "_view_module_version": "1.2.0",
            "_view_name": "LayoutView",
            "align_content": null,
            "align_items": null,
            "align_self": null,
            "border": null,
            "bottom": null,
            "display": null,
            "flex": null,
            "flex_flow": null,
            "grid_area": null,
            "grid_auto_columns": null,
            "grid_auto_flow": null,
            "grid_auto_rows": null,
            "grid_column": null,
            "grid_gap": null,
            "grid_row": null,
            "grid_template_areas": null,
            "grid_template_columns": null,
            "grid_template_rows": null,
            "height": null,
            "justify_content": null,
            "justify_items": null,
            "left": null,
            "margin": null,
            "max_height": null,
            "max_width": null,
            "min_height": null,
            "min_width": null,
            "object_fit": null,
            "object_position": null,
            "order": null,
            "overflow": null,
            "overflow_x": null,
            "overflow_y": null,
            "padding": null,
            "right": null,
            "top": null,
            "visibility": null,
            "width": null
          }
        },
        "702f99c63567473c99fabdcd49671ff9": {
          "model_module": "@jupyter-widgets/controls",
          "model_name": "DescriptionStyleModel",
          "model_module_version": "1.5.0",
          "state": {
            "_model_module": "@jupyter-widgets/controls",
            "_model_module_version": "1.5.0",
            "_model_name": "DescriptionStyleModel",
            "_view_count": null,
            "_view_module": "@jupyter-widgets/base",
            "_view_module_version": "1.2.0",
            "_view_name": "StyleView",
            "description_width": ""
          }
        }
      }
    },
    "accelerator": "GPU"
  },
  "nbformat": 4,
  "nbformat_minor": 0
}